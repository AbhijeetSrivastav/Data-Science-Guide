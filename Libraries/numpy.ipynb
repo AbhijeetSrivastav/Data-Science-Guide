{
 "cells": [
  {
   "cell_type": "markdown",
   "metadata": {},
   "source": [
    "# Numpy"
   ]
  },
  {
   "cell_type": "markdown",
   "metadata": {},
   "source": [
    "## 1. Overview"
   ]
  },
  {
   "cell_type": "markdown",
   "metadata": {},
   "source": [
    "### 1.1. Introduction"
   ]
  },
  {
   "cell_type": "markdown",
   "metadata": {},
   "source": [
    "NumPy, short for Numerical Python, is a fundamental library for scientific computing in Python. It provides a powerful and versatile set of tools for working with *multidimensional arrays* and performing various *mathematical operations* on them. \n",
    "\n",
    "**NumPy offers**:\n",
    "* **High-performance arrays:** NumPy arrays, called **ndarrays**, are much faster and more efficient than native Python lists for data storage and manipulation. This makes NumPy ideal for working with large datasets and complex calculations.\n",
    "* **Broad range of mathematical operations:** NumPy includes a vast array of built-in functions for linear algebra, statistics, Fourier transforms, and other mathematical computations. These functions are optimized for vectorized operations, meaning they can operate on entire arrays element-wise, significantly improving performance.\n",
    "* **Automatic broadcasting:** Broadcasting is a powerful feature that allows NumPy to perform operations between arrays of different shapes and sizes. This simplifies calculations and avoids the need for manual data manipulation.\n",
    "* **Random number generation:** NumPy provides powerful tools for generating different types of random numbers, including random samples from various distributions. This is essential for simulations, statistical analysis, and machine learning.\n",
    "* **Integration with other libraries:** NumPy seamlessly integrates with other popular scientific libraries like SciPy, Pandas, and Matplotlib. This allows you to leverage the strengths of each library to build powerful and comprehensive scientific workflows.\n",
    "\n",
    "**Advantage of NumPy:**\n",
    "* **Speed:** NumPy operations are significantly faster than loops over Python lists, making it ideal for large datasets and complex calculations.\n",
    "* **Conciseness:** NumPy provides vectorized operations, allowing you to express complex calculations in concise and readable code.\n",
    "* **Memory efficiency:** NumPy arrays store data efficiently, minimizing memory usage compared to Python lists.\n",
    "* **Interoperability:** NumPy integrates seamlessly with other scientific libraries, enabling powerful workflows."
   ]
  },
  {
   "cell_type": "markdown",
   "metadata": {},
   "source": [
    "### 1.2. History"
   ]
  },
  {
   "cell_type": "markdown",
   "metadata": {},
   "source": [
    "**Early Days (2000s): A Landscape of Fragmented Libraries**\n",
    "\n",
    "* **Numeric:** Developed by Jim Hugunin, it dominated the scene but suffered from limitations and internal conflicts.\n",
    "* **Numarray:** A contender led by Pedro Matiello, offering efficient array manipulation but lacking broader functionality.\n",
    "\n",
    "**Enter Travis Oliphant (2005): Unifying the Forces**\n",
    "\n",
    "Oliphant, a graduate student, envisioned a single, powerful array library. He:\n",
    "- Merged features from Numarray into Numeric: This \"rogue\" move faced initial resistance but laid the groundwork.\n",
    "- Released NumPy 1.0 in 2006: Integrating features from both predecessors, it offered a unified platform for numerical computations.\n",
    "\n",
    "**Evolution and Expansion (2006-Present): A Community-Driven Journey**\n",
    "- Separation from SciPy To avoid unnecessary SciPy dependency, NumPy gained independence, solidifying its identity\n",
    "- Python 3 Support (2011) Opening doors to a wider Python audience\n",
    "- Continuous Development A thriving community of contributors constantly improves efficiency, functionality, and accessibility.\n",
    "\n",
    "**NumPy's Impact: A Pillar of Scientific Computing**\n",
    "- Foundational library: Data science, machine learning, physics, finance, and countless other fields rely on NumPy.\n",
    "- Simplicity and Efficiency: The intuitive syntax and optimized C libraries make NumPy a joy to use.\n",
    "- Open-source spirit: Fosters collaboration, innovation, and continuous improvement."
   ]
  },
  {
   "cell_type": "markdown",
   "metadata": {},
   "source": [
    "### 1.3. Resources"
   ]
  },
  {
   "cell_type": "markdown",
   "metadata": {},
   "source": [
    "- [Book from Travis Oliphant](https://web.mit.edu/dvp/Public/numpybook.pdf)\n",
    "- [Official Website Numpy](https://numpy.org/)"
   ]
  },
  {
   "cell_type": "markdown",
   "metadata": {},
   "source": [
    "### 1.4. Architecture of Numpy"
   ]
  },
  {
   "cell_type": "markdown",
   "metadata": {},
   "source": [
    "**A. Core Data Structure: `ndarray`**\n",
    "\n",
    "* **Memory Layout:**\n",
    "    * Contiguous memory allocation for elements of the same dimension, enabling efficient access and vectorization.\n",
    "    * `C-contiguous` (C style)(elements close in memory for row-major order) or `F-contiguous` (Fortran style)(close for column-major order).\n",
    "    * Custom strides (distance between elements in memory) for flexible data access patterns.\n",
    "* **Metadata:**\n",
    "    * Data type (e.g., `int32`, `float64`).\n",
    "    * Dimensionality (rank, e.g., 1D, 2D).\n",
    "    * Shape: tuple representing size of each dimension.\n",
    "    * Stride: tuple representing byte jumps between elements in each dimension.\n",
    "    * Byte order (native or swapped).\n",
    "    * Read-only flag.\n",
    "* **Operations:**\n",
    "    * Element-wise arithmetic, logical, and comparison operations.\n",
    "    * Broadcasting for automatic size adjustment during element-wise operations.\n",
    "    * Indexing and slicing for accessing specific elements or sub-arrays.\n",
    "    * Fancy indexing with arrays to select elements.\n",
    "    * Aggregations (sum, mean, etc.) across axes.\n",
    "    * Reshaping and transposing.\n",
    "\n",
    "**B. Functionalities:**\n",
    "\n",
    "* **Universal Functions (ufunc):** Efficient vectorized operations applied element-wise on arrays.\n",
    "* **Random Number Generation:** Various distributions and random sampling functionalities.\n",
    "* **Linear Algebra:** Matrix operations, eigendecomposition, solving linear systems.\n",
    "* **Fourier Transforms:** Discrete Fourier Transforms (DFTs) and Fast Fourier Transforms (FFTs).\n",
    "* **Sorting and Searching:** Efficient sorting algorithms for arrays.\n",
    "* **Statistical Functions:** Descriptive statistics, hypothesis testing, etc.\n",
    "\n",
    "**C. Internal Mechanism:**\n",
    "\n",
    "* **C/Fortran Code Integration:** Core routines written in C/Fortran for speed and optimized memory access.\n",
    "* **Python Wrappers:** Python interfaces for easy access and function calls from within Python code.\n",
    "* **External Dependencies:**\n",
    "    * **BLAS (Basic Linear Algebra Subprograms):** Provides optimized routines for basic vector and matrix operations.\n",
    "    * **LAPACK (Linear Algebra PACKage):** Solves systems of linear equations, eigenvalue problems, etc.\n",
    "    * **OpenBLAS, ATLAS, etc.:** Specific implementations of BLAS/LAPACK offering further performance optimizations.\n",
    "\n",
    "**D. Design Principles:**\n",
    "\n",
    "* **Simplicity and Modularity:** Clear separation of concerns between components, facilitating development and maintenance.\n",
    "* **Performance:** Efficient memory layout, vectorization, and optimized routines for fast numerical computations.\n",
    "* **Versatility:** Supports various data types, dimensions, and functionalities for diverse applications.\n",
    "* **Interoperability:** Integrates seamlessly with other scientific libraries like SciPy and Matplotlib."
   ]
  },
  {
   "cell_type": "markdown",
   "metadata": {},
   "source": [
    "### 1.5. Objects in Numpy"
   ]
  },
  {
   "cell_type": "markdown",
   "metadata": {},
   "source": [
    "NumPy provides two fundamental objects: an *N-dimensional array object (ndarray)* and a *universal function object (ufunc)*. \n",
    "There are several other objects in NumPy that are build over these two fundamental objects.\n",
    "\n",
    "**N-dimensional array**\n",
    "\n",
    "An N-dimensional array is a homogeneous collection of “items” indexed using N integers. \n",
    "There are two essential pieces of information that define an N-dimensional array: \n",
    "- **The shape of the array:** a tuple of N integers (one for each dimension) that provides information on how far the index can vary along that dimension.\n",
    "- **The kind of item the array is composed of:** other important information describing an array is the kind of item the array is composed of. Because every ndarray is a homogeneous collection of exactly the same data-type, every item takes up the same size block of memory, and each block of memory in the array is interpreted in exactly the same way. "
   ]
  },
  {
   "cell_type": "markdown",
   "metadata": {},
   "source": [
    "### 1.6. Data-Type descriptors"
   ]
  },
  {
   "cell_type": "markdown",
   "metadata": {},
   "source": [
    "Each item of ndarray takes up a fixed number of bytes. Typically, this fixed number of bytes represents a number (e.g. integer or floating-point). However, this fixed number of bytes could also represent an arbitrary record made up of any collection of other data types.\n",
    "\n",
    "NumPy achieves this flexibility through the use of a data-type (dtype) object. Every array has an associated dtype object which describes the layout of the array data. Every dtype object, in turn, has an associated Python type-object that determines exactly what type of Python object is returned when an element of the array is accessed. The dtype objects are flexible enough to contain references to arrays of other dtype objects and, therefore, can be used to define nested records.  \n",
    "\n",
    "The data-type points to the type-object of the array scalar. An array scalar is returned using the type-object and a particular element\n",
    "of the ndarray. Every dtype object is based on one of 21 built-in dtype objects. These builtin objects allow numeric operations on a wide-variety of integer, floating-point,and complex data types. Associated with each data-type is a Python type object whose instances are array scalars. This type-object can be obtained using the type attribute of the dtype object. \n",
    "\n",
    "This is shown in this here\n",
    "\n",
    "\n",
    "<img src='./Assets/ndarray-dtype.png' width=600 height=200 align='center'>\n",
    "\n",
    "Python typically defines only one data-type of a particular data class. This can be convenient for some applications that don’t need to be concerned with all the ways data can be represented in a computer. For scientific applications, however, this is not always true. As a result, in NumPy, their are 21 different fundamental Python data-type-descriptor objects built-in. These descriptors are mostly based on the\n",
    "types available in the C language that CPython is written in. \n",
    "\n",
    "Most scientific users should be able to use the array-enhanced scalar objects in place of the Python objects. The array-enhanced scalars inherit from the Python objects they can replace and should act like them under all circumstances (except for how errors are handled in math computations)."
   ]
  },
  {
   "cell_type": "markdown",
   "metadata": {},
   "source": [
    "### 1.7. Memory Layout of of ndarray"
   ]
  },
  {
   "cell_type": "markdown",
   "metadata": {},
   "source": [
    "On a fundamental level, an N-dimensional array object is just a one-dimensional sequence of memory with fancy indexing code that maps an N-dimensional index into a one-dimensional index. The one-dimensional index is necessary on some level because that is how memory is addressed in a computer. \n",
    "\n",
    "The fancy indexing, however, can be very helpful for translating our ideas into computer code. This is because many concepts we wish to model on a computer have a natural representation as an N-dimensional array. \n",
    "\n",
    "A complete understanding of how an N-dimensional array is represented in the computer’s memory is only essential for optimizing algorithms operating on general purpose arrays. But, even for the casual user, a general understanding of memory layout will help to explain the use of certain array attributes that may otherwise be mysterious.\n",
    "\n",
    "\n",
    "**A. Contiguous Memory Layout**\n",
    "\n",
    "There is a fundamental ambiguity in how the mapping to a one-dimensional index can take place/\n",
    "\n",
    "Their are two ways in which numpy approaches it:\n",
    "- **C-style** of N-dimensional indexing shown in the figure  the last N-dimensional index “varies the fastest.” In other words, to move through computer memory sequentially, the last index is incremented first, followed by the second-to-last index and so forth. Some of the algorithms in NumPy that deal with N-dimensional arrays work best with this kind of data.\n",
    "- **Fortran-style** of N-dimensional indexing shown in the Figure the first N-dimensional index “varies the fastest.” Thus, to move through computer memory sequentially, the first index is incremented first until it reaches the limit in that dimension, then the second index is incremented and the first index is reset to zero. \n",
    "\n",
    "<img src='./Assets/array-memory-layout.png' width=600 height=200 align='center'>\n",
    "\n",
    "\n",
    "*Note:* \n",
    "- While NumPy can be compiled without the use of a Fortran compiler, several modules of SciPy (available separately) rely on underlying algorithms written in Fortran. Algorithms that work on N-dimensional arrays that are written in Fortran\n",
    "typically expect Fortran-style arrays.\n",
    "-  Which style is in use can be interrogated by the use of the flags attribute which returns a dictionary of the state of array flags.\n",
    "- The two-styles of memory layout for arrays are connected through the transpose operation. Thus, if A is a (contiguous) C-style array, then the same block of memory can be used to represent A^T (A transpose) as a (contiguous) Fortran-style array. \n",
    "\n",
    "\n",
    "**B. Non-contiguous memory layout**\n",
    "\n",
    "When an algorithm in C or Fortran expects an N-dimensional array, this single segment (of a certain fundamental type) is usually what is expected along with the shape N-tuple. With a single-segment of memory representing the array, the one-dimensional index into computer memory can always be computed from the N-dimensional index. This concept is implemented using strides.\n"
   ]
  },
  {
   "cell_type": "markdown",
   "metadata": {},
   "source": [
    "### 1.8. Universal Functions"
   ]
  },
  {
   "cell_type": "markdown",
   "metadata": {},
   "source": [
    "- Universal functions provide wide range of mathematical functions that operate on ndarray.\n",
    "  - Math operations\n",
    "  - Trigonometric functions\n",
    "  - Bit-twiddling functions\n",
    "  - Comparison functions\n",
    "Floating functions\n",
    "- Each universal function (ufunc) is an instance of a general class so that function behavior is the same. All ufuncs perform element-by-element operations over an array or a set of arrays (for multi-input functions).\n",
    "- One important aspect of ufunc behavior is the idea of broadcasting. \n",
    "\n",
    "[Universal Functions Doc](https://numpy.org/doc/stable/reference/ufuncs.html)"
   ]
  },
  {
   "cell_type": "markdown",
   "metadata": {},
   "source": [
    "### 1.9. Broadcasting"
   ]
  },
  {
   "cell_type": "markdown",
   "metadata": {},
   "source": [
    "Broadcasting is a powerful feature in NumPy that allows us to perform arithmetic operations on arrays of different shapes in a convenient and efficient way. When two arrays have different shapes, NumPy attempts to \"broadcast\" them to a common shape so that the operation can be carried out element-wise. \n",
    "\n",
    "\n",
    "**Rules for Broadcasting:**\n",
    "\n",
    "Broadcasting is achieved by replicating elements in a specific way based on certain rules:\n",
    "\n",
    "- **Dimensions compatibility:** Arrays must have compatible dimensions. Dimensions are considered compatible if they are equal or if one of them is 1. A dimension of 1 means that the corresponding array's element will be repeated along that dimension to match the other array's shape.\n",
    "- **Trailing singleton dimensions:** Arrays can have trailing singleton dimensions (dimensions with size 1). These dimensions are treated as if they were equal and broadcast accordingly.\n",
    "- **Matching leading dimensions:** Leading dimensions (dimensions at the beginning of the shape) must match exactly.\n",
    "\n",
    "\n",
    "**Examples:**\n",
    "\n",
    "1. **Scalar and array:**\n",
    "   - `1 + np.array([2, 3, 4])` results in `[3, 4, 5]`, adding 1 to each element.\n",
    "   - `np.sqrt(np.array([4, 9, 16]))` results in `[2., 3., 4.]`, taking the square root of each element.\n",
    "\n",
    "2. **Arrays with compatible shapes:**\n",
    "   - `np.add(np.array([1, 2, 3]), np.array([4, 5, 6]))` results in `[5, 7, 9]`, adding corresponding elements.\n",
    "   - `np.multiply(np.array([[1, 2], [3, 4]]), np.array([5, 10]))` results in `[[5, 10], [15, 20]]`, multiplying corresponding elements.\n",
    "\n",
    "3. **Broadcasting trailing singleton dimensions:**\n",
    "   - `np.multiply(np.array([10]), np.array([[1, 2, 3], [4, 5, 6]]))` results in `[[10, 20, 30], [40, 50, 60]]`, multiplying each element of `[10]` with all elements of `[[1, 2, 3], [4, 5, 6]]`.\n",
    "\n",
    "\n",
    "**Notes:**\n",
    "- Broadcasting avoids explicit loops, making operations efficient.\n",
    "- It's particularly useful for linear algebra and scientific computing.\n",
    "- Broadcasting can sometimes lead to unexpected results if not used carefully.\n",
    "- For complex operations, explicit loops or vectorized functions might be more efficient."
   ]
  },
  {
   "cell_type": "markdown",
   "metadata": {},
   "source": [
    "## 2. Array Objects"
   ]
  },
  {
   "cell_type": "markdown",
   "metadata": {},
   "source": [
    "NumPy provides an N-dimensional array type, the `ndarray`, which describes a collection of “items” of the same type. The items can be indexed using for example N integers.\n",
    "\n",
    "All ndarrays are homogeneous: every item takes up the same size block of memory, and all blocks are interpreted in exactly the same way. How each item in the array is to be interpreted is specified by a separate data-type object, one of which is associated with every array. In addition to basic types (integers, floats, etc.), the data type objects can also represent data structures.\n",
    "\n",
    "An item extracted from an array (e.g., by indexing,) is represented by a Python object whose type is one of the array scalar types built in NumPy. The array scalars allow easy manipulation of also more complicated arrangements of data.\n",
    "\n",
    "This diagram shows the relationship between the three fundamental objects used to describe the data in an array: \n",
    "- 1. the ndarray itself\n",
    "- 2. the data-type object that describes the layout of a single fixed-size element of the array\n",
    "- 3. the array-scalar Python object that is returned when a single element of the array is accessed.\n",
    "\n",
    "<img src='./Assets/ndarray.png' width=600 height=200 align='center'>"
   ]
  },
  {
   "cell_type": "markdown",
   "metadata": {},
   "source": [
    "### 2.1. Ndarray"
   ]
  },
  {
   "cell_type": "markdown",
   "metadata": {},
   "source": [
    "An ndarray is a (usually fixed-size) multidimensional container of items of the same type and size. The number of dimensions and items in an array is defined by its shape, which is a tuple of N non-negative integers that specify the sizes of each dimension. The type of items in the array is specified by a separate data-type object (dtype), one of which is associated with each ndarray."
   ]
  },
  {
   "cell_type": "markdown",
   "metadata": {},
   "source": [
    "`class numpy.ndarray(shape, dtype=float, buffer=None, offset=0, strides=None, order=None)`\n",
    "\n",
    "**Parameters:**\n",
    "- `shape` tuple of ints - Shape of created array.\n",
    "- `dtype` data type - any object that can be interpreted as a numpy data type.\n",
    "- `bufferobject` exposing buffer interface - sed to fill the array with data.\n",
    "- `offsetint` Offset of array data in buffer.\n",
    "- `stridestuple` of ints - Strides of data in memory.\n",
    "- `order`{‘C’, ‘F’} - Row-major (C-style) or column-major (Fortran-style) order."
   ]
  },
  {
   "cell_type": "markdown",
   "metadata": {},
   "source": [
    "#### 2.1.1. Constructing ndarray"
   ]
  },
  {
   "cell_type": "markdown",
   "metadata": {},
   "source": [
    "**From shape or value**\n",
    "- `empty(shape[, dtype, order, like])` Return a new array of given shape and type, without initializing entries.\n",
    "- e`mpty_like(prototype, dtype=None, order='K', subok=True, shape=None)` Return a new array with the same shape and type as a given array.\n",
    "- `eye(N[, M, k, dtype, order, like])` Return a 2-D array with ones on the diagonal and zeros elsewhere.\n",
    "- `identity(n[, dtype, like])` Return the identity array.\n",
    "- `ones(shape[, dtype, order, like])` Return a new array of given shape and type, filled with ones.\n",
    "- `ones_like(a[, dtype, order, subok, shape])` Return an array of ones with the same shape and type as a given array.\n",
    "- `zeros(shape[, dtype, order, like])` Return a new array of given shape and type, filled with zeros.\n",
    "- `zeros_like(a[, dtype, order, subok, shape])` Return an array of zeros with the same shape and type as a given array.\n",
    "- `full(shape, fill_value[, dtype, order, like])` Return a new array of given shape and type, filled with fill_value.\n",
    "- `full_like(a, fill_value, dtype=None, order='K', subok=True, shape=None)` Return a full array with the same shape and type as a given array.\n",
    "\n",
    "\n",
    "**From existing data**\n",
    " - `array(object, dtype=None, *, copy=True, order='K', subok=False, ndmin=0, like=None)` Create an array.\n",
    "- `asarray(a[, dtype, order, like])` Convert the input to an array.\n",
    "- `asanyarray(a[, dtype, order, like])` Convert the input to an ndarray, but pass ndarray subclasses through.\n",
    "- `ascontiguousarray(a[, dtype, like])` Return a contiguous array (ndim >= 1) in memory (C order).\n",
    "- `asmatrix(data[, dtype])` Interpret the input as a matrix.\n",
    "- `copy(a[, order, subok])` Return an array copy of the given object.\n",
    "- `frombuffer(buffer[, dtype, count, offset, like])` Interpret a buffer as a 1-dimensional array.\n",
    "- `from_dlpack(x, /)` Create a NumPy array from an object implementing the __dlpack__ protocol.\n",
    "- `fromfile(file[, dtype, count, sep, offset, like])` Construct an array from data in a text or binary file.\n",
    "- `fromfunction(function, shape, *[, dtype, like])` Construct an array by executing a function over each coordinate.\n",
    "- `fromiter(iter, dtype[, count, like])` Create a new 1-dimensional array from an iterable object.\n",
    "- `fromstring(string[, dtype, count, like])` A new 1-D array initialized from text data in a string.\n",
    "- `loadtxt(fname, dtype=<class 'float'>, comments='#', delimiter=None, converters=None, skiprows=0, usecols=None, unpack=False, ndmin=0, encoding='bytes', max_rows=None, *, quotechar=None, like=None)` Load data from a text file.\n",
    "\n",
    "\n",
    "**Creating record arrays (numpy.rec)**\n",
    "- `numpy.rec` is the preferred alias for numpy.core.records.\n",
    "- `core.records.array(obj, dtype=None, shape=None, offset=0, strides=None, formats=None, names=None, titles=None, aligned=False, byteorder=None, copy=True)` Construct a record array from a wide-variety of objects.\n",
    "- `core.records.fromarrays(arrayList, dtype=None, shape=None, formats=None, names=None, titles=None, aligned=False, byteorder=None)` Create a record array from a (flat) list of arrays\n",
    "- `core.records.fromrecords(recList, dtype=None, shape=None, formats=None, names=None, titles=None, aligned=False, byteorder=None)` Create a recarray from a list of records in text form.\n",
    "- `core.records.fromstring(datastring, dtype=None, shape=None, offset=0, formats=None, names=None, titles=None, aligned=False, byteorder=None)` Create a record array from binary data\n",
    "- `core.records.fromfile(fd, dtype=None, shape=None, offset=0, formats=None, names=None, titles=None, aligned=False, byteorder=None)` Create an array from binary file data\n",
    "- `core.defchararray.array(obj, itemsize=None, copy=True, unicode=None, order=None)`Create a chararray.\n",
    "- `core.defchararray.asarray(obj, itemsize=None, unicode=None, order=None)` Convert the input to a chararray, copying the data only if necessary.\n",
    "\n",
    "\n",
    "**Numerical ranges**\n",
    "- `numpy.arange([start,] stop[, step,][, dtype, like])` Return evenly spaced values within a given interval.\n",
    "- `numpy.linspace(start, stop, num=50, endpoint=True, retstep=False, dtype=None, axis=0)` \n",
    "Return evenly spaced numbers over a specified interval.\n",
    "- `numpy.logspace(start, stop, num=50, endpoint=True, base=10.0, dtype=None, axis=0)` Return numbers spaced evenly on a log scale.\n",
    "- `numpy.geomspace(start, stop, num=50, endpoint=True, dtype=None, axis=0)` Return numbers spaced evenly on a log scale (a geometric progression).\n",
    "- `numpy.meshgrid(*xi[, copy, sparse, indexing])` Return a list of coordinate matrices from coordinate vectors.\n",
    "- `numpy.mgrid` An instance which returns a dense multi-dimensional \"meshgrid\".\n",
    "- `numpy.ogrid` An instance which returns an open multi-dimensional \"meshgrid\".\n",
    "\n",
    "\n",
    "**Building matrices**\n",
    "- `numpy.diag(v[, k])` Extract a diagonal or construct a diagonal array.\n",
    "- `numpy.diagflat(v[, k])` Create a two-dimensional array with the flattened input as a diagonal.\n",
    "- `numpy.tri(N[, M, k, dtype, like])` An array with ones at and below the given diagonal and zeros elsewhere.\n",
    "- `numpy.tril(m[, k])` Lower triangle of an array.\n",
    "- `numpy.triu(m[, k])` Upper triangle of an array.\n",
    "- `numpy.vander(x[, N, increasing])` Generate a Vandermonde matrix.\n",
    "\n",
    "\n",
    "**The Matrix class**\n",
    "- `mat(data[, dtype])` Interpret the input as a matrix.\n",
    "- `bmat(obj[, ldict, gdict])` Build a matrix object from a string, nested sequence, or array.\n",
    "\n",
    "[Docs Reference](https://numpy.org/doc/stable/reference/routines.array-creation.html#routines-array-creation)"
   ]
  },
  {
   "cell_type": "markdown",
   "metadata": {},
   "source": [
    "**Examples**"
   ]
  },
  {
   "cell_type": "code",
   "execution_count": 28,
   "metadata": {},
   "outputs": [],
   "source": [
    "import numpy as np"
   ]
  },
  {
   "cell_type": "code",
   "execution_count": 3,
   "metadata": {},
   "outputs": [],
   "source": [
    "jaw = np.array([2, 20, 90, 45, 60, 100])"
   ]
  },
  {
   "cell_type": "code",
   "execution_count": 9,
   "metadata": {},
   "outputs": [
    {
     "data": {
      "text/plain": [
       "array([[ 2,  4,  8],\n",
       "       [ 6, 20, 20],\n",
       "       [20, 45, 67]])"
      ]
     },
     "execution_count": 9,
     "metadata": {},
     "output_type": "execute_result"
    }
   ],
   "source": [
    "# creating multidimensional array\n",
    "jet = np.array([[2, 4, 8], [6, 20, 20], [20, 45, 67]])\n",
    "jet"
   ]
  },
  {
   "cell_type": "markdown",
   "metadata": {},
   "source": [
    "- From Shape or Value Examples"
   ]
  },
  {
   "cell_type": "code",
   "execution_count": 93,
   "metadata": {},
   "outputs": [
    {
     "data": {
      "text/plain": [
       "array([[209.72222222, 217.42222222, 213.57222222,  33.72222222,\n",
       "         33.72222222, 187.72222222],\n",
       "       [213.57222222, 217.42222222, 209.72222222,  33.72222222,\n",
       "        187.72222222, 187.72222222]])"
      ]
     },
     "execution_count": 93,
     "metadata": {},
     "output_type": "execute_result"
    }
   ],
   "source": [
    "np.empty(shape=(2,6), dtype=float, order='F')"
   ]
  },
  {
   "cell_type": "code",
   "execution_count": 94,
   "metadata": {},
   "outputs": [
    {
     "data": {
      "text/plain": [
       "array([[9.66459622e-312, 9.66459622e-312, 9.66459623e-312],\n",
       "       [9.66459622e-312, 9.66459623e-312, 9.66459623e-312],\n",
       "       [9.66459623e-312, 9.66459623e-312, 9.66459717e-312]])"
      ]
     },
     "execution_count": 94,
     "metadata": {},
     "output_type": "execute_result"
    }
   ],
   "source": [
    "np.empty_like(prototype=jet, dtype=float, order='F')"
   ]
  },
  {
   "cell_type": "code",
   "execution_count": 97,
   "metadata": {},
   "outputs": [
    {
     "data": {
      "text/plain": [
       "array([[1, 0, 0, 0],\n",
       "       [0, 1, 0, 0],\n",
       "       [0, 0, 1, 0]])"
      ]
     },
     "execution_count": 97,
     "metadata": {},
     "output_type": "execute_result"
    }
   ],
   "source": [
    "np.eye(N=3, M=4, dtype='int32')"
   ]
  },
  {
   "cell_type": "code",
   "execution_count": 98,
   "metadata": {},
   "outputs": [
    {
     "data": {
      "text/plain": [
       "array([[1, 0, 0, 0],\n",
       "       [0, 1, 0, 0],\n",
       "       [0, 0, 1, 0],\n",
       "       [0, 0, 0, 1]])"
      ]
     },
     "execution_count": 98,
     "metadata": {},
     "output_type": "execute_result"
    }
   ],
   "source": [
    "np.identity(n=4,dtype='int32')"
   ]
  },
  {
   "cell_type": "code",
   "execution_count": 101,
   "metadata": {},
   "outputs": [
    {
     "data": {
      "text/plain": [
       "array([[1., 1., 1., 1., 1., 1.],\n",
       "       [1., 1., 1., 1., 1., 1.]])"
      ]
     },
     "execution_count": 101,
     "metadata": {},
     "output_type": "execute_result"
    }
   ],
   "source": [
    "np.ones(shape=(2,6), dtype=float, order='F')"
   ]
  },
  {
   "cell_type": "code",
   "execution_count": 103,
   "metadata": {},
   "outputs": [
    {
     "data": {
      "text/plain": [
       "array([[1, 1, 1],\n",
       "       [1, 1, 1],\n",
       "       [1, 1, 1]])"
      ]
     },
     "execution_count": 103,
     "metadata": {},
     "output_type": "execute_result"
    }
   ],
   "source": [
    "np.ones_like(a=jet, dtype='int32', order='F')"
   ]
  },
  {
   "cell_type": "code",
   "execution_count": 106,
   "metadata": {},
   "outputs": [
    {
     "data": {
      "text/plain": [
       "array([[0, 0, 0, 0, 0, 0],\n",
       "       [0, 0, 0, 0, 0, 0]])"
      ]
     },
     "execution_count": 106,
     "metadata": {},
     "output_type": "execute_result"
    }
   ],
   "source": [
    "np.zeros(shape=(2,6), dtype=int, order='F')"
   ]
  },
  {
   "cell_type": "code",
   "execution_count": 107,
   "metadata": {},
   "outputs": [
    {
     "data": {
      "text/plain": [
       "array([[0, 0, 0],\n",
       "       [0, 0, 0],\n",
       "       [0, 0, 0]])"
      ]
     },
     "execution_count": 107,
     "metadata": {},
     "output_type": "execute_result"
    }
   ],
   "source": [
    "np.zeros_like(a=jet, dtype=int, order='F')"
   ]
  },
  {
   "cell_type": "code",
   "execution_count": 108,
   "metadata": {},
   "outputs": [
    {
     "data": {
      "text/plain": [
       "array([[20, 20, 20, 20, 20, 20],\n",
       "       [20, 20, 20, 20, 20, 20]])"
      ]
     },
     "execution_count": 108,
     "metadata": {},
     "output_type": "execute_result"
    }
   ],
   "source": [
    "np.full(shape=(2,6), fill_value=20, dtype=int, order='C')"
   ]
  },
  {
   "cell_type": "code",
   "execution_count": 109,
   "metadata": {},
   "outputs": [
    {
     "data": {
      "text/plain": [
       "array([[20, 20, 20],\n",
       "       [20, 20, 20],\n",
       "       [20, 20, 20]])"
      ]
     },
     "execution_count": 109,
     "metadata": {},
     "output_type": "execute_result"
    }
   ],
   "source": [
    "np.full_like(a=jet, fill_value=20, dtype=int, order='C')"
   ]
  },
  {
   "cell_type": "markdown",
   "metadata": {},
   "source": [
    "- From Existing Data Examples"
   ]
  },
  {
   "cell_type": "code",
   "execution_count": 67,
   "metadata": {},
   "outputs": [
    {
     "data": {
      "text/plain": [
       "array([ 2.,  4.,  6., 10., 20.])"
      ]
     },
     "execution_count": 67,
     "metadata": {},
     "output_type": "execute_result"
    }
   ],
   "source": [
    "np.array([2, 4, 6, 10, 20], dtype='float', order='C')"
   ]
  },
  {
   "cell_type": "code",
   "execution_count": 68,
   "metadata": {},
   "outputs": [
    {
     "data": {
      "text/plain": [
       "array([ 2.,  4.,  6., 10., 20.])"
      ]
     },
     "execution_count": 68,
     "metadata": {},
     "output_type": "execute_result"
    }
   ],
   "source": [
    "np.asarray([2, 4, 6, 10, 20], dtype='float', order='C')"
   ]
  },
  {
   "cell_type": "code",
   "execution_count": 71,
   "metadata": {},
   "outputs": [
    {
     "data": {
      "text/plain": [
       "array([ 2.,  4.,  6., 10., 20.])"
      ]
     },
     "execution_count": 71,
     "metadata": {},
     "output_type": "execute_result"
    }
   ],
   "source": [
    "np.ascontiguousarray([2, 4, 6, 10, 20], dtype='float')"
   ]
  },
  {
   "cell_type": "code",
   "execution_count": 79,
   "metadata": {},
   "outputs": [
    {
     "data": {
      "text/plain": [
       "matrix([[1, 2],\n",
       "        [3, 4]])"
      ]
     },
     "execution_count": 79,
     "metadata": {},
     "output_type": "execute_result"
    }
   ],
   "source": [
    "np.asmatrix([[1, 2], [3, 4]], dtype='int32')"
   ]
  },
  {
   "cell_type": "code",
   "execution_count": 75,
   "metadata": {},
   "outputs": [
    {
     "data": {
      "text/plain": [
       "array([[ 2,  4,  8],\n",
       "       [ 6, 20, 20],\n",
       "       [20, 45, 67]])"
      ]
     },
     "execution_count": 75,
     "metadata": {},
     "output_type": "execute_result"
    }
   ],
   "source": [
    "np.copy(jet)"
   ]
  },
  {
   "cell_type": "markdown",
   "metadata": {},
   "source": [
    "`np.frombuffer`, `np.from_dlpack` are not used that widely so not mentioning."
   ]
  },
  {
   "cell_type": "code",
   "execution_count": 76,
   "metadata": {},
   "outputs": [],
   "source": [
    "# np.fromfile(fname, dtype=dt)"
   ]
  },
  {
   "cell_type": "code",
   "execution_count": 77,
   "metadata": {},
   "outputs": [
    {
     "data": {
      "text/plain": [
       "array([[0., 0.],\n",
       "       [1., 1.]])"
      ]
     },
     "execution_count": 77,
     "metadata": {},
     "output_type": "execute_result"
    }
   ],
   "source": [
    "np.fromfunction(lambda i, j: i, (2, 2), dtype=float)"
   ]
  },
  {
   "cell_type": "code",
   "execution_count": 81,
   "metadata": {},
   "outputs": [
    {
     "data": {
      "text/plain": [
       "array([ 0.,  1.,  4.,  9., 16.])"
      ]
     },
     "execution_count": 81,
     "metadata": {},
     "output_type": "execute_result"
    }
   ],
   "source": [
    "iterable = (x*x for x in range(5))\n",
    "np.fromiter(iter=iterable, dtype=float)"
   ]
  },
  {
   "cell_type": "code",
   "execution_count": 82,
   "metadata": {},
   "outputs": [
    {
     "data": {
      "text/plain": [
       "array([[1, 2],\n",
       "       [2, 3],\n",
       "       [3, 4],\n",
       "       [4, 5],\n",
       "       [5, 6]])"
      ]
     },
     "execution_count": 82,
     "metadata": {},
     "output_type": "execute_result"
    }
   ],
   "source": [
    "iterable = ((x+1, x+2) for x in range(5))\n",
    "np.fromiter(iter=iterable, dtype=np.dtype((int, 2)))"
   ]
  },
  {
   "cell_type": "code",
   "execution_count": 83,
   "metadata": {},
   "outputs": [
    {
     "data": {
      "text/plain": [
       "array([1, 2])"
      ]
     },
     "execution_count": 83,
     "metadata": {},
     "output_type": "execute_result"
    }
   ],
   "source": [
    "np.fromstring(string='1, 2', dtype=int, sep=',')"
   ]
  },
  {
   "cell_type": "code",
   "execution_count": 87,
   "metadata": {},
   "outputs": [
    {
     "data": {
      "text/plain": [
       "array('RAM, LAXMAN, SITA, HANUMAN', dtype='<U26')"
      ]
     },
     "execution_count": 87,
     "metadata": {},
     "output_type": "execute_result"
    }
   ],
   "source": [
    "from io import  StringIO\n",
    "s = StringIO('\"RAM, LAXMAN, SITA, HANUMAN\"')\n",
    "np.loadtxt(fname=s, dtype=\"U\", delimiter=\",\", quotechar='\"')"
   ]
  },
  {
   "cell_type": "markdown",
   "metadata": {},
   "source": [
    "- Creating Record Ndarrays Examples"
   ]
  },
  {
   "cell_type": "markdown",
   "metadata": {},
   "source": [
    "`numpy.rec` is the preferred alias for `numpy.core.records`."
   ]
  },
  {
   "cell_type": "code",
   "execution_count": 55,
   "metadata": {},
   "outputs": [
    {
     "data": {
      "text/plain": [
       "rec.array([[ 2,  4,  8],\n",
       "           [ 6, 20, 20],\n",
       "           [20, 45, 67]],\n",
       "          dtype=int32)"
      ]
     },
     "execution_count": 55,
     "metadata": {},
     "output_type": "execute_result"
    }
   ],
   "source": [
    "np.rec.array(jet)"
   ]
  },
  {
   "cell_type": "code",
   "execution_count": 56,
   "metadata": {},
   "outputs": [
    {
     "data": {
      "text/plain": [
       "rec.array([(2,  6, 20), (4, 20, 45), (8, 20, 67)],\n",
       "          dtype=[('f0', '<i4'), ('f1', '<i4'), ('f2', '<i4')])"
      ]
     },
     "execution_count": 56,
     "metadata": {},
     "output_type": "execute_result"
    }
   ],
   "source": [
    "np.rec.fromarrays(jet)"
   ]
  },
  {
   "cell_type": "code",
   "execution_count": 57,
   "metadata": {},
   "outputs": [
    {
     "data": {
      "text/plain": [
       "rec.array([( 2,  4,  8), ( 6, 20, 20), (20, 45, 67)],\n",
       "          dtype=[('f0', '<i4'), ('f1', '<i4'), ('f2', '<i4')])"
      ]
     },
     "execution_count": 57,
     "metadata": {},
     "output_type": "execute_result"
    }
   ],
   "source": [
    "np.rec.fromrecords(jet)"
   ]
  },
  {
   "cell_type": "code",
   "execution_count": 63,
   "metadata": {},
   "outputs": [
    {
     "data": {
      "text/plain": [
       "rec.array([],\n",
       "          dtype=|V4)"
      ]
     },
     "execution_count": 63,
     "metadata": {},
     "output_type": "execute_result"
    }
   ],
   "source": [
    "np.rec.fromstring(jet, dtype='int32')"
   ]
  },
  {
   "cell_type": "code",
   "execution_count": 66,
   "metadata": {},
   "outputs": [],
   "source": [
    "# np.rec.fromfile(path_of_file, dtype='datatype')"
   ]
  },
  {
   "cell_type": "markdown",
   "metadata": {},
   "source": [
    "- Creating Character Ndarrays Examples"
   ]
  },
  {
   "cell_type": "markdown",
   "metadata": {},
   "source": [
    "`numpy.char` is the preferred alias for `numpy.core.defchararray`."
   ]
  },
  {
   "cell_type": "code",
   "execution_count": 53,
   "metadata": {},
   "outputs": [
    {
     "data": {
      "text/plain": [
       "chararray([[b'2', b'4', b'8'],\n",
       "           [b'6', b'20', b'20'],\n",
       "           [b'20', b'45', b'67']], dtype='|S2')"
      ]
     },
     "execution_count": 53,
     "metadata": {},
     "output_type": "execute_result"
    }
   ],
   "source": [
    "np.char.array(jet)"
   ]
  },
  {
   "cell_type": "code",
   "execution_count": 54,
   "metadata": {},
   "outputs": [
    {
     "data": {
      "text/plain": [
       "chararray([[b'2', b'4', b'8'],\n",
       "           [b'6', b'20', b'20'],\n",
       "           [b'20', b'45', b'67']], dtype='|S2')"
      ]
     },
     "execution_count": 54,
     "metadata": {},
     "output_type": "execute_result"
    }
   ],
   "source": [
    "np.char.asarray(jet)"
   ]
  },
  {
   "cell_type": "markdown",
   "metadata": {},
   "source": [
    "- From Numerical Ranges Examples"
   ]
  },
  {
   "cell_type": "code",
   "execution_count": 23,
   "metadata": {},
   "outputs": [
    {
     "data": {
      "text/plain": [
       "array([0, 2, 4, 6, 8])"
      ]
     },
     "execution_count": 23,
     "metadata": {},
     "output_type": "execute_result"
    }
   ],
   "source": [
    "np.arange(start=0, stop=10, step=2)"
   ]
  },
  {
   "cell_type": "code",
   "execution_count": 27,
   "metadata": {},
   "outputs": [
    {
     "data": {
      "text/plain": [
       "(array([2.        , 2.15789474, 2.31578947, 2.47368421, 2.63157895,\n",
       "        2.78947368, 2.94736842, 3.10526316, 3.26315789, 3.42105263,\n",
       "        3.57894737, 3.73684211, 3.89473684, 4.05263158, 4.21052632,\n",
       "        4.36842105, 4.52631579, 4.68421053, 4.84210526, 5.        ]),\n",
       " 0.15789473684210525)"
      ]
     },
     "execution_count": 27,
     "metadata": {},
     "output_type": "execute_result"
    }
   ],
   "source": [
    "np.linspace(start=2, stop=5, num=20, endpoint=4.5, retstep=0.34)"
   ]
  },
  {
   "cell_type": "code",
   "execution_count": 29,
   "metadata": {},
   "outputs": [
    {
     "data": {
      "text/plain": [
       "array([   100.        ,    143.84498883,    206.91380811,    297.63514416,\n",
       "          428.13323987,    615.84821107,    885.86679041,   1274.2749857 ,\n",
       "         1832.98071083,   2636.65089873,   3792.69019073,   5455.59478117,\n",
       "         7847.59970351,  11288.37891685,  16237.76739189,  23357.2146909 ,\n",
       "        33598.18286284,  48329.30238572,  69519.27961776, 100000.        ])"
      ]
     },
     "execution_count": 29,
     "metadata": {},
     "output_type": "execute_result"
    }
   ],
   "source": [
    "np.logspace(start=2, stop=5, num=20, endpoint=4.5, base=10)"
   ]
  },
  {
   "cell_type": "code",
   "execution_count": 30,
   "metadata": {},
   "outputs": [
    {
     "data": {
      "text/plain": [
       "array([2.        , 2.09881523, 2.20251268, 2.31133358, 2.42553106,\n",
       "       2.54537076, 2.67113145, 2.80310569, 2.94160045, 3.08693791,\n",
       "       3.23945615, 3.39950995, 3.56747162, 3.74373189, 3.92870075,\n",
       "       4.12280848, 4.32650661, 4.54026898, 4.76459284, 5.        ])"
      ]
     },
     "execution_count": 30,
     "metadata": {},
     "output_type": "execute_result"
    }
   ],
   "source": [
    "np.geomspace(start=2, stop=5, num=20, endpoint=4.5)"
   ]
  },
  {
   "cell_type": "markdown",
   "metadata": {},
   "source": [
    "- The result of meshgrid is a coordinate grid.\n",
    "- meshgrid is very useful to evaluate functions on a grid. If the function depends on all coordinates, both dense and sparse outputs can be used."
   ]
  },
  {
   "cell_type": "code",
   "execution_count": 38,
   "metadata": {},
   "outputs": [
    {
     "data": {
      "text/plain": [
       "[array([[3, 2]]),\n",
       " array([[ 3],\n",
       "        [12]])]"
      ]
     },
     "execution_count": 38,
     "metadata": {},
     "output_type": "execute_result"
    }
   ],
   "source": [
    "xy = (3, 2)\n",
    "yz= (3, 12)\n",
    "\n",
    "np.meshgrid(xy, yz, sparse=True)"
   ]
  },
  {
   "cell_type": "code",
   "execution_count": 42,
   "metadata": {},
   "outputs": [
    {
     "data": {
      "image/png": "[encoded data removed]",
      "text/plain": [
       "<Figure size 200x100 with 1 Axes>"
      ]
     },
     "metadata": {},
     "output_type": "display_data"
    }
   ],
   "source": [
    "import matplotlib.pyplot as plt\n",
    "plt.figure(figsize=(2,1))\n",
    "plt.plot(xy, yz, marker='o', color='k', linestyle='none')\n",
    "plt.show()"
   ]
  },
  {
   "cell_type": "code",
   "execution_count": 43,
   "metadata": {},
   "outputs": [],
   "source": [
    "x = np.linspace(-5, 5, 101)\n",
    "y = np.linspace(-5, 5, 101)\n",
    "\n",
    "# full coordinate arrays\n",
    "xx, yy = np.meshgrid(x, y)\n",
    "zz = np.sqrt(xx**2 + yy**2)\n",
    "\n",
    "# sparse coordinate arrays\n",
    "xs, ys = np.meshgrid(x, y, sparse=True)\n",
    "zs = np.sqrt(xs**2 + ys**2)\n",
    "np.array_equal(zz, zs)"
   ]
  },
  {
   "cell_type": "code",
   "execution_count": 47,
   "metadata": {},
   "outputs": [
    {
     "data": {
      "text/plain": [
       "((101, 101), (101, 101), (101, 101), (1, 101), (101, 1), (101, 101))"
      ]
     },
     "execution_count": 47,
     "metadata": {},
     "output_type": "execute_result"
    }
   ],
   "source": [
    "xx.shape, yy.shape, zz.shape, xs.shape, ys.shape, zs.shape"
   ]
  },
  {
   "cell_type": "code",
   "execution_count": 49,
   "metadata": {},
   "outputs": [
    {
     "data": {
      "image/png": "[encoded data removed]",
      "text/plain": [
       "<Figure size 400x200 with 2 Axes>"
      ]
     },
     "metadata": {},
     "output_type": "display_data"
    }
   ],
   "source": [
    "plt.figure(figsize=(4, 2))\n",
    "h = plt.contourf(x, y, zs)\n",
    "plt.axis('scaled')\n",
    "plt.colorbar()\n",
    "plt.show()"
   ]
  },
  {
   "cell_type": "code",
   "execution_count": 50,
   "metadata": {},
   "outputs": [
    {
     "data": {
      "text/plain": [
       "array([[[0, 0, 0, 0, 0],\n",
       "        [1, 1, 1, 1, 1],\n",
       "        [2, 2, 2, 2, 2],\n",
       "        [3, 3, 3, 3, 3],\n",
       "        [4, 4, 4, 4, 4]],\n",
       "\n",
       "       [[0, 1, 2, 3, 4],\n",
       "        [0, 1, 2, 3, 4],\n",
       "        [0, 1, 2, 3, 4],\n",
       "        [0, 1, 2, 3, 4],\n",
       "        [0, 1, 2, 3, 4]]])"
      ]
     },
     "execution_count": 50,
     "metadata": {},
     "output_type": "execute_result"
    }
   ],
   "source": [
    "np.mgrid[0:5, 0:5]"
   ]
  },
  {
   "cell_type": "code",
   "execution_count": 51,
   "metadata": {},
   "outputs": [
    {
     "data": {
      "text/plain": [
       "array([-1. , -0.5,  0. ,  0.5,  1. ])"
      ]
     },
     "execution_count": 51,
     "metadata": {},
     "output_type": "execute_result"
    }
   ],
   "source": [
    "np.ogrid[-1:1:5j]"
   ]
  },
  {
   "cell_type": "markdown",
   "metadata": {},
   "source": [
    "- Building Matrices Examples"
   ]
  },
  {
   "cell_type": "code",
   "execution_count": 12,
   "metadata": {},
   "outputs": [
    {
     "data": {
      "text/plain": [
       "array([ 2, 20, 67])"
      ]
     },
     "execution_count": 12,
     "metadata": {},
     "output_type": "execute_result"
    }
   ],
   "source": [
    "np.diag(jet)"
   ]
  },
  {
   "cell_type": "code",
   "execution_count": 13,
   "metadata": {},
   "outputs": [
    {
     "data": {
      "text/plain": [
       "array([[ 2,  0,  0,  0,  0,  0,  0,  0,  0],\n",
       "       [ 0,  4,  0,  0,  0,  0,  0,  0,  0],\n",
       "       [ 0,  0,  8,  0,  0,  0,  0,  0,  0],\n",
       "       [ 0,  0,  0,  6,  0,  0,  0,  0,  0],\n",
       "       [ 0,  0,  0,  0, 20,  0,  0,  0,  0],\n",
       "       [ 0,  0,  0,  0,  0, 20,  0,  0,  0],\n",
       "       [ 0,  0,  0,  0,  0,  0, 20,  0,  0],\n",
       "       [ 0,  0,  0,  0,  0,  0,  0, 45,  0],\n",
       "       [ 0,  0,  0,  0,  0,  0,  0,  0, 67]])"
      ]
     },
     "execution_count": 13,
     "metadata": {},
     "output_type": "execute_result"
    }
   ],
   "source": [
    "np.diagflat(jet)"
   ]
  },
  {
   "cell_type": "code",
   "execution_count": 18,
   "metadata": {},
   "outputs": [
    {
     "data": {
      "text/plain": [
       "array([[1., 0., 0., 0., 0.],\n",
       "       [1., 1., 0., 0., 0.],\n",
       "       [1., 1., 1., 0., 0.],\n",
       "       [1., 1., 1., 1., 0.]])"
      ]
     },
     "execution_count": 18,
     "metadata": {},
     "output_type": "execute_result"
    }
   ],
   "source": [
    "np.tri(N=4, M=5)"
   ]
  },
  {
   "cell_type": "code",
   "execution_count": 14,
   "metadata": {},
   "outputs": [
    {
     "data": {
      "text/plain": [
       "array([[ 2,  0,  0],\n",
       "       [ 6, 20,  0],\n",
       "       [20, 45, 67]])"
      ]
     },
     "execution_count": 14,
     "metadata": {},
     "output_type": "execute_result"
    }
   ],
   "source": [
    "np.tril(jet)"
   ]
  },
  {
   "cell_type": "code",
   "execution_count": 15,
   "metadata": {},
   "outputs": [
    {
     "data": {
      "text/plain": [
       "array([[ 2,  4,  8],\n",
       "       [ 0, 20, 20],\n",
       "       [ 0,  0, 67]])"
      ]
     },
     "execution_count": 15,
     "metadata": {},
     "output_type": "execute_result"
    }
   ],
   "source": [
    "np.triu(jet)"
   ]
  },
  {
   "cell_type": "code",
   "execution_count": 17,
   "metadata": {},
   "outputs": [
    {
     "data": {
      "text/plain": [
       "array([[      8,       4,       2,       1],\n",
       "       [   8000,     400,      20,       1],\n",
       "       [ 729000,    8100,      90,       1],\n",
       "       [  91125,    2025,      45,       1],\n",
       "       [ 216000,    3600,      60,       1],\n",
       "       [1000000,   10000,     100,       1]])"
      ]
     },
     "execution_count": 17,
     "metadata": {},
     "output_type": "execute_result"
    }
   ],
   "source": [
    "np.vander(x=jaw,N=4)"
   ]
  },
  {
   "cell_type": "markdown",
   "metadata": {},
   "source": [
    "- Matrix Class Examples"
   ]
  },
  {
   "cell_type": "code",
   "execution_count": 10,
   "metadata": {},
   "outputs": [
    {
     "data": {
      "text/plain": [
       "matrix([[ 2,  4,  8],\n",
       "        [ 6, 20, 20],\n",
       "        [20, 45, 67]])"
      ]
     },
     "execution_count": 10,
     "metadata": {},
     "output_type": "execute_result"
    }
   ],
   "source": [
    "np.mat(data=jet, dtype='int32') # equivalent to numpy.matrix"
   ]
  },
  {
   "cell_type": "code",
   "execution_count": 11,
   "metadata": {},
   "outputs": [
    {
     "data": {
      "text/plain": [
       "matrix([[ 2,  4,  8],\n",
       "        [ 6, 20, 20],\n",
       "        [20, 45, 67]])"
      ]
     },
     "execution_count": 11,
     "metadata": {},
     "output_type": "execute_result"
    }
   ],
   "source": [
    "np.bmat(jet)"
   ]
  },
  {
   "cell_type": "markdown",
   "metadata": {},
   "source": [
    "#### 2.1.2. Attributes of ndarray"
   ]
  },
  {
   "cell_type": "markdown",
   "metadata": {},
   "source": [
    "**Attributes:**\n",
    "- **Memory layout attributes:**\n",
    "  - `ndarray.flags` information about the memory layout of the array.\n",
    "  - `ndarray.shape` tuple of array dimensions.\n",
    "  - `ndarray.strides` tuple of bytes to step in each dimension when traversing an array.\n",
    "  - `ndarray.ndim` number of array dimensions.\n",
    "  - `ndarray.data` python buffer object pointing to the start of the array's data.\n",
    "  - `ndarray.size` number of elements in the array.\n",
    "  - `ndarray.itemsize` length of one array element in bytes.\n",
    "  - `ndarray.nbytes` total bytes consumed by the elements of the array.\n",
    "  - `ndarray.base` base object if memory is from some other object.\n",
    "- **Data type attributes**\n",
    "  - `ndarray.dtype` data-type of the array's elements.\n",
    "- **Other attributes**\n",
    "  - `ndarray.T` view of the transposed array.\n",
    "  - `ndarray.real` the real part of the array.\n",
    "  - `ndarray.imag` the imaginary part of the array.\n",
    "  - `ndarray.flat` a 1-D iterator over the array.\n",
    "- **Array interface attributes**\n",
    "  - `__array_interface__` Python-side of the array interface\n",
    "  - `__array_struct__` C-side of the array interface\n",
    "  - `ndarray.ctypes` an object to simplify the interaction of the array with the ctypes module.\n",
    "\n",
    "[Docs Reference](https://numpy.org/doc/stable/reference/arrays.ndarray.html)"
   ]
  },
  {
   "cell_type": "markdown",
   "metadata": {},
   "source": [
    "**Examples**"
   ]
  },
  {
   "cell_type": "code",
   "execution_count": 1,
   "metadata": {},
   "outputs": [],
   "source": [
    "import numpy as np"
   ]
  },
  {
   "cell_type": "code",
   "execution_count": 2,
   "metadata": {},
   "outputs": [],
   "source": [
    "dash = np.array([10, 20, 30, 40, 50, 60, 70, 80, 90, 100])"
   ]
  },
  {
   "cell_type": "markdown",
   "metadata": {},
   "source": [
    "- Memory Layout Attributes Examples"
   ]
  },
  {
   "cell_type": "code",
   "execution_count": 3,
   "metadata": {},
   "outputs": [
    {
     "data": {
      "text/plain": [
       "  C_CONTIGUOUS : True\n",
       "  F_CONTIGUOUS : True\n",
       "  OWNDATA : True\n",
       "  WRITEABLE : True\n",
       "  ALIGNED : True\n",
       "  WRITEBACKIFCOPY : False"
      ]
     },
     "execution_count": 3,
     "metadata": {},
     "output_type": "execute_result"
    }
   ],
   "source": [
    "dash.flags"
   ]
  },
  {
   "cell_type": "code",
   "execution_count": 4,
   "metadata": {},
   "outputs": [
    {
     "data": {
      "text/plain": [
       "(10,)"
      ]
     },
     "execution_count": 4,
     "metadata": {},
     "output_type": "execute_result"
    }
   ],
   "source": [
    "dash.shape"
   ]
  },
  {
   "cell_type": "code",
   "execution_count": 5,
   "metadata": {},
   "outputs": [
    {
     "data": {
      "text/plain": [
       "(4,)"
      ]
     },
     "execution_count": 5,
     "metadata": {},
     "output_type": "execute_result"
    }
   ],
   "source": [
    "dash.strides"
   ]
  },
  {
   "cell_type": "code",
   "execution_count": 6,
   "metadata": {},
   "outputs": [
    {
     "data": {
      "text/plain": [
       "1"
      ]
     },
     "execution_count": 6,
     "metadata": {},
     "output_type": "execute_result"
    }
   ],
   "source": [
    "dash.ndim"
   ]
  },
  {
   "cell_type": "code",
   "execution_count": 7,
   "metadata": {},
   "outputs": [
    {
     "data": {
      "text/plain": [
       "<memory at 0x00000268EB4614C0>"
      ]
     },
     "execution_count": 7,
     "metadata": {},
     "output_type": "execute_result"
    }
   ],
   "source": [
    "dash.data"
   ]
  },
  {
   "cell_type": "code",
   "execution_count": 8,
   "metadata": {},
   "outputs": [
    {
     "data": {
      "text/plain": [
       "10"
      ]
     },
     "execution_count": 8,
     "metadata": {},
     "output_type": "execute_result"
    }
   ],
   "source": [
    "dash.size"
   ]
  },
  {
   "cell_type": "code",
   "execution_count": 9,
   "metadata": {},
   "outputs": [
    {
     "data": {
      "text/plain": [
       "4"
      ]
     },
     "execution_count": 9,
     "metadata": {},
     "output_type": "execute_result"
    }
   ],
   "source": [
    "dash.itemsize"
   ]
  },
  {
   "cell_type": "code",
   "execution_count": 10,
   "metadata": {},
   "outputs": [
    {
     "data": {
      "text/plain": [
       "40"
      ]
     },
     "execution_count": 10,
     "metadata": {},
     "output_type": "execute_result"
    }
   ],
   "source": [
    "dash.nbytes"
   ]
  },
  {
   "cell_type": "code",
   "execution_count": 13,
   "metadata": {},
   "outputs": [],
   "source": [
    "dash.base"
   ]
  },
  {
   "cell_type": "markdown",
   "metadata": {},
   "source": [
    "- Data Type Attributes Examples"
   ]
  },
  {
   "cell_type": "code",
   "execution_count": 14,
   "metadata": {},
   "outputs": [
    {
     "data": {
      "text/plain": [
       "dtype('int32')"
      ]
     },
     "execution_count": 14,
     "metadata": {},
     "output_type": "execute_result"
    }
   ],
   "source": [
    "dash.dtype"
   ]
  },
  {
   "cell_type": "markdown",
   "metadata": {},
   "source": [
    "- Other Attributes Examples"
   ]
  },
  {
   "cell_type": "code",
   "execution_count": 15,
   "metadata": {},
   "outputs": [
    {
     "data": {
      "text/plain": [
       "array([ 10,  20,  30,  40,  50,  60,  70,  80,  90, 100])"
      ]
     },
     "execution_count": 15,
     "metadata": {},
     "output_type": "execute_result"
    }
   ],
   "source": [
    "dash.T"
   ]
  },
  {
   "cell_type": "code",
   "execution_count": 17,
   "metadata": {},
   "outputs": [
    {
     "data": {
      "text/plain": [
       "(array([ 10,  20,  30,  40,  50,  60,  70,  80,  90, 100]),\n",
       " array([0, 0, 0, 0, 0, 0, 0, 0, 0, 0]))"
      ]
     },
     "execution_count": 17,
     "metadata": {},
     "output_type": "execute_result"
    }
   ],
   "source": [
    "dash.real, dash.imag"
   ]
  },
  {
   "cell_type": "code",
   "execution_count": 18,
   "metadata": {},
   "outputs": [
    {
     "data": {
      "text/plain": [
       "<numpy.flatiter at 0x268ea56c180>"
      ]
     },
     "execution_count": 18,
     "metadata": {},
     "output_type": "execute_result"
    }
   ],
   "source": [
    "dash.flat"
   ]
  },
  {
   "cell_type": "markdown",
   "metadata": {},
   "source": [
    "- Array Interface Attributes"
   ]
  },
  {
   "cell_type": "code",
   "execution_count": 19,
   "metadata": {},
   "outputs": [
    {
     "data": {
      "text/plain": [
       "{'data': (2649651440800, False),\n",
       " 'strides': None,\n",
       " 'descr': [('', '<i4')],\n",
       " 'typestr': '<i4',\n",
       " 'shape': (10,),\n",
       " 'version': 3}"
      ]
     },
     "execution_count": 19,
     "metadata": {},
     "output_type": "execute_result"
    }
   ],
   "source": [
    "dash.__array_interface__"
   ]
  },
  {
   "cell_type": "code",
   "execution_count": 20,
   "metadata": {},
   "outputs": [
    {
     "data": {
      "text/plain": [
       "<capsule object NULL at 0x00000268ECA782D0>"
      ]
     },
     "execution_count": 20,
     "metadata": {},
     "output_type": "execute_result"
    }
   ],
   "source": [
    "dash.__array_struct__"
   ]
  },
  {
   "cell_type": "code",
   "execution_count": 21,
   "metadata": {},
   "outputs": [
    {
     "data": {
      "text/plain": [
       "<numpy.core._internal._ctypes at 0x268eca78970>"
      ]
     },
     "execution_count": 21,
     "metadata": {},
     "output_type": "execute_result"
    }
   ],
   "source": [
    "dash.ctypes"
   ]
  },
  {
   "cell_type": "markdown",
   "metadata": {},
   "source": [
    "#### 2.1.3. Ndarray Methods"
   ]
  },
  {
   "cell_type": "markdown",
   "metadata": {},
   "source": [
    "**Array conversion**\n",
    "\n",
    "- `ndarray.item(*args)` Copy an element of an array to a standard Python scalar and return it.\n",
    "\n",
    "- `ndarray.tolist()` Return the array as an a.ndim-levels deep nested list of Python scalars.\n",
    "\n",
    "- `ndarray.itemset(*args)` Insert scalar into an array (scalar is cast to array's dtype, if possible)\n",
    "\n",
    "- `ndarray.tostring([order])` A compatibility alias for tobytes, with exactly the same behavior.\n",
    "\n",
    "- `ndarray.tobytes([order])` Construct Python bytes containing the raw data bytes in the array.\n",
    "\n",
    "- `ndarray.tofile(fid[, sep, format])` Write array to a file as text or binary (default).\n",
    "\n",
    "- `ndarray.dump(file)` Dump a pickle of the array to the specified file.\n",
    "\n",
    "- `ndarray.dumps()` Returns the pickle of the array as a string.\n",
    "\n",
    "- `ndarray.astype(dtype, order='K', casting='unsafe', subok=True, copy=True)` Copy of the array, cast to a specified type.\n",
    "\n",
    "- `ndarray.byteswap([inplace])` Swap the bytes of the array elements\n",
    "\n",
    "- `ndarray.copy([order])` Return a copy of the array.\n",
    "\n",
    "- `ndarray.view([dtype][, type])` New view of array with the same data.\n",
    "\n",
    "- `ndarray.getfield(dtype[, offset])` Returns a field of the given array as a certain type.\n",
    "\n",
    "- `ndarray.setflags([write, align, uic])` Set array flags WRITEABLE, ALIGNED, WRITEBACKIFCOPY, respectively.\n",
    "\n",
    "- `ndarray.fill(value)`  Fill the array with a scalar value.\n",
    "\n",
    "\n",
    "**Shape manipulation**\n",
    "\n",
    "For reshape, resize, and transpose, the single tuple argument may be replaced with n integers which will be interpreted as an n-tuple.\n",
    "\n",
    "- `ndarray.reshape(shape[, order])` Returns an array containing the same data with a new shape.\n",
    "\n",
    "- `ndarray.resize(new_shape[, refcheck])` Change shape and size of array in-place.\n",
    "\n",
    "- `ndarray.transpose(*axes)` Returns a view of the array with axes transposed.\n",
    "\n",
    "- `ndarray.swapaxes(axis1, axis2)` Return a view of the array with axis1 and axis2 interchanged.\n",
    "\n",
    "- `ndarray.flatten([order])` Return a copy of the array collapsed into one dimension.\n",
    "\n",
    "- `ndarray.ravel([order])` Return a flattened array.\n",
    "\n",
    "- `ndarray.squeeze([axis])` Remove axes of length one from a.\n",
    "\n",
    "\n",
    "**Item selection and manipulation**\n",
    "\n",
    "For array methods that take an `axis` keyword, it defaults to `None`. If `axis` is `None`, then the array is treated as a 1-D array. Any other value for axis represents the dimension along which the operation should proceed.\n",
    "\n",
    "- `ndarray.take(indices[, axis, out, mode])` Return an array formed from the elements of a at the given indices.\n",
    "\n",
    "- `ndarray.put(indices, values[, mode])` Set a.flat[n] = values[n] for all n in indices.\n",
    "\n",
    "- `ndarray.repeat(repeats[, axis])` Repeat elements of an array.\n",
    "\n",
    "- `ndarray.choose(choices[, out, mode])` Use an index array to construct a new array from a set of choices.\n",
    "\n",
    "- `ndarray.sort([axis, kind, order])` Sort an array in-place.\n",
    "\n",
    "- `ndarray.argsort([axis, kind, order])` Returns the indices that would sort this array.\n",
    "\n",
    "- `ndarray.partition(kth[, axis, kind, order])` Rearranges the elements in the array in such a way that the value of the element in kth position is in the position it would be in a sorted array.\n",
    "\n",
    "- `ndarray.argpartition(kth[, axis, kind, order])` Returns the indices that would partition this array.\n",
    "\n",
    "- `ndarray.searchsorted(v[, side, sorter])` Find indices where elements of v should be inserted in a to maintain order.\n",
    "\n",
    "- `ndarray.nonzero()` Return the indices of the elements that are non-zero.\n",
    "\n",
    "- `ndarray.compress(condition[, axis, out])` Return selected slices of this array along given axis.\n",
    "\n",
    "- `ndarray.diagonal([offset, axis1, axis2])` Return specified diagonals.\n",
    "\n",
    "\n",
    "**Calculation**\n",
    "\n",
    "If axis is None (the default), the array is treated as a 1-D array and the operation is performed over the entire array. This behavior is also the default if self is a 0-dimensional array or array scalar. If axis is an integer, then the operation is done over the given axis (for each 1-D subarray that can be created along the given axis).\n",
    "\n",
    "- `ndarray.max(axis=None, out=None, keepdims=False, initial=<no value>, where=True)` Return the maximum along a given axis.\n",
    "\n",
    "- `ndarray.argmax([axis, out, keepdims])` Return indices of the maximum values along the given axis.\n",
    "\n",
    "- `ndarray.min(axis=None, out=None, keepdims=False, initial=<no value>, where=True)` Return the minimum along a given axis.\n",
    "\n",
    "- `ndarray.argmin([axis, out, keepdims])` Return indices of the minimum values along the given axis.\n",
    "\n",
    "- `ndarray.ptp([axis, out, keepdims])` Peak to peak (maximum - minimum) value along a given axis.\n",
    "\n",
    "- `ndarray.clip([min, max, out])` Return an array whose values are limited to [min, max].\n",
    "\n",
    "- `ndarray.conj()` Complex-conjugate all elements.\n",
    "\n",
    "- `ndarray.round([decimals, out])` Return a with each element rounded to the given number of decimals.\n",
    "\n",
    "- `ndarray.trace([offset, axis1, axis2, dtype, out])` Return the sum along diagonals of the array.\n",
    "\n",
    "- `ndarray.sum(axis=None, dtype=None, out=None, keepdims=False, initial=0, where=True)` Return the sum of the array elements over the given axis.\n",
    "\n",
    "- `ndarray.cumsum([axis, dtype, out])` Return the cumulative sum of the elements along the given axis.\n",
    "\n",
    "- `ndarray.mean([axis, dtype, out, keepdims, where])` Returns the average of the array elements along given axis.\n",
    "\n",
    "- `ndarray.var(axis=None, dtype=None, out=None, ddof=0, keepdims=False, *, where=True)` Returns the variance of the array elements, along given axis.\n",
    "\n",
    "- `ndarray.std(axis=None, dtype=None, out=None, ddof=0, keepdims=False, *, where=True)` Returns the standard deviation of the array elements along given axis.\n",
    "\n",
    "- `ndarray.prod(axis=None, dtype=None, out=None, keepdims=False, initial=1, where=True)` Return the product of the array elements over the given axis\n",
    "\n",
    "- `ndarray.cumprod([axis, dtype, out])` Return the cumulative product of the elements along the given axis.\n",
    "\n",
    "- `ndarray.all([axis, out, keepdims, where])` Returns True if all elements evaluate to True.\n",
    "\n",
    "- `ndarray.any([axis, out, keepdims, where])` Returns True if any of the elements of a evaluate to True.\n",
    "\n",
    "[Docs Reference](https://numpy.org/doc/stable/reference/arrays.ndarray.html#array-methods)"
   ]
  },
  {
   "cell_type": "markdown",
   "metadata": {},
   "source": [
    "**Examples**"
   ]
  },
  {
   "cell_type": "code",
   "execution_count": 39,
   "metadata": {},
   "outputs": [],
   "source": [
    "import numpy as np"
   ]
  },
  {
   "cell_type": "code",
   "execution_count": 40,
   "metadata": {},
   "outputs": [],
   "source": [
    "sonic = np.array([10, 20, 30, 40, 50, 60, 70, 80, 90, 100])"
   ]
  },
  {
   "cell_type": "markdown",
   "metadata": {},
   "source": [
    "- Array Conversion Examples"
   ]
  },
  {
   "cell_type": "code",
   "execution_count": 41,
   "metadata": {},
   "outputs": [
    {
     "data": {
      "text/plain": [
       "20"
      ]
     },
     "execution_count": 41,
     "metadata": {},
     "output_type": "execute_result"
    }
   ],
   "source": [
    "sonic[1].item()"
   ]
  },
  {
   "cell_type": "code",
   "execution_count": 42,
   "metadata": {},
   "outputs": [
    {
     "data": {
      "text/plain": [
       "[10, 20, 30, 40, 50, 60, 70, 80, 90, 100]"
      ]
     },
     "execution_count": 42,
     "metadata": {},
     "output_type": "execute_result"
    }
   ],
   "source": [
    "sonic.tolist()"
   ]
  },
  {
   "cell_type": "markdown",
   "metadata": {},
   "source": [
    "`itemset(index_at_Which_set_value, value_to_set)` which is equivalent to `sonic[args] = item`"
   ]
  },
  {
   "cell_type": "code",
   "execution_count": 43,
   "metadata": {},
   "outputs": [
    {
     "data": {
      "text/plain": [
       "array([ 10,  20,  30,  40,  50,  60,  70,  80,  90, 110])"
      ]
     },
     "execution_count": 43,
     "metadata": {},
     "output_type": "execute_result"
    }
   ],
   "source": [
    "sonic.itemset(-1, 110)  \n",
    "sonic"
   ]
  },
  {
   "cell_type": "code",
   "execution_count": 44,
   "metadata": {},
   "outputs": [
    {
     "name": "stderr",
     "output_type": "stream",
     "text": [
      "C:\\Users\\abhij\\AppData\\Local\\Temp\\ipykernel_3840\\3265209317.py:1: DeprecationWarning: tostring() is deprecated. Use tobytes() instead.\n",
      "  sonic.tostring() # depreciated\n"
     ]
    },
    {
     "data": {
      "text/plain": [
       "b'\\n\\x00\\x00\\x00\\x14\\x00\\x00\\x00\\x1e\\x00\\x00\\x00(\\x00\\x00\\x002\\x00\\x00\\x00<\\x00\\x00\\x00F\\x00\\x00\\x00P\\x00\\x00\\x00Z\\x00\\x00\\x00n\\x00\\x00\\x00'"
      ]
     },
     "execution_count": 44,
     "metadata": {},
     "output_type": "execute_result"
    }
   ],
   "source": [
    "sonic.tostring() # depreciated"
   ]
  },
  {
   "cell_type": "code",
   "execution_count": 45,
   "metadata": {},
   "outputs": [
    {
     "data": {
      "text/plain": [
       "b'\\n\\x00\\x00\\x00\\x14\\x00\\x00\\x00\\x1e\\x00\\x00\\x00(\\x00\\x00\\x002\\x00\\x00\\x00<\\x00\\x00\\x00F\\x00\\x00\\x00P\\x00\\x00\\x00Z\\x00\\x00\\x00n\\x00\\x00\\x00'"
      ]
     },
     "execution_count": 45,
     "metadata": {},
     "output_type": "execute_result"
    }
   ],
   "source": [
    "sonic.tobytes()"
   ]
  },
  {
   "cell_type": "code",
   "execution_count": 46,
   "metadata": {},
   "outputs": [],
   "source": [
    "sonic.tofile(file='./Libraries', sep=',',format='%s')"
   ]
  },
  {
   "cell_type": "code",
   "execution_count": 47,
   "metadata": {},
   "outputs": [],
   "source": [
    "sonic.dump(file='path_of_pickle_file_of_array')"
   ]
  },
  {
   "cell_type": "code",
   "execution_count": 48,
   "metadata": {},
   "outputs": [
    {
     "data": {
      "text/plain": [
       "array([ 10.,  20.,  30.,  40.,  50.,  60.,  70.,  80.,  90., 110.])"
      ]
     },
     "execution_count": 48,
     "metadata": {},
     "output_type": "execute_result"
    }
   ],
   "source": [
    "sonic.astype(dtype='float')"
   ]
  },
  {
   "cell_type": "code",
   "execution_count": 49,
   "metadata": {},
   "outputs": [
    {
     "data": {
      "text/plain": [
       "array([ 167772160,  335544320,  503316480,  671088640,  838860800,\n",
       "       1006632960, 1174405120, 1342177280, 1509949440, 1845493760])"
      ]
     },
     "execution_count": 49,
     "metadata": {},
     "output_type": "execute_result"
    }
   ],
   "source": [
    "sonic.byteswap()"
   ]
  },
  {
   "cell_type": "code",
   "execution_count": 50,
   "metadata": {},
   "outputs": [
    {
     "data": {
      "text/plain": [
       "array([ 10,  20,  30,  40,  50,  60,  70,  80,  90, 110])"
      ]
     },
     "execution_count": 50,
     "metadata": {},
     "output_type": "execute_result"
    }
   ],
   "source": [
    "sonic.copy(order='C')"
   ]
  },
  {
   "cell_type": "code",
   "execution_count": 51,
   "metadata": {},
   "outputs": [
    {
     "data": {
      "text/plain": [
       "array([4.24399158e-313, 8.48798317e-313, 1.27319747e-312, 1.69759663e-312,\n",
       "       2.33419537e-312])"
      ]
     },
     "execution_count": 51,
     "metadata": {},
     "output_type": "execute_result"
    }
   ],
   "source": [
    "sonic.view(dtype='float')"
   ]
  },
  {
   "cell_type": "code",
   "execution_count": 52,
   "metadata": {},
   "outputs": [
    {
     "data": {
      "text/plain": [
       "array([ 10,  20,  30,  40,  50,  60,  70,  80,  90, 110])"
      ]
     },
     "execution_count": 52,
     "metadata": {},
     "output_type": "execute_result"
    }
   ],
   "source": [
    "sonic.getfield(dtype='int32')"
   ]
  },
  {
   "cell_type": "code",
   "execution_count": 53,
   "metadata": {},
   "outputs": [],
   "source": [
    "sonic.setflags(write=True, align=True, uic=False)"
   ]
  },
  {
   "cell_type": "code",
   "execution_count": 54,
   "metadata": {},
   "outputs": [
    {
     "data": {
      "text/plain": [
       "array([100, 100, 100, 100, 100, 100, 100, 100, 100, 100])"
      ]
     },
     "execution_count": 54,
     "metadata": {},
     "output_type": "execute_result"
    }
   ],
   "source": [
    "sonic.fill(100)\n",
    "sonic"
   ]
  },
  {
   "cell_type": "markdown",
   "metadata": {},
   "source": [
    "- Shape Manipulation Examples"
   ]
  },
  {
   "cell_type": "code",
   "execution_count": 81,
   "metadata": {},
   "outputs": [],
   "source": [
    "# Resetting the ndarray\n",
    "sonic = np.array([10, 20, 30, 40, 50, 60, 70, 80, 90, 100])"
   ]
  },
  {
   "cell_type": "code",
   "execution_count": 86,
   "metadata": {},
   "outputs": [
    {
     "data": {
      "text/plain": [
       "array([[ 10,  20,  30,  40,  50,  60,  70,  80,  90, 100]])"
      ]
     },
     "execution_count": 86,
     "metadata": {},
     "output_type": "execute_result"
    }
   ],
   "source": [
    "sonic.reshape((1,10), order='C') # equivalent to np.reshape(array, newshape, order)"
   ]
  },
  {
   "cell_type": "code",
   "execution_count": 90,
   "metadata": {},
   "outputs": [],
   "source": [
    "sonic.resize((1, 10)) # inplace reshaping"
   ]
  },
  {
   "cell_type": "code",
   "execution_count": 91,
   "metadata": {},
   "outputs": [
    {
     "data": {
      "text/plain": [
       "array([[ 10],\n",
       "       [ 20],\n",
       "       [ 30],\n",
       "       [ 40],\n",
       "       [ 50],\n",
       "       [ 60],\n",
       "       [ 70],\n",
       "       [ 80],\n",
       "       [ 90],\n",
       "       [100]])"
      ]
     },
     "execution_count": 91,
     "metadata": {},
     "output_type": "execute_result"
    }
   ],
   "source": [
    "sonic.transpose()"
   ]
  },
  {
   "cell_type": "code",
   "execution_count": 95,
   "metadata": {},
   "outputs": [
    {
     "data": {
      "text/plain": [
       "array([[ 10],\n",
       "       [ 20],\n",
       "       [ 30],\n",
       "       [ 40],\n",
       "       [ 50],\n",
       "       [ 60],\n",
       "       [ 70],\n",
       "       [ 80],\n",
       "       [ 90],\n",
       "       [100]])"
      ]
     },
     "execution_count": 95,
     "metadata": {},
     "output_type": "execute_result"
    }
   ],
   "source": [
    "sonic.swapaxes(0, 1)    # ndarray.swapaxes(axis1, axis2)"
   ]
  },
  {
   "cell_type": "code",
   "execution_count": 98,
   "metadata": {},
   "outputs": [
    {
     "data": {
      "text/plain": [
       "array([ 10,  20,  30,  40,  50,  60,  70,  80,  90, 100])"
      ]
     },
     "execution_count": 98,
     "metadata": {},
     "output_type": "execute_result"
    }
   ],
   "source": [
    "sonic.flatten(order='C')"
   ]
  },
  {
   "cell_type": "code",
   "execution_count": 102,
   "metadata": {},
   "outputs": [
    {
     "data": {
      "text/plain": [
       "array([ 10,  20,  30,  40,  50,  60,  70,  80,  90, 100])"
      ]
     },
     "execution_count": 102,
     "metadata": {},
     "output_type": "execute_result"
    }
   ],
   "source": [
    "sonic.ravel(order='C')   # equivalent to ndarray.flatten() and ndarray.flat iterator"
   ]
  },
  {
   "cell_type": "code",
   "execution_count": 103,
   "metadata": {},
   "outputs": [
    {
     "data": {
      "text/plain": [
       "array([ 10,  20,  30,  40,  50,  60,  70,  80,  90, 100])"
      ]
     },
     "execution_count": 103,
     "metadata": {},
     "output_type": "execute_result"
    }
   ],
   "source": [
    "sonic.squeeze()"
   ]
  },
  {
   "cell_type": "markdown",
   "metadata": {},
   "source": [
    "- Item Selection and Manipulation Examples"
   ]
  },
  {
   "cell_type": "code",
   "execution_count": 55,
   "metadata": {},
   "outputs": [],
   "source": [
    "# Resetting the ndarray\n",
    "sonic = np.array([10, 20, 30, 40, 50, 60, 70, 80, 90, 100])"
   ]
  },
  {
   "cell_type": "code",
   "execution_count": 56,
   "metadata": {},
   "outputs": [
    {
     "data": {
      "text/plain": [
       "30"
      ]
     },
     "execution_count": 56,
     "metadata": {},
     "output_type": "execute_result"
    }
   ],
   "source": [
    "sonic.take(indices=2, axis=0)"
   ]
  },
  {
   "cell_type": "code",
   "execution_count": 57,
   "metadata": {},
   "outputs": [
    {
     "data": {
      "text/plain": [
       "array([ 10,  20, 200,  40,  50,  60,  70,  80,  90, 100])"
      ]
     },
     "execution_count": 57,
     "metadata": {},
     "output_type": "execute_result"
    }
   ],
   "source": [
    "sonic.put(indices=2, values=200)\n",
    "sonic"
   ]
  },
  {
   "cell_type": "code",
   "execution_count": 58,
   "metadata": {},
   "outputs": [
    {
     "data": {
      "text/plain": [
       "array([ 10,  10,  20,  20, 200, 200,  40,  40,  50,  50,  60,  60,  70,\n",
       "        70,  80,  80,  90,  90, 100, 100])"
      ]
     },
     "execution_count": 58,
     "metadata": {},
     "output_type": "execute_result"
    }
   ],
   "source": [
    "sonic.repeat(repeats=2, axis=0) # repeats each elements repeats time"
   ]
  },
  {
   "cell_type": "markdown",
   "metadata": {},
   "source": [
    "In `np.choose()`,  `indices` are array of non-negative integer indices, specifying which element to choose from each array in choices and `choices` are sequence of arrays or scalars from which to choose elements. The length of choices must match the maximum value in indices."
   ]
  },
  {
   "cell_type": "code",
   "execution_count": 59,
   "metadata": {},
   "outputs": [
    {
     "data": {
      "text/plain": [
       "array(['a', 'b', 'a', 'c'], dtype='<U1')"
      ]
     },
     "execution_count": 59,
     "metadata": {},
     "output_type": "execute_result"
    }
   ],
   "source": [
    "indices = np.array([0, 1, 0, 2])\n",
    "choices = np.array(['a', 'b', 'c'])\n",
    "result = np.choose(indices, choices)\n",
    "result"
   ]
  },
  {
   "cell_type": "code",
   "execution_count": 60,
   "metadata": {},
   "outputs": [
    {
     "data": {
      "text/plain": [
       "array([ 10,  20,  40,  50,  60,  70,  80,  90, 100, 200])"
      ]
     },
     "execution_count": 60,
     "metadata": {},
     "output_type": "execute_result"
    }
   ],
   "source": [
    "sonic.sort(axis=0, kind='quicksort')\n",
    "sonic"
   ]
  },
  {
   "cell_type": "code",
   "execution_count": 61,
   "metadata": {},
   "outputs": [
    {
     "data": {
      "text/plain": [
       "array([ 10,  20,  40,  50,  60,  70,  80,  90, 100, 200])"
      ]
     },
     "execution_count": 61,
     "metadata": {},
     "output_type": "execute_result"
    }
   ],
   "source": [
    "sonic.argsort(axis=0, kind='quicksort')\n",
    "sonic"
   ]
  },
  {
   "cell_type": "code",
   "execution_count": 62,
   "metadata": {},
   "outputs": [
    {
     "data": {
      "text/plain": [
       "array([ 20,  10,  40,  50,  60,  70,  80,  90, 100, 200])"
      ]
     },
     "execution_count": 62,
     "metadata": {},
     "output_type": "execute_result"
    }
   ],
   "source": [
    "sonic.partition(kth=5, axis=0, kind='introselect')\n",
    "sonic"
   ]
  },
  {
   "cell_type": "code",
   "execution_count": 63,
   "metadata": {},
   "outputs": [
    {
     "data": {
      "text/plain": [
       "array([ 20,  10,  40,  50,  60,  70,  80,  90, 100, 200])"
      ]
     },
     "execution_count": 63,
     "metadata": {},
     "output_type": "execute_result"
    }
   ],
   "source": [
    "sonic.argpartition(kth=5, axis=0, kind='introselect')\n",
    "sonic"
   ]
  },
  {
   "cell_type": "code",
   "execution_count": 64,
   "metadata": {},
   "outputs": [
    {
     "data": {
      "text/plain": [
       "array([2, 2, 2], dtype=int64)"
      ]
     },
     "execution_count": 64,
     "metadata": {},
     "output_type": "execute_result"
    }
   ],
   "source": [
    "sonic.searchsorted(v=[10, 20, 30], side='right', sorter=None)"
   ]
  },
  {
   "cell_type": "code",
   "execution_count": 65,
   "metadata": {},
   "outputs": [
    {
     "data": {
      "text/plain": [
       "(array([0, 1, 2, 3, 4, 5, 6, 7, 8, 9], dtype=int64),)"
      ]
     },
     "execution_count": 65,
     "metadata": {},
     "output_type": "execute_result"
    }
   ],
   "source": [
    "sonic.nonzero()"
   ]
  },
  {
   "cell_type": "markdown",
   "metadata": {},
   "source": [
    "`ndarray.compress()` creates a new array containing only elements from the original array that satisfy a particular condition, where `condition` is a boolean array with same shape as array to be compressed."
   ]
  },
  {
   "cell_type": "code",
   "execution_count": 66,
   "metadata": {},
   "outputs": [
    {
     "data": {
      "text/plain": [
       "array([10, 40, 70])"
      ]
     },
     "execution_count": 66,
     "metadata": {},
     "output_type": "execute_result"
    }
   ],
   "source": [
    "condition = np.array([False, True, True, False, False, True])\n",
    "sonic.compress(condition=condition,axis=0, out=None)"
   ]
  },
  {
   "cell_type": "code",
   "execution_count": 67,
   "metadata": {},
   "outputs": [
    {
     "ename": "ValueError",
     "evalue": "diag requires an array of at least two dimensions",
     "output_type": "error",
     "traceback": [
      "\u001b[1;31m---------------------------------------------------------------------------\u001b[0m",
      "\u001b[1;31mValueError\u001b[0m                                Traceback (most recent call last)",
      "Cell \u001b[1;32mIn[67], line 1\u001b[0m\n\u001b[1;32m----> 1\u001b[0m \u001b[43msonic\u001b[49m\u001b[38;5;241;43m.\u001b[39;49m\u001b[43mdiagonal\u001b[49m\u001b[43m(\u001b[49m\u001b[43moffset\u001b[49m\u001b[38;5;241;43m=\u001b[39;49m\u001b[38;5;241;43m0\u001b[39;49m\u001b[43m,\u001b[49m\u001b[43m \u001b[49m\u001b[43maxis1\u001b[49m\u001b[38;5;241;43m=\u001b[39;49m\u001b[38;5;241;43m0\u001b[39;49m\u001b[43m,\u001b[49m\u001b[43m \u001b[49m\u001b[43maxis2\u001b[49m\u001b[38;5;241;43m=\u001b[39;49m\u001b[38;5;241;43m0\u001b[39;49m\u001b[43m)\u001b[49m\n",
      "\u001b[1;31mValueError\u001b[0m: diag requires an array of at least two dimensions"
     ]
    }
   ],
   "source": [
    "sonic.diagonal(offset=0, axis1=0, axis2=0) # dont work on 1d array"
   ]
  },
  {
   "cell_type": "code",
   "execution_count": 68,
   "metadata": {},
   "outputs": [
    {
     "data": {
      "text/plain": [
       "(array([2, 6]), array([7]))"
      ]
     },
     "execution_count": 68,
     "metadata": {},
     "output_type": "execute_result"
    }
   ],
   "source": [
    "array = np.array([[1, 2, 3], [4, 5, 6], [7, 8, 9]])\n",
    "upper_diagonal = array.diagonal(offset=1)\n",
    "lower_diagonal = array.diagonal(offset=-2)\n",
    "\n",
    "upper_diagonal, lower_diagonal"
   ]
  },
  {
   "cell_type": "markdown",
   "metadata": {},
   "source": [
    "- Calculation Examples"
   ]
  },
  {
   "cell_type": "code",
   "execution_count": 104,
   "metadata": {},
   "outputs": [],
   "source": [
    "# Resetting the ndarray\n",
    "sonic = np.array([10, 20, 30, 40, 50, 60, 70, 80, 90, 100])"
   ]
  },
  {
   "cell_type": "code",
   "execution_count": 112,
   "metadata": {},
   "outputs": [
    {
     "data": {
      "text/plain": [
       "100"
      ]
     },
     "execution_count": 112,
     "metadata": {},
     "output_type": "execute_result"
    }
   ],
   "source": [
    "sonic.max(axis=0)   # return max value"
   ]
  },
  {
   "cell_type": "code",
   "execution_count": 113,
   "metadata": {},
   "outputs": [
    {
     "data": {
      "text/plain": [
       "10"
      ]
     },
     "execution_count": 113,
     "metadata": {},
     "output_type": "execute_result"
    }
   ],
   "source": [
    "sonic.min(axis=0)# return min value"
   ]
  },
  {
   "cell_type": "code",
   "execution_count": 114,
   "metadata": {},
   "outputs": [
    {
     "data": {
      "text/plain": [
       "9"
      ]
     },
     "execution_count": 114,
     "metadata": {},
     "output_type": "execute_result"
    }
   ],
   "source": [
    "sonic.argmax(axis=0)# return indices of max value"
   ]
  },
  {
   "cell_type": "code",
   "execution_count": 115,
   "metadata": {},
   "outputs": [
    {
     "data": {
      "text/plain": [
       "0"
      ]
     },
     "execution_count": 115,
     "metadata": {},
     "output_type": "execute_result"
    }
   ],
   "source": [
    "sonic.argmin(axis=0) # return indices of min value"
   ]
  },
  {
   "cell_type": "code",
   "execution_count": 117,
   "metadata": {},
   "outputs": [
    {
     "data": {
      "text/plain": [
       "90"
      ]
     },
     "execution_count": 117,
     "metadata": {},
     "output_type": "execute_result"
    }
   ],
   "source": [
    "sonic.ptp(axis=0) # return max - min along axis"
   ]
  },
  {
   "cell_type": "code",
   "execution_count": 121,
   "metadata": {},
   "outputs": [
    {
     "data": {
      "text/plain": [
       "array([10, 20, 30, 40, 50, 50, 50, 50, 50, 50])"
      ]
     },
     "execution_count": 121,
     "metadata": {},
     "output_type": "execute_result"
    }
   ],
   "source": [
    "sonic.clip(min=10, max=50) "
   ]
  },
  {
   "cell_type": "code",
   "execution_count": 128,
   "metadata": {},
   "outputs": [
    {
     "data": {
      "text/plain": [
       "array([ 10,  20,  30,  40,  50,  60,  70,  80,  90, 100])"
      ]
     },
     "execution_count": 128,
     "metadata": {},
     "output_type": "execute_result"
    }
   ],
   "source": [
    "sonic.conj()"
   ]
  },
  {
   "cell_type": "code",
   "execution_count": 125,
   "metadata": {},
   "outputs": [
    {
     "data": {
      "text/plain": [
       "array([ 2.68, 50.32])"
      ]
     },
     "execution_count": 125,
     "metadata": {},
     "output_type": "execute_result"
    }
   ],
   "source": [
    "ar = np.array([2.678, 50.32456])\n",
    "ar.round(decimals=2)"
   ]
  },
  {
   "cell_type": "code",
   "execution_count": 142,
   "metadata": {},
   "outputs": [
    {
     "data": {
      "text/plain": [
       "array([[ 2,  4,  8],\n",
       "       [ 6, 20, 20],\n",
       "       [20, 45, 67]])"
      ]
     },
     "execution_count": 142,
     "metadata": {},
     "output_type": "execute_result"
    }
   ],
   "source": [
    "# creating multidimensional array\n",
    "jet = np.array([[2, 4, 8], [6, 20, 20], [20, 45, 67]])\n",
    "jet"
   ]
  },
  {
   "cell_type": "code",
   "execution_count": 150,
   "metadata": {},
   "outputs": [
    {
     "data": {
      "text/plain": [
       "89"
      ]
     },
     "execution_count": 150,
     "metadata": {},
     "output_type": "execute_result"
    }
   ],
   "source": [
    "jet.trace(axis1=0, axis2=1)"
   ]
  },
  {
   "cell_type": "code",
   "execution_count": 157,
   "metadata": {},
   "outputs": [
    {
     "data": {
      "text/plain": [
       "550"
      ]
     },
     "execution_count": 157,
     "metadata": {},
     "output_type": "execute_result"
    }
   ],
   "source": [
    "sonic.sum()"
   ]
  },
  {
   "cell_type": "code",
   "execution_count": 156,
   "metadata": {},
   "outputs": [
    {
     "data": {
      "text/plain": [
       "array([ 10,  30,  60, 100, 150, 210, 280, 360, 450, 550])"
      ]
     },
     "execution_count": 156,
     "metadata": {},
     "output_type": "execute_result"
    }
   ],
   "source": [
    "sonic.cumsum()"
   ]
  },
  {
   "cell_type": "code",
   "execution_count": 155,
   "metadata": {},
   "outputs": [
    {
     "data": {
      "text/plain": [
       "55.0"
      ]
     },
     "execution_count": 155,
     "metadata": {},
     "output_type": "execute_result"
    }
   ],
   "source": [
    "sonic.mean()"
   ]
  },
  {
   "cell_type": "code",
   "execution_count": 158,
   "metadata": {},
   "outputs": [
    {
     "data": {
      "text/plain": [
       "825.0"
      ]
     },
     "execution_count": 158,
     "metadata": {},
     "output_type": "execute_result"
    }
   ],
   "source": [
    "sonic.var()"
   ]
  },
  {
   "cell_type": "code",
   "execution_count": 159,
   "metadata": {},
   "outputs": [
    {
     "data": {
      "text/plain": [
       "28.722813232690143"
      ]
     },
     "execution_count": 159,
     "metadata": {},
     "output_type": "execute_result"
    }
   ],
   "source": [
    "sonic.std()"
   ]
  },
  {
   "cell_type": "code",
   "execution_count": 160,
   "metadata": {},
   "outputs": [
    {
     "data": {
      "text/plain": [
       "1704722432"
      ]
     },
     "execution_count": 160,
     "metadata": {},
     "output_type": "execute_result"
    }
   ],
   "source": [
    "sonic.prod()"
   ]
  },
  {
   "cell_type": "code",
   "execution_count": 161,
   "metadata": {},
   "outputs": [
    {
     "data": {
      "text/plain": [
       "array([         10,         200,        6000,      240000,    12000000,\n",
       "         720000000, -1139607552,  -974290944, -1786839040,  1704722432])"
      ]
     },
     "execution_count": 161,
     "metadata": {},
     "output_type": "execute_result"
    }
   ],
   "source": [
    "sonic.cumprod()"
   ]
  },
  {
   "cell_type": "code",
   "execution_count": 162,
   "metadata": {},
   "outputs": [
    {
     "data": {
      "text/plain": [
       "True"
      ]
     },
     "execution_count": 162,
     "metadata": {},
     "output_type": "execute_result"
    }
   ],
   "source": [
    "sonic.all()"
   ]
  },
  {
   "cell_type": "code",
   "execution_count": 165,
   "metadata": {},
   "outputs": [
    {
     "data": {
      "text/plain": [
       "True"
      ]
     },
     "execution_count": 165,
     "metadata": {},
     "output_type": "execute_result"
    }
   ],
   "source": [
    "sonic.any()"
   ]
  },
  {
   "cell_type": "markdown",
   "metadata": {},
   "source": [
    "#### 2.1.4. Ndarray operations"
   ]
  },
  {
   "cell_type": "markdown",
   "metadata": {},
   "source": [
    "Arithmetic and comparison operations on ndarrays are defined as element-wise operations, and generally yield ndarray objects as results.\n",
    "Each of the arithmetic operations (+, -, *, /, //, %, divmod(), ** or pow(), <<, >>, &, ^, |, ~) and the comparisons (==, <, >, <=, >=, !=) is equivalent to the corresponding universal function.\n",
    "\n",
    "\n",
    "**Comparison operators:**\n",
    "\n",
    "- `ndarray.__lt__(value, /)` Return self<value.\n",
    "- `ndarray.__le__(value, /)` Return self<=value.\n",
    "- `ndarray.__gt__(value, /)` Return self>value.\n",
    "- `ndarray.__ge__(value, /)` Return self>=value.\n",
    "- `ndarray.__eq__(value, /)` Return self==value.\n",
    "- `ndarray.__ne__(value, /)` Return self!=value.\n",
    "\n",
    "\n",
    "**Truth value of an array (bool()):**\n",
    "\n",
    "- `ndarray.__bool__(/)` True if self, else False\n",
    "\n",
    "*Note:* `ndarray.__bool__`, raises an error if the number of elements in the array is larger than 1, because the truth value of such arrays is ambiguous. Use `.any()` and .`all()` instead to be clear about what is meant in such cases. (If the number of elements is 0, the array evaluates to False.)\n",
    "\n",
    "\n",
    "**Unary operations:**\n",
    "\n",
    "- `ndarray.__neg__(/)` -self\n",
    "- `ndarray.__pos__(/)` +self\n",
    "- `ndarray.__abs__(self)` absolute self\n",
    "- `ndarray.__invert__(/)` ~self\n",
    "\n",
    "\n",
    "**Arithmetic:**\n",
    "\n",
    "- `ndarray.__add__(value, /)` Return self+value.\n",
    "- `ndarray.__sub__(value, /)` Return self-value.\n",
    "- `ndarray.__mul__(value, /)` Return self*value.\n",
    "- `ndarray.__truediv__(value, /)` Return self/value.\n",
    "- `ndarray.__floordiv__(value, /)` Return self//value.\n",
    "- `ndarray.__mod__(value, /)` Return self%value.\n",
    "- `ndarray.__divmod__(value, /)` Return divmod(self, value).\n",
    "- `ndarray.__pow__(value[, mod])` Return pow(self, value, mod).\n",
    "- `ndarray.__lshift__(value, /)` Return self<<value.\n",
    "- `ndarray.__rshift__(value, /)` Return self>>value.\n",
    "- `ndarray.__and__(value, /)` Return self&value.\n",
    "- `ndarray.__or__(value, /)` Return self|value.\n",
    "- `ndarray.__xor__(value, /)` Return self^value. \n",
    "\n",
    "*Note:* \n",
    "- Any third argument to `pow` is silently ignored, as the underlying ufunc takes only two arguments.\n",
    "- The functions called to implement many arithmetic special methods for arrays can be modified using __array_ufunc__.\n",
    "\n",
    "\n",
    "**Arithmetic in-place:**\n",
    "\n",
    "- `ndarray.__iadd__(value, /)` Return self+=value.\n",
    "- `ndarray.__isub__(value, /)` Return self-=value.\n",
    "- `ndarray.__imul__(value, /)` Return self*=value.\n",
    "- `ndarray.__itruediv__(value, /)` Return self/=value.\n",
    "- `ndarray.__ifloordiv__(value, /)` Return self//=value.\n",
    "- `ndarray.__imod__(value, /)` Return self%=value.\n",
    "- `ndarray.__ipow__(value, /)` Return self**=value.\n",
    "- `ndarray.__ilshift__(value, /)` Return self<<=value.\n",
    "- `ndarray.__irshift__(value, /)` Return self>>=value.\n",
    "- `ndarray.__iand__(value, /)` Return self&=value.\n",
    "- `ndarray.__ior__(value, /)` Return self|=value.\n",
    "- `ndarray.__ixor__(value, /)` Return self^=value.\n",
    "\n",
    "*Note:* \n",
    "- In place operations will perform the calculation using the precision decided by the data type of the two operands, but will silently downcast the result (if necessary) so it can fit back into the array. \n",
    "- Therefore, for mixed precision calculations, A {op}= B can be different than A = A {op} B. \n",
    "- For example, suppose a = ones((3,3)). Then, a += 3j is different than a = a + 3j: while they both perform the same computation, a += 3 casts the result to fit back in a, whereas a = a + 3j re-binds the name a to the result.\n",
    "\n",
    "\n",
    "**Matrix Multiplication:**\n",
    "\n",
    "- `ndarray.__matmul__(value, /)` Return self@value.\n",
    "\n",
    "\n",
    "**Special methods**\n",
    "\n",
    "- `ndarray.__copy__()` Used if copy.copy is called on an array.\n",
    "- `ndarray.__deepcopy__(memo, /)` Used if `copy.deepcopy` is called on an array.\n",
    "- `ndarray.__reduce__()` For pickling.\n",
    "- `ndarray.__setstate__(state, /)` For unpickling.\n",
    "\n",
    "\n",
    "**Basic customization:**\n",
    "\n",
    "`ndarray.__new__(*args, **kwargs)`\n",
    "`ndarray.__array__([dtype], /)` Returns either a new reference to self if dtype is not given or a new array of provided data type if dtype is different from the current dtype of the array.\n",
    "`ndarray.__array_wrap__(array[, context], /)` Returns a view of array with the same type as self.\n",
    "\n",
    "\n",
    "**Container customization:**\n",
    "\n",
    "- `ndarray.__len__(/)` Return len(self).\n",
    "- `ndarray.__getitem__(key, /)` Return self[key].\n",
    "- `ndarray.__setitem__(key, value, /)` Set self[key] to value.\n",
    "- `ndarray.__contains__(key, /)` Return key in self.\n",
    "  \n",
    "**Conversion:** \n",
    "The operations `int()`, `float()` and `complex()`. They work only on arrays that have one element in them and return the appropriate scalar.\n",
    "\n",
    "- `ndarray.__int__(self)`\n",
    "- `ndarray.__float__(self)`\n",
    "- `ndarray.__complex__`\n",
    "\n",
    "\n",
    "**String representations:**\n",
    "\n",
    "- `ndarray.__str__(/)` Return `str(self)`.\n",
    "- `ndarray.__repr__(/)` Return `repr(self)`.\n",
    "\n",
    "\n",
    "**Utility method for typing:** \n",
    "\n",
    "- `ndarray.__class_getitem__(item, /)` Return a parametrized wrapper around the ndarray type.\n",
    "\n",
    "\n",
    "[Docs Reference](https://numpy.org/doc/stable/reference/arrays.ndarray.html#arithmetic-matrix-multiplication-and-comparison-operations)"
   ]
  },
  {
   "cell_type": "markdown",
   "metadata": {},
   "source": [
    "**Examples**"
   ]
  },
  {
   "cell_type": "code",
   "execution_count": null,
   "metadata": {},
   "outputs": [],
   "source": [
    "import numpy as np"
   ]
  },
  {
   "cell_type": "code",
   "execution_count": null,
   "metadata": {},
   "outputs": [],
   "source": [
    "sample = np.array([2,5,10,20])"
   ]
  },
  {
   "cell_type": "markdown",
   "metadata": {},
   "source": [
    "- Comparison Operations Examples"
   ]
  },
  {
   "cell_type": "code",
   "execution_count": null,
   "metadata": {},
   "outputs": [
    {
     "data": {
      "text/plain": [
       "(array([ True, False, False, False]),\n",
       " array([ True,  True, False, False]),\n",
       " array([False, False,  True,  True]),\n",
       " array([False,  True,  True,  True]),\n",
       " array([False,  True, False, False]),\n",
       " array([ True, False,  True,  True]))"
      ]
     },
     "execution_count": 4,
     "metadata": {},
     "output_type": "execute_result"
    }
   ],
   "source": [
    "sample.__lt__(5), sample.__le__(5), sample.__gt__(5), sample.__ge__(5), sample.__eq__(5), sample.__ne__(5)"
   ]
  },
  {
   "cell_type": "markdown",
   "metadata": {},
   "source": [
    "- Boolean Operations Examples"
   ]
  },
  {
   "cell_type": "code",
   "execution_count": null,
   "metadata": {},
   "outputs": [
    {
     "ename": "ValueError",
     "evalue": "The truth value of an array with more than one element is ambiguous. Use a.any() or a.all()",
     "output_type": "error",
     "traceback": [
      "\u001b[1;31m---------------------------------------------------------------------------\u001b[0m",
      "\u001b[1;31mValueError\u001b[0m                                Traceback (most recent call last)",
      "Cell \u001b[1;32mIn[5], line 1\u001b[0m\n\u001b[1;32m----> 1\u001b[0m \u001b[43msample\u001b[49m\u001b[38;5;241;43m.\u001b[39;49m\u001b[38;5;21;43m__bool__\u001b[39;49m\u001b[43m(\u001b[49m\u001b[43m)\u001b[49m\n",
      "\u001b[1;31mValueError\u001b[0m: The truth value of an array with more than one element is ambiguous. Use a.any() or a.all()"
     ]
    }
   ],
   "source": [
    "sample.__bool__()"
   ]
  },
  {
   "cell_type": "code",
   "execution_count": null,
   "metadata": {},
   "outputs": [
    {
     "data": {
      "text/plain": [
       "True"
      ]
     },
     "execution_count": 31,
     "metadata": {},
     "output_type": "execute_result"
    }
   ],
   "source": [
    "test = np.array([100])\n",
    "test.__bool__()"
   ]
  },
  {
   "cell_type": "code",
   "execution_count": null,
   "metadata": {},
   "outputs": [
    {
     "data": {
      "text/plain": [
       "(True, True)"
      ]
     },
     "execution_count": 6,
     "metadata": {},
     "output_type": "execute_result"
    }
   ],
   "source": [
    "sample.any(), sample.all()"
   ]
  },
  {
   "cell_type": "markdown",
   "metadata": {},
   "source": [
    "- Unary Operations Examples"
   ]
  },
  {
   "cell_type": "code",
   "execution_count": null,
   "metadata": {},
   "outputs": [
    {
     "data": {
      "text/plain": [
       "(array([ -2,  -5, -10, -20]),\n",
       " array([ 2,  5, 10, 20]),\n",
       " array([ 2,  5, 10, 20]),\n",
       " array([ -3,  -6, -11, -21]))"
      ]
     },
     "execution_count": 7,
     "metadata": {},
     "output_type": "execute_result"
    }
   ],
   "source": [
    "sample.__neg__(), sample.__pos__(), sample.__abs__(), sample.__invert__()"
   ]
  },
  {
   "cell_type": "markdown",
   "metadata": {},
   "source": [
    "- Arithmetic Operations Examples"
   ]
  },
  {
   "cell_type": "code",
   "execution_count": 30,
   "metadata": {},
   "outputs": [
    {
     "ename": "NameError",
     "evalue": "name 'sample' is not defined",
     "output_type": "error",
     "traceback": [
      "\u001b[1;31m---------------------------------------------------------------------------\u001b[0m",
      "\u001b[1;31mNameError\u001b[0m                                 Traceback (most recent call last)",
      "Cell \u001b[1;32mIn[30], line 1\u001b[0m\n\u001b[1;32m----> 1\u001b[0m \u001b[43msample\u001b[49m\u001b[38;5;241m.\u001b[39m\u001b[38;5;21m__add__\u001b[39m(\u001b[38;5;241m100\u001b[39m), sample\u001b[38;5;241m.\u001b[39m\u001b[38;5;21m__sub__\u001b[39m(\u001b[38;5;241m1\u001b[39m), sample\u001b[38;5;241m.\u001b[39m\u001b[38;5;21m__mul__\u001b[39m(\u001b[38;5;241m20\u001b[39m)\n",
      "\u001b[1;31mNameError\u001b[0m: name 'sample' is not defined"
     ]
    }
   ],
   "source": [
    "sample.__add__(100), sample.__sub__(1), sample.__mul__(20)"
   ]
  },
  {
   "cell_type": "code",
   "execution_count": 31,
   "metadata": {},
   "outputs": [
    {
     "ename": "NameError",
     "evalue": "name 'sample' is not defined",
     "output_type": "error",
     "traceback": [
      "\u001b[1;31m---------------------------------------------------------------------------\u001b[0m",
      "\u001b[1;31mNameError\u001b[0m                                 Traceback (most recent call last)",
      "Cell \u001b[1;32mIn[31], line 1\u001b[0m\n\u001b[1;32m----> 1\u001b[0m \u001b[43msample\u001b[49m\u001b[38;5;241m.\u001b[39m\u001b[38;5;21m__truediv__\u001b[39m(\u001b[38;5;241m2\u001b[39m), sample\u001b[38;5;241m.\u001b[39m\u001b[38;5;21m__floordiv__\u001b[39m(\u001b[38;5;241m2\u001b[39m), sample\u001b[38;5;241m.\u001b[39m\u001b[38;5;21m__mod__\u001b[39m(\u001b[38;5;241m2\u001b[39m), sample\u001b[38;5;241m.\u001b[39m\u001b[38;5;21m__divmod__\u001b[39m(\u001b[38;5;241m2\u001b[39m)\n",
      "\u001b[1;31mNameError\u001b[0m: name 'sample' is not defined"
     ]
    }
   ],
   "source": [
    "sample.__truediv__(2), sample.__floordiv__(2), sample.__mod__(2), sample.__divmod__(2)"
   ]
  },
  {
   "cell_type": "code",
   "execution_count": 32,
   "metadata": {},
   "outputs": [
    {
     "ename": "NameError",
     "evalue": "name 'sample' is not defined",
     "output_type": "error",
     "traceback": [
      "\u001b[1;31m---------------------------------------------------------------------------\u001b[0m",
      "\u001b[1;31mNameError\u001b[0m                                 Traceback (most recent call last)",
      "Cell \u001b[1;32mIn[32], line 1\u001b[0m\n\u001b[1;32m----> 1\u001b[0m \u001b[43msample\u001b[49m\u001b[38;5;241m.\u001b[39m\u001b[38;5;21m__pow__\u001b[39m(\u001b[38;5;241m2\u001b[39m)\n",
      "\u001b[1;31mNameError\u001b[0m: name 'sample' is not defined"
     ]
    }
   ],
   "source": [
    "sample.__pow__(2)"
   ]
  },
  {
   "cell_type": "code",
   "execution_count": 33,
   "metadata": {},
   "outputs": [
    {
     "ename": "NameError",
     "evalue": "name 'sample' is not defined",
     "output_type": "error",
     "traceback": [
      "\u001b[1;31m---------------------------------------------------------------------------\u001b[0m",
      "\u001b[1;31mNameError\u001b[0m                                 Traceback (most recent call last)",
      "Cell \u001b[1;32mIn[33], line 1\u001b[0m\n\u001b[1;32m----> 1\u001b[0m \u001b[43msample\u001b[49m\u001b[38;5;241m.\u001b[39m\u001b[38;5;21m__lshift__\u001b[39m(\u001b[38;5;241m2\u001b[39m), sample\u001b[38;5;241m.\u001b[39m\u001b[38;5;21m__rshift__\u001b[39m(\u001b[38;5;241m2\u001b[39m)\n",
      "\u001b[1;31mNameError\u001b[0m: name 'sample' is not defined"
     ]
    }
   ],
   "source": [
    "sample.__lshift__(2), sample.__rshift__(2)"
   ]
  },
  {
   "cell_type": "code",
   "execution_count": 34,
   "metadata": {},
   "outputs": [
    {
     "ename": "NameError",
     "evalue": "name 'sample' is not defined",
     "output_type": "error",
     "traceback": [
      "\u001b[1;31m---------------------------------------------------------------------------\u001b[0m",
      "\u001b[1;31mNameError\u001b[0m                                 Traceback (most recent call last)",
      "Cell \u001b[1;32mIn[34], line 1\u001b[0m\n\u001b[1;32m----> 1\u001b[0m \u001b[43msample\u001b[49m\u001b[38;5;241m.\u001b[39m\u001b[38;5;21m__and__\u001b[39m(\u001b[38;5;241m5\u001b[39m), sample\u001b[38;5;241m.\u001b[39m\u001b[38;5;21m__or__\u001b[39m(\u001b[38;5;241m5\u001b[39m), sample\u001b[38;5;241m.\u001b[39m\u001b[38;5;21m__xor__\u001b[39m(\u001b[38;5;241m5\u001b[39m)\n",
      "\u001b[1;31mNameError\u001b[0m: name 'sample' is not defined"
     ]
    }
   ],
   "source": [
    "sample.__and__(5), sample.__or__(5), sample.__xor__(5)"
   ]
  },
  {
   "cell_type": "markdown",
   "metadata": {},
   "source": [
    "- Arithmetic Inplace Operations Examples"
   ]
  },
  {
   "cell_type": "code",
   "execution_count": 35,
   "metadata": {},
   "outputs": [],
   "source": [
    "# Reinitialize sample\n",
    "sample = np.array([2,5,10,20])"
   ]
  },
  {
   "cell_type": "code",
   "execution_count": 36,
   "metadata": {},
   "outputs": [
    {
     "data": {
      "text/plain": [
       "(array([2020, 2080, 2180, 2380]),\n",
       " array([2020, 2080, 2180, 2380]),\n",
       " array([2020, 2080, 2180, 2380]))"
      ]
     },
     "execution_count": 36,
     "metadata": {},
     "output_type": "execute_result"
    }
   ],
   "source": [
    "sample.__iadd__(100), sample.__isub__(1), sample.__imul__(20)"
   ]
  },
  {
   "cell_type": "code",
   "execution_count": 37,
   "metadata": {},
   "outputs": [],
   "source": [
    "# Reinitialize sample\n",
    "sample = np.array([2,5,10,20])"
   ]
  },
  {
   "cell_type": "code",
   "execution_count": 38,
   "metadata": {},
   "outputs": [
    {
     "ename": "UFuncTypeError",
     "evalue": "Cannot cast ufunc 'divide' output from dtype('float64') to dtype('int32') with casting rule 'same_kind'",
     "output_type": "error",
     "traceback": [
      "\u001b[1;31m---------------------------------------------------------------------------\u001b[0m",
      "\u001b[1;31mUFuncTypeError\u001b[0m                            Traceback (most recent call last)",
      "Cell \u001b[1;32mIn[38], line 1\u001b[0m\n\u001b[1;32m----> 1\u001b[0m \u001b[43msample\u001b[49m\u001b[38;5;241;43m.\u001b[39;49m\u001b[38;5;21;43m__itruediv__\u001b[39;49m\u001b[43m(\u001b[49m\u001b[38;5;241;43m2\u001b[39;49m\u001b[43m)\u001b[49m, sample\u001b[38;5;241m.\u001b[39m\u001b[38;5;21m__ifloordiv__\u001b[39m(\u001b[38;5;241m2\u001b[39m), sample\u001b[38;5;241m.\u001b[39m\u001b[38;5;21m__imod__\u001b[39m(\u001b[38;5;241m2\u001b[39m)\n",
      "\u001b[1;31mUFuncTypeError\u001b[0m: Cannot cast ufunc 'divide' output from dtype('float64') to dtype('int32') with casting rule 'same_kind'"
     ]
    }
   ],
   "source": [
    "sample.__itruediv__(2), sample.__ifloordiv__(2), sample.__imod__(2)"
   ]
  },
  {
   "cell_type": "markdown",
   "metadata": {},
   "source": [
    "Can't perform this operation as we are trying to store the result of a division operation (which often produces a float) into a variable or array that's restricted to integers (int32)."
   ]
  },
  {
   "cell_type": "markdown",
   "metadata": {},
   "source": [
    "We can use this operations when each elements is of the type float in numpy array."
   ]
  },
  {
   "cell_type": "code",
   "execution_count": 21,
   "metadata": {},
   "outputs": [],
   "source": [
    "alpha = np.array([2.0,5.0,10.0,20.0])"
   ]
  },
  {
   "cell_type": "code",
   "execution_count": 23,
   "metadata": {},
   "outputs": [
    {
     "data": {
      "text/plain": [
       "(array([0., 1., 0., 1.]), array([0., 1., 0., 1.]), array([0., 1., 0., 1.]))"
      ]
     },
     "execution_count": 23,
     "metadata": {},
     "output_type": "execute_result"
    }
   ],
   "source": [
    "alpha.__itruediv__(2), alpha.__ifloordiv__(2), alpha.__imod__(2)"
   ]
  },
  {
   "cell_type": "markdown",
   "metadata": {},
   "source": [
    "A way around can be by type casting."
   ]
  },
  {
   "cell_type": "code",
   "execution_count": 25,
   "metadata": {},
   "outputs": [
    {
     "data": {
      "text/plain": [
       "(array([ 1. ,  2.5,  5. , 10. ]),\n",
       " array([ 1.,  2.,  5., 10.]),\n",
       " array([0., 1., 0., 0.]))"
      ]
     },
     "execution_count": 25,
     "metadata": {},
     "output_type": "execute_result"
    }
   ],
   "source": [
    "sample.astype(float).__itruediv__(2), sample.astype(float).__ifloordiv__(2), sample.astype(float).__imod__(2)"
   ]
  },
  {
   "cell_type": "code",
   "execution_count": 26,
   "metadata": {},
   "outputs": [
    {
     "data": {
      "text/plain": [
       "array([  4,  25, 100, 400])"
      ]
     },
     "execution_count": 26,
     "metadata": {},
     "output_type": "execute_result"
    }
   ],
   "source": [
    "sample.__ipow__(2)"
   ]
  },
  {
   "cell_type": "code",
   "execution_count": 27,
   "metadata": {},
   "outputs": [
    {
     "data": {
      "text/plain": [
       "(array([  4,  25, 100, 400]), array([  4,  25, 100, 400]))"
      ]
     },
     "execution_count": 27,
     "metadata": {},
     "output_type": "execute_result"
    }
   ],
   "source": [
    "sample.__ilshift__(2), sample.__irshift__(2)"
   ]
  },
  {
   "cell_type": "code",
   "execution_count": 28,
   "metadata": {},
   "outputs": [
    {
     "data": {
      "text/plain": [
       "(array([0, 0, 0, 0]), array([0, 0, 0, 0]), array([0, 0, 0, 0]))"
      ]
     },
     "execution_count": 28,
     "metadata": {},
     "output_type": "execute_result"
    }
   ],
   "source": [
    "sample.__iand__(5), sample.__ior__(5), sample.__ixor__(5)"
   ]
  },
  {
   "cell_type": "markdown",
   "metadata": {},
   "source": [
    "- Special Method Operations Examples"
   ]
  },
  {
   "cell_type": "code",
   "execution_count": 32,
   "metadata": {},
   "outputs": [],
   "source": [
    "beta = np.array([10, 100, 1000, 10000])"
   ]
  },
  {
   "cell_type": "code",
   "execution_count": 35,
   "metadata": {},
   "outputs": [
    {
     "data": {
      "text/plain": [
       "(array([   10,   100,  1000, 10000]), array([   10,   100,  1000, 10000]))"
      ]
     },
     "execution_count": 35,
     "metadata": {},
     "output_type": "execute_result"
    }
   ],
   "source": [
    "beta.copy(), beta.__copy__()    # both are same"
   ]
  },
  {
   "cell_type": "code",
   "execution_count": 42,
   "metadata": {},
   "outputs": [],
   "source": [
    "shallow_copy = beta.__deepcopy__(beta) # not recommend"
   ]
  },
  {
   "cell_type": "code",
   "execution_count": 44,
   "metadata": {},
   "outputs": [],
   "source": [
    "import copy\n",
    "deep_copy = copy.deepcopy(beta) # recommended"
   ]
  },
  {
   "cell_type": "code",
   "execution_count": 45,
   "metadata": {},
   "outputs": [
    {
     "data": {
      "text/plain": [
       "(array([   10,   100,  1000, 10000]), array([   10,   100,  1000, 10000]))"
      ]
     },
     "execution_count": 45,
     "metadata": {},
     "output_type": "execute_result"
    }
   ],
   "source": [
    "shallow_copy, deep_copy"
   ]
  },
  {
   "cell_type": "code",
   "execution_count": 49,
   "metadata": {},
   "outputs": [],
   "source": [
    "pickled_array = beta.__reduce__()   # for pickling"
   ]
  },
  {
   "cell_type": "markdown",
   "metadata": {},
   "source": [
    "`__setstate__() # not recommended to use, its only for internal use by numpy`"
   ]
  },
  {
   "cell_type": "markdown",
   "metadata": {},
   "source": [
    "- Basic Customization Operation Examples\n",
    "\n",
    "These operations are also for internal use only"
   ]
  },
  {
   "cell_type": "markdown",
   "metadata": {},
   "source": [
    "- Container Customization Operation Examples"
   ]
  },
  {
   "cell_type": "code",
   "execution_count": 56,
   "metadata": {},
   "outputs": [
    {
     "data": {
      "text/plain": [
       "4"
      ]
     },
     "execution_count": 56,
     "metadata": {},
     "output_type": "execute_result"
    }
   ],
   "source": [
    "beta.__len__()"
   ]
  },
  {
   "cell_type": "code",
   "execution_count": 59,
   "metadata": {},
   "outputs": [
    {
     "data": {
      "text/plain": [
       "100"
      ]
     },
     "execution_count": 59,
     "metadata": {},
     "output_type": "execute_result"
    }
   ],
   "source": [
    "beta.__getitem__(1)"
   ]
  },
  {
   "cell_type": "code",
   "execution_count": 60,
   "metadata": {},
   "outputs": [],
   "source": [
    "beta.__setitem__(1, 200)"
   ]
  },
  {
   "cell_type": "code",
   "execution_count": 61,
   "metadata": {},
   "outputs": [
    {
     "data": {
      "text/plain": [
       "array([   10,   200,  1000, 10000])"
      ]
     },
     "execution_count": 61,
     "metadata": {},
     "output_type": "execute_result"
    }
   ],
   "source": [
    "beta"
   ]
  },
  {
   "cell_type": "code",
   "execution_count": 62,
   "metadata": {},
   "outputs": [
    {
     "data": {
      "text/plain": [
       "True"
      ]
     },
     "execution_count": 62,
     "metadata": {},
     "output_type": "execute_result"
    }
   ],
   "source": [
    "beta.__contains__(200)"
   ]
  },
  {
   "cell_type": "markdown",
   "metadata": {},
   "source": [
    "- Conversions Operations Examples"
   ]
  },
  {
   "cell_type": "markdown",
   "metadata": {},
   "source": [
    "These operations can be performed on array of size 1 only, i.e scalars"
   ]
  },
  {
   "cell_type": "code",
   "execution_count": 65,
   "metadata": {},
   "outputs": [
    {
     "ename": "TypeError",
     "evalue": "only size-1 arrays can be converted to Python scalars",
     "output_type": "error",
     "traceback": [
      "\u001b[1;31m---------------------------------------------------------------------------\u001b[0m",
      "\u001b[1;31mTypeError\u001b[0m                                 Traceback (most recent call last)",
      "Cell \u001b[1;32mIn[65], line 1\u001b[0m\n\u001b[1;32m----> 1\u001b[0m \u001b[43mbeta\u001b[49m\u001b[38;5;241;43m.\u001b[39;49m\u001b[38;5;21;43m__int__\u001b[39;49m\u001b[43m(\u001b[49m\u001b[43m)\u001b[49m\n",
      "\u001b[1;31mTypeError\u001b[0m: only size-1 arrays can be converted to Python scalars"
     ]
    }
   ],
   "source": [
    "beta.__int__()"
   ]
  },
  {
   "cell_type": "code",
   "execution_count": 67,
   "metadata": {},
   "outputs": [
    {
     "data": {
      "text/plain": [
       "200"
      ]
     },
     "execution_count": 67,
     "metadata": {},
     "output_type": "execute_result"
    }
   ],
   "source": [
    "beta[1].__int__()\n"
   ]
  },
  {
   "cell_type": "code",
   "execution_count": 69,
   "metadata": {},
   "outputs": [
    {
     "data": {
      "text/plain": [
       "200.0"
      ]
     },
     "execution_count": 69,
     "metadata": {},
     "output_type": "execute_result"
    }
   ],
   "source": [
    "beta[1].__float__()"
   ]
  },
  {
   "cell_type": "markdown",
   "metadata": {},
   "source": [
    "For Complex operations:"
   ]
  },
  {
   "cell_type": "code",
   "execution_count": 90,
   "metadata": {},
   "outputs": [],
   "source": [
    "c = 2 + 4j  # python inbuilt complex representation\n",
    "cn = complex(2, 4) # numpy deprived use of np.complex, so we have to use simply complex now\n",
    "\n",
    "c_array = np.asarray([2, 4], dtype='complex') # numpy array for complex number"
   ]
  },
  {
   "cell_type": "code",
   "execution_count": 91,
   "metadata": {},
   "outputs": [
    {
     "data": {
      "text/plain": [
       "((2+4j), (2+4j), array([2.+0.j, 4.+0.j]))"
      ]
     },
     "execution_count": 91,
     "metadata": {},
     "output_type": "execute_result"
    }
   ],
   "source": [
    "c, cn, c_array"
   ]
  },
  {
   "cell_type": "code",
   "execution_count": 92,
   "metadata": {},
   "outputs": [
    {
     "data": {
      "text/plain": [
       "(array([2., 4.]), array([0., 0.]))"
      ]
     },
     "execution_count": 92,
     "metadata": {},
     "output_type": "execute_result"
    }
   ],
   "source": [
    "c_array.real, c_array.imag"
   ]
  },
  {
   "cell_type": "code",
   "execution_count": 100,
   "metadata": {},
   "outputs": [],
   "source": [
    "joker = np.array([2], dtype='complex')"
   ]
  },
  {
   "cell_type": "code",
   "execution_count": 103,
   "metadata": {},
   "outputs": [
    {
     "data": {
      "text/plain": [
       "(2+0j)"
      ]
     },
     "execution_count": 103,
     "metadata": {},
     "output_type": "execute_result"
    }
   ],
   "source": [
    "joker.__complex__() # works only on scalar array"
   ]
  },
  {
   "cell_type": "markdown",
   "metadata": {},
   "source": [
    "- String Representation Operations Examples"
   ]
  },
  {
   "cell_type": "code",
   "execution_count": 75,
   "metadata": {},
   "outputs": [
    {
     "data": {
      "text/plain": [
       "('[   10   200  1000 10000]', '200')"
      ]
     },
     "execution_count": 75,
     "metadata": {},
     "output_type": "execute_result"
    }
   ],
   "source": [
    "beta.__str__(), beta[1].__str__()"
   ]
  },
  {
   "cell_type": "code",
   "execution_count": 76,
   "metadata": {},
   "outputs": [
    {
     "data": {
      "text/plain": [
       "('array([   10,   200,  1000, 10000])', '200')"
      ]
     },
     "execution_count": 76,
     "metadata": {},
     "output_type": "execute_result"
    }
   ],
   "source": [
    "beta.__repr__(), beta[1].__repr__()"
   ]
  },
  {
   "cell_type": "markdown",
   "metadata": {},
   "source": [
    "- Utility Operations Examples"
   ]
  },
  {
   "cell_type": "code",
   "execution_count": 79,
   "metadata": {},
   "outputs": [
    {
     "data": {
      "text/plain": [
       "numpy.ndarray[100]"
      ]
     },
     "execution_count": 79,
     "metadata": {},
     "output_type": "execute_result"
    }
   ],
   "source": [
    "beta.__class_getitem__(100)"
   ]
  },
  {
   "cell_type": "markdown",
   "metadata": {},
   "source": [
    "### 2.2. Scalars"
   ]
  },
  {
   "cell_type": "markdown",
   "metadata": {},
   "source": [
    "Python has only one type of a particular data class (there is only one integer type, one floating-point type, etc.). \n",
    "\n",
    "For scientific computing, however, more control is often needed over  data types.\n",
    "\n",
    "NumPy, offers 24 new fundamental Python types to describe different types of scalars which are mostly based on the types available in the C language with several additional types.\n",
    "\n",
    "*Note:* Array scalars have the same attributes and methods as ndarrays.\n",
    "\n",
    "Array scalars are immutable.\n",
    "\n",
    "Single element of an `ndarray` is an scalar.\n",
    "\n",
    "Array scalars live in a hierarchy of data types. This can be detected using the method `np.isinstance()`\n",
    "\n",
    "<img src='./Assets/scalar-hierarchy.png' width=600 height=350 align='center'>\n",
    "\n",
    "[Docs Reference](https://numpy.org/doc/stable/reference/arrays.scalars.html)"
   ]
  },
  {
   "cell_type": "markdown",
   "metadata": {},
   "source": [
    "#### 2.2.1. Builtin Scalar Types"
   ]
  },
  {
   "cell_type": "markdown",
   "metadata": {},
   "source": [
    "The built-in scalar types are shown below.\n",
    "\n",
    "<img src='./Assets/scalar-hierarchy.png' width=600 height=350 align='center'>\n",
    "\n",
    "**Generic Classes**\n",
    "- `class numpy.generic` Base class for numpy scalar types. Class from which most (all?) numpy scalar types are derived.\n",
    "\n",
    "- `class numpy.number` Abstract base class of all numeric scalar types.\n",
    "\n",
    "\n",
    "**A. Integer Types**\n",
    "class numpy.integer Abstract class of all integer scalar types.\n",
    "\n",
    "\n",
    "**A.1. Signed Integer Types**\n",
    "\n",
    "- `class numpy.signedinteger` Abstract base class of all signed integer scalar types.\n",
    "- `class numpy.byte` Signed integer type, compatible with C char.\n",
    "    - Character code: `b`\n",
    "    - Alias: `numpy.int8` 8-bit signed integer (-128 to 127).\n",
    "- `class numpy.short` Signed integer type, compatible with C short.\n",
    "    - Character code: `h`\n",
    "    - Alias: `numpy.int16` 16-bit signed integer (-32_768 to 32_767).\n",
    "- `class numpy.intc` Signed integer type, compatible with C int.\n",
    "    - Character code: `i`\n",
    "    - Alias: `numpy.int32` 32-bit signed integer (-2_147_483_648 to 2_147_483_647).\n",
    "`class numpy.int_` Signed integer type, compatible with Python int and C long.\n",
    "        - Character code: `l`\n",
    "        - Alias: `numpy.int64` or `numpy.intp` 64-bit signed integer (-9_223_372_036_854_775_808 to 9_223_372_036_854_775_807).\n",
    "- `class numpy.longlong` Signed integer type, compatible with C long long.\n",
    "    - Character code: `q`\n",
    "\n",
    "\n",
    "**A.2. UnSigned Integer Types**\n",
    "\n",
    "- `class numpy.unsignedinteger` Abstract base class of all unsigned integer scalar types.\n",
    "- `class numpy.ubyte` Unsigned integer type, compatible with C unsigned char.\n",
    "    - Character code: `B`\n",
    "    - Alias: `numpy.uint8` 8-bit unsigned integer (0 to 255).\n",
    "- `class numpy.ushort` Unsigned integer type, compatible with C unsigned short.\n",
    "    - Character code: `H`\n",
    "    - Alias: `numpy.uint16` 16-bit unsigned integer (0 to 65_535).\n",
    "- `class numpy.uintc` Unsigned integer type, compatible with C unsigned int.\n",
    "    - Character code: `'I'`\n",
    "    - Alias: `numpy.uint32` 32-bit unsigned integer (0 to 4_294_967_295).\n",
    "- `class numpy.uint` Unsigned integer type, compatible with C unsigned long.\n",
    "    - Character code: `L`\n",
    "    - Alias: `numpy.uint64` or `numpy.uintp` 64-bit unsigned integer (0 to 18_446_744_073_709_551_615).\n",
    "- `class numpy.ulonglong` Signed integer type, compatible with C unsigned long long.\n",
    "    - Character code: `Q`\n",
    "\n",
    "\n",
    "**Inexact Types**\n",
    "\n",
    "- `class numpy.inexact` Abstract base class of all numeric scalar types with a (potentially) inexact representation of the values in its range, such as floating-point numbers.\n",
    "  \n",
    "\n",
    "**Floating-Point Types**\n",
    "\n",
    "- `class numpy.floating` Abstract base class of all floating-point scalar types.\n",
    "- `class numpy.half` Half-precision floating-point number type.\n",
    "    - Character code: `e`\n",
    "    - Alias: `numpy.float16` 16-bit-precision floating-point number type: sign bit, 5 bits exponent, 10 bits mantissa.\n",
    "- `class numpy.single` Single-precision floating-point number type, compatible with C float.\n",
    "    - Character code: `f`\n",
    "    - Alias: `numpy.float32` 32-bit-precision floating-point number \n",
    "`class numpy.double(x=0, /)` Double-precision floating-point number type, compatible with Python float and C double.\n",
    "    - Character code: `d`\n",
    "    - Alias: `numpy.float_` or `numpy.float64` 64-bit precision floating-point number type: sign bit, 11 bits exponent, 52 bits mantissa.\n",
    "- `class numpy.longdouble`\n",
    "Extended-precision floating-point number type, compatible with C long double but not necessarily with IEEE 754 quadruple-precision.\n",
    "    - Character code: `g`\n",
    "    - Alias: `numpy.longfloat` or `numpy.float128` 128-bit extended-precision floating-point number type.\n",
    "\n",
    "\n",
    "**Complex Floating-Point Types**\n",
    "\n",
    "- `class numpy.complexfloating` Abstract base class of all complex number scalar types that are made up of floating-point numbers.\n",
    "- `class numpy.csingle` Complex number type composed of two single-precision floating-point numbers.\n",
    "    - Character code: `F`\n",
    "    - Alias: `numpy.singlecomplex` or `numpy.complex64` Complex number type composed of 2 32-bit-precision floating-point numbers.\n",
    "- `class numpy.cdouble(real=0, imag=0)` Complex number type composed of two double-precision floating-point numbers, compatible with Python complex.\n",
    "    - Character code: `D`\n",
    "    - Alias: `numpy.cfloat`or `numpy.complex_` or `numpy.complex128` Complex number type composed of 2 64-bit-precision floating-point numbers.\n",
    "- `class numpy.clongdouble` Complex number type composed of two extended-precision floating-point numbers.\n",
    "    - Character code: `G`\n",
    "    - Alias: `numpy.clongfloat` or `numpy.longcomplex` or `numpy.complex256` Complex number type composed of 2 128-bit extended-precision floating-point numbers.\n",
    "\n",
    "\n",
    "**Other Types**\n",
    "\n",
    "- `class numpy.bool_` Boolean type (True or False), stored as a byte.\n",
    "    - Character code: `?`\n",
    "- `class numpy.datetime64` If created from a 64-bit integer, it represents an offset from 1970-01-01T00:00:00. If created from string, the string can be in ISO 8601 date or datetime format.\n",
    "    - Character code: `M`\n",
    "- `class numpy.timedelta64` A timedelta stored as a 64-bit integer.\n",
    "    - Character code: `m`\n",
    "- `class numpy.object_` Any Python object.\n",
    "    - Character code: `O`\n",
    "- `class numpy.flexible` Abstract base class of all scalar types without predefined length. The actual size of these types depends on the specific np.dtype instantiation.\n",
    "- `class numpy.character` Abstract base class of all character string scalar types.\n",
    "- `class numpy.bytes_` A byte string. When used in arrays, this type strips trailing null bytes.\n",
    "    - Character code: `S`\n",
    "    - Alias: `numpy.string_`\n",
    "- `class numpy.str_` A unicode string.\n",
    "    - Character code: `U`\n",
    "    - Alias: `numpy.unicode_`\n",
    "- `class numpy.void(length_or_data, /, dtype=None)`\n",
    "    - Character code: `V`"
   ]
  },
  {
   "cell_type": "markdown",
   "metadata": {},
   "source": [
    "#### 2.2.2. Attributes of Scalars"
   ]
  },
  {
   "cell_type": "markdown",
   "metadata": {},
   "source": [
    "- `generic.flags` The integer value of flags.\n",
    "- `generic.shape` Tuple of array dimensions.\n",
    "- `generic.strides` Tuple of bytes steps in each dimension.\n",
    "- `generic.ndim` The number of array dimensions.\n",
    "- `generic.data` Pointer to start of data.\n",
    "- `generic.size` The number of elements in the gentype.\n",
    "- `generic.itemsize` The length of one element in bytes.\n",
    "- `generic.base` Scalar attribute identical to the corresponding array attribute.\n",
    "- `generic.dtype` Get array data-descriptor.\n",
    "- `generic.real` The real part of the scalar.\n",
    "`generic.imag` The imaginary part of the scalar.\n",
    "- `generic.flat` A 1-D view of the scalar.\n",
    "- `generic.T` Scalar attribute identical to the corresponding array attribute\n",
    "- `generic.__array_interface__` Array protocol: Python side\n",
    "- `generic.__array_struct__` Array protocol: struct\n",
    "- `generic.__array_priority__` Array priority.\n",
    "- `generic.__array_wrap__` sc.__array_wrap__(obj) return scalar from array"
   ]
  },
  {
   "cell_type": "markdown",
   "metadata": {},
   "source": [
    "**Examples**"
   ]
  },
  {
   "cell_type": "code",
   "execution_count": 1,
   "metadata": {},
   "outputs": [],
   "source": [
    "import numpy as np"
   ]
  },
  {
   "cell_type": "markdown",
   "metadata": {},
   "source": [
    "Creating Scalar\n",
    "\n",
    "    - From builtin types\n",
    "    - From string\n",
    "    - From list\n",
    "    - Using `np.void`"
   ]
  },
  {
   "cell_type": "code",
   "execution_count": 9,
   "metadata": {},
   "outputs": [],
   "source": [
    "# Using builtins\n",
    "\n",
    "int_type = np.dtype(int)\n",
    "float_type = np.dtype(float)\n",
    "complex_type = np.dtype(complex)\n",
    "bool_type = np.dtype(bool)"
   ]
  },
  {
   "cell_type": "code",
   "execution_count": 10,
   "metadata": {},
   "outputs": [
    {
     "data": {
      "text/plain": [
       "(dtype('int32'), dtype('float64'), dtype('complex128'), dtype('bool'))"
      ]
     },
     "execution_count": 10,
     "metadata": {},
     "output_type": "execute_result"
    }
   ],
   "source": [
    "int_type, float_type, complex_type, bool_type"
   ]
  },
  {
   "cell_type": "code",
   "execution_count": 11,
   "metadata": {},
   "outputs": [],
   "source": [
    "# From string - string is used to specify the data type\n",
    "\n",
    "string_type = np.dtype('str')  # Unicode string\n",
    "char_type = np.dtype('c')  # Character\n",
    "int8_type = np.dtype('i1')"
   ]
  },
  {
   "cell_type": "code",
   "execution_count": 12,
   "metadata": {},
   "outputs": [
    {
     "data": {
      "text/plain": [
       "(dtype('<U'), dtype('S1'), dtype('int8'))"
      ]
     },
     "execution_count": 12,
     "metadata": {},
     "output_type": "execute_result"
    }
   ],
   "source": [
    "string_type, char_type, int8_type"
   ]
  },
  {
   "cell_type": "code",
   "execution_count": 13,
   "metadata": {},
   "outputs": [
    {
     "data": {
      "text/plain": [
       "dtype([('x', '<i4'), ('y', '<f8')])"
      ]
     },
     "execution_count": 13,
     "metadata": {},
     "output_type": "execute_result"
    }
   ],
   "source": [
    "# From list - list of tuples, where each tuple specifies the field name and data type for structured array\n",
    "\n",
    "list_type = np.dtype([('x', int), ('y', float)])\n",
    "list_type"
   ]
  },
  {
   "cell_type": "code",
   "execution_count": 16,
   "metadata": {},
   "outputs": [],
   "source": [
    "# Using void function to create void scalar which can hold raw byte data or structured data types\n",
    "\n",
    "void_scalar = np.void(b\"Ram\")  # From a byte string\n",
    "empty_void = np.void(()) # passing an empty tuple which act as place holder"
   ]
  },
  {
   "cell_type": "code",
   "execution_count": 17,
   "metadata": {},
   "outputs": [
    {
     "data": {
      "text/plain": [
       "(void(b'\\x52\\x61\\x6D'), array([], dtype='|V8'))"
      ]
     },
     "execution_count": 17,
     "metadata": {},
     "output_type": "execute_result"
    }
   ],
   "source": [
    "void_scalar, empty_void"
   ]
  },
  {
   "cell_type": "markdown",
   "metadata": {},
   "source": [
    "- Attributes"
   ]
  },
  {
   "cell_type": "code",
   "execution_count": 35,
   "metadata": {},
   "outputs": [],
   "source": [
    "jet = np.array([2, 6, 10, 100, 200])\n",
    "jet_scalar= jet[2]"
   ]
  },
  {
   "cell_type": "code",
   "execution_count": 36,
   "metadata": {},
   "outputs": [
    {
     "data": {
      "text/plain": [
       "  C_CONTIGUOUS : True\n",
       "  F_CONTIGUOUS : True\n",
       "  OWNDATA : True\n",
       "  WRITEABLE : False\n",
       "  ALIGNED : True\n",
       "  WRITEBACKIFCOPY : False"
      ]
     },
     "execution_count": 36,
     "metadata": {},
     "output_type": "execute_result"
    }
   ],
   "source": [
    "jet_scalar.flags"
   ]
  },
  {
   "cell_type": "code",
   "execution_count": 39,
   "metadata": {},
   "outputs": [
    {
     "data": {
      "text/plain": [
       "((), (), 0)"
      ]
     },
     "execution_count": 39,
     "metadata": {},
     "output_type": "execute_result"
    }
   ],
   "source": [
    "jet_scalar.shape, jet_scalar.strides, jet_scalar.ndim"
   ]
  },
  {
   "cell_type": "code",
   "execution_count": 40,
   "metadata": {},
   "outputs": [
    {
     "data": {
      "text/plain": [
       "(<memory at 0x000001559CD1BC20>, 1, 4)"
      ]
     },
     "execution_count": 40,
     "metadata": {},
     "output_type": "execute_result"
    }
   ],
   "source": [
    "jet_scalar.data, jet_scalar.size, jet_scalar.itemsize"
   ]
  },
  {
   "cell_type": "code",
   "execution_count": 41,
   "metadata": {},
   "outputs": [
    {
     "data": {
      "text/plain": [
       "(None, dtype('int32'))"
      ]
     },
     "execution_count": 41,
     "metadata": {},
     "output_type": "execute_result"
    }
   ],
   "source": [
    "jet_scalar.base, jet_scalar.dtype"
   ]
  },
  {
   "cell_type": "code",
   "execution_count": 42,
   "metadata": {},
   "outputs": [
    {
     "data": {
      "text/plain": [
       "(10, 0)"
      ]
     },
     "execution_count": 42,
     "metadata": {},
     "output_type": "execute_result"
    }
   ],
   "source": [
    "jet_scalar.real, jet_scalar.imag"
   ]
  },
  {
   "cell_type": "code",
   "execution_count": 43,
   "metadata": {},
   "outputs": [
    {
     "data": {
      "text/plain": [
       "(<numpy.flatiter at 0x1559b0d70c0>, 10)"
      ]
     },
     "execution_count": 43,
     "metadata": {},
     "output_type": "execute_result"
    }
   ],
   "source": [
    "jet_scalar.flat, jet_scalar.T"
   ]
  },
  {
   "cell_type": "code",
   "execution_count": 47,
   "metadata": {},
   "outputs": [
    {
     "data": {
      "text/plain": [
       "{'data': (1467162760704, False),\n",
       " 'strides': None,\n",
       " 'descr': [('', '<i4')],\n",
       " 'typestr': '<i4',\n",
       " 'shape': (),\n",
       " 'version': 3,\n",
       " '__ref': array(10)}"
      ]
     },
     "execution_count": 47,
     "metadata": {},
     "output_type": "execute_result"
    }
   ],
   "source": [
    "jet_scalar.__array_interface__"
   ]
  },
  {
   "cell_type": "code",
   "execution_count": 49,
   "metadata": {},
   "outputs": [
    {
     "data": {
      "text/plain": [
       "(-1000000.0,\n",
       " <function int32.__array_wrap__>,\n",
       " <capsule object NULL at 0x000001559CBF26C0>)"
      ]
     },
     "execution_count": 49,
     "metadata": {},
     "output_type": "execute_result"
    }
   ],
   "source": [
    "jet_scalar.__array_priority__, jet_scalar.__array_wrap__, jet_scalar.__array_struct__"
   ]
  },
  {
   "cell_type": "markdown",
   "metadata": {},
   "source": [
    "#### 2.2.3. Indexing in Scalars"
   ]
  },
  {
   "cell_type": "markdown",
   "metadata": {},
   "source": [
    "Array scalars indexing work similar to that of 0 dimensional ndarrays."
   ]
  },
  {
   "cell_type": "markdown",
   "metadata": {},
   "source": [
    "#### 2.2.4. Methods in Scalars"
   ]
  },
  {
   "cell_type": "markdown",
   "metadata": {},
   "source": [
    "Array scalars have exactly the same methods as arrays. \n",
    "\n",
    "The default behavior of these methods is to internally convert the scalar to an equivalent 0-dimensional array and to call the corresponding array method. "
   ]
  },
  {
   "cell_type": "markdown",
   "metadata": {},
   "source": [
    "#### 2.2.5. Defining New Scalar Types"
   ]
  },
  {
   "cell_type": "markdown",
   "metadata": {},
   "source": [
    "There are two ways to effectively define a new array scalar type.\n",
    "- One way is to simply subclass the ndarray and overwrite the methods of interest. This will work to a degree, but internally certain behaviors are fixed by the data type of the array. T\n",
    "- To fully customize the data type of an array you need to define a new data-type, and register it with NumPy. Such new types can only be defined in C, using the NumPy C-API."
   ]
  },
  {
   "cell_type": "markdown",
   "metadata": {},
   "source": [
    "### 2.3. Datatimes and Timedeltas"
   ]
  },
  {
   "cell_type": "markdown",
   "metadata": {},
   "source": [
    "#### 2.3.1. Datetimes"
   ]
  },
  {
   "cell_type": "markdown",
   "metadata": {},
   "source": [
    "Similar to the Python `date` class, dates are expressed in the current Gregorian Calendar, indefinitely extended both in the future and in the past. \n",
    "\n",
    "Contrary to Python date, which supports only years in the 1 AD — 9999 AD range, `datetime64` allows also for dates BC; years BC follow the Astronomical year numbering convention, i.e. year 2 BC is numbered −1, year 1 BC is numbered 0, year 1 AD is numbered 1.\n",
    "\n",
    "Datetime type in numpy is named `datetime64`.\n",
    "\n",
    "\n",
    "**Shortcomings of `datetime64`**\n",
    "\n",
    "The assumption that all days are exactly 86400 seconds long makes datetime64 largely compatible with Python datetime and “POSIX time” semantics; therefore they all share the same well known shortcomings with respect to the UTC timescale and historical time determination. A brief non exhaustive summary is given below.\n",
    "- It is impossible to parse valid UTC timestamps occurring during a positive leap second.\n",
    "- Timedelta64 computations between two UTC dates can be wrong by an integer number of SI seconds.\n",
    "- Timedelta64 computations for dates in the past do not return SI seconds, as one would expect.\n",
    "\n",
    "\n",
    "[Docs Reference](https://numpy.org/doc/stable/reference/arrays.datetime.html)"
   ]
  },
  {
   "cell_type": "markdown",
   "metadata": {},
   "source": [
    "**Examples**"
   ]
  },
  {
   "cell_type": "markdown",
   "metadata": {},
   "source": [
    "Creating `datetime64`:\n",
    "1. Simple ISO date\n",
    "2. From an integer and a date unit\n",
    "3.  Using months for unit\n",
    "4.  Specifying the mont but forcing a days unit\n",
    "5.  From date and time\n",
    "6.  From NAT(not a time)\n",
    "7.  Creating an array of `datetime64`\n",
    "8.  Creating an array of `datetime64` with time\n",
    "9.  Creating an array of `datetime64` representing POSIX timestamps with given unit\n",
    "10. Creating an array of `datetime64` for dates of one month"
   ]
  },
  {
   "cell_type": "code",
   "execution_count": 5,
   "metadata": {},
   "outputs": [],
   "source": [
    "import numpy as np"
   ]
  },
  {
   "cell_type": "code",
   "execution_count": 21,
   "metadata": {},
   "outputs": [
    {
     "data": {
      "text/plain": [
       "numpy.datetime64('2024-01-22')"
      ]
     },
     "execution_count": 21,
     "metadata": {},
     "output_type": "execute_result"
    }
   ],
   "source": [
    "#1\n",
    "np.datetime64('2024-01-22')"
   ]
  },
  {
   "cell_type": "code",
   "execution_count": 25,
   "metadata": {},
   "outputs": [
    {
     "data": {
      "text/plain": [
       "numpy.datetime64('2024')"
      ]
     },
     "execution_count": 25,
     "metadata": {},
     "output_type": "execute_result"
    }
   ],
   "source": [
    "# 2\n",
    "# 54 year since the UNIX epoch\n",
    "np.datetime64(54, 'Y')"
   ]
  },
  {
   "cell_type": "code",
   "execution_count": 26,
   "metadata": {},
   "outputs": [
    {
     "data": {
      "text/plain": [
       "numpy.datetime64('2024-01-22')"
      ]
     },
     "execution_count": 26,
     "metadata": {},
     "output_type": "execute_result"
    }
   ],
   "source": [
    "# 3\n",
    "np.datetime64('2024-01-22')"
   ]
  },
  {
   "cell_type": "code",
   "execution_count": 27,
   "metadata": {},
   "outputs": [
    {
     "data": {
      "text/plain": [
       "numpy.datetime64('2024-01-01')"
      ]
     },
     "execution_count": 27,
     "metadata": {},
     "output_type": "execute_result"
    }
   ],
   "source": [
    "# 4\n",
    "np.datetime64('2024-01', 'D')"
   ]
  },
  {
   "cell_type": "code",
   "execution_count": 28,
   "metadata": {},
   "outputs": [
    {
     "data": {
      "text/plain": [
       "numpy.datetime64('2024-01-22T12:30')"
      ]
     },
     "execution_count": 28,
     "metadata": {},
     "output_type": "execute_result"
    }
   ],
   "source": [
    "# 5\n",
    "np.datetime64('2024-01-22T12:30')"
   ]
  },
  {
   "cell_type": "code",
   "execution_count": 19,
   "metadata": {},
   "outputs": [
    {
     "data": {
      "text/plain": [
       "numpy.datetime64('NaT')"
      ]
     },
     "execution_count": 19,
     "metadata": {},
     "output_type": "execute_result"
    }
   ],
   "source": [
    "# 6\n",
    "np.datetime64('nat')"
   ]
  },
  {
   "cell_type": "code",
   "execution_count": 20,
   "metadata": {},
   "outputs": [
    {
     "data": {
      "text/plain": [
       "array(['2022-01-22', '2023-01-22', '2024-01-22'], dtype='datetime64[D]')"
      ]
     },
     "execution_count": 20,
     "metadata": {},
     "output_type": "execute_result"
    }
   ],
   "source": [
    "# 7\n",
    "np.array(['2022-01-22','2023-01-22', '2024-01-22'], dtype='datetime64')"
   ]
  },
  {
   "cell_type": "code",
   "execution_count": 30,
   "metadata": {},
   "outputs": [
    {
     "data": {
      "text/plain": [
       "array(['2022-01-22T00:00:00.000', '2023-01-22T00:00:00.000',\n",
       "       '2024-01-22T00:00:00.000'], dtype='datetime64[ms]')"
      ]
     },
     "execution_count": 30,
     "metadata": {},
     "output_type": "execute_result"
    }
   ],
   "source": [
    "# 8\n",
    "# ms - milliseconds\n",
    "np.array(['2022-01-22','2023-01-22', '2024-01-22'], dtype='datetime64[ms]')"
   ]
  },
  {
   "cell_type": "code",
   "execution_count": 32,
   "metadata": {},
   "outputs": [
    {
     "data": {
      "text/plain": [
       "array(['2024-01-22T00:00:00'], dtype='datetime64[s]')"
      ]
     },
     "execution_count": 32,
     "metadata": {},
     "output_type": "execute_result"
    }
   ],
   "source": [
    "# 9\n",
    "np.array([1705881600], dtype='datetime64[s]')"
   ]
  },
  {
   "cell_type": "code",
   "execution_count": 33,
   "metadata": {},
   "outputs": [
    {
     "data": {
      "text/plain": [
       "array(['1992-01-01', '1992-01-02', '1992-01-03', ..., '2023-12-29',\n",
       "       '2023-12-30', '2023-12-31'], dtype='datetime64[D]')"
      ]
     },
     "execution_count": 33,
     "metadata": {},
     "output_type": "execute_result"
    }
   ],
   "source": [
    "# 10\n",
    "np.arange('1992-01', '2024-01', dtype='datetime64[D]')"
   ]
  },
  {
   "cell_type": "code",
   "execution_count": 34,
   "metadata": {},
   "outputs": [
    {
     "data": {
      "text/plain": [
       "True"
      ]
     },
     "execution_count": 34,
     "metadata": {},
     "output_type": "execute_result"
    }
   ],
   "source": [
    "np.datetime64('2024') == np.datetime64('2024-01-01') # note it"
   ]
  },
  {
   "cell_type": "markdown",
   "metadata": {},
   "source": [
    "#### 2.3.2. Timedelta"
   ]
  },
  {
   "cell_type": "markdown",
   "metadata": {},
   "source": [
    "NumPy allows the subtraction of two datetime values, an operation which produces a number with a time unit. Because NumPy doesn’t have a physical quantities system in its core, the `timedelta64` data type was created to complement `datetime64`. The arguments for `timedelta64` are a number, to represent the number of units, and a date/time unit, such as (D)ay, (M)onth, (Y)ear, (h)ours, (m)inutes, or (s)econds. The timedelta64 data type also accepts the string “NAT” in place of the number for a “Not A Time” value.\n",
    "\n",
    "Timedelta type in numpy is named `timedelta64`."
   ]
  },
  {
   "cell_type": "markdown",
   "metadata": {},
   "source": [
    "**Examples**"
   ]
  },
  {
   "cell_type": "markdown",
   "metadata": {},
   "source": [
    "Creating `timedelta64`:\n",
    "1. With day(D)\n",
    "2. With month(M)\n",
    "3. With year(Y)\n",
    "4. With hour(h)\n",
    "5. With minutes(m)\n",
    "6. With seconds(s)\n",
    "7. With Nat"
   ]
  },
  {
   "cell_type": "code",
   "execution_count": 36,
   "metadata": {},
   "outputs": [
    {
     "data": {
      "text/plain": [
       "numpy.timedelta64(22,'D')"
      ]
     },
     "execution_count": 36,
     "metadata": {},
     "output_type": "execute_result"
    }
   ],
   "source": [
    "# 1\n",
    "np.timedelta64(22, 'D')"
   ]
  },
  {
   "cell_type": "code",
   "execution_count": 37,
   "metadata": {},
   "outputs": [
    {
     "data": {
      "text/plain": [
       "numpy.timedelta64(1,'M')"
      ]
     },
     "execution_count": 37,
     "metadata": {},
     "output_type": "execute_result"
    }
   ],
   "source": [
    "# 2 \n",
    "np.timedelta64(1, 'M')"
   ]
  },
  {
   "cell_type": "code",
   "execution_count": 38,
   "metadata": {},
   "outputs": [
    {
     "data": {
      "text/plain": [
       "numpy.timedelta64(2024,'Y')"
      ]
     },
     "execution_count": 38,
     "metadata": {},
     "output_type": "execute_result"
    }
   ],
   "source": [
    "# 3\n",
    "np.timedelta64(2024, 'Y')"
   ]
  },
  {
   "cell_type": "code",
   "execution_count": 40,
   "metadata": {},
   "outputs": [
    {
     "data": {
      "text/plain": [
       "numpy.timedelta64(12,'h')"
      ]
     },
     "execution_count": 40,
     "metadata": {},
     "output_type": "execute_result"
    }
   ],
   "source": [
    "#5\n",
    "np.timedelta64(12, 'h')"
   ]
  },
  {
   "cell_type": "code",
   "execution_count": 41,
   "metadata": {},
   "outputs": [
    {
     "data": {
      "text/plain": [
       "numpy.timedelta64(30,'m')"
      ]
     },
     "execution_count": 41,
     "metadata": {},
     "output_type": "execute_result"
    }
   ],
   "source": [
    "# 6 \n",
    "np.timedelta64(30, 'm')"
   ]
  },
  {
   "cell_type": "code",
   "execution_count": 42,
   "metadata": {},
   "outputs": [
    {
     "data": {
      "text/plain": [
       "numpy.timedelta64('NaT')"
      ]
     },
     "execution_count": 42,
     "metadata": {},
     "output_type": "execute_result"
    }
   ],
   "source": [
    "# 7 \n",
    "np.timedelta64('nat')"
   ]
  },
  {
   "cell_type": "markdown",
   "metadata": {},
   "source": [
    "`datetime64` and `timedelta64` are used together to represent accurate date and time of an event for simple yet elegant calculations."
   ]
  },
  {
   "cell_type": "markdown",
   "metadata": {},
   "source": [
    "`datetime64` with `datetime64` yields `timedelta64`"
   ]
  },
  {
   "cell_type": "code",
   "execution_count": 47,
   "metadata": {},
   "outputs": [
    {
     "data": {
      "text/plain": [
       "numpy.timedelta64(11709,'D')"
      ]
     },
     "execution_count": 47,
     "metadata": {},
     "output_type": "execute_result"
    }
   ],
   "source": [
    "np.datetime64('2024-01-22') - np.datetime64('1992-01-01')"
   ]
  },
  {
   "cell_type": "markdown",
   "metadata": {},
   "source": [
    "If recent date is written after older date `timedelta` will be negative."
   ]
  },
  {
   "cell_type": "code",
   "execution_count": 48,
   "metadata": {},
   "outputs": [
    {
     "data": {
      "text/plain": [
       "numpy.timedelta64(-11709,'D')"
      ]
     },
     "execution_count": 48,
     "metadata": {},
     "output_type": "execute_result"
    }
   ],
   "source": [
    "np.datetime64('1992-01-01') - np.datetime64('2024-01-22')"
   ]
  },
  {
   "cell_type": "markdown",
   "metadata": {},
   "source": [
    "`datetime64` with `timedelta64` yields `datetime64`"
   ]
  },
  {
   "cell_type": "code",
   "execution_count": 50,
   "metadata": {},
   "outputs": [
    {
     "data": {
      "text/plain": [
       "numpy.datetime64('2024-01-21')"
      ]
     },
     "execution_count": 50,
     "metadata": {},
     "output_type": "execute_result"
    }
   ],
   "source": [
    "np.datetime64('2024') + np.timedelta64(20, 'D')"
   ]
  },
  {
   "cell_type": "markdown",
   "metadata": {},
   "source": [
    "Various other interactions between `timedelta64` and `datetime64`"
   ]
  },
  {
   "cell_type": "code",
   "execution_count": 51,
   "metadata": {},
   "outputs": [
    {
     "data": {
      "text/plain": [
       "numpy.datetime64('2024-01-22T12:00')"
      ]
     },
     "execution_count": 51,
     "metadata": {},
     "output_type": "execute_result"
    }
   ],
   "source": [
    "np.datetime64('2024-01-22T00:00') + np.timedelta64(12, 'h')"
   ]
  },
  {
   "cell_type": "code",
   "execution_count": 52,
   "metadata": {},
   "outputs": [
    {
     "data": {
      "text/plain": [
       "7.0"
      ]
     },
     "execution_count": 52,
     "metadata": {},
     "output_type": "execute_result"
    }
   ],
   "source": [
    "np.timedelta64(1,'W') / np.timedelta64(1,'D')"
   ]
  },
  {
   "cell_type": "code",
   "execution_count": 53,
   "metadata": {},
   "outputs": [
    {
     "data": {
      "text/plain": [
       "numpy.timedelta64('NaT','D')"
      ]
     },
     "execution_count": 53,
     "metadata": {},
     "output_type": "execute_result"
    }
   ],
   "source": [
    "np.datetime64('nat') - np.datetime64('2024-01-22')"
   ]
  },
  {
   "cell_type": "code",
   "execution_count": 54,
   "metadata": {},
   "outputs": [
    {
     "data": {
      "text/plain": [
       "numpy.datetime64('NaT')"
      ]
     },
     "execution_count": 54,
     "metadata": {},
     "output_type": "execute_result"
    }
   ],
   "source": [
    "np.datetime64('2024-01-22') + np.timedelta64('nat')"
   ]
  },
  {
   "cell_type": "markdown",
   "metadata": {},
   "source": [
    "There are two Timedelta units (‘Y’, years and ‘M’, months) which are treated specially, because how much time they represent changes depending on when they are used. While a timedelta day unit is equivalent to 24 hours, there is no way to convert a month unit into days, because different months have different numbers of days."
   ]
  },
  {
   "cell_type": "code",
   "execution_count": 55,
   "metadata": {},
   "outputs": [],
   "source": [
    "a = np.timedelta64(1, 'Y')"
   ]
  },
  {
   "cell_type": "code",
   "execution_count": 56,
   "metadata": {},
   "outputs": [
    {
     "data": {
      "text/plain": [
       "numpy.timedelta64(12,'M')"
      ]
     },
     "execution_count": 56,
     "metadata": {},
     "output_type": "execute_result"
    }
   ],
   "source": [
    "np.timedelta64(a, 'M')"
   ]
  },
  {
   "cell_type": "code",
   "execution_count": 57,
   "metadata": {},
   "outputs": [
    {
     "ename": "TypeError",
     "evalue": "Cannot cast NumPy timedelta64 scalar from metadata [Y] to [D] according to the rule 'same_kind'",
     "output_type": "error",
     "traceback": [
      "\u001b[1;31m---------------------------------------------------------------------------\u001b[0m",
      "\u001b[1;31mTypeError\u001b[0m                                 Traceback (most recent call last)",
      "Cell \u001b[1;32mIn[57], line 1\u001b[0m\n\u001b[1;32m----> 1\u001b[0m \u001b[43mnp\u001b[49m\u001b[38;5;241;43m.\u001b[39;49m\u001b[43mtimedelta64\u001b[49m\u001b[43m(\u001b[49m\u001b[43ma\u001b[49m\u001b[43m,\u001b[49m\u001b[43m \u001b[49m\u001b[38;5;124;43m'\u001b[39;49m\u001b[38;5;124;43mD\u001b[39;49m\u001b[38;5;124;43m'\u001b[39;49m\u001b[43m)\u001b[49m\n",
      "\u001b[1;31mTypeError\u001b[0m: Cannot cast NumPy timedelta64 scalar from metadata [Y] to [D] according to the rule 'same_kind'"
     ]
    }
   ],
   "source": [
    "np.timedelta64(a, 'D')"
   ]
  },
  {
   "cell_type": "markdown",
   "metadata": {},
   "source": [
    "#### 2.3.3. Date and Time Units"
   ]
  },
  {
   "cell_type": "markdown",
   "metadata": {},
   "source": [
    "- **Epoch:** All Datetime values are anchored to a starting point of January 1, 1970, at 00:00 hours, UTC. This allows for consistent date calculations and comparisons.\n",
    "- **Supported Dates:** You can represent dates within a vast range around the epoch, limited only by the capacity of a 64-bit integer (essentially, a huge time span!).\n",
    "- **Time Units:** Datetime and Timedelta support various time units, including days, weeks, hours, minutes, seconds, and more. They also accept generic units that can be adjusted to any of these standard units for seamless calculations.\n",
    "- **Relationships between Units:**\n",
    "  - **Weeks and Days:** One week is precisely 7 times longer than a day. This means you can easily convert between weeks and days without losing accuracy.\n",
    "  - **Days and Hours:** Similarly, one day is exactly 24 hours long, again facilitating conversions without complications.\n",
    "\n",
    "\n",
    "*Notes:*\n",
    "- The original passage used the symbol 'W' for week, 'D' for day, and 'h' for hour. I've kept this convention for consistency.\n",
    "- I've added a concluding sentence to summarize the key benefits of these data types.\n",
    "- If you have further questions or need more specific information, feel free to ask!\n",
    "\n",
    "<img src='./Assets/date-units.png' width=400 height=200 align='center'>\n",
    "\n",
    "<img src='./Assets/date-units.png' width=400 height=200 align='center'>"
   ]
  },
  {
   "cell_type": "markdown",
   "metadata": {},
   "source": [
    "#### 2.3.4. Business Day Functionality"
   ]
  },
  {
   "cell_type": "markdown",
   "metadata": {},
   "source": [
    "To allow the datetime to be used in contexts where only certain days of the week are valid, NumPy includes a set of “busday” (business day) functions.\n",
    "\n",
    "The default for busday functions is that the only valid days are Monday through Friday (the usual business days). The implementation is based on a “weekmask” containing 7 Boolean flags to indicate valid days; custom weekmasks are possible that specify other sets of valid days.\n",
    "\n",
    "The “busday” functions can additionally check a list of “holiday” dates, specific dates that are not valid days.\n",
    "\n",
    "**Various Busday functions**\n",
    "- `np.busday_offset(date, Day, roll)` allows you to apply offsets specified in business days to datetimes with a unit of ‘D’ (day). When an input date falls on the weekend or a holiday, `busday_offset` first applies a rule to roll the date to a valid business day, then applies the offset. The default rule is ‘raise’, which simply raises an exception. The rules most typically used are ‘forward’ and ‘backward’.\n",
    "- `np.is_busday(date)` return True if busday else False.\n",
    "- `np.busday_count(date1, date2)` count busday's in given date range."
   ]
  }
 ],
 "metadata": {
  "kernelspec": {
   "display_name": "base",
   "language": "python",
   "name": "python3"
  },
  "language_info": {
   "codemirror_mode": {
    "name": "ipython",
    "version": 3
   },
   "file_extension": ".py",
   "mimetype": "text/x-python",
   "name": "python",
   "nbconvert_exporter": "python",
   "pygments_lexer": "ipython3",
   "version": "3.9.18"
  }
 },
 "nbformat": 4,
 "nbformat_minor": 2
}
