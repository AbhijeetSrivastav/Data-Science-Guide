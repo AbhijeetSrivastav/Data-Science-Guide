{
 "cells": [
  {
   "cell_type": "markdown",
   "metadata": {},
   "source": [
    "# Numpy"
   ]
  },
  {
   "cell_type": "markdown",
   "metadata": {},
   "source": [
    "## 1. Overview"
   ]
  },
  {
   "cell_type": "markdown",
   "metadata": {},
   "source": [
    "### 1.1. Introduction"
   ]
  },
  {
   "cell_type": "markdown",
   "metadata": {},
   "source": [
    "NumPy, short for Numerical Python, is a fundamental library for scientific computing in Python. It provides a powerful and versatile set of tools for working with *multidimensional arrays* and performing various *mathematical operations* on them. \n",
    "\n",
    "**NumPy offers**:\n",
    "* **High-performance arrays:** NumPy arrays, called **ndarrays**, are much faster and more efficient than native Python lists for data storage and manipulation. This makes NumPy ideal for working with large datasets and complex calculations.\n",
    "* **Broad range of mathematical operations:** NumPy includes a vast array of built-in functions for linear algebra, statistics, Fourier transforms, and other mathematical computations. These functions are optimized for vectorized operations, meaning they can operate on entire arrays element-wise, significantly improving performance.\n",
    "* **Automatic broadcasting:** Broadcasting is a powerful feature that allows NumPy to perform operations between arrays of different shapes and sizes. This simplifies calculations and avoids the need for manual data manipulation.\n",
    "* **Random number generation:** NumPy provides powerful tools for generating different types of random numbers, including random samples from various distributions. This is essential for simulations, statistical analysis, and machine learning.\n",
    "* **Integration with other libraries:** NumPy seamlessly integrates with other popular scientific libraries like SciPy, Pandas, and Matplotlib. This allows you to leverage the strengths of each library to build powerful and comprehensive scientific workflows.\n",
    "\n",
    "**Advantage of NumPy:**\n",
    "* **Speed:** NumPy operations are significantly faster than loops over Python lists, making it ideal for large datasets and complex calculations.\n",
    "* **Conciseness:** NumPy provides vectorized operations, allowing you to express complex calculations in concise and readable code.\n",
    "* **Memory efficiency:** NumPy arrays store data efficiently, minimizing memory usage compared to Python lists.\n",
    "* **Interoperability:** NumPy integrates seamlessly with other scientific libraries, enabling powerful workflows."
   ]
  },
  {
   "cell_type": "markdown",
   "metadata": {},
   "source": [
    "### 1.2. History"
   ]
  },
  {
   "cell_type": "markdown",
   "metadata": {},
   "source": [
    "**Early Days (2000s): A Landscape of Fragmented Libraries**\n",
    "\n",
    "* **Numeric:** Developed by Jim Hugunin, it dominated the scene but suffered from limitations and internal conflicts.\n",
    "* **Numarray:** A contender led by Pedro Matiello, offering efficient array manipulation but lacking broader functionality.\n",
    "\n",
    "**Enter Travis Oliphant (2005): Unifying the Forces**\n",
    "\n",
    "Oliphant, a graduate student, envisioned a single, powerful array library. He:\n",
    "- Merged features from Numarray into Numeric: This \"rogue\" move faced initial resistance but laid the groundwork.\n",
    "- Released NumPy 1.0 in 2006: Integrating features from both predecessors, it offered a unified platform for numerical computations.\n",
    "\n",
    "**Evolution and Expansion (2006-Present): A Community-Driven Journey**\n",
    "- Separation from SciPy To avoid unnecessary SciPy dependency, NumPy gained independence, solidifying its identity\n",
    "- Python 3 Support (2011) Opening doors to a wider Python audience\n",
    "- Continuous Development A thriving community of contributors constantly improves efficiency, functionality, and accessibility.\n",
    "\n",
    "**NumPy's Impact: A Pillar of Scientific Computing**\n",
    "- Foundational library: Data science, machine learning, physics, finance, and countless other fields rely on NumPy.\n",
    "- Simplicity and Efficiency: The intuitive syntax and optimized C libraries make NumPy a joy to use.\n",
    "- Open-source spirit: Fosters collaboration, innovation, and continuous improvement."
   ]
  },
  {
   "cell_type": "markdown",
   "metadata": {},
   "source": [
    "### 1.3. Resources"
   ]
  },
  {
   "cell_type": "markdown",
   "metadata": {},
   "source": [
    "- [Book from Travis Oliphant](https://web.mit.edu/dvp/Public/numpybook.pdf)\n",
    "- [Official Website Numpy](https://numpy.org/)"
   ]
  },
  {
   "cell_type": "markdown",
   "metadata": {},
   "source": [
    "### 1.4. Architecture of Numpy"
   ]
  },
  {
   "cell_type": "markdown",
   "metadata": {},
   "source": [
    "**A. Core Data Structure: `ndarray`**\n",
    "\n",
    "* **Memory Layout:**\n",
    "    * Contiguous memory allocation for elements of the same dimension, enabling efficient access and vectorization.\n",
    "    * `C-contiguous` (C style)(elements close in memory for row-major order) or `F-contiguous` (Fortran style)(close for column-major order).\n",
    "    * Custom strides (distance between elements in memory) for flexible data access patterns.\n",
    "* **Metadata:**\n",
    "    * Data type (e.g., `int32`, `float64`).\n",
    "    * Dimensionality (rank, e.g., 1D, 2D).\n",
    "    * Shape: tuple representing size of each dimension.\n",
    "    * Stride: tuple representing byte jumps between elements in each dimension.\n",
    "    * Byte order (native or swapped).\n",
    "    * Read-only flag.\n",
    "* **Operations:**\n",
    "    * Element-wise arithmetic, logical, and comparison operations.\n",
    "    * Broadcasting for automatic size adjustment during element-wise operations.\n",
    "    * Indexing and slicing for accessing specific elements or sub-arrays.\n",
    "    * Fancy indexing with arrays to select elements.\n",
    "    * Aggregations (sum, mean, etc.) across axes.\n",
    "    * Reshaping and transposing.\n",
    "\n",
    "**B. Functionalities:**\n",
    "\n",
    "* **Universal Functions (ufunc):** Efficient vectorized operations applied element-wise on arrays.\n",
    "* **Random Number Generation:** Various distributions and random sampling functionalities.\n",
    "* **Linear Algebra:** Matrix operations, eigendecomposition, solving linear systems.\n",
    "* **Fourier Transforms:** Discrete Fourier Transforms (DFTs) and Fast Fourier Transforms (FFTs).\n",
    "* **Sorting and Searching:** Efficient sorting algorithms for arrays.\n",
    "* **Statistical Functions:** Descriptive statistics, hypothesis testing, etc.\n",
    "\n",
    "**C. Internal Mechanism:**\n",
    "\n",
    "* **C/Fortran Code Integration:** Core routines written in C/Fortran for speed and optimized memory access.\n",
    "* **Python Wrappers:** Python interfaces for easy access and function calls from within Python code.\n",
    "* **External Dependencies:**\n",
    "    * **BLAS (Basic Linear Algebra Subprograms):** Provides optimized routines for basic vector and matrix operations.\n",
    "    * **LAPACK (Linear Algebra PACKage):** Solves systems of linear equations, eigenvalue problems, etc.\n",
    "    * **OpenBLAS, ATLAS, etc.:** Specific implementations of BLAS/LAPACK offering further performance optimizations.\n",
    "\n",
    "**D. Design Principles:**\n",
    "\n",
    "* **Simplicity and Modularity:** Clear separation of concerns between components, facilitating development and maintenance.\n",
    "* **Performance:** Efficient memory layout, vectorization, and optimized routines for fast numerical computations.\n",
    "* **Versatility:** Supports various data types, dimensions, and functionalities for diverse applications.\n",
    "* **Interoperability:** Integrates seamlessly with other scientific libraries like SciPy and Matplotlib."
   ]
  },
  {
   "cell_type": "markdown",
   "metadata": {},
   "source": [
    "### 1.5. Objects in Numpy"
   ]
  },
  {
   "cell_type": "markdown",
   "metadata": {},
   "source": [
    "NumPy provides two fundamental objects: an *N-dimensional array object (ndarray)* and a *universal function object (ufunc)*. \n",
    "There are several other objects in NumPy that are build over these two fundamental objects.\n",
    "\n",
    "**N-dimensional array**\n",
    "\n",
    "An N-dimensional array is a homogeneous collection of “items” indexed using N integers. \n",
    "There are two essential pieces of information that define an N-dimensional array: \n",
    "- **The shape of the array:** a tuple of N integers (one for each dimension) that provides information on how far the index can vary along that dimension.\n",
    "- **The kind of item the array is composed of:** other important information describing an array is the kind of item the array is composed of. Because every ndarray is a homogeneous collection of exactly the same data-type, every item takes up the same size block of memory, and each block of memory in the array is interpreted in exactly the same way. "
   ]
  },
  {
   "cell_type": "markdown",
   "metadata": {},
   "source": [
    "### 1.6. Data-Type descriptors"
   ]
  },
  {
   "cell_type": "markdown",
   "metadata": {},
   "source": [
    "Each item of ndarray takes up a fixed number of bytes. Typically, this fixed number of bytes represents a number (e.g. integer or floating-point). However, this fixed number of bytes could also represent an arbitrary record made up of any collection of other data types.\n",
    "\n",
    "NumPy achieves this flexibility through the use of a data-type (dtype) object. Every array has an associated dtype object which describes the layout of the array data. Every dtype object, in turn, has an associated Python type-object that determines exactly what type of Python object is returned when an element of the array is accessed. The dtype objects are flexible enough to contain references to arrays of other dtype objects and, therefore, can be used to define nested records.  \n",
    "\n",
    "The data-type points to the type-object of the array scalar. An array scalar is returned using the type-object and a particular element\n",
    "of the ndarray. Every dtype object is based on one of 21 built-in dtype objects. These builtin objects allow numeric operations on a wide-variety of integer, floating-point,and complex data types. Associated with each data-type is a Python type object whose instances are array scalars. This type-object can be obtained using the type attribute of the dtype object. \n",
    "\n",
    "This is shown in this here\n",
    "\n",
    "\n",
    "<img src='./Assets/ndarray-dtype.png' width=600 height=200 align='center'>\n",
    "\n",
    "Python typically defines only one data-type of a particular data class. This can be convenient for some applications that don’t need to be concerned with all the ways data can be represented in a computer. For scientific applications, however, this is not always true. As a result, in NumPy, their are 21 different fundamental Python data-type-descriptor objects built-in. These descriptors are mostly based on the\n",
    "types available in the C language that CPython is written in. \n",
    "\n",
    "Most scientific users should be able to use the array-enhanced scalar objects in place of the Python objects. The array-enhanced scalars inherit from the Python objects they can replace and should act like them under all circumstances (except for how errors are handled in math computations)."
   ]
  },
  {
   "cell_type": "markdown",
   "metadata": {},
   "source": [
    "### 1.7. Memory Layout of of ndarray"
   ]
  },
  {
   "cell_type": "markdown",
   "metadata": {},
   "source": [
    "On a fundamental level, an N-dimensional array object is just a one-dimensional sequence of memory with fancy indexing code that maps an N-dimensional index into a one-dimensional index. The one-dimensional index is necessary on some level because that is how memory is addressed in a computer. \n",
    "\n",
    "The fancy indexing, however, can be very helpful for translating our ideas into computer code. This is because many concepts we wish to model on a computer have a natural representation as an N-dimensional array. \n",
    "\n",
    "A complete understanding of how an N-dimensional array is represented in the computer’s memory is only essential for optimizing algorithms operating on general purpose arrays. But, even for the casual user, a general understanding of memory layout will help to explain the use of certain array attributes that may otherwise be mysterious.\n",
    "\n",
    "\n",
    "**A. Contiguous Memory Layout**\n",
    "\n",
    "There is a fundamental ambiguity in how the mapping to a one-dimensional index can take place/\n",
    "\n",
    "Their are two ways in which numpy approaches it:\n",
    "- **C-style** of N-dimensional indexing shown in the figure  the last N-dimensional index “varies the fastest.” In other words, to move through computer memory sequentially, the last index is incremented first, followed by the second-to-last index and so forth. Some of the algorithms in NumPy that deal with N-dimensional arrays work best with this kind of data.\n",
    "- **Fortran-style** of N-dimensional indexing shown in the Figure the first N-dimensional index “varies the fastest.” Thus, to move through computer memory sequentially, the first index is incremented first until it reaches the limit in that dimension, then the second index is incremented and the first index is reset to zero. \n",
    "\n",
    "<img src='./Assets/array-memory-layout.png' width=600 height=200 align='center'>\n",
    "\n",
    "\n",
    "*Note:* \n",
    "- While NumPy can be compiled without the use of a Fortran compiler, several modules of SciPy (available separately) rely on underlying algorithms written in Fortran. Algorithms that work on N-dimensional arrays that are written in Fortran\n",
    "typically expect Fortran-style arrays.\n",
    "-  Which style is in use can be interrogated by the use of the flags attribute which returns a dictionary of the state of array flags.\n",
    "- The two-styles of memory layout for arrays are connected through the transpose operation. Thus, if A is a (contiguous) C-style array, then the same block of memory can be used to represent A^T (A transpose) as a (contiguous) Fortran-style array. \n",
    "\n",
    "\n",
    "**B. Non-contiguous memory layout**\n",
    "\n",
    "When an algorithm in C or Fortran expects an N-dimensional array, this single segment (of a certain fundamental type) is usually what is expected along with the shape N-tuple. With a single-segment of memory representing the array, the one-dimensional index into computer memory can always be computed from the N-dimensional index. This concept is implemented using strides.\n"
   ]
  },
  {
   "cell_type": "markdown",
   "metadata": {},
   "source": [
    "### 1.8. Universal Functions"
   ]
  },
  {
   "cell_type": "markdown",
   "metadata": {},
   "source": [
    "- Universal functions provide wide range of mathematical functions that operate on ndarray.\n",
    "  - Math operations\n",
    "  - Trigonometric functions\n",
    "  - Bit-twiddling functions\n",
    "  - Comparison functions\n",
    "Floating functions\n",
    "- Each universal function (ufunc) is an instance of a general class so that function behavior is the same. All ufuncs perform element-by-element operations over an array or a set of arrays (for multi-input functions).\n",
    "- One important aspect of ufunc behavior is the idea of broadcasting. \n",
    "\n",
    "[Universal Functions Doc](https://numpy.org/doc/stable/reference/ufuncs.html)"
   ]
  },
  {
   "cell_type": "markdown",
   "metadata": {},
   "source": [
    "### 1.9. Broadcasting"
   ]
  },
  {
   "cell_type": "markdown",
   "metadata": {},
   "source": [
    "Broadcasting is a powerful feature in NumPy that allows us to perform arithmetic operations on arrays of different shapes in a convenient and efficient way. When two arrays have different shapes, NumPy attempts to \"broadcast\" them to a common shape so that the operation can be carried out element-wise. \n",
    "\n",
    "\n",
    "**Rules for Broadcasting:**\n",
    "\n",
    "Broadcasting is achieved by replicating elements in a specific way based on certain rules:\n",
    "\n",
    "- **Dimensions compatibility:** Arrays must have compatible dimensions. Dimensions are considered compatible if they are equal or if one of them is 1. A dimension of 1 means that the corresponding array's element will be repeated along that dimension to match the other array's shape.\n",
    "- **Trailing singleton dimensions:** Arrays can have trailing singleton dimensions (dimensions with size 1). These dimensions are treated as if they were equal and broadcast accordingly.\n",
    "- **Matching leading dimensions:** Leading dimensions (dimensions at the beginning of the shape) must match exactly.\n",
    "\n",
    "\n",
    "**Examples:**\n",
    "\n",
    "1. **Scalar and array:**\n",
    "   - `1 + np.array([2, 3, 4])` results in `[3, 4, 5]`, adding 1 to each element.\n",
    "   - `np.sqrt(np.array([4, 9, 16]))` results in `[2., 3., 4.]`, taking the square root of each element.\n",
    "\n",
    "2. **Arrays with compatible shapes:**\n",
    "   - `np.add(np.array([1, 2, 3]), np.array([4, 5, 6]))` results in `[5, 7, 9]`, adding corresponding elements.\n",
    "   - `np.multiply(np.array([[1, 2], [3, 4]]), np.array([5, 10]))` results in `[[5, 10], [15, 20]]`, multiplying corresponding elements.\n",
    "\n",
    "3. **Broadcasting trailing singleton dimensions:**\n",
    "   - `np.multiply(np.array([10]), np.array([[1, 2, 3], [4, 5, 6]]))` results in `[[10, 20, 30], [40, 50, 60]]`, multiplying each element of `[10]` with all elements of `[[1, 2, 3], [4, 5, 6]]`.\n",
    "\n",
    "\n",
    "**Notes:**\n",
    "- Broadcasting avoids explicit loops, making operations efficient.\n",
    "- It's particularly useful for linear algebra and scientific computing.\n",
    "- Broadcasting can sometimes lead to unexpected results if not used carefully.\n",
    "- For complex operations, explicit loops or vectorized functions might be more efficient."
   ]
  },
  {
   "cell_type": "markdown",
   "metadata": {},
   "source": [
    "## 2. Array Objects"
   ]
  },
  {
   "cell_type": "markdown",
   "metadata": {},
   "source": [
    "NumPy provides an N-dimensional array type, the `ndarray`, which describes a collection of “items” of the same type. The items can be indexed using for example N integers.\n",
    "\n",
    "All ndarrays are homogeneous: every item takes up the same size block of memory, and all blocks are interpreted in exactly the same way. How each item in the array is to be interpreted is specified by a separate data-type object, one of which is associated with every array. In addition to basic types (integers, floats, etc.), the data type objects can also represent data structures.\n",
    "\n",
    "An item extracted from an array (e.g., by indexing,) is represented by a Python object whose type is one of the array scalar types built in NumPy. The array scalars allow easy manipulation of also more complicated arrangements of data.\n",
    "\n",
    "This diagram shows the relationship between the three fundamental objects used to describe the data in an array: \n",
    "- 1. the ndarray itself\n",
    "- 2. the data-type object that describes the layout of a single fixed-size element of the array\n",
    "- 3. the array-scalar Python object that is returned when a single element of the array is accessed.\n",
    "\n",
    "<img src='./Assets/ndarray.png' width=600 height=200 align='center'>"
   ]
  },
  {
   "cell_type": "markdown",
   "metadata": {},
   "source": [
    "### 2.1. Ndarray"
   ]
  },
  {
   "cell_type": "markdown",
   "metadata": {},
   "source": [
    "An ndarray is a (usually fixed-size) multidimensional container of items of the same type and size. The number of dimensions and items in an array is defined by its shape, which is a tuple of N non-negative integers that specify the sizes of each dimension. The type of items in the array is specified by a separate data-type object (dtype), one of which is associated with each ndarray."
   ]
  },
  {
   "cell_type": "markdown",
   "metadata": {},
   "source": [
    "`class numpy.ndarray(shape, dtype=float, buffer=None, offset=0, strides=None, order=None)`\n",
    "\n",
    "**Parameters:**\n",
    "- `shape` tuple of ints - Shape of created array.\n",
    "- `dtype` data type - any object that can be interpreted as a numpy data type.\n",
    "- `bufferobject` exposing buffer interface - sed to fill the array with data.\n",
    "- `offsetint` Offset of array data in buffer.\n",
    "- `stridestuple` of ints - Strides of data in memory.\n",
    "- `order`{‘C’, ‘F’} - Row-major (C-style) or column-major (Fortran-style) order."
   ]
  },
  {
   "cell_type": "markdown",
   "metadata": {},
   "source": [
    "### 2.1.1. Constructing ndarray"
   ]
  },
  {
   "cell_type": "markdown",
   "metadata": {},
   "source": [
    "**From shape or value**\n",
    "- `empty(shape[, dtype, order, like])` Return a new array of given shape and type, without initializing entries.\n",
    "- e`mpty_like(prototype, dtype=None, order='K', subok=True, shape=None)` Return a new array with the same shape and type as a given array.\n",
    "- `eye(N[, M, k, dtype, order, like])` Return a 2-D array with ones on the diagonal and zeros elsewhere.\n",
    "- `identity(n[, dtype, like])` Return the identity array.\n",
    "- `ones(shape[, dtype, order, like])` Return a new array of given shape and type, filled with ones.\n",
    "- `ones_like(a[, dtype, order, subok, shape])` Return an array of ones with the same shape and type as a given array.\n",
    "- `zeros(shape[, dtype, order, like])` Return a new array of given shape and type, filled with zeros.\n",
    "- `zeros_like(a[, dtype, order, subok, shape])` Return an array of zeros with the same shape and type as a given array.\n",
    "- `full(shape, fill_value[, dtype, order, like])` Return a new array of given shape and type, filled with fill_value.\n",
    "- `full_like(a, fill_value, dtype=None, order='K', subok=True, shape=None)` Return a full array with the same shape and type as a given array.\n",
    "\n",
    "\n",
    "**From existing data**\n",
    " - `array(object, dtype=None, *, copy=True, order='K', subok=False, ndmin=0, like=None)` Create an array.\n",
    "- `asarray(a[, dtype, order, like])` Convert the input to an array.\n",
    "- `asanyarray(a[, dtype, order, like])` Convert the input to an ndarray, but pass ndarray subclasses through.\n",
    "- `ascontiguousarray(a[, dtype, like])` Return a contiguous array (ndim >= 1) in memory (C order).\n",
    "- `asmatrix(data[, dtype])` Interpret the input as a matrix.\n",
    "- `copy(a[, order, subok])` Return an array copy of the given object.\n",
    "- `frombuffer(buffer[, dtype, count, offset, like])` Interpret a buffer as a 1-dimensional array.\n",
    "- `from_dlpack(x, /)` Create a NumPy array from an object implementing the __dlpack__ protocol.\n",
    "- `fromfile(file[, dtype, count, sep, offset, like])` Construct an array from data in a text or binary file.\n",
    "- `fromfunction(function, shape, *[, dtype, like])` Construct an array by executing a function over each coordinate.\n",
    "- `fromiter(iter, dtype[, count, like])` Create a new 1-dimensional array from an iterable object.\n",
    "- `fromstring(string[, dtype, count, like])` A new 1-D array initialized from text data in a string.\n",
    "- `loadtxt(fname, dtype=<class 'float'>, comments='#', delimiter=None, converters=None, skiprows=0, usecols=None, unpack=False, ndmin=0, encoding='bytes', max_rows=None, *, quotechar=None, like=None)` Load data from a text file.\n",
    "\n",
    "\n",
    "**Creating record arrays (numpy.rec)**\n",
    "- `numpy.rec` is the preferred alias for numpy.core.records.\n",
    "- `core.records.array(obj, dtype=None, shape=None, offset=0, strides=None, formats=None, names=None, titles=None, aligned=False, byteorder=None, copy=True)` Construct a record array from a wide-variety of objects.\n",
    "- `core.records.fromarrays(arrayList, dtype=None, shape=None, formats=None, names=None, titles=None, aligned=False, byteorder=None)` Create a record array from a (flat) list of arrays\n",
    "- `core.records.fromrecords(recList, dtype=None, shape=None, formats=None, names=None, titles=None, aligned=False, byteorder=None)` Create a recarray from a list of records in text form.\n",
    "- `core.records.fromstring(datastring, dtype=None, shape=None, offset=0, formats=None, names=None, titles=None, aligned=False, byteorder=None)` Create a record array from binary data\n",
    "- `core.records.fromfile(fd, dtype=None, shape=None, offset=0, formats=None, names=None, titles=None, aligned=False, byteorder=None)` Create an array from binary file data\n",
    "- `core.defchararray.array(obj, itemsize=None, copy=True, unicode=None, order=None)`Create a chararray.\n",
    "- `core.defchararray.asarray(obj, itemsize=None, unicode=None, order=None)` Convert the input to a chararray, copying the data only if necessary.\n",
    "\n",
    "\n",
    "**Numerical ranges**\n",
    "- `numpy.arange([start,] stop[, step,][, dtype, like])` Return evenly spaced values within a given interval.\n",
    "- `numpy.linspace(start, stop, num=50, endpoint=True, retstep=False, dtype=None, axis=0)` \n",
    "Return evenly spaced numbers over a specified interval.\n",
    "- `numpy.logspace(start, stop, num=50, endpoint=True, base=10.0, dtype=None, axis=0)` Return numbers spaced evenly on a log scale.\n",
    "- `numpy.geomspace(start, stop, num=50, endpoint=True, dtype=None, axis=0)` Return numbers spaced evenly on a log scale (a geometric progression).\n",
    "- `numpy.meshgrid(*xi[, copy, sparse, indexing])` Return a list of coordinate matrices from coordinate vectors.\n",
    "- `numpy.mgrid` An instance which returns a dense multi-dimensional \"meshgrid\".\n",
    "- `numpy.ogrid` An instance which returns an open multi-dimensional \"meshgrid\".\n",
    "\n",
    "\n",
    "**Building matrices**\n",
    "- `numpy.diag(v[, k])` Extract a diagonal or construct a diagonal array.\n",
    "- `numpy.diagflat(v[, k])` Create a two-dimensional array with the flattened input as a diagonal.\n",
    "- `numpy.tri(N[, M, k, dtype, like])` An array with ones at and below the given diagonal and zeros elsewhere.\n",
    "- `numpy.tril(m[, k])` Lower triangle of an array.\n",
    "- `numpy.triu(m[, k])` Upper triangle of an array.\n",
    "- `numpy.vander(x[, N, increasing])` Generate a Vandermonde matrix.\n",
    "\n",
    "\n",
    "**The Matrix class**\n",
    "- `mat(data[, dtype])` Interpret the input as a matrix.\n",
    "- `bmat(obj[, ldict, gdict])` Build a matrix object from a string, nested sequence, or array.\n",
    "\n",
    "[Docs Reference](https://numpy.org/doc/stable/reference/routines.array-creation.html#routines-array-creation)"
   ]
  }
 ],
 "metadata": {
  "kernelspec": {
   "display_name": "base",
   "language": "python",
   "name": "python3"
  },
  "language_info": {
   "codemirror_mode": {
    "name": "ipython",
    "version": 3
   },
   "file_extension": ".py",
   "mimetype": "text/x-python",
   "name": "python",
   "nbconvert_exporter": "python",
   "pygments_lexer": "ipython3",
   "version": "3.9.18"
  }
 },
 "nbformat": 4,
 "nbformat_minor": 2
}
