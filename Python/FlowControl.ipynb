{
 "cells": [
  {
   "attachments": {},
   "cell_type": "markdown",
   "metadata": {},
   "source": [
    "# Flow Control"
   ]
  },
  {
   "attachments": {},
   "cell_type": "markdown",
   "metadata": {},
   "source": [
    "## 1. If Else Statements (Conditionals)"
   ]
  },
  {
   "attachments": {},
   "cell_type": "markdown",
   "metadata": {},
   "source": [
    "These statements are used to run a code block only when a certain condition is met.\n",
    "\n",
    "Their are three variations of `if..else` statement:\n",
    "- `if` statement\n",
    "- `if..else` statement\n",
    "- `if..elif..else` statement"
   ]
  },
  {
   "attachments": {},
   "cell_type": "markdown",
   "metadata": {},
   "source": [
    "### 1.1. IF  "
   ]
  },
  {
   "attachments": {},
   "cell_type": "markdown",
   "metadata": {},
   "source": [
    "`if` statement evaluates a condition and their are two possible outcomes:\n",
    "1. If condition in `if` statement is True, the code in `if` block executed\n",
    "2. If condition in `if` statement is False, the code in `if` block skipped.\n",
    "\n",
    "```\n",
    "if condition:\n",
    "    # some code\n",
    "```"
   ]
  },
  {
   "cell_type": "code",
   "execution_count": 2,
   "metadata": {},
   "outputs": [
    {
     "name": "stdout",
     "output_type": "stream",
     "text": [
      "Flag is set True\n"
     ]
    }
   ],
   "source": [
    "flag = True\n",
    "\n",
    "if flag is True:\n",
    "    print(\"Flag is set True\")"
   ]
  },
  {
   "attachments": {},
   "cell_type": "markdown",
   "metadata": {},
   "source": [
    "### 1.2. IF Else "
   ]
  },
  {
   "attachments": {},
   "cell_type": "markdown",
   "metadata": {},
   "source": [
    "`if` statement evaluates a condition and their are two possible outcomes:\n",
    "1. If condition in `if` statement is True, the code in `if` block executed and `else` block skipped\n",
    "2. If condition in `if` statement is False, the code in `if` block skipped and `else` block executed.\n",
    "\n",
    "```\n",
    "if condition:\n",
    "    # some code\n",
    "else:\n",
    "    # some code\n",
    "```"
   ]
  },
  {
   "cell_type": "code",
   "execution_count": 3,
   "metadata": {},
   "outputs": [
    {
     "name": "stdout",
     "output_type": "stream",
     "text": [
      "Flag is set True\n"
     ]
    }
   ],
   "source": [
    "flag = True\n",
    "\n",
    "if flag is False:\n",
    "    print('Flag is set False')\n",
    "else:\n",
    "    print(\"Flag is set True\")"
   ]
  },
  {
   "attachments": {},
   "cell_type": "markdown",
   "metadata": {},
   "source": [
    "### 1.3. IF Elif Else"
   ]
  },
  {
   "attachments": {},
   "cell_type": "markdown",
   "metadata": {},
   "source": [
    "`if` and `elif` statements evaluates multiple condition and their are three possible outcomes:\n",
    "1. If condition in `if` statement is True, the code in `if` block executed and all the `elif` and `else` blocks are skipped.\n",
    "2. If condition in `if` statement is False then `elif` blocks are sequently checked and the `elif` block with True condition is executed and all other `elif` block, `if` and `else` block are skipped.\n",
    "3. If condition in `if` and any of `elif` statement is not True, then `else` block is executed.\n",
    "\n",
    "```\n",
    "if condition1:\n",
    "    # some code\n",
    "elif condition2:\n",
    "    # some code\n",
    "elif condition 3:\n",
    "    # some code\n",
    "else:\n",
    "    # some code\n",
    "```"
   ]
  },
  {
   "cell_type": "code",
   "execution_count": 4,
   "metadata": {},
   "outputs": [
    {
     "name": "stdout",
     "output_type": "stream",
     "text": [
      "a is 10\n"
     ]
    }
   ],
   "source": [
    "a = 10\n",
    "b = 100\n",
    "\n",
    "if a < 10:\n",
    "    print('a is smaller than 10')\n",
    "elif a == 10:\n",
    "    print(\"a is 10\")\n",
    "elif b == 100:\n",
    "    print(\"b is 100\")\n",
    "else:\n",
    "    print(\"Default\")"
   ]
  },
  {
   "attachments": {},
   "cell_type": "markdown",
   "metadata": {},
   "source": [
    "*Notice that when an `elif` statement is found to be True other `elif` statement are even not checked*"
   ]
  },
  {
   "attachments": {},
   "cell_type": "markdown",
   "metadata": {},
   "source": [
    "## 2. Loops"
   ]
  },
  {
   "attachments": {},
   "cell_type": "markdown",
   "metadata": {},
   "source": [
    "Loops are used to iterate over iterables. \n",
    "Their are two types of loops in python:\n",
    "- `for` loop\n",
    "- `while` loop"
   ]
  },
  {
   "attachments": {},
   "cell_type": "markdown",
   "metadata": {},
   "source": [
    "### 2.1. For Loop"
   ]
  },
  {
   "cell_type": "markdown",
   "metadata": {},
   "source": [
    "`for` statement iterates over any sequence, in the order they appear in the sequence.\n",
    "\n",
    "```\n",
    "for iterator in sequence:\n",
    "    # some code\n",
    "```\n",
    "\n",
    "`for` loop can have an optional `else` block The `else` part is execute when the loop is exhausted. Only thing to note that if the `for` loop has  a `break` statement then `else` block will not be executed. "
   ]
  },
  {
   "cell_type": "code",
   "execution_count": 5,
   "metadata": {},
   "outputs": [
    {
     "name": "stdout",
     "output_type": "stream",
     "text": [
      "1\n",
      "2\n",
      "3\n"
     ]
    }
   ],
   "source": [
    "for i in [1,2,3]:\n",
    "    print(i)"
   ]
  },
  {
   "cell_type": "code",
   "execution_count": 6,
   "metadata": {},
   "outputs": [
    {
     "name": "stdout",
     "output_type": "stream",
     "text": [
      "1\n",
      "2\n",
      "3\n"
     ]
    }
   ],
   "source": [
    "for i in (1,2,3):\n",
    "    print(i)"
   ]
  },
  {
   "cell_type": "code",
   "execution_count": 7,
   "metadata": {},
   "outputs": [
    {
     "name": "stdout",
     "output_type": "stream",
     "text": [
      "p\n",
      "y\n",
      "t\n",
      "h\n",
      "o\n",
      "n\n"
     ]
    }
   ],
   "source": [
    "for i in 'python':\n",
    "    print(i)"
   ]
  },
  {
   "cell_type": "code",
   "execution_count": 8,
   "metadata": {},
   "outputs": [
    {
     "name": "stdout",
     "output_type": "stream",
     "text": [
      "a\n",
      "b\n"
     ]
    }
   ],
   "source": [
    "for i in {'a': 1, 'b':2}:\n",
    "    print(i)"
   ]
  },
  {
   "cell_type": "code",
   "execution_count": 9,
   "metadata": {},
   "outputs": [
    {
     "name": "stdout",
     "output_type": "stream",
     "text": [
      "1\n",
      "2\n",
      "3\n"
     ]
    }
   ],
   "source": [
    "for i in range(1, 4, 1):\n",
    "    print(i)"
   ]
  },
  {
   "cell_type": "code",
   "execution_count": 10,
   "metadata": {},
   "outputs": [
    {
     "name": "stdout",
     "output_type": "stream",
     "text": [
      "1\n",
      "2\n",
      "3\n",
      "exhausted\n"
     ]
    }
   ],
   "source": [
    "for i in (1,2,3):\n",
    "    print(i)\n",
    "else:\n",
    "    print('exhausted')"
   ]
  },
  {
   "cell_type": "code",
   "execution_count": 11,
   "metadata": {},
   "outputs": [
    {
     "name": "stdout",
     "output_type": "stream",
     "text": [
      "1\n"
     ]
    }
   ],
   "source": [
    "for i in (1,2,3):\n",
    "    print(i)\n",
    "    break\n",
    "else:\n",
    "    print('exhausted')"
   ]
  },
  {
   "attachments": {},
   "cell_type": "markdown",
   "metadata": {},
   "source": [
    "### 2.2. While Loop"
   ]
  },
  {
   "cell_type": "markdown",
   "metadata": {},
   "source": [
    "`while` statement evaluates a condition, if condition is `True` then code in `while` block executed. This looping continues till condition is `True`. \n",
    "\n",
    "```\n",
    "while condition:\n",
    "    # some code\n",
    "```\n",
    "\n",
    "- `while` loop can have an optional `else` block The `else` part is execute when the condition turns `False`. Only thing to note that if the `for` loop has  a `break` statement then `else` block will not be executed. \n",
    "\n",
    "- `while` loop can run into infinite looping problem if condition remains  `True` forever, sometimes this is beneficial as it is used to run some functionalities till the condition is met but sometimes it lead to bugs.\n",
    "\n",
    "- `for` is used when number of iterations is known and while is used when number of iterations are unknown.\n"
   ]
  },
  {
   "cell_type": "code",
   "execution_count": 12,
   "metadata": {},
   "outputs": [],
   "source": [
    "THRESHOLD = 20.5\n",
    "\n",
    "reading = 1.5\n",
    "\n",
    "while reading < THRESHOLD:\n",
    "    reading = reading * 2.2 + 0.01"
   ]
  },
  {
   "cell_type": "code",
   "execution_count": 13,
   "metadata": {},
   "outputs": [
    {
     "name": "stdout",
     "output_type": "stream",
     "text": [
      "Turned False\n"
     ]
    }
   ],
   "source": [
    "counter = 0\n",
    "\n",
    "while counter < 5:\n",
    "    counter += 1\n",
    "else:\n",
    "    print('Turned False')"
   ]
  },
  {
   "cell_type": "code",
   "execution_count": 14,
   "metadata": {},
   "outputs": [],
   "source": [
    "counter = 0\n",
    "\n",
    "while counter < 5:\n",
    "    if counter == 3:\n",
    "        break\n",
    "    \n",
    "    counter += 1\n",
    "else:\n",
    "    print('Turned False')"
   ]
  },
  {
   "cell_type": "markdown",
   "metadata": {},
   "source": [
    "## 3. Functionality statements for flow control"
   ]
  },
  {
   "cell_type": "markdown",
   "metadata": {},
   "source": [
    "### 3.1. Break"
   ]
  },
  {
   "cell_type": "markdown",
   "metadata": {},
   "source": [
    "`break` brakes out of the innermost enclosing of the loop. It terminates the loop immediately when it is encountered.\n",
    "\n",
    "```\n",
    "for iterator in sequence:\n",
    "    # some code\n",
    "    if condition: \n",
    "        break\n",
    "```\n",
    "\n",
    "```\n",
    "while condition:\n",
    "    # some code\n",
    "    if condition:\n",
    "        break\n",
    "```"
   ]
  },
  {
   "cell_type": "code",
   "execution_count": 15,
   "metadata": {},
   "outputs": [],
   "source": [
    "for i in range(1, 10):\n",
    "    if i // 4 == 0:\n",
    "        break"
   ]
  },
  {
   "cell_type": "code",
   "execution_count": 16,
   "metadata": {},
   "outputs": [
    {
     "name": "stdout",
     "output_type": "stream",
     "text": [
      "9\n"
     ]
    }
   ],
   "source": [
    "flag = True\n",
    "\n",
    "while flag:\n",
    "    y, z = 5, 2\n",
    "    \n",
    "    x = y + z * 2\n",
    "\n",
    "    print(x)\n",
    "    \n",
    "    if x >=5:\n",
    "        break"
   ]
  },
  {
   "cell_type": "markdown",
   "metadata": {},
   "source": [
    "### 3.2. Continue"
   ]
  },
  {
   "cell_type": "markdown",
   "metadata": {},
   "source": [
    "`continue` statement is used to skip the current iteration of the loop and control flow of the program goes to the next iteration.\n",
    "\n",
    "```\n",
    "for iterator in sequence:\n",
    "    # some code\n",
    "    if condition: \n",
    "        continue\n",
    "```\n",
    "\n",
    "```\n",
    "while condition:\n",
    "    # some code\n",
    "    if condition:\n",
    "        continue\n",
    "```"
   ]
  },
  {
   "cell_type": "code",
   "execution_count": 17,
   "metadata": {},
   "outputs": [],
   "source": [
    "for i in range(1, 10):\n",
    "    if i // 4 == 0:\n",
    "        continue"
   ]
  },
  {
   "cell_type": "code",
   "execution_count": 18,
   "metadata": {},
   "outputs": [
    {
     "name": "stdout",
     "output_type": "stream",
     "text": [
      "1\n",
      "3\n",
      "5\n",
      "7\n",
      "9\n"
     ]
    }
   ],
   "source": [
    "num = 0\n",
    "\n",
    "while num < 10:\n",
    "    num += 1\n",
    "    \n",
    "    if (num % 2) == 0:\n",
    "        continue\n",
    "\n",
    "    print(num)"
   ]
  },
  {
   "cell_type": "markdown",
   "metadata": {},
   "source": [
    "### 3.3. Pass"
   ]
  },
  {
   "cell_type": "markdown",
   "metadata": {},
   "source": [
    "`pass` statement does nothing and it is used when program requires no action.\n",
    "\n",
    "```\n",
    "if condition:\n",
    "    pass\n",
    "```\n",
    "\n",
    "```\n",
    "def somefunc(args):\n",
    "    pass\n",
    "```\n",
    "\n",
    "```\n",
    "class someclass:\n",
    "    pass\n",
    "```\n",
    "\n",
    "It has two use cases:\n",
    "- It can be used when a statement is required syntactically, ex- if you are looping over some sequence and performing some operation over it but don't want to perform that operation over a specific value so we can put an `if` condition to detect that value and then inside if block we will use `pass`\n",
    "- Another way `pass` can be used as a placeholder for a function, class or conditional when we are working on new code, and want to implement that specific block in future."
   ]
  },
  {
   "cell_type": "code",
   "execution_count": 19,
   "metadata": {},
   "outputs": [
    {
     "name": "stdout",
     "output_type": "stream",
     "text": [
      "4\n",
      "16\n",
      "36\n",
      "64\n",
      "100\n"
     ]
    }
   ],
   "source": [
    "l = [2, 4, 6, 8, 10]\n",
    "\n",
    "for i in l:\n",
    "    if i == 8:\n",
    "        pass\n",
    "\n",
    "    z = i ** 2\n",
    "    print(z)"
   ]
  },
  {
   "cell_type": "code",
   "execution_count": 20,
   "metadata": {},
   "outputs": [],
   "source": [
    "n = 20\n",
    "\n",
    "if n > 100:\n",
    "    pass"
   ]
  },
  {
   "cell_type": "code",
   "execution_count": 21,
   "metadata": {},
   "outputs": [],
   "source": [
    "def stuctSequence():\n",
    "    pass"
   ]
  },
  {
   "cell_type": "code",
   "execution_count": 22,
   "metadata": {},
   "outputs": [],
   "source": [
    "class BluePrint:\n",
    "    pass"
   ]
  },
  {
   "cell_type": "markdown",
   "metadata": {},
   "source": []
  }
 ],
 "metadata": {
  "kernelspec": {
   "display_name": "base",
   "language": "python",
   "name": "python3"
  },
  "language_info": {
   "codemirror_mode": {
    "name": "ipython",
    "version": 3
   },
   "file_extension": ".py",
   "mimetype": "text/x-python",
   "name": "python",
   "nbconvert_exporter": "python",
   "pygments_lexer": "ipython3",
   "version": "3.9.12"
  },
  "orig_nbformat": 4
 },
 "nbformat": 4,
 "nbformat_minor": 2
}
