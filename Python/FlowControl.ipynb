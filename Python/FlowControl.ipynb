{
 "cells": [
  {
   "attachments": {},
   "cell_type": "markdown",
   "metadata": {},
   "source": [
    "# Flow Control"
   ]
  },
  {
   "attachments": {},
   "cell_type": "markdown",
   "metadata": {},
   "source": [
    "## 1. If Else Statements (Conditionals)"
   ]
  },
  {
   "attachments": {},
   "cell_type": "markdown",
   "metadata": {},
   "source": [
    "These statements are used to run a code block only when a certain condition is met.\n",
    "\n",
    "Their are three variations of `if..else` statement:\n",
    "- `if` statement\n",
    "- `if..else` statement\n",
    "- `if..elif..else` statement"
   ]
  },
  {
   "attachments": {},
   "cell_type": "markdown",
   "metadata": {},
   "source": [
    "### 1.1. IF  "
   ]
  },
  {
   "attachments": {},
   "cell_type": "markdown",
   "metadata": {},
   "source": [
    "`if` statement evaluates a condition and their are two possible outcomes:\n",
    "1. If condition in `if` statement is True, the code in `if` block executed\n",
    "2. If condition in `if` statement is False, the code in `if` block skipped.\n",
    "\n",
    "```\n",
    "if condition:\n",
    "    # some code\n",
    "```"
   ]
  },
  {
   "cell_type": "code",
   "execution_count": 1,
   "metadata": {},
   "outputs": [
    {
     "name": "stdout",
     "output_type": "stream",
     "text": [
      "Flag is set True\n"
     ]
    }
   ],
   "source": [
    "flag = True\n",
    "\n",
    "if flag is True:\n",
    "    print(\"Flag is set True\")"
   ]
  },
  {
   "attachments": {},
   "cell_type": "markdown",
   "metadata": {},
   "source": [
    "### 1.2. IF Else "
   ]
  },
  {
   "attachments": {},
   "cell_type": "markdown",
   "metadata": {},
   "source": [
    "`if` statement evaluates a condition and their are two possible outcomes:\n",
    "1. If condition in `if` statement is True, the code in `if` block executed and `else` block skipped\n",
    "2. If condition in `if` statement is False, the code in `if` block skipped and `else` block executed.\n",
    "\n",
    "```\n",
    "if condition:\n",
    "    # some code\n",
    "else:\n",
    "    # some code\n",
    "```"
   ]
  },
  {
   "cell_type": "code",
   "execution_count": 2,
   "metadata": {},
   "outputs": [
    {
     "name": "stdout",
     "output_type": "stream",
     "text": [
      "Flag is set True\n"
     ]
    }
   ],
   "source": [
    "flag = True\n",
    "\n",
    "if flag is False:\n",
    "    print('Flag is set False')\n",
    "else:\n",
    "    print(\"Flag is set True\")"
   ]
  },
  {
   "attachments": {},
   "cell_type": "markdown",
   "metadata": {},
   "source": [
    "### 1.3. IF Elif Else"
   ]
  },
  {
   "attachments": {},
   "cell_type": "markdown",
   "metadata": {},
   "source": [
    "`if` and `elif` statements evaluates multiple condition and their are three possible outcomes:\n",
    "1. If condition in `if` statement is True, the code in `if` block executed and all the `elif` and `else` blocks are skipped.\n",
    "2. If condition in `if` statement is False then `elif` blocks are sequently checked and the `elif` block with True condition is executed and all other `elif` block, `if` and `else` block are skipped.\n",
    "3. If condition in `if` and any of `elif` statement is not True, then `else` block is executed.\n",
    "\n",
    "```\n",
    "if condition1:\n",
    "    # some code\n",
    "elif condition2:\n",
    "    # some code\n",
    "elif condition 3:\n",
    "    # some code\n",
    "else:\n",
    "    # some code\n",
    "```"
   ]
  },
  {
   "cell_type": "code",
   "execution_count": 4,
   "metadata": {},
   "outputs": [
    {
     "name": "stdout",
     "output_type": "stream",
     "text": [
      "a is 10\n"
     ]
    }
   ],
   "source": [
    "a = 10\n",
    "b = 100\n",
    "\n",
    "if a < 10:\n",
    "    print('a is smaller than 10')\n",
    "elif a == 10:\n",
    "    print(\"a is 10\")\n",
    "elif b == 100:\n",
    "    print(\"b is 100\")\n",
    "else:\n",
    "    print(\"Default\")"
   ]
  },
  {
   "attachments": {},
   "cell_type": "markdown",
   "metadata": {},
   "source": [
    "*Notice that when an `elif` statement is found to be True other `elif` statement are even not checked*"
   ]
  }
 ],
 "metadata": {
  "kernelspec": {
   "display_name": "base",
   "language": "python",
   "name": "python3"
  },
  "language_info": {
   "codemirror_mode": {
    "name": "ipython",
    "version": 3
   },
   "file_extension": ".py",
   "mimetype": "text/x-python",
   "name": "python",
   "nbconvert_exporter": "python",
   "pygments_lexer": "ipython3",
   "version": "3.9.12"
  },
  "orig_nbformat": 4
 },
 "nbformat": 4,
 "nbformat_minor": 2
}
