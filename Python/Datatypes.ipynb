{
 "cells": [
  {
   "attachments": {},
   "cell_type": "markdown",
   "metadata": {},
   "source": [
    "# Data Types"
   ]
  },
  {
   "attachments": {},
   "cell_type": "markdown",
   "metadata": {},
   "source": [
    "Variables store data and these data are of various natures or types. Data types are classification of these various types of data a variable can store.\n",
    "\n",
    "As python is OOP based language so everything including th data type, i.e data types are actually classes and variables are instances(objects) of these classes.\n",
    "\n",
    "Their are following data types available in python:\n",
    "- Numeric type (`int, float, complex`)\n",
    "- Sequence type (`str, list, tuple, range`)\n",
    "- Set type (`set, frozenset`)\n",
    "- Boolean (`bool`)\n",
    "- Mapping type (`dict`)\n",
    "- Binary sequence type (`bytes, bytearray, memoryview`)\n",
    "- Miscellaneous type (`enum, graphlib`)"
   ]
  },
  {
   "attachments": {},
   "cell_type": "markdown",
   "metadata": {},
   "source": [
    "## 1. Numeric Type"
   ]
  },
  {
   "attachments": {},
   "cell_type": "markdown",
   "metadata": {},
   "source": [
    "These are used to store the numeric values.\n",
    "\n",
    "- `int` holds signed integers of non-limited length\n",
    "- `float` holds floating decimal points and it is accurate up to 15 decimal places\n",
    "- `complex` holds complex numbers"
   ]
  },
  {
   "cell_type": "code",
   "execution_count": 1,
   "metadata": {},
   "outputs": [],
   "source": [
    "a = 10\n",
    "b = 10.0\n",
    "c = 1 + 3j"
   ]
  },
  {
   "cell_type": "code",
   "execution_count": 2,
   "metadata": {},
   "outputs": [
    {
     "data": {
      "text/plain": [
       "(int, float, complex)"
      ]
     },
     "execution_count": 2,
     "metadata": {},
     "output_type": "execute_result"
    }
   ],
   "source": [
    "type(a), type(b), type(c)"
   ]
  },
  {
   "attachments": {},
   "cell_type": "markdown",
   "metadata": {},
   "source": [
    "## 2. Sequence Type"
   ]
  },
  {
   "attachments": {},
   "cell_type": "markdown",
   "metadata": {},
   "source": [
    "### 2.1. String"
   ]
  },
  {
   "attachments": {},
   "cell_type": "markdown",
   "metadata": {},
   "source": [
    "`str` holds textual data and is an immutable sequence of unicode code points or characters.\n",
    "\n",
    "Basically its an array holding characters.\n",
    "\n",
    "They are written in three ways:\n",
    "- Using single quotes `'`\n",
    "- Using double quotes `\"`\n",
    "- Using triple quotes `'''`\n",
    "\n",
    "\n",
    "Properties:\n",
    "- String is immutable.\n",
    "- White spaces is considered as a character within string.\n",
    "- As they are sequence a character can be accessed using index.\n",
    "- Slicing can be performed on them.\n",
    "- Place holders can be appended within them using formatting.\n",
    "\n",
    "\n",
    "Literals are notations for constant values of some built in types.\n",
    "These literals if present as prefix lead to different interpretation of the string.\n",
    "\n",
    "Available string literals are:\n",
    "- `\\` new line\n",
    "- `\\\\` backslash\n",
    "- `/'` single quote\n",
    "- `\\\"` double quote\n",
    "- `\\a` ASCII bell\n",
    "- `\\b` ASCII backspace\n",
    "- `\\f` ASCII formfeed\n",
    "- `\\n` ASCII linefeed\n",
    "- `\\r` ASCII carriage return\n",
    "- `\\t` ASCII horizontal tab\n",
    "- `\\v` ASCII vertical tab\n",
    "- `\\ooo` character with octal value\n",
    "- `\\xhh` character with hex value hh\n",
    "\n",
    "\n",
    "String methods:\n",
    "- `str.capitalize()` return capitalized copy of string\n",
    "- `str.lower()` return lower case of copy of string\n",
    "- `str.upper()` return upper case of copy of string\n",
    "- `str.casefold()` return casefold copy of string \n",
    "- `str.swapcase()` return a copy of the string with cases swapped\n",
    "- `str.title()` return a titlecased version of the string\n",
    "- `str.center(width[, fillchar])` return centered in as string of length `width`, padding is doen using the `fillchar`\n",
    "- `str.count(sub, [, start[, end]])` return number of non overlapping occurrences of substring\n",
    "- `str.encode(encoding, errors)` return string encoded in bytes\n",
    "- `str.startswith(suffix[, start[, end]])` return `True` if string start with specified prefix else `False`\n",
    "- `str.endswith(suffix[, start[, end]])` return `True` if string end with specified suffix else `False`\n",
    "- `str.expandtabs(tabsize=8)` return a copy of the string where all tab characters are replaced by one or more spaces\n",
    "- `str.find(sub[, start[, end]])` return the loews index in teh string where substring `sub` is found\n",
    "- `str.rfind(sub[, start[, end]])` return the highest index in the string where substring `sub` is found such that `sub` is contained within `s[start: end]`\n",
    "- `str.format(*args, **kwargs)` perform string formatting operation\n",
    "- `str.index(sub[, start[, end]])` same as `find()` but raise `ValueError` if substring not found\n",
    "- `str.isalnum()` return `True` if all characters numeric and their is at least one character else `False`\n",
    "- `str.isalpha()` return `True` if all characters alphabetic and their is at least one character else `False`\n",
    "- `str.isascii()` return `True` if all characters ASCII or no character else `False`\n",
    "- `str.isdecimal()` return `True` if all characters decimal(base10) and their is at least one character else `False`\n",
    "- `str.isdigit()` return `True` if all characters digit and their is at least one character else `False`\n",
    "- `str.isidentifier()` return `True` if string valid identifier else `False`\n",
    "- `str.islower()` return `True` if all characters lower case and their is at least one character else `False`\n",
    "- `str.isupper()` return `True` if all characters upper case and their is at least one character else `False`\n",
    "- `str.isnumeric()` return `True` if all characters numeric and their is at least one character else `False`\n",
    "- `str.isprintable()` return `True` if all characters printable else `False`\n",
    "- `str.isspace()` return `True` if their are only whitespace in string else `False`\n",
    "- `str.istitle()` return `True` if string is title cased and their is at least one character else `False`\n",
    "- `str.join(iterable)` return a string which is the concatenation of the strings in iterable\n",
    "- `str.ljust(widt[, fillchar])` return the string left justified in a string of length `wide `and padding is `fillchar`\n",
    "- `str.rjust(width[, fillchar])` return the string right justified in a string of length `wide `and padding is `fillchar`\n",
    "- `str.strip([chars])` return a copy of the string with trailing characters removed\n",
    "- `str.lstrip([chars])` return a copy of the string with leading characters removed\n",
    "- `str.rstrip([chars])` return a copy of the string with tailing characters removed\n",
    "- `str.removeprefix(prefix, /)` if string starts with `prefix` substring return `string[len(prefix): ]` else original copy of string \n",
    "- `str.removeprefix(suffix, /)` if string ends with `suffix` substring return `string[:-len(suffix)]` else original copy of string\n",
    "- `str.partition(sep)` split the string at the first occurrence of `sep`\n",
    "- `str.rpartition(sep)` split the string at the last occurrence of `sep`\n",
    "- `str.replace(old, new[, count])` return a copy of the string with all occurrences of the substring `old` replaced by `new`\n",
    "- `str.split(sep=None, maxsplit=-1)` return as list of the words in the string, using `sep` as the delimiter string, `maxsplit` specifies total number of split that can be done \n",
    "- `str.rsplit(sep=None, maxsplit=-1)` return as list of the words in teh string using `sep` as delimiter, sames as `split()` just splits from the right\n",
    "- `str.splitlines(keependes=False)` return a  list of the lines in teh string, breaking at line boundaries\n",
    "- `str.fill(width)` return a copy of the string left filled with ASCII `0` digits to make a string of length `width`"
   ]
  },
  {
   "cell_type": "code",
   "execution_count": 3,
   "metadata": {},
   "outputs": [],
   "source": [
    "s = 'Robotics is physical manifestation of AI'\n",
    "p = \"AI is amalgam of mathematics and computer science\"\n",
    "q = '''Data is oxygen of Data science'''"
   ]
  },
  {
   "cell_type": "code",
   "execution_count": 5,
   "metadata": {},
   "outputs": [
    {
     "data": {
      "text/plain": [
       "('Robotics is physical manifestation of ai',\n",
       " 'robotics is physical manifestation of ai',\n",
       " 'ROBOTICS IS PHYSICAL MANIFESTATION OF AI',\n",
       " 'robotics is physical manifestation of ai',\n",
       " 'Robotics Is Physical Manifestation Of Ai',\n",
       " 'rOBOTICS IS PHYSICAL MANIFESTATION OF ai')"
      ]
     },
     "execution_count": 5,
     "metadata": {},
     "output_type": "execute_result"
    }
   ],
   "source": [
    "s.capitalize(), s.lower(), s.upper(), s.casefold(), s.title(), s.swapcase()"
   ]
  },
  {
   "cell_type": "code",
   "execution_count": 9,
   "metadata": {},
   "outputs": [
    {
     "data": {
      "text/plain": [
       "'00000Robotics is physical manifestation of AI00000'"
      ]
     },
     "execution_count": 9,
     "metadata": {},
     "output_type": "execute_result"
    }
   ],
   "source": [
    "s.center(50, '0')"
   ]
  },
  {
   "cell_type": "code",
   "execution_count": 11,
   "metadata": {},
   "outputs": [
    {
     "data": {
      "text/plain": [
       "1"
      ]
     },
     "execution_count": 11,
     "metadata": {},
     "output_type": "execute_result"
    }
   ],
   "source": [
    "s.count('AI')"
   ]
  },
  {
   "cell_type": "code",
   "execution_count": 12,
   "metadata": {},
   "outputs": [
    {
     "data": {
      "text/plain": [
       "b'Robotics is physical manifestation of AI'"
      ]
     },
     "execution_count": 12,
     "metadata": {},
     "output_type": "execute_result"
    }
   ],
   "source": [
    "s.encode()"
   ]
  },
  {
   "cell_type": "code",
   "execution_count": 14,
   "metadata": {},
   "outputs": [
    {
     "data": {
      "text/plain": [
       "(True, False)"
      ]
     },
     "execution_count": 14,
     "metadata": {},
     "output_type": "execute_result"
    }
   ],
   "source": [
    "s.startswith('Robo'), s.endswith('NO')"
   ]
  },
  {
   "cell_type": "code",
   "execution_count": 16,
   "metadata": {},
   "outputs": [
    {
     "data": {
      "text/plain": [
       "'Robotics is physical manifestation of AI'"
      ]
     },
     "execution_count": 16,
     "metadata": {},
     "output_type": "execute_result"
    }
   ],
   "source": [
    "s.expandtabs(20)"
   ]
  },
  {
   "cell_type": "code",
   "execution_count": 17,
   "metadata": {},
   "outputs": [
    {
     "data": {
      "text/plain": [
       "(21, 21)"
      ]
     },
     "execution_count": 17,
     "metadata": {},
     "output_type": "execute_result"
    }
   ],
   "source": [
    "s.find('mani'), s.rfind('mani')"
   ]
  },
  {
   "cell_type": "code",
   "execution_count": 20,
   "metadata": {},
   "outputs": [
    {
     "data": {
      "text/plain": [
       "'I am Iron man'"
      ]
     },
     "execution_count": 20,
     "metadata": {},
     "output_type": "execute_result"
    }
   ],
   "source": [
    "d = \"I {0} Iron {1}\".format('am', 'man')\n",
    "d"
   ]
  },
  {
   "cell_type": "code",
   "execution_count": 22,
   "metadata": {},
   "outputs": [
    {
     "data": {
      "text/plain": [
       "'I am Iron man'"
      ]
     },
     "execution_count": 22,
     "metadata": {},
     "output_type": "execute_result"
    }
   ],
   "source": [
    "a, b = 'am', 'man'\n",
    "e = f\"I {a} Iron {b}\"\n",
    "e"
   ]
  },
  {
   "cell_type": "code",
   "execution_count": 25,
   "metadata": {},
   "outputs": [
    {
     "data": {
      "text/plain": [
       "21"
      ]
     },
     "execution_count": 25,
     "metadata": {},
     "output_type": "execute_result"
    }
   ],
   "source": [
    "s.index('manifestation')"
   ]
  },
  {
   "cell_type": "code",
   "execution_count": 29,
   "metadata": {},
   "outputs": [],
   "source": [
    "x = '2589325y345'\n",
    "y = 'alpha beta gamma'\n",
    "z = 'def'\n",
    "c = 'hi '\n",
    "d = ' abcd '"
   ]
  },
  {
   "cell_type": "code",
   "execution_count": 30,
   "metadata": {},
   "outputs": [
    {
     "data": {
      "text/plain": [
       "(True, False, False)"
      ]
     },
     "execution_count": 30,
     "metadata": {},
     "output_type": "execute_result"
    }
   ],
   "source": [
    "x.isalnum(), x.isdecimal(), x.isdigit()"
   ]
  },
  {
   "cell_type": "code",
   "execution_count": 31,
   "metadata": {},
   "outputs": [
    {
     "data": {
      "text/plain": [
       "(False, True)"
      ]
     },
     "execution_count": 31,
     "metadata": {},
     "output_type": "execute_result"
    }
   ],
   "source": [
    "c.isidentifier(), z.isidentifier()"
   ]
  },
  {
   "cell_type": "code",
   "execution_count": 32,
   "metadata": {},
   "outputs": [
    {
     "data": {
      "text/plain": [
       "False"
      ]
     },
     "execution_count": 32,
     "metadata": {},
     "output_type": "execute_result"
    }
   ],
   "source": [
    "d.isspace()"
   ]
  },
  {
   "cell_type": "code",
   "execution_count": 33,
   "metadata": {},
   "outputs": [
    {
     "data": {
      "text/plain": [
       "(False, False, False)"
      ]
     },
     "execution_count": 33,
     "metadata": {},
     "output_type": "execute_result"
    }
   ],
   "source": [
    "p.isupper(), s.islower(), p.istitle()"
   ]
  },
  {
   "cell_type": "code",
   "execution_count": 34,
   "metadata": {},
   "outputs": [
    {
     "data": {
      "text/plain": [
       "True"
      ]
     },
     "execution_count": 34,
     "metadata": {},
     "output_type": "execute_result"
    }
   ],
   "source": [
    "d.isprintable()"
   ]
  },
  {
   "cell_type": "code",
   "execution_count": 39,
   "metadata": {},
   "outputs": [
    {
     "data": {
      "text/plain": [
       "'A I   i s   a m a l g a m   o f   m a t h e m a t i c s   a n d   c o m p u t e r   s c i e n c e'"
      ]
     },
     "execution_count": 39,
     "metadata": {},
     "output_type": "execute_result"
    }
   ],
   "source": [
    "' '.join(p)"
   ]
  },
  {
   "cell_type": "code",
   "execution_count": 40,
   "metadata": {},
   "outputs": [
    {
     "data": {
      "text/plain": [
       "'AI is amalgam of mathematics and computer science Robotics is physical manifestation of AI'"
      ]
     },
     "execution_count": 40,
     "metadata": {},
     "output_type": "execute_result"
    }
   ],
   "source": [
    "' '.join([p, s])"
   ]
  },
  {
   "cell_type": "code",
   "execution_count": 41,
   "metadata": {},
   "outputs": [
    {
     "data": {
      "text/plain": [
       "'AI is amalgam of mathematics and computer scienceRobotics is physical manifestation of AI'"
      ]
     },
     "execution_count": 41,
     "metadata": {},
     "output_type": "execute_result"
    }
   ],
   "source": [
    "p + s"
   ]
  },
  {
   "cell_type": "code",
   "execution_count": 43,
   "metadata": {},
   "outputs": [
    {
     "data": {
      "text/plain": [
       "('AI is amalgam of mathematics and computer science',\n",
       " 'AI is amalgam of mathematics and computer science')"
      ]
     },
     "execution_count": 43,
     "metadata": {},
     "output_type": "execute_result"
    }
   ],
   "source": [
    "p.ljust(10), p.rjust(20)"
   ]
  },
  {
   "cell_type": "code",
   "execution_count": 50,
   "metadata": {},
   "outputs": [
    {
     "data": {
      "text/plain": [
       "(' is amalgam of mathematics and computer science',\n",
       " 'AI is amalgam of mathematics and computer ',\n",
       " 'AI is amalgam of mathematics and computer science',\n",
       " 'AI is amalgam of mathematics and computer ',\n",
       " 'AI is amalgam of mathematics and computer science',\n",
       " ' is amalgam of mathematics and computer science')"
      ]
     },
     "execution_count": 50,
     "metadata": {},
     "output_type": "execute_result"
    }
   ],
   "source": [
    "p.strip('AI'), p.strip('science'), p.rstrip('AI'), p.rstrip('science'), p.lstrip('science'), p.lstrip('AI')"
   ]
  },
  {
   "cell_type": "code",
   "execution_count": 51,
   "metadata": {},
   "outputs": [
    {
     "data": {
      "text/plain": [
       "(' is amalgam of mathematics and computer science',\n",
       " 'AI is amalgam of mathematics and computer ')"
      ]
     },
     "execution_count": 51,
     "metadata": {},
     "output_type": "execute_result"
    }
   ],
   "source": [
    "p.removeprefix('AI'), p.removesuffix('science')"
   ]
  },
  {
   "cell_type": "code",
   "execution_count": 54,
   "metadata": {},
   "outputs": [
    {
     "data": {
      "text/plain": [
       "(('AI is ', 'amalgam', ' of mathematics and computer science'),\n",
       " ('', 'AI', ' is amalgam of mathematics and computer science'))"
      ]
     },
     "execution_count": 54,
     "metadata": {},
     "output_type": "execute_result"
    }
   ],
   "source": [
    "p.partition('amalgam'), p.rpartition('AI')"
   ]
  },
  {
   "cell_type": "code",
   "execution_count": 55,
   "metadata": {},
   "outputs": [
    {
     "data": {
      "text/plain": [
       "'AI is xyz of mathematics and computer science'"
      ]
     },
     "execution_count": 55,
     "metadata": {},
     "output_type": "execute_result"
    }
   ],
   "source": [
    "p.replace('amalgam', 'xyz')"
   ]
  },
  {
   "cell_type": "code",
   "execution_count": 56,
   "metadata": {},
   "outputs": [
    {
     "data": {
      "text/plain": [
       "(['AI is ', ' of mathematics and computer science'],\n",
       " ['AI is ', ' of mathematics and computer science'])"
      ]
     },
     "execution_count": 56,
     "metadata": {},
     "output_type": "execute_result"
    }
   ],
   "source": [
    "p.split('amalgam'), p.rsplit('amalgam')"
   ]
  },
  {
   "cell_type": "code",
   "execution_count": 60,
   "metadata": {},
   "outputs": [
    {
     "data": {
      "text/plain": [
       "['AI is awesome ', ' but dangerous']"
      ]
     },
     "execution_count": 60,
     "metadata": {},
     "output_type": "execute_result"
    }
   ],
   "source": [
    "b = 'AI is awesome \\n but dangerous'\n",
    "\n",
    "b.splitlines()"
   ]
  },
  {
   "cell_type": "code",
   "execution_count": 63,
   "metadata": {},
   "outputs": [
    {
     "data": {
      "text/plain": [
       "'00010'"
      ]
     },
     "execution_count": 63,
     "metadata": {},
     "output_type": "execute_result"
    }
   ],
   "source": [
    "'10'.zfill(5)"
   ]
  },
  {
   "attachments": {},
   "cell_type": "markdown",
   "metadata": {},
   "source": [
    "### 2.2. List"
   ]
  },
  {
   "attachments": {},
   "cell_type": "markdown",
   "metadata": {},
   "source": [
    "`list` holds collections of homogenous items and is an mutable sequence, the degree of homogeneity depend of various use case.\n",
    "\n",
    "They are specified in two ways:\n",
    "- Denoted using `[]` \n",
    "- Declared using instance of `list` class as `list()` or simply type constructor\n",
    "- Declared using list comprehension `[a for a in iterable]`\n",
    "\n",
    "Properties:\n",
    "- List is mutable.\n",
    "- List can store elements of various data types.\n",
    "- It can store duplicate items.\n",
    "- Any item can be accessed using indexes.\n",
    "- Slicing can be performed on them. \n",
    "- Items of list can be iterated using any loop.\n",
    "\n",
    "*Indexing starts from 0 and negative index also works where -1 represents the last element of the list*\n",
    "\n",
    "\n",
    "List methods:\n",
    "- `list.len()` return size of the list\n",
    "- `list.append(item)` appends `item` at end of the list\n",
    "- `list.extend(iterable)` return copy of list with items of iterable added to the list\n",
    "- `list.insert(index, item)` return copy of list with item added to specified index\n",
    "- `list.remove(item)` removes item from the list\n",
    "- `list.pop(index)` remove and return item at specified index in the list\n",
    "- `list.clear()` return the list with all item removed from it\n",
    "- `list.index(item)` returns the index of the first matched item\n",
    "- `list.count(item)` returns the count of the specified item in the list\n",
    "- `list.sort(reverse)` sort the list in ascending if `reverse=True` else descending\n",
    "- `list.reverse()` returns copy of the list with elements reversed\n",
    "- `list.copy()` returns shallow copy of the list\n",
    "\n",
    "Operations in list:\n",
    "- `list[i] = a` ith item of list replaced by a\n",
    "- `list[i:j:k]` slice of list from i to j with k as number of steps in iteration\n",
    "- `list[i:j] = a` slice of list from i to j replaced by a\n",
    "- `list[i:j:k] = a` slice of list from i to j with step of k replaced by a\n",
    "- `del list[i:j:k]` removes the elements of `list[i:j:k]` from list\n",
    "- `del list[i: j]` same as `list[i:j] = []`\n",
    "- `list *= n` updates the list with its contents repeated n times\n",
    "- `a in list` checks membership of a in list"
   ]
  },
  {
   "cell_type": "code",
   "execution_count": 86,
   "metadata": {},
   "outputs": [],
   "source": [
    "l = ['a', 'b', 'c', 'd']\n",
    "k = list()"
   ]
  },
  {
   "cell_type": "code",
   "execution_count": 87,
   "metadata": {},
   "outputs": [
    {
     "data": {
      "text/plain": [
       "(4, 4)"
      ]
     },
     "execution_count": 87,
     "metadata": {},
     "output_type": "execute_result"
    }
   ],
   "source": [
    "len(l), l.__len__()"
   ]
  },
  {
   "cell_type": "code",
   "execution_count": 88,
   "metadata": {},
   "outputs": [
    {
     "data": {
      "text/plain": [
       "['a', 'b', 'c', 'd', 'w']"
      ]
     },
     "execution_count": 88,
     "metadata": {},
     "output_type": "execute_result"
    }
   ],
   "source": [
    "l.append('w')\n",
    "l"
   ]
  },
  {
   "cell_type": "code",
   "execution_count": 89,
   "metadata": {},
   "outputs": [],
   "source": [
    "s = [3, 4 ,5 ,6]\n",
    "ss = (0, 1, 2)"
   ]
  },
  {
   "cell_type": "code",
   "execution_count": 90,
   "metadata": {},
   "outputs": [
    {
     "data": {
      "text/plain": [
       "['a', 'b', 'c', 'd', 'w', 3, 4, 5, 6]"
      ]
     },
     "execution_count": 90,
     "metadata": {},
     "output_type": "execute_result"
    }
   ],
   "source": [
    "l.extend(s)\n",
    "l"
   ]
  },
  {
   "cell_type": "code",
   "execution_count": 91,
   "metadata": {},
   "outputs": [
    {
     "data": {
      "text/plain": [
       "['a', 'b', 'c', 'd', 'w', 3, 4, 5, 6, 0, 1, 2]"
      ]
     },
     "execution_count": 91,
     "metadata": {},
     "output_type": "execute_result"
    }
   ],
   "source": [
    "l.extend(ss)\n",
    "l"
   ]
  },
  {
   "cell_type": "code",
   "execution_count": 92,
   "metadata": {},
   "outputs": [
    {
     "data": {
      "text/plain": [
       "[20]"
      ]
     },
     "execution_count": 92,
     "metadata": {},
     "output_type": "execute_result"
    }
   ],
   "source": [
    "k.insert(1, 20)\n",
    "k"
   ]
  },
  {
   "cell_type": "code",
   "execution_count": 93,
   "metadata": {},
   "outputs": [
    {
     "data": {
      "text/plain": [
       "[20, 10]"
      ]
     },
     "execution_count": 93,
     "metadata": {},
     "output_type": "execute_result"
    }
   ],
   "source": [
    "k.insert(1, 10)\n",
    "k"
   ]
  },
  {
   "cell_type": "code",
   "execution_count": 94,
   "metadata": {},
   "outputs": [
    {
     "data": {
      "text/plain": [
       "'c'"
      ]
     },
     "execution_count": 94,
     "metadata": {},
     "output_type": "execute_result"
    }
   ],
   "source": [
    "l.pop(2)"
   ]
  },
  {
   "cell_type": "code",
   "execution_count": 95,
   "metadata": {},
   "outputs": [
    {
     "data": {
      "text/plain": [
       "[]"
      ]
     },
     "execution_count": 95,
     "metadata": {},
     "output_type": "execute_result"
    }
   ],
   "source": [
    "l.clear()\n",
    "l"
   ]
  },
  {
   "cell_type": "code",
   "execution_count": 104,
   "metadata": {},
   "outputs": [
    {
     "data": {
      "text/plain": [
       "0"
      ]
     },
     "execution_count": 104,
     "metadata": {},
     "output_type": "execute_result"
    }
   ],
   "source": [
    "k.index(20)"
   ]
  },
  {
   "cell_type": "code",
   "execution_count": 105,
   "metadata": {},
   "outputs": [
    {
     "data": {
      "text/plain": [
       "1"
      ]
     },
     "execution_count": 105,
     "metadata": {},
     "output_type": "execute_result"
    }
   ],
   "source": [
    "k.count(10)"
   ]
  },
  {
   "cell_type": "code",
   "execution_count": 109,
   "metadata": {},
   "outputs": [
    {
     "data": {
      "text/plain": [
       "[10, 20]"
      ]
     },
     "execution_count": 109,
     "metadata": {},
     "output_type": "execute_result"
    }
   ],
   "source": [
    "k.sort(reverse=False)\n",
    "k"
   ]
  },
  {
   "cell_type": "code",
   "execution_count": 111,
   "metadata": {},
   "outputs": [
    {
     "data": {
      "text/plain": [
       "[10, 20]"
      ]
     },
     "execution_count": 111,
     "metadata": {},
     "output_type": "execute_result"
    }
   ],
   "source": [
    "k.reverse()\n",
    "k"
   ]
  },
  {
   "cell_type": "code",
   "execution_count": 112,
   "metadata": {},
   "outputs": [
    {
     "data": {
      "text/plain": [
       "[10, 20]"
      ]
     },
     "execution_count": 112,
     "metadata": {},
     "output_type": "execute_result"
    }
   ],
   "source": [
    "g = k.copy()\n",
    "g"
   ]
  },
  {
   "cell_type": "code",
   "execution_count": 120,
   "metadata": {},
   "outputs": [],
   "source": [
    "l = [1, 5, 6, 10, 8, 12]"
   ]
  },
  {
   "cell_type": "code",
   "execution_count": 121,
   "metadata": {},
   "outputs": [
    {
     "data": {
      "text/plain": [
       "[5]"
      ]
     },
     "execution_count": 121,
     "metadata": {},
     "output_type": "execute_result"
    }
   ],
   "source": [
    "l[1:2]"
   ]
  },
  {
   "cell_type": "code",
   "execution_count": 123,
   "metadata": {},
   "outputs": [
    {
     "data": {
      "text/plain": [
       "[5, 10]"
      ]
     },
     "execution_count": 123,
     "metadata": {},
     "output_type": "execute_result"
    }
   ],
   "source": [
    "l[1:-1:2]"
   ]
  },
  {
   "cell_type": "code",
   "execution_count": 124,
   "metadata": {},
   "outputs": [
    {
     "data": {
      "text/plain": [
       "[1, 5, 6, 10, 8, 12, 1, 5, 6, 10, 8, 12]"
      ]
     },
     "execution_count": 124,
     "metadata": {},
     "output_type": "execute_result"
    }
   ],
   "source": [
    "2 * l"
   ]
  },
  {
   "cell_type": "code",
   "execution_count": 125,
   "metadata": {},
   "outputs": [
    {
     "data": {
      "text/plain": [
       "True"
      ]
     },
     "execution_count": 125,
     "metadata": {},
     "output_type": "execute_result"
    }
   ],
   "source": [
    "5 in l"
   ]
  },
  {
   "cell_type": "code",
   "execution_count": 127,
   "metadata": {},
   "outputs": [
    {
     "data": {
      "text/plain": [
       "[2, 4, 6, 8]"
      ]
     },
     "execution_count": 127,
     "metadata": {},
     "output_type": "execute_result"
    }
   ],
   "source": [
    "# List comprehension with conditional and loop\n",
    "even = [i for i in range(1, 10) if i % 2 == 0]\n",
    "even"
   ]
  },
  {
   "attachments": {},
   "cell_type": "markdown",
   "metadata": {},
   "source": [
    "### 2.3. Tuple"
   ]
  },
  {
   "attachments": {},
   "cell_type": "markdown",
   "metadata": {},
   "source": [
    "`tuple` holds collections of heterogenous items and is an immutable sequence\n",
    "\n",
    "The only difference between list and tuple is that tuples are immutable while lists are mutable.\n",
    "\n",
    "\n",
    "They are specified in two ways:\n",
    "- Denoted using `()` \n",
    "- Declared using instance of `tuple` class as `tuple(iterable)` or simply type constructor\n",
    "\n",
    "\n",
    "Properties:\n",
    "- Tuple is mutable.\n",
    "- Tuple can store elements of various data types.\n",
    "- It can store duplicate items.\n",
    "- Any item can be accessed using indexes.\n",
    "- Slicing can be performed on them. \n",
    "- Items of list can be iterated using any loop.\n",
    "\n",
    "*Indexing starts from 0 and negative index also works where -1 represents the last element of the tuple*\n",
    "\n",
    "*It is the trailing comma after each item in parenthesis that makes it tuple*\n",
    "\n",
    "Tuple methods:\n",
    "- `tuple.count(item)` return the count of total occurrence of `item` in tuple\n",
    "- `tuple.index(item)` return the index of first occurrence of `item`\n",
    "\n",
    "Operations in Tuple:\n",
    "- `item in tuple` Membership test \n",
    "- `tuple1 + tuple2` concatenation of tuples\n",
    "- `tuple[start: stop: step]` slicing of tuple\n",
    "- `del tuple` deletes the tuple"
   ]
  },
  {
   "cell_type": "code",
   "execution_count": 13,
   "metadata": {},
   "outputs": [
    {
     "data": {
      "text/plain": [
       "(1, 'a', 2, 'b', True, 2, 2)"
      ]
     },
     "execution_count": 13,
     "metadata": {},
     "output_type": "execute_result"
    }
   ],
   "source": [
    "a = (1, 'a', 2, 'b', True, 2, 2)\n",
    "a"
   ]
  },
  {
   "cell_type": "code",
   "execution_count": 14,
   "metadata": {},
   "outputs": [
    {
     "data": {
      "text/plain": [
       "(2, 4, 6, 8, 10)"
      ]
     },
     "execution_count": 14,
     "metadata": {},
     "output_type": "execute_result"
    }
   ],
   "source": [
    "l = [2, 4, 6, 8, 10]\n",
    "\n",
    "b = tuple(l)\n",
    "b"
   ]
  },
  {
   "cell_type": "code",
   "execution_count": 15,
   "metadata": {},
   "outputs": [
    {
     "data": {
      "text/plain": [
       "(3, 2)"
      ]
     },
     "execution_count": 15,
     "metadata": {},
     "output_type": "execute_result"
    }
   ],
   "source": [
    "a.count(2), a.index(2)"
   ]
  },
  {
   "cell_type": "code",
   "execution_count": 16,
   "metadata": {},
   "outputs": [
    {
     "data": {
      "text/plain": [
       "(1, 'a', 2, 'b', True, 2, 2, 2, 4, 6, 8, 10)"
      ]
     },
     "execution_count": 16,
     "metadata": {},
     "output_type": "execute_result"
    }
   ],
   "source": [
    "a + b"
   ]
  },
  {
   "cell_type": "code",
   "execution_count": 17,
   "metadata": {},
   "outputs": [
    {
     "data": {
      "text/plain": [
       "True"
      ]
     },
     "execution_count": 17,
     "metadata": {},
     "output_type": "execute_result"
    }
   ],
   "source": [
    "2 in a"
   ]
  },
  {
   "cell_type": "code",
   "execution_count": 21,
   "metadata": {},
   "outputs": [],
   "source": [
    "del b"
   ]
  },
  {
   "attachments": {},
   "cell_type": "markdown",
   "metadata": {},
   "source": [
    "## 3. Set Type"
   ]
  },
  {
   "attachments": {},
   "cell_type": "markdown",
   "metadata": {},
   "source": [
    "## 4. Boolean Type"
   ]
  },
  {
   "attachments": {},
   "cell_type": "markdown",
   "metadata": {},
   "source": [
    "## 5. Mapping Type"
   ]
  },
  {
   "attachments": {},
   "cell_type": "markdown",
   "metadata": {},
   "source": [
    "## 6. Binary Sequence Type"
   ]
  },
  {
   "attachments": {},
   "cell_type": "markdown",
   "metadata": {},
   "source": [
    "## 7. Miscellaneous Type"
   ]
  }
 ],
 "metadata": {
  "kernelspec": {
   "display_name": "base",
   "language": "python",
   "name": "python3"
  },
  "language_info": {
   "codemirror_mode": {
    "name": "ipython",
    "version": 3
   },
   "file_extension": ".py",
   "mimetype": "text/x-python",
   "name": "python",
   "nbconvert_exporter": "python",
   "pygments_lexer": "ipython3",
   "version": "3.9.12"
  },
  "orig_nbformat": 4
 },
 "nbformat": 4,
 "nbformat_minor": 2
}
