{
 "cells": [
  {
   "attachments": {},
   "cell_type": "markdown",
   "metadata": {},
   "source": [
    "# Data Types"
   ]
  },
  {
   "attachments": {},
   "cell_type": "markdown",
   "metadata": {},
   "source": [
    "Variables store data and these data are of various natures or types. Data types are classification of these various types of data a variable can store.\n",
    "\n",
    "As python is OOP based language so everything including th data type, i.e data types are actually classes and variables are instances(objects) of these classes.\n",
    "\n",
    "Their are following data types available in python:\n",
    "- Numeric type (`int, float, complex`)\n",
    "- Sequence type (`str, list, tuple, range`)\n",
    "- Set type (`set, frozenset`)\n",
    "- Boolean (`bool`)\n",
    "- Mapping type (`dict`)\n",
    "- Binary sequence type (`bytes, bytearray, memoryview`)\n",
    "- Miscellaneous type (`enum, graphlib`)"
   ]
  },
  {
   "attachments": {},
   "cell_type": "markdown",
   "metadata": {},
   "source": [
    "## 1. Numeric Type"
   ]
  },
  {
   "attachments": {},
   "cell_type": "markdown",
   "metadata": {},
   "source": [
    "These are used to store the numeric values.\n",
    "\n",
    "- `int` holds signed integers of non-limited length\n",
    "- `float` holds floating decimal points and it is accurate up to 15 decimal places\n",
    "- `complex` holds complex numbers"
   ]
  },
  {
   "cell_type": "code",
   "execution_count": 1,
   "metadata": {},
   "outputs": [],
   "source": [
    "a = 10\n",
    "b = 10.0\n",
    "c = 1 + 3j"
   ]
  },
  {
   "cell_type": "code",
   "execution_count": 2,
   "metadata": {},
   "outputs": [
    {
     "data": {
      "text/plain": [
       "(int, float, complex)"
      ]
     },
     "execution_count": 2,
     "metadata": {},
     "output_type": "execute_result"
    }
   ],
   "source": [
    "type(a), type(b), type(c)"
   ]
  },
  {
   "attachments": {},
   "cell_type": "markdown",
   "metadata": {},
   "source": [
    "## 2. Sequence Type"
   ]
  },
  {
   "attachments": {},
   "cell_type": "markdown",
   "metadata": {},
   "source": [
    "### 2.1. String"
   ]
  },
  {
   "attachments": {},
   "cell_type": "markdown",
   "metadata": {},
   "source": [
    "`str` holds textual data and is an immutable sequence of unicode code points or characters.\n",
    "\n",
    "Basically its an array holding characters.\n",
    "\n",
    "They are written in three ways:\n",
    "- Using single quotes `'`\n",
    "- Using double quotes `\"`\n",
    "- Using triple quotes `'''`\n",
    "\n",
    "\n",
    "Properties:\n",
    "- String is immutable.\n",
    "- White spaces is considered as a character within string.\n",
    "- As they are sequence a character can be accessed using index.\n",
    "- Slicing can be performed on them.\n",
    "- Place holders can be appended within them using formatting.\n",
    "\n",
    "\n",
    "Literals are notations for constant values of some built in types.\n",
    "These literals if present as prefix lead to different interpretation of the string.\n",
    "\n",
    "Available string literals are:\n",
    "- `\\` new line\n",
    "- `\\\\` backslash\n",
    "- `/'` single quote\n",
    "- `\\\"` double quote\n",
    "- `\\a` ASCII bell\n",
    "- `\\b` ASCII backspace\n",
    "- `\\f` ASCII formfeed\n",
    "- `\\n` ASCII linefeed\n",
    "- `\\r` ASCII carriage return\n",
    "- `\\t` ASCII horizontal tab\n",
    "- `\\v` ASCII vertical tab\n",
    "- `\\ooo` character with octal value\n",
    "- `\\xhh` character with hex value hh\n",
    "\n",
    "\n",
    "String methods:\n",
    "- `str.capitalize()` return capitalized copy of string\n",
    "- `str.lower()` return lower case of copy of string\n",
    "- `str.upper()` return upper case of copy of string\n",
    "- `str.casefold()` return casefold copy of string \n",
    "- `str.swapcase()` return a copy of the string with cases swapped\n",
    "- `str.title()` return a titlecased version of the string\n",
    "- `str.center(width[, fillchar])` return centered in as string of length `width`, padding is doen using the `fillchar`\n",
    "- `str.count(sub, [, start[, end]])` return number of non overlapping occurrences of substring\n",
    "- `str.encode(encoding, errors)` return string encoded in bytes\n",
    "- `str.startswith(suffix[, start[, end]])` return `True` if string start with specified prefix else `False`\n",
    "- `str.endswith(suffix[, start[, end]])` return `True` if string end with specified suffix else `False`\n",
    "- `str.expandtabs(tabsize=8)` return a copy of the string where all tab characters are replaced by one or more spaces\n",
    "- `str.find(sub[, start[, end]])` return the loews index in teh string where substring `sub` is found\n",
    "- `str.rfind(sub[, start[, end]])` return the highest index in the string where substring `sub` is found such that `sub` is contained within `s[start: end]`\n",
    "- `str.format(*args, **kwargs)` perform string formatting operation\n",
    "- `str.index(sub[, start[, end]])` same as `find()` but raise `ValueError` if substring not found\n",
    "- `str.isalnum()` return `True` if all characters numeric and their is at least one character else `False`\n",
    "- `str.isalpha()` return `True` if all characters alphabetic and their is at least one character else `False`\n",
    "- `str.isascii()` return `True` if all characters ASCII or no character else `False`\n",
    "- `str.isdecimal()` return `True` if all characters decimal(base10) and their is at least one character else `False`\n",
    "- `str.isdigit()` return `True` if all characters digit and their is at least one character else `False`\n",
    "- `str.isidentifier()` return `True` if string valid identifier else `False`\n",
    "- `str.islower()` return `True` if all characters lower case and their is at least one character else `False`\n",
    "- `str.isupper()` return `True` if all characters upper case and their is at least one character else `False`\n",
    "- `str.isnumeric()` return `True` if all characters numeric and their is at least one character else `False`\n",
    "- `str.isprintable()` return `True` if all characters printable else `False`\n",
    "- `str.isspace()` return `True` if their are only whitespace in string else `False`\n",
    "- `str.istitle()` return `True` if string is title cased and their is at least one character else `False`\n",
    "- `str.join(iterable)` return a string which is the concatenation of the strings in iterable\n",
    "- `str.ljust(widt[, fillchar])` return the string left justified in a string of length `wide `and padding is `fillchar`\n",
    "- `str.rjust(width[, fillchar])` return the string right justified in a string of length `wide `and padding is `fillchar`\n",
    "- `str.strip([chars])` return a copy of the string with trailing characters removed\n",
    "- `str.lstrip([chars])` return a copy of the string with leading characters removed\n",
    "- `str.rstrip([chars])` return a copy of the string with tailing characters removed\n",
    "- `str.removeprefix(prefix, /)` if string starts with `prefix` substring return `string[len(prefix): ]` else original copy of string \n",
    "- `str.removeprefix(suffix, /)` if string ends with `suffix` substring return `string[:-len(suffix)]` else original copy of string\n",
    "- `str.partition(sep)` split the string at the first occurrence of `sep`\n",
    "- `str.rpartition(sep)` split the string at the last occurrence of `sep`\n",
    "- `str.replace(old, new[, count])` return a copy of the string with all occurrences of the substring `old` replaced by `new`\n",
    "- `str.split(sep=None, maxsplit=-1)` return as list of the words in the string, using `sep` as the delimiter string, `maxsplit` specifies total number of split that can be done \n",
    "- `str.rsplit(sep=None, maxsplit=-1)` return as list of the words in teh string using `sep` as delimiter, sames as `split()` just splits from the right\n",
    "- `str.splitlines(keependes=False)` return a  list of the lines in teh string, breaking at line boundaries\n",
    "- `str.fill(width)` return a copy of the string left filled with ASCII `0` digits to make a string of length `width`"
   ]
  },
  {
   "cell_type": "code",
   "execution_count": 3,
   "metadata": {},
   "outputs": [],
   "source": [
    "s = 'Robotics is physical manifestation of AI'\n",
    "p = \"AI is amalgam of mathematics and computer science\"\n",
    "q = '''Data is oxygen of Data science'''"
   ]
  },
  {
   "cell_type": "code",
   "execution_count": 5,
   "metadata": {},
   "outputs": [
    {
     "data": {
      "text/plain": [
       "('Robotics is physical manifestation of ai',\n",
       " 'robotics is physical manifestation of ai',\n",
       " 'ROBOTICS IS PHYSICAL MANIFESTATION OF AI',\n",
       " 'robotics is physical manifestation of ai',\n",
       " 'Robotics Is Physical Manifestation Of Ai',\n",
       " 'rOBOTICS IS PHYSICAL MANIFESTATION OF ai')"
      ]
     },
     "execution_count": 5,
     "metadata": {},
     "output_type": "execute_result"
    }
   ],
   "source": [
    "s.capitalize(), s.lower(), s.upper(), s.casefold(), s.title(), s.swapcase()"
   ]
  },
  {
   "cell_type": "code",
   "execution_count": 9,
   "metadata": {},
   "outputs": [
    {
     "data": {
      "text/plain": [
       "'00000Robotics is physical manifestation of AI00000'"
      ]
     },
     "execution_count": 9,
     "metadata": {},
     "output_type": "execute_result"
    }
   ],
   "source": [
    "s.center(50, '0')"
   ]
  },
  {
   "cell_type": "code",
   "execution_count": 11,
   "metadata": {},
   "outputs": [
    {
     "data": {
      "text/plain": [
       "1"
      ]
     },
     "execution_count": 11,
     "metadata": {},
     "output_type": "execute_result"
    }
   ],
   "source": [
    "s.count('AI')"
   ]
  },
  {
   "cell_type": "code",
   "execution_count": 12,
   "metadata": {},
   "outputs": [
    {
     "data": {
      "text/plain": [
       "b'Robotics is physical manifestation of AI'"
      ]
     },
     "execution_count": 12,
     "metadata": {},
     "output_type": "execute_result"
    }
   ],
   "source": [
    "s.encode()"
   ]
  },
  {
   "cell_type": "code",
   "execution_count": 14,
   "metadata": {},
   "outputs": [
    {
     "data": {
      "text/plain": [
       "(True, False)"
      ]
     },
     "execution_count": 14,
     "metadata": {},
     "output_type": "execute_result"
    }
   ],
   "source": [
    "s.startswith('Robo'), s.endswith('NO')"
   ]
  },
  {
   "cell_type": "code",
   "execution_count": 16,
   "metadata": {},
   "outputs": [
    {
     "data": {
      "text/plain": [
       "'Robotics is physical manifestation of AI'"
      ]
     },
     "execution_count": 16,
     "metadata": {},
     "output_type": "execute_result"
    }
   ],
   "source": [
    "s.expandtabs(20)"
   ]
  },
  {
   "cell_type": "code",
   "execution_count": 17,
   "metadata": {},
   "outputs": [
    {
     "data": {
      "text/plain": [
       "(21, 21)"
      ]
     },
     "execution_count": 17,
     "metadata": {},
     "output_type": "execute_result"
    }
   ],
   "source": [
    "s.find('mani'), s.rfind('mani')"
   ]
  },
  {
   "cell_type": "code",
   "execution_count": 20,
   "metadata": {},
   "outputs": [
    {
     "data": {
      "text/plain": [
       "'I am Iron man'"
      ]
     },
     "execution_count": 20,
     "metadata": {},
     "output_type": "execute_result"
    }
   ],
   "source": [
    "d = \"I {0} Iron {1}\".format('am', 'man')\n",
    "d"
   ]
  },
  {
   "cell_type": "code",
   "execution_count": 22,
   "metadata": {},
   "outputs": [
    {
     "data": {
      "text/plain": [
       "'I am Iron man'"
      ]
     },
     "execution_count": 22,
     "metadata": {},
     "output_type": "execute_result"
    }
   ],
   "source": [
    "a, b = 'am', 'man'\n",
    "e = f\"I {a} Iron {b}\"\n",
    "e"
   ]
  },
  {
   "cell_type": "code",
   "execution_count": 25,
   "metadata": {},
   "outputs": [
    {
     "data": {
      "text/plain": [
       "21"
      ]
     },
     "execution_count": 25,
     "metadata": {},
     "output_type": "execute_result"
    }
   ],
   "source": [
    "s.index('manifestation')"
   ]
  },
  {
   "cell_type": "code",
   "execution_count": 29,
   "metadata": {},
   "outputs": [],
   "source": [
    "x = '2589325y345'\n",
    "y = 'alpha beta gamma'\n",
    "z = 'def'\n",
    "c = 'hi '\n",
    "d = ' abcd '"
   ]
  },
  {
   "cell_type": "code",
   "execution_count": 30,
   "metadata": {},
   "outputs": [
    {
     "data": {
      "text/plain": [
       "(True, False, False)"
      ]
     },
     "execution_count": 30,
     "metadata": {},
     "output_type": "execute_result"
    }
   ],
   "source": [
    "x.isalnum(), x.isdecimal(), x.isdigit()"
   ]
  },
  {
   "cell_type": "code",
   "execution_count": 31,
   "metadata": {},
   "outputs": [
    {
     "data": {
      "text/plain": [
       "(False, True)"
      ]
     },
     "execution_count": 31,
     "metadata": {},
     "output_type": "execute_result"
    }
   ],
   "source": [
    "c.isidentifier(), z.isidentifier()"
   ]
  },
  {
   "cell_type": "code",
   "execution_count": 32,
   "metadata": {},
   "outputs": [
    {
     "data": {
      "text/plain": [
       "False"
      ]
     },
     "execution_count": 32,
     "metadata": {},
     "output_type": "execute_result"
    }
   ],
   "source": [
    "d.isspace()"
   ]
  },
  {
   "cell_type": "code",
   "execution_count": 33,
   "metadata": {},
   "outputs": [
    {
     "data": {
      "text/plain": [
       "(False, False, False)"
      ]
     },
     "execution_count": 33,
     "metadata": {},
     "output_type": "execute_result"
    }
   ],
   "source": [
    "p.isupper(), s.islower(), p.istitle()"
   ]
  },
  {
   "cell_type": "code",
   "execution_count": 34,
   "metadata": {},
   "outputs": [
    {
     "data": {
      "text/plain": [
       "True"
      ]
     },
     "execution_count": 34,
     "metadata": {},
     "output_type": "execute_result"
    }
   ],
   "source": [
    "d.isprintable()"
   ]
  },
  {
   "cell_type": "code",
   "execution_count": 39,
   "metadata": {},
   "outputs": [
    {
     "data": {
      "text/plain": [
       "'A I   i s   a m a l g a m   o f   m a t h e m a t i c s   a n d   c o m p u t e r   s c i e n c e'"
      ]
     },
     "execution_count": 39,
     "metadata": {},
     "output_type": "execute_result"
    }
   ],
   "source": [
    "' '.join(p)"
   ]
  },
  {
   "cell_type": "code",
   "execution_count": 40,
   "metadata": {},
   "outputs": [
    {
     "data": {
      "text/plain": [
       "'AI is amalgam of mathematics and computer science Robotics is physical manifestation of AI'"
      ]
     },
     "execution_count": 40,
     "metadata": {},
     "output_type": "execute_result"
    }
   ],
   "source": [
    "' '.join([p, s])"
   ]
  },
  {
   "cell_type": "code",
   "execution_count": 41,
   "metadata": {},
   "outputs": [
    {
     "data": {
      "text/plain": [
       "'AI is amalgam of mathematics and computer scienceRobotics is physical manifestation of AI'"
      ]
     },
     "execution_count": 41,
     "metadata": {},
     "output_type": "execute_result"
    }
   ],
   "source": [
    "p + s"
   ]
  },
  {
   "cell_type": "code",
   "execution_count": 43,
   "metadata": {},
   "outputs": [
    {
     "data": {
      "text/plain": [
       "('AI is amalgam of mathematics and computer science',\n",
       " 'AI is amalgam of mathematics and computer science')"
      ]
     },
     "execution_count": 43,
     "metadata": {},
     "output_type": "execute_result"
    }
   ],
   "source": [
    "p.ljust(10), p.rjust(20)"
   ]
  },
  {
   "cell_type": "code",
   "execution_count": 50,
   "metadata": {},
   "outputs": [
    {
     "data": {
      "text/plain": [
       "(' is amalgam of mathematics and computer science',\n",
       " 'AI is amalgam of mathematics and computer ',\n",
       " 'AI is amalgam of mathematics and computer science',\n",
       " 'AI is amalgam of mathematics and computer ',\n",
       " 'AI is amalgam of mathematics and computer science',\n",
       " ' is amalgam of mathematics and computer science')"
      ]
     },
     "execution_count": 50,
     "metadata": {},
     "output_type": "execute_result"
    }
   ],
   "source": [
    "p.strip('AI'), p.strip('science'), p.rstrip('AI'), p.rstrip('science'), p.lstrip('science'), p.lstrip('AI')"
   ]
  },
  {
   "cell_type": "code",
   "execution_count": 51,
   "metadata": {},
   "outputs": [
    {
     "data": {
      "text/plain": [
       "(' is amalgam of mathematics and computer science',\n",
       " 'AI is amalgam of mathematics and computer ')"
      ]
     },
     "execution_count": 51,
     "metadata": {},
     "output_type": "execute_result"
    }
   ],
   "source": [
    "p.removeprefix('AI'), p.removesuffix('science')"
   ]
  },
  {
   "cell_type": "code",
   "execution_count": 54,
   "metadata": {},
   "outputs": [
    {
     "data": {
      "text/plain": [
       "(('AI is ', 'amalgam', ' of mathematics and computer science'),\n",
       " ('', 'AI', ' is amalgam of mathematics and computer science'))"
      ]
     },
     "execution_count": 54,
     "metadata": {},
     "output_type": "execute_result"
    }
   ],
   "source": [
    "p.partition('amalgam'), p.rpartition('AI')"
   ]
  },
  {
   "cell_type": "code",
   "execution_count": 55,
   "metadata": {},
   "outputs": [
    {
     "data": {
      "text/plain": [
       "'AI is xyz of mathematics and computer science'"
      ]
     },
     "execution_count": 55,
     "metadata": {},
     "output_type": "execute_result"
    }
   ],
   "source": [
    "p.replace('amalgam', 'xyz')"
   ]
  },
  {
   "cell_type": "code",
   "execution_count": 56,
   "metadata": {},
   "outputs": [
    {
     "data": {
      "text/plain": [
       "(['AI is ', ' of mathematics and computer science'],\n",
       " ['AI is ', ' of mathematics and computer science'])"
      ]
     },
     "execution_count": 56,
     "metadata": {},
     "output_type": "execute_result"
    }
   ],
   "source": [
    "p.split('amalgam'), p.rsplit('amalgam')"
   ]
  },
  {
   "cell_type": "code",
   "execution_count": 60,
   "metadata": {},
   "outputs": [
    {
     "data": {
      "text/plain": [
       "['AI is awesome ', ' but dangerous']"
      ]
     },
     "execution_count": 60,
     "metadata": {},
     "output_type": "execute_result"
    }
   ],
   "source": [
    "b = 'AI is awesome \\n but dangerous'\n",
    "\n",
    "b.splitlines()"
   ]
  },
  {
   "cell_type": "code",
   "execution_count": 63,
   "metadata": {},
   "outputs": [
    {
     "data": {
      "text/plain": [
       "'00010'"
      ]
     },
     "execution_count": 63,
     "metadata": {},
     "output_type": "execute_result"
    }
   ],
   "source": [
    "'10'.zfill(5)"
   ]
  },
  {
   "attachments": {},
   "cell_type": "markdown",
   "metadata": {},
   "source": [
    "### 2.2. List"
   ]
  },
  {
   "attachments": {},
   "cell_type": "markdown",
   "metadata": {},
   "source": [
    "`list` holds collections of homogenous items and is an mutable sequence, the degree of homogeneity depend of various use case.\n",
    "\n",
    "They are specified in two ways:\n",
    "- Denoted using `[]` \n",
    "- Declared using instance of `list` class as `list()` or simply type constructor\n",
    "- Declared using list comprehension `[a for a in iterable]`\n",
    "\n",
    "Properties:\n",
    "- List is mutable.\n",
    "- List can store elements of various data types.\n",
    "- It can store duplicate items.\n",
    "- Any item can be accessed using indexes.\n",
    "- Slicing can be performed on them. \n",
    "- Items of list can be iterated using any loop.\n",
    "\n",
    "*Indexing starts from 0 and negative index also works where -1 represents the last element of the list*\n",
    "\n",
    "\n",
    "List methods:\n",
    "- `list.len()` return size of the list\n",
    "- `list.append(item)` appends `item` at end of the list\n",
    "- `list.extend(iterable)` return copy of list with items of iterable added to the list\n",
    "- `list.insert(index, item)` return copy of list with item added to specified index\n",
    "- `list.remove(item)` removes item from the list\n",
    "- `list.pop(index)` remove and return item at specified index in the list\n",
    "- `list.clear()` return the list with all item removed from it\n",
    "- `list.index(item)` returns the index of the first matched item\n",
    "- `list.count(item)` returns the count of the specified item in the list\n",
    "- `list.sort(reverse)` sort the list in ascending if `reverse=True` else descending\n",
    "- `list.reverse()` returns copy of the list with elements reversed\n",
    "- `list.copy()` returns shallow copy of the list\n",
    "\n",
    "Operations in list:\n",
    "- `list[i] = a` ith item of list replaced by a\n",
    "- `list[i:j:k]` slice of list from i to j with k as number of steps in iteration\n",
    "- `list[i:j] = a` slice of list from i to j replaced by a\n",
    "- `list[i:j:k] = a` slice of list from i to j with step of k replaced by a\n",
    "- `del list[i:j:k]` removes the elements of `list[i:j:k]` from list\n",
    "- `del list[i: j]` same as `list[i:j] = []`\n",
    "- `list *= n` updates the list with its contents repeated n times\n",
    "- `a in list` checks membership of a in list"
   ]
  },
  {
   "cell_type": "code",
   "execution_count": 86,
   "metadata": {},
   "outputs": [],
   "source": [
    "l = ['a', 'b', 'c', 'd']\n",
    "k = list()"
   ]
  },
  {
   "cell_type": "code",
   "execution_count": 87,
   "metadata": {},
   "outputs": [
    {
     "data": {
      "text/plain": [
       "(4, 4)"
      ]
     },
     "execution_count": 87,
     "metadata": {},
     "output_type": "execute_result"
    }
   ],
   "source": [
    "len(l), l.__len__()"
   ]
  },
  {
   "cell_type": "code",
   "execution_count": 88,
   "metadata": {},
   "outputs": [
    {
     "data": {
      "text/plain": [
       "['a', 'b', 'c', 'd', 'w']"
      ]
     },
     "execution_count": 88,
     "metadata": {},
     "output_type": "execute_result"
    }
   ],
   "source": [
    "l.append('w')\n",
    "l"
   ]
  },
  {
   "cell_type": "code",
   "execution_count": 89,
   "metadata": {},
   "outputs": [],
   "source": [
    "s = [3, 4 ,5 ,6]\n",
    "ss = (0, 1, 2)"
   ]
  },
  {
   "cell_type": "code",
   "execution_count": 90,
   "metadata": {},
   "outputs": [
    {
     "data": {
      "text/plain": [
       "['a', 'b', 'c', 'd', 'w', 3, 4, 5, 6]"
      ]
     },
     "execution_count": 90,
     "metadata": {},
     "output_type": "execute_result"
    }
   ],
   "source": [
    "l.extend(s)\n",
    "l"
   ]
  },
  {
   "cell_type": "code",
   "execution_count": 91,
   "metadata": {},
   "outputs": [
    {
     "data": {
      "text/plain": [
       "['a', 'b', 'c', 'd', 'w', 3, 4, 5, 6, 0, 1, 2]"
      ]
     },
     "execution_count": 91,
     "metadata": {},
     "output_type": "execute_result"
    }
   ],
   "source": [
    "l.extend(ss)\n",
    "l"
   ]
  },
  {
   "cell_type": "code",
   "execution_count": 92,
   "metadata": {},
   "outputs": [
    {
     "data": {
      "text/plain": [
       "[20]"
      ]
     },
     "execution_count": 92,
     "metadata": {},
     "output_type": "execute_result"
    }
   ],
   "source": [
    "k.insert(1, 20)\n",
    "k"
   ]
  },
  {
   "cell_type": "code",
   "execution_count": 93,
   "metadata": {},
   "outputs": [
    {
     "data": {
      "text/plain": [
       "[20, 10]"
      ]
     },
     "execution_count": 93,
     "metadata": {},
     "output_type": "execute_result"
    }
   ],
   "source": [
    "k.insert(1, 10)\n",
    "k"
   ]
  },
  {
   "cell_type": "code",
   "execution_count": 94,
   "metadata": {},
   "outputs": [
    {
     "data": {
      "text/plain": [
       "'c'"
      ]
     },
     "execution_count": 94,
     "metadata": {},
     "output_type": "execute_result"
    }
   ],
   "source": [
    "l.pop(2)"
   ]
  },
  {
   "cell_type": "code",
   "execution_count": 95,
   "metadata": {},
   "outputs": [
    {
     "data": {
      "text/plain": [
       "[]"
      ]
     },
     "execution_count": 95,
     "metadata": {},
     "output_type": "execute_result"
    }
   ],
   "source": [
    "l.clear()\n",
    "l"
   ]
  },
  {
   "cell_type": "code",
   "execution_count": 104,
   "metadata": {},
   "outputs": [
    {
     "data": {
      "text/plain": [
       "0"
      ]
     },
     "execution_count": 104,
     "metadata": {},
     "output_type": "execute_result"
    }
   ],
   "source": [
    "k.index(20)"
   ]
  },
  {
   "cell_type": "code",
   "execution_count": 105,
   "metadata": {},
   "outputs": [
    {
     "data": {
      "text/plain": [
       "1"
      ]
     },
     "execution_count": 105,
     "metadata": {},
     "output_type": "execute_result"
    }
   ],
   "source": [
    "k.count(10)"
   ]
  },
  {
   "cell_type": "code",
   "execution_count": 109,
   "metadata": {},
   "outputs": [
    {
     "data": {
      "text/plain": [
       "[10, 20]"
      ]
     },
     "execution_count": 109,
     "metadata": {},
     "output_type": "execute_result"
    }
   ],
   "source": [
    "k.sort(reverse=False)\n",
    "k"
   ]
  },
  {
   "cell_type": "code",
   "execution_count": 111,
   "metadata": {},
   "outputs": [
    {
     "data": {
      "text/plain": [
       "[10, 20]"
      ]
     },
     "execution_count": 111,
     "metadata": {},
     "output_type": "execute_result"
    }
   ],
   "source": [
    "k.reverse()\n",
    "k"
   ]
  },
  {
   "cell_type": "code",
   "execution_count": 112,
   "metadata": {},
   "outputs": [
    {
     "data": {
      "text/plain": [
       "[10, 20]"
      ]
     },
     "execution_count": 112,
     "metadata": {},
     "output_type": "execute_result"
    }
   ],
   "source": [
    "g = k.copy()\n",
    "g"
   ]
  },
  {
   "cell_type": "code",
   "execution_count": 120,
   "metadata": {},
   "outputs": [],
   "source": [
    "l = [1, 5, 6, 10, 8, 12]"
   ]
  },
  {
   "cell_type": "code",
   "execution_count": 121,
   "metadata": {},
   "outputs": [
    {
     "data": {
      "text/plain": [
       "[5]"
      ]
     },
     "execution_count": 121,
     "metadata": {},
     "output_type": "execute_result"
    }
   ],
   "source": [
    "l[1:2]"
   ]
  },
  {
   "cell_type": "code",
   "execution_count": 123,
   "metadata": {},
   "outputs": [
    {
     "data": {
      "text/plain": [
       "[5, 10]"
      ]
     },
     "execution_count": 123,
     "metadata": {},
     "output_type": "execute_result"
    }
   ],
   "source": [
    "l[1:-1:2]"
   ]
  },
  {
   "cell_type": "code",
   "execution_count": 124,
   "metadata": {},
   "outputs": [
    {
     "data": {
      "text/plain": [
       "[1, 5, 6, 10, 8, 12, 1, 5, 6, 10, 8, 12]"
      ]
     },
     "execution_count": 124,
     "metadata": {},
     "output_type": "execute_result"
    }
   ],
   "source": [
    "2 * l"
   ]
  },
  {
   "cell_type": "code",
   "execution_count": 125,
   "metadata": {},
   "outputs": [
    {
     "data": {
      "text/plain": [
       "True"
      ]
     },
     "execution_count": 125,
     "metadata": {},
     "output_type": "execute_result"
    }
   ],
   "source": [
    "5 in l"
   ]
  },
  {
   "cell_type": "code",
   "execution_count": 127,
   "metadata": {},
   "outputs": [
    {
     "data": {
      "text/plain": [
       "[2, 4, 6, 8]"
      ]
     },
     "execution_count": 127,
     "metadata": {},
     "output_type": "execute_result"
    }
   ],
   "source": [
    "# List comprehension with conditional and loop\n",
    "even = [i for i in range(1, 10) if i % 2 == 0]\n",
    "even"
   ]
  },
  {
   "attachments": {},
   "cell_type": "markdown",
   "metadata": {},
   "source": [
    "### 2.3. Tuple"
   ]
  },
  {
   "attachments": {},
   "cell_type": "markdown",
   "metadata": {},
   "source": [
    "`tuple` holds collections of heterogenous items and is an immutable sequence\n",
    "\n",
    "The only difference between list and tuple is that tuples are immutable while lists are mutable.\n",
    "\n",
    "\n",
    "They are specified in two ways:\n",
    "- Denoted using `()` \n",
    "- Declared using instance of `tuple` class as `tuple(iterable)` or simply type constructor\n",
    "\n",
    "\n",
    "Properties:\n",
    "- Tuple is mutable.\n",
    "- Tuple can store elements of various data types.\n",
    "- It can store duplicate items.\n",
    "- Any item can be accessed using indexes.\n",
    "- Slicing can be performed on them. \n",
    "- Items of list can be iterated using any loop.\n",
    "\n",
    "*Indexing starts from 0 and negative index also works where -1 represents the last element of the tuple*\n",
    "\n",
    "*It is the trailing comma after each item in parenthesis that makes it tuple*\n",
    "\n",
    "Tuple methods:\n",
    "- `tuple.count(item)` return the count of total occurrence of `item` in tuple\n",
    "- `tuple.index(item)` return the index of first occurrence of `item`\n",
    "\n",
    "Operations in Tuple:\n",
    "- `item in tuple` Membership test \n",
    "- `tuple1 + tuple2` concatenation of tuples\n",
    "- `tuple[start: stop: step]` slicing of tuple\n",
    "- `del tuple` deletes the tuple"
   ]
  },
  {
   "cell_type": "code",
   "execution_count": 13,
   "metadata": {},
   "outputs": [
    {
     "data": {
      "text/plain": [
       "(1, 'a', 2, 'b', True, 2, 2)"
      ]
     },
     "execution_count": 13,
     "metadata": {},
     "output_type": "execute_result"
    }
   ],
   "source": [
    "a = (1, 'a', 2, 'b', True, 2, 2)\n",
    "a"
   ]
  },
  {
   "cell_type": "code",
   "execution_count": 14,
   "metadata": {},
   "outputs": [
    {
     "data": {
      "text/plain": [
       "(2, 4, 6, 8, 10)"
      ]
     },
     "execution_count": 14,
     "metadata": {},
     "output_type": "execute_result"
    }
   ],
   "source": [
    "l = [2, 4, 6, 8, 10]\n",
    "\n",
    "b = tuple(l)\n",
    "b"
   ]
  },
  {
   "cell_type": "code",
   "execution_count": 15,
   "metadata": {},
   "outputs": [
    {
     "data": {
      "text/plain": [
       "(3, 2)"
      ]
     },
     "execution_count": 15,
     "metadata": {},
     "output_type": "execute_result"
    }
   ],
   "source": [
    "a.count(2), a.index(2)"
   ]
  },
  {
   "cell_type": "code",
   "execution_count": 16,
   "metadata": {},
   "outputs": [
    {
     "data": {
      "text/plain": [
       "(1, 'a', 2, 'b', True, 2, 2, 2, 4, 6, 8, 10)"
      ]
     },
     "execution_count": 16,
     "metadata": {},
     "output_type": "execute_result"
    }
   ],
   "source": [
    "a + b"
   ]
  },
  {
   "cell_type": "code",
   "execution_count": 17,
   "metadata": {},
   "outputs": [
    {
     "data": {
      "text/plain": [
       "True"
      ]
     },
     "execution_count": 17,
     "metadata": {},
     "output_type": "execute_result"
    }
   ],
   "source": [
    "2 in a"
   ]
  },
  {
   "cell_type": "code",
   "execution_count": 21,
   "metadata": {},
   "outputs": [],
   "source": [
    "del b"
   ]
  },
  {
   "attachments": {},
   "cell_type": "markdown",
   "metadata": {},
   "source": [
    "### 2.4. Range"
   ]
  },
  {
   "attachments": {},
   "cell_type": "markdown",
   "metadata": {},
   "source": [
    "`range` represents an immutable sequence of numbers and is commonly used for looping of items\n",
    "\n",
    "\n",
    "Range implements all of the common sequence operations except concatenation and repetition dude to the fact that ranges objects can only represent sequences that follow a strict pattern and repetition and concatenation will usually violate that pattern.\n",
    "\n",
    "They are specified as:\n",
    "- Denoted using `range(start, stop, step)`\n",
    "`start` is the value from where iteration will start\n",
    "`stop` is the value at which iteration will stop\n",
    "`step` is the jump that will be take while iteration\n",
    "\n",
    "\n",
    "\n",
    "Advantage of range:\n",
    "- `range` type has advantage over a regular `list` or `tuple` as the `range` object will always take teh same(small) amount of memory no matter the size of the range it represents as it only stores the `start, stop, step` values, calculating individual items and subranges as needed.\n",
    "- \n",
    "Properties:\n",
    "- range is mutable.\n",
    "- range creates sequence when called upon and don't store elements.\n",
    "- Any item can be accessed using indexes.\n",
    "- Slicing can be performed on them. \n",
    "- Items of list can be iterated using any loop.\n",
    "\n",
    "*Indexing starts from 0 and negative index also works where -1 represents the last element of the tuple*\n",
    "\n",
    "Methods in range:\n",
    "- `range.index(item)` return index of the first occurrence of the item\n",
    "- `range.count(item)` return frequency of the item\n",
    "  \n",
    "Operations in range:\n",
    "- `item in range` membership test\n",
    "- `range[start: stop: step]` slicing"
   ]
  },
  {
   "cell_type": "code",
   "execution_count": 22,
   "metadata": {},
   "outputs": [
    {
     "data": {
      "text/plain": [
       "range(0, 20, 2)"
      ]
     },
     "execution_count": 22,
     "metadata": {},
     "output_type": "execute_result"
    }
   ],
   "source": [
    "r = range(0, 20, 2)\n",
    "r"
   ]
  },
  {
   "cell_type": "code",
   "execution_count": 24,
   "metadata": {},
   "outputs": [
    {
     "data": {
      "text/plain": [
       "5"
      ]
     },
     "execution_count": 24,
     "metadata": {},
     "output_type": "execute_result"
    }
   ],
   "source": [
    "r.index(10)"
   ]
  },
  {
   "cell_type": "code",
   "execution_count": 25,
   "metadata": {},
   "outputs": [
    {
     "data": {
      "text/plain": [
       "1"
      ]
     },
     "execution_count": 25,
     "metadata": {},
     "output_type": "execute_result"
    }
   ],
   "source": [
    "r.count(2)"
   ]
  },
  {
   "cell_type": "code",
   "execution_count": 23,
   "metadata": {},
   "outputs": [
    {
     "data": {
      "text/plain": [
       "range(10, 20, 4)"
      ]
     },
     "execution_count": 23,
     "metadata": {},
     "output_type": "execute_result"
    }
   ],
   "source": [
    "r[5: 10: 2]"
   ]
  },
  {
   "cell_type": "code",
   "execution_count": 28,
   "metadata": {},
   "outputs": [
    {
     "data": {
      "text/plain": [
       "[0, 2, 4, 6, 8, 10, 12, 14, 16, 18]"
      ]
     },
     "execution_count": 28,
     "metadata": {},
     "output_type": "execute_result"
    }
   ],
   "source": [
    "# conditional and looping on range\n",
    "[item for item in r if item%2==0]"
   ]
  },
  {
   "attachments": {},
   "cell_type": "markdown",
   "metadata": {},
   "source": [
    "## 3. Set Type"
   ]
  },
  {
   "attachments": {},
   "cell_type": "markdown",
   "metadata": {},
   "source": [
    "`set` is an unordered collection of distinct objects. Its a container.\n",
    "\n",
    "Set has two types:\n",
    "- `set` is mutable and non hashable so can't be used as key\n",
    "- `frozenset` is immutable and hashable\n",
    "\n",
    "Constructor of both sets work the same. As frozenset is immutable so those methods which violates this property not work on it else all the other methods available for set works on it. \n",
    "\n",
    "Frozenset has constructor `frozenset(iterable)`\n",
    "\n",
    "They are specified in two ways:\n",
    "- Denoted using `{}` \n",
    "- Declared using instance of `set` class as `set(iterable)` or simply type constructor\n",
    "\n",
    "\n",
    "Properties:\n",
    "- Set is immutable.\n",
    "- Set can store elements of various data types.\n",
    "- Set can't store duplicate items.\n",
    "- Set item can't be accessed using indexes as it is unordered.\n",
    "- Slicing can't be performed on them. \n",
    "- Items of set can be iterated using any loop.\n",
    "\n",
    "\n",
    "Set methods:\n",
    "- `set.add(item)` return copy of set with item added to it\n",
    "- `set.copy()` return shallow copy of the set\n",
    "- `set.remove(item)` return copy of the set with item removed if item not present raises `KeyError`\n",
    "- `set.pop()` return the item removed from last\n",
    "- `set.discard(item)` return copy of set with item removed from it if exist\n",
    "- `set.clear()` removes all items from the set\n",
    "- `set.update(iterable)` return set with union of iterable\n",
    "- `set1.union(set2)` return union set of the two sets\n",
    "- `set1.intersection(set2)` return intersection set of the two sets\n",
    "- `set1.intersection_update(set2)` return set1 after updating it with elements within intersection set of `set1 intersection set2`\n",
    "- `set1.difference(set2)` return difference set of the `set 1 - set2`\n",
    "- `set1.symmetric_difference(set2)` return symmetric difference set of the two sets\n",
    "- `set1.difference_update(set2)` return set1 after updating it with elements within difference set of `set1 - set2`\n",
    "- `set1.isdisjoint(set2)` return True if two sets are disjoint else False\n",
    "- `set1.isubset(set2)` return True if set1 is subset of set2 else False\n",
    "- `set1.isuperset(set2)` return True if set1 is superset of set2 else False\n",
    "\n",
    "Operations in Set:\n",
    "- `item in set` Membership test \n",
    "- `del set` deletes the set"
   ]
  },
  {
   "cell_type": "code",
   "execution_count": 42,
   "metadata": {},
   "outputs": [
    {
     "data": {
      "text/plain": [
       "{10, 2, 4, 6, True, 'a', 'b'}"
      ]
     },
     "execution_count": 42,
     "metadata": {},
     "output_type": "execute_result"
    }
   ],
   "source": [
    "s = {2, 4, 6, 'a', 'b', True, 2, 10, 2}\n",
    "s"
   ]
  },
  {
   "cell_type": "code",
   "execution_count": 43,
   "metadata": {},
   "outputs": [
    {
     "data": {
      "text/plain": [
       "{2, 4, 5, 6, False, True, 'a', 'b', 'c', 'd'}"
      ]
     },
     "execution_count": 43,
     "metadata": {},
     "output_type": "execute_result"
    }
   ],
   "source": [
    "l = [True, False, True, 'a', 'b', 'c', 'd', 2, 4, 5, 6]\n",
    "g = set(l)\n",
    "g"
   ]
  },
  {
   "cell_type": "code",
   "execution_count": 44,
   "metadata": {},
   "outputs": [
    {
     "data": {
      "text/plain": [
       "{10, 100, 2, 4, 6, True, 'a', 'b'}"
      ]
     },
     "execution_count": 44,
     "metadata": {},
     "output_type": "execute_result"
    }
   ],
   "source": [
    "s.add(100)\n",
    "s"
   ]
  },
  {
   "cell_type": "code",
   "execution_count": 45,
   "metadata": {},
   "outputs": [
    {
     "data": {
      "text/plain": [
       "{10, 100, 2, 4, 6, True, 'a', 'b'}"
      ]
     },
     "execution_count": 45,
     "metadata": {},
     "output_type": "execute_result"
    }
   ],
   "source": [
    "s.copy()"
   ]
  },
  {
   "cell_type": "code",
   "execution_count": 47,
   "metadata": {},
   "outputs": [],
   "source": [
    "s.remove(100)"
   ]
  },
  {
   "cell_type": "code",
   "execution_count": 49,
   "metadata": {},
   "outputs": [
    {
     "data": {
      "text/plain": [
       "'b'"
      ]
     },
     "execution_count": 49,
     "metadata": {},
     "output_type": "execute_result"
    }
   ],
   "source": [
    "s.pop()"
   ]
  },
  {
   "cell_type": "code",
   "execution_count": 50,
   "metadata": {},
   "outputs": [],
   "source": [
    "s.discard(100)"
   ]
  },
  {
   "cell_type": "code",
   "execution_count": 51,
   "metadata": {},
   "outputs": [
    {
     "data": {
      "text/plain": [
       "set()"
      ]
     },
     "execution_count": 51,
     "metadata": {},
     "output_type": "execute_result"
    }
   ],
   "source": [
    "z = {100, 200, 300}\n",
    "z.clear()\n",
    "z"
   ]
  },
  {
   "cell_type": "code",
   "execution_count": 52,
   "metadata": {},
   "outputs": [
    {
     "data": {
      "text/plain": [
       "{10, 100, 1000, 10000, 100000}"
      ]
     },
     "execution_count": 52,
     "metadata": {},
     "output_type": "execute_result"
    }
   ],
   "source": [
    "w = {10, 100, 1000}\n",
    "l = [10000, 100000]\n",
    "w.update(l)\n",
    "w"
   ]
  },
  {
   "cell_type": "code",
   "execution_count": 53,
   "metadata": {},
   "outputs": [
    {
     "data": {
      "text/plain": [
       "{10, 2, 4, 5, 6, False, True, 'a', 'b', 'c', 'd'}"
      ]
     },
     "execution_count": 53,
     "metadata": {},
     "output_type": "execute_result"
    }
   ],
   "source": [
    "s.union(g)"
   ]
  },
  {
   "cell_type": "code",
   "execution_count": 54,
   "metadata": {},
   "outputs": [
    {
     "data": {
      "text/plain": [
       "{2, 4, 6, True, 'a'}"
      ]
     },
     "execution_count": 54,
     "metadata": {},
     "output_type": "execute_result"
    }
   ],
   "source": [
    "s.intersection(g)"
   ]
  },
  {
   "cell_type": "code",
   "execution_count": 56,
   "metadata": {},
   "outputs": [
    {
     "data": {
      "text/plain": [
       "{2, 4, 6, True, 'a'}"
      ]
     },
     "execution_count": 56,
     "metadata": {},
     "output_type": "execute_result"
    }
   ],
   "source": [
    "s.intersection_update(g)\n",
    "s"
   ]
  },
  {
   "cell_type": "code",
   "execution_count": 61,
   "metadata": {},
   "outputs": [
    {
     "data": {
      "text/plain": [
       "{3, 5}"
      ]
     },
     "execution_count": 61,
     "metadata": {},
     "output_type": "execute_result"
    }
   ],
   "source": [
    "k = {2, 3, 5}\n",
    "j = {1, 2, 4}\n",
    "\n",
    "k.difference(j)"
   ]
  },
  {
   "cell_type": "code",
   "execution_count": 62,
   "metadata": {},
   "outputs": [
    {
     "data": {
      "text/plain": [
       "{1, 3, 4, 5}"
      ]
     },
     "execution_count": 62,
     "metadata": {},
     "output_type": "execute_result"
    }
   ],
   "source": [
    "k.symmetric_difference(j)"
   ]
  },
  {
   "cell_type": "code",
   "execution_count": 63,
   "metadata": {},
   "outputs": [
    {
     "data": {
      "text/plain": [
       "{3, 5}"
      ]
     },
     "execution_count": 63,
     "metadata": {},
     "output_type": "execute_result"
    }
   ],
   "source": [
    "k.difference_update(j)\n",
    "k"
   ]
  },
  {
   "cell_type": "code",
   "execution_count": 64,
   "metadata": {},
   "outputs": [
    {
     "data": {
      "text/plain": [
       "False"
      ]
     },
     "execution_count": 64,
     "metadata": {},
     "output_type": "execute_result"
    }
   ],
   "source": [
    "s.isdisjoint(g)"
   ]
  },
  {
   "cell_type": "code",
   "execution_count": 65,
   "metadata": {},
   "outputs": [
    {
     "data": {
      "text/plain": [
       "(True, False)"
      ]
     },
     "execution_count": 65,
     "metadata": {},
     "output_type": "execute_result"
    }
   ],
   "source": [
    "s.issubset(g), s.issuperset(g)"
   ]
  },
  {
   "cell_type": "code",
   "execution_count": 66,
   "metadata": {},
   "outputs": [
    {
     "data": {
      "text/plain": [
       "True"
      ]
     },
     "execution_count": 66,
     "metadata": {},
     "output_type": "execute_result"
    }
   ],
   "source": [
    "2 in s"
   ]
  },
  {
   "cell_type": "code",
   "execution_count": 67,
   "metadata": {},
   "outputs": [],
   "source": [
    "del s"
   ]
  },
  {
   "attachments": {},
   "cell_type": "markdown",
   "metadata": {},
   "source": [
    "## 4. Boolean Type"
   ]
  },
  {
   "attachments": {},
   "cell_type": "markdown",
   "metadata": {},
   "source": [
    "`bool` holds either True or False, i.e the truth value.\n",
    "\n",
    "They are specified in two ways:\n",
    "- Denoted using `bool` \n",
    "- Declared using instance of `bool` class as `bool()` or simply type constructor\n",
    "\n",
    "Properties:\n",
    "- Bool is mutable.\n",
    "- Bool can only store either True or False at a time.\n",
    "\n",
    "Operations in bool:\n",
    "- `bool(statement)` return whether statement is logically True or False"
   ]
  },
  {
   "cell_type": "code",
   "execution_count": 71,
   "metadata": {},
   "outputs": [],
   "source": [
    "a = True\n",
    "b = bool()"
   ]
  },
  {
   "cell_type": "code",
   "execution_count": 72,
   "metadata": {},
   "outputs": [
    {
     "data": {
      "text/plain": [
       "True"
      ]
     },
     "execution_count": 72,
     "metadata": {},
     "output_type": "execute_result"
    }
   ],
   "source": [
    "x = 20 \n",
    "y = 20\n",
    "\n",
    "bool(x==y)"
   ]
  },
  {
   "attachments": {},
   "cell_type": "markdown",
   "metadata": {},
   "source": [
    "## 5. Mapping Type"
   ]
  },
  {
   "attachments": {},
   "cell_type": "markdown",
   "metadata": {},
   "source": [
    "A mapping object maps hashable values to arbitrary objects. Mappings are mutable objects. There is only one standard mapping type in python called dictionary.\n",
    "\n",
    "`dict` holds key-value pairs, where keys are unique and arbitrary and it can store heterogenous data.\n",
    "\n",
    "*Values that are not hashable, that is values containing lists, dictionaries or mutable types(that are compared by value rather than by object identity) may not be used as keys*\n",
    "\n",
    "We can also create our custom map type and those map type would support all the operations and methods that dictionary supports.\n",
    "\n",
    "They are specified in two ways:\n",
    "- Denoted using `{key: 'value'}` \n",
    "- Declared using instance of `dict` class as `dict()` or simply type constructor\n",
    "- Declared using dict comprehension `[key: value for key in iterable]`\n",
    "- Declared using constructor with key values `dict(k1=v1, k2=v2, ...)`\n",
    "- Declared by zipping two iterables and passing to constructor where elements of `iterable1` will act as key and elements of `iterable2` will act as values `dict(zip(iterable1, iterable2))`\n",
    "- Declared by passing a `iterable` with `tuples` of key value pair to constructor `dict(iterable[tuples])`\n",
    "- Declared by passing defined dictionary(this dictionary act as iterable) to constructor `dict({key: value})` \n",
    "- Declared by passing defined dictionary(this dictionary act as iterable) to constructor with a key value `dict({key: value}, k1=value)`\n",
    "\n",
    "\n",
    "Properties:\n",
    "- Dictionary is mutable.\n",
    "- Dictionary can store elements of various data types.\n",
    "- Key must be unique, hashable.\n",
    "- Any item can be accessed using indexes.\n",
    "- Slicing can be performed on them. \n",
    "- Items of list can be iterated using any loop.\n",
    "- Nesting of dictionary can be done.\n",
    "\n",
    "*Indexing starts from 0 and negative index also works where -1 represents the last element of the list*\n",
    "\n",
    "\n",
    "Dictionary methods:\n",
    "- `dictionary.clear()` removes all the items of dictionary\n",
    "- `dictionary.copy()` return shallow copy of of the dictionary\n",
    "- `dictionary.get(key[, default])` return the value for key if key in dictionary else default, if default not given its sets it to None\n",
    "- `dictionary.items()` return a new view of dictionary item's (`(key, value)` pairs)\n",
    "- `dictionary.pop(key[, default])` remove and return a `(key, value)` pair from dictionary for specified `key`\n",
    "- `dictionary.popitem()` remove and return the last `(key, value)` pair from the dictionary\n",
    "- `dictionary.fromkeys()` create a new dictionary with keys from iterable and values set to value\n",
    "- `dictionary.keys()` return new view of dictionary keys\n",
    "- `dictionary.values()` return a new view of dictionary values\n",
    "- `dictionary.setdefault(key[, default])` if key is in the dictionary return its value, if not insert key with a value of `default` and return `default`, `default` defaults to `None`\n",
    "- `dictionary.update([other])` update the dictionary with the key-value pairs from other, overwriting existing keys, Return `None`\n",
    "\n",
    "Operations in dictionary:\n",
    "- `list(dictionary)` return a list of all keys of dictionary\n",
    "- `len(dictionary)` return the number of items in dictionary\n",
    "- `dictionary[key]` return the item of dictionary with key `key`\n",
    "- `dictionary[key] = value` set `dictionary[key]` to `value`\n",
    "- `del dictionary[key]` remove the `dictionary[key]` from dictionary if exist else KeyError\n",
    "- `key in dictionary` return True if key in dictionary else False\n",
    "- `key not in dictionary` return True if key not in dictionary else False\n",
    "- `iter(dictionary)` return iterator over the keys of the dictionary, shortcut for `iter(d.keys())`\n",
    "- `reversed(dictionary)` return a reverse iterator over the keys of the dictionary, This is shortcut for `reversed(dictionary.keys())`\n",
    "- `dictionary1 | dictionary2` create new dictionary with the merged keys and values from both dictionaries\n",
    "- `dictionary1 |= dictionary2` update the `dictionary1` with keys and values from `dictionary2`\n",
    "\n",
    "*Item returned from `dictionary.keys(), dictionary.values(), dictionary.items()` are view objects*"
   ]
  },
  {
   "cell_type": "code",
   "execution_count": 1,
   "metadata": {},
   "outputs": [
    {
     "data": {
      "text/plain": [
       "({'a': 10, 'b': 5},\n",
       " {'c': 100, 'e': 1000},\n",
       " {0: 0, 1: 1, 2: 4, 3: 9, 4: 16, 5: 25, 6: 36, 7: 49, 8: 64, 9: 81})"
      ]
     },
     "execution_count": 1,
     "metadata": {},
     "output_type": "execute_result"
    }
   ],
   "source": [
    "d = {'a': 10, 'b': 5}\n",
    "z = dict({'c': 100, 'e': 1000})\n",
    "f = {i: i**2 for i in range(10)}\n",
    "d, z, f"
   ]
  },
  {
   "cell_type": "code",
   "execution_count": 2,
   "metadata": {},
   "outputs": [
    {
     "data": {
      "text/plain": [
       "True"
      ]
     },
     "execution_count": 2,
     "metadata": {},
     "output_type": "execute_result"
    }
   ],
   "source": [
    "# using constructor\n",
    "a = dict(one=1, two=2, three=3) \n",
    "\n",
    "# using declaration\n",
    "b = {'one': 1, 'two': 2, 'three': 3}\n",
    "\n",
    "# ziping two iterables to get key value pair using constructor\n",
    "c = dict(zip(['one', 'two', 'three'], [1, 2, 3]))\n",
    "\n",
    "# passing iterable with key, value pair tuple to constructor\n",
    "d = dict([('two', 2), ('one', 1), ('three', 3)])\n",
    "\n",
    "# passing dictionary to constructor\n",
    "e = dict({'three': 3, 'one': 1, 'two': 2})\n",
    "\n",
    "# passing dictionary and a key value pair to the constructor\n",
    "f = dict({'one': 1, 'three': 3}, two=2)\n",
    "\n",
    "# validating all are same\n",
    "a == b == c == d == e == f"
   ]
  },
  {
   "cell_type": "code",
   "execution_count": 7,
   "metadata": {},
   "outputs": [],
   "source": [
    "f.clear()"
   ]
  },
  {
   "cell_type": "code",
   "execution_count": 8,
   "metadata": {},
   "outputs": [
    {
     "data": {
      "text/plain": [
       "{'one': 1, 'two': 2, 'three': 3}"
      ]
     },
     "execution_count": 8,
     "metadata": {},
     "output_type": "execute_result"
    }
   ],
   "source": [
    "c.copy()"
   ]
  },
  {
   "cell_type": "code",
   "execution_count": 9,
   "metadata": {},
   "outputs": [
    {
     "data": {
      "text/plain": [
       "1"
      ]
     },
     "execution_count": 9,
     "metadata": {},
     "output_type": "execute_result"
    }
   ],
   "source": [
    "d.get('one')"
   ]
  },
  {
   "cell_type": "code",
   "execution_count": 10,
   "metadata": {},
   "outputs": [
    {
     "data": {
      "text/plain": [
       "1"
      ]
     },
     "execution_count": 10,
     "metadata": {},
     "output_type": "execute_result"
    }
   ],
   "source": [
    "d.pop('one')"
   ]
  },
  {
   "cell_type": "code",
   "execution_count": 11,
   "metadata": {},
   "outputs": [
    {
     "data": {
      "text/plain": [
       "('three', 3)"
      ]
     },
     "execution_count": 11,
     "metadata": {},
     "output_type": "execute_result"
    }
   ],
   "source": [
    "d.popitem()"
   ]
  },
  {
   "cell_type": "code",
   "execution_count": 16,
   "metadata": {},
   "outputs": [
    {
     "data": {
      "text/plain": [
       "{2: 'a', 3: 'a', 5: 'a'}"
      ]
     },
     "execution_count": 16,
     "metadata": {},
     "output_type": "execute_result"
    }
   ],
   "source": [
    "c.fromkeys([2,3,5], 'a')"
   ]
  },
  {
   "cell_type": "code",
   "execution_count": 12,
   "metadata": {},
   "outputs": [
    {
     "data": {
      "text/plain": [
       "dict_keys(['one', 'two', 'three', 'c', 'e'])"
      ]
     },
     "execution_count": 12,
     "metadata": {},
     "output_type": "execute_result"
    }
   ],
   "source": [
    "a.keys()"
   ]
  },
  {
   "cell_type": "code",
   "execution_count": 13,
   "metadata": {},
   "outputs": [
    {
     "data": {
      "text/plain": [
       "dict_values([1, 2, 3, 100, 1000])"
      ]
     },
     "execution_count": 13,
     "metadata": {},
     "output_type": "execute_result"
    }
   ],
   "source": [
    "a.values()"
   ]
  },
  {
   "cell_type": "code",
   "execution_count": 17,
   "metadata": {},
   "outputs": [
    {
     "data": {
      "text/plain": [
       "'a'"
      ]
     },
     "execution_count": 17,
     "metadata": {},
     "output_type": "execute_result"
    }
   ],
   "source": [
    "v = {1: 'a', 2:'b'}\n",
    "\n",
    "v.setdefault(1)"
   ]
  },
  {
   "cell_type": "code",
   "execution_count": 19,
   "metadata": {},
   "outputs": [
    {
     "data": {
      "text/plain": [
       "{1: 'a', 2: 'b', 3: None}"
      ]
     },
     "execution_count": 19,
     "metadata": {},
     "output_type": "execute_result"
    }
   ],
   "source": [
    "v.setdefault(3)\n",
    "v"
   ]
  },
  {
   "cell_type": "code",
   "execution_count": 21,
   "metadata": {},
   "outputs": [
    {
     "data": {
      "text/plain": [
       "{'one': 1, 'two': 2, 'three': 3, 'c': 100, 'e': 1000}"
      ]
     },
     "execution_count": 21,
     "metadata": {},
     "output_type": "execute_result"
    }
   ],
   "source": [
    "a.update(z)\n",
    "a"
   ]
  },
  {
   "cell_type": "code",
   "execution_count": 22,
   "metadata": {},
   "outputs": [
    {
     "data": {
      "text/plain": [
       "['c', 'e']"
      ]
     },
     "execution_count": 22,
     "metadata": {},
     "output_type": "execute_result"
    }
   ],
   "source": [
    "list(z)"
   ]
  },
  {
   "cell_type": "code",
   "execution_count": 23,
   "metadata": {},
   "outputs": [
    {
     "data": {
      "text/plain": [
       "2"
      ]
     },
     "execution_count": 23,
     "metadata": {},
     "output_type": "execute_result"
    }
   ],
   "source": [
    "len(z)"
   ]
  },
  {
   "cell_type": "code",
   "execution_count": 24,
   "metadata": {},
   "outputs": [
    {
     "data": {
      "text/plain": [
       "100"
      ]
     },
     "execution_count": 24,
     "metadata": {},
     "output_type": "execute_result"
    }
   ],
   "source": [
    "z['c']"
   ]
  },
  {
   "cell_type": "code",
   "execution_count": 25,
   "metadata": {},
   "outputs": [
    {
     "data": {
      "text/plain": [
       "{'c': 10000, 'e': 1000}"
      ]
     },
     "execution_count": 25,
     "metadata": {},
     "output_type": "execute_result"
    }
   ],
   "source": [
    "z['c'] = 10000\n",
    "z\n"
   ]
  },
  {
   "cell_type": "code",
   "execution_count": 26,
   "metadata": {},
   "outputs": [],
   "source": [
    "del z"
   ]
  },
  {
   "cell_type": "code",
   "execution_count": 27,
   "metadata": {},
   "outputs": [
    {
     "data": {
      "text/plain": [
       "True"
      ]
     },
     "execution_count": 27,
     "metadata": {},
     "output_type": "execute_result"
    }
   ],
   "source": [
    "'one' in a"
   ]
  },
  {
   "cell_type": "code",
   "execution_count": 28,
   "metadata": {},
   "outputs": [
    {
     "data": {
      "text/plain": [
       "False"
      ]
     },
     "execution_count": 28,
     "metadata": {},
     "output_type": "execute_result"
    }
   ],
   "source": [
    "'one' not in a"
   ]
  },
  {
   "cell_type": "code",
   "execution_count": 34,
   "metadata": {},
   "outputs": [
    {
     "data": {
      "text/plain": [
       "{'one': 1, 'two': 2, 'three': 3, 'c': 100, 'e': 1000}"
      ]
     },
     "execution_count": 34,
     "metadata": {},
     "output_type": "execute_result"
    }
   ],
   "source": [
    "a"
   ]
  },
  {
   "cell_type": "code",
   "execution_count": 32,
   "metadata": {},
   "outputs": [
    {
     "name": "stdout",
     "output_type": "stream",
     "text": [
      "one\n",
      "two\n",
      "three\n",
      "c\n",
      "e\n"
     ]
    }
   ],
   "source": [
    "# iterating over keys\n",
    "for key in a:  # can also be a.keys()\n",
    "    print(key)"
   ]
  },
  {
   "cell_type": "code",
   "execution_count": 40,
   "metadata": {},
   "outputs": [
    {
     "name": "stdout",
     "output_type": "stream",
     "text": [
      "1\n",
      "2\n",
      "3\n",
      "100\n",
      "1000\n"
     ]
    }
   ],
   "source": [
    "# iterating over valeus\n",
    "for value in a.values():\n",
    "    print(value)"
   ]
  },
  {
   "cell_type": "code",
   "execution_count": 38,
   "metadata": {},
   "outputs": [
    {
     "name": "stdout",
     "output_type": "stream",
     "text": [
      "one 1\n",
      "two 2\n",
      "three 3\n",
      "c 100\n",
      "e 1000\n"
     ]
    }
   ],
   "source": [
    "# iterating over key value pairs\n",
    "for key, value in a.items():\n",
    "    print(key, value)"
   ]
  },
  {
   "cell_type": "code",
   "execution_count": 42,
   "metadata": {},
   "outputs": [
    {
     "data": {
      "text/plain": [
       "<dict_reversekeyiterator at 0x241da631e00>"
      ]
     },
     "execution_count": 42,
     "metadata": {},
     "output_type": "execute_result"
    }
   ],
   "source": [
    "# reversed iterator over dictionary\n",
    "rev_a = reversed(a)\n",
    "rev_a"
   ]
  },
  {
   "cell_type": "code",
   "execution_count": 5,
   "metadata": {},
   "outputs": [
    {
     "data": {
      "text/plain": [
       "{'one': 1, 'two': 2, 'three': 3, 'c': 100, 'e': 1000}"
      ]
     },
     "execution_count": 5,
     "metadata": {},
     "output_type": "execute_result"
    }
   ],
   "source": [
    "a | z"
   ]
  },
  {
   "cell_type": "code",
   "execution_count": 6,
   "metadata": {},
   "outputs": [
    {
     "data": {
      "text/plain": [
       "{'one': 1, 'two': 2, 'three': 3, 'c': 100, 'e': 1000}"
      ]
     },
     "execution_count": 6,
     "metadata": {},
     "output_type": "execute_result"
    }
   ],
   "source": [
    "a |= z\n",
    "a"
   ]
  },
  {
   "attachments": {},
   "cell_type": "markdown",
   "metadata": {},
   "source": [
    "## 6. Binary Sequence Type"
   ]
  },
  {
   "attachments": {},
   "cell_type": "markdown",
   "metadata": {},
   "source": [
    "The core built-in types for manipulating binary data are `bytes` and `bytearray`. They are supported by `memoryview` which uses teh buffer protocol to access the memory of other binary objects without needing to make a copy."
   ]
  },
  {
   "attachments": {},
   "cell_type": "markdown",
   "metadata": {},
   "source": [
    "### 6.1. Bytes"
   ]
  },
  {
   "attachments": {},
   "cell_type": "markdown",
   "metadata": {},
   "source": [
    "Bytes are objects immutable sequence of single bytes. Since major binary protocols are based on ASCII text encoding, bytes objects offer several methods that are only valid when working with ASCII compatible data and are closely related to string objects in a variety of other ways.\n",
    "\n",
    "`bytes()` converts an object to immutable byte represented object of a given size and data.\n",
    "\n",
    "These are specified ways to create bytes:\n",
    "- Denoted using `b'' , b\"\", b\"\"\"` \n",
    "- Declared using instance of `bytes` class as `bytes(source[, encoding[, errors]])` or simply type constructor\n",
    "\n",
    "In addition to these byte objects can be created in number of ways:\n",
    "- `bytes(n)` a zero filled bytes object of size `n`\n",
    "- `bytes(range(a))` forms an iterable of integers\n",
    "- `bytes(obj)` copying the existing binary data via buffer protocol\n",
    "\n",
    "Since 2 hexadecimal digits correspond precisely to a single byte, hexadecimal numbers are a commonly used format for describing binary data. Accordingly, the bytes type has an additional class method to read data in that format `fromhex(), hex()` respectively.\n",
    "\n",
    "\n",
    "Properties:\n",
    "- Bytes is immutable.\n",
    "- Its binary representation of any single data nothing else.\n",
    "- Only ASCII characters are permitted in bytes literals.\n",
    "- A binary values over 127 must be entered into bytes using the appropriate literals using the appropriate escape sequence.\n",
    "- Bytes object are sequence of integers so accessing specific integer using sequence possible and slicing also possible.\n",
    "- It is the sequence of a small integer whose range is (0, 256).\n",
    "- `r` prefix can be used to disable processing of escape sequence.\n",
    "\n",
    "\n",
    "Bytes methods:\n",
    "- `fromhex(string)` bytearray method returns bytearray object, decoding the given string object\n",
    "- `hex([sep[, bytes_per_sep]])` return a string object containing two hexadecimal digits for each bye in the instance\n",
    "- `bytes.decode(encoding='utf-8', errors='strict')` return the bytes decoded to a `str`\n",
    "  \n",
    "\n",
    "Operations in bytes:\n",
    "- All common `str` sequence operations are supported by the bytes which are allowed for immutable objects"
   ]
  },
  {
   "cell_type": "code",
   "execution_count": 47,
   "metadata": {},
   "outputs": [],
   "source": [
    "a = 5\n",
    "b = [1,2,4]\n",
    "c = 'a'\n",
    "d = (1, 2)\n",
    "e = {1: 'a', 2: 'b'}"
   ]
  },
  {
   "cell_type": "code",
   "execution_count": 56,
   "metadata": {},
   "outputs": [
    {
     "data": {
      "text/plain": [
       "(b'\\x00\\x00\\x00\\x00\\x00', b'\\x01\\x02\\x04', b'a', b'\\x01\\x02', b'\\x01\\x02')"
      ]
     },
     "execution_count": 56,
     "metadata": {},
     "output_type": "execute_result"
    }
   ],
   "source": [
    "bytes(a), bytes(b), bytes(c, 'utf-8'), bytes(d), bytes(e)"
   ]
  },
  {
   "cell_type": "code",
   "execution_count": 62,
   "metadata": {},
   "outputs": [
    {
     "data": {
      "text/plain": [
       "b'.\\xf0\\xf1\\xf2'"
      ]
     },
     "execution_count": 62,
     "metadata": {},
     "output_type": "execute_result"
    }
   ],
   "source": [
    "bytes.fromhex('2Ef0 F1f2  ')"
   ]
  },
  {
   "cell_type": "code",
   "execution_count": 63,
   "metadata": {},
   "outputs": [
    {
     "data": {
      "text/plain": [
       "'2ef0f1f2'"
      ]
     },
     "execution_count": 63,
     "metadata": {},
     "output_type": "execute_result"
    }
   ],
   "source": [
    "b'.\\xf0\\xf1\\xf2'.hex()"
   ]
  },
  {
   "attachments": {},
   "cell_type": "markdown",
   "metadata": {},
   "source": [
    "### 6.2. Byte Array"
   ]
  },
  {
   "attachments": {},
   "cell_type": "markdown",
   "metadata": {},
   "source": [
    "`bytes` and `bytearray` are same they have all same operations and methods.\n",
    "\n",
    "The only difference is that `bytes` return a `bytes` object that is immutable while `bytearray` return a `bytearray` object that is mutable."
   ]
  },
  {
   "cell_type": "code",
   "execution_count": 58,
   "metadata": {},
   "outputs": [],
   "source": [
    "a = 5\n",
    "b = [1,2,4]\n",
    "c = 'a'\n",
    "d = (1, 2)\n",
    "e = {1: 'a', 2: 'b'}"
   ]
  },
  {
   "cell_type": "code",
   "execution_count": 59,
   "metadata": {},
   "outputs": [
    {
     "data": {
      "text/plain": [
       "(bytearray(b'\\x00\\x00\\x00\\x00\\x00'),\n",
       " bytearray(b'\\x01\\x02\\x04'),\n",
       " bytearray(b'a'),\n",
       " bytearray(b'\\x01\\x02'),\n",
       " bytearray(b'\\x01\\x02'))"
      ]
     },
     "execution_count": 59,
     "metadata": {},
     "output_type": "execute_result"
    }
   ],
   "source": [
    "bytearray(a), bytearray(b), bytearray(c, 'utf-8'), bytearray(d), bytearray(e)"
   ]
  },
  {
   "cell_type": "code",
   "execution_count": 64,
   "metadata": {},
   "outputs": [
    {
     "data": {
      "text/plain": [
       "bytearray(b'.\\xf0\\xf1\\xf2')"
      ]
     },
     "execution_count": 64,
     "metadata": {},
     "output_type": "execute_result"
    }
   ],
   "source": [
    "bytearray.fromhex('2Ef0 F1f2  ')"
   ]
  },
  {
   "cell_type": "code",
   "execution_count": 65,
   "metadata": {},
   "outputs": [
    {
     "data": {
      "text/plain": [
       "'2ef0f1f2'"
      ]
     },
     "execution_count": 65,
     "metadata": {},
     "output_type": "execute_result"
    }
   ],
   "source": [
    "bytearray(b'.\\xf0\\xf1\\xf2').hex()"
   ]
  },
  {
   "attachments": {},
   "cell_type": "markdown",
   "metadata": {},
   "source": [
    "### 6.3. Memory View"
   ]
  },
  {
   "attachments": {},
   "cell_type": "markdown",
   "metadata": {},
   "source": [
    "`memoryview` objects allow python to access the internal data of an object that supports the buffer protocol without copying.\n",
    "\n",
    "Its a safe way to express the python buffer protocol and allows to access the internal buffer of an object.\n",
    "\n",
    "Built in objects that support buffer protocol are `bytes, bytesarray`.\n",
    "\n",
    "`memoryview(object)` creates a memoryview of the referenced object, but object must support buffer protocol.\n",
    "\n",
    "Memoryview methods:\n",
    "- `memoryview.tobytes(order='C')` return the data in the buffer as a bytestring\n",
    "- `memoryview.hex(sep[, bytes_per_sep])` return a string object containing two hexadecimal digits for each byte in the buffer\n",
    "- `memoryview.tolist()` return the data in the buffer as a list of elements\n",
    "- `memoryview.toreadonly()` return a readonly version of the memoryview object. The original memorview object remains unchanged\n",
    "- `memoryview.release()` Release the underlying buffer exposed by the memoryview object. Many objects take special actions when a view is held on them (for example, a bytearray would temporarily forbid resizing); therefore, calling release() is handy to remove these restrictions (and free any dangling resources) as soon as possible.\n",
    "\n",
    "After this method has been called, any further operation on the view raises a ValueError (except release() itself which can be called multiple times)\n",
    "\n",
    "- `memoryview.cast(format[, shape])` cast a memoryview to a new format or shape \n",
    "\n",
    "\n",
    "Operations in memoryview:\n",
    "- `memoryview.obj` the underlying object is of the memorview object return True else False\n",
    "- `memoryview.nbytes` this is the amount of space in bytes that the array would use in a contiguous representation which is calculated as- `nbytes == product(shape) * itemsize == len(memorview.tobytes())`\n",
    "-  `memoryview.readonly` return True if memorview is read only else False\n",
    "-  `memoryview.format` a string containing the format for each element in the view. A memoryview can be created from exporters with arbitrary format strings\n",
    "-  `memoryview.itemsize` return the size in bytes of each element of memoryview\n",
    "-  `memoryview.ndim` return the dimension of the array memory represents\n",
    "-  `memoryview.shape` return a tuple of integers of `ndim` giving the size in bytes to aces each element for each dimension of the array\n",
    "-  `memoryview.strides` return a tuple of integers teh length of `ndim` giving the size in bytes to access each element for each dimension of the array\n",
    "-  `memoryview.suboffsets` used internally for PIL-style arrays, the value is information only\n",
    "-  `memoryview.c_contiguous` return True if memory is C_contiguous else False (C contiguous)\n",
    "-  `memoryview.f_contiguous` return True if memory is F_contiguous else False (Fortran contiguous)\n",
    "-  `memoryview.contiguous` return True if memory is contiguous else False"
   ]
  },
  {
   "cell_type": "code",
   "execution_count": 66,
   "metadata": {},
   "outputs": [
    {
     "data": {
      "text/plain": [
       "<memory at 0x00000241DA5FCA00>"
      ]
     },
     "execution_count": 66,
     "metadata": {},
     "output_type": "execute_result"
    }
   ],
   "source": [
    "c = b'This is binary'\n",
    "\n",
    "m = memoryview(c)\n",
    "m"
   ]
  },
  {
   "cell_type": "code",
   "execution_count": 68,
   "metadata": {},
   "outputs": [
    {
     "data": {
      "text/plain": [
       "84"
      ]
     },
     "execution_count": 68,
     "metadata": {},
     "output_type": "execute_result"
    }
   ],
   "source": [
    "m[0]"
   ]
  },
  {
   "cell_type": "code",
   "execution_count": 69,
   "metadata": {},
   "outputs": [
    {
     "data": {
      "text/plain": [
       "<memory at 0x00000241DA5FCDC0>"
      ]
     },
     "execution_count": 69,
     "metadata": {},
     "output_type": "execute_result"
    }
   ],
   "source": [
    "m[1: 5]"
   ]
  },
  {
   "cell_type": "code",
   "execution_count": 70,
   "metadata": {},
   "outputs": [
    {
     "data": {
      "text/plain": [
       "b'This is binary'"
      ]
     },
     "execution_count": 70,
     "metadata": {},
     "output_type": "execute_result"
    }
   ],
   "source": [
    "m.tobytes()"
   ]
  },
  {
   "cell_type": "code",
   "execution_count": 71,
   "metadata": {},
   "outputs": [
    {
     "data": {
      "text/plain": [
       "'546869732069732062696e617279'"
      ]
     },
     "execution_count": 71,
     "metadata": {},
     "output_type": "execute_result"
    }
   ],
   "source": [
    "m.hex()"
   ]
  },
  {
   "cell_type": "code",
   "execution_count": 72,
   "metadata": {},
   "outputs": [
    {
     "data": {
      "text/plain": [
       "[84, 104, 105, 115, 32, 105, 115, 32, 98, 105, 110, 97, 114, 121]"
      ]
     },
     "execution_count": 72,
     "metadata": {},
     "output_type": "execute_result"
    }
   ],
   "source": [
    "m.tolist()"
   ]
  },
  {
   "cell_type": "code",
   "execution_count": 73,
   "metadata": {},
   "outputs": [
    {
     "data": {
      "text/plain": [
       "<memory at 0x00000241DA5FCD00>"
      ]
     },
     "execution_count": 73,
     "metadata": {},
     "output_type": "execute_result"
    }
   ],
   "source": [
    "m.toreadonly()"
   ]
  },
  {
   "cell_type": "code",
   "execution_count": 74,
   "metadata": {},
   "outputs": [],
   "source": [
    "m.release()"
   ]
  },
  {
   "cell_type": "code",
   "execution_count": 75,
   "metadata": {},
   "outputs": [],
   "source": [
    "# redefining memorview as released previously\n",
    "c = b'This is binary'\n",
    "m = memoryview(c)"
   ]
  },
  {
   "cell_type": "code",
   "execution_count": 77,
   "metadata": {},
   "outputs": [
    {
     "data": {
      "text/plain": [
       "<memory at 0x00000241DA5FCF40>"
      ]
     },
     "execution_count": 77,
     "metadata": {},
     "output_type": "execute_result"
    }
   ],
   "source": [
    "m.cast('B')"
   ]
  },
  {
   "cell_type": "code",
   "execution_count": 78,
   "metadata": {},
   "outputs": [
    {
     "data": {
      "text/plain": [
       "b'This is binary'"
      ]
     },
     "execution_count": 78,
     "metadata": {},
     "output_type": "execute_result"
    }
   ],
   "source": [
    "m.obj"
   ]
  },
  {
   "cell_type": "code",
   "execution_count": 79,
   "metadata": {},
   "outputs": [
    {
     "data": {
      "text/plain": [
       "14"
      ]
     },
     "execution_count": 79,
     "metadata": {},
     "output_type": "execute_result"
    }
   ],
   "source": [
    "m.nbytes"
   ]
  },
  {
   "cell_type": "code",
   "execution_count": 80,
   "metadata": {},
   "outputs": [
    {
     "data": {
      "text/plain": [
       "True"
      ]
     },
     "execution_count": 80,
     "metadata": {},
     "output_type": "execute_result"
    }
   ],
   "source": [
    "m.readonly"
   ]
  },
  {
   "cell_type": "code",
   "execution_count": 81,
   "metadata": {},
   "outputs": [
    {
     "data": {
      "text/plain": [
       "1"
      ]
     },
     "execution_count": 81,
     "metadata": {},
     "output_type": "execute_result"
    }
   ],
   "source": [
    "m.itemsize"
   ]
  },
  {
   "cell_type": "code",
   "execution_count": 82,
   "metadata": {},
   "outputs": [
    {
     "data": {
      "text/plain": [
       "1"
      ]
     },
     "execution_count": 82,
     "metadata": {},
     "output_type": "execute_result"
    }
   ],
   "source": [
    "m.ndim"
   ]
  },
  {
   "cell_type": "code",
   "execution_count": 83,
   "metadata": {},
   "outputs": [
    {
     "data": {
      "text/plain": [
       "(14,)"
      ]
     },
     "execution_count": 83,
     "metadata": {},
     "output_type": "execute_result"
    }
   ],
   "source": [
    "m.shape"
   ]
  },
  {
   "cell_type": "code",
   "execution_count": 84,
   "metadata": {},
   "outputs": [
    {
     "data": {
      "text/plain": [
       "(1,)"
      ]
     },
     "execution_count": 84,
     "metadata": {},
     "output_type": "execute_result"
    }
   ],
   "source": [
    "m.strides"
   ]
  },
  {
   "cell_type": "code",
   "execution_count": 85,
   "metadata": {},
   "outputs": [
    {
     "data": {
      "text/plain": [
       "()"
      ]
     },
     "execution_count": 85,
     "metadata": {},
     "output_type": "execute_result"
    }
   ],
   "source": [
    "m.suboffsets"
   ]
  },
  {
   "cell_type": "code",
   "execution_count": 87,
   "metadata": {},
   "outputs": [
    {
     "data": {
      "text/plain": [
       "(True, True, True)"
      ]
     },
     "execution_count": 87,
     "metadata": {},
     "output_type": "execute_result"
    }
   ],
   "source": [
    "m.c_contiguous, m.f_contiguous, m.contiguous"
   ]
  },
  {
   "attachments": {},
   "cell_type": "markdown",
   "metadata": {},
   "source": [
    "## 7. Miscellaneous Type"
   ]
  }
 ],
 "metadata": {
  "kernelspec": {
   "display_name": "base",
   "language": "python",
   "name": "python3"
  },
  "language_info": {
   "codemirror_mode": {
    "name": "ipython",
    "version": 3
   },
   "file_extension": ".py",
   "mimetype": "text/x-python",
   "name": "python",
   "nbconvert_exporter": "python",
   "pygments_lexer": "ipython3",
   "version": "3.9.12"
  },
  "orig_nbformat": 4
 },
 "nbformat": 4,
 "nbformat_minor": 2
}
