{
 "cells": [
  {
   "attachments": {},
   "cell_type": "markdown",
   "metadata": {},
   "source": [
    "# Variables, Literals and Constants"
   ]
  },
  {
   "attachments": {},
   "cell_type": "markdown",
   "metadata": {},
   "source": [
    "## 1. Variables"
   ]
  },
  {
   "attachments": {},
   "cell_type": "markdown",
   "metadata": {},
   "source": [
    "Variable is a named reference to a value or an object. It is used to store and manipulate data within a program.\n",
    "\n",
    "Variables allow us to assign a values to a name and retrieve those values later in program.\n",
    "\n",
    "We use assignment operator `=` to assign values to a variable."
   ]
  },
  {
   "cell_type": "code",
   "execution_count": 1,
   "metadata": {},
   "outputs": [],
   "source": [
    "# single variable assignment\n",
    "a = 10"
   ]
  },
  {
   "cell_type": "code",
   "execution_count": 2,
   "metadata": {},
   "outputs": [],
   "source": [
    "# multi variable assignment \n",
    "a, b = 10, 20"
   ]
  },
  {
   "attachments": {},
   "cell_type": "markdown",
   "metadata": {},
   "source": [
    "## 2. Literals"
   ]
  },
  {
   "attachments": {},
   "cell_type": "markdown",
   "metadata": {},
   "source": [
    "Literals are representation of fixed values in a program. They can be number, string, boolean, binary etc."
   ]
  },
  {
   "cell_type": "code",
   "execution_count": 1,
   "metadata": {},
   "outputs": [],
   "source": [
    "count = 10"
   ]
  },
  {
   "attachments": {},
   "cell_type": "markdown",
   "metadata": {},
   "source": [
    "Here `count` is a variable while `10` is a fixed value or literal assigned to this variable."
   ]
  },
  {
   "attachments": {},
   "cell_type": "markdown",
   "metadata": {},
   "source": [
    "**Numeric Literals**\n",
    "- Integer\n",
    "- Float\n",
    "- Complex\n",
    "\n",
    "Their are various subdivision in numerical literals:\n",
    "- Decimal   (5, 10, -20)    [regular numbers]\n",
    "- Binary    (0b11)  [starts with 0b]\n",
    "- Octal (0o16)   [starts with 0o]\n",
    "- Hexadecimal   (0x16) [starts with 0x] \n",
    "- Floating-Point    (2.6, 2.7)  [regular floating]\n",
    "- Complex(2 + 4j)   [a + bj where a is real and b is imaginary]\n",
    "\n",
    "**Boolean Literals**\n",
    "- True\n",
    "- False\n",
    "\n",
    "Their is one special literal called `None` used to specify null variable."
   ]
  },
  {
   "attachments": {},
   "cell_type": "markdown",
   "metadata": {},
   "source": [
    "## 3. Constants"
   ]
  },
  {
   "attachments": {},
   "cell_type": "markdown",
   "metadata": {},
   "source": [
    "A constant is a special type of variable whose value can not be changed.\n",
    "\n",
    "Constants are usually declared and assigned in a script to those values which we have to use many times in the program later on but has not to be altered.\n",
    "\n",
    "So this property on not being able to changed of constants provide a safety for those special variables from accidental alteration."
   ]
  },
  {
   "cell_type": "code",
   "execution_count": 1,
   "metadata": {},
   "outputs": [],
   "source": [
    "PI = 3.14"
   ]
  },
  {
   "cell_type": "code",
   "execution_count": 2,
   "metadata": {},
   "outputs": [],
   "source": [
    "IMAGE_PATH = \"/imgs/221pic.jpg\""
   ]
  }
 ],
 "metadata": {
  "kernelspec": {
   "display_name": "base",
   "language": "python",
   "name": "python3"
  },
  "language_info": {
   "codemirror_mode": {
    "name": "ipython",
    "version": 3
   },
   "file_extension": ".py",
   "mimetype": "text/x-python",
   "name": "python",
   "nbconvert_exporter": "python",
   "pygments_lexer": "ipython3",
   "version": "3.9.12"
  },
  "orig_nbformat": 4
 },
 "nbformat": 4,
 "nbformat_minor": 2
}
