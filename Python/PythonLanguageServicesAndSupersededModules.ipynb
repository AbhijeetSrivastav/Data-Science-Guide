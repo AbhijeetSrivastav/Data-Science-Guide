{
 "cells": [
  {
   "cell_type": "markdown",
   "metadata": {},
   "source": [
    "# Python Language Services And Superseded Modules"
   ]
  },
  {
   "cell_type": "markdown",
   "metadata": {},
   "source": [
    "**Python Language Services**\n",
    "\n",
    "Python provides various modules to work with python language. These modules help support:\n",
    "- tokenizing\n",
    "- parsing\n",
    "- syntax analysis\n",
    "- bytecode disassembly\n",
    "- others\n",
    "\n",
    "These modules contain grammar of python language and their services are utilized by python to interpret python code and translate it for `cpython`.\n",
    "\n",
    "We don't need to know much about it unless working with low end programs which deal with interaction of `python` and `cpython`\n",
    "\n",
    "[`Reference Python Language Services`](https://docs.python.org/3/library/language.html)\n",
    "\n",
    "\n",
    "**Superseded Modules**\n",
    "\n",
    "These modules are utilized by python in backendT and they have been superseded by other modules.\n",
    "\n",
    "As these are backend compatibility modules i don't need to know about them.\n",
    "\n",
    "[`Reference Superseded Modules`](https://docs.python.org/3/library/superseded.html)"
   ]
  }
 ],
 "metadata": {
  "language_info": {
   "name": "python"
  },
  "orig_nbformat": 4
 },
 "nbformat": 4,
 "nbformat_minor": 2
}
