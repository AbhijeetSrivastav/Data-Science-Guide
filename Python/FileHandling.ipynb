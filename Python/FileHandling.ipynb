{
 "cells": [
  {
   "cell_type": "markdown",
   "metadata": {},
   "source": [
    "# File Handling"
   ]
  },
  {
   "cell_type": "markdown",
   "metadata": {},
   "source": [
    "File is a container in computer which stores data.\n",
    "\n",
    "Python file operation takes place in following order:\n",
    "- Open a file\n",
    "- Read/Write operation\n",
    "- Close the file"
   ]
  },
  {
   "cell_type": "markdown",
   "metadata": {},
   "source": [
    "### Opening a File"
   ]
  },
  {
   "cell_type": "markdown",
   "metadata": {},
   "source": [
    "To open a file we have `open(file, mode, *args)` method where `file` and `mode` are two most important arguments with some other secondary arguments.\n",
    "\n",
    "**Various file Open mode**\n",
    "- `r`   open a file for reading(default mode)\n",
    "- `w`   open a file for writing, creates new if doesn't exist else truncates the existing file\n",
    "- `x`   open a file for exclusive creation, if file already exist then operation fails\n",
    "- `a`   open a file for appending at the end of the file without truncating it, creates a new file if doesn't exits\n",
    "- `t`   open in text mode(default)\n",
    "- `b`   open in binary mode\n",
    "- `+`   open a file for updating(reading and writing)\n",
    "\n",
    "Syntax of opening/reading/closing file:\n",
    "\n",
    "```\n",
    "# reading opening and closing file - normal\n",
    "file = open(file_name, mode)\n",
    "content = file.read()\n",
    "file.close()\n",
    "```\n",
    "\n",
    "```\n",
    "# reading, opening and closing file - with statement\n",
    "with open(file_name, mode) as file:\n",
    "    content = file.read()\n",
    "```\n",
    "\n",
    "When using the `with` statement we need not to exclusively close the file it automatically does it."
   ]
  },
  {
   "cell_type": "markdown",
   "metadata": {},
   "source": [
    "### Writing a file"
   ]
  },
  {
   "cell_type": "markdown",
   "metadata": {},
   "source": [
    "To write a file we have `write(content)`.\n",
    "\n",
    "In order to write a file it should be opened in `w` mode.\n",
    "\n",
    "There are two things happen when file opened in `w` mode:\n",
    "- If file doesn't exist a new file get created.\n",
    "- If it exists, its content get erased and new content added."
   ]
  },
  {
   "cell_type": "code",
   "execution_count": null,
   "metadata": {},
   "outputs": [],
   "source": [
    "with open('a.txt', 'w') as file:\n",
    "    file.write()"
   ]
  },
  {
   "cell_type": "markdown",
   "metadata": {},
   "source": [
    "**Built-in file methods on text mode**\n",
    "- `close()` closes an opened file\n",
    "- `detach()` separates the underlying binary buffer from the `TextIOBase` and returns it\n",
    "- `fileno()` returns an integer number (file descriptor) of the file\n",
    "- `flush()` flushes the write buffer of the file stream\n",
    "- `isatty()` returns True if the file stream is interactive\n",
    "- `readable()` returns True if the file stream can be read from\n",
    "- `readline(n=-1)` reads and returns one line from the file. (Read in at most `n` bytes if specified)\n",
    "- `readlines(n=-1)` reads and returns a list of lines from the file. (Read in at most `n` bytes if specified)\n",
    "- `seek(offset, from=SEEK_SET)` changes the file position of `offset` bytes, in reference `from` (start, current, end)\n",
    "- `seekable()` returns True if the file stream supports random access\n",
    "- `tell()` returns an integer that represents the current position of the file's object.\n",
    "- `truncate(size=None)` resizes the file stream to `size` bytes, if `size` not specified then resizes to current location.\n",
    "- `writable()` returns `True` if the file stream cana be written to\n",
    "- `write(s)` writes a string to the file \n",
    "- `writelines(lines)` writes a list of lines to the file\n",
    "\n",
    "Above mentioned methods are present in `io` module of python and their is `os` module which also contains many more methods for file handling and directory\n",
    "\n",
    "[io module](https://docs.python.org/3/library/io.html#module-io)\n",
    "[os module](https://docs.python.org/3/library/os.html#module-os)"
   ]
  }
 ],
 "metadata": {
  "kernelspec": {
   "display_name": "base",
   "language": "python",
   "name": "python3"
  },
  "language_info": {
   "name": "python",
   "version": "3.9.12"
  },
  "orig_nbformat": 4
 },
 "nbformat": 4,
 "nbformat_minor": 2
}
