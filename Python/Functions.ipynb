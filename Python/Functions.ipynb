{
 "cells": [
  {
   "cell_type": "markdown",
   "metadata": {},
   "source": [
    "# Functions"
   ]
  },
  {
   "cell_type": "markdown",
   "metadata": {},
   "source": [
    "A function is a block of code that performs a specific task. \n",
    "\n",
    "They have two types:\n",
    "1. **Standard library functions** these are built-in functions available to use in python.\n",
    "2. **User-defined functions** these are the functions that user creates based on requirements.\n",
    "\n",
    "**Function Declaration Syntax**\n",
    "```\n",
    "def function_name(arguments):\n",
    "    # some code\n",
    "    return\n",
    "```\n",
    "\n",
    "The keyword `def` introduces a function definition, i.e it represents we are defining a function followed by the function name and the parenthesized list of formal parameters.\n",
    "\n",
    "\n",
    "**Function Call**\n",
    "```\n",
    "function_name(arguments)\n",
    "```\n",
    "\n",
    "**Variable Scope and Symbol Table**\n",
    "- The execution of a function introduces a new symbol table used for the local variables of the function. More precisely, all variable assignments in a function store the value in the local symbol table.\n",
    "- Whereas variable references first look in the local symbol table, then in the local symbol table of enclosing functions, then in the global symbol table, and finally in the table of built-in names. \n",
    "- Thus, global variables and variables of enclosing functions can't be directly assigned a value within a function unless for global variables named in  `global` statement, or for variables of enclosing functions, named in `nonlocal` statement. But they can be referenced.\n",
    "  \n",
    "\n",
    "**Parameters/Arguments**\n",
    "- The actual parameters to a function call are introduced in the local symbol table of the called function when it is called; thus, arguments are passed using call by value(where the value is always an object reference, not the value of the object).\n",
    "- When the function calls another function, or calls itself recursively, a new local symbol table is created for that call.\n",
    "\n",
    "**Arguments types**\n",
    "1. **Default Arguments** \n",
    "   - We specify a default value for arguments within the function declaration. \n",
    "   - If no value is given to the argument while function call then default value is assigned to argument, else given value overwrites the default value.\n",
    "   - The default value is evaluated only once. That means if function is called multiple times i.e recursively and default value is being overwritten by some operation in within the function, then in next call the default value will not be the updated one.\n",
    "\n",
    "    ```\n",
    "    # only default arguments\n",
    "    def alpha(x=10, y=20):\n",
    "        pass\n",
    "\n",
    "    # combination with keyword arguments\n",
    "    def beta(x=10, y):\n",
    "        pass\n",
    "    ```\n",
    "\n",
    "2. **Keyword Arguments**\n",
    "   - The arguments are assigned based on the name of the arguments.\n",
    "   - In function call of these position of the arguments doesn't matter.\n",
    "\n",
    "    ```\n",
    "    # only keyword arguments\n",
    "    def alpha(x, y):\n",
    "        pass\n",
    "\n",
    "    alpha(x=10, y=20)\n",
    "    ```\n",
    "3. **Positional Arguments**:\n",
    "    - The arguments are assigned based on the position they are declared in function definition when function is called.\n",
    "\n",
    "    ```\n",
    "    # only positional arguments\n",
    "    def alpha(x, y):\n",
    "        pass\n",
    "    \n",
    "    alpha(10, 20) \n",
    "\n",
    "    # combination with keyword arguments\n",
    "    def alpha(x, y):\n",
    "        pass\n",
    "\n",
    "    alpha(y=10, 20)\n",
    "    ```\n",
    "4. **Arbitrary Arguments**\n",
    "    - This allows us to pass `n` number of arguments to a function call.\n",
    "    - `*args` behave as an array and can be looped over to access each arguments.\n",
    "    - These type of argument need to be at the last of the parameters in the function declaration as they represent `n` number of arguments till end.\n",
    "    - `*args` are keyword only arguments, i.e they can only be used as keywords rather than positional arguments.\n",
    "    - A sequence can be passed as arbitrary argument holder with arguments within it using format like `**sequence`\n",
    "    \n",
    "    ```\n",
    "    # only arbitrary arguments\n",
    "    def alpha(*args):\n",
    "        pass\n",
    "    \n",
    "    alpha(10, 20, 40, 100)\n",
    "\n",
    "    # combination of arbitrary, default, keyword arguments\n",
    "    def beta(z=10, x, *points):\n",
    "        pass\n",
    "    \n",
    "    beta(x=50, 20, 60, 100)\n",
    "\n",
    "    # unpacking arguments from sequence\n",
    "    a = [10, 20, 40, 50]\n",
    "    def zeta(**a):\n",
    "        pass\n",
    "    ```\n",
    "\n",
    "\n",
    "**Ideal argument passing syntax**\n",
    "By default arguments may be passed to a function either by position or by keyword. For readability and performance, it makes sense to restrict the way arguments can be passed so that just by looking at function definition we can determine if arguments are passed by position or by name/keyword.\n",
    "\n",
    "```\n",
    "def alpha(pos, /, pos_or_kwd, *, kwd):\n",
    "    pass\n",
    "```\n",
    "\n",
    "Here,\n",
    "-`pos` are positional arguments\n",
    "- `kwd` are keyword arguments\n",
    "- `pos_or_kwd` are positional or keyword arguments (these can either be positional or argument at a time not both)\n",
    "- `/` acts as a separator which indicates all arguments on its left should be positional only and arguments on its right should be positional or keyword type till `*` separator.\n",
    "- `*` all arguments on its left till `/` are positional only and all arguments on its right till last are keyword only arguments.\n",
    "\n",
    "In case of arbitrary arguments we can modify the above syntax as,\n",
    "```\n",
    "def alpha(pos, /, pos_or_kwd, *, kwd, *args):\n",
    "    pass\n",
    "```\n",
    "\n",
    "*Function can also be declared without `return` statement, in that case function do `return` a value that is `None` but its suppressed by the interpreter so we are unable to see it.(if want to see it do `print(func(args))`)*\n",
    "\n",
    "\n",
    "*Function is one of the part Flow Control techniques, i covered it here as its a lengthy topic in itself.*"
   ]
  },
  {
   "cell_type": "code",
   "execution_count": 3,
   "metadata": {},
   "outputs": [
    {
     "name": "stdout",
     "output_type": "stream",
     "text": [
      "20 40 10 60 100 1000 {'l': [20, 10, 30]}\n"
     ]
    }
   ],
   "source": [
    "def alpha(x, y, /, z, r, *, w, a, **l):\n",
    "    print(x, y, z, r, w, a, l)\n",
    "\n",
    "\n",
    "alpha(20, 40, z=10, r=60, w=100, a= 1000, l=[20, 10, 30])"
   ]
  },
  {
   "cell_type": "markdown",
   "metadata": {},
   "source": [
    "**Pep8 Conventions for documenting a function**\n",
    "\n",
    "For Document string:\n",
    "- First line should always be short, concise summary o the object's purpose.\n",
    "- The line should start with capital letter and end with period.\n",
    "- This line should not repeat the name of the object.\n",
    "- If there are more lines in the documentation string, the second line should be blank, visually separating the summary from the rest of the description. The following lines should be one or more paragraphs describing the object's calling conventions, its side effects, etc.\n",
    "\n",
    "**Annotations in Functions**\n",
    "Annotations are optional metadata information about the types used by used-defined functions.\n",
    "\n",
    "- Annotations are stored in the `__annotations__` attribute of the function as a dictionary and have no effect on any other part of the function.\n",
    "- Parameter annotations are defined by a colon after the parameter name, followed by and expression evaluating to the value of the annotation.\n",
    "- Return annotations are defined by a literal `->`, followed by an expression, between the parameter list and the colon denoting the end of the `def` statement."
   ]
  },
  {
   "cell_type": "code",
   "execution_count": 12,
   "metadata": {},
   "outputs": [
    {
     "name": "stdout",
     "output_type": "stream",
     "text": [
      "Converts temperature in degree celsius to fahrenheit\n",
      "\n",
      "    --------------------------------------------------------------\n",
      "    input:\n",
      "        - temperature in degree celsius\n",
      "    \n",
      "    ----------------------------------------------------------------\n",
      "    return:\n",
      "        - `f` temperature in fahrenheit\n",
      "    \n"
     ]
    }
   ],
   "source": [
    "def degreeToFarenheit(c: float)->float:\n",
    "    \"\"\"Converts temperature in degree celsius to fahrenheit\n",
    "\n",
    "    --------------------------------------------------------------\n",
    "    input:\n",
    "        - temperature in degree celsius\n",
    "    \n",
    "    ----------------------------------------------------------------\n",
    "    return:\n",
    "        - `f` temperature in fahrenheit\n",
    "    \"\"\"\n",
    "\n",
    "    f = 1.8 * c + 32 \n",
    "\n",
    "    return str(f) + 'degree fahrenheit'\n",
    "\n",
    "\n",
    "print(degreeToFarenheit.__doc__)"
   ]
  },
  {
   "cell_type": "code",
   "execution_count": 6,
   "metadata": {},
   "outputs": [
    {
     "data": {
      "text/plain": [
       "'Ramram@proton-20-10'"
      ]
     },
     "execution_count": 6,
     "metadata": {},
     "output_type": "execute_result"
    }
   ],
   "source": [
    "def alpha(name: str, email: str, age: int, section: int = 10) -> str:\n",
    "    return name + email + '-' + str(age) + '-' + str(section)\n",
    "\n",
    "alpha('Ram', 'ram@proton', 20)"
   ]
  }
 ],
 "metadata": {
  "kernelspec": {
   "display_name": "base",
   "language": "python",
   "name": "python3"
  },
  "language_info": {
   "codemirror_mode": {
    "name": "ipython",
    "version": 3
   },
   "file_extension": ".py",
   "mimetype": "text/x-python",
   "name": "python",
   "nbconvert_exporter": "python",
   "pygments_lexer": "ipython3",
   "version": "3.9.12"
  },
  "orig_nbformat": 4
 },
 "nbformat": 4,
 "nbformat_minor": 2
}
