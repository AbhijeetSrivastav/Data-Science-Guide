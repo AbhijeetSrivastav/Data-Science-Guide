{
 "cells": [
  {
   "cell_type": "markdown",
   "metadata": {},
   "source": [
    "# Importing Modules"
   ]
  },
  {
   "cell_type": "markdown",
   "metadata": {},
   "source": [
    "We can import modules in various ways in addition to default `import module` method using various built-in modules like:\n",
    "- `zipimport`\n",
    "- `pkgutil`\n",
    "- `modulefinder`\n",
    "- `runpy`\n",
    "- `importlib`\n",
    "\n",
    "`importlib` is the module used by us using the command like `import something` and it utilizes other mentioned modules in backend and we can use them for custom use cases also."
   ]
  },
  {
   "cell_type": "markdown",
   "metadata": {},
   "source": [
    "## Zipimport"
   ]
  },
  {
   "cell_type": "markdown",
   "metadata": {},
   "source": [
    "`zipimport` provides us ability to import zip archived modules in `.py, .pyc` format.\n",
    "\n",
    "Actually modules are archived in python interpreter and python default import mechanism uses it in backend to unzip them.\n",
    "\n",
    "But we can use it to import custom archived modules.\n",
    "\n",
    "**Classes in Zipimport**\n",
    "- `class zipimport.zipimporter(archivepath)` creates an instance of `zipimporter` & `archivepath` is the path of the zip archive module\n",
    "\n",
    "**Methods in Zipimport**\n",
    "- `zipimport.zipimporter.create_module(spec)` its implementation of default module creation method `importlib.abc.Loader.create_module()` and returns None to explicitly request the default semantics\n",
    "- `zipimport.zipimporter.exec_module(module)` its implementation of default module execution method `importlib.abc.Loader.exec_module()` \n",
    "- `zipimport.zipimporter.find_loader(fullname, path=None)` its implementation of module finder method `importlib.abc.Loader.find_loader()` \n",
    "- `zipimport.zipimporter.find_spec(fullname, target=None)` its implementation of module specifier method `importlib.abc.Loader.find_spec()` \n",
    "- `zipimport.zipimporter.get_code(fullname)` return the code object for the specified module\n",
    "- `zipimport.zipimporter.get_data(pathname)` return the data associated with `pathname`\n",
    "- `zipimport.zipimporter.get_filename(fullname)` return the value `__file__` would be set if the specified module was imported\n",
    "- `zipimport.zipimporter.get_source(fullname)` return the source code for the specified module\n",
    "- `zipimport.zipimporter.is_package(fullname)` return True if the module specified by `fullname` is a package\n",
    "- `zipimport.zipimporter.load_module(fullname)` load the module specified by `fullname`\n",
    "- `zipimport.zipimporter.invalidate_caches()` clear out the internal cache of the `zipimporter` object\n",
    "- `zipimport.zipimporter.archive` filename fo the importers associated ZIP file\n",
    "- `zipimport.zipimporter.prefix` subpath withing the ZIP file "
   ]
  },
  {
   "cell_type": "code",
   "execution_count": null,
   "metadata": {},
   "outputs": [],
   "source": [
    "import sys\n",
    "sys.path.insert(0, 'example.zip')"
   ]
  },
  {
   "cell_type": "markdown",
   "metadata": {},
   "source": [
    "**Note:** `zipimport` module is used internally and we should avoid using it "
   ]
  },
  {
   "cell_type": "markdown",
   "metadata": {},
   "source": [
    "## PkgUtil"
   ]
  },
  {
   "cell_type": "markdown",
   "metadata": {},
   "source": [
    "`pkgutil` module is utilities package for the import system of python.\n",
    "\n",
    "It is utilized by built-in import system and it is advised not to use it for the projects.\n",
    "\n",
    "\n",
    "**Classes in Pkgutil**\n",
    "- `class pkguitl.ModuleInfo(module_finder, name, ispkg)` return a named tuple that contains information about a module\n",
    "- `class pkgutil.ImpImporter(dirname=None)` Finder that wraps pythons \"classic\" import algorithm \n",
    "  - its task is to create a finder object which search for the specified module \n",
    "  - first it searches for module in `dirname` directory\n",
    "  - if its set to `None` it searches for it in `sys.path` and any modules that are frozen or built-in\n",
    "\n",
    "**Methods in Pkgutil**\n",
    "- `pkgutil.find_loader(fullname)` retrieve a module loader for the given `fullname`\n",
    "- `pkgutil.get_importer(path_item)` retrieve a finder for the given `path_item`\n",
    "- `pkgutil.get_loader(module_or_name)`get a loader object for `module_or_name`\n",
    "- `pkgutil.iter_importers(fullname='')` yield finder objects for the given module name\n",
    "- `pkgutil.iter_modules(path=None, prefix='')` yields `ModuleInfo` for all submodules on path, or, if path is None, all top-level modules on `sys.path`\n",
    "- `pkgutil.walk_packages(path=None, prefix='', onerror=None)` yields `ModuleInfo` for all modules recursively on path, or, if path is None, all accessible modules\n",
    "- `pkgutil.get_data(package, resource)` get a resource from a package\n",
    "- `pkgutil.resolve_name(name)` resolve a name to an object"
   ]
  },
  {
   "cell_type": "markdown",
   "metadata": {},
   "source": [
    "### ModuleFinder"
   ]
  },
  {
   "cell_type": "markdown",
   "metadata": {},
   "source": [
    "`modulefinder` provides services that are used to determine teh set of modules imported by a script `modulefinder.py` can also be run as a script.\n",
    "\n",
    "This is done by the only sole available class in `modulefinder` which is `class modulefinder.ModuleFinder(path=None, debug=0, excludes=[], replace_paths=[])`.\n",
    "\n",
    "This class when given a filename of a python script as argument prints a report.\n",
    "\n",
    "To perform this task this class has two methods:\n",
    "- `ModuleFinder.run_script(pathname)` analyze the contents of `pathname` file which must contain python code \n",
    "- `ModuleFinder.report()` print a report to standard output that lists the module imported by the script and their paths, as well as modules that are missing or seem to be missing\n",
    "\n",
    "`modulefinder` module has two functions:\n",
    "- `modulefinder.AddPackagePath(pkg_name, path)` record that the package `pkg_name` can be found in the specified `path`\n",
    "- `modulefinder.ReplacePackage(oldname, newname)` allows specifying that the module named `oldname` is in fact the package named `newname`"
   ]
  },
  {
   "cell_type": "code",
   "execution_count": null,
   "metadata": {},
   "outputs": [],
   "source": [
    "from modulefinder import ModuleFinder\n",
    "\n",
    "finder_obj = ModuleFinder()\n",
    "\n",
    "finder_obj.run_script('myscripy.py')\n",
    "finder_obj.report()"
   ]
  },
  {
   "cell_type": "markdown",
   "metadata": {},
   "source": [
    "## Runpy"
   ]
  },
  {
   "cell_type": "markdown",
   "metadata": {},
   "source": [
    "`runpy` module is used to locate and run python module without importing them first.\n",
    "\n",
    "Its main use is to implement `-m` command line switch that allows scripts to be located using the python module namespace rather than the filesystem.\n",
    "\n",
    "It has two functions in it:\n",
    "- `runpy.run_module(mod_name, init_globals=None, run_name=None, alter_sys=False)` execute the code of the specified module and return the resulting module globals dictionary.\n",
    "- `runpy.run_path(path_name, init_globals=None, run_name=None)` execute the code at the named filesystem location and return the resulting module globals dictionary. \n",
    "\n",
    "**Note:** Its an utility module used by built-in import mechanism and not advised to use in projects."
   ]
  },
  {
   "cell_type": "markdown",
   "metadata": {},
   "source": [
    "## Importlib"
   ]
  },
  {
   "cell_type": "markdown",
   "metadata": {},
   "source": [
    "`importlib` module has three purposes:\n",
    "- to provide implementation of the `import` statement which is simplified and more portable version of the `__import__()` function.\n",
    "- the components to implement `import` are exposed in this package, making it easier for us ot create our own custom objects to participate in import process.\n",
    "- the package contains modules exposing the additional functionality for managing aspects of python packages:\n",
    "  - `importlib.metadata` presents access to metadata from third-party distributions [refer doc](https://docs.python.org/3/library/importlib.metadata.html#module-importlib.metadata)\n",
    "  - `importlib.resources` provides routines for accessing non-code resources for python packages [refer doc](https://docs.python.org/3/library/importlib.resources.html#module-importlib.resources)\n",
    "\n",
    "This import mechanism keeps updating with python versions, refer the official [doc](https://docs.python.org/3/library/importlib.html) for latest classes and methods."
   ]
  }
 ],
 "metadata": {
  "kernelspec": {
   "display_name": "base",
   "language": "python",
   "name": "python3"
  },
  "language_info": {
   "name": "python",
   "version": "3.9.12"
  },
  "orig_nbformat": 4
 },
 "nbformat": 4,
 "nbformat_minor": 2
}
