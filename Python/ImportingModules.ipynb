{
 "cells": [
  {
   "cell_type": "markdown",
   "metadata": {},
   "source": [
    "# Importing Modules"
   ]
  },
  {
   "cell_type": "markdown",
   "metadata": {},
   "source": [
    "We can import modules in various ways in addition to default `import module` method using various built-in modules like:\n",
    "- `zipimport`\n",
    "- `pkgutil`\n",
    "- `runpy`\n",
    "- `importlib`\n",
    "\n",
    "`importlib` is the module used by us using the command like `import something` and it utilizes other mentioned modules in backend and we can use them for custom use cases also."
   ]
  },
  {
   "cell_type": "markdown",
   "metadata": {},
   "source": [
    "## Zipimport"
   ]
  },
  {
   "cell_type": "markdown",
   "metadata": {},
   "source": [
    "`zipimport` provides us ability to import zip archived modules in `.py, .pyc` format.\n",
    "\n",
    "Actually modules are archived in python interpreter and python default import mechanism uses it in backend to unzip them.\n",
    "\n",
    "But we can use it to import custom archived modules.\n",
    "\n",
    "**Classes in Zipimport**\n",
    "- `class zipimport.zipimporter(archivepath)` creates an instance of `zipimporter` & `archivepath` is the path of the zip archive module\n",
    "\n",
    "**Methods in Zipimport**\n",
    "- `zipimport.zipimporter.create_module(spec)` its implementation of default module creation method `importlib.abc.Loader.create_module()` and returns None to explicitly request the default semantics\n",
    "- `zipimport.zipimporter.exec_module(module)` its implementation of default module execution method `importlib.abc.Loader.exec_module()` \n",
    "- `zipimport.zipimporter.find_loader(fullname, path=None)` its implementation of module finder method `importlib.abc.Loader.find_loader()` \n",
    "- `zipimport.zipimporter.find_spec(fullname, target=None)` its implementation of module specifier method `importlib.abc.Loader.find_spec()` \n",
    "- `zipimport.zipimporter.get_code(fullname)` return the code object for the specified module\n",
    "- `zipimport.zipimporter.get_data(pathname)` return the data associated with `pathname`\n",
    "- `zipimport.zipimporter.get_filename(fullname)` return the value `__file__` would be set if the specified module was imported\n",
    "- `zipimport.zipimporter.get_source(fullname)` return the source code for the specified module\n",
    "- `zipimport.zipimporter.is_package(fullname)` return True if the module specified by `fullname` is a package\n",
    "- `zipimport.zipimporter.load_module(fullname)` load the module specified by `fullname`\n",
    "- `zipimport.zipimporter.invalidate_caches()` clear out the internal cache of the `zipimporter` object\n",
    "- `zipimport.zipimporter.archive` filename fo the importers associated ZIP file\n",
    "- `zipimport.zipimporter.prefix` subpath withing the ZIP file "
   ]
  },
  {
   "cell_type": "code",
   "execution_count": null,
   "metadata": {},
   "outputs": [],
   "source": [
    "import sys\n",
    "sys.path.insert(0, 'example.zip')"
   ]
  },
  {
   "cell_type": "markdown",
   "metadata": {},
   "source": [
    "**Note:** `zipimport` module is used internally and we should avoid using it "
   ]
  }
 ],
 "metadata": {
  "kernelspec": {
   "display_name": "base",
   "language": "python",
   "name": "python3"
  },
  "language_info": {
   "name": "python",
   "version": "3.9.12"
  },
  "orig_nbformat": 4
 },
 "nbformat": 4,
 "nbformat_minor": 2
}
