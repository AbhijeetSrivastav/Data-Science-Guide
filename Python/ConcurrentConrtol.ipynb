{
 "cells": [
  {
   "cell_type": "markdown",
   "metadata": {},
   "source": [
    "# Concurrent Control"
   ]
  },
  {
   "cell_type": "markdown",
   "metadata": {},
   "source": [
    "In computer science, concurrency is the ability of different parts or units of a program, algorithm, or problem to be executed out-of-order or in partial order, without affecting the outcome. This allows for parallel execution of the concurrent units, which can significantly improve overall speed of the execution in multi-processor and multi-core systems.\n",
    "\n",
    "or\n",
    "\n",
    "Concurrency refers to the decomposability of a program, algorithm, or problem into order-independent or partially-ordered components or units of computation."
   ]
  },
  {
   "cell_type": "markdown",
   "metadata": {},
   "source": [
    "Concurrency can be achieved by:\n",
    "- Multiprocessing\n",
    "  - Symmetric Multiprocessing\n",
    "  - Asymmetric Multiprocessing\n",
    "- Multithreading"
   ]
  },
  {
   "cell_type": "markdown",
   "metadata": {},
   "source": [
    "**MultiProcessing**\n",
    "\n",
    "It is a system that has more than one or two processors. In Multiprocessing, CPUs are added for increasing computing speed of the system. Because of Multiprocessing, There are many processes which are executed simultaneously. \n",
    "- *Multiple Processes*: Multiprocessing involves running multiple independent processes, each with its own memory space and resources. These processes can run on separate CPU cores or even on different physical CPUs.\n",
    "- *Isolation*: Processes are isolated from each other, making them more robust. If one process crashes, it typically doesn't affect others.\n",
    "- *Parallelism*: It can achieve true parallelism, meaning tasks can run simultaneously on multiple CPU cores.\n",
    "- *Overhead*: Creating and managing processes tends to have higher overhead due to the need for separate memory spaces and communication mechanisms like inter-process communication (IPC).\n",
    "\n",
    "**Multithreading** \n",
    "\n",
    "It is a system in which multiple threads are created of a process for increasing the computing speed of the system. In multithreading, many threads of a process are executed simultaneously. \n",
    "- *Multiple Threads*: Multithreading involves running multiple threads within a single process. Threads share the same memory space and resources.\n",
    "- *Lightweight*: Threads are lightweight compared to processes, as they share resources and memory.\n",
    "- *Parallelism*: Multithreading can provide concurrency but may not achieve true parallelism in all cases, depending on the Global Interpreter Lock (GIL) in languages like Python. GIL can limit CPU-bound parallelism.\n",
    "- *Complexity*: Multithreading can be complex due to potential issues like race conditions and deadlocks, which arise from multiple threads accessing shared resources concurrently.\n",
    "\n",
    "**When to use which**\n",
    "- *Use Multiprocessing*:\n",
    "  - When you need true parallelism and have CPU-bound tasks.\n",
    "  - To take advantage of multiple CPU cores effectively.\n",
    "  - For tasks that can run independently without sharing much data.\n",
    "\n",
    "- *Use Multithreading*:\n",
    "  - When dealing with I/O-bound tasks (e.g., reading/writing files, making network requests) where waiting for data is a significant portion of the operation.\n",
    "  - In situations where you need to maintain shared state or resources within a single process.\n",
    "  - Consider language-specific limitations, like Python's GIL, which might favor multiprocessing for CPU-bound tasks."
   ]
  },
  {
   "cell_type": "markdown",
   "metadata": {},
   "source": [
    "In python multiprocessing is implemented using `multiprocessing` module and multithreading is implemented using `multithreading` module."
   ]
  },
  {
   "cell_type": "markdown",
   "metadata": {},
   "source": [
    "## 1. Multiprocessing"
   ]
  },
  {
   "cell_type": "markdown",
   "metadata": {},
   "source": [
    "`multiprocessing` supports local and remote concurrency both and help use use multiple processors available on system.\n",
    "\n",
    "**Note:**\n",
    "- This module don't work/ not available on WebAssembly  platforms `wasm32-emscripten `and `wasm32-wasi`.  "
   ]
  },
  {
   "cell_type": "markdown",
   "metadata": {},
   "source": [
    "**Classes in Multiprocessing**\n",
    "- `class multiprocessing.Process(group=None, target=None, name=None, args=(), kwargs={}, *, daemon=None)` process objects represent activity that is run in a separate process. The Process class has equivalents of all the methods of `threading.Thread`.\n",
    "  - The constructor should always be called with keyword arguments. \n",
    "  - `group` should always be None; it exists solely for compatibility with `threading.Thread`. \n",
    "  - `target` is the callable object to be invoked by the `run()` method. It defaults to None, meaning nothing is called.\n",
    "  - `name` is the process name (see name for more details). \n",
    "  - `args` is the argument tuple for the target invocation. \n",
    "  - `kwargs` is a dictionary of keyword arguments for the target invocation. \n",
    "  - If provided, the keyword-only `daemon` argument sets the process `daemon` flag to True or False. If None (the default), this flag will be inherited from the creating process.\n",
    "\n",
    "\n",
    "- `class multiprocessing.Queue([maxsize])`  returns a process shared queue implemented using a pipe and a few locks/semaphores. When a process first puts an item on the queue a feeder thread is started which transfers objects from a buffer into the pipe.\n",
    "\n",
    "- `multiprocessing.Process.Pipe([duplex])` return a pair `(conn1, conn2)` of Connection objects represent the ends of a pipe, if `duplex` is True pipe is bidirectional else unidirectional. `conn1` used for receiving message and `conn2` used for sending messages only.\n",
    "\n",
    "\n",
    "**Methods in Multiprocessing**\n",
    "- `multiprocessing.Process.run()` method representing the process's activity and invokes the `Process` object\n",
    "- `multiprocessing.Process.start()` start the process's activity, must be called after `run()`\n",
    "- `multiprocessing.Process.join([timeout])` if `timeout` None the method blocks until the process whose `join()` method is called, if `timeout` set to some positive number, it blocks the process for that much seconds\n",
    "- `multiprocessing.Process.is_alive()` return whether process is alive\n",
    "- `multiprocessing.Process.terminate()` terminates the process (uses `SIGTERM` signal on windows)\n",
    "- `multiprocessing.Process.kill()` terminates the process (uses `SIGKILL` signal on unix)\n",
    "- `multiprocessing.Process.close()` close the process object, releasing the associated resources\n",
    "- `multiprocessing.Queue.qsize()` return teh approximate size of the queue\n",
    "- `multiprocessing.Queue.empty()` return True if the queue is empty else False\n",
    "- `multiprocessing.Queue.put(obj[, block[, timeout]])` put `obj` in queue, `block` boolean which tells to block until queue is free, `timeout` is seconds up to which it blocks\n",
    "- `multiprocessing.Queue.put_nowait(obj)` equivalent of `put(obj, False)`\n",
    "- `multiprocessing.Queue.get(block[, timeout])` remove and return an item from the queue, rest argument have same meaning as above\n",
    "- `multiprocessing.Queue.get_nowait()` equivalent to `get(False)`\n",
    "- `multiprocessing.Queue.close()` indicate no more data will be put in queue by the current process\n",
    "- `multiprocessing.Queue.join_thread()` join the background thread\n",
    "- `multiprocessing.Queue.cancel_jon_thread()` prevent `join_thread()` from blocking\n",
    "- `multiprocessing.active_children()` return list of all live children of the current process\n",
    "- `multiprocessing.cpu_count()` return number of CPU in the system\n",
    "- `multiprocessing.current_process()` return the current process object\n",
    "- `multiprocessing.parent_process()` return the current process father process object\n",
    "- `multiprocessing.freeze_support()` add support for when a program using multiprocessing has been frozen to produces window executable\n",
    "- `multiprocessing_get__all_start_methods()` returns list of all supported start method\n",
    "- `multiprocessing.get_context(method=None)` return a context object which ahs the same attribute as `multiprocessing` module\n",
    "- `multiprocessing.get_start_method(allow_none=False)` return teh name of start method sued for starting process\n",
    "- `multiprocessing.set_executable(executable)` set the path of the python interpreter to use when starting child process\n",
    "- `multiprocessing.set_start_method(method, force=False)` set the method which should be used to start the child processes\n",
    "\n",
    "**Attributes in Multiprocessing**\n",
    "- `multiprocessing.Process.name` process name\n",
    "- `multiprocessing.Process.daemon` process daemon flag\n",
    "- `multiprocessing.Process.pid` process ID\n",
    "- `multiprocessing.Process.exitcode` child's exit code\n",
    "- `multiprocessing.Process.authkey` process authentication key\n",
    "- `multiprocessing.Process.sentinel` a numeric handle of a system object which will become ready when the process ends, we can use this value to wait on several events.\n",
    "\n",
    "**Note:**\n",
    "- Above mentioned are most frequent used class, methods and attributes only and various others are available.\n",
    "- [Multiprocessing Doc](https://docs.python.org/3/library/multiprocessing.html)"
   ]
  },
  {
   "cell_type": "markdown",
   "metadata": {},
   "source": [
    "- Processes are created using `Process` class.\n",
    "- Pools of processes are created using `Pool` class.\n",
    "- Pipeline of processes are created using `Pipe` method."
   ]
  },
  {
   "cell_type": "code",
   "execution_count": 2,
   "metadata": {},
   "outputs": [],
   "source": [
    "from multiprocessing import Process\n",
    "\n",
    "def f(name):\n",
    "    print('hello', name)\n",
    "\n",
    "if __name__ == '__main__':\n",
    "    p = Process(target=f, args=('bob',))\n",
    "    p.start()\n",
    "    p.join()"
   ]
  },
  {
   "cell_type": "code",
   "execution_count": 3,
   "metadata": {},
   "outputs": [
    {
     "name": "stdout",
     "output_type": "stream",
     "text": [
      "main line\n",
      "module name: __main__\n",
      "parent process: 14896\n",
      "process id: 26980\n"
     ]
    }
   ],
   "source": [
    "from multiprocessing import Process\n",
    "import os\n",
    "\n",
    "def info(title):\n",
    "    print(title)\n",
    "    print('module name:', __name__)\n",
    "    print('parent process:', os.getppid())\n",
    "    print('process id:', os.getpid())\n",
    "\n",
    "def f(name):\n",
    "    info('function f')\n",
    "    print('hello', name)\n",
    "\n",
    "if __name__ == '__main__':\n",
    "    info('main line')\n",
    "    p = Process(target=f, args=('bob',))\n",
    "    p.start()\n",
    "    p.join()"
   ]
  },
  {
   "cell_type": "code",
   "execution_count": 1,
   "metadata": {},
   "outputs": [
    {
     "data": {
      "text/plain": [
       "12"
      ]
     },
     "execution_count": 1,
     "metadata": {},
     "output_type": "execute_result"
    }
   ],
   "source": [
    "import multiprocessing\n",
    "\n",
    "multiprocessing.cpu_count()"
   ]
  },
  {
   "cell_type": "markdown",
   "metadata": {},
   "source": [
    "## 2. Threading"
   ]
  },
  {
   "cell_type": "markdown",
   "metadata": {},
   "source": [
    "**Note:**\n",
    "- This module does not work or is not available on WebAssembly platforms `wasm32-emscripten` and `wasm32-wasi`. \n",
    "- `thread` is high level interface over `_thread` module."
   ]
  },
  {
   "cell_type": "markdown",
   "metadata": {},
   "source": [
    "**Classes in Threading**\n",
    "- `class threading.Thread(group=None, target=None, name=None, args=(), kwargs={}, *, daemon=None)` The Thread class represents an activity that is run in a separate thread of control. There are two ways to specify the activity: by passing a callable object to the constructor, or by overriding the `run()` method in a subclass.\n",
    "  - `group` should be None\n",
    "  - `target` is the callable object to be invoked by the `run()` method\n",
    "  - `name` is the thread name\n",
    "  - `args` is a list or tuple of arguments for the target invocation\n",
    "  - `kwargs` is a dictionary of keyword arguments for the target invocation\n",
    "\n",
    "- `class threading.Lock()` this class implements primitive lock objects, once a thread has acquired a lock subsequent attempts to acquire it are blocked until it is released. Its a factory function(works automatically with thread class). It has one more variant in different class `Rlock`\n",
    "\n",
    "- `class threading.Condition(lock=None)` every lock is associated with certain conditions, this class implements condition variable objects, a condition variable allows one or more threads to wait until they are notified by another thread\n",
    "  - `lock` is the `Lock` or `RLock` object\n",
    "  \n",
    "- `class threading.Semaphore(value=1)` implements semaphore objects, a semaphore manages an atomic counter representing the number of `release()` call minus the number of `acquire()` calls plus an initial value.\n",
    "  \n",
    "- `class threading.Event()` it implements event object, an event manages a flag that can be set to true \n",
    "  \n",
    "- `classthreading.Timer(interval, function, args=None, kwargs=None)` create a timer that will run `function` with arguments `args` and keyword arguments `keargs` after `interval` seconds have passed.\n",
    "  \n",
    "- `class threading.Barrier(parties, action=None, timeout=None)` create a barrier object for `parties` number of threads. An `action` when provided is a callable to be called by one of the threads when they are released. `timeout` is time up to which thread is blocked in seconds.\n",
    "\n",
    "**Methods in Threading**\n",
    "- `threading.Thread.start()` start the threads activity\n",
    "- `threading.Thread.run()` method representing the threads activity\n",
    "- `threading.Thread.join(timeout=None)` wait until the thread terminates, `timeout` represents seconds up to which block\n",
    "- `threading.Thread.is_alive()` return whether the thread is alive\n",
    "- `threading.Lock.acquire(blocking=True, timeout=-1)` acquire a lock on thread\n",
    "- `threading.Lock.release()` release a lock on thread\n",
    "- `threading.Lock.locked()` return True if thread locked, else False\n",
    "- `threading.Condition.acquire(*args)` acquire the underlying lock\n",
    "- `threading.Condition.release()` release the underlying lock\n",
    "- `threading.Condition.wait(timeout=None)` wait until notified or until a timeout occurs\n",
    "- `threading.Condition.wait_for(predicate, timeout=None)` wait until a condition evaluates to true.\n",
    "  - `predicated` is a callable which result will be interpreted as boolean\n",
    "  - `timeout` seconds till which block the thread\n",
    "- `threading.Condition.notify(n=1)` wake up one thread waiting on this condition\n",
    "- `threading.Condition.notify_all()` wake up all threads waiting on this condition, same as `notify()` but wakes upp all the threads\n",
    "- `threading.Semaphore.acquire(blocking=True, timeout=None)` acquire a semaphore object\n",
    "- `threading.Semaphore.release(n=1)` release a semaphore object, where n is internal counter\n",
    "- `threading.Event.is_set()` return True if and only if internal flag is True\n",
    "- `threading.Event.set()` set the internal flag True\n",
    "- `threading.Event.clear()` reset the internal flag to False\n",
    "- `threading.Event.wait(timeout=None)` block until the internal flag is True\n",
    "- `threading.Timer.cancel()` stop the timer and cancel the execution of the timer's action\n",
    "- `threading.Barrier.wait(timeout=None)` pass the barrier when all the threads party to the barrier have called this function they are released simultaneously\n",
    "- `threading.Barrier.reset()` return the barrier to default, empty state\n",
    "- `threading.Barrier.abort()` put the barrier into a broken state\n",
    "- `threading.active_count()` return the number of Thread objects currently alive. \n",
    "- `threading.current_thread()` return the current Thread object, corresponding to the caller’s thread of control. If the caller’s thread of control was not created through the threading module, a dummy thread object with limited functionality is returned.\n",
    "- `threading.excepthook(args, /)` handle uncaught exception raised by `Thread.run()`. The args argument has the following attributes:\n",
    "    - `exc_type`: Exception type.\n",
    "    - `exc_value`: Exception value, can be None.\n",
    "    - `exc_traceback`: Exception traceback, can be None.\n",
    "- `threading.excepthook()` can be overridden to control how uncaught exceptions raised by `Thread.run()` are handled.\n",
    "- `threading.get_ident()` return the ‘thread identifier’ of the current thread. This is a nonzero integer. Its value has no direct meaning; it is intended as a magic cookie to be used e.g. to index a dictionary of thread-specific data.\n",
    "- `threading.get_native_id()` return the native integral Thread ID of the current thread assigned by the kernel. This is a non-negative integer. \n",
    "- `threading.enumerate()` return a list of all Thread objects currently active. The list includes daemonic threads and dummy thread objects created by `current_thread()`. It excludes terminated threads and threads that have not yet been started. However, the main thread is always part of the result, even when terminated.\n",
    "- `threading.main_thread()` return the main Thread object. In normal conditions, the main thread is the thread from which the Python interpreter was started.\n",
    "- `threading.settrace(func)` set a trace function for all threads started from the threading module. The func will be passed to sys.`settrace()` for each thread, before its run() method is called.\n",
    "- `threading.gettrace()` Get the trace function as set by `settrace()`.\n",
    "- `threading.setprofile(func)` set a profile function for all threads started from the threading module. The func will be passed to sys.`setprofile()` for each thread, before its run() method is called.\n",
    "- `threading.getprofile()` get the profiler function as set by setprofile().\n",
    "- `threading.stack_size([size])` return the thread stack size used when creating new threads. \n",
    "\n",
    "**Attributes in Threading**\n",
    "- `threading.Thread.name` name of the thread\n",
    "- `threading.Thread.ident` thread identifier\n",
    "- `threading.Thread.native_id` the thread id(TID) assigned by os\n",
    "- `threading.Thread.daemon` boolean value indicating whether this thread is daemon or not\n",
    "- `threading.Barrier.parties` the number of threads required to pass the barrier\n",
    "- `threading.Barrier.n_waiting` the number of threads currently waiting in the barrier\n",
    "- `threading.Barrier.broken` a boolean that is True if the barrier is in the broken state.\n",
    "- `threading.TIMEOUT_MAX` the maximum value allowed for the timeout parameter of blocking functions"
   ]
  }
 ],
 "metadata": {
  "kernelspec": {
   "display_name": "base",
   "language": "python",
   "name": "python3"
  },
  "language_info": {
   "codemirror_mode": {
    "name": "ipython",
    "version": 3
   },
   "file_extension": ".py",
   "mimetype": "text/x-python",
   "name": "python",
   "nbconvert_exporter": "python",
   "pygments_lexer": "ipython3",
   "version": "3.9.12"
  },
  "orig_nbformat": 4
 },
 "nbformat": 4,
 "nbformat_minor": 2
}
