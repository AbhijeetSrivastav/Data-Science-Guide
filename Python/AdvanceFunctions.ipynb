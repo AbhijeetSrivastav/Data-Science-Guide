{
 "cells": [
  {
   "cell_type": "markdown",
   "metadata": {},
   "source": [
    "# Advance Functions - Functional Programming"
   ]
  },
  {
   "cell_type": "markdown",
   "metadata": {},
   "source": [
    "## 1. Lambda Expressions"
   ]
  },
  {
   "cell_type": "markdown",
   "metadata": {},
   "source": [
    "They are also known as anonymous function are a special type of function without the name of the function.\n",
    "\n",
    "`lambda` keyword is used to define them instead of `def` keyword.\n",
    "\n",
    "They have general syntax as:\n",
    "```\n",
    "lambda arguments(s): expression\n",
    "```\n",
    "\n",
    "where,\n",
    "- `argument(s)` is any value passed to the lambda function\n",
    "- `expression` is an expression executed and returned\n",
    "\n",
    "Calling of the `lambda` function is similar to that of classic functions.\n",
    "\n",
    "**Attributes of Lambda function**\n",
    "- Lambda functions can be used wherever function objects are required.\n",
    "- They are syntactically restricted to a single expression.\n",
    "- Semantically they are just syntactic sugar for a normal function.\n",
    "\n",
    "\n",
    "**Facts**\n",
    "- Lambda expressions in python or any language have roots in lambda calculus, a model of computation invented by Alonzo Church in 1930s.\n",
    "- Lambda functions are also referred to as lambda abstractions.\n",
    "- Lambda calculus can encode any computation. It is turing complete, but contrary to the concept of turing machine, it is pure and does not keep any state.\n",
    "- The imperative programming language inherit their computation model from Turing machine computational model (Python, C).\n",
    "- While non imperative programming language inherit their computational model from lambda calculus (Java).\n",
    "- But as lambda and turing computational model can be translated to each other based on Alonzo-Turing hypothesis, this lead to introduction of inter operable functions in these languages. Like python being a turing base has `lambda` function which is lambda calculus based.\n",
    "- Python not originally a functional language, but it adopted some functional concepts in 1994 like `map, filter, reduce, lambda`"
   ]
  },
  {
   "cell_type": "code",
   "execution_count": 3,
   "metadata": {},
   "outputs": [
    {
     "data": {
      "text/plain": [
       "3"
      ]
     },
     "execution_count": 3,
     "metadata": {},
     "output_type": "execute_result"
    }
   ],
   "source": [
    "fun = lambda x : x + 1\n",
    "\n",
    "fun(2)"
   ]
  },
  {
   "cell_type": "code",
   "execution_count": 4,
   "metadata": {},
   "outputs": [
    {
     "name": "stdout",
     "output_type": "stream",
     "text": [
      "I am lambda\n"
     ]
    }
   ],
   "source": [
    "fun = lambda : print('I am lambda')\n",
    "\n",
    "fun()"
   ]
  },
  {
   "cell_type": "code",
   "execution_count": 7,
   "metadata": {},
   "outputs": [
    {
     "data": {
      "text/plain": [
       "<function __main__.<lambda>(x)>"
      ]
     },
     "execution_count": 7,
     "metadata": {},
     "output_type": "execute_result"
    }
   ],
   "source": [
    "lambda x : 10 + 1"
   ]
  },
  {
   "cell_type": "code",
   "execution_count": 10,
   "metadata": {},
   "outputs": [
    {
     "data": {
      "text/plain": [
       "110"
      ]
     },
     "execution_count": 10,
     "metadata": {},
     "output_type": "execute_result"
    }
   ],
   "source": [
    "# referencing nested lambda function \n",
    "\n",
    "def incrementor(n):\n",
    "    return lambda x: x + n\n",
    "\n",
    "fun = incrementor(10) # pass the 10 for n in incrementor\n",
    "\n",
    "fun(100) # pass 100 for x in lambda of incrementor"
   ]
  }
 ],
 "metadata": {
  "kernelspec": {
   "display_name": "base",
   "language": "python",
   "name": "python3"
  },
  "language_info": {
   "codemirror_mode": {
    "name": "ipython",
    "version": 3
   },
   "file_extension": ".py",
   "mimetype": "text/x-python",
   "name": "python",
   "nbconvert_exporter": "python",
   "pygments_lexer": "ipython3",
   "version": "3.9.12"
  },
  "orig_nbformat": 4
 },
 "nbformat": 4,
 "nbformat_minor": 2
}
