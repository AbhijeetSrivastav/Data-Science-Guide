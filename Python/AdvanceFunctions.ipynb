{
 "cells": [
  {
   "cell_type": "markdown",
   "metadata": {},
   "source": [
    "# Advance Functions - Functional Programming"
   ]
  },
  {
   "cell_type": "markdown",
   "metadata": {},
   "source": [
    "## 1. Lambda Expressions"
   ]
  },
  {
   "cell_type": "markdown",
   "metadata": {},
   "source": [
    "They are also known as anonymous function are a special type of function without the name of the function.\n",
    "\n",
    "`lambda` keyword is used to define them instead of `def` keyword.\n",
    "\n",
    "They have general syntax as:\n",
    "```\n",
    "lambda arguments(s): expression\n",
    "```\n",
    "\n",
    "where,\n",
    "- `argument(s)` is any value passed to the lambda function\n",
    "- `expression` is an expression executed and returned\n",
    "\n",
    "Calling of the `lambda` function is similar to that of classic functions.\n",
    "\n",
    "**Attributes of Lambda function**\n",
    "- Lambda functions can be used wherever function objects are required.\n",
    "- They are syntactically restricted to a single expression.\n",
    "- Semantically they are just syntactic sugar for a normal function.\n",
    "\n",
    "\n",
    "**Facts**\n",
    "- Lambda expressions in python or any language have roots in lambda calculus, a model of computation invented by Alonzo Church in 1930s.\n",
    "- Lambda functions are also referred to as lambda abstractions.\n",
    "- Lambda calculus can encode any computation. It is turing complete, but contrary to the concept of turing machine, it is pure and does not keep any state.\n",
    "- The imperative programming language inherit their computation model from Turing machine computational model (Python, C).\n",
    "- While non imperative programming language inherit their computational model from lambda calculus (Java).\n",
    "- But as lambda and turing computational model can be translated to each other based on Alonzo-Turing hypothesis, this lead to introduction of inter operable functions in these languages. Like python being a turing base has `lambda` function which is lambda calculus based.\n",
    "- Python not originally a functional language, but it adopted some functional concepts in 1994 like `map, filter, reduce, lambda`"
   ]
  },
  {
   "cell_type": "code",
   "execution_count": 3,
   "metadata": {},
   "outputs": [
    {
     "data": {
      "text/plain": [
       "3"
      ]
     },
     "execution_count": 3,
     "metadata": {},
     "output_type": "execute_result"
    }
   ],
   "source": [
    "fun = lambda x : x + 1\n",
    "\n",
    "fun(2)"
   ]
  },
  {
   "cell_type": "code",
   "execution_count": 4,
   "metadata": {},
   "outputs": [
    {
     "name": "stdout",
     "output_type": "stream",
     "text": [
      "I am lambda\n"
     ]
    }
   ],
   "source": [
    "fun = lambda : print('I am lambda')\n",
    "\n",
    "fun()"
   ]
  },
  {
   "cell_type": "code",
   "execution_count": 7,
   "metadata": {},
   "outputs": [
    {
     "data": {
      "text/plain": [
       "<function __main__.<lambda>(x)>"
      ]
     },
     "execution_count": 7,
     "metadata": {},
     "output_type": "execute_result"
    }
   ],
   "source": [
    "lambda x : 10 + 1"
   ]
  },
  {
   "cell_type": "code",
   "execution_count": 10,
   "metadata": {},
   "outputs": [
    {
     "data": {
      "text/plain": [
       "110"
      ]
     },
     "execution_count": 10,
     "metadata": {},
     "output_type": "execute_result"
    }
   ],
   "source": [
    "# referencing nested lambda function \n",
    "\n",
    "def incrementor(n):\n",
    "    return lambda x: x + n\n",
    "\n",
    "fun = incrementor(10) # pass the 10 for n in incrementor\n",
    "\n",
    "fun(100) # pass 100 for x in lambda of incrementor"
   ]
  },
  {
   "cell_type": "markdown",
   "metadata": {},
   "source": [
    "## 2. Map"
   ]
  },
  {
   "cell_type": "markdown",
   "metadata": {},
   "source": [
    "The `map()` function applies a given function to each element of an sequence or iterable and returns an iterable containing the results.\n",
    "\n",
    "Map has following syntax:\n",
    "```\n",
    "map(func, *iterables)\n",
    "```\n",
    "\n",
    "where,\n",
    "- `func` is the function on  which each element in `iterables` would be applied on\n",
    "- `*iterables` is `n` iterables on which `func` would be applied\n",
    "\n",
    "A `map object` is returned by `map()` in python 3+ which is a generator object, although in python2 a list would have been returned.\n",
    "\n",
    "The number of arguments to `func` must be the number of `iterables` listed."
   ]
  },
  {
   "cell_type": "code",
   "execution_count": 11,
   "metadata": {},
   "outputs": [
    {
     "name": "stdout",
     "output_type": "stream",
     "text": [
      "['RAM', 'LAKSHMAN', 'SITA']\n"
     ]
    }
   ],
   "source": [
    "# using simple loops \n",
    "\n",
    "names = ['ram', 'lakshman', 'sita']\n",
    "Upnames = []\n",
    "\n",
    "for name in names:\n",
    "    Upnames.append(name.upper())\n",
    "\n",
    "print(Upnames)"
   ]
  },
  {
   "cell_type": "code",
   "execution_count": 13,
   "metadata": {},
   "outputs": [
    {
     "name": "stdout",
     "output_type": "stream",
     "text": [
      "['RAM', 'LAKSHMAN', 'SITA']\n"
     ]
    }
   ],
   "source": [
    "# using map\n",
    "\n",
    "names = ['ram', 'lakshman', 'sita']\n",
    "Upnames = list(map(str.upper, names))\n",
    "\n",
    "print(Upnames)"
   ]
  },
  {
   "cell_type": "markdown",
   "metadata": {},
   "source": [
    "Notice how easy a `map()` adds functionality to a code."
   ]
  },
  {
   "cell_type": "code",
   "execution_count": 14,
   "metadata": {},
   "outputs": [
    {
     "name": "stdout",
     "output_type": "stream",
     "text": [
      "[10, 20, 30]\n"
     ]
    }
   ],
   "source": [
    "# using multiple iterables\n",
    "\n",
    "values = [10, 20, 30]\n",
    "\n",
    "z = list(map(round, values, range(1,  4)))\n",
    "\n",
    "print(z)"
   ]
  },
  {
   "cell_type": "code",
   "execution_count": 15,
   "metadata": {},
   "outputs": [
    {
     "name": "stdout",
     "output_type": "stream",
     "text": [
      "[('a', 1), ('b', 2), ('c', 3)]\n"
     ]
    }
   ],
   "source": [
    "# combining complex custom functions using lambda\n",
    "\n",
    "s = ['a', 'b', 'c']\n",
    "n = [1, 2, 3]\n",
    "\n",
    "z = list(map(lambda x, y : (x, y), s, n))\n",
    "\n",
    "print(z)"
   ]
  },
  {
   "cell_type": "markdown",
   "metadata": {},
   "source": [
    "## 2. Filter"
   ]
  },
  {
   "cell_type": "markdown",
   "metadata": {},
   "source": [
    "The `filter()` function selects elements from an sequence or iterable based on the output of a function.\n",
    "\n",
    "The function is applied to each element of the iterable and if it returns True, the element is selected by the `filter()` function.\n",
    "\n",
    "\n",
    "Filter has following syntax:\n",
    "```\n",
    "filter(func, iterable)\n",
    "```\n",
    "\n",
    "where,\n",
    "- `func` is the function on  which each element in `iterable` would be applied on and it should boolean type \n",
    "- `iterables` is an iterable on which `func` would be applied\n",
    "\n",
    "The `func` argument is required to return a boolean type. If it doesn't, `filter` simply returns the `iterable`\n",
    "\n",
    "`filter` passes each element in the iterable through `func` and returns only ones that evaluates to be true.\n",
    "\n",
    "Unlike `map()`, `filter` can have only one `iterable`."
   ]
  },
  {
   "cell_type": "code",
   "execution_count": 16,
   "metadata": {},
   "outputs": [
    {
     "name": "stdout",
     "output_type": "stream",
     "text": [
      "[20, 26, 40, 21]\n"
     ]
    }
   ],
   "source": [
    "# using simple loops\n",
    "\n",
    "THRESHOLD = 10\n",
    "\n",
    "values = [20, 5, 4, 3, 2, 1, 26, 40, 21, 6]\n",
    "cross_thresh = []\n",
    "\n",
    "for value in values:\n",
    "    if value > THRESHOLD:\n",
    "        cross_thresh.append(value)\n",
    "\n",
    "print(cross_thresh)"
   ]
  },
  {
   "cell_type": "code",
   "execution_count": 17,
   "metadata": {},
   "outputs": [
    {
     "name": "stdout",
     "output_type": "stream",
     "text": [
      "[20, 26, 40, 21]\n"
     ]
    }
   ],
   "source": [
    "# using filter\n",
    "\n",
    "THRESHOLD = 10\n",
    "\n",
    "def isCrossThresh(value: int)->bool:\n",
    "    return value > THRESHOLD\n",
    "\n",
    "\n",
    "values = [20, 5, 4, 3, 2, 1, 26, 40, 21, 6]\n",
    "\n",
    "cross_thresh = list(filter(isCrossThresh, values))\n",
    "\n",
    "print(cross_thresh)"
   ]
  },
  {
   "cell_type": "code",
   "execution_count": 18,
   "metadata": {},
   "outputs": [
    {
     "name": "stdout",
     "output_type": "stream",
     "text": [
      "[20, 26, 40, 21]\n"
     ]
    }
   ],
   "source": [
    "# combining complex custom functions using lambda\n",
    "\n",
    "THRESHOLD = 10\n",
    "\n",
    "values = [20, 5, 4, 3, 2, 1, 26, 40, 21, 6]\n",
    "\n",
    "cross_thresh = list(filter(lambda x: x > THRESHOLD, values))\n",
    "\n",
    "print(cross_thresh)"
   ]
  },
  {
   "cell_type": "markdown",
   "metadata": {},
   "source": [
    "## 3. Reduce"
   ]
  },
  {
   "cell_type": "markdown",
   "metadata": {},
   "source": [
    "The `reduce()` function applies a function(`func`) of two arguments cumulatively to the elements of an `iterable`, optionally starting with an initial argument.\n",
    "\n",
    "Reduce has following syntax:\n",
    "```\n",
    "reduce(func, iterable[, initial])\n",
    "```\n",
    "\n",
    "where,\n",
    "- `func` is the function on  which each element in `iterable` gets cumulatively applied to.\n",
    "- `initial` is the optional value that gets placed before the elements of the `iterable` in the calculation, and serves as a default when the `iterable` is empty.\n",
    "- `iterable` is an iterable on which `func` would be applied\n",
    "\n",
    "\n",
    "The `func` requires two arguments, the first of which is the first element in `iterable` (if `initial` is not supplied) and the second element in `iterable`. If initial is supplied, then it becomes the first argument to `func`.\n",
    "\n",
    "`reduce` reduces `iterable` into a single value."
   ]
  },
  {
   "cell_type": "code",
   "execution_count": 22,
   "metadata": {},
   "outputs": [
    {
     "name": "stdout",
     "output_type": "stream",
     "text": [
      "75\n"
     ]
    }
   ],
   "source": [
    "from functools import reduce\n",
    "\n",
    "values = [10, 20, 40]\n",
    "\n",
    "def sumUp(a, b):\n",
    "    return a + b\n",
    "\n",
    "z = reduce(sumUp, values, 5)\n",
    "\n",
    "print(z)"
   ]
  },
  {
   "cell_type": "markdown",
   "metadata": {},
   "source": [
    "What happens here is that, `reduce` takes first two elements from `iterable` add them and then return to the first argument, i.e `a` and then select the next element from `iterable` after the last selected one, i.e `20` and add it to first argument `a`. It repeats it till the `iterable` is exhausted and it also adds the `initial` to the end result.\n",
    "\n",
    "so it goes like,\n",
    "\n",
    "\n",
    "```\n",
    "a = 10, b = 20:----- 10 + 20 = 30\n",
    "a = 30, b = 40:-----  30 + 40 + 5(initial value) = 75\n",
    "```"
   ]
  },
  {
   "cell_type": "markdown",
   "metadata": {},
   "source": [
    "## 4. Iterators"
   ]
  },
  {
   "cell_type": "markdown",
   "metadata": {},
   "source": [
    "Iterators are methods that allows iterate over sequences. \n",
    "\n",
    "Iterators implements the iterator design pattern, which allows us to traverse a container and access its elements.\n",
    "\n",
    "This iterator pattern basically decouples algorithms from container data structures.\n",
    "\n",
    "Iterator object has two functions:\n",
    "- Returning the data from stream or sequence, one at a time.\n",
    "- Keeping track of the current and visited item.\n",
    "\n",
    "In short iterator will yield each element from a sequence or stream of data while doing all internal bookkeeping required to maintain the state of the iteration process.\n",
    "\n",
    "A python object is considered an iterator, if it implements **iterator protocol** which consists of two special methods\n",
    "- `__iter__()` called to initialize the iterator, it must return an iterator object(this object reference to itself, i.e return `self`)\n",
    "- `__next__()` called to iterate over the iterator, it must return the next element in data stream or sequence\n",
    "\n",
    "```\n",
    "def __iter__(self):\n",
    "    return self\n",
    "```\n",
    "\n",
    "The only responsibility of `__iter__()` is to return an iterator object, so this method just typically returns `self` which holds the current instance and this instance must define an `__next__()` method which will contain how we wan to iterate over our iterator, this method must return the next item from the data stream as well as it should also raise a `StopIteration` exception when no more elements are available in sequence/stream.\n",
    "\n",
    "To build a custom iterator we need to:\n",
    "- Declare `__iter__()`\n",
    "- Define `__next__()`\n",
    "- On reaching the end add an exception `StopIteration`\n",
    "\n",
    "```\n",
    "# custom iterator\n",
    "class Alpha:\n",
    "    def __init__(self):\n",
    "        pass\n",
    "\n",
    "    def __iter__(self):\n",
    "        pass\n",
    "    \n",
    "    def __next__(self):\n",
    "        if condition:\n",
    "            pass\n",
    "        else:\n",
    "            raise StopIteration\n",
    "```\n",
    "\n",
    "**Type of Custom Iterators**\n",
    "- Classical one - Take a sequence/stream and yield the elements of it as they appear.\n",
    "- Transformer one - Take a sequence/stream, transform each element and yield the transformed element.\n",
    "- Generated one - Take no sequence/stream, generating new data as a result of some computation to finally yield the generated items.\n",
    "\n",
    "*-> Generators are one of special type of iterator.*\n",
    "\n",
    "**Use case scenarios**\n",
    "- To iterate over data streams or sequences without exhausting the memory.\n",
    "- In background ever loop, comprehensions, unpacking, zipping utilizes iterators.\n",
    "\n",
    "\n",
    "*We can use `collections.abc.iterators to devise custom iterators also.*"
   ]
  },
  {
   "cell_type": "code",
   "execution_count": 24,
   "metadata": {},
   "outputs": [
    {
     "name": "stdout",
     "output_type": "stream",
     "text": [
      "1\n",
      "10\n",
      "20\n",
      "66\n",
      "77\n",
      "22\n",
      "45\n"
     ]
    }
   ],
   "source": [
    "# CLASSICAL ITERATOR \n",
    "\n",
    "\"\"\"Ex - Take a sequence/stream as input and yield its item at demand\"\"\"\n",
    "\n",
    "class Alpha:\n",
    "    def __init__(self, sequence) -> None:\n",
    "        self._sequence = sequence\n",
    "        self._index = 0\n",
    "\n",
    "    def __iter__(self):\n",
    "        return self\n",
    "    \n",
    "    def __next__(self):\n",
    "        if self._index < len(self._sequence):\n",
    "            element = self._sequence[self._index]\n",
    "            self._index += 1\n",
    "            return element\n",
    "        else:\n",
    "            raise StopIteration\n",
    "        \n",
    "\n",
    "l = [1,10, 20, 66, 77, 22, 45]\n",
    "\n",
    "iter_obj = Alpha(l)\n",
    "i = iter(iter_obj)\n",
    "\n",
    "print(next(i))\n",
    "print(next(i))\n",
    "print(next(i))\n",
    "print(next(i))\n",
    "print(next(i))\n",
    "print(next(i))\n",
    "print(next(i))"
   ]
  },
  {
   "cell_type": "code",
   "execution_count": 25,
   "metadata": {},
   "outputs": [
    {
     "name": "stdout",
     "output_type": "stream",
     "text": [
      "1\n",
      "100\n",
      "400\n",
      "4356\n",
      "5929\n",
      "484\n",
      "2025\n"
     ]
    }
   ],
   "source": [
    "# TRANSFORMER ITERATOR \n",
    "\n",
    "\"\"\"Ex - Take a sequence/stream as input and yield its square at demand\"\"\"\n",
    "\n",
    "class Alpha:\n",
    "    def __init__(self, sequence) -> None:\n",
    "        self._sequence = sequence\n",
    "        self._index = 0\n",
    "\n",
    "    def __iter__(self):\n",
    "        return self\n",
    "    \n",
    "    def __next__(self):\n",
    "        if self._index < len(self._sequence):\n",
    "            element = self._sequence[self._index] \n",
    "            transf_element = element ** 2\n",
    "            self._index += 1\n",
    "            return transf_element\n",
    "        else:\n",
    "            raise StopIteration\n",
    "        \n",
    "\n",
    "l = [1,10, 20, 66, 77, 22, 45]\n",
    "\n",
    "iter_obj = Alpha(l)\n",
    "i = iter(iter_obj)\n",
    "\n",
    "print(next(i))\n",
    "print(next(i))\n",
    "print(next(i))\n",
    "print(next(i))\n",
    "print(next(i))\n",
    "print(next(i))\n",
    "print(next(i))"
   ]
  },
  {
   "cell_type": "code",
   "execution_count": 27,
   "metadata": {},
   "outputs": [
    {
     "name": "stdout",
     "output_type": "stream",
     "text": [
      "0\n",
      "1\n",
      "1\n",
      "2\n",
      "3\n"
     ]
    }
   ],
   "source": [
    "# GENERATIVE ITERATOR \n",
    "\n",
    "\"\"\"Ex - Yields a fibonacci sequence\"\"\"\n",
    "\n",
    "class Alpha:\n",
    "    def __init__(self, stop=5) -> None:\n",
    "        self._index = 0\n",
    "        self._stop = stop\n",
    "        self._current = 0\n",
    "        self._next = 1\n",
    "\n",
    "    def __iter__(self):\n",
    "        return self\n",
    "    \n",
    "    def __next__(self):\n",
    "        if self._index < self._stop:\n",
    "            self._index += 1\n",
    "            fib = self._current\n",
    "            self._current, self._next = (self._next, self._current + self._next)\n",
    "\n",
    "            return fib\n",
    "        else:\n",
    "            raise StopIteration\n",
    "        \n",
    "\n",
    "\n",
    "iter_obj = Alpha()\n",
    "i = iter(iter_obj)\n",
    "\n",
    "print(next(i))\n",
    "print(next(i))\n",
    "print(next(i))\n",
    "print(next(i))\n",
    "print(next(i))"
   ]
  },
  {
   "cell_type": "markdown",
   "metadata": {},
   "source": [
    "## 5. Generators"
   ]
  },
  {
   "cell_type": "markdown",
   "metadata": {},
   "source": [
    "Generator is a function that returns an iterator that produces a sequence of values when iterated over.\n",
    "\n",
    "Unlike a regular functions, generators use `yield` instead of `return` which generates a stream of data one element at a time.\n",
    "\n",
    "Generator as a word is used to refer two concepts,\n",
    "- Generator function \n",
    "- Generator iterator\n",
    "\n",
    "They generator function is used to define the `yield` statement, on other hand generator iterator is what this function returns.\n",
    "\n",
    "Generator function returns an iterator that supports the iterator protocol, i.e generators are also iterators.\n",
    "\n",
    "Syntax of a Generator is:\n",
    "```\n",
    "def myGenerator(arguments):\n",
    "    # some code\n",
    "\n",
    "    yield something\n",
    "```\n",
    "When generator function is called, it doesn't execute the function body immediately, instead it returns a generator object that can be iterated over to produce the values.\n",
    "\n",
    "Generators are great for creating function-based iterators, we have to just write a function which will be often less complex than a class-based iterator.\n",
    "\n",
    "*Generator is  function based iterator and all the other iterators are class based iterators (not true definition, just an analogy for understanding)*\n",
    "\n",
    "**Generator Comprehension**\n",
    "Generator expression or comprehension is a concise way to create a generator object.\n",
    "\n",
    "Syntax of generator comprehension:\n",
    "```\n",
    "(expression for element in iterable)\n",
    "```\n",
    "\n",
    "**Types of Generators**\n",
    "- Classical one - Take a sequence/stream and yield the elements of it as they appear.\n",
    "- Transformer one - Take a sequence/stream, transform each element and yield the transformed element.\n",
    "- Generated one - Take no sequence/stream, generating new data as a result of some computation to finally yield the generated items.\n",
    "\n",
    "*Generators are used when we want to generate a sequence with very large amount of elements but don't want to store them in memory at once.*"
   ]
  },
  {
   "cell_type": "code",
   "execution_count": 31,
   "metadata": {},
   "outputs": [
    {
     "name": "stdout",
     "output_type": "stream",
     "text": [
      "0\n",
      "1\n",
      "2\n",
      "3\n",
      "4\n"
     ]
    }
   ],
   "source": [
    "# CLASSICAL  GENERATOR \n",
    "\n",
    "\"\"\"Ex - generates a sequence of numbers\"\"\"\n",
    "\n",
    "def customGenerator(n):\n",
    "    i = 0\n",
    "    while i < n:\n",
    "        yield i \n",
    "        i += 1\n",
    "\n",
    "for x in customGenerator(5):\n",
    "    print(x)"
   ]
  },
  {
   "cell_type": "code",
   "execution_count": 33,
   "metadata": {},
   "outputs": [
    {
     "name": "stdout",
     "output_type": "stream",
     "text": [
      "4\n",
      "16\n",
      "36\n",
      "64\n",
      "100\n"
     ]
    }
   ],
   "source": [
    "# TRANSFORMER  GENERATOR \n",
    "\n",
    "\"\"\"Ex - generates a square of elements from given sequence\"\"\"\n",
    "\n",
    "def customGenerator(a):\n",
    "    for element in a:\n",
    "        yield element ** 2\n",
    "\n",
    "l = [2, 4, 6, 8, 10]\n",
    "for x in customGenerator(l):\n",
    "    print(x)"
   ]
  },
  {
   "cell_type": "code",
   "execution_count": 36,
   "metadata": {},
   "outputs": [
    {
     "data": {
      "text/plain": [
       "[0, 1, 1, 2, 3, 5, 8, 13, 21, 34]"
      ]
     },
     "execution_count": 36,
     "metadata": {},
     "output_type": "execute_result"
    }
   ],
   "source": [
    "# Generative  GENERATOR \n",
    "\n",
    "\"\"\"Ex - generates a fibonacci sequence\"\"\"\n",
    "\n",
    "def customGenerator(stop=10):\n",
    "    current_fib, next_fib = 0, 1\n",
    "    for _ in range(0, stop):\n",
    "        fib_number = current_fib\n",
    "        current_fib, next_fib = (next_fib, current_fib + next_fib)\n",
    "        yield fib_number\n",
    "\n",
    "list(customGenerator())"
   ]
  },
  {
   "cell_type": "code",
   "execution_count": 37,
   "metadata": {},
   "outputs": [
    {
     "name": "stdout",
     "output_type": "stream",
     "text": [
      "0\n",
      "1\n",
      "4\n",
      "9\n"
     ]
    }
   ],
   "source": [
    "# Generator comprehension\n",
    "\n",
    "squares_gen = (i*i for i in range(4))\n",
    "\n",
    "for i in squares_gen:\n",
    "    print(i)"
   ]
  },
  {
   "cell_type": "markdown",
   "metadata": {},
   "source": [
    "## Miscellaneous A: Pipelining with Generators"
   ]
  },
  {
   "cell_type": "markdown",
   "metadata": {},
   "source": [
    "Multiple generators can be used to build a memory efficient data processing pipeline.\n",
    "\n",
    "These pipelines can be used to perform data preprocessing, data manipulation, data generation and various other tasks in field of artificial intelligence. As these pipelines will also produce data on demand rather than storing them.\n",
    "\n",
    "Pipelining generators:\n",
    "```\n",
    "def generator1(arguments):\n",
    "    yield something\n",
    "\n",
    "def generator2(arguments):\n",
    "    yield something\n",
    "\n",
    "generator2(generator1(arguments))\n",
    "```\n",
    "\n",
    "The above mentioned methods build `Serialized Pipeline`, in order to build to `Parallelized Pipeline` we have to use external libraries.\n",
    "\n",
    "*Iterators can't be pipelined*"
   ]
  },
  {
   "cell_type": "code",
   "execution_count": 40,
   "metadata": {},
   "outputs": [
    {
     "name": "stdout",
     "output_type": "stream",
     "text": [
      "0\n",
      "1\n",
      "1\n",
      "4\n",
      "9\n"
     ]
    }
   ],
   "source": [
    "# pipeline generators\n",
    "\"\"\"Ex - one generator will generate fibonacci sequence while other will square its result and yield it\"\"\"\n",
    "\n",
    "\n",
    "def fibGenerator(n):\n",
    "    current_fib, next_fib = 0, 1\n",
    "    for _ in range(n):\n",
    "        fib_number = current_fib\n",
    "        current_fib, next_fib = (next_fib, current_fib + next_fib)\n",
    "        yield fib_number\n",
    "    \n",
    "def squareGenerator(a):\n",
    "    for element in a:\n",
    "        yield element ** 2\n",
    "\n",
    "\n",
    "for item in squareGenerator(fibGenerator(5)):\n",
    "    print(item)"
   ]
  }
 ],
 "metadata": {
  "kernelspec": {
   "display_name": "base",
   "language": "python",
   "name": "python3"
  },
  "language_info": {
   "codemirror_mode": {
    "name": "ipython",
    "version": 3
   },
   "file_extension": ".py",
   "mimetype": "text/x-python",
   "name": "python",
   "nbconvert_exporter": "python",
   "pygments_lexer": "ipython3",
   "version": "3.9.12"
  },
  "orig_nbformat": 4
 },
 "nbformat": 4,
 "nbformat_minor": 2
}
