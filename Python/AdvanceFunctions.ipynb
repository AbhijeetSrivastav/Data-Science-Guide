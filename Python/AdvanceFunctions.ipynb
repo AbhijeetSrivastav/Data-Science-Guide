{
 "cells": [
  {
   "cell_type": "markdown",
   "metadata": {},
   "source": [
    "# Advance Functions - Functional Programming"
   ]
  },
  {
   "cell_type": "markdown",
   "metadata": {},
   "source": [
    "## 1. Lambda Expressions"
   ]
  },
  {
   "cell_type": "markdown",
   "metadata": {},
   "source": [
    "They are also known as anonymous function are a special type of function without the name of the function.\n",
    "\n",
    "`lambda` keyword is used to define them instead of `def` keyword.\n",
    "\n",
    "They have general syntax as:\n",
    "```\n",
    "lambda arguments(s): expression\n",
    "```\n",
    "\n",
    "where,\n",
    "- `argument(s)` is any value passed to the lambda function\n",
    "- `expression` is an expression executed and returned\n",
    "\n",
    "Calling of the `lambda` function is similar to that of classic functions.\n",
    "\n",
    "**Attributes of Lambda function**\n",
    "- Lambda functions can be used wherever function objects are required.\n",
    "- They are syntactically restricted to a single expression.\n",
    "- Semantically they are just syntactic sugar for a normal function.\n",
    "\n",
    "\n",
    "**Facts**\n",
    "- Lambda expressions in python or any language have roots in lambda calculus, a model of computation invented by Alonzo Church in 1930s.\n",
    "- Lambda functions are also referred to as lambda abstractions.\n",
    "- Lambda calculus can encode any computation. It is turing complete, but contrary to the concept of turing machine, it is pure and does not keep any state.\n",
    "- The imperative programming language inherit their computation model from Turing machine computational model (Python, C).\n",
    "- While non imperative programming language inherit their computational model from lambda calculus (Java).\n",
    "- But as lambda and turing computational model can be translated to each other based on Alonzo-Turing hypothesis, this lead to introduction of inter operable functions in these languages. Like python being a turing base has `lambda` function which is lambda calculus based.\n",
    "- Python not originally a functional language, but it adopted some functional concepts in 1994 like `map, filter, reduce, lambda`"
   ]
  },
  {
   "cell_type": "code",
   "execution_count": 3,
   "metadata": {},
   "outputs": [
    {
     "data": {
      "text/plain": [
       "3"
      ]
     },
     "execution_count": 3,
     "metadata": {},
     "output_type": "execute_result"
    }
   ],
   "source": [
    "fun = lambda x : x + 1\n",
    "\n",
    "fun(2)"
   ]
  },
  {
   "cell_type": "code",
   "execution_count": 4,
   "metadata": {},
   "outputs": [
    {
     "name": "stdout",
     "output_type": "stream",
     "text": [
      "I am lambda\n"
     ]
    }
   ],
   "source": [
    "fun = lambda : print('I am lambda')\n",
    "\n",
    "fun()"
   ]
  },
  {
   "cell_type": "code",
   "execution_count": 7,
   "metadata": {},
   "outputs": [
    {
     "data": {
      "text/plain": [
       "<function __main__.<lambda>(x)>"
      ]
     },
     "execution_count": 7,
     "metadata": {},
     "output_type": "execute_result"
    }
   ],
   "source": [
    "lambda x : 10 + 1"
   ]
  },
  {
   "cell_type": "code",
   "execution_count": 10,
   "metadata": {},
   "outputs": [
    {
     "data": {
      "text/plain": [
       "110"
      ]
     },
     "execution_count": 10,
     "metadata": {},
     "output_type": "execute_result"
    }
   ],
   "source": [
    "# referencing nested lambda function \n",
    "\n",
    "def incrementor(n):\n",
    "    return lambda x: x + n\n",
    "\n",
    "fun = incrementor(10) # pass the 10 for n in incrementor\n",
    "\n",
    "fun(100) # pass 100 for x in lambda of incrementor"
   ]
  },
  {
   "cell_type": "markdown",
   "metadata": {},
   "source": [
    "## 2. Map"
   ]
  },
  {
   "cell_type": "markdown",
   "metadata": {},
   "source": [
    "The `map()` function applies a given function to each element of an sequence or iterable and returns an iterable containing the results.\n",
    "\n",
    "Map has following syntax:\n",
    "```\n",
    "map(func, *iterables)\n",
    "```\n",
    "\n",
    "where,\n",
    "- `func` is the function on  which each element in `iterables` would be applied on\n",
    "- `*iterables` is `n` iterables on which `func` would be applied\n",
    "\n",
    "A `map object` is returned by `map()` in python 3+ which is a generator object, although in python2 a list would have been returned.\n",
    "\n",
    "The number of arguments to `func` must be the number of `iterables` listed."
   ]
  },
  {
   "cell_type": "code",
   "execution_count": 11,
   "metadata": {},
   "outputs": [
    {
     "name": "stdout",
     "output_type": "stream",
     "text": [
      "['RAM', 'LAKSHMAN', 'SITA']\n"
     ]
    }
   ],
   "source": [
    "# using simple loops \n",
    "\n",
    "names = ['ram', 'lakshman', 'sita']\n",
    "Upnames = []\n",
    "\n",
    "for name in names:\n",
    "    Upnames.append(name.upper())\n",
    "\n",
    "print(Upnames)"
   ]
  },
  {
   "cell_type": "code",
   "execution_count": 13,
   "metadata": {},
   "outputs": [
    {
     "name": "stdout",
     "output_type": "stream",
     "text": [
      "['RAM', 'LAKSHMAN', 'SITA']\n"
     ]
    }
   ],
   "source": [
    "# using map\n",
    "\n",
    "names = ['ram', 'lakshman', 'sita']\n",
    "Upnames = list(map(str.upper, names))\n",
    "\n",
    "print(Upnames)"
   ]
  },
  {
   "cell_type": "markdown",
   "metadata": {},
   "source": [
    "Notice how easy a `map()` adds functionality to a code."
   ]
  },
  {
   "cell_type": "code",
   "execution_count": 14,
   "metadata": {},
   "outputs": [
    {
     "name": "stdout",
     "output_type": "stream",
     "text": [
      "[10, 20, 30]\n"
     ]
    }
   ],
   "source": [
    "# using multiple iterables\n",
    "\n",
    "values = [10, 20, 30]\n",
    "\n",
    "z = list(map(round, values, range(1,  4)))\n",
    "\n",
    "print(z)"
   ]
  },
  {
   "cell_type": "code",
   "execution_count": 15,
   "metadata": {},
   "outputs": [
    {
     "name": "stdout",
     "output_type": "stream",
     "text": [
      "[('a', 1), ('b', 2), ('c', 3)]\n"
     ]
    }
   ],
   "source": [
    "# combining complex custom functions using lambda\n",
    "\n",
    "s = ['a', 'b', 'c']\n",
    "n = [1, 2, 3]\n",
    "\n",
    "z = list(map(lambda x, y : (x, y), s, n))\n",
    "\n",
    "print(z)"
   ]
  },
  {
   "cell_type": "markdown",
   "metadata": {},
   "source": [
    "## 2. Filter"
   ]
  },
  {
   "cell_type": "markdown",
   "metadata": {},
   "source": [
    "The `filter()` function selects elements from an sequence or iterable based on the output of a function.\n",
    "\n",
    "The function is applied to each element of the iterable and if it returns True, the element is selected by the `filter()` function.\n",
    "\n",
    "\n",
    "Filter has following syntax:\n",
    "```\n",
    "filter(func, iterable)\n",
    "```\n",
    "\n",
    "where,\n",
    "- `func` is the function on  which each element in `iterable` would be applied on and it should boolean type \n",
    "- `iterables` is an iterable on which `func` would be applied\n",
    "\n",
    "The `func` argument is required to return a boolean type. If it doesn't, `filter` simply returns the `iterable`\n",
    "\n",
    "`filter` passes each element in the iterable through `func` and returns only ones that evaluates to be true.\n",
    "\n",
    "Unlike `map()`, `filter` can have only one `iterable`."
   ]
  },
  {
   "cell_type": "code",
   "execution_count": 16,
   "metadata": {},
   "outputs": [
    {
     "name": "stdout",
     "output_type": "stream",
     "text": [
      "[20, 26, 40, 21]\n"
     ]
    }
   ],
   "source": [
    "# using simple loops\n",
    "\n",
    "THRESHOLD = 10\n",
    "\n",
    "values = [20, 5, 4, 3, 2, 1, 26, 40, 21, 6]\n",
    "cross_thresh = []\n",
    "\n",
    "for value in values:\n",
    "    if value > THRESHOLD:\n",
    "        cross_thresh.append(value)\n",
    "\n",
    "print(cross_thresh)"
   ]
  },
  {
   "cell_type": "code",
   "execution_count": 17,
   "metadata": {},
   "outputs": [
    {
     "name": "stdout",
     "output_type": "stream",
     "text": [
      "[20, 26, 40, 21]\n"
     ]
    }
   ],
   "source": [
    "# using filter\n",
    "\n",
    "THRESHOLD = 10\n",
    "\n",
    "def isCrossThresh(value: int)->bool:\n",
    "    return value > THRESHOLD\n",
    "\n",
    "\n",
    "values = [20, 5, 4, 3, 2, 1, 26, 40, 21, 6]\n",
    "\n",
    "cross_thresh = list(filter(isCrossThresh, values))\n",
    "\n",
    "print(cross_thresh)"
   ]
  },
  {
   "cell_type": "code",
   "execution_count": 18,
   "metadata": {},
   "outputs": [
    {
     "name": "stdout",
     "output_type": "stream",
     "text": [
      "[20, 26, 40, 21]\n"
     ]
    }
   ],
   "source": [
    "# combining complex custom functions using lambda\n",
    "\n",
    "THRESHOLD = 10\n",
    "\n",
    "values = [20, 5, 4, 3, 2, 1, 26, 40, 21, 6]\n",
    "\n",
    "cross_thresh = list(filter(lambda x: x > THRESHOLD, values))\n",
    "\n",
    "print(cross_thresh)"
   ]
  },
  {
   "cell_type": "markdown",
   "metadata": {},
   "source": []
  }
 ],
 "metadata": {
  "kernelspec": {
   "display_name": "base",
   "language": "python",
   "name": "python3"
  },
  "language_info": {
   "codemirror_mode": {
    "name": "ipython",
    "version": 3
   },
   "file_extension": ".py",
   "mimetype": "text/x-python",
   "name": "python",
   "nbconvert_exporter": "python",
   "pygments_lexer": "ipython3",
   "version": "3.9.12"
  },
  "orig_nbformat": 4
 },
 "nbformat": 4,
 "nbformat_minor": 2
}
