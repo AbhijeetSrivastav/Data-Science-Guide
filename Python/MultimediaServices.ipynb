{
 "cells": [
  {
   "cell_type": "markdown",
   "metadata": {},
   "source": [
    "# Multimedia Services"
   ]
  },
  {
   "cell_type": "markdown",
   "metadata": {},
   "source": [
    "These services are used are used for multimedia applications.\n",
    "\n",
    "For this python has two built-in modules.\n",
    "- `wave`\n",
    "- `colorsys`"
   ]
  },
  {
   "cell_type": "markdown",
   "metadata": {},
   "source": [
    "## Wave"
   ]
  },
  {
   "cell_type": "markdown",
   "metadata": {},
   "source": [
    "`wave` provides interfaces to handle the waveform audio, i.e WAVE or WAV (`.wav`) files.\n",
    "\n",
    "- `WAVE_FORMAT_PCM` file formats are only supported\n",
    "\n",
    "**Classes in Wave**\n",
    "- `class wave.Wave_read()` read a WAV file\n",
    "- `class wave.Wave_write()` write a WAV file\n",
    "\n",
    "**Methods in Wave**\n",
    "- `wave.Wave_read.open(file, mode=None)` open a WAV file and returns `Wave_read` object, after reading it we need to close it using `close()` method\n",
    "  - `file` name of the WAV file to open\n",
    "  - `mode` mode in which to open file, it has values `rb`, `wb`\n",
    "\n",
    "- `wave.Wave_read.close()` close the stream opened by `wave` and makes the instance unusable, this is called automatic object collection\n",
    "- `wave.Wave_read.getnchannels()` returns number of audio channels, `1` for mono and `2` for stereo\n",
    "- `wave.Wave_read.getsampwidth()` returns sampling frequency\n",
    "- `wave.Wave_read.framerate()` returns sampling frequency\n",
    "- `wave.Wave_read.frames()` returns number of audio frames\n",
    "- `wave.Wave_read.getcomptype()`  return compression type\n",
    "- `wave.Wave_read.getcompname()` human readable version of `getcomptype()`\n",
    "- `wave.Wave_read.getparams()` returns a `namedtuple()` with values `(nchannels, sampwdith, framerate, nframes, comptype, compname)` equivalent to output of the `get*()` methods\n",
    "- `wave.Wave_read.readframes(n)` reds and returns at most `n` frames of audio, as bytes object\n",
    "- `wave.Wave_read.rewind()` rewind the file pointer to the beginning of the audio stream\n",
    "- `wave.Wave_read.getmarkers()` returns `None`\n",
    "- `wave.Wave_read.getmark(id)` raise an error\n",
    "- `wave.Wave_read.setpos(pos)` set the file pointer to the specified position\n",
    "- `wave.Wave_read.tell()` return current file pointer position\n",
    "- `wave.Wave_write.close()` make sure `nframes` is correct, and close the file, this method is called upon object collection\n",
    "- `wave.Wave_write.setnchannels(n)` set the number of channels\n",
    "- `wave.Wave_write.setsampwidth(n)` set the sample with to `n` bytes\n",
    "- `wave.Wave_write.setframerate(n)` set the frame rate to `n`\n",
    "- `wave.Wave_write.setframes(n)` set the number of frames to `n`\n",
    "- `wave.Wave_write.setcomptype(type, name)` set the compression type and description\n",
    "- `wave.Wave_write.setparams(tuple)` the tuple should be `(nchannels, sampwidth, framerate, nframes, comptype, compname)` with values valid for the `set*()` methods\n",
    "- `wave.Wave_write.tell()` return current position in the file\n",
    "- `wave.Wave_write.writeframesraw(data)` write audio frames, without correcting `nframes`\n",
    "- `wave.Wave_write.writeframes(data)` write audio frames and make sure `nframes` is correct"
   ]
  },
  {
   "cell_type": "code",
   "execution_count": 1,
   "metadata": {},
   "outputs": [],
   "source": [
    "import wave"
   ]
  },
  {
   "cell_type": "code",
   "execution_count": null,
   "metadata": {},
   "outputs": [],
   "source": [
    "# reading wav file\n",
    "wav_obj = wave.open('sound.wav','wb')"
   ]
  },
  {
   "cell_type": "code",
   "execution_count": 2,
   "metadata": {},
   "outputs": [],
   "source": [
    "# Creates a WAV file with random short integer bytes of 9999 seconds duration\n",
    "\n",
    "import wave, struct, math, random\n",
    "\n",
    "sampleRate = 44100.0 # hertz\n",
    "duration = 1.0 # seconds\n",
    "frequency = 440.0 # hertz\n",
    "\n",
    "obj = wave.open('sound.wav','w')\n",
    "\n",
    "obj.setnchannels(1) # mono\n",
    "obj.setsampwidth(2)\n",
    "obj.setframerate(sampleRate)\n",
    "\n",
    "for i in range(99999):\n",
    "   value = random.randint(-32767, 32767)\n",
    "   data = struct.pack('<h', value)\n",
    "   obj.writeframesraw( data )\n",
    "   \n",
    "obj.close()"
   ]
  },
  {
   "cell_type": "markdown",
   "metadata": {},
   "source": [
    "# Colorsys"
   ]
  },
  {
   "cell_type": "markdown",
   "metadata": {},
   "source": [
    "`colorsys` module defines bidirectional conversions fo colour values between expressed in the RGB color space used in computer monitors and three other coordinate systems; YIQ, HLS(Hue Light Saturation) and HSV(Hue Saturation Value). \n",
    "\n",
    "Coordinates in all of these color spaces are floating point values.\n",
    "\n",
    "In the YIQ space, the Y coordinate is between 0 and 1, but the I and Q coordinates can be positive or negative. In all other spaces, the coordinates are all between 0 and 1.\n",
    "\n",
    "**Methods in Colorsys**\n",
    "- `colorsys.rgb_to_yiq(r, g, b)` convert the color from RGB coordinates to YIQ coordinates.\n",
    "- `colorsys.yiq_to_rgb(y, i, q)` convert the color from YIQ coordinates to RGB coordinates.\n",
    "- `colorsys.rgb_to_hls(r, g, b)` convert the color from RGB coordinates to HLS coordinates.\n",
    "- `colorsys.hls_to_rgb(h, l, s)` convert the color from HLS coordinates to RGB coordinates.\n",
    "- `colorsys.rgb_to_hsv(r, g, b)` convert the color from RGB coordinates to HSV coordinates.\n",
    "- `colorsys.hsv_to_rgb(h, s, v)` convert the color from HSV coordinates to RGB coordinates."
   ]
  },
  {
   "cell_type": "code",
   "execution_count": 3,
   "metadata": {},
   "outputs": [],
   "source": [
    "import colorsys"
   ]
  },
  {
   "cell_type": "code",
   "execution_count": 4,
   "metadata": {},
   "outputs": [
    {
     "data": {
      "text/plain": [
       "(0.5, 0.5, 0.4)"
      ]
     },
     "execution_count": 4,
     "metadata": {},
     "output_type": "execute_result"
    }
   ],
   "source": [
    "colorsys.rgb_to_hsv(0.2, 0.4, 0.4)"
   ]
  },
  {
   "cell_type": "code",
   "execution_count": 5,
   "metadata": {},
   "outputs": [
    {
     "data": {
      "text/plain": [
       "(0.2, 0.4, 0.4)"
      ]
     },
     "execution_count": 5,
     "metadata": {},
     "output_type": "execute_result"
    }
   ],
   "source": [
    "colorsys.hsv_to_rgb(0.5, 0.5, 0.4)"
   ]
  }
 ],
 "metadata": {
  "kernelspec": {
   "display_name": "base",
   "language": "python",
   "name": "python3"
  },
  "language_info": {
   "codemirror_mode": {
    "name": "ipython",
    "version": 3
   },
   "file_extension": ".py",
   "mimetype": "text/x-python",
   "name": "python",
   "nbconvert_exporter": "python",
   "pygments_lexer": "ipython3",
   "version": "3.9.12"
  },
  "orig_nbformat": 4
 },
 "nbformat": 4,
 "nbformat_minor": 2
}
