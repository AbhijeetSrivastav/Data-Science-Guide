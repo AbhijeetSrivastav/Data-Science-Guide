{
 "cells": [
  {
   "cell_type": "markdown",
   "metadata": {},
   "source": [
    "# Development Tools"
   ]
  },
  {
   "cell_type": "markdown",
   "metadata": {},
   "source": [
    "Python provides modules which help us in writing softwares:\n",
    "- `pydoc` for documentation\n",
    "- `doctest` & `unittest` for unit tests\n",
    "- `typing` for type hints"
   ]
  },
  {
   "cell_type": "markdown",
   "metadata": {},
   "source": [
    "## 1. Typing"
   ]
  },
  {
   "cell_type": "markdown",
   "metadata": {},
   "source": [
    "`typing` module provides runtime support for type hints in various scenarios."
   ]
  },
  {
   "cell_type": "markdown",
   "metadata": {},
   "source": [
    "### 1.1. Type aliases"
   ]
  },
  {
   "cell_type": "markdown",
   "metadata": {},
   "source": [
    "A type alias is defined by assigning type to the alias."
   ]
  },
  {
   "cell_type": "code",
   "execution_count": 2,
   "metadata": {},
   "outputs": [],
   "source": [
    "Vector = list[float]\n",
    "\n",
    "def alpha(scalar: float, vector: Vector, built: str) -> Vector:\n",
    "    # do something\n",
    "    return vector"
   ]
  },
  {
   "cell_type": "markdown",
   "metadata": {},
   "source": [
    "In above case  `Vector` and `list[float]` will be treated as interchangeable synonyms."
   ]
  },
  {
   "cell_type": "markdown",
   "metadata": {},
   "source": [
    "Type aliases are useful for simplifying the complex type signatures.\n",
    "```\n",
    "fom collections.abc import Sequence\n",
    "\n",
    "ConnectionOptions = dict[str, str]\n",
    "Address = tuple[str, int]\n",
    "\n",
    "Server = tuple[Address, ConnectionOptions]\n",
    "\n",
    "def broadcast_message(message: str, servers: Sequence[Server])-> None:\n",
    "     # some code\n",
    "\n",
    "\n",
    "# This above mentioned function without Type alias would look like this\n",
    "\n",
    "def broadcast_message(message: str, servers: Sequence[tuple[tuple[str, int], dict[str, str]]]) -> None:\n",
    "    # some code\n",
    "```\n",
    "\n",
    "Type aliases may be marked with `TypeAlias` to make it explicit that the statement is a type alias declaration, not a normal variable assignment.\n",
    "\n",
    "```\n",
    "from typing import TypeAlias\n",
    "\n",
    "Vector: TypeAlias = list[float]\n",
    "```"
   ]
  },
  {
   "cell_type": "markdown",
   "metadata": {},
   "source": [
    "### 1.2. NewType"
   ]
  },
  {
   "cell_type": "markdown",
   "metadata": {},
   "source": [
    "New type create distinct types.\n",
    "\n",
    "```\n",
    "from typing import NewType\n",
    "\n",
    "UserId = NewType('UserId', int)\n",
    "\n",
    "id1 = UserId(111111)\n",
    "```\n",
    "\n",
    "The static type checker will treat the new type as if it were a subclass of the original type. This is useful in helping catch logical errors:\n",
    "\n",
    "```\n",
    "def get_user_name(user_id: UserId) -> str:\n",
    "    ...\n",
    "\n",
    "# passes type checking\n",
    "user_a = get_user_name(UserId(42351))\n",
    "\n",
    "# fails type checking; an int is not a UserId\n",
    "user_b = get_user_name(-1)\n",
    "```\n",
    "\n",
    "We may still perform all `int` operations on a variable of type `UserId`, but the result will always be of type `int`. This lets you pass in a `UserId` wherever an `int` might be expected, but will prevent you from accidentally creating a `UserId` in an invalid way.\n",
    "\n",
    "```\n",
    "# 'output' is of type 'int', not 'UserId'\n",
    "output = UserId(23413) + UserId(54341)\n",
    "```\n",
    "\n",
    "These checks are enforced only by the static type checker. At runtime, the statement `Derived = NewType('Derived', Base)` will make `Derived` a callable that immediately returns whatever parameter you pass it. That means the expression `Derived(some_value)` does not create a new class or introduce much overhead beyond that of a regular function call.\n",
    "\n",
    "More precisely, the expression `some_value is Derived(some_value)` is always true at runtime.\n",
    "\n",
    "It is invalid to create a subtype of Derived:\n",
    "\n",
    "```\n",
    "from typing import NewType\n",
    "\n",
    "UserId = NewType('UserId', int)\n",
    "\n",
    "# Fails at runtime and does not pass type checking\n",
    "class AdminUserId(UserId): pass\n",
    "```\n",
    "\n",
    "However, it is possible to create a NewType based on a ‘derived’ NewType:\n",
    "\n",
    "```\n",
    "from typing import NewType\n",
    "\n",
    "UserId = NewType('UserId', int)\n",
    "\n",
    "ProUserId = NewType('ProUserId', UserId)\n",
    "```"
   ]
  },
  {
   "cell_type": "markdown",
   "metadata": {},
   "source": [
    "### 1.3. Annotating Callable Objects"
   ]
  },
  {
   "cell_type": "markdown",
   "metadata": {},
   "source": [
    "All callable objects can annotated using `collections.abc.Callable` or `typing.Callable.Callable[[argument list], return variable]` .\n",
    "\n",
    "Ex - `.Callable[[int], str]`signifies a function that takes a single parameter of type `int` and returns a `str`."
   ]
  },
  {
   "cell_type": "code",
   "execution_count": 3,
   "metadata": {},
   "outputs": [],
   "source": [
    "from collections.abc import Callable, Awaitable\n",
    "\n",
    "def feeder(get_next_item: Callable[[], str]) -> None:\n",
    "    ...  # Body\n",
    "\n",
    "def async_query(on_success: Callable[[int], None],\n",
    "                on_error: Callable[[int, Exception], None]) -> None:\n",
    "    pass\n",
    "\n",
    "async def on_update(value: str) -> None:\n",
    "    pass\n",
    "\n",
    "callback: Callable[[str], Awaitable[None]] = on_update"
   ]
  },
  {
   "cell_type": "markdown",
   "metadata": {},
   "source": [
    "The argument list must be a list of types. The return type must be a single type."
   ]
  },
  {
   "cell_type": "markdown",
   "metadata": {},
   "source": [
    "If a literal ellipsis `...` is given as the argument list, it indicates that a callable with any arbitrary parameter list would be acceptable."
   ]
  },
  {
   "cell_type": "code",
   "execution_count": 4,
   "metadata": {},
   "outputs": [],
   "source": [
    "def concat(x: str, y: str)->str:\n",
    "    return x + y\n",
    "\n",
    "x: Callable[..., str]\n",
    "x = str\n",
    "x = concat"
   ]
  },
  {
   "cell_type": "markdown",
   "metadata": {},
   "source": [
    "`Callable` can't express complex signatures, so to do that we define these complex signatures in `__call__()` method of a custom class which inherits from the `Protocol` class."
   ]
  },
  {
   "cell_type": "code",
   "execution_count": 10,
   "metadata": {},
   "outputs": [],
   "source": [
    "from collections.abc import Iterable\n",
    "from typing import Protocol\n",
    "\n",
    "class Combiner(Protocol):\n",
    "    def __call__(self, *vals: bytes, maxlen: int ) -> list[bytes]: ...\n",
    "\n",
    "def batch_proc(data: Iterable[bytes], cb_results: Combiner) -> bytes:\n",
    "    for item in data:\n",
    "        ...\n",
    "\n",
    "def good_cb(*vals: bytes, maxlen: int ) -> list[bytes]:\n",
    "    ...\n",
    "def bad_cb(*vals: bytes, maxitems: int) -> list[bytes]:\n",
    "    ...\n",
    "\n",
    "batch_proc([], good_cb)  "
   ]
  },
  {
   "cell_type": "markdown",
   "metadata": {},
   "source": [
    "### 1.4. Generics"
   ]
  },
  {
   "cell_type": "markdown",
   "metadata": {},
   "source": [
    "Type information about objects kept in containers cannot be inferred in a generic way.\n",
    "\n",
    "Python provides some container classes that help use to extract those information."
   ]
  },
  {
   "cell_type": "markdown",
   "metadata": {},
   "source": [
    "Here we can observe that `Sequence[Car]` indicates that all elements in the sequence must be instance of `Car` class"
   ]
  },
  {
   "cell_type": "code",
   "execution_count": null,
   "metadata": {},
   "outputs": [],
   "source": [
    "from collections.abc import Sequence\n",
    "\n",
    "class Car: ...\n",
    "\n",
    "def car_data(car: Sequence[Car], name: str)-> None:..."
   ]
  },
  {
   "cell_type": "markdown",
   "metadata": {},
   "source": [
    "We can make annotations to objects without using a class also."
   ]
  },
  {
   "cell_type": "code",
   "execution_count": 12,
   "metadata": {},
   "outputs": [],
   "source": [
    "from typing import TypeVar\n",
    "from collections.abc import Sequence\n",
    "\n",
    "C = TypeVar('C')\n",
    "\n",
    "def car_data(car: Sequence[C], name: str)-> None:..."
   ]
  },
  {
   "cell_type": "markdown",
   "metadata": {},
   "source": [
    "### 1.5. Any Type"
   ]
  },
  {
   "cell_type": "markdown",
   "metadata": {},
   "source": [
    "`Any` is a special kind of type.\n",
    "\n",
    "A static type checker will treat ever type as being compatible with `Any` and `Any` as being compatible with every type.\n",
    "\n",
    "Thus it is possible to perform any operation or method call on a value of type `Any` and assign it to any variable."
   ]
  },
  {
   "cell_type": "code",
   "execution_count": 13,
   "metadata": {},
   "outputs": [],
   "source": [
    "from typing import Any\n",
    "\n",
    "# declaring Any type variable\n",
    "a: Any = None\n",
    "\n",
    "# Any can be any type of variable \n",
    "a = []\n",
    "\n",
    "a = \"\"\n",
    "\n",
    "a = 10\n",
    "\n",
    "a = True"
   ]
  },
  {
   "cell_type": "code",
   "execution_count": 14,
   "metadata": {},
   "outputs": [],
   "source": [
    "# A function can also accept argument of Any type\n",
    "\n",
    "def func(a: Any)-> None:\n",
    "    ..."
   ]
  },
  {
   "cell_type": "code",
   "execution_count": 16,
   "metadata": {},
   "outputs": [
    {
     "data": {
      "text/plain": [
       "bool"
      ]
     },
     "execution_count": 16,
     "metadata": {},
     "output_type": "execute_result"
    }
   ],
   "source": [
    "type(a) # latest assigned type is being given to a "
   ]
  },
  {
   "cell_type": "markdown",
   "metadata": {},
   "source": [
    "## 1.6. Classes, Functions in Typing"
   ]
  },
  {
   "cell_type": "markdown",
   "metadata": {},
   "source": [
    "`typing` module has various classes, functions and decorators.\n",
    "\n",
    "\n",
    "**Classes in Typing**\n",
    "- `typing.AnyStr` it is used for functions that may accept `str` or `bytes` arguments but can't allow to mix them\n",
    "  - `AnyStr = TypeVar('AnyStr', str, bytes)`\n",
    "\n",
    "- `typing.LiteralString` special type that only includes literal string \n",
    "  - useful for where we generate tokens or passkeys made up of literals only and are strings, so it makes possible to avoid any no literal string generation by acting as static checker\n"
   ]
  },
  {
   "cell_type": "markdown",
   "metadata": {},
   "source": [
    "- `typing.Never` a type that has no members, it can be used to define a function that should never be called, or a function that never returns\n",
    "\n",
    "Only python 3.11+"
   ]
  },
  {
   "cell_type": "code",
   "execution_count": null,
   "metadata": {},
   "outputs": [],
   "source": [
    "from typing import Never\n",
    "\n",
    "def alpha(arg: Never)->None:\n",
    "    ..."
   ]
  },
  {
   "cell_type": "markdown",
   "metadata": {},
   "source": [
    "- `typing.NoReturn` special type to indicate that function never returns"
   ]
  },
  {
   "cell_type": "code",
   "execution_count": 20,
   "metadata": {},
   "outputs": [],
   "source": [
    "from typing import NoReturn\n",
    "\n",
    "def alpha()->NoReturn:\n",
    "    ..."
   ]
  },
  {
   "cell_type": "markdown",
   "metadata": {},
   "source": [
    "- `typing.Self` special type to represent current enclosed class\n",
    "\n",
    "Only python 3.11+"
   ]
  },
  {
   "cell_type": "code",
   "execution_count": null,
   "metadata": {},
   "outputs": [],
   "source": [
    "from typing import Self\n",
    "\n",
    "class Beta:\n",
    "    def return_Self(self)-> Self:\n",
    "        return self\n",
    "    \n",
    "\n",
    "class Car:\n",
    "    def return_car(car)-> Car:\n",
    "        ..."
   ]
  },
  {
   "cell_type": "markdown",
   "metadata": {},
   "source": [
    "- `typing.TypeAlias` used to annotate aliases that make use of forward reference\n",
    "- `typing.Optional` `Optional[X]` is equivalent to `X|None` or `Union[X, None]`\n",
    "\n",
    "Only supported over 3.10+"
   ]
  },
  {
   "cell_type": "code",
   "execution_count": 22,
   "metadata": {},
   "outputs": [],
   "source": [
    "from typing import Optional\n",
    "\n",
    "def func(arg: Optional[int] = None)-> None:\n",
    "    ..."
   ]
  },
  {
   "cell_type": "markdown",
   "metadata": {},
   "source": [
    "- `typing.Concatenate` special form for annotating higher order functions\n",
    "- `typing.Literal` special form for annotating literal types\n",
    "- `typing.ClassVar` special type construct to mark class variables"
   ]
  },
  {
   "cell_type": "code",
   "execution_count": 23,
   "metadata": {},
   "outputs": [],
   "source": [
    "from typing import ClassVar\n",
    "\n",
    "class Robot:\n",
    "    type: ClassVar[str]\n",
    "    def __init__(self, ammo, hud) -> None:\n",
    "        self.ammo = ammo\n",
    "\n",
    "# ammo is instance variable it changes for each instance while hud remains same for all instances throughout the class"
   ]
  },
  {
   "cell_type": "markdown",
   "metadata": {},
   "source": [
    "- `typing.Final` special type to indicate final names tp type checkers"
   ]
  },
  {
   "cell_type": "code",
   "execution_count": 24,
   "metadata": {},
   "outputs": [],
   "source": [
    "from typing import Final\n",
    "\n",
    "HEIGHT_WIN: Final = 720\n",
    "\n",
    "class Layout:\n",
    "    Dimension: Final[tuple] = (1080, 720)"
   ]
  },
  {
   "cell_type": "markdown",
   "metadata": {},
   "source": [
    "- `typing.Required` special type construct to mark a `TypedDict` as required\n",
    "- `typing.NotRequired` special type construct to mark a `TypedDict` keys as potentially missing\n",
    "- `typing.Annotated` special type construct to add context-specific metadata to an annotation\n",
    "    - like this: `Annotated[type, metadata]`"
   ]
  },
  {
   "cell_type": "code",
   "execution_count": 27,
   "metadata": {},
   "outputs": [],
   "source": [
    "from typing import Annotated\n",
    "from dataclasses import dataclass\n",
    "\n",
    "@dataclass\n",
    "class Values:\n",
    "    low: int\n",
    "    high: int\n",
    "\n",
    "T1 = Annotated[int, Values(0, 10)]\n",
    "T1 = Annotated[int, Values(100, 1000)]"
   ]
  },
  {
   "cell_type": "markdown",
   "metadata": {},
   "source": [
    "- `typing.TypeGuard` special type construct for making user-defined type guard functions\n",
    "  - it can be used to annotate the return type of user defined type guard function\n",
    "  - it only accepts a single type argument \n",
    "  - it aims to benefit type narrowing"
   ]
  },
  {
   "cell_type": "code",
   "execution_count": 29,
   "metadata": {},
   "outputs": [],
   "source": [
    "def is_str(val: str or float):\n",
    "    # isinstance a type guard\n",
    "    if isinstance(val, str):\n",
    "        # type of val is narrowed to str\n",
    "        ...\n",
    "    else: \n",
    "        # type of val is narrowed to float\n",
    "        ..."
   ]
  },
  {
   "cell_type": "code",
   "execution_count": null,
   "metadata": {},
   "outputs": [],
   "source": [
    "# using typeguard\n",
    "\n",
    "from typing import TypeGuard\n",
    "\n",
    "def is_str_list(val: list[object]) -> TypeGuard[list[str]]:\n",
    "    '''Determines whether all objects in the list are strings'''\n",
    "    return all(isinstance(x, str) for x in val)"
   ]
  },
  {
   "cell_type": "markdown",
   "metadata": {},
   "source": [
    "- `typing.Unpack` special constructor to mark an object as being unpacked\n",
    "- `typing.Generic` abstract base class for generic type\n",
    "- `typing.TypeVar` type variable\n",
    "- `typing.TypeVarTuple` type variable tuple\n",
    "- `typing.PramSpec` parameter specification variable\n",
    "- `typing.PramSpecArgs` parameter specification of arguments\n",
    "- `typing.PramSpecKwargs` parameter specification of keyword arguments\n",
    "- `typing.NamedTuple` `typing` version of `collections.namedTuple()`\n",
    "- `typing.NewType` class to create lower head\n",
    "- `typing.Protocol` base class for Protocol\n",
    "- `typing.TypedDict` special construct to add type hints to a dictionary"
   ]
  },
  {
   "cell_type": "markdown",
   "metadata": {},
   "source": [
    "**Functions in Typing**\n",
    "- `typing.cast(typ, val)` cast a value to a type\n",
    "- `typing.assert_type(val, typ. /)` ask a static type checker to confirm that `val` has an inferred type of `typ`\n",
    "- `typing.assert_never(arg, /)` ask a static type checker to confirm that a line of code is unreachable\n",
    "- `typing.reveal_type(obj, /)` reveal the inferred static type of an expression"
   ]
  },
  {
   "cell_type": "markdown",
   "metadata": {},
   "source": [
    "## 2. Pydoc"
   ]
  },
  {
   "cell_type": "markdown",
   "metadata": {},
   "source": [
    "`pydoc` module automatically generates documentation from python modules.\n",
    "\n",
    "This documentation can be presented as:\n",
    "- text on console\n",
    "- save as HTML pages\n",
    "- served to browser\n",
    "\n",
    "For any module, class, functions, attributes documentation is derived from the docstring `__doc__` attribute of the object and recursively of its documentable members.\n",
    "\n",
    "In case their is no docstring, `pydoc` tries to obtain description from the block of the comment lines just above the definition of the class, function or method source file or at the top of the module.\n",
    "\n",
    "The built-in function help() invokes the online help system in the interactive interpreter, which uses `pydoc` to generate its documentation as text on the console.\n",
    "\n",
    "To view a list of all possible options associated with `pydoc` and generate documentation use this command:\n",
    "``` \n",
    "python -m pydoc\n",
    "```"
   ]
  },
  {
   "cell_type": "code",
   "execution_count": 32,
   "metadata": {},
   "outputs": [
    {
     "data": {
      "text/plain": [
       "'Automatically created module for IPython interactive environment'"
      ]
     },
     "execution_count": 32,
     "metadata": {},
     "output_type": "execute_result"
    }
   ],
   "source": [
    "__doc__"
   ]
  },
  {
   "cell_type": "code",
   "execution_count": 34,
   "metadata": {},
   "outputs": [
    {
     "name": "stdout",
     "output_type": "stream",
     "text": [
      "pydoc - the Python documentation tool\n",
      "\n",
      "pydoc <name> ...\n",
      "    Show text documentation on something.  <name> may be the name of a\n",
      "    Python keyword, topic, function, module, or package, or a dotted\n",
      "    reference to a class or function within a module or module in a\n",
      "    package.  If <name> contains a '\\', it is used as the path to a\n",
      "    Python source file to document. If name is 'keywords', 'topics',\n",
      "    or 'modules', a listing of these things is displayed.\n",
      "\n",
      "pydoc -k <keyword>\n",
      "    Search for a keyword in the synopsis lines of all available modules.\n",
      "\n",
      "pydoc -n <hostname>\n",
      "    Start an HTTP server with the given hostname (default: localhost).\n",
      "\n",
      "pydoc -p <port>\n",
      "    Start an HTTP server on the given port on the local machine.  Port\n",
      "    number 0 can be used to get an arbitrary unused port.\n",
      "\n",
      "pydoc -b\n",
      "    Start an HTTP server on an arbitrary unused port and open a Web browser\n",
      "    to interactively browse documentation.  This option can be used in\n",
      "    combination with -n and/or -p.\n",
      "\n",
      "pydoc -w <name> ...\n",
      "    Write out the HTML documentation for a module to a file in the current\n",
      "    directory.  If <name> contains a '\\', it is treated as a filename; if\n",
      "    it names a directory, documentation is written for all the contents.\n",
      "\n"
     ]
    }
   ],
   "source": [
    "!python -m pydoc"
   ]
  },
  {
   "cell_type": "markdown",
   "metadata": {},
   "source": [
    "This will load all documentation of `module` in command prompt"
   ]
  },
  {
   "cell_type": "code",
   "execution_count": null,
   "metadata": {},
   "outputs": [],
   "source": [
    "!python -m pydoc numpy"
   ]
  },
  {
   "cell_type": "markdown",
   "metadata": {},
   "source": [
    "To generate documentation about custom documentation use\n",
    "```\n",
    "python -m pydoc -w my_module\n",
    "```"
   ]
  },
  {
   "cell_type": "markdown",
   "metadata": {},
   "source": [
    "## 3. Python Development Mode"
   ]
  },
  {
   "cell_type": "markdown",
   "metadata": {},
   "source": [
    "When development mode is activated additional runtime checks are enabled.\n",
    "\n",
    "Development mode is enabled using:\n",
    "- `-X dev` command line option or\n",
    "- by setting `PYTHONDEVMODE` environment variable to `1`\n",
    "\n",
    "Enabling development environment is similar to the following command:\n",
    "```\n",
    "PYTHONMALLOC=debug PYTHONASYNCIODEBUG=1 python3 -W default -X faulthandler script.py\n",
    "```\n",
    "**Effects of Development Mode**\n",
    "- Warnings are shown only if issue is detected else not due to `warning filter` [its done by providing`-W`]\n",
    "- Debug hooks on memory to check for [its done by `PYTHONMALLOC=debug`]:\n",
    "  - buffer overflow and underflow\n",
    "  - Memory allocator API violation\n",
    "  - Unsafe usage of the GIL\n",
    "\n",
    "- `faulthandler.enable()` is called on startup to dump python traceback on crash [done by `-X faulthandler`]\n",
    "- asyncio debug mode is activated, it checks for coroutines that were not awaited and logs them [its done by `PYTHONASYNCIODEBUG=1`]"
   ]
  },
  {
   "cell_type": "markdown",
   "metadata": {},
   "source": [
    "## 4. Doctest"
   ]
  },
  {
   "cell_type": "markdown",
   "metadata": {},
   "source": [
    "`doctest` module searches for part of text in python comments that are interactive and then executes them to verify that they work/\n",
    "\n",
    "**Use cases**\n",
    "- To verify that the modules docstring's are up-to-date and examples provided in them are still working as documented.\n",
    "- To perform regression testing by verifying that interactive examples from test file or test object work as expected.\n",
    "- To write tutorial documentation for modules with interactive examples.\n",
    "\n",
    "**Using Doctest**\n",
    "- To use docstring's in a module we have to add,\n",
    "```\n",
    "if __name__ == \"__main__\":\n",
    "    import doctest\n",
    "    doctest.testmod()\n",
    "```\n",
    "\n",
    "this piece of code at end of module(say module is `M.py`)\n",
    "\n",
    "- Then we can run the module as script to see the `doctest` in action.\n",
    "```\n",
    "python M.py\n",
    "```\n",
    "\n",
    "- This will return nothing in output and that means all examples are working fine. To get the example as output in console add the verbose argument in the previous command.\n",
    "```\n",
    "python M.py -v\n",
    "```\n",
    "\n",
    "- We can also force verbose even in the module code so later we don't have to pass it.\n",
    "```\n",
    "if __name__ = \"__main__\":\n",
    "    import doctest\n",
    "    doctest.testmod(verbose=True)\n",
    "```\n",
    "\n",
    "- We can also run `doctest` directly from command line without adding any extra code in the module itself using following command.\n",
    "```\n",
    "python -m doctest -v M.py\n",
    "```\n",
    "\n",
    "**Using Doctest with Text files**\n",
    "- We can use `doctest` to test examples from a separate text file using the `testfile()` function.\n",
    "```\n",
    "if __name__ == \"__main__\":\n",
    "    import doctest\n",
    "    doctest.tetfile('t.txt')\n",
    "```\n",
    "\n",
    "**API in Doctest**\n",
    "Their are three API available in `doctest`\n",
    "- Basic API\n",
    "- Unitest API\n",
    "- Advance API\n",
    "  \n",
    "**Basic API**\n",
    "It has three available methods:\n",
    "- `doctest.testmod()`\n",
    "- `doctest.testfile()`\n",
    "- `doctest.run_docstring_examples()`\n",
    "\n",
    "**Unitest API**\n",
    "It has following methods available:\n",
    "- `doctest.DocFileSuite()`\n",
    "- `doctest.DocTestSuite()`\n",
    "- `doctest.set_unitest_reportflags()`\n",
    "  \n",
    "**Advance API**\n",
    "Its basically backend of the wrappers of all methods in Basic API, it has following classes available:\n",
    "- `class doctest.DocTest()`\n",
    "- `class doctest.Example()`\n",
    "- `class doctest.DocTestFinder()`\n",
    "- `class doctest.DocTestParser()`\n",
    "- `class doctest.DocTestRunner()`\n",
    "- `class doctest.OutputChecker`\n",
    "\n",
    "**Note:** \n",
    "- `testfile(), testmod()` will not show anything in output console until examples fail to execute or `verbose=True` or `-v` argument passed in command line.\n",
    "\n",
    "- More about `doctest` working in background and API [doctesst](https://docs.python.org/3/library/doctest.html)"
   ]
  },
  {
   "cell_type": "markdown",
   "metadata": {},
   "source": [
    "This code below would be in separate script name `M.py` and then this script will act as module and we can then use all the above mentioned `doctest` commands and code over it."
   ]
  },
  {
   "cell_type": "code",
   "execution_count": 39,
   "metadata": {},
   "outputs": [],
   "source": [
    "\"\"\"\n",
    "This is \"M\" module. It contains various functions to do mathematical calculations.\n",
    "\n",
    "For example:\n",
    "\n",
    ">> add(2, 5)\n",
    "7\n",
    "\"\"\"\n",
    "\n",
    "def add(a, b):\n",
    "    \"\"\"Return sum of a and b\n",
    "    >>add(5, 10)\n",
    "    15\n",
    "    >>add(5, 0)\n",
    "    5\n",
    "    >>add(-2, 5)\n",
    "    3\n",
    "    \"\"\"\n",
    "    return a + b"
   ]
  },
  {
   "cell_type": "markdown",
   "metadata": {},
   "source": [
    "This is a sample text file (in this case `t.txt`) which can be used with `doctest` to test examples."
   ]
  },
  {
   "cell_type": "markdown",
   "metadata": {},
   "source": [
    "```\n",
    "The ``M`` module\n",
    "====================\n",
    "\n",
    "Using  ``add``\n",
    "\n",
    "This is an file containing examples in reStructuredText format.\n",
    "\n",
    "First import ``add`` from ``M`` module:\n",
    "    >> from M import add\n",
    "\n",
    "Now use it:\n",
    "    >> add(10, 5)\n",
    "    15\n",
    "```"
   ]
  },
  {
   "cell_type": "markdown",
   "metadata": {},
   "source": [
    "## 5. Unittest"
   ]
  },
  {
   "cell_type": "markdown",
   "metadata": {},
   "source": [
    "Unit testing is a software testing technique where individual components or units of a program are tested in isolation to ensure they function correctly and produce the expected results. It helps identify bugs early in the development process and contributes to the overall stability and reliability of the software.\n",
    "\n",
    "**Type of Unittesting**\n",
    "\n",
    "There are several types of unit testing:\n",
    "\n",
    "1. White Box Testing: This type of testing involves examining the internal logic and structure of the code being tested. Test cases are designed based on the code's internal pathways, conditions, and branches.\n",
    "\n",
    "2. Black Box Testing: Here, the focus is on testing the external behavior of the code. Test cases are designed based on the expected inputs and outputs, without considering the internal implementation.\n",
    "\n",
    "3. Gray Box Testing: A combination of white box and black box testing, where some knowledge of the internal code is used to design test cases.\n",
    "\n",
    "4. Positive Testing: Testing where valid inputs are provided to the unit, expecting valid outputs.\n",
    "\n",
    "5. Negative Testing: Testing where invalid or unexpected inputs are provided to the unit, testing how it handles errors.\n",
    "\n",
    "6. Boundary Testing: Testing where the unit is tested with inputs at the extreme boundaries of valid ranges, to check how it handles edge cases.\n",
    "\n",
    "7. Stub Testing: Involves creating simple, partial implementations of components to test a specific piece of code.\n",
    "\n",
    "8. Mock Testing: Similar to stub testing, but with more control over the simulated behavior of components.\n",
    "\n",
    "9. Isolation Testing: Ensures that a specific unit is isolated and tested independently from the rest of the application.\n",
    "\n",
    "10. Component Testing: Involves testing individual components or modules of the software in isolation.\n",
    "\n",
    "11. Integration Testing: While not exactly unit testing, it involves testing the interaction between different components or modules to ensure they work well together.\n",
    "\n",
    "These types of unit testing help ensure different aspects of a software component's functionality and behavior are thoroughly tested."
   ]
  },
  {
   "cell_type": "markdown",
   "metadata": {},
   "source": [
    "`unittest` is a unit testing framework is used for performing unit testing in python.\n",
    "\n",
    "It supports:\n",
    "- Test automation\n",
    "- Sharing of setup and shutdown code for \n",
    "  - tests\n",
    "  - aggregation of tests into collections\n",
    "  - independence of the tests from the reporting framework\n",
    "\n",
    "To achieve this, unittest supports some important concepts in an object-oriented way:\n",
    "- *test fixture* A test fixture represents the preparation needed to perform one or more tests, and any associated cleanup actions. This may involve, for example, creating temporary or proxy databases, directories, or starting a server process.\n",
    "\n",
    "- *test case* A test case is the individual unit of testing. It checks for a specific response to a particular set of inputs. unittest provides a base class, TestCase, which may be used to create new test cases.\n",
    "\n",
    "- *test suite* A test suite is a collection of test cases, test suites, or both. It is used to aggregate tests that should be executed together.\n",
    "\n",
    "- *test runner*A test runner is a component which orchestrates the execution of tests and provides the outcome to the user. The runner may use a graphical interface, a textual interface, or return a special value to indicate the results of executing the tests."
   ]
  },
  {
   "cell_type": "markdown",
   "metadata": {},
   "source": [
    "`unitest` follows a general procedure to  perform testing which includes:\n",
    "1. A class is created for a test case by sub classing `unittest.TestCase`.\n",
    "2. Various tests are defined in the form of methods within this class for particular response with various set of inputs. Name of these methods must start with `test` word just as convention to inform the test runner abut which methods represent tests.\n",
    "3. Each test method has various `asssert` methods to check and report failures.\n",
    "\n",
    "```\n",
    "import unittest\n",
    "\n",
    "class TestClass(unittest.TestCase):\n",
    "    def test_something(self):\n",
    "        self.assert_smthng(inputs)\n",
    "    \n",
    "    def test_something_else(self):\n",
    "        self.assert_smthng(inputs)\n",
    "\n",
    "if __name__ == \"__main__\":\n",
    "    unittest.main()\n",
    "```\n",
    "\n",
    "**Executing Testing**\n",
    "- This piece of code `unittest.main()` provides a command line interface to test the script.\n",
    "\n",
    "- To test the scrip using command line we have do following:\n",
    "```\n",
    "python -m unittest test_module.TestClass\n",
    "\n",
    "# OR\n",
    "\n",
    "python -m unittest test_module.TestClass.test_method\n",
    "\n",
    "# OR\n",
    "\n",
    "python -m unittest [test module1, test module 2, ...].TestClass\n",
    "```\n",
    "\n",
    "- Test can be performed by specifying file path as well:\n",
    "```\n",
    "python -m  unittest tests/test_smthng.py\n",
    "```\n",
    "\n",
    "In this case path is converted to module name by removing `.py` extension and it is compulsory that script is importable.\n",
    "\n",
    "- To get more details about testing in console we may turn verbose True in script method as `unittest.main(verbose=True)` or we may pass `-v` argument with any command in command line.\n",
    "\n",
    "**Command Line Options for Running test Command**\n",
    "- `-v` verbose to get more information in command line\n",
    "- `-h` for list of all command line options, i.e help\n",
    "- `-b` or `--buffer` standard output and error streams are buffered during the test run. Output during a passing test is discarded. Output is echoed normally on test fail or error and is added to the failure messages\n",
    "- `-c` or `--catch` first control-c during the test run waits for the current test to end and then reports all the results so far. A second control-c raises the normal KeyboardInterrupt exception\n",
    "- `f` or `--failfast` stop the test run on the first error\n",
    "- `--locals` show local variables in tracebacks\n",
    "- `k` only run test methods and classes that match the pattern or substring. \n",
    "  - This option may be used multiple times, in which case all test cases that match any of the given patterns are included.\n",
    "  - Patterns that contain a wildcard character (*) are matched against the test name using fnmatch.fnmatchcase(); otherwise simple case-sensitive substring matching is used.\n",
    "  - Patterns are matched against the fully qualified test method name as imported by the test loader\n",
    "  - For example, `-k foo` matches `foo_tests.SomeTest.test_something, bar_tests.SomeTest.test_foo`, but not` bar_tests.FooTest.test_something`\n",
    "\n",
    "\n",
    "**All available assert methods in assert**\n",
    "|Method| Checks that|\n",
    "|-----------|------------|\n",
    "|`assertEqual(a, b)`|a == b|\n",
    "|`assertNotEqual(a, b)`|a != b|\n",
    "|`assertTrue(x)`|bool(x) is True|\n",
    "|`assertFalse(x)`|bool(x) is False|\n",
    "|`assertFalse(x)`|a is b|\n",
    "|`assertIsNot(a, b)`|a is not b|\n",
    "|`assertIsNot(a, b)`|x is None|\n",
    "|`assertIsNot(a, b)`|x is not None|\n",
    "|`assertIsNot(a, b)`|a in b|\n",
    "|`assertIsNot(a, b)`|a not in b|\n",
    "|`assertIsNot(a, b)`|isinstance(a, b)|\n",
    "|`assertIsNot(a, b)`|not isinstance(a, b)|\n",
    "|`assertAlmostEqual(a, b)`|round(a-b, 7) == 0|\n",
    "|`assertNotAlmostEqual(a, b)`|round(a-b, 7) != 0|\n",
    "|`assertGreater(a, b)`|a > b|\n",
    "|`assertGreaterEqual(a, b)`|a >= b|\n",
    "|`assertLess(a, b)`|a < b|\n",
    "|`assertLessEqual(a, b)`|a <= b|\n",
    "|`assertRegex(s, r)`|r.search(s)|\n",
    "|`assertNotRegex(s, r)`|not r.search(s)|\n",
    "|`assertCountEqual(a, b)`|a & b have the same elements in same length|\n",
    "|`assertMultiLineEqual(a, b)`|use to compare strings|\n",
    "|`assertMultiLineEqual(a, b)`|use to compare sequences|\n",
    "|`assertListEqual(a, b)`|use to compare lists|\n",
    "|`assertTupleEqual(a, b)`|use to compare tuples|\n",
    "|`assertSetEqual(a, b)`|use to compare sets or frozensets|\n",
    "|`assertDictEqual(a, b)`|use to compare dicts|"
   ]
  },
  {
   "cell_type": "code",
   "execution_count": null,
   "metadata": {},
   "outputs": [],
   "source": [
    "from typing import Final\n",
    "\n",
    "HEIGHT_WIN: Final = 720\n",
    "\n",
    "class Layout:\n",
    "    Dimension: Final[tuple] = (1080, 720)"
   ]
  },
  {
   "cell_type": "code",
   "execution_count": null,
   "metadata": {},
   "outputs": [],
   "source": [
    "# Example of Unittest class (almost everything tha can be done with this module)\n",
    "import unittest\n",
    "\n",
    "class TestStringMethods(unittest.TestCase):\n",
    "\n",
    "    def test_upper(self):\n",
    "        self.assertEqual('foo'.upper(), 'FOO')\n",
    "\n",
    "    def test_isupper(self):\n",
    "        self.assertTrue('FOO'.isupper())\n",
    "        self.assertFalse('Foo'.isupper())\n",
    "\n",
    "    def test_split(self):\n",
    "        s = 'hello world'\n",
    "        self.assertEqual(s.split(), ['hello', 'world'])\n",
    "        # check that s.split fails when the separator is not a string\n",
    "        with self.assertRaises(TypeError):\n",
    "            s.split(2)\n",
    "\n",
    "if __name__ == '__main__':\n",
    "    unittest.main()"
   ]
  },
  {
   "cell_type": "markdown",
   "metadata": {},
   "source": [
    "**Test Discovery**\n",
    "`unittest` supports test discovery. In order for this to function all tests files must be modules or packages and importable from the top-level directory.\n",
    "\n",
    "**Executing Discovery**\n",
    "- This service is provided by `TestLoader.discover()` method that can be added to the module.\n",
    "- To discover test using command line we have to do this:\n",
    "```\n",
    "# in the project directory\n",
    "python -m unittest discover\n",
    "```\n",
    "\n",
    "**Command line options for discovering tests**\n",
    "- `-v` or `--verbose` verbose to get more information in command line\n",
    "- `-s`, `--start-directory` directory directory to start discovery (. default)\n",
    "- `-p`, `--pattern` pattern pattern to match test files (`test*.py` default)\n",
    "- `-t`, `--top-level-directory directory` top level directory of project (defaults to start directory)\n",
    "\n",
    "One thing, `python -m unittest discovery` is the equivalent of `python -m unittest`\n",
    "\n",
    "Examples- \n",
    "```\n",
    "python -m unittest discover -s project_directory -p \"*_test.py\"\n",
    "python -m unittest discover project_directory \"*_test.py\"\n",
    "```"
   ]
  },
  {
   "cell_type": "markdown",
   "metadata": {},
   "source": [
    "**Test Code Organization**\n",
    "- The basic building blocks of unit testing are test cases — single scenarios that must be set up and checked for correctness. \n",
    "- In unittest, test cases are represented by `unittest.TestCase` instances. \n",
    "- To make our own test cases we must write subclasses of `TestCase` or use `FunctionTestCase`.\n",
    "- The testing code of a `TestCase` instance should be entirely self contained, such that it can be run either in isolation or in arbitrary combination with any number of other test cases.\n",
    "- In order to test something, we use one of the `assert*()` methods provided by the `TestCase` base class. If the test fails, an exception will be raised with an explanatory message, and `unittest` will identify the test case as a failure. Any other exceptions will be treated as errors.\n",
    "- Tests can be numerous, and their set-up can be repetitive. To make it easier we can factor out set-up code by implementing a method called `setUp()`, which the testing framework will automatically call for every single test we run. It basically allows to perform various tests on same thing again and again with varying input.\n",
    "\n",
    "```\n",
    "class TestClass(unittest.TestCase):\n",
    "    def setUp(self):\n",
    "        self.object = object_being_tested\n",
    "\n",
    "    def test_something(self):\n",
    "        self.assert_smthng(object)\n",
    "    \n",
    "    def test_something_else(self):\n",
    "        self.assert_smthng(object)\n",
    "```\n",
    "\n",
    "- A `tearDown()` method is also available that tidies up after the test method has been run.\n",
    "  \n",
    "```\n",
    "class TestClass(unittest.TestCase):\n",
    "    def setUp(self):\n",
    "        self.object = object_being_tested\n",
    "\n",
    "    def test_something(self):\n",
    "        self.assert_smthng(object)\n",
    "    \n",
    "    def test_something_else(self):\n",
    "        self.assert_smthng(object)\n",
    "    \n",
    "    def tearDown(self):\n",
    "        self.object.disposes()\n",
    "```\n",
    "\n",
    "- We can group tests together according to feature they test using `TestSuite`.\n",
    "\n",
    "```\n",
    "def suite():\n",
    "    suite = unittest.TestSuite()\n",
    "    suite.addTest(TestClass(test_method_one))\n",
    "    suite.addTest(TestClass(test_method_two))\n",
    "\n",
    "if __name__ == \"__main__\":\n",
    "    runner = unittest.TextTestRunner()\n",
    "    runner.run(suite())\n",
    "```\n",
    "\n",
    "- Definition of tests, i.e `TestClass` and suite can be in same module.\n",
    "\n",
    "\n",
    "**Note:** Tests are run in the order of the alphabetical arrangement of the name of test methods."
   ]
  },
  {
   "cell_type": "code",
   "execution_count": null,
   "metadata": {},
   "outputs": [],
   "source": [
    "# Using Setup method to setup an object which is tested with varying parameters in later test methods\n",
    "import unittest\n",
    "\n",
    "class WidgetTestCase(unittest.TestCase):\n",
    "    def setUp(self):\n",
    "        self.widget = Widget('The widget')\n",
    "\n",
    "    def test_default_widget_size(self):\n",
    "        self.assertEqual(self.widget.size(), (50,50),\n",
    "                         'incorrect default size')\n",
    "\n",
    "    def test_widget_resize(self):\n",
    "        self.widget.resize(100,150)\n",
    "        self.assertEqual(self.widget.size(), (100,150),\n",
    "                         'wrong size after resize')"
   ]
  },
  {
   "cell_type": "code",
   "execution_count": null,
   "metadata": {},
   "outputs": [],
   "source": [
    "# Using TearDown method to dispose object setup by the Setup method\n",
    "import unittest\n",
    "\n",
    "class WidgetTestCase(unittest.TestCase):\n",
    "    def setUp(self):\n",
    "        self.widget = Widget('The widget')\n",
    "\n",
    "    def test_default_widget_size(self):\n",
    "        self.assertEqual(self.widget.size(), (50,50),\n",
    "                         'incorrect default size')\n",
    "\n",
    "    def test_widget_resize(self):\n",
    "        self.widget.resize(100,150)\n",
    "        self.assertEqual(self.widget.size(), (100,150),\n",
    "                         'wrong size after resize')\n",
    "        \n",
    "    def tearDown(self):\n",
    "        self.widget.dispose()"
   ]
  },
  {
   "cell_type": "code",
   "execution_count": null,
   "metadata": {},
   "outputs": [],
   "source": [
    "# TestSuite to group similar feature testing tests\n",
    "\n",
    "def suite():\n",
    "    suite = unittest.TestSuite()\n",
    "    suite.addTest(WidgetTestCase('test_default_widget_size'))\n",
    "    suite.addTest(WidgetTestCase('test_widget_resize'))\n",
    "    return suite\n",
    "\n",
    "if __name__ == '__main__':\n",
    "    runner = unittest.TextTestRunner()\n",
    "    runner.run(suite())"
   ]
  },
  {
   "cell_type": "markdown",
   "metadata": {},
   "source": [
    "**Note:** \n",
    "- For all available classes, methods and attributes refer [uinttest](https://docs.python.org/3/library/unittest.html#assert-methods)\n",
    "\n",
    "- Their is an extension module associated with `unittest` framework `unittest.mock` [mock object library](https://docs.python.org/3/library/unittest.mock.html)\n"
   ]
  },
  {
   "cell_type": "markdown",
   "metadata": {},
   "source": [
    "## 6. Test"
   ]
  },
  {
   "cell_type": "markdown",
   "metadata": {},
   "source": [
    "- It is meant for internal use by python only!\n",
    "- For all available classes, methods and attributes refer [test](https://docs.python.org/3/library/test.html)\n",
    "\n",
    "- Their is an extension module associated with `test` framework `test.support` [support library](https://docs.python.org/3/library/test.html#module-test.support)\n",
    "\n",
    "\n"
   ]
  }
 ],
 "metadata": {
  "kernelspec": {
   "display_name": "base",
   "language": "python",
   "name": "python3"
  },
  "language_info": {
   "codemirror_mode": {
    "name": "ipython",
    "version": 3
   },
   "file_extension": ".py",
   "mimetype": "text/x-python",
   "name": "python",
   "nbconvert_exporter": "python",
   "pygments_lexer": "ipython3",
   "version": "3.9.12"
  },
  "orig_nbformat": 4
 },
 "nbformat": 4,
 "nbformat_minor": 2
}
