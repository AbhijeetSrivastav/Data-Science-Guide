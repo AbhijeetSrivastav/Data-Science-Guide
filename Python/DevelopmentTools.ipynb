{
 "cells": [
  {
   "cell_type": "markdown",
   "metadata": {},
   "source": [
    "# Development Tools"
   ]
  },
  {
   "cell_type": "markdown",
   "metadata": {},
   "source": [
    "Python provides modules which help us in writing softwares:\n",
    "- `pydoc` for documentation\n",
    "- `doctest` & `unittest` for unit tests\n",
    "- `typing` for type hints"
   ]
  },
  {
   "cell_type": "markdown",
   "metadata": {},
   "source": [
    "## 1. Typing"
   ]
  },
  {
   "cell_type": "markdown",
   "metadata": {},
   "source": [
    "`typing` module provides runtime support for type hints in various scenarios."
   ]
  },
  {
   "cell_type": "markdown",
   "metadata": {},
   "source": [
    "### 1.1. Type aliases"
   ]
  },
  {
   "cell_type": "markdown",
   "metadata": {},
   "source": [
    "A type alias is defined by assigning type to the alias."
   ]
  },
  {
   "cell_type": "code",
   "execution_count": 2,
   "metadata": {},
   "outputs": [],
   "source": [
    "Vector = list[float]\n",
    "\n",
    "def alpha(scalar: float, vector: Vector, built: str) -> Vector:\n",
    "    # do something\n",
    "    return vector"
   ]
  },
  {
   "cell_type": "markdown",
   "metadata": {},
   "source": [
    "In above case  `Vector` and `list[float]` will be treated as interchangeable synonyms."
   ]
  },
  {
   "cell_type": "markdown",
   "metadata": {},
   "source": [
    "Type aliases are useful for simplifying the complex type signatures.\n",
    "```\n",
    "fom collections.abc import Sequence\n",
    "\n",
    "ConnectionOptions = dict[str, str]\n",
    "Address = tuple[str, int]\n",
    "\n",
    "Server = tuple[Address, ConnectionOptions]\n",
    "\n",
    "def broadcast_message(message: str, servers: Sequence[Server])-> None:\n",
    "     # some code\n",
    "\n",
    "\n",
    "# This above mentioned function without Type alias would look like this\n",
    "\n",
    "def broadcast_message(message: str, servers: Sequence[tuple[tuple[str, int], dict[str, str]]]) -> None:\n",
    "    # some code\n",
    "```\n",
    "\n",
    "Type aliases may be marked with `TypeAlias` to make it explicit that the statement is a type alias declaration, not a normal variable assignment.\n",
    "\n",
    "```\n",
    "from typing import TypeAlias\n",
    "\n",
    "Vector: TypeAlias = list[float]\n",
    "```"
   ]
  },
  {
   "cell_type": "markdown",
   "metadata": {},
   "source": [
    "### 1.2. NewType"
   ]
  },
  {
   "cell_type": "markdown",
   "metadata": {},
   "source": [
    "New type create distinct types.\n",
    "\n",
    "```\n",
    "from typing import NewType\n",
    "\n",
    "UserId = NewType('UserId', int)\n",
    "\n",
    "id1 = UserId(111111)\n",
    "```\n",
    "\n",
    "The static type checker will treat the new type as if it were a subclass of the original type. This is useful in helping catch logical errors:\n",
    "\n",
    "```\n",
    "def get_user_name(user_id: UserId) -> str:\n",
    "    ...\n",
    "\n",
    "# passes type checking\n",
    "user_a = get_user_name(UserId(42351))\n",
    "\n",
    "# fails type checking; an int is not a UserId\n",
    "user_b = get_user_name(-1)\n",
    "```\n",
    "\n",
    "We may still perform all `int` operations on a variable of type `UserId`, but the result will always be of type `int`. This lets you pass in a `UserId` wherever an `int` might be expected, but will prevent you from accidentally creating a `UserId` in an invalid way.\n",
    "\n",
    "```\n",
    "# 'output' is of type 'int', not 'UserId'\n",
    "output = UserId(23413) + UserId(54341)\n",
    "```\n",
    "\n",
    "These checks are enforced only by the static type checker. At runtime, the statement `Derived = NewType('Derived', Base)` will make `Derived` a callable that immediately returns whatever parameter you pass it. That means the expression `Derived(some_value)` does not create a new class or introduce much overhead beyond that of a regular function call.\n",
    "\n",
    "More precisely, the expression `some_value is Derived(some_value)` is always true at runtime.\n",
    "\n",
    "It is invalid to create a subtype of Derived:\n",
    "\n",
    "```\n",
    "from typing import NewType\n",
    "\n",
    "UserId = NewType('UserId', int)\n",
    "\n",
    "# Fails at runtime and does not pass type checking\n",
    "class AdminUserId(UserId): pass\n",
    "```\n",
    "\n",
    "However, it is possible to create a NewType based on a ‘derived’ NewType:\n",
    "\n",
    "```\n",
    "from typing import NewType\n",
    "\n",
    "UserId = NewType('UserId', int)\n",
    "\n",
    "ProUserId = NewType('ProUserId', UserId)\n",
    "```"
   ]
  },
  {
   "cell_type": "markdown",
   "metadata": {},
   "source": [
    "### 1.3. Annotating Callable Objects"
   ]
  },
  {
   "cell_type": "markdown",
   "metadata": {},
   "source": [
    "All callable objects can annotated using `collections.abc.Callable` or `typing.Callable.Callable[[argument list], return variable]` .\n",
    "\n",
    "Ex - `.Callable[[int], str]`signifies a function that takes a single parameter of type `int` and returns a `str`."
   ]
  },
  {
   "cell_type": "code",
   "execution_count": 3,
   "metadata": {},
   "outputs": [],
   "source": [
    "from collections.abc import Callable, Awaitable\n",
    "\n",
    "def feeder(get_next_item: Callable[[], str]) -> None:\n",
    "    ...  # Body\n",
    "\n",
    "def async_query(on_success: Callable[[int], None],\n",
    "                on_error: Callable[[int, Exception], None]) -> None:\n",
    "    pass\n",
    "\n",
    "async def on_update(value: str) -> None:\n",
    "    pass\n",
    "\n",
    "callback: Callable[[str], Awaitable[None]] = on_update"
   ]
  },
  {
   "cell_type": "markdown",
   "metadata": {},
   "source": [
    "The argument list must be a list of types. The return type must be a single type."
   ]
  },
  {
   "cell_type": "markdown",
   "metadata": {},
   "source": [
    "If a literal ellipsis `...` is given as the argument list, it indicates that a callable with any arbitrary parameter list would be acceptable."
   ]
  },
  {
   "cell_type": "code",
   "execution_count": 4,
   "metadata": {},
   "outputs": [],
   "source": [
    "def concat(x: str, y: str)->str:\n",
    "    return x + y\n",
    "\n",
    "x: Callable[..., str]\n",
    "x = str\n",
    "x = concat"
   ]
  },
  {
   "cell_type": "markdown",
   "metadata": {},
   "source": [
    "`Callable` can't express complex signatures, so to do that we define these complex signatures in `__call__()` method of a custom class which inherits from the `Protocol` class."
   ]
  },
  {
   "cell_type": "code",
   "execution_count": 10,
   "metadata": {},
   "outputs": [],
   "source": [
    "from collections.abc import Iterable\n",
    "from typing import Protocol\n",
    "\n",
    "class Combiner(Protocol):\n",
    "    def __call__(self, *vals: bytes, maxlen: int ) -> list[bytes]: ...\n",
    "\n",
    "def batch_proc(data: Iterable[bytes], cb_results: Combiner) -> bytes:\n",
    "    for item in data:\n",
    "        ...\n",
    "\n",
    "def good_cb(*vals: bytes, maxlen: int ) -> list[bytes]:\n",
    "    ...\n",
    "def bad_cb(*vals: bytes, maxitems: int) -> list[bytes]:\n",
    "    ...\n",
    "\n",
    "batch_proc([], good_cb)  "
   ]
  },
  {
   "cell_type": "markdown",
   "metadata": {},
   "source": [
    "### 1.4. Generics"
   ]
  },
  {
   "cell_type": "markdown",
   "metadata": {},
   "source": [
    "Type information about objects kept in containers cannot be inferred in a generic way.\n",
    "\n",
    "Python provides some container classes that help use to extract those information."
   ]
  },
  {
   "cell_type": "markdown",
   "metadata": {},
   "source": [
    "Here we can observe that `Sequence[Car]` indicates that all elements in the sequence must be instance of `Car` class"
   ]
  },
  {
   "cell_type": "code",
   "execution_count": null,
   "metadata": {},
   "outputs": [],
   "source": [
    "from collections.abc import Sequence\n",
    "\n",
    "class Car: ...\n",
    "\n",
    "def car_data(car: Sequence[Car], name: str)-> None:..."
   ]
  },
  {
   "cell_type": "markdown",
   "metadata": {},
   "source": [
    "We can make annotations to objects without using a class also."
   ]
  },
  {
   "cell_type": "code",
   "execution_count": 12,
   "metadata": {},
   "outputs": [],
   "source": [
    "from typing import TypeVar\n",
    "from collections.abc import Sequence\n",
    "\n",
    "C = TypeVar('C')\n",
    "\n",
    "def car_data(car: Sequence[C], name: str)-> None:..."
   ]
  },
  {
   "cell_type": "markdown",
   "metadata": {},
   "source": [
    "### 1.5. Any Type"
   ]
  },
  {
   "cell_type": "markdown",
   "metadata": {},
   "source": [
    "`Any` is a special kind of type.\n",
    "\n",
    "A static type checker will treat ever type as being compatible with `Any` and `Any` as being compatible with every type.\n",
    "\n",
    "Thus it is possible to perform any operation or method call on a value of type `Any` and assign it to any variable."
   ]
  },
  {
   "cell_type": "code",
   "execution_count": 13,
   "metadata": {},
   "outputs": [],
   "source": [
    "from typing import Any\n",
    "\n",
    "# declaring Any type variable\n",
    "a: Any = None\n",
    "\n",
    "# Any can be any type of variable \n",
    "a = []\n",
    "\n",
    "a = \"\"\n",
    "\n",
    "a = 10\n",
    "\n",
    "a = True"
   ]
  },
  {
   "cell_type": "code",
   "execution_count": 14,
   "metadata": {},
   "outputs": [],
   "source": [
    "# A function can also accept argument of Any type\n",
    "\n",
    "def func(a: Any)-> None:\n",
    "    ..."
   ]
  },
  {
   "cell_type": "code",
   "execution_count": 16,
   "metadata": {},
   "outputs": [
    {
     "data": {
      "text/plain": [
       "bool"
      ]
     },
     "execution_count": 16,
     "metadata": {},
     "output_type": "execute_result"
    }
   ],
   "source": [
    "type(a) # latest assigned type is being given to a "
   ]
  },
  {
   "cell_type": "markdown",
   "metadata": {},
   "source": [
    "## 1.6. Classes, Functions in Typing"
   ]
  },
  {
   "cell_type": "markdown",
   "metadata": {},
   "source": [
    "`typing` module has various classes, functions and decorators.\n",
    "\n",
    "\n",
    "**Classes in Typing**\n",
    "- `typing.AnyStr` it is used for functions that may accept `str` or `bytes` arguments but can't allow to mix them\n",
    "  - `AnyStr = TypeVar('AnyStr', str, bytes)`\n",
    "\n",
    "- `typing.LiteralString` special type that only includes literal string \n",
    "  - useful for where we generate tokens or passkeys made up of literals only and are strings, so it makes possible to avoid any no literal string generation by acting as static checker\n"
   ]
  },
  {
   "cell_type": "markdown",
   "metadata": {},
   "source": [
    "- `typing.Never` a type that has no members, it can be used to define a function that should never be called, or a function that never returns\n",
    "\n",
    "Only python 3.11+"
   ]
  },
  {
   "cell_type": "code",
   "execution_count": null,
   "metadata": {},
   "outputs": [],
   "source": [
    "from typing import Never\n",
    "\n",
    "def alpha(arg: Never)->None:\n",
    "    ..."
   ]
  },
  {
   "cell_type": "markdown",
   "metadata": {},
   "source": [
    "- `typing.NoReturn` special type to indicate that function never returns"
   ]
  },
  {
   "cell_type": "code",
   "execution_count": 20,
   "metadata": {},
   "outputs": [],
   "source": [
    "from typing import NoReturn\n",
    "\n",
    "def alpha()->NoReturn:\n",
    "    ..."
   ]
  },
  {
   "cell_type": "markdown",
   "metadata": {},
   "source": [
    "- `typing.Self` special type to represent current enclosed class\n",
    "\n",
    "Only python 3.11+"
   ]
  },
  {
   "cell_type": "code",
   "execution_count": null,
   "metadata": {},
   "outputs": [],
   "source": [
    "from typing import Self\n",
    "\n",
    "class Beta:\n",
    "    def return_Self(self)-> Self:\n",
    "        return self\n",
    "    \n",
    "\n",
    "class Car:\n",
    "    def return_car(car)-> Car:\n",
    "        ..."
   ]
  },
  {
   "cell_type": "markdown",
   "metadata": {},
   "source": [
    "- `typing.TypeAlias` used to annotate aliases that make use of forward reference\n",
    "- `typing.Optional` `Optional[X]` is equivalent to `X|None` or `Union[X, None]`\n",
    "\n",
    "Only supported over 3.10+"
   ]
  },
  {
   "cell_type": "code",
   "execution_count": 22,
   "metadata": {},
   "outputs": [],
   "source": [
    "from typing import Optional\n",
    "\n",
    "def func(arg: Optional[int] = None)-> None:\n",
    "    ..."
   ]
  },
  {
   "cell_type": "markdown",
   "metadata": {},
   "source": [
    "- `typing.Concatenate` special form for annotating higher order functions\n",
    "- `typing.Literal` special form for annotating literal types\n",
    "- `typing.ClassVar` special type construct to mark class variables"
   ]
  },
  {
   "cell_type": "code",
   "execution_count": 23,
   "metadata": {},
   "outputs": [],
   "source": [
    "from typing import ClassVar\n",
    "\n",
    "class Robot:\n",
    "    type: ClassVar[str]\n",
    "    def __init__(self, ammo, hud) -> None:\n",
    "        self.ammo = ammo\n",
    "\n",
    "# ammo is instance variable it changes for each instance while hud remains same for all instances throughout the class"
   ]
  },
  {
   "cell_type": "markdown",
   "metadata": {},
   "source": [
    "- `typing.Final` special type to indicate final names tp type checkers"
   ]
  },
  {
   "cell_type": "code",
   "execution_count": 24,
   "metadata": {},
   "outputs": [],
   "source": [
    "from typing import Final\n",
    "\n",
    "HEIGHT_WIN: Final = 720\n",
    "\n",
    "class Layout:\n",
    "    Dimension: Final[tuple] = (1080, 720)"
   ]
  },
  {
   "cell_type": "markdown",
   "metadata": {},
   "source": [
    "- `typing.Required` special type construct to mark a `TypedDict` as required\n",
    "- `typing.NotRequired` special type construct to mark a `TypedDict` keys as potentially missing\n",
    "- `typing.Annotated` special type construct to add context-specific metadata to an annotation\n",
    "    - like this: `Annotated[type, metadata]`"
   ]
  },
  {
   "cell_type": "code",
   "execution_count": 27,
   "metadata": {},
   "outputs": [],
   "source": [
    "from typing import Annotated\n",
    "from dataclasses import dataclass\n",
    "\n",
    "@dataclass\n",
    "class Values:\n",
    "    low: int\n",
    "    high: int\n",
    "\n",
    "T1 = Annotated[int, Values(0, 10)]\n",
    "T1 = Annotated[int, Values(100, 1000)]"
   ]
  },
  {
   "cell_type": "markdown",
   "metadata": {},
   "source": [
    "- `typing.TypeGuard` special type construct for making user-defined type guard functions\n",
    "  - it can be used to annotate the return type of user defined type guard function\n",
    "  - it only accepts a single type argument \n",
    "  - it aims to benefit type narrowing"
   ]
  },
  {
   "cell_type": "code",
   "execution_count": 29,
   "metadata": {},
   "outputs": [],
   "source": [
    "def is_str(val: str or float):\n",
    "    # isinstance a type guard\n",
    "    if isinstance(val, str):\n",
    "        # type of val is narrowed to str\n",
    "        ...\n",
    "    else: \n",
    "        # type of val is narrowed to float\n",
    "        ..."
   ]
  },
  {
   "cell_type": "code",
   "execution_count": null,
   "metadata": {},
   "outputs": [],
   "source": [
    "# using typeguard\n",
    "\n",
    "from typing import TypeGuard\n",
    "\n",
    "def is_str_list(val: list[object]) -> TypeGuard[list[str]]:\n",
    "    '''Determines whether all objects in the list are strings'''\n",
    "    return all(isinstance(x, str) for x in val)"
   ]
  },
  {
   "cell_type": "markdown",
   "metadata": {},
   "source": [
    "- `typing.Unpack` special constructor to mark an object as being unpacked\n",
    "- `typing.Generic` abstract base class for generic type\n",
    "- `typing.TypeVar` type variable\n",
    "- `typing.TypeVarTuple` type variable tuple\n",
    "- `typing.PramSpec` parameter specification variable\n",
    "- `typing.PramSpecArgs` parameter specification of arguments\n",
    "- `typing.PramSpecKwargs` parameter specification of keyword arguments\n",
    "- `typing.NamedTuple` `typing` version of `collections.namedTuple()`\n",
    "- `typing.NewType` class to create lower head\n",
    "- `typing.Protocol` base class for Protocol\n",
    "- `typing.TypedDict` special construct to add type hints to a dictionary"
   ]
  },
  {
   "cell_type": "markdown",
   "metadata": {},
   "source": [
    "**Functions in Typing**\n",
    "- `typing.cast(typ, val)` cast a value to a type\n",
    "- `typing.assert_type(val, typ. /)` ask a static type checker to confirm that `val` has an inferred type of `typ`\n",
    "- `typing.assert_never(arg, /)` ask a static type checker to confirm that a line of code is unreachable\n",
    "- `typing.reveal_type(obj, /)` reveal the inferred static type of an expression"
   ]
  },
  {
   "cell_type": "markdown",
   "metadata": {},
   "source": [
    "## 2. Pydoc"
   ]
  },
  {
   "cell_type": "markdown",
   "metadata": {},
   "source": [
    "`pydoc` module automatically generates documentation from python modules.\n",
    "\n",
    "This documentation can be presented as:\n",
    "- text on console\n",
    "- save as HTML pages\n",
    "- served to browser\n",
    "\n",
    "For any module, class, functions, attributes documentation is derived from the docstring `__doc__` attribute of the object and recursively of its documentable members.\n",
    "\n",
    "In case their is no docstring, `pydoc` tries to obtain description from the block of the comment lines just above the definition of the class, function or method source file or at the top of the module.\n",
    "\n",
    "The built-in function help() invokes the online help system in the interactive interpreter, which uses `pydoc` to generate its documentation as text on the console.\n",
    "\n",
    "To view a list of all possible options associated with `pydoc` and generate documentation use this command:\n",
    "``` \n",
    "python -m pydoc\n",
    "```"
   ]
  },
  {
   "cell_type": "code",
   "execution_count": 32,
   "metadata": {},
   "outputs": [
    {
     "data": {
      "text/plain": [
       "'Automatically created module for IPython interactive environment'"
      ]
     },
     "execution_count": 32,
     "metadata": {},
     "output_type": "execute_result"
    }
   ],
   "source": [
    "__doc__"
   ]
  },
  {
   "cell_type": "code",
   "execution_count": 34,
   "metadata": {},
   "outputs": [
    {
     "name": "stdout",
     "output_type": "stream",
     "text": [
      "pydoc - the Python documentation tool\n",
      "\n",
      "pydoc <name> ...\n",
      "    Show text documentation on something.  <name> may be the name of a\n",
      "    Python keyword, topic, function, module, or package, or a dotted\n",
      "    reference to a class or function within a module or module in a\n",
      "    package.  If <name> contains a '\\', it is used as the path to a\n",
      "    Python source file to document. If name is 'keywords', 'topics',\n",
      "    or 'modules', a listing of these things is displayed.\n",
      "\n",
      "pydoc -k <keyword>\n",
      "    Search for a keyword in the synopsis lines of all available modules.\n",
      "\n",
      "pydoc -n <hostname>\n",
      "    Start an HTTP server with the given hostname (default: localhost).\n",
      "\n",
      "pydoc -p <port>\n",
      "    Start an HTTP server on the given port on the local machine.  Port\n",
      "    number 0 can be used to get an arbitrary unused port.\n",
      "\n",
      "pydoc -b\n",
      "    Start an HTTP server on an arbitrary unused port and open a Web browser\n",
      "    to interactively browse documentation.  This option can be used in\n",
      "    combination with -n and/or -p.\n",
      "\n",
      "pydoc -w <name> ...\n",
      "    Write out the HTML documentation for a module to a file in the current\n",
      "    directory.  If <name> contains a '\\', it is treated as a filename; if\n",
      "    it names a directory, documentation is written for all the contents.\n",
      "\n"
     ]
    }
   ],
   "source": [
    "!python -m pydoc"
   ]
  },
  {
   "cell_type": "markdown",
   "metadata": {},
   "source": [
    "This will load all documentation of `module` in command prompt"
   ]
  },
  {
   "cell_type": "code",
   "execution_count": null,
   "metadata": {},
   "outputs": [],
   "source": [
    "!python -m pydoc numpy"
   ]
  },
  {
   "cell_type": "markdown",
   "metadata": {},
   "source": [
    "To generate documentation about custom documentation use\n",
    "```\n",
    "python -m pydoc -w my_module\n",
    "```"
   ]
  }
 ],
 "metadata": {
  "kernelspec": {
   "display_name": "base",
   "language": "python",
   "name": "python3"
  },
  "language_info": {
   "codemirror_mode": {
    "name": "ipython",
    "version": 3
   },
   "file_extension": ".py",
   "mimetype": "text/x-python",
   "name": "python",
   "nbconvert_exporter": "python",
   "pygments_lexer": "ipython3",
   "version": "3.9.12"
  },
  "orig_nbformat": 4
 },
 "nbformat": 4,
 "nbformat_minor": 2
}
