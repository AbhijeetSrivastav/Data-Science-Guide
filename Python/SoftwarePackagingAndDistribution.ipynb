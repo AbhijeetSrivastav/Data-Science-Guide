{
 "cells": [
  {
   "cell_type": "markdown",
   "metadata": {},
   "source": [
    "# Software Packaging And Distribution"
   ]
  },
  {
   "cell_type": "markdown",
   "metadata": {},
   "source": [
    "**Software packaging** \n",
    "It refers to the process of preparing software applications for installation, ensuring they include all necessary files, dependencies, and configurations. \n",
    "\n",
    "It involves creating a package that encapsulates the software, making it:\n",
    "- easy to distribute\n",
    "- install and\n",
    "- manage across various systems\n",
    "  \n",
    "This package could include:\n",
    "- executable files\n",
    "- libraries\n",
    "- documentation\n",
    "- and other resources required for the software to run.\n",
    "\n",
    "**Distribution** \n",
    "It involves making the packaged software available to users. This can be done through various channels such as:\n",
    "- direct downloads from a website\n",
    "- software repositories\n",
    "- app stores\n",
    "- physical media\n",
    "\n",
    "The goal is to provide a convenient and standardized way for users to obtain and install software on their computers or devices."
   ]
  },
  {
   "cell_type": "markdown",
   "metadata": {},
   "source": [
    "Python has following built-in libraries to help with packaging and distribution of python softwares:\n",
    "- `distutils` building and installing python modules\n",
    "- `venv` creation of virtual environments\n",
    "- `ensurepip` bootstrapping the pip installer\n",
    "- `zipapp` manage executable python zip archives\n",
    "\n",
    "**Note:**\n",
    "- `distutils`, `ensurepip`, `zipapp` these all libraries work aas utility libraries of Python Package Manager and are never recommended to be used separately and we hardly will ever need to use them directly in our code. So i am not creating notes about it.\n",
    "- `venv` is virtual environment manager of python and comes really handy when we work on multiple projects which require same libraries but with varying versions and even python interpreter version can vary, over that it makes easier to package the specific project with specific modules, libraries and files to make distributable. \n",
    "- And `venv` is good for general purpose python softwares.\n",
    "- But as a Data Scientist their is third party package manager by `anaconda` called `conda` which is recommended to use because of additional services it offers, so instead of writing note about `venv` i will make note about `conda`\n",
    "\n",
    "\n",
    "**References:**\n",
    "- [`distutils`](https://docs.python.org/3/library/distutils.html)\n",
    "- [`ensurepip`](https://docs.python.org/3/library/ensurepip.html)\n",
    "- [`zipapp`](https://docs.python.org/3/library/zipapp.html)\n",
    "- [`venv`](https://docs.python.org/3/library/venv.html)\n",
    "- [`conda`](https://anaconda.org/)\n",
    "\n",
    "I will make separate notebook for `conda` and one for procedure to create installable package and distribute package."
   ]
  }
 ],
 "metadata": {
  "kernelspec": {
   "display_name": "base",
   "language": "python",
   "name": "python3"
  },
  "language_info": {
   "name": "python",
   "version": "3.9.12"
  },
  "orig_nbformat": 4
 },
 "nbformat": 4,
 "nbformat_minor": 2
}
