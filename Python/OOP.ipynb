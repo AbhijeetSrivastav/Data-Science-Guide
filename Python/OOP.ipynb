{
 "cells": [
  {
   "cell_type": "markdown",
   "metadata": {},
   "source": [
    "# Object Oriented Programming"
   ]
  },
  {
   "cell_type": "markdown",
   "metadata": {},
   "source": [
    "Object Oriented Programming(OOP) is a programming language model organized around objects and data rather than actions and logic respectively.\n",
    "\n",
    "The main aim of OOP is to bind together the data and the functions that operate on them so that no other part of the code can access this data except that function.\n",
    "\n",
    "Their are four pillars of OOP:\n",
    "- Inheritance\n",
    "- Encapsulation\n",
    "- Data Abstraction\n",
    "- Polymorphism"
   ]
  },
  {
   "cell_type": "markdown",
   "metadata": {},
   "source": [
    "## 1. Concepts for OOP"
   ]
  },
  {
   "cell_type": "markdown",
   "metadata": {},
   "source": [
    "### 1.1. Classes"
   ]
  },
  {
   "cell_type": "markdown",
   "metadata": {},
   "source": [
    "- Classes provide means of bundling data and functionality together.\n",
    "- Creating a new class creates a new type of object, allowing new instances sof that type to be made.\n",
    "- Each class instance can have attributes attached to it for maintaining its state.\n",
    "- Class can also have methods(defined by its class) for modifying its state.\n",
    "\n",
    "In short, a class is a group of attributes and methods packaged together around properties and functionality of an object(instance).\n",
    "\n",
    "Every class in python is inherited from  a base `object` class and it is not always written syntactically.\n",
    "`class Alpha` is same as `class Alpha(object)`\n",
    "\n",
    "**Attributes** \n",
    "Properties of objects represented using variables are called attributes in class.\n",
    "\n",
    "**Methods**\n",
    "Functionalities of objects are represented using functions are called method in class.\n",
    "\n",
    "**Members**\n",
    "All the attributes/variable(including instance variables, class variables, etc) and all types of methods(class method, instance method, static method, etc) of class all together are called members of class.\n",
    "\n",
    "**Syntax of Class definition**\n",
    "```\n",
    "class Classname:\n",
    "    # constructor (a special kind of method)\n",
    "    def __init__(self, B):\n",
    "        self.attributeA = value\n",
    "        self.attributeB = B\n",
    "\n",
    "    def method_name(self, a):\n",
    "        p = value\n",
    "        pass\n",
    "```\n",
    "\n",
    "- `class` keyword used to create a class.\n",
    "- `__init__()` is constructor, a special method used to initialize the variables/attributes and need not to be called explicitly. It is called automatically when the object/instance of class is initiated.\n",
    "- `self` is a variable which refers to current class object/instance.\n",
    "- `B` is argument received by constructor\n",
    "- `a` is argument received by instance/object method `method_name()`\n",
    "- `p` is a local variable to `method_name()` method.\n",
    "\n",
    "\n",
    "**Rules to Name a class**\n",
    "- Class name can be any valid identifier.\n",
    "- It can't be reserved keyword.\n",
    "- A valid class name starts with a letter, followed by any number of letter, numbers or underscores.\n",
    "- Class name by convention must start with a capital letter."
   ]
  },
  {
   "cell_type": "code",
   "execution_count": null,
   "metadata": {},
   "outputs": [],
   "source": [
    "class Alpha:\n",
    "    def __init__(self, y):\n",
    "        self.x = 20\n",
    "        self.y = y\n",
    "\n",
    "    def beta(self):\n",
    "        pass\n",
    "\n",
    "    def gamma(self, a, b):\n",
    "        pass"
   ]
  },
  {
   "cell_type": "markdown",
   "metadata": {},
   "source": [
    "### 1.2. Objects"
   ]
  },
  {
   "cell_type": "markdown",
   "metadata": {},
   "source": [
    "Object is a class type variable or class instance. \n",
    "To use a class, we should create an object to the class.\n",
    "\n",
    "Instance creation represents allotting memory necessary to store the actual data fo the variables/attributes.\n",
    "\n",
    "Each time when we create an object of a class a copy of each variables/attributes defined in teh class is created or we can say that each object of a class has its own copy of data members defined in the class.\n",
    "\n",
    "\n",
    "**Class object initialization**\n",
    "```\n",
    "object_name = classname()\n",
    "\n",
    "or\n",
    "\n",
    "object_name = classname(args)\n",
    "```\n",
    "\n",
    "\n",
    "**Working of object initialization**\n",
    "- A block of memory is allocated on heap. The size of allocated memory is to be decided from attributes and methods available in the class `classname`.\n",
    "- After allocating memory block, the special method, i.e the constructor `__init__()` is called internally. This method stores the initial data into the variables.\n",
    "- The allocated memory location address of the instance is returned into object `object_name`.\n",
    "- The memory location is passed to `self`.\n",
    "- \n",
    "\n",
    "**Accessing class members using object**\n",
    "```\n",
    "object_name = classname()\n",
    "\n",
    "object_name.method_name(args)\n",
    "\n",
    "object_name.attributeA\n",
    "```"
   ]
  },
  {
   "cell_type": "markdown",
   "metadata": {},
   "source": [
    "### 1.3. Variables"
   ]
  },
  {
   "cell_type": "markdown",
   "metadata": {},
   "source": [
    "#### 1.3.1. Self Variable"
   ]
  },
  {
   "cell_type": "markdown",
   "metadata": {},
   "source": [
    "`self` is a default variable that contains the memory address of the current object. THis variable is used to refer all the instance variables and methods.\n",
    "\n",
    "When we create object of a class, the object name contains the memory location of the object.\n",
    "\n",
    "The memory location is internally passed to `self`, as `self` knows the memory address of the object so wew can access variable and method of the object.\n",
    "\n",
    "`self` if the first argument ot any object method because the first argument is always the object reference. This is automatic, whether you call it `self` or not."
   ]
  },
  {
   "cell_type": "markdown",
   "metadata": {},
   "source": [
    "#### 1.3.2. Instance Variables"
   ]
  },
  {
   "cell_type": "markdown",
   "metadata": {},
   "source": [
    "Instance variables/attributes whose separate copy is created in every object.\n",
    "\n",
    "If we modify the copy of instance variable in an instance/object, it will not affect their copies in the other instances/objects.\n",
    "\n",
    "These are defined and initialized using a constructor with `self` parameter.\n",
    "\n",
    "\n",
    "**Syntax of Instance Variables**\n",
    "```\n",
    "# within constructor\n",
    "\n",
    "self.attribute = value\n",
    "```"
   ]
  },
  {
   "cell_type": "code",
   "execution_count": null,
   "metadata": {},
   "outputs": [],
   "source": [
    "class Mobile:\n",
    "    def __init__(self, brand):\n",
    "        self.brand = brand\n",
    "\n",
    "    def showBrand(self):\n",
    "        print(self.brand)\n",
    "\n",
    "\n",
    "microsoft = Mobile(brand='microsoft')\n",
    "apple = Mobile(brand='apple')\n",
    "\n",
    "\n",
    "microsoft.showBrand()\n",
    "apple.showBrand()"
   ]
  },
  {
   "cell_type": "markdown",
   "metadata": {},
   "source": [
    "We can observe instance attribute/variable has different value for different instance, in this case for `microsfot` and `apple` instance."
   ]
  },
  {
   "cell_type": "markdown",
   "metadata": {},
   "source": [
    "#### 1.3.3. Class/Static Variables"
   ]
  },
  {
   "cell_type": "markdown",
   "metadata": {},
   "source": [
    "Class/Static variables are the variables whose single copy is available to all the instances of the class.\n",
    "\n",
    "If we modify the class variable in an instance, it will affect over all the instances.\n",
    "\n",
    "**Syntax of class variable**\n",
    "```\n",
    "class classname:\n",
    "    a = 'value'   # class variable\n",
    "\n",
    "    def __init__(self):\n",
    "        pass\n",
    "```\n",
    "\n",
    "**Accessing class variables**\n",
    "To access class variables within the class we need class methods with `cls` as first parameter then we can access class variable using `cls.variable_name`.\n",
    "\n",
    "```\n",
    "class classname:\n",
    "    a = 'value'\n",
    "\n",
    "    def __init__(self):\n",
    "        self.x = 'another value'\n",
    "    \n",
    "    def some_method(self):\n",
    "        pass\n",
    "    \n",
    "    @classmethod\n",
    "    def class_method_name(cls):\n",
    "        cls.a   # accessing the class variable within class method\n",
    "```\n",
    "\n",
    "To access the class variable outside the class we use `classname.variable_name` as usual.\n",
    "\n",
    "```\n",
    "class classname:\n",
    "    a = 'value'\n",
    "\n",
    "    def __init__(self):\n",
    "        self.x = 'another value'\n",
    "    \n",
    "    def some_method(self):\n",
    "        pass\n",
    "\n",
    "obj = classname()\n",
    "obj.a\n",
    "```"
   ]
  },
  {
   "cell_type": "code",
   "execution_count": null,
   "metadata": {},
   "outputs": [],
   "source": [
    "class Mobile:\n",
    "    available = True\n",
    "\n",
    "    def __init__(self, brand):\n",
    "        self.brand = brand\n",
    "\n",
    "    def showBrand(self):\n",
    "        print(self.brand)\n",
    "\n",
    "    @classmethod\n",
    "    def isAvailable(cls):\n",
    "        print(cls.available)\n",
    "\n",
    "microsoft = Mobile(brand='microsoft')\n",
    "microsoft.isAvailable()\n",
    "\n",
    "print(microsoft.available)"
   ]
  },
  {
   "cell_type": "markdown",
   "metadata": {},
   "source": [
    "#### 1.3.4. Private Variables"
   ]
  },
  {
   "cell_type": "markdown",
   "metadata": {},
   "source": [
    "- Private instance variables that can not be accessed except from inside an object don't exist in python.\n",
    "- We try to create an illusion of existence of private variables in python by a simple convention, that should be followed by everyone.\n",
    "- The convention is, any variable starting with `_` must be a private variable(non public part of API) and should not be accessed outside the object.\n",
    "- A class can have subclass and it may happen that a parent class and sub class each have a private variable with similar name, but problem is that as python has no exclusive concept of private variable, if we declare so called private variable using the convention `-` in both parent and child class it will create ambiguity and logic issues.\n",
    "- To avoid it we use another convention called name mangling which specify to use the private variable as `_classname__varname` or simply to specify the class to which this private variable belongs.\n",
    "- `__` can be used to specify a original method, variable from subclass or parent class respectively."
   ]
  },
  {
   "cell_type": "code",
   "execution_count": null,
   "metadata": {},
   "outputs": [],
   "source": [
    "class Alpha:\n",
    "    def __init__(self, z):\n",
    "        self.w = 20\n",
    "        self._x = 'Iron Man'\n",
    "        self.__duck = z     # private variable\n",
    "\n",
    "        def duck(self):\n",
    "            pass\n",
    "\n",
    "        __duck = duck  # private copy of original duck() method\n",
    "\n",
    "\n",
    "class Beta(Alpha):\n",
    "    _d = 10 \n",
    "\n",
    "    def duck(self):\n",
    "        # provides a new signature for duck()\n",
    "        # but does not break __init__()\n",
    "        pass"
   ]
  },
  {
   "cell_type": "markdown",
   "metadata": {},
   "source": [
    "The `local` assignment (which is default) didn’t change `scope_test` binding of spam. The `nonlocal` assignment changed `scope_test` binding of spam, and the `global` assignment changed the module-level binding."
   ]
  },
  {
   "cell_type": "markdown",
   "metadata": {},
   "source": [
    "### 1.4. Methods"
   ]
  },
  {
   "cell_type": "markdown",
   "metadata": {},
   "source": [
    "Functionalities of objects are represented using functions are called method in class.\n",
    "\n",
    "These are of following type:\n",
    "- Instance Methods\n",
    "  - Accessor Methods\n",
    "  - Mutator Methods\n",
    "- Class Methods\n",
    "- Static Methods"
   ]
  },
  {
   "cell_type": "markdown",
   "metadata": {},
   "source": [
    "#### 1.4.1. Instance Methods"
   ]
  },
  {
   "cell_type": "markdown",
   "metadata": {},
   "source": [
    "Instance methods are the methods which act upon the instance variables/attributes of the class.\n",
    "\n",
    "Instance method need to know the memory address of the instance which is provided through `self` variable by default as first parameter for the instance method.\n",
    "\n",
    "**Syntax of instance method**\n",
    "```\n",
    "class classname:\n",
    "    def __init__(self):\n",
    "        pass\n",
    "\n",
    "    # instance method\n",
    "    def some_method(self, args):\n",
    "        pass\n",
    "        \n",
    "```\n",
    "\n",
    "Instance method are of two type. These types are just conventions.\n",
    "Basically these methods type are determined on how we use the instance method and their is no particular API available to implement them."
   ]
  },
  {
   "cell_type": "markdown",
   "metadata": {},
   "source": [
    "##### 1.4.1.1. Accessor/Getter Method"
   ]
  },
  {
   "cell_type": "markdown",
   "metadata": {},
   "source": [
    "This method is used to access or read data of the variables. This method do not modify the data in the variable.\n",
    "\n",
    "These are defined like this `get_value()` by convention.\n",
    "\n",
    "These methods are defined just to fetch some values and we don't define anything else within them.\n",
    "\n",
    "```\n",
    "class classname:\n",
    "    def __init__(self, x):\n",
    "        self.x = x\n",
    "\n",
    "    def get_x(self):\n",
    "        return self.x\n",
    "\n",
    "obj = classname(x='value')\n",
    "obj.get_x()        \n",
    "```"
   ]
  },
  {
   "cell_type": "code",
   "execution_count": null,
   "metadata": {},
   "outputs": [],
   "source": [
    "class Mobile:\n",
    "    def __init__(self, brand):\n",
    "        self.brand = brand\n",
    "\n",
    "    def get_brand(self):\n",
    "        return self.brand\n",
    "\n",
    "microsoft = Mobile(brand='microsoft')\n",
    "microsoft.get_brand()"
   ]
  },
  {
   "cell_type": "markdown",
   "metadata": {},
   "source": [
    "##### 1.4.1.2. Mutator/Setter Method"
   ]
  },
  {
   "cell_type": "markdown",
   "metadata": {},
   "source": [
    "This method is used ot access or read and modify data of the variables. \n",
    "\n",
    "These are defined like `set_value()` by convention.\n",
    "\n",
    "These methods are defined to access and modify values.\n",
    "\n",
    "```\n",
    "class classname:\n",
    "    def __init__(self, x):\n",
    "        self.x = x\n",
    "\n",
    "    def set_value(self):\n",
    "        return self.x + 'value'\n",
    "\n",
    "obj = classname()\n",
    "obj.set_value()\n",
    "```"
   ]
  },
  {
   "cell_type": "code",
   "execution_count": null,
   "metadata": {},
   "outputs": [],
   "source": [
    "class Mobile:\n",
    "    def __init__(self, brand):\n",
    "        self.brand = brand\n",
    "\n",
    "    def set_brand(self, v):\n",
    "        return self.brand + v\n",
    "    \n",
    "microsoft = Mobile(brand='microsoft')\n",
    "microsoft.set_brand(v=' is the best')"
   ]
  },
  {
   "cell_type": "markdown",
   "metadata": {},
   "source": [
    "#### 1.4.2. Class Methods"
   ]
  },
  {
   "cell_type": "markdown",
   "metadata": {},
   "source": [
    "These methods are the methods which act upon the class/static variables of the class.\n",
    "\n",
    "These methods are decorated with `@classmethod` decorator.\n",
    "\n",
    "By default first argument of class method is `cls` which refers to the class itself.\n",
    "\n",
    "```\n",
    "class classname:\n",
    "    X = 'value'\n",
    "    def __init__(self):\n",
    "        pass\n",
    "\n",
    "    @classmethod\n",
    "    def some_method(cls, args):\n",
    "        return cls.X + args\n",
    "\n",
    "obj = classname()\n",
    "obj.some_method()\n",
    "```"
   ]
  },
  {
   "cell_type": "code",
   "execution_count": null,
   "metadata": {},
   "outputs": [],
   "source": [
    "class Mobile:\n",
    "    Available = True\n",
    "    RESTOCK = 0\n",
    "\n",
    "    def __init__(self, brand):\n",
    "        self.brand = brand\n",
    "    \n",
    "    @classmethod\n",
    "    def to_restock(cls, v):\n",
    "        cls.RESTOCK = v\n",
    "\n",
    "    @classmethod\n",
    "    def showAvailability(cls):\n",
    "        return cls.Available\n",
    "\n",
    "microsoft = Mobile(brand='microsoft')\n",
    "\n",
    "print(microsoft.RESTOCK)\n",
    "microsoft.to_restock(v=100)\n",
    "print(microsoft.RESTOCK)\n",
    "\n",
    "print(microsoft.showAvailability())"
   ]
  },
  {
   "cell_type": "markdown",
   "metadata": {},
   "source": [
    "#### 1.4.3. Static Methods"
   ]
  },
  {
   "cell_type": "markdown",
   "metadata": {},
   "source": [
    "Theses methods are sued when some processing is related to the class but does not need the class instance/object to perform any work.\n",
    "\n",
    "These methods are decorated with `@staticmethod` decorator.\n",
    "\n",
    "We use these methods when we want to pass some values from outside to perform some action in the method.\n",
    "\n",
    "\n",
    "```\n",
    "class classname:\n",
    "    def __init__(self):\n",
    "        pass\n",
    "\n",
    "    @staticmethod\n",
    "    def some_method(cls, args):\n",
    "        return args + 'value'\n",
    "\n",
    "obj = classname()\n",
    "obj.some_method()\n",
    "```"
   ]
  },
  {
   "cell_type": "code",
   "execution_count": null,
   "metadata": {},
   "outputs": [],
   "source": [
    "class Mobile:\n",
    "    def __init__(self, brand):\n",
    "        self.brand = brand\n",
    "    \n",
    "    @staticmethod\n",
    "    def show_model(m, p):\n",
    "        model = 'I am ' + m\n",
    "        price = 'My price is ' + str(p)\n",
    "        return (model, price)\n",
    "\n",
    "\n",
    "\n",
    "microsoft = Mobile(brand='microsoft')\n",
    "print(microsoft.show_model('microsoft', 200))"
   ]
  },
  {
   "cell_type": "markdown",
   "metadata": {},
   "source": [
    "#### 1.4.4 Abstract Method"
   ]
  },
  {
   "cell_type": "markdown",
   "metadata": {},
   "source": [
    "An abstract method is a method whose action is redefined in the child classes as per the requirement of the object.\n",
    "\n",
    "We can declare abstract method using `@abstractmethod` decorator present in `abc` module.\n",
    "\n",
    "Abstract methods can only be defined within abstract classes.\n",
    "\n",
    "```\n",
    "from abc import ABC, abstractmethod\n",
    "\n",
    "class Classname(ABC):\n",
    "    @abstractmethod\n",
    "    def method_name(self):\n",
    "        pass\n",
    "```"
   ]
  },
  {
   "cell_type": "code",
   "execution_count": 54,
   "metadata": {},
   "outputs": [],
   "source": [
    "from abc import ABC, abstractmethod\n",
    "\n",
    "class Father:\n",
    "    def __init__(self):\n",
    "        self.home = True\n",
    "\n",
    "    @abstractmethod\n",
    "    def showHome(self):\n",
    "        pass\n",
    "\n",
    "class Child(Father):\n",
    "    def __init__(self):\n",
    "        self.car = 'Tata'\n",
    "    \n",
    "    def showHome(self):\n",
    "        return True"
   ]
  },
  {
   "cell_type": "code",
   "execution_count": 55,
   "metadata": {},
   "outputs": [],
   "source": [
    "father = Father()\n",
    "son = Child()"
   ]
  },
  {
   "cell_type": "code",
   "execution_count": 59,
   "metadata": {},
   "outputs": [],
   "source": [
    "father.showHome()  # don't return anything as not defined here"
   ]
  },
  {
   "cell_type": "code",
   "execution_count": 58,
   "metadata": {},
   "outputs": [
    {
     "data": {
      "text/plain": [
       "True"
      ]
     },
     "execution_count": 58,
     "metadata": {},
     "output_type": "execute_result"
    }
   ],
   "source": [
    "son.showHome() # return something as defined here"
   ]
  },
  {
   "cell_type": "markdown",
   "metadata": {},
   "source": [
    "#### 1.4.5. Concrete Method"
   ]
  },
  {
   "cell_type": "markdown",
   "metadata": {},
   "source": [
    "A concrete method is a method whose action is defined in abstract class itself.\n",
    "\n",
    "```\n",
    "from abc import ABC, abstractmethod\n",
    "\n",
    "class Classname(ABC):\n",
    "    @abstractmethod\n",
    "    def method_name(self):\n",
    "        pass\n",
    "\n",
    "    # concrete method\n",
    "    def method_smthng(self):\n",
    "        # some code here to do something\n",
    "```"
   ]
  },
  {
   "cell_type": "markdown",
   "metadata": {},
   "source": [
    "### 1.5. Constructor"
   ]
  },
  {
   "cell_type": "markdown",
   "metadata": {},
   "source": [
    "Constructor is a special type of method for initializing the instance variables/attributes of a class.\n",
    "\n",
    "A class constructor, if defined is called whenever an object of that class is created.\n",
    "\n",
    "A constructor is called only once at a time of creation of instance.\n",
    "\n",
    "If two instances are created for a class, the constructor will be called once for each instance.\n",
    "\n",
    "**Syntax of constructor**\n",
    "```\n",
    "def __init__(self):\n",
    "    pass\n",
    "\n",
    "or \n",
    "\n",
    "def __init__(self, args):\n",
    "    pass\n",
    "```"
   ]
  },
  {
   "cell_type": "markdown",
   "metadata": {},
   "source": [
    "### 1.6. Passing member of one class to another class"
   ]
  },
  {
   "cell_type": "markdown",
   "metadata": {},
   "source": [
    "We can pass member of one class to another class as argument and access it there.\n",
    "\n",
    "```\n",
    "class classnameA:\n",
    "    def __init__(self, x):\n",
    "        self.x = x\n",
    "    \n",
    "    def some_method(self):\n",
    "        return self.x\n",
    "\n",
    "\n",
    "class classnameB:\n",
    "    def __init__(self, y):\n",
    "        self.y = y\n",
    "\n",
    "    @staticmethod\n",
    "    def some_method(s):\n",
    "        return s.x\n",
    "\n",
    "\n",
    "objA = classnameA(x='value')\n",
    "\n",
    "objB = classnamB()\n",
    "objB.some_method(objA)\n",
    "```"
   ]
  },
  {
   "cell_type": "code",
   "execution_count": null,
   "metadata": {},
   "outputs": [],
   "source": [
    "class Student:\n",
    "    def __init__(self, name, id):\n",
    "        self.name = name\n",
    "        self.id = id\n",
    "    \n",
    "    def show_student(self):\n",
    "        return (self.name, self.id)\n",
    "\n",
    "\n",
    "class User:\n",
    "    def _init__(self, post):\n",
    "        self.post = post\n",
    "    \n",
    "    @staticmethod\n",
    "    def show_user(x):\n",
    "        return (x.name, x.id)\n",
    "\n",
    "\n",
    "stud = Student(name='Ram', id='1')\n",
    "\n",
    "usr = User()\n",
    "usr.show_user(x=stud)"
   ]
  },
  {
   "cell_type": "markdown",
   "metadata": {},
   "source": [
    "### 1.7. Nested Class"
   ]
  },
  {
   "cell_type": "markdown",
   "metadata": {},
   "source": [
    "We can define one class within another class in nested way.\n",
    "\n",
    "We define the inner class within the outer class and its object/instance is created in constructor of outer class.\n",
    "\n",
    "These nested classes are used when some members of outer class are complex and have their own attributes and methods.\n",
    "\n",
    "\n",
    "In case of inheritance all the members are inherited for the subclass and its not same as nesting.\n",
    "\n",
    "\n",
    "\n",
    "```\n",
    "class OuterClassname:\n",
    "    def __init__(self, x):\n",
    "        self.x = x \n",
    "    \n",
    "        self.inner_Class_obj = self.InnerClassname(y = 'value')\n",
    "\n",
    "\n",
    "    def some_method(self):\n",
    "        pass\n",
    "\n",
    "    \n",
    "    classInnerClassname:\n",
    "        def __init(self, y):\n",
    "            self. y = y\n",
    "    \n",
    "        def method(self):\n",
    "            pass\n",
    "\n",
    "\n",
    "outer_class_obj = OuterClassname(x = 'value')\n",
    "```\n",
    "\n"
   ]
  },
  {
   "cell_type": "code",
   "execution_count": null,
   "metadata": {},
   "outputs": [],
   "source": [
    "class Military:\n",
    "    HQ = 'default'\n",
    "\n",
    "    def __init__(self, tanks, rocketProjector, towedArtillery, autoArtillery, amv, carriers, destroyers, frigates, subs, mineWarfare, patrol, fighters, attacks, multi_role, helios, bombers, drones):\n",
    "        \n",
    "        self.issued_rifle = 'AK47'\n",
    "        self.provision = '4'\n",
    "        \n",
    "        self.army = self.Army(tanks, rocketProjector, towedArtillery, autoArtillery, amv)\n",
    "        self.navy = self.Navy(carriers, destroyers, frigates, subs, mineWarfare, patrol)\n",
    "        self.airForce = self.AirForce(fighters, attacks, multi_role, helios, bombers, drones)\n",
    "\n",
    "\n",
    "    def showArsenal(self, division):\n",
    "        return division.strengthProjection()\n",
    "\n",
    "\n",
    "    class Army:\n",
    "        def __init__(self, tanks, rocketProjector, towedArtillery, autoArtillery, amv):\n",
    "            self.tanks = tanks\n",
    "            self.rocketProjector = rocketProjector\n",
    "            self.towedArtillery = towedArtillery\n",
    "            self.autoArtillery = autoArtillery\n",
    "            self.armoured_vehicle = amv\n",
    "        \n",
    "        def strengthProjection(self):\n",
    "            return {'Tanks': self.tanks,\n",
    "                    'Rocket Projectors': self.rocketProjector,\n",
    "                    'Towed Artillery': self.towedArtillery,\n",
    "                    'Auto Artillery': self.autoArtillery,\n",
    "                    'Armoured Vehicle': self.armoured_vehicle}\n",
    "\n",
    "    class Navy:\n",
    "        def __init__(self, carriers, destroyers, frigates, subs, mineWarfare, patrol):\n",
    "            self.carriers = carriers\n",
    "            self.destroyers = destroyers\n",
    "            self.frigates = frigates\n",
    "            self.submarines = subs\n",
    "            self.mine_warfare = mineWarfare\n",
    "            self.patrol = patrol\n",
    "        \n",
    "        def strengthProjection(self):\n",
    "            return {'Carriers': self.carriers,\n",
    "                    'Destroyers': self.destroyers,\n",
    "                    'Frigates': self.frigates,\n",
    "                    'Submarines': self.submarines,\n",
    "                    'Mine Warfare': self.mine_warfare,\n",
    "                    'Patrol': self.patrol}\n",
    "\n",
    "    class AirForce:\n",
    "        def __init__(self, fighters, attacks, multi_role, helios, bombers, drones):\n",
    "            self.fighters = fighters\n",
    "            self.attacks = attacks\n",
    "            self.multi_role = multi_role\n",
    "            self.helicopters = helios\n",
    "            self.bombers = bombers\n",
    "            self.drones = drones\n",
    "        \n",
    "        def strengthProjection(self):\n",
    "            return {'Fighters': self.fighters,\n",
    "                    'Attacks': self.attacks,\n",
    "                    'Multi Role': self.multi_role,\n",
    "                    'Helicopters': self.helicopters,\n",
    "                    'Bombers': self.bombers,\n",
    "                    'Drones': self.drones}"
   ]
  },
  {
   "cell_type": "code",
   "execution_count": null,
   "metadata": {},
   "outputs": [],
   "source": [
    "mil = Military(tanks= 5000,\n",
    "                rocketProjector=12000, \n",
    "                towedArtillery=6000, \n",
    "                autoArtillery=2000, \n",
    "                amv=20000, \n",
    "                carriers=2, \n",
    "                destroyers=20, \n",
    "                frigates=50, \n",
    "                subs=20, \n",
    "                mineWarfare=5, \n",
    "                patrol=200, \n",
    "                fighters=600,\n",
    "                attacks=1200, \n",
    "                multi_role=500, \n",
    "                helios=900, \n",
    "                bombers=2, \n",
    "                drones=1000)"
   ]
  },
  {
   "cell_type": "code",
   "execution_count": null,
   "metadata": {},
   "outputs": [],
   "source": [
    "mil.showArsenal(division=mil.army)\n",
    "mil.showArsenal(division=mil.navy)\n",
    "mil.showArsenal(division=mil.airForce)"
   ]
  },
  {
   "cell_type": "code",
   "execution_count": null,
   "metadata": {},
   "outputs": [],
   "source": [
    "mil.army.tanks"
   ]
  },
  {
   "cell_type": "code",
   "execution_count": null,
   "metadata": {},
   "outputs": [],
   "source": [
    "mil.navy.carriers"
   ]
  },
  {
   "cell_type": "code",
   "execution_count": null,
   "metadata": {},
   "outputs": [],
   "source": [
    "mil.HQ"
   ]
  },
  {
   "cell_type": "markdown",
   "metadata": {},
   "source": [
    "### 1.8. Namespace"
   ]
  },
  {
   "cell_type": "markdown",
   "metadata": {},
   "source": [
    "A namespace is mapping from name to objects.\n",
    "\n",
    "In python namespace represents a memory block where names are mapped to objects.\n",
    "\n",
    "More technically: Python namespace is a collection of names which holds as a mapping of every name, we have defined to corresponding objects.\n",
    "\n",
    "The namespace containing all the built-in names is created when we star the python interpreter and exists till we close interpreter.\n",
    "\n",
    "Modules can have various functions and classes. A local namespace is created when a function is called which has all the names defined in it and similarly with class.\n",
    "\n",
    "Namespace hierarchy look something like this:\n",
    "- Built-in Namespace\n",
    "  - Module: Global Namespace\n",
    "    - Functions/Class: Local Namespace\n",
    "      - Class Namespace\n",
    "      - Instance Namespace\n",
    "\n",
    "**Class Namespace** A class maintains its own namespace known as class namespace. In the class namespace, the names are mapped to class variables.\n",
    "\n",
    "**Instance Namespace** Every instance have its own namespace known as instance namespace. In this instance namespace, the names are mapped to instance variables.\n",
    "\n",
    "Due to these namespaces it is possible to change the instance variable in one of the instance without its value being affected in other instances of the class.\n",
    "\n",
    "And due to these namespaces it is possible to define a class variable and change in its value is changed all over the class.\n",
    "\n",
    "Different namespaces can co-exist at a given time but are completely isolated.\n",
    "\n"
   ]
  },
  {
   "cell_type": "code",
   "execution_count": null,
   "metadata": {},
   "outputs": [],
   "source": [
    "class Mobile:\n",
    "    available = True  # class variable (defined in class namespace)\n",
    "\n",
    "    def __init__(self, brand):\n",
    "        self.brand = brand  # instance variable (defined in instance namespace)\n",
    "\n",
    "    def showBrand(self):\n",
    "        print(self.brand)\n",
    "\n",
    "    @classmethod\n",
    "    def isAvailable(cls):\n",
    "        print(cls.available)\n",
    "\n",
    "microsoft = Mobile(brand='microsoft')\n",
    "apple = Mobile(brand='apple')\n",
    "\n",
    "print('Class available', Mobile.available)\n",
    "print('Microsoft available', microsoft.available)\n",
    "print('Apple available', apple.available)\n",
    "\n",
    "#######################################\n",
    "# if we change class variable --- then we can notice changes everywhere\n",
    "\n",
    "Mobile.available = False\n",
    "\n",
    "print('Class available', Mobile.available)\n",
    "print('Microsoft available', microsoft.available)\n",
    "print('Apple available', apple.available)\n"
   ]
  },
  {
   "cell_type": "markdown",
   "metadata": {},
   "source": [
    "### 1.9. Scopes"
   ]
  },
  {
   "cell_type": "markdown",
   "metadata": {},
   "source": [
    "A scope is a textual region of a python program where namespace is directly accessible  here means that an unqualified reference to a name attempts to find the name in the namespace.\n",
    "\n",
    "The `global` statement can be used to indicate that particular variables live in the global scope and should be rebound there , the `nonlocal` statement indicates that particular variables live in an enclosing scope and should be rebound there."
   ]
  },
  {
   "cell_type": "code",
   "execution_count": null,
   "metadata": {},
   "outputs": [],
   "source": [
    "def scope_test():\n",
    "    def do_local():\n",
    "        spam = \"local spam\"\n",
    "\n",
    "    def do_nonlocal():\n",
    "        nonlocal spam\n",
    "        spam = \"nonlocal spam\"\n",
    "\n",
    "    def do_global():\n",
    "        global spam\n",
    "        spam = \"global spam\"\n",
    "\n",
    "    spam = \"test spam\"\n",
    "    do_local()\n",
    "    print(\"After local assignment:\", spam)\n",
    "    do_nonlocal()\n",
    "    print(\"After nonlocal assignment:\", spam)\n",
    "    do_global()\n",
    "    print(\"After global assignment:\", spam)\n",
    "\n",
    "scope_test()\n",
    "print(\"In global scope:\", spam)"
   ]
  },
  {
   "cell_type": "markdown",
   "metadata": {},
   "source": [
    "### 1.10. Abstract Class"
   ]
  },
  {
   "cell_type": "markdown",
   "metadata": {},
   "source": [
    "A class derived from `abc.ABC` class is known as abstract class in Python.\n",
    "\n",
    "`ABC` class is known as meta class which means a class that defines the behavior of other classes. \n",
    "\n",
    "So any class that derives from meta class becomes an abstract class.\n",
    "\n",
    "Abstract class can have concrete and abstract methods.\n",
    "\n",
    "Abstract class needs to be extended and its method implemented.\n",
    "\n",
    "Python Virtual Machine can not create object of abstract class.\n",
    "\n",
    "```\n",
    "from abc import ABC, abstract method\n",
    "\n",
    "class classname(ABC):\n",
    "    @abstractmethod\n",
    "    def method_name(self):\n",
    "        pass\n",
    "```\n",
    "\n",
    "**When to use Abstract class:**\n",
    "- We use them when there is a feature that is commonly shared by all the objects but have different value.\n",
    "  \n",
    "\n",
    "**Rules:**\n",
    "- Python Virtual Machine(PVM) can't create abstract class objects.\n",
    "- It is not necessary to declare all methods abstract in a abstract class. Abstract class can have abstract and concrete methods both.\n",
    "- If there is any abstract method in  a class, that class must be an abstract class.\n",
    "- The abstract method of abstract class must be defined in its child class.\n",
    "- If we are inheriting any abstract class that have abstract method, we must either provide the implementation of the abstract method or make this derived class abstract too."
   ]
  },
  {
   "cell_type": "code",
   "execution_count": 71,
   "metadata": {},
   "outputs": [],
   "source": [
    "from abc import ABC, abstractmethod\n",
    "\n",
    "class Military(ABC):\n",
    "    # common feature with varying value for all child\n",
    "    @abstractmethod\n",
    "    def area(self):\n",
    "        pass\n",
    "    \n",
    "    # common feature with same value for all child\n",
    "    def gun(self):\n",
    "        return 'AK-47'\n",
    "\n",
    "class Army(Military):\n",
    "    def area(self):\n",
    "        return 'LAND'\n",
    "\n",
    "class Navy(Military):\n",
    "    def area(self):\n",
    "        return 'WATER'\n",
    "\n",
    "class AirForce(Military):\n",
    "    def area(self):\n",
    "        return 'AIR'"
   ]
  },
  {
   "cell_type": "code",
   "execution_count": 72,
   "metadata": {},
   "outputs": [],
   "source": [
    "ar = Army()\n",
    "na = Navy()\n",
    "ai = AirForce() "
   ]
  },
  {
   "cell_type": "code",
   "execution_count": 74,
   "metadata": {},
   "outputs": [
    {
     "data": {
      "text/plain": [
       "('LAND', 'WATER', 'AIR')"
      ]
     },
     "execution_count": 74,
     "metadata": {},
     "output_type": "execute_result"
    }
   ],
   "source": [
    "ar.area(), na.area(), ai.area()"
   ]
  },
  {
   "cell_type": "markdown",
   "metadata": {},
   "source": [
    "### 1.11. Interface"
   ]
  },
  {
   "cell_type": "markdown",
   "metadata": {},
   "source": [
    "In python concept of interface is not explicitly available as in Java.\n",
    "\n",
    "In python we imitate interface using abstract classes.\n",
    "\n",
    "This imitation is done by defining a abstract class with only abstract method only (no concrete methods).\n",
    "\n",
    "```\n",
    "from abc import ABC, abstractmethod\n",
    "\n",
    "class InterfaceClass(ABC):\n",
    "    def __init__(self):\n",
    "        pass\n",
    "\n",
    "    @abstractmethod\n",
    "    def some_method(self):\n",
    "        pass\n",
    "```\n",
    "\n",
    "**When to use Interface**\n",
    "- We use interface when all the features need to be implemented differently for different objects.\n",
    "\n",
    "**Rules:**\n",
    "- All methods of interface are abstract.\n",
    "- We can not create object of interface.\n",
    "- If a class is implementing an interface it has to define all the methods given in interface.\n",
    "- If a class does not implement all the methods declared in the interface, the derived/class must be declared abstract.\n",
    "\n",
    "\n",
    "**Abstract Class vs Interface**\n",
    "- An abstract class can have abstract and concrete methods both, but interface class cna only have abstract methods.\n",
    "- Abstract class is used when there are some common feature shared by all the objects as they are, while interface is used when all features need to be implemented differently for different objects.\n",
    "- Its our job to write child class for abstract class as programmer, while in interface its third party vendor who has to write the child class.\n",
    "\n",
    "**Abstract Class vs Inheritance**\n",
    "- Look inheritance is used when child inherits each and everything from super class as it is, if needed we can modify few of them for child accordingly.\n",
    "- But abstract class are used when some of the attributes and methods and over that we don't want to define these methods in the super class itself and also not want its object to be accessible.\n",
    "- Different between abstract and interface type class is mentioned above."
   ]
  },
  {
   "cell_type": "code",
   "execution_count": 81,
   "metadata": {},
   "outputs": [],
   "source": [
    "from abc import ABC, abstractmethod\n",
    "\n",
    "class Military(ABC):\n",
    "    @abstractmethod\n",
    "    def area(self):\n",
    "        pass\n",
    "    \n",
    "    @abstractmethod\n",
    "    def gun(self):\n",
    "        pass\n",
    "\n",
    "class Army(Military):\n",
    "    def area(self):\n",
    "        return 'LAND'\n",
    "\n",
    "    def gun(self):\n",
    "        return 'AK-47'\n",
    "\n",
    "class Navy(Military):\n",
    "    def area(self):\n",
    "        return 'WATER'\n",
    "    \n",
    "    def gun(self):\n",
    "        return 'CARBINE'\n",
    "\n",
    "class AirForce(Military):\n",
    "    def area(self):\n",
    "        return 'AIR'\n",
    "\n",
    "    def gun(self):\n",
    "        return 'M416'"
   ]
  },
  {
   "cell_type": "code",
   "execution_count": 82,
   "metadata": {},
   "outputs": [],
   "source": [
    "ar = Army()\n",
    "na = Navy()\n",
    "ai = AirForce() "
   ]
  },
  {
   "cell_type": "code",
   "execution_count": 83,
   "metadata": {},
   "outputs": [
    {
     "data": {
      "text/plain": [
       "('LAND', 'WATER', 'AIR')"
      ]
     },
     "execution_count": 83,
     "metadata": {},
     "output_type": "execute_result"
    }
   ],
   "source": [
    "ar.area(), na.area(), ai.area()"
   ]
  },
  {
   "cell_type": "code",
   "execution_count": 84,
   "metadata": {},
   "outputs": [
    {
     "data": {
      "text/plain": [
       "('AK-47', 'CARBINE', 'M416')"
      ]
     },
     "execution_count": 84,
     "metadata": {},
     "output_type": "execute_result"
    }
   ],
   "source": [
    "ar.gun(), na.gun(), ai.gun()"
   ]
  },
  {
   "cell_type": "markdown",
   "metadata": {},
   "source": [
    "### 1.12. Dataclass"
   ]
  },
  {
   "cell_type": "markdown",
   "metadata": {},
   "source": [
    "DataClass are present in `dataclass` module and are utility tool to make structured classes specially for storing data.\n",
    "\n",
    "These classes provide services(features, functions) to deal with data and its representation.\n",
    "\n",
    "DataClasses are implemented using `@dataclass` decorator.\n",
    "\n",
    "```\n",
    "from dataclasses import dataclass\n",
    "\n",
    "@dataclass\n",
    "class Alpha:\n",
    "    attribute: type = default_value\n",
    "```\n",
    "where `default_value` is optional.\n",
    "\n",
    "**Note:**\n",
    "- [DataClass Methods and Attributes](https://docs.python.org/3/library/dataclasses.html)\n"
   ]
  },
  {
   "cell_type": "code",
   "execution_count": 91,
   "metadata": {},
   "outputs": [],
   "source": [
    "# Regular class\n",
    "\n",
    "class Employee:\n",
    "    def __init__(self, name, salary, age, rank):\n",
    "        self.name = name\n",
    "        self.salary = salary\n",
    "        self.age = age\n",
    "        self.rank = rank\n",
    "    \n",
    "    def email(self):\n",
    "        return self.name + str(self.age) + '@abc.com'\n",
    "\n",
    "# Dataclass representation of above regular class\n",
    "\n",
    "from dataclasses import dataclass\n",
    "\n",
    "@dataclass\n",
    "class Employee:\n",
    "    name: str = 'xyz'\n",
    "    salary: float = 0\n",
    "    age: int = 0\n",
    "    rank: str = 'I'\n",
    "  \n",
    "    def email(self):\n",
    "        return self.name + str(self.age) + '@abc.com'"
   ]
  },
  {
   "cell_type": "code",
   "execution_count": 93,
   "metadata": {},
   "outputs": [],
   "source": [
    "# More flexible dataclass\n",
    "\n",
    "from typing import List\n",
    "\n",
    "@dataclass\n",
    "class PlayingCard:\n",
    "    rank: str\n",
    "    suit: str\n",
    "\n",
    "@dataclass\n",
    "class DeckOfCard:\n",
    "    cards: List[PlayingCard]"
   ]
  },
  {
   "cell_type": "code",
   "execution_count": 94,
   "metadata": {},
   "outputs": [],
   "source": [
    "# Using above class to add default values\n",
    "\n",
    "RANKS = '2 3 4 5 6 7 8 9 10 J Q K A'.split()\n",
    "SUITS = '♣ ♢ ♡ ♠'.split()\n",
    "\n",
    "def make_french_deck():\n",
    "    return [PlayingCard(r, s) for s in SUITS for r in RANKS]"
   ]
  },
  {
   "cell_type": "code",
   "execution_count": 98,
   "metadata": {},
   "outputs": [
    {
     "name": "stdout",
     "output_type": "stream",
     "text": [
      "[PlayingCard(rank='2', suit='♣'), PlayingCard(rank='3', suit='♣'), PlayingCard(rank='4', suit='♣'), PlayingCard(rank='5', suit='♣'), PlayingCard(rank='6', suit='♣'), PlayingCard(rank='7', suit='♣'), PlayingCard(rank='8', suit='♣'), PlayingCard(rank='9', suit='♣'), PlayingCard(rank='10', suit='♣'), PlayingCard(rank='J', suit='♣'), PlayingCard(rank='Q', suit='♣'), PlayingCard(rank='K', suit='♣'), PlayingCard(rank='A', suit='♣'), PlayingCard(rank='2', suit='♢'), PlayingCard(rank='3', suit='♢'), PlayingCard(rank='4', suit='♢'), PlayingCard(rank='5', suit='♢'), PlayingCard(rank='6', suit='♢'), PlayingCard(rank='7', suit='♢'), PlayingCard(rank='8', suit='♢'), PlayingCard(rank='9', suit='♢'), PlayingCard(rank='10', suit='♢'), PlayingCard(rank='J', suit='♢'), PlayingCard(rank='Q', suit='♢'), PlayingCard(rank='K', suit='♢'), PlayingCard(rank='A', suit='♢'), PlayingCard(rank='2', suit='♡'), PlayingCard(rank='3', suit='♡'), PlayingCard(rank='4', suit='♡'), PlayingCard(rank='5', suit='♡'), PlayingCard(rank='6', suit='♡'), PlayingCard(rank='7', suit='♡'), PlayingCard(rank='8', suit='♡'), PlayingCard(rank='9', suit='♡'), PlayingCard(rank='10', suit='♡'), PlayingCard(rank='J', suit='♡'), PlayingCard(rank='Q', suit='♡'), PlayingCard(rank='K', suit='♡'), PlayingCard(rank='A', suit='♡'), PlayingCard(rank='2', suit='♠'), PlayingCard(rank='3', suit='♠'), PlayingCard(rank='4', suit='♠'), PlayingCard(rank='5', suit='♠'), PlayingCard(rank='6', suit='♠'), PlayingCard(rank='7', suit='♠'), PlayingCard(rank='8', suit='♠'), PlayingCard(rank='9', suit='♠'), PlayingCard(rank='10', suit='♠'), PlayingCard(rank='J', suit='♠'), PlayingCard(rank='Q', suit='♠'), PlayingCard(rank='K', suit='♠'), PlayingCard(rank='A', suit='♠')]\n"
     ]
    }
   ],
   "source": [
    "print(make_french_deck())"
   ]
  },
  {
   "cell_type": "markdown",
   "metadata": {},
   "source": [
    "## 2. Inheritance"
   ]
  },
  {
   "cell_type": "markdown",
   "metadata": {},
   "source": [
    "Inheritance allows a class to inherit properties and behaviors from another class. It promotes code reusability and the creation of hierarchies of classes.\n",
    "\n",
    "- *Base and Derived Classes*: Inheritance allows you to create a new class (the derived or subclass) that inherits properties and methods from an existing class (the base or superclass). This promotes code reuse because you can extend and specialize existing classes without starting from scratch.\n",
    "  \n",
    "- *IS-A Relationship*: Inheritance models an \"is-a\" relationship, where a derived class is a specialized version of the base class. For example, a \"Car\" class can be a base class, and \"Sedan\" and \"SUV\" can be derived classes, inheriting common properties and methods from the \"Car\" class.\n",
    "\n",
    "- The new class which inherits is called Child/Sub/Derived class.\n",
    "- The existing class from which new class inherits is called Parent/Super/Base class.\n",
    "- All classes in python are built from a single super class called `object`, so whenever we create a class in python, by default it inherits from the `object` class. i.e `class classname` is same as `class classname(object)`.\n",
    "\n",
    "\n",
    "**Types of Inheritance**\n",
    "- Single Inheritance\n",
    "- Multi Level Inheritance\n",
    "- Hierarchical Inheritance\n",
    "- Multiple Inheritance"
   ]
  },
  {
   "cell_type": "markdown",
   "metadata": {},
   "source": [
    "### 2.1. Single Inheritance"
   ]
  },
  {
   "cell_type": "markdown",
   "metadata": {},
   "source": [
    "In single inheritance, derived class inherits from a single base class.\n",
    "\n",
    "```\n",
    "class Parent:\n",
    "    def __init__(self):\n",
    "        pass\n",
    "\n",
    "class Child(Parent):\n",
    "    pass\n",
    "```"
   ]
  },
  {
   "cell_type": "code",
   "execution_count": 20,
   "metadata": {},
   "outputs": [],
   "source": [
    "class Father:\n",
    "    BUSINESS = True\n",
    "\n",
    "    def __init__(self, money):\n",
    "        self.home = True\n",
    "        self.money = money\n",
    "\n",
    "    def showAsset(self):\n",
    "        return (self.home, self.money)\n",
    "    \n",
    "class Child(Father):\n",
    "    def addMoney(self):\n",
    "        return self.money + 1000"
   ]
  },
  {
   "cell_type": "code",
   "execution_count": 21,
   "metadata": {},
   "outputs": [],
   "source": [
    "father = Father(money=500)\n",
    "child = Child(money=1000)"
   ]
  },
  {
   "cell_type": "code",
   "execution_count": 30,
   "metadata": {},
   "outputs": [
    {
     "name": "stdout",
     "output_type": "stream",
     "text": [
      "True True 1000\n"
     ]
    }
   ],
   "source": [
    "print(child.BUSINESS, child.home, child.money)"
   ]
  },
  {
   "cell_type": "code",
   "execution_count": 31,
   "metadata": {},
   "outputs": [
    {
     "name": "stdout",
     "output_type": "stream",
     "text": [
      "True True 500\n"
     ]
    }
   ],
   "source": [
    "print(father.BUSINESS, father.home, father.money)"
   ]
  },
  {
   "cell_type": "code",
   "execution_count": 32,
   "metadata": {},
   "outputs": [
    {
     "data": {
      "text/plain": [
       "(True, 1000)"
      ]
     },
     "execution_count": 32,
     "metadata": {},
     "output_type": "execute_result"
    }
   ],
   "source": [
    "child.showAsset() # calling father method on child object"
   ]
  },
  {
   "cell_type": "code",
   "execution_count": 33,
   "metadata": {},
   "outputs": [
    {
     "data": {
      "text/plain": [
       "2000"
      ]
     },
     "execution_count": 33,
     "metadata": {},
     "output_type": "execute_result"
    }
   ],
   "source": [
    "child.addMoney() # child method"
   ]
  },
  {
   "cell_type": "markdown",
   "metadata": {},
   "source": [
    "**Constructor Overloading**\n",
    "- By default, the constructor of the parent is available to the child class.\n",
    "- If we write a constructor in child class also, then parent class constructor is not available to the child class and its own constructor is only accessible. It is overloaded by the child class constructor.\n",
    "- Constructor overloading is used when we want to modify the existing behavior of the constructor.\n",
    "\n",
    "```\n",
    "class Parent:\n",
    "    def __init__(self):\n",
    "        pass\n",
    "\n",
    "class Child(Parent):\n",
    "    def __init__(self):\n",
    "        pass\n",
    "```"
   ]
  },
  {
   "cell_type": "code",
   "execution_count": 44,
   "metadata": {},
   "outputs": [],
   "source": [
    "class Father:\n",
    "    BUSINESS = True\n",
    "\n",
    "    def __init__(self, money):\n",
    "        self.home = True\n",
    "        self.money = money\n",
    "\n",
    "    def showAsset(self):\n",
    "        print('yo yo')\n",
    "    \n",
    "class Child(Father):\n",
    "    def __init__(self, car):\n",
    "        self.millionaire = True\n",
    "        self.car = car\n",
    "    \n",
    "    def addMoney(self):\n",
    "        return self.money + 1000"
   ]
  },
  {
   "cell_type": "code",
   "execution_count": 47,
   "metadata": {},
   "outputs": [],
   "source": [
    "father = Father(money=500)\n",
    "child = Child(car='Audi')"
   ]
  },
  {
   "cell_type": "code",
   "execution_count": 48,
   "metadata": {},
   "outputs": [
    {
     "data": {
      "text/plain": [
       "True"
      ]
     },
     "execution_count": 48,
     "metadata": {},
     "output_type": "execute_result"
    }
   ],
   "source": [
    "child.BUSINESS # Class attribute available even in constructor overloading (which is obvious)"
   ]
  },
  {
   "cell_type": "code",
   "execution_count": 49,
   "metadata": {},
   "outputs": [
    {
     "ename": "AttributeError",
     "evalue": "'Child' object has no attribute 'home'",
     "output_type": "error",
     "traceback": [
      "\u001b[1;31m---------------------------------------------------------------------------\u001b[0m",
      "\u001b[1;31mAttributeError\u001b[0m                            Traceback (most recent call last)",
      "Cell \u001b[1;32mIn[49], line 1\u001b[0m\n\u001b[1;32m----> 1\u001b[0m child\u001b[39m.\u001b[39;49mhome\n",
      "\u001b[1;31mAttributeError\u001b[0m: 'Child' object has no attribute 'home'"
     ]
    }
   ],
   "source": [
    "child.home # parent instance attributes not available as they are defined in constructor"
   ]
  },
  {
   "cell_type": "code",
   "execution_count": 50,
   "metadata": {},
   "outputs": [
    {
     "ename": "AttributeError",
     "evalue": "'Child' object has no attribute 'money'",
     "output_type": "error",
     "traceback": [
      "\u001b[1;31m---------------------------------------------------------------------------\u001b[0m",
      "\u001b[1;31mAttributeError\u001b[0m                            Traceback (most recent call last)",
      "Cell \u001b[1;32mIn[50], line 1\u001b[0m\n\u001b[1;32m----> 1\u001b[0m child\u001b[39m.\u001b[39;49maddMoney()\n",
      "Cell \u001b[1;32mIn[44], line 17\u001b[0m, in \u001b[0;36mChild.addMoney\u001b[1;34m(self)\u001b[0m\n\u001b[0;32m     16\u001b[0m \u001b[39mdef\u001b[39;00m \u001b[39maddMoney\u001b[39m(\u001b[39mself\u001b[39m):\n\u001b[1;32m---> 17\u001b[0m     \u001b[39mreturn\u001b[39;00m \u001b[39mself\u001b[39;49m\u001b[39m.\u001b[39;49mmoney \u001b[39m+\u001b[39m \u001b[39m1000\u001b[39m\n",
      "\u001b[1;31mAttributeError\u001b[0m: 'Child' object has no attribute 'money'"
     ]
    }
   ],
   "source": [
    "child.addMoney() # as instance attribute not available show child method not working"
   ]
  },
  {
   "cell_type": "code",
   "execution_count": 51,
   "metadata": {},
   "outputs": [
    {
     "name": "stdout",
     "output_type": "stream",
     "text": [
      "yo yo\n"
     ]
    }
   ],
   "source": [
    "child.showAsset() # instance method of parent available until it has no instance attribute used within it"
   ]
  },
  {
   "cell_type": "code",
   "execution_count": 41,
   "metadata": {},
   "outputs": [
    {
     "data": {
      "text/plain": [
       "'Audi'"
      ]
     },
     "execution_count": 41,
     "metadata": {},
     "output_type": "execute_result"
    }
   ],
   "source": [
    "child.car"
   ]
  },
  {
   "cell_type": "markdown",
   "metadata": {},
   "source": [
    "**Constructor with Super**\n",
    "- When constructor overloading happens, we cam use `super()` method to call the parent class constructor or methods from the child class and even pass arguments from child to parent class constructor and methods.\n",
    "- Arguments are passed from child constructor to super method and then to constructor of parent class."
   ]
  },
  {
   "cell_type": "code",
   "execution_count": 65,
   "metadata": {},
   "outputs": [],
   "source": [
    "class Father:\n",
    "    BUSINESS = True\n",
    "\n",
    "    def __init__(self, money):\n",
    "        self.home = True\n",
    "        self.money = money\n",
    "\n",
    "    def showAsset(self):\n",
    "        print('yo yo')\n",
    "    \n",
    "class Child(Father):\n",
    "    def __init__(self, money, car):\n",
    "        super().__init__(money)\n",
    "        self.millionaire = True\n",
    "        self.car = car\n",
    "    \n",
    "    def addMoney(self):\n",
    "        return self.money + 1000"
   ]
  },
  {
   "cell_type": "code",
   "execution_count": 66,
   "metadata": {},
   "outputs": [],
   "source": [
    "father = Father(money=500)\n",
    "child = Child(money=1000,car='Audi')"
   ]
  },
  {
   "cell_type": "code",
   "execution_count": 67,
   "metadata": {},
   "outputs": [
    {
     "data": {
      "text/plain": [
       "True"
      ]
     },
     "execution_count": 67,
     "metadata": {},
     "output_type": "execute_result"
    }
   ],
   "source": [
    "child.BUSINESS"
   ]
  },
  {
   "cell_type": "code",
   "execution_count": 68,
   "metadata": {},
   "outputs": [
    {
     "data": {
      "text/plain": [
       "True"
      ]
     },
     "execution_count": 68,
     "metadata": {},
     "output_type": "execute_result"
    }
   ],
   "source": [
    "child.home"
   ]
  },
  {
   "cell_type": "code",
   "execution_count": 69,
   "metadata": {},
   "outputs": [
    {
     "data": {
      "text/plain": [
       "'Audi'"
      ]
     },
     "execution_count": 69,
     "metadata": {},
     "output_type": "execute_result"
    }
   ],
   "source": [
    "child.car"
   ]
  },
  {
   "cell_type": "code",
   "execution_count": 70,
   "metadata": {},
   "outputs": [
    {
     "name": "stdout",
     "output_type": "stream",
     "text": [
      "yo yo\n"
     ]
    }
   ],
   "source": [
    "child.showAsset()"
   ]
  },
  {
   "cell_type": "markdown",
   "metadata": {},
   "source": []
  },
  {
   "cell_type": "markdown",
   "metadata": {},
   "source": [
    "### 2.2. Multi Level Inheritance"
   ]
  },
  {
   "cell_type": "markdown",
   "metadata": {},
   "source": [
    "In this type of inheritance, the class inherits members from another derived class.\n",
    "\n",
    "```\n",
    "class Father:\n",
    "    def __init__(self):\n",
    "        pass\n",
    "    \n",
    "class Child(Father):\n",
    "    # may or may not have constructor,\n",
    "    # depends on use case (super, overloading concept entertained as mentioned above)\n",
    "\n",
    "    pass\n",
    "\n",
    "class GrandChild(Child):\n",
    "    # may or may not have constructor, \n",
    "    # depends on use case (super, overloading concept entertained as mentioned above)\n",
    "\n",
    "    pass\n",
    "```"
   ]
  },
  {
   "cell_type": "code",
   "execution_count": 83,
   "metadata": {},
   "outputs": [],
   "source": [
    "class Father:\n",
    "    BUSINESS = True\n",
    "\n",
    "    def __init__(self, money):\n",
    "        self.home = True\n",
    "        self.money = money\n",
    "\n",
    "    def showAsset(self):\n",
    "        print('yo yo')\n",
    "    \n",
    "class Child(Father):\n",
    "    def __init__(self, money, car, jet):\n",
    "        super().__init__(money)\n",
    "        self.jet = False\n",
    "        self.millionaire = True\n",
    "        self.car = car\n",
    "    \n",
    "    def addMoney(self):\n",
    "        return self.money + 1000\n",
    "\n",
    "class GrandChild(Child):\n",
    "    def __init__(self, money, car, jet):\n",
    "        super().__init__(money, car, jet)\n",
    "        self.billionaire = True\n",
    "        self.jet = jet\n",
    "\n",
    "    def isRich(self):\n",
    "        return 'Super Rich'"
   ]
  },
  {
   "cell_type": "code",
   "execution_count": 84,
   "metadata": {},
   "outputs": [],
   "source": [
    "father = Father(money=500)\n",
    "child = Child(money=1000,car='Audi', jet=False)\n",
    "gChild = GrandChild(money=2000, car='Lambo', jet=True)"
   ]
  },
  {
   "cell_type": "code",
   "execution_count": 85,
   "metadata": {},
   "outputs": [
    {
     "name": "stdout",
     "output_type": "stream",
     "text": [
      "500 1000 2000\n"
     ]
    }
   ],
   "source": [
    "print(father.money, child.money, gChild.money)"
   ]
  },
  {
   "cell_type": "code",
   "execution_count": 86,
   "metadata": {},
   "outputs": [
    {
     "name": "stdout",
     "output_type": "stream",
     "text": [
      "False True\n"
     ]
    }
   ],
   "source": [
    "print(child.jet, gChild.jet)"
   ]
  },
  {
   "cell_type": "code",
   "execution_count": 87,
   "metadata": {},
   "outputs": [
    {
     "name": "stdout",
     "output_type": "stream",
     "text": [
      "yo yo\n"
     ]
    }
   ],
   "source": [
    "gChild.showAsset()"
   ]
  },
  {
   "cell_type": "code",
   "execution_count": 88,
   "metadata": {},
   "outputs": [
    {
     "data": {
      "text/plain": [
       "3000"
      ]
     },
     "execution_count": 88,
     "metadata": {},
     "output_type": "execute_result"
    }
   ],
   "source": [
    "gChild.addMoney()"
   ]
  },
  {
   "cell_type": "markdown",
   "metadata": {},
   "source": [
    "### 2.3. Hierarchical Inheritance"
   ]
  },
  {
   "cell_type": "markdown",
   "metadata": {},
   "source": [
    "In this type of inheritance multiple classes derive from a base class.\n",
    "\n",
    "These derived classes are sibling classes and they inherit members of base class only and have no inheritance from each other, i.e one sibling can't access members of other sibling.\n",
    "\n",
    "```\n",
    "class Father:\n",
    "    def __init__(self):\n",
    "        pass\n",
    "    \n",
    "class Child(Father):\n",
    "    # may or may not have constructor,\n",
    "    # depends on use case (super, overloading concept entertained as mentioned above)\n",
    "\n",
    "    pass\n",
    "\n",
    "class Daughter(Father):\n",
    "    # may or may not have constructor, \n",
    "    # depends on use case (super, overloading concept entertained as mentioned above)\n",
    "\n",
    "    pass\n",
    "```"
   ]
  },
  {
   "cell_type": "code",
   "execution_count": 90,
   "metadata": {},
   "outputs": [],
   "source": [
    "class Father:\n",
    "    BUSINESS = True\n",
    "\n",
    "    def __init__(self, money):\n",
    "        self.home = True\n",
    "        self.money = money\n",
    "\n",
    "    def showAsset(self):\n",
    "        return (self.home, self.money)\n",
    "    \n",
    "class Son(Father):\n",
    "    def __init__(self, money, job):\n",
    "        super().__init__(money)\n",
    "        self.wife = True\n",
    "        self.job = job\n",
    "\n",
    "    def addMoney(self):\n",
    "        return self.money + 1000\n",
    "\n",
    "class Daughter(Father):\n",
    "    def __init__(self, money, job):\n",
    "        # daughter is not accessing the attributes of father (home, money)\n",
    "        # daughter accessing Business of Father\n",
    "\n",
    "        self.money = money\n",
    "        self.husband = True\n",
    "        self.job = job\n",
    "\n",
    "    def addMoney(self):\n",
    "        return self.money + 3000"
   ]
  },
  {
   "cell_type": "code",
   "execution_count": 91,
   "metadata": {},
   "outputs": [],
   "source": [
    "father = Father(money=500)\n",
    "son = Son(money=1000, job='Doctor')\n",
    "daughter = Daughter(money=1000, job='Engineer')"
   ]
  },
  {
   "cell_type": "code",
   "execution_count": 92,
   "metadata": {},
   "outputs": [
    {
     "name": "stdout",
     "output_type": "stream",
     "text": [
      "500 1000 1000\n"
     ]
    }
   ],
   "source": [
    "print(father.money, son.money, daughter.money)"
   ]
  },
  {
   "cell_type": "code",
   "execution_count": 95,
   "metadata": {},
   "outputs": [
    {
     "data": {
      "text/plain": [
       "True"
      ]
     },
     "execution_count": 95,
     "metadata": {},
     "output_type": "execute_result"
    }
   ],
   "source": [
    "son.home"
   ]
  },
  {
   "cell_type": "code",
   "execution_count": 96,
   "metadata": {},
   "outputs": [
    {
     "ename": "AttributeError",
     "evalue": "'Daughter' object has no attribute 'home'",
     "output_type": "error",
     "traceback": [
      "\u001b[1;31m---------------------------------------------------------------------------\u001b[0m",
      "\u001b[1;31mAttributeError\u001b[0m                            Traceback (most recent call last)",
      "Cell \u001b[1;32mIn[96], line 1\u001b[0m\n\u001b[1;32m----> 1\u001b[0m daughter\u001b[39m.\u001b[39;49mhome\n",
      "\u001b[1;31mAttributeError\u001b[0m: 'Daughter' object has no attribute 'home'"
     ]
    }
   ],
   "source": [
    "daughter.home # as daughter don't overload the father constructor"
   ]
  },
  {
   "cell_type": "code",
   "execution_count": 97,
   "metadata": {},
   "outputs": [
    {
     "data": {
      "text/plain": [
       "2000"
      ]
     },
     "execution_count": 97,
     "metadata": {},
     "output_type": "execute_result"
    }
   ],
   "source": [
    "son.addMoney()"
   ]
  },
  {
   "cell_type": "code",
   "execution_count": 98,
   "metadata": {},
   "outputs": [
    {
     "data": {
      "text/plain": [
       "4000"
      ]
     },
     "execution_count": 98,
     "metadata": {},
     "output_type": "execute_result"
    }
   ],
   "source": [
    "daughter.addMoney()"
   ]
  },
  {
   "cell_type": "code",
   "execution_count": 99,
   "metadata": {},
   "outputs": [
    {
     "name": "stdout",
     "output_type": "stream",
     "text": [
      "True True True\n"
     ]
    }
   ],
   "source": [
    "print(father.BUSINESS, son.BUSINESS, daughter.BUSINESS)"
   ]
  },
  {
   "cell_type": "markdown",
   "metadata": {},
   "source": [
    "### 2.4. Multiple Inheritance"
   ]
  },
  {
   "cell_type": "markdown",
   "metadata": {},
   "source": [
    "In this type of inheritance derived class has more than one parent.\n",
    "\n",
    "\n",
    "```\n",
    "class Father:\n",
    "    def __init__(self):\n",
    "        pass\n",
    "    \n",
    "class Mother:\n",
    "    def __init__(self):\n",
    "    pass\n",
    "\n",
    "class Child(Father, Mother):\n",
    "    # may or may not have constructor, \n",
    "    # depends on use case (super, overloading concept entertained as mentioned above)\n",
    "\n",
    "    pass\n",
    "```\n",
    "\n",
    "**Method Resolution Order(MRO)**\n",
    "- In multiple inheritance scenario members of class are searched firs in the current class, If not found then search continues into parent classes in depth-first, left to right manner without searching the same class twice.\n",
    "    - Search the child class before going to its parent classes.\n",
    "    - If not in child class search parent classes:\n",
    "      - First the left class, if found end search here, else \n",
    "      - Search the right class\n",
    "- It will not visit any class more than once.\n",
    "\n",
    "\n",
    "*Procedure of MRO for below Example*\n",
    "- The search will start from child class. As the object of child is created, the constructor of child is called.\n",
    "- Child has `super()`  method in its constructor so its parent class, the one in left side Father constructor is called.\n",
    "- Father has `super()` method in its constructor so its parent `object` class constructor is called.\n",
    "- `object` class don't have any constructor so the search will continue down to right hand side to Mother sub class of `object` class and Mother class constructor is called.\n",
    "- Mother has `super()` method in its constructor so its parent `object` class constructor should be called, but as it has been already been visited the search will stop.\n",
    "\n",
    "*Structure in hierarchial order*\n",
    "- `Object` class\n",
    "  - `Father`, `Mother` class\n",
    "    - `Son` class"
   ]
  },
  {
   "cell_type": "code",
   "execution_count": 108,
   "metadata": {},
   "outputs": [],
   "source": [
    "class Father:\n",
    "    def __init(self):\n",
    "        super().__init()\n",
    "        print('Father Constructor')\n",
    "    \n",
    "    def showF(self):\n",
    "        print('Father method')\n",
    "\n",
    "class Mother:\n",
    "    def __init(self):\n",
    "        super().__init()\n",
    "        print('Mother Constructor')\n",
    "    \n",
    "    def showM(self):\n",
    "        print('Mother method')\n",
    "\n",
    "class Son(Father, Mother):\n",
    "    def __init(self):\n",
    "        super().__init()\n",
    "        print('Son Constructor')\n",
    "    \n",
    "    def showS(self):\n",
    "        print('Son method')"
   ]
  },
  {
   "cell_type": "code",
   "execution_count": 110,
   "metadata": {},
   "outputs": [],
   "source": [
    "son = Son()"
   ]
  },
  {
   "cell_type": "markdown",
   "metadata": {},
   "source": [
    "## 3. Polymorphism"
   ]
  },
  {
   "cell_type": "markdown",
   "metadata": {},
   "source": [
    "Polymorphism means \"many forms.\" It enables objects of different classes to be treated as objects of a common superclass. This facilitates code flexibility and the ability to write more generic code.\n",
    "\n",
    "If a attribute, object or method perform different behavior according to situation is called polymorphism.\n",
    "\n",
    "Polymorphism is achieved by following techniques:\n",
    "- Duck Typing\n",
    "- Method Overloading\n",
    "- Method Overriding\n",
    "\n",
    "**Note:** Their is no actual polymorphism in python like java, we just try to imitate it using the above mentioned techniques."
   ]
  },
  {
   "cell_type": "markdown",
   "metadata": {},
   "source": [
    "### 3.1. Duck Typing"
   ]
  },
  {
   "cell_type": "markdown",
   "metadata": {},
   "source": [
    "The idea is - \"If it walks like a duck and talks like a duck, then it must be a duck\", which means python doesn't care about which class of object is, if it is an object and required behavior is present for that object then it will work. This is called duck typing.\n",
    "\n",
    "Python doesn't care about which class of object it is, in order to call an existing method on an object. If method is defined on the object, then it will be called.\n",
    "\n",
    "The type of object is distinguished only at runtime."
   ]
  },
  {
   "cell_type": "code",
   "execution_count": 7,
   "metadata": {},
   "outputs": [],
   "source": [
    "class Duck:\n",
    "    def __init__(self):\n",
    "        self.color = 'white'\n",
    "\n",
    "    def walk(self):\n",
    "        print('thap thap')\n",
    "\n",
    "class Horse:\n",
    "    def __init__(self):\n",
    "        self.color = 'brown'\n",
    "        \n",
    "    def walk(self):\n",
    "        print('tabdak tabdak')     "
   ]
  },
  {
   "cell_type": "code",
   "execution_count": 8,
   "metadata": {},
   "outputs": [],
   "source": [
    "d = Duck()\n",
    "h = Horse()"
   ]
  },
  {
   "cell_type": "code",
   "execution_count": 12,
   "metadata": {},
   "outputs": [],
   "source": [
    "def iAm(obj):   # attribute is accessed without checking object type if exist\n",
    "    print(obj.color)"
   ]
  },
  {
   "cell_type": "code",
   "execution_count": 13,
   "metadata": {},
   "outputs": [],
   "source": [
    "def func(obj):  # call method without checking object type if exist\n",
    "    obj.walk()"
   ]
  },
  {
   "cell_type": "code",
   "execution_count": 14,
   "metadata": {},
   "outputs": [
    {
     "name": "stdout",
     "output_type": "stream",
     "text": [
      "thap thap\n"
     ]
    }
   ],
   "source": [
    "func(d)"
   ]
  },
  {
   "cell_type": "code",
   "execution_count": 140,
   "metadata": {},
   "outputs": [
    {
     "name": "stdout",
     "output_type": "stream",
     "text": [
      "tabdak tabdak\n"
     ]
    }
   ],
   "source": [
    "func(h)"
   ]
  },
  {
   "cell_type": "code",
   "execution_count": 15,
   "metadata": {},
   "outputs": [
    {
     "name": "stdout",
     "output_type": "stream",
     "text": [
      "white\n"
     ]
    }
   ],
   "source": [
    "iAm(d)"
   ]
  },
  {
   "cell_type": "code",
   "execution_count": 16,
   "metadata": {},
   "outputs": [
    {
     "name": "stdout",
     "output_type": "stream",
     "text": [
      "brown\n"
     ]
    }
   ],
   "source": [
    "iAm(h)"
   ]
  },
  {
   "cell_type": "markdown",
   "metadata": {},
   "source": [
    "We can observe that function `func` doesn't care which object is being passed to it, if the attribute or method for that object is available it is called."
   ]
  },
  {
   "cell_type": "markdown",
   "metadata": {},
   "source": [
    "### 3.2. Strong Typing"
   ]
  },
  {
   "cell_type": "markdown",
   "metadata": {},
   "source": [
    "We can check whether the object is passed to the method has the method being invoked or not.\n",
    "\n",
    "`hasattr()` function is used to check whether the object has method or not. It returns True if it exist else, False.\n",
    "\n",
    "```\n",
    "hasattr(object, attribute or method)\n",
    "```\n",
    "\n",
    "**Note:**  \n",
    "- Sometime it is important to use Strong typing to avoid any issue with sensitive code.\n",
    "- Its not way to providing polymorphic capability, its rather way around it."
   ]
  },
  {
   "cell_type": "code",
   "execution_count": 17,
   "metadata": {},
   "outputs": [
    {
     "data": {
      "text/plain": [
       "True"
      ]
     },
     "execution_count": 17,
     "metadata": {},
     "output_type": "execute_result"
    }
   ],
   "source": [
    "hasattr(d, 'walk')"
   ]
  },
  {
   "cell_type": "code",
   "execution_count": 18,
   "metadata": {},
   "outputs": [
    {
     "data": {
      "text/plain": [
       "True"
      ]
     },
     "execution_count": 18,
     "metadata": {},
     "output_type": "execute_result"
    }
   ],
   "source": [
    "hasattr(h, 'color')"
   ]
  },
  {
   "cell_type": "markdown",
   "metadata": {},
   "source": [
    "We can modify our functions for checking type as following."
   ]
  },
  {
   "cell_type": "code",
   "execution_count": 19,
   "metadata": {},
   "outputs": [],
   "source": [
    "def func(obj):  \n",
    "    if hasattr(obj, 'walk'):\n",
    "        obj.walk()"
   ]
  },
  {
   "cell_type": "markdown",
   "metadata": {},
   "source": [
    "### 3.3. Method Overloading"
   ]
  },
  {
   "cell_type": "markdown",
   "metadata": {},
   "source": [
    "Polymorphism allows multiple methods with the same name to exist in a class, differing in their parameters. This is called method overloading. The appropriate method is called based on the number or type of arguments provided, enabling flexibility.\n",
    "\n",
    "OR\n",
    "\n",
    "When more than ne method with the same name is defined in the same class, is known as method overloading. Thi method is written such that it can perform more than one task.\n",
    "\n",
    "Two or more methods have the same name but different numbers of parameters or different types of parameters, or both. "
   ]
  },
  {
   "cell_type": "markdown",
   "metadata": {},
   "source": [
    "This method is not example of method overloading as if we change the parameters or simply don't provide the parameters it will fail."
   ]
  },
  {
   "cell_type": "code",
   "execution_count": 36,
   "metadata": {},
   "outputs": [],
   "source": [
    "class Alpha:\n",
    "\n",
    "    def addUp(self, a=None, b=None, c=None):\n",
    "        s = a + b + c\n",
    "        return s\n",
    "\n",
    "obj = Alpha()"
   ]
  },
  {
   "cell_type": "code",
   "execution_count": 37,
   "metadata": {},
   "outputs": [
    {
     "name": "stdout",
     "output_type": "stream",
     "text": [
      "60\n"
     ]
    }
   ],
   "source": [
    "print(obj.addUp(10, 20, 30)) # working"
   ]
  },
  {
   "cell_type": "code",
   "execution_count": 38,
   "metadata": {},
   "outputs": [
    {
     "ename": "TypeError",
     "evalue": "unsupported operand type(s) for +: 'int' and 'NoneType'",
     "output_type": "error",
     "traceback": [
      "\u001b[1;31m---------------------------------------------------------------------------\u001b[0m",
      "\u001b[1;31mTypeError\u001b[0m                                 Traceback (most recent call last)",
      "Cell \u001b[1;32mIn[38], line 1\u001b[0m\n\u001b[1;32m----> 1\u001b[0m \u001b[39mprint\u001b[39m(obj\u001b[39m.\u001b[39;49maddUp(\u001b[39m10\u001b[39;49m, \u001b[39m20\u001b[39;49m))\n",
      "Cell \u001b[1;32mIn[36], line 4\u001b[0m, in \u001b[0;36mAlpha.addUp\u001b[1;34m(self, a, b, c)\u001b[0m\n\u001b[0;32m      3\u001b[0m \u001b[39mdef\u001b[39;00m \u001b[39maddUp\u001b[39m(\u001b[39mself\u001b[39m, a\u001b[39m=\u001b[39m\u001b[39mNone\u001b[39;00m, b\u001b[39m=\u001b[39m\u001b[39mNone\u001b[39;00m, c\u001b[39m=\u001b[39m\u001b[39mNone\u001b[39;00m):\n\u001b[1;32m----> 4\u001b[0m     s \u001b[39m=\u001b[39m a \u001b[39m+\u001b[39;49m b \u001b[39m+\u001b[39;49m c\n\u001b[0;32m      5\u001b[0m     \u001b[39mreturn\u001b[39;00m s\n",
      "\u001b[1;31mTypeError\u001b[0m: unsupported operand type(s) for +: 'int' and 'NoneType'"
     ]
    }
   ],
   "source": [
    "print(obj.addUp(10, 20)) # not working"
   ]
  },
  {
   "cell_type": "markdown",
   "metadata": {},
   "source": [
    "The method overloading approach would be this,"
   ]
  },
  {
   "cell_type": "code",
   "execution_count": 39,
   "metadata": {},
   "outputs": [],
   "source": [
    "class Alpha:\n",
    "\n",
    "    def addUp(self, a=None, b=None, c=None):\n",
    "        if a != None and b != None and c != None:\n",
    "            s = a + b + c\n",
    "        elif a != None and b != None:\n",
    "            s = a + b\n",
    "        return s\n",
    "\n",
    "obj = Alpha()"
   ]
  },
  {
   "cell_type": "code",
   "execution_count": 40,
   "metadata": {},
   "outputs": [
    {
     "name": "stdout",
     "output_type": "stream",
     "text": [
      "60\n"
     ]
    }
   ],
   "source": [
    "print(obj.addUp(10, 20, 30)) # working"
   ]
  },
  {
   "cell_type": "code",
   "execution_count": 41,
   "metadata": {},
   "outputs": [
    {
     "name": "stdout",
     "output_type": "stream",
     "text": [
      "30\n"
     ]
    }
   ],
   "source": [
    "print(obj.addUp(10, 20)) # also working"
   ]
  },
  {
   "cell_type": "markdown",
   "metadata": {},
   "source": [
    "Although the above way using the `None` keyword is not the most efficient approach, better way would be do it this way,"
   ]
  },
  {
   "cell_type": "code",
   "execution_count": 46,
   "metadata": {},
   "outputs": [],
   "source": [
    "def addUp(self, a, b, c):\n",
    "        s = a + b + c\n",
    "        return s\n",
    "\n",
    "def addUp(self, a, b):\n",
    "        s = a + b \n",
    "        return s     "
   ]
  },
  {
   "cell_type": "markdown",
   "metadata": {},
   "source": [
    "Another example would be:"
   ]
  },
  {
   "cell_type": "code",
   "execution_count": 48,
   "metadata": {},
   "outputs": [],
   "source": [
    "def add(datatype, *args):\n",
    "    if datatype == 'int':\n",
    "        answer = 0\n",
    " \n",
    "    if datatype == 'str':\n",
    "        answer = ''\n",
    " \n",
    "    for x in args:\n",
    "        result += x"
   ]
  },
  {
   "cell_type": "markdown",
   "metadata": {},
   "source": [
    "We can use also use `@dispatcher` decorator present in a third party library `multidispatch`."
   ]
  },
  {
   "cell_type": "markdown",
   "metadata": {},
   "source": [
    "### 3.4. Method Overriding"
   ]
  },
  {
   "cell_type": "markdown",
   "metadata": {},
   "source": [
    "Inheritance and polymorphism also enable method overriding, where a subclass provides a specific implementation of a method that is already defined in the base class. This allows us to use a common interface while customizing behavior in derived classes.\n",
    "\n",
    "If we define a method with same name in both parent and child class, then method in parent class is not available to child class. It is overridden by the child class method.\n",
    "\n",
    "Method overriding is used when we want to modify the existing behavior of a method.\n",
    "\n",
    "Its an aftereffect of Inheritance(not exactly.)"
   ]
  },
  {
   "cell_type": "code",
   "execution_count": 49,
   "metadata": {},
   "outputs": [],
   "source": [
    "class Father:\n",
    "    BUSINESS = True\n",
    "\n",
    "    def __init__(self, money):\n",
    "        self.home = True\n",
    "        self.money = money\n",
    "\n",
    "    def showAsset(self):\n",
    "        return (self.home, self.money)\n",
    "\n",
    "    def salary(self):\n",
    "        return self.money + 2000 \n",
    "    \n",
    "class Child(Father):\n",
    "    def salary(self):\n",
    "        return self.money + 10000"
   ]
  },
  {
   "cell_type": "code",
   "execution_count": 50,
   "metadata": {},
   "outputs": [],
   "source": [
    "father = Father(money=500)\n",
    "son = Child(money=1000)"
   ]
  },
  {
   "cell_type": "code",
   "execution_count": 51,
   "metadata": {},
   "outputs": [
    {
     "data": {
      "text/plain": [
       "(500, 1000)"
      ]
     },
     "execution_count": 51,
     "metadata": {},
     "output_type": "execute_result"
    }
   ],
   "source": [
    "father.money, son.money"
   ]
  },
  {
   "cell_type": "code",
   "execution_count": 52,
   "metadata": {},
   "outputs": [
    {
     "data": {
      "text/plain": [
       "(2500, 11000)"
      ]
     },
     "execution_count": 52,
     "metadata": {},
     "output_type": "execute_result"
    }
   ],
   "source": [
    "father.salary(), son.salary()"
   ]
  },
  {
   "cell_type": "markdown",
   "metadata": {},
   "source": [
    "We can observe `salary()` method of father is being overridden by the child class."
   ]
  },
  {
   "cell_type": "markdown",
   "metadata": {},
   "source": [
    "## 4. Encapsulation"
   ]
  },
  {
   "cell_type": "markdown",
   "metadata": {},
   "source": [
    "Encapsulation refers to the bundling of data (attributes) and methods (functions) that operate on the data into class. It hides the internal details of how an object works, exposing only what's necessary.\n",
    "\n",
    "- *Data Hiding*: It hides the internal state of an object.Members (attributes) are often marked as private, meaning they can only be accessed or modified through methods (getters and setters) defined in the class. This prevents unauthorized access or modification of an object's data.\n",
    "- *Information Bundling*: It bundles data and methods together in a class. This bundling promotes the concept of a \"black box\" where the internal workings are hidden, and only a well-defined interface is exposed to the outside.\n",
    "\n",
    "In short encapsulation restricts access to methods and attributes and makes a capsule which has specific purpose of use. This capsule is a black-box which means user should have no idea how and what is going inside it, what matters to him is that he gets desired output.\n",
    "\n",
    "This restriction is not available in python strictly but we try to follow a convention, which represents private variable and methods using `_` at the start of their name. It showcases programmer that this method or attribute is intended for internal use within the class and should be accessed outside the class using getter and setter method and even it would be good to not access them outside the class at all.\n",
    "\n",
    "Black-box state can be achieved by capsuling various methods and attributes in a class which are related and responsible for certain functionality of the software.\n",
    "\n",
    "**Note:**\n",
    "- Private Variables/Method refer `1.34`\n",
    "- Getter/Accessor and Setter/Mutator method refer `1.41`"
   ]
  },
  {
   "cell_type": "code",
   "execution_count": 137,
   "metadata": {},
   "outputs": [],
   "source": [
    "class Employee:\n",
    "    def __init__(self, name, salary, bonus, age, sex, rank, experience, increment):\n",
    "        self.name = name\n",
    "        self._salary = salary\n",
    "        self._bonus = bonus\n",
    "        self.age = age\n",
    "        self.sex = sex\n",
    "        self.rank = rank\n",
    "        self.experience = experience\n",
    "        self._increment = increment\n",
    "\n",
    "    def get_salary(self):\n",
    "        return self._salary\n",
    "\n",
    "    def get_bonus(self):\n",
    "        return self.bonus\n",
    "\n",
    "    def set_salary(self):\n",
    "        if self.experience > 3 and self.rank >=2:\n",
    "            self._salary = self._bonus * 2 + self._increment * 2\n",
    "\n",
    "    def _gen_mail(self):\n",
    "        return self.name + str(self.age) + '@alpha.company'\n",
    "\n",
    "    def show_mail(self):\n",
    "        return self._gen_mail()\n",
    "\n",
    "\n",
    "class Engineer(Employee):\n",
    "    def __init__(self, tech, expertise, name, salary, bonus, age, sex, rank, experience, increment):\n",
    "        super().__init__(name, salary, bonus, age, sex, rank, experience, increment)\n",
    "        self.tech = tech\n",
    "        self.expertise = expertise\n",
    "    \n",
    "    def profile(self):\n",
    "        return (self.tech, self.expertise)"
   ]
  },
  {
   "cell_type": "code",
   "execution_count": 138,
   "metadata": {},
   "outputs": [],
   "source": [
    "ram = Engineer(name='ram', salary=100000, bonus=5500, age=32, sex='M', rank=4, experience=5, increment=40000, tech='ML', expertise=10)\n",
    "\n",
    "sita = Engineer(name='sita', salary=200000, bonus=6000, age=25, sex='M', rank=4, experience=2, increment=20000, tech='AI', expertise=5)"
   ]
  },
  {
   "cell_type": "markdown",
   "metadata": {},
   "source": [
    "We can observe we can't access private method as it is intended for internal use."
   ]
  },
  {
   "cell_type": "code",
   "execution_count": 139,
   "metadata": {},
   "outputs": [
    {
     "ename": "AttributeError",
     "evalue": "'Engineer' object has no attribute 'gen_mail'",
     "output_type": "error",
     "traceback": [
      "\u001b[1;31m---------------------------------------------------------------------------\u001b[0m",
      "\u001b[1;31mAttributeError\u001b[0m                            Traceback (most recent call last)",
      "Cell \u001b[1;32mIn[139], line 1\u001b[0m\n\u001b[1;32m----> 1\u001b[0m ram\u001b[39m.\u001b[39;49mgen_mail(), sita\u001b[39m.\u001b[39mgen_mail()\n",
      "\u001b[1;31mAttributeError\u001b[0m: 'Engineer' object has no attribute 'gen_mail'"
     ]
    }
   ],
   "source": [
    "ram.gen_mail(), sita.gen_mail()"
   ]
  },
  {
   "cell_type": "markdown",
   "metadata": {},
   "source": [
    "Instead we can use another method which act as interface for user."
   ]
  },
  {
   "cell_type": "code",
   "execution_count": 140,
   "metadata": {},
   "outputs": [
    {
     "data": {
      "text/plain": [
       "('ram32@alpha.company', 'sita25@alpha.company')"
      ]
     },
     "execution_count": 140,
     "metadata": {},
     "output_type": "execute_result"
    }
   ],
   "source": [
    "ram.show_mail(), sita.show_mail()"
   ]
  },
  {
   "cell_type": "markdown",
   "metadata": {},
   "source": [
    "We can observe although we can access private variables, but we should not do it in practice instead we should use accessor methods for this purpose."
   ]
  },
  {
   "cell_type": "code",
   "execution_count": 141,
   "metadata": {},
   "outputs": [
    {
     "data": {
      "text/plain": [
       "(100000, 200000)"
      ]
     },
     "execution_count": 141,
     "metadata": {},
     "output_type": "execute_result"
    }
   ],
   "source": [
    "ram._salary, sita._salary"
   ]
  },
  {
   "cell_type": "markdown",
   "metadata": {},
   "source": [
    "Using accessor/getter methods to access private variables."
   ]
  },
  {
   "cell_type": "code",
   "execution_count": 142,
   "metadata": {},
   "outputs": [
    {
     "data": {
      "text/plain": [
       "(100000, 200000)"
      ]
     },
     "execution_count": 142,
     "metadata": {},
     "output_type": "execute_result"
    }
   ],
   "source": [
    "ram.get_salary(), sita.get_salary()"
   ]
  },
  {
   "cell_type": "markdown",
   "metadata": {},
   "source": [
    "We should not directly modify private variables, instead we should use mutator/setter methods."
   ]
  },
  {
   "cell_type": "code",
   "execution_count": 143,
   "metadata": {},
   "outputs": [],
   "source": [
    "ram._salary =  20000"
   ]
  },
  {
   "cell_type": "markdown",
   "metadata": {},
   "source": [
    "Using mutator/setter method to modify private variables."
   ]
  },
  {
   "cell_type": "code",
   "execution_count": 144,
   "metadata": {},
   "outputs": [],
   "source": [
    "ram.set_salary()"
   ]
  },
  {
   "cell_type": "markdown",
   "metadata": {},
   "source": [
    "## 5. Abstraction"
   ]
  },
  {
   "cell_type": "markdown",
   "metadata": {},
   "source": [
    "Abstraction is used to hide the internal functionality of a class from the users. Idea behind is that user need not to be familiar with that \"how it does\".\n",
    "\n",
    "Our goal with abstraction is to prove an interface which will get work done without exposing internal working.\n",
    "\n",
    "To provide this service use abstraction class `ABC` to make a class which act as interaction point or interface and then derive various classes from it where we define the complex functionality.\n",
    "\n",
    "**Note:**\n",
    "- Abstract Class refer `1.10`"
   ]
  },
  {
   "cell_type": "code",
   "execution_count": 163,
   "metadata": {},
   "outputs": [],
   "source": [
    "from abc import ABC, abstractmethod\n",
    "\n",
    "class Animal(ABC):    \n",
    "    @abstractmethod\n",
    "    def voice(self):\n",
    "        pass\n",
    "\n",
    "\n",
    "class Cow(Animal):\n",
    "    def voice(self):\n",
    "        return 'bha bha'\n",
    "\n",
    "class Elephant(Animal):\n",
    "    def voice(self):\n",
    "        return 'chih chih'    "
   ]
  },
  {
   "cell_type": "code",
   "execution_count": 164,
   "metadata": {},
   "outputs": [],
   "source": [
    "cow = Cow()\n",
    "elephant = Elephant()"
   ]
  },
  {
   "cell_type": "code",
   "execution_count": 165,
   "metadata": {},
   "outputs": [
    {
     "data": {
      "text/plain": [
       "('bha bha', 'chih chih')"
      ]
     },
     "execution_count": 165,
     "metadata": {},
     "output_type": "execute_result"
    }
   ],
   "source": [
    "cow.voice(), elephant.voice()"
   ]
  },
  {
   "cell_type": "markdown",
   "metadata": {},
   "source": [
    "We can observe that we have divided the complexity of class into various classes and each class don't know about each other."
   ]
  }
 ],
 "metadata": {
  "kernelspec": {
   "display_name": "base",
   "language": "python",
   "name": "python3"
  },
  "language_info": {
   "codemirror_mode": {
    "name": "ipython",
    "version": 3
   },
   "file_extension": ".py",
   "mimetype": "text/x-python",
   "name": "python",
   "nbconvert_exporter": "python",
   "pygments_lexer": "ipython3",
   "version": "3.9.12"
  },
  "orig_nbformat": 4
 },
 "nbformat": 4,
 "nbformat_minor": 2
}
