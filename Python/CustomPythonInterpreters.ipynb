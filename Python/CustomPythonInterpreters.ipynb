{
 "cells": [
  {
   "cell_type": "markdown",
   "metadata": {},
   "source": [
    "# Custom Python Interpreters"
   ]
  },
  {
   "cell_type": "markdown",
   "metadata": {},
   "source": [
    "We can create our own custom python interfaces with some special feature in addition to basic python language.\n",
    "\n",
    "To do this we have two built-in modules available in python:\n",
    "- `code`\n",
    "- `codeop`"
   ]
  },
  {
   "cell_type": "markdown",
   "metadata": {},
   "source": [
    "## Code"
   ]
  },
  {
   "cell_type": "markdown",
   "metadata": {},
   "source": [
    "`code` module provide services to implement `read-eval-print` loops in python.\n",
    "\n",
    "Their are various classes and methods in this module which provide an interactive interpreter prompt.\n",
    "\n",
    "**Classes in Code**\n",
    "- `class code.InteractiveInterpreter(locals=None)` \n",
    "  - this class has responsibility of handling interpreter state(the user's namespace) and parsing\n",
    "  - this class doesn't deal with buffering or prompting or input file naming(filename is always passed explicitly)\n",
    "  - `locals` specifies the dictionary in which code will be executed (defaults to newly created dictionary with key `__name__` & `__doc__` set to `__console__` & `None` respectively.)\n",
    "\n",
    "- `class code.InteractiveConsole(locals=None, filename='<console>')` emulates the behavior of the interactive python interpreter\n",
    "    - it is subclass of `code.InteractiveInterpreter` class\n",
    "    - it adds missing feature of prompting & input buffering in `code.InteractiveInterpreter` using `sys.ps1` & `sys.ps2`\n",
    "\n",
    "**Methods in Code**\n",
    "- `code.interact(banner=None, redfunc=None, local=None, exitmsg=None))` run a read-eval-print loop\n",
    "  - this creates a new instance of `InteractiveConsole` class and sets `readfunc` argument to be used as `InteractiveConsole.raw_input()`\n",
    "- \n",
    "- `code.compile_command(source, filename='<input>', symbol='single')` returns a code object if the command is complete and valid, else None\n",
    "  - its useful for programs that want to emulate pythons main loop(read-eval-print loop)\n",
    "  - `source` is the source string\n",
    "  - `filename` its optional, filename from which source was read\n",
    "  - `symbol` its optional, grammar start symbol\n",
    "\n",
    "- `InteractiveInterpreter.runsource(source, filename='<input>', symbol='single')` compile and run source in the interpreter\n",
    "  - argument have same meaning as above\n",
    "\n",
    "- `InteractiveInterpreter.runcode(code)` execute a code object\n",
    "- `InteractiveInterpreter.showsyntaxerror(filename=None)` display the syntax error that just occurred \n",
    "- `InteractiveConsole.interact(banner=None, exitmsg=None)` emulate the interactive python console\n",
    "  - `banner` its optional, specifies the banner to print before the first interaction (default is same as default console)\n",
    "  - `exitmsg` specifies the exit message to print while exiting the interactive interpreter\n",
    "\n",
    "- `InteractiveConsole.push(line)` push a line of source text to the interpreter\n",
    "- `InteractiveConsole.resetbuffer()` remove any unhandled source text from the input buffer\n",
    "- `InteractiveConsole.raw_input(prompt='')` write a prompt and read a line."
   ]
  },
  {
   "cell_type": "code",
   "execution_count": null,
   "metadata": {},
   "outputs": [],
   "source": [
    "# custom interpreter example - it just exits when given input `exit`\n",
    "\n",
    "import code\n",
    "\n",
    "class CustomInterpreter(code.InteractiveConsole):\n",
    "    def run(self):\n",
    "        while True:\n",
    "            user_input = input('>>> ')\n",
    "            if user_input == 'exit':\n",
    "                break\n",
    "            self.push(user_input)\n",
    "\n",
    "interpreter = CustomInterpreter()\n",
    "interpreter.run()"
   ]
  },
  {
   "cell_type": "code",
   "execution_count": null,
   "metadata": {},
   "outputs": [],
   "source": [
    "# Custom data analysis tool using interactive interpreter\n",
    "\n",
    "import code\n",
    "import pandas as pd\n",
    "\n",
    "class DataAnalyzer(code.InteractiveConsole):\n",
    "    def run(self):\n",
    "        print(\"Data Analysis Tool\")\n",
    "        while True:\n",
    "            user_input = input('>>> ')\n",
    "            if user_input == 'exit':\n",
    "                break\n",
    "            try:\n",
    "                result = eval(user_input, {\"__builtins__\": None}, {'pd': pd})\n",
    "                print(result)\n",
    "            except Exception as e:\n",
    "                print(\"Error:\", e)\n",
    "\n",
    "data_analyzer = DataAnalyzer()\n",
    "data_analyzer.run()"
   ]
  },
  {
   "cell_type": "code",
   "execution_count": null,
   "metadata": {},
   "outputs": [],
   "source": [
    "# Custom configurator tool using interactive interpreter\n",
    "\n",
    "import code\n",
    "\n",
    "class ConfigSetter(code.InteractiveConsole):\n",
    "    def __init__(self, config):\n",
    "        super().__init__(locals=config)\n",
    "    \n",
    "    def run(self):\n",
    "        print(\"Interactive Configuration Setter\")\n",
    "        print(\"Available variables:\", ', '.join(self.locals.keys()))\n",
    "        while True:\n",
    "            user_input = input('>>> ')\n",
    "            if user_input == 'exit':\n",
    "                break\n",
    "            try:\n",
    "                exec(user_input, self.locals)\n",
    "            except Exception as e:\n",
    "                print(\"Error:\", e)\n",
    "\n",
    "config = {'name': 'Ram', 'age': 20}\n",
    "config_setter = ConfigSetter(config)\n",
    "config_setter.run()"
   ]
  },
  {
   "cell_type": "code",
   "execution_count": 2,
   "metadata": {},
   "outputs": [
    {
     "name": "stdout",
     "output_type": "stream",
     "text": [
      "Simple Calculator\n",
      "Result: 10\n",
      "Result: 10\n"
     ]
    }
   ],
   "source": [
    "# Custom calculator using interactive interpreter\n",
    "\n",
    "import code\n",
    "import math\n",
    "\n",
    "class CalculatorInterpreter(code.InteractiveConsole):\n",
    "    def run(self):\n",
    "        print(\"Simple Calculator\")\n",
    "        while True:\n",
    "            user_input = input('>>> ')\n",
    "            if user_input == 'exit':\n",
    "                break\n",
    "            try:\n",
    "                result = eval(user_input, {\"__builtins__\": None}, {'math': math})\n",
    "                print(\"Result:\", result)\n",
    "            except Exception as e:\n",
    "                print(\"Error:\", e)\n",
    "\n",
    "calculator = CalculatorInterpreter()\n",
    "calculator.run()"
   ]
  },
  {
   "cell_type": "markdown",
   "metadata": {},
   "source": [
    "**Note:** We can build custom interactive interpreter based tools for various applications for which we don't want to create complex UI."
   ]
  }
 ],
 "metadata": {
  "kernelspec": {
   "display_name": "base",
   "language": "python",
   "name": "python3"
  },
  "language_info": {
   "codemirror_mode": {
    "name": "ipython",
    "version": 3
   },
   "file_extension": ".py",
   "mimetype": "text/x-python",
   "name": "python",
   "nbconvert_exporter": "python",
   "pygments_lexer": "ipython3",
   "version": "3.9.12"
  },
  "orig_nbformat": 4
 },
 "nbformat": 4,
 "nbformat_minor": 2
}
