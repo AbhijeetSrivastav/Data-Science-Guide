{
 "cells": [
  {
   "cell_type": "markdown",
   "metadata": {},
   "source": [
    "# INR prediction based on INR-USD Exchange Rate"
   ]
  },
  {
   "cell_type": "markdown",
   "metadata": {},
   "source": [
    "By ``Abhijeet Srivastav``\n",
    "\n",
    "**Connect with me**\n",
    "- [LinkedIn](https://www.linkedin.com/in/abhijeet-srivastav-02245a18b/)\n",
    "- [Github](https://github.com/AbhijeetSrivastav/Data-Science-Guide)\n",
    "- [Social](https://www.instagram.com/abhijeet.codes/)"
   ]
  },
  {
   "cell_type": "markdown",
   "metadata": {},
   "source": [
    "**AIM-** Predicting rate of INR based on stock data\n",
    "\n",
    "**Dataset Information**\n",
    "\n",
    "- Real time historical data sourced from Yahoo Finance\n",
    "- This dataset has 263 rows and 8 features\n",
    "- Dataset [Source](https://finance.yahoo.com/quote/INR%3DX/history/?fr=sycsrp_catchall)\n",
    "\n",
    "**Attribute Information**\n",
    "1. Date: Dates\n",
    "2. Open: The Stock at which opens at the start of market\n",
    "3. High: The particular stock which made high during that particular day\n",
    "4. Low:The Particular stock which made Low during that particular day\n",
    "5. Close: The stock closing at the end of the Market hours\n",
    "6. Adj Close: Stock's closing price to reflect that stock's value after accounting for any corporate actions\n",
    "7. Volume: The total number of shares traded on that particular day\n",
    "\n",
    "**Target and input features**\n",
    "- Our target feature is close (final price of inr)"
   ]
  },
  {
   "cell_type": "markdown",
   "metadata": {},
   "source": [
    "## 0. Required Imports"
   ]
  },
  {
   "cell_type": "code",
   "execution_count": 115,
   "metadata": {},
   "outputs": [],
   "source": [
    "import pandas as pd\n",
    "import numpy as np\n",
    "import matplotlib.pyplot as plt\n",
    "import seaborn as sns\n",
    "import plotly.express as px\n",
    "import warnings\n",
    "from scipy import stats"
   ]
  },
  {
   "cell_type": "code",
   "execution_count": 2,
   "metadata": {},
   "outputs": [],
   "source": [
    "warnings.filterwarnings('ignore')\n",
    "%matplotlib inline"
   ]
  },
  {
   "cell_type": "markdown",
   "metadata": {},
   "source": [
    "## 1. Data Collection"
   ]
  },
  {
   "cell_type": "code",
   "execution_count": 3,
   "metadata": {},
   "outputs": [],
   "source": [
    "df = pd.read_csv('../../Dataset/INR=X.csv')"
   ]
  },
  {
   "cell_type": "code",
   "execution_count": 7,
   "metadata": {},
   "outputs": [
    {
     "data": {
      "text/html": [
       "<div>\n",
       "<style scoped>\n",
       "    .dataframe tbody tr th:only-of-type {\n",
       "        vertical-align: middle;\n",
       "    }\n",
       "\n",
       "    .dataframe tbody tr th {\n",
       "        vertical-align: top;\n",
       "    }\n",
       "\n",
       "    .dataframe thead th {\n",
       "        text-align: right;\n",
       "    }\n",
       "</style>\n",
       "<table border=\"1\" class=\"dataframe\">\n",
       "  <thead>\n",
       "    <tr style=\"text-align: right;\">\n",
       "      <th></th>\n",
       "      <th>Date</th>\n",
       "      <th>Open</th>\n",
       "      <th>High</th>\n",
       "      <th>Low</th>\n",
       "      <th>Close</th>\n",
       "      <th>Adj Close</th>\n",
       "      <th>Volume</th>\n",
       "    </tr>\n",
       "  </thead>\n",
       "  <tbody>\n",
       "    <tr>\n",
       "      <th>0</th>\n",
       "      <td>2021-11-09</td>\n",
       "      <td>73.917099</td>\n",
       "      <td>74.152496</td>\n",
       "      <td>73.830299</td>\n",
       "      <td>73.918503</td>\n",
       "      <td>73.918503</td>\n",
       "      <td>0</td>\n",
       "    </tr>\n",
       "    <tr>\n",
       "      <th>1</th>\n",
       "      <td>2021-11-10</td>\n",
       "      <td>74.174797</td>\n",
       "      <td>74.407997</td>\n",
       "      <td>74.051498</td>\n",
       "      <td>74.174797</td>\n",
       "      <td>74.174797</td>\n",
       "      <td>0</td>\n",
       "    </tr>\n",
       "    <tr>\n",
       "      <th>2</th>\n",
       "      <td>2021-11-11</td>\n",
       "      <td>74.404999</td>\n",
       "      <td>74.578499</td>\n",
       "      <td>74.272797</td>\n",
       "      <td>74.404900</td>\n",
       "      <td>74.404900</td>\n",
       "      <td>0</td>\n",
       "    </tr>\n",
       "    <tr>\n",
       "      <th>3</th>\n",
       "      <td>2021-11-12</td>\n",
       "      <td>74.326698</td>\n",
       "      <td>74.528702</td>\n",
       "      <td>74.293503</td>\n",
       "      <td>74.322098</td>\n",
       "      <td>74.322098</td>\n",
       "      <td>0</td>\n",
       "    </tr>\n",
       "    <tr>\n",
       "      <th>4</th>\n",
       "      <td>2021-11-15</td>\n",
       "      <td>74.347000</td>\n",
       "      <td>74.588303</td>\n",
       "      <td>74.312500</td>\n",
       "      <td>74.339996</td>\n",
       "      <td>74.339996</td>\n",
       "      <td>0</td>\n",
       "    </tr>\n",
       "  </tbody>\n",
       "</table>\n",
       "</div>"
      ],
      "text/plain": [
       "         Date       Open       High        Low      Close  Adj Close  Volume\n",
       "0  2021-11-09  73.917099  74.152496  73.830299  73.918503  73.918503       0\n",
       "1  2021-11-10  74.174797  74.407997  74.051498  74.174797  74.174797       0\n",
       "2  2021-11-11  74.404999  74.578499  74.272797  74.404900  74.404900       0\n",
       "3  2021-11-12  74.326698  74.528702  74.293503  74.322098  74.322098       0\n",
       "4  2021-11-15  74.347000  74.588303  74.312500  74.339996  74.339996       0"
      ]
     },
     "execution_count": 7,
     "metadata": {},
     "output_type": "execute_result"
    }
   ],
   "source": [
    "df.head()"
   ]
  },
  {
   "cell_type": "markdown",
   "metadata": {},
   "source": [
    "## 2. Data Preprocessing - First Pass"
   ]
  },
  {
   "cell_type": "code",
   "execution_count": 8,
   "metadata": {},
   "outputs": [
    {
     "data": {
      "text/html": [
       "<div>\n",
       "<style scoped>\n",
       "    .dataframe tbody tr th:only-of-type {\n",
       "        vertical-align: middle;\n",
       "    }\n",
       "\n",
       "    .dataframe tbody tr th {\n",
       "        vertical-align: top;\n",
       "    }\n",
       "\n",
       "    .dataframe thead th {\n",
       "        text-align: right;\n",
       "    }\n",
       "</style>\n",
       "<table border=\"1\" class=\"dataframe\">\n",
       "  <thead>\n",
       "    <tr style=\"text-align: right;\">\n",
       "      <th></th>\n",
       "      <th>Open</th>\n",
       "      <th>High</th>\n",
       "      <th>Low</th>\n",
       "      <th>Close</th>\n",
       "      <th>Adj Close</th>\n",
       "      <th>Volume</th>\n",
       "    </tr>\n",
       "  </thead>\n",
       "  <tbody>\n",
       "    <tr>\n",
       "      <th>count</th>\n",
       "      <td>262.000000</td>\n",
       "      <td>262.000000</td>\n",
       "      <td>262.000000</td>\n",
       "      <td>262.000000</td>\n",
       "      <td>262.000000</td>\n",
       "      <td>262.0</td>\n",
       "    </tr>\n",
       "    <tr>\n",
       "      <th>mean</th>\n",
       "      <td>77.563335</td>\n",
       "      <td>77.848996</td>\n",
       "      <td>77.373046</td>\n",
       "      <td>77.561531</td>\n",
       "      <td>77.561531</td>\n",
       "      <td>0.0</td>\n",
       "    </tr>\n",
       "    <tr>\n",
       "      <th>std</th>\n",
       "      <td>2.548608</td>\n",
       "      <td>2.599641</td>\n",
       "      <td>2.532519</td>\n",
       "      <td>2.549447</td>\n",
       "      <td>2.549447</td>\n",
       "      <td>0.0</td>\n",
       "    </tr>\n",
       "    <tr>\n",
       "      <th>min</th>\n",
       "      <td>73.782799</td>\n",
       "      <td>74.034302</td>\n",
       "      <td>73.697502</td>\n",
       "      <td>73.799103</td>\n",
       "      <td>73.799103</td>\n",
       "      <td>0.0</td>\n",
       "    </tr>\n",
       "    <tr>\n",
       "      <th>25%</th>\n",
       "      <td>75.408228</td>\n",
       "      <td>75.585251</td>\n",
       "      <td>75.123551</td>\n",
       "      <td>75.385300</td>\n",
       "      <td>75.385300</td>\n",
       "      <td>0.0</td>\n",
       "    </tr>\n",
       "    <tr>\n",
       "      <th>50%</th>\n",
       "      <td>77.315948</td>\n",
       "      <td>77.518749</td>\n",
       "      <td>77.133503</td>\n",
       "      <td>77.315948</td>\n",
       "      <td>77.315948</td>\n",
       "      <td>0.0</td>\n",
       "    </tr>\n",
       "    <tr>\n",
       "      <th>75%</th>\n",
       "      <td>79.644253</td>\n",
       "      <td>79.918373</td>\n",
       "      <td>79.432278</td>\n",
       "      <td>79.644253</td>\n",
       "      <td>79.644253</td>\n",
       "      <td>0.0</td>\n",
       "    </tr>\n",
       "    <tr>\n",
       "      <th>max</th>\n",
       "      <td>82.997002</td>\n",
       "      <td>83.386002</td>\n",
       "      <td>82.668800</td>\n",
       "      <td>82.997002</td>\n",
       "      <td>82.997002</td>\n",
       "      <td>0.0</td>\n",
       "    </tr>\n",
       "  </tbody>\n",
       "</table>\n",
       "</div>"
      ],
      "text/plain": [
       "             Open        High         Low       Close   Adj Close  Volume\n",
       "count  262.000000  262.000000  262.000000  262.000000  262.000000   262.0\n",
       "mean    77.563335   77.848996   77.373046   77.561531   77.561531     0.0\n",
       "std      2.548608    2.599641    2.532519    2.549447    2.549447     0.0\n",
       "min     73.782799   74.034302   73.697502   73.799103   73.799103     0.0\n",
       "25%     75.408228   75.585251   75.123551   75.385300   75.385300     0.0\n",
       "50%     77.315948   77.518749   77.133503   77.315948   77.315948     0.0\n",
       "75%     79.644253   79.918373   79.432278   79.644253   79.644253     0.0\n",
       "max     82.997002   83.386002   82.668800   82.997002   82.997002     0.0"
      ]
     },
     "execution_count": 8,
     "metadata": {},
     "output_type": "execute_result"
    }
   ],
   "source": [
    "df.describe()"
   ]
  },
  {
   "cell_type": "markdown",
   "metadata": {},
   "source": [
    "### 2.1. Checking for null values"
   ]
  },
  {
   "cell_type": "code",
   "execution_count": 14,
   "metadata": {},
   "outputs": [
    {
     "data": {
      "text/plain": [
       "<AxesSubplot:>"
      ]
     },
     "execution_count": 14,
     "metadata": {},
     "output_type": "execute_result"
    },
    {
     "data": {
      "image/png": "[encoded data removed]",
      "text/plain": [
       "<Figure size 432x288 with 1 Axes>"
      ]
     },
     "metadata": {
      "needs_background": "light"
     },
     "output_type": "display_data"
    }
   ],
   "source": [
    "sns.heatmap(df.isnull(), cbar=False, cmap='viridis')"
   ]
  },
  {
   "cell_type": "code",
   "execution_count": 16,
   "metadata": {},
   "outputs": [
    {
     "data": {
      "text/plain": [
       "Date         False\n",
       "Open         False\n",
       "High         False\n",
       "Low          False\n",
       "Close        False\n",
       "Adj Close    False\n",
       "Volume       False\n",
       "dtype: bool"
      ]
     },
     "execution_count": 16,
     "metadata": {},
     "output_type": "execute_result"
    }
   ],
   "source": [
    "df.isnull().any()"
   ]
  },
  {
   "cell_type": "markdown",
   "metadata": {},
   "source": [
    "**Observation:** Their are no null values"
   ]
  },
  {
   "cell_type": "markdown",
   "metadata": {},
   "source": [
    "### 2.2. Checking for NA values"
   ]
  },
  {
   "cell_type": "code",
   "execution_count": 17,
   "metadata": {},
   "outputs": [
    {
     "data": {
      "text/plain": [
       "Date         False\n",
       "Open         False\n",
       "High         False\n",
       "Low          False\n",
       "Close        False\n",
       "Adj Close    False\n",
       "Volume       False\n",
       "dtype: bool"
      ]
     },
     "execution_count": 17,
     "metadata": {},
     "output_type": "execute_result"
    }
   ],
   "source": [
    "df.isna().any()"
   ]
  },
  {
   "cell_type": "markdown",
   "metadata": {},
   "source": [
    "**Observation:** Their is no NA values"
   ]
  },
  {
   "cell_type": "markdown",
   "metadata": {},
   "source": [
    "### 2.3. Checking the data type of features"
   ]
  },
  {
   "cell_type": "code",
   "execution_count": 18,
   "metadata": {},
   "outputs": [
    {
     "data": {
      "text/plain": [
       "Date          object\n",
       "Open         float64\n",
       "High         float64\n",
       "Low          float64\n",
       "Close        float64\n",
       "Adj Close    float64\n",
       "Volume         int64\n",
       "dtype: object"
      ]
     },
     "execution_count": 18,
     "metadata": {},
     "output_type": "execute_result"
    }
   ],
   "source": [
    "df.dtypes"
   ]
  },
  {
   "cell_type": "markdown",
   "metadata": {},
   "source": [
    "**Observation:** All the features are of correct data type."
   ]
  },
  {
   "cell_type": "markdown",
   "metadata": {},
   "source": [
    "## 3. Exploratory Data Analysis"
   ]
  },
  {
   "cell_type": "markdown",
   "metadata": {},
   "source": [
    "### 3.1. Detecting outliers using Boxplot"
   ]
  },
  {
   "cell_type": "code",
   "execution_count": 39,
   "metadata": {},
   "outputs": [],
   "source": [
    "num_features = [feature for feature in df.columns if df[feature].dtype !='O']"
   ]
  },
  {
   "cell_type": "code",
   "execution_count": 48,
   "metadata": {},
   "outputs": [
    {
     "data": {
      "image/png": "[encoded data removed]",
      "text/plain": [
       "<Figure size 720x720 with 6 Axes>"
      ]
     },
     "metadata": {
      "needs_background": "light"
     },
     "output_type": "display_data"
    }
   ],
   "source": [
    "n = 1\n",
    "plt.figure(figsize=(10, 10))\n",
    "for feature in num_features:\n",
    "    plt.subplot(3, 2, n)\n",
    "    n += 1\n",
    "    sns.boxplot(df[feature])\n",
    "    plt.tight_layout()"
   ]
  },
  {
   "cell_type": "markdown",
   "metadata": {},
   "source": [
    "**Observation:** No outliers detected in visual inspection."
   ]
  },
  {
   "cell_type": "markdown",
   "metadata": {},
   "source": [
    "### 3.2. Detecting outliers by z-score"
   ]
  },
  {
   "cell_type": "code",
   "execution_count": 49,
   "metadata": {},
   "outputs": [],
   "source": [
    "z_scores = []\n",
    "for feature in num_features:\n",
    "    z_scores.append(np.abs(stats.zscore(df[feature])))"
   ]
  },
  {
   "cell_type": "code",
   "execution_count": 50,
   "metadata": {},
   "outputs": [
    {
     "data": {
      "text/plain": [
       "[0      1.433416\n",
       " 1      1.332109\n",
       " 2      1.241611\n",
       " 3      1.272393\n",
       " 4      1.264412\n",
       "          ...   \n",
       " 257    2.093399\n",
       " 258    2.012182\n",
       " 259    1.734322\n",
       " 260    1.675746\n",
       " 261    1.510321\n",
       " Name: Open, Length: 262, dtype: float64,\n",
       " 0      1.424649\n",
       " 1      1.326177\n",
       " 2      1.260465\n",
       " 3      1.279657\n",
       " 4      1.256686\n",
       "          ...   \n",
       " 257    1.983795\n",
       " 258    1.982060\n",
       " 259    1.743111\n",
       " 260    1.631343\n",
       " 261    1.472556\n",
       " Name: High, Length: 262, dtype: float64,\n",
       " 0      1.401580\n",
       " 1      1.314069\n",
       " 2      1.226519\n",
       " 3      1.218327\n",
       " 4      1.210812\n",
       "          ...   \n",
       " 257    2.095103\n",
       " 258    1.831343\n",
       " 259    1.748423\n",
       " 260    1.503295\n",
       " 261    1.510180\n",
       " Name: Low, Length: 262, dtype: float64,\n",
       " 0      1.431683\n",
       " 1      1.330961\n",
       " 2      1.240533\n",
       " 3      1.273073\n",
       " 4      1.266039\n",
       "          ...   \n",
       " 257    2.093419\n",
       " 258    2.012229\n",
       " 259    1.734460\n",
       " 260    1.675904\n",
       " 261    1.510533\n",
       " Name: Close, Length: 262, dtype: float64,\n",
       " 0      1.431683\n",
       " 1      1.330961\n",
       " 2      1.240533\n",
       " 3      1.273073\n",
       " 4      1.266039\n",
       "          ...   \n",
       " 257    2.093419\n",
       " 258    2.012229\n",
       " 259    1.734460\n",
       " 260    1.675904\n",
       " 261    1.510533\n",
       " Name: Adj Close, Length: 262, dtype: float64,\n",
       " 0     NaN\n",
       " 1     NaN\n",
       " 2     NaN\n",
       " 3     NaN\n",
       " 4     NaN\n",
       "        ..\n",
       " 257   NaN\n",
       " 258   NaN\n",
       " 259   NaN\n",
       " 260   NaN\n",
       " 261   NaN\n",
       " Name: Volume, Length: 262, dtype: float64]"
      ]
     },
     "execution_count": 50,
     "metadata": {},
     "output_type": "execute_result"
    }
   ],
   "source": [
    "z_scores"
   ]
  },
  {
   "cell_type": "markdown",
   "metadata": {},
   "source": [
    "lets set the threshold value of z-score to 3"
   ]
  },
  {
   "cell_type": "code",
   "execution_count": 54,
   "metadata": {},
   "outputs": [
    {
     "name": "stdout",
     "output_type": "stream",
     "text": [
      "(array([], dtype=int64),)\n",
      "(array([], dtype=int64),)\n",
      "(array([], dtype=int64),)\n",
      "(array([], dtype=int64),)\n",
      "(array([], dtype=int64),)\n",
      "(array([], dtype=int64),)\n"
     ]
    }
   ],
   "source": [
    "threshold = 3\n",
    "for z in z_scores:\n",
    "    print(np.where(z > threshold))\n"
   ]
  },
  {
   "cell_type": "markdown",
   "metadata": {},
   "source": [
    "**Observation:** It can be observed that their is no value of z-score greater than threshold for any of the numerical features."
   ]
  },
  {
   "cell_type": "markdown",
   "metadata": {},
   "source": [
    "### 3.3. Correlation of features"
   ]
  },
  {
   "cell_type": "code",
   "execution_count": 55,
   "metadata": {},
   "outputs": [
    {
     "data": {
      "text/html": [
       "<div>\n",
       "<style scoped>\n",
       "    .dataframe tbody tr th:only-of-type {\n",
       "        vertical-align: middle;\n",
       "    }\n",
       "\n",
       "    .dataframe tbody tr th {\n",
       "        vertical-align: top;\n",
       "    }\n",
       "\n",
       "    .dataframe thead th {\n",
       "        text-align: right;\n",
       "    }\n",
       "</style>\n",
       "<table border=\"1\" class=\"dataframe\">\n",
       "  <thead>\n",
       "    <tr style=\"text-align: right;\">\n",
       "      <th></th>\n",
       "      <th>Open</th>\n",
       "      <th>High</th>\n",
       "      <th>Low</th>\n",
       "      <th>Close</th>\n",
       "      <th>Adj Close</th>\n",
       "      <th>Volume</th>\n",
       "    </tr>\n",
       "  </thead>\n",
       "  <tbody>\n",
       "    <tr>\n",
       "      <th>Open</th>\n",
       "      <td>1.000000</td>\n",
       "      <td>0.997669</td>\n",
       "      <td>0.997881</td>\n",
       "      <td>0.999911</td>\n",
       "      <td>0.999911</td>\n",
       "      <td>NaN</td>\n",
       "    </tr>\n",
       "    <tr>\n",
       "      <th>High</th>\n",
       "      <td>0.997669</td>\n",
       "      <td>1.000000</td>\n",
       "      <td>0.997486</td>\n",
       "      <td>0.997659</td>\n",
       "      <td>0.997659</td>\n",
       "      <td>NaN</td>\n",
       "    </tr>\n",
       "    <tr>\n",
       "      <th>Low</th>\n",
       "      <td>0.997881</td>\n",
       "      <td>0.997486</td>\n",
       "      <td>1.000000</td>\n",
       "      <td>0.997926</td>\n",
       "      <td>0.997926</td>\n",
       "      <td>NaN</td>\n",
       "    </tr>\n",
       "    <tr>\n",
       "      <th>Close</th>\n",
       "      <td>0.999911</td>\n",
       "      <td>0.997659</td>\n",
       "      <td>0.997926</td>\n",
       "      <td>1.000000</td>\n",
       "      <td>1.000000</td>\n",
       "      <td>NaN</td>\n",
       "    </tr>\n",
       "    <tr>\n",
       "      <th>Adj Close</th>\n",
       "      <td>0.999911</td>\n",
       "      <td>0.997659</td>\n",
       "      <td>0.997926</td>\n",
       "      <td>1.000000</td>\n",
       "      <td>1.000000</td>\n",
       "      <td>NaN</td>\n",
       "    </tr>\n",
       "    <tr>\n",
       "      <th>Volume</th>\n",
       "      <td>NaN</td>\n",
       "      <td>NaN</td>\n",
       "      <td>NaN</td>\n",
       "      <td>NaN</td>\n",
       "      <td>NaN</td>\n",
       "      <td>NaN</td>\n",
       "    </tr>\n",
       "  </tbody>\n",
       "</table>\n",
       "</div>"
      ],
      "text/plain": [
       "               Open      High       Low     Close  Adj Close  Volume\n",
       "Open       1.000000  0.997669  0.997881  0.999911   0.999911     NaN\n",
       "High       0.997669  1.000000  0.997486  0.997659   0.997659     NaN\n",
       "Low        0.997881  0.997486  1.000000  0.997926   0.997926     NaN\n",
       "Close      0.999911  0.997659  0.997926  1.000000   1.000000     NaN\n",
       "Adj Close  0.999911  0.997659  0.997926  1.000000   1.000000     NaN\n",
       "Volume          NaN       NaN       NaN       NaN        NaN     NaN"
      ]
     },
     "execution_count": 55,
     "metadata": {},
     "output_type": "execute_result"
    }
   ],
   "source": [
    "df.corr()"
   ]
  },
  {
   "cell_type": "code",
   "execution_count": 56,
   "metadata": {},
   "outputs": [
    {
     "data": {
      "text/plain": [
       "<AxesSubplot:>"
      ]
     },
     "execution_count": 56,
     "metadata": {},
     "output_type": "execute_result"
    },
    {
     "data": {
      "image/png": "[encoded data removed]",
      "text/plain": [
       "<Figure size 432x288 with 2 Axes>"
      ]
     },
     "metadata": {
      "needs_background": "light"
     },
     "output_type": "display_data"
    }
   ],
   "source": [
    "sns.heatmap(df.corr(), cbar=True, annot=True, cmap='viridis')"
   ]
  },
  {
   "cell_type": "markdown",
   "metadata": {},
   "source": [
    "**Observation:** \n",
    "- We can observe that all  features are somewhat correlated to each other.\n",
    "- High multi collinearity  present here and need to be handled."
   ]
  },
  {
   "cell_type": "markdown",
   "metadata": {},
   "source": [
    "### 3.4. Checking distribution of features"
   ]
  },
  {
   "cell_type": "code",
   "execution_count": 59,
   "metadata": {},
   "outputs": [
    {
     "data": {
      "image/png": "[encoded data removed]",
      "text/plain": [
       "<Figure size 432x288 with 1 Axes>"
      ]
     },
     "metadata": {
      "needs_background": "light"
     },
     "output_type": "display_data"
    },
    {
     "data": {
      "image/png": "[encoded data removed]",
      "text/plain": [
       "<Figure size 432x288 with 1 Axes>"
      ]
     },
     "metadata": {
      "needs_background": "light"
     },
     "output_type": "display_data"
    },
    {
     "data": {
      "image/png": "[encoded data removed]",
      "text/plain": [
       "<Figure size 432x288 with 1 Axes>"
      ]
     },
     "metadata": {
      "needs_background": "light"
     },
     "output_type": "display_data"
    },
    {
     "data": {
      "image/png": "[encoded data removed]",
      "text/plain": [
       "<Figure size 432x288 with 1 Axes>"
      ]
     },
     "metadata": {
      "needs_background": "light"
     },
     "output_type": "display_data"
    },
    {
     "data": {
      "image/png": "[encoded data removed]",
      "text/plain": [
       "<Figure size 432x288 with 1 Axes>"
      ]
     },
     "metadata": {
      "needs_background": "light"
     },
     "output_type": "display_data"
    },
    {
     "data": {
      "image/png": "[encoded data removed]",
      "text/plain": [
       "<Figure size 432x288 with 1 Axes>"
      ]
     },
     "metadata": {
      "needs_background": "light"
     },
     "output_type": "display_data"
    }
   ],
   "source": [
    "for feature in num_features:\n",
    "    sns.histplot(data=num_feature_df, x=feature, kde=True, bins=10)\n",
    "    plt.show()"
   ]
  },
  {
   "cell_type": "markdown",
   "metadata": {},
   "source": [
    "**Observation:** None of the feature is normally distributed and need to be transformed to be normally distributed."
   ]
  },
  {
   "cell_type": "markdown",
   "metadata": {},
   "source": [
    "## 4. Analytical observations"
   ]
  },
  {
   "cell_type": "markdown",
   "metadata": {},
   "source": [
    "### 4.1. How is the target feature (Close) related to rest of input features?"
   ]
  },
  {
   "cell_type": "code",
   "execution_count": 65,
   "metadata": {},
   "outputs": [],
   "source": [
    "target_feature = df['Close']\n",
    "input_features = df[['Open', 'High', 'Low', 'Adj Close', 'Volume']]"
   ]
  },
  {
   "cell_type": "code",
   "execution_count": 77,
   "metadata": {},
   "outputs": [
    {
     "data": {
      "image/png": "[encoded data removed]",
      "text/plain": [
       "<Figure size 432x288 with 1 Axes>"
      ]
     },
     "metadata": {
      "needs_background": "light"
     },
     "output_type": "display_data"
    },
    {
     "data": {
      "image/png": "[encoded data removed]",
      "text/plain": [
       "<Figure size 432x288 with 1 Axes>"
      ]
     },
     "metadata": {
      "needs_background": "light"
     },
     "output_type": "display_data"
    },
    {
     "data": {
      "image/png": "[encoded data removed]",
      "text/plain": [
       "<Figure size 432x288 with 1 Axes>"
      ]
     },
     "metadata": {
      "needs_background": "light"
     },
     "output_type": "display_data"
    },
    {
     "data": {
      "image/png": "[encoded data removed]",
      "text/plain": [
       "<Figure size 432x288 with 1 Axes>"
      ]
     },
     "metadata": {
      "needs_background": "light"
     },
     "output_type": "display_data"
    },
    {
     "data": {
      "image/png": "[encoded data removed]",
      "text/plain": [
       "<Figure size 432x288 with 1 Axes>"
      ]
     },
     "metadata": {
      "needs_background": "light"
     },
     "output_type": "display_data"
    }
   ],
   "source": [
    "for input_feature in input_features:\n",
    "    sns.lineplot(data=df, x=df[input_feature], y=target_feature)\n",
    "    plt.show()"
   ]
  },
  {
   "cell_type": "markdown",
   "metadata": {},
   "source": [
    "**Observation:** \n",
    "- Close and Open have highly linear relationship.\n",
    "- Close and Adj Close have highly linear relationship.\n",
    "- Close and Volume has no linear relationship.\n",
    "- Close and and low has moderate linear relationship.\n",
    "- Close and high has moderate linear relationship."
   ]
  },
  {
   "cell_type": "markdown",
   "metadata": {},
   "source": [
    "### 4.2. What is the max value of INR and when ?"
   ]
  },
  {
   "cell_type": "code",
   "execution_count": 95,
   "metadata": {},
   "outputs": [
    {
     "data": {
      "image/png": "[encoded data removed]",
      "text/plain": [
       "<Figure size 720x288 with 1 Axes>"
      ]
     },
     "metadata": {
      "needs_background": "light"
     },
     "output_type": "display_data"
    }
   ],
   "source": [
    "plt.figure(figsize=(10, 4))\n",
    "plt.title('INR - USD Exchange Rate')\n",
    "plt.xlabel('Date')\n",
    "plt.ylabel('Close')\n",
    "plt.plot(df['Close'])\n",
    "plt.show()"
   ]
  },
  {
   "cell_type": "code",
   "execution_count": 94,
   "metadata": {},
   "outputs": [
    {
     "data": {
      "text/html": [
       "<div>\n",
       "<style scoped>\n",
       "    .dataframe tbody tr th:only-of-type {\n",
       "        vertical-align: middle;\n",
       "    }\n",
       "\n",
       "    .dataframe tbody tr th {\n",
       "        vertical-align: top;\n",
       "    }\n",
       "\n",
       "    .dataframe thead th {\n",
       "        text-align: right;\n",
       "    }\n",
       "</style>\n",
       "<table border=\"1\" class=\"dataframe\">\n",
       "  <thead>\n",
       "    <tr style=\"text-align: right;\">\n",
       "      <th></th>\n",
       "      <th>Date</th>\n",
       "      <th>Open</th>\n",
       "      <th>High</th>\n",
       "      <th>Low</th>\n",
       "      <th>Close</th>\n",
       "      <th>Adj Close</th>\n",
       "      <th>Volume</th>\n",
       "    </tr>\n",
       "  </thead>\n",
       "  <tbody>\n",
       "    <tr>\n",
       "      <th>247</th>\n",
       "      <td>2022-10-20</td>\n",
       "      <td>82.997002</td>\n",
       "      <td>83.324997</td>\n",
       "      <td>82.546997</td>\n",
       "      <td>82.997002</td>\n",
       "      <td>82.997002</td>\n",
       "      <td>0</td>\n",
       "    </tr>\n",
       "  </tbody>\n",
       "</table>\n",
       "</div>"
      ],
      "text/plain": [
       "           Date       Open       High        Low      Close  Adj Close  Volume\n",
       "247  2022-10-20  82.997002  83.324997  82.546997  82.997002  82.997002       0"
      ]
     },
     "execution_count": 94,
     "metadata": {},
     "output_type": "execute_result"
    }
   ],
   "source": [
    "df[df['Close'] == df['Close'].max()]"
   ]
  },
  {
   "cell_type": "markdown",
   "metadata": {},
   "source": [
    "**Observation:** On 2022-10-20 value of INR was 82.997002 which is highest till date."
   ]
  },
  {
   "cell_type": "markdown",
   "metadata": {},
   "source": [
    "## 5. Data Preprocessing - Second Pass"
   ]
  },
  {
   "cell_type": "markdown",
   "metadata": {},
   "source": [
    "### 5.1. Removing redundant features"
   ]
  },
  {
   "cell_type": "markdown",
   "metadata": {},
   "source": [
    "We observed in section 5.3 that Volume has no correlation with any feature so we will drop it."
   ]
  },
  {
   "cell_type": "code",
   "execution_count": 97,
   "metadata": {},
   "outputs": [],
   "source": [
    "df.drop('Volume', inplace=True, axis=1)"
   ]
  },
  {
   "cell_type": "markdown",
   "metadata": {},
   "source": [
    "### 5.2. Treating Multicollinearity"
   ]
  },
  {
   "cell_type": "markdown",
   "metadata": {},
   "source": [
    "We can use methods such as:\n",
    "- PCA \n",
    "- Drop the correlated features (not possible here)\n",
    "- Ridge Regression\n",
    "- Centred variables using VIF\n",
    "\n",
    "But we are going to use the Ridge Regression to build our model which will drop the irrelevant features by itself."
   ]
  },
  {
   "cell_type": "markdown",
   "metadata": {},
   "source": [
    "## 6. Model "
   ]
  },
  {
   "cell_type": "markdown",
   "metadata": {},
   "source": [
    "### 6.1. Feature segregation"
   ]
  },
  {
   "cell_type": "code",
   "execution_count": 102,
   "metadata": {},
   "outputs": [],
   "source": [
    "y = df['Close']\n",
    "x = df[['Open', 'High', 'Low', 'Adj Close']]"
   ]
  },
  {
   "cell_type": "markdown",
   "metadata": {},
   "source": [
    "### 6.2. Train Test Split"
   ]
  },
  {
   "cell_type": "code",
   "execution_count": 116,
   "metadata": {},
   "outputs": [],
   "source": [
    "from sklearn.model_selection import train_test_split"
   ]
  },
  {
   "cell_type": "code",
   "execution_count": 105,
   "metadata": {},
   "outputs": [],
   "source": [
    "x_train, x_test, y_train, y_test = train_test_split(x, y, test_size=0.2, random_state=1)"
   ]
  },
  {
   "cell_type": "markdown",
   "metadata": {},
   "source": [
    "### 6.3. Feature Scaling"
   ]
  },
  {
   "cell_type": "code",
   "execution_count": 117,
   "metadata": {},
   "outputs": [],
   "source": [
    "from sklearn.preprocessing import StandardScaler"
   ]
  },
  {
   "cell_type": "code",
   "execution_count": 118,
   "metadata": {},
   "outputs": [],
   "source": [
    "scaler = StandardScaler()"
   ]
  },
  {
   "cell_type": "code",
   "execution_count": 119,
   "metadata": {},
   "outputs": [],
   "source": [
    "x_train = scaler.fit_transform(x_train)"
   ]
  },
  {
   "cell_type": "code",
   "execution_count": 120,
   "metadata": {},
   "outputs": [],
   "source": [
    "x_test = scaler.transform(x_test)"
   ]
  },
  {
   "cell_type": "code",
   "execution_count": 123,
   "metadata": {},
   "outputs": [
    {
     "data": {
      "text/plain": [
       "array([[-4.01183752e-01, -3.88349585e-01, -3.85870633e-01,\n",
       "        -3.99567997e-01],\n",
       "       [-7.93819419e-01, -8.91853414e-01, -8.85021673e-01,\n",
       "        -8.86217302e-01],\n",
       "       [-8.02375222e-01, -6.72846978e-01, -7.67832604e-01,\n",
       "        -8.00445906e-01],\n",
       "       [-5.84151340e-01, -4.62768237e-01, -5.18255884e-01,\n",
       "        -5.82392582e-01],\n",
       "       [-9.54208543e-01, -1.00126166e+00, -9.28218044e-01,\n",
       "        -9.52160559e-01],\n",
       "       [-1.05426933e+00, -1.10169735e+00, -1.06212595e+00,\n",
       "        -1.04913221e+00],\n",
       "       [-4.58653941e-02, -2.83383008e-02,  4.00112420e-02,\n",
       "        -4.45273466e-02],\n",
       "       [-9.88709436e-01, -9.88468634e-01, -1.08400511e+00,\n",
       "        -9.86634487e-01],\n",
       "       [-1.19996120e+00, -1.18048760e+00, -1.23919064e+00,\n",
       "        -1.19772115e+00],\n",
       "       [-5.64069227e-01, -6.18670000e-01, -6.03449938e-01,\n",
       "        -5.80652994e-01],\n",
       "       [-1.40986537e+00, -1.40671334e+00, -1.38365676e+00,\n",
       "        -1.40690554e+00],\n",
       "       [ 3.07394327e-01,  3.13378015e-01,  3.47462564e-01,\n",
       "         3.08456276e-01],\n",
       "       [ 1.72300958e+00,  1.68605726e+00,  1.55310850e+00,\n",
       "         1.72296512e+00],\n",
       "       [-5.18434580e-01, -5.44715499e-01, -5.64253594e-01,\n",
       "        -5.16727184e-01],\n",
       "       [-9.58645091e-01, -1.04521990e+00, -1.02820872e+00,\n",
       "        -9.58689457e-01],\n",
       "       [ 8.60975271e-01,  8.53002169e-01,  9.38526631e-01,\n",
       "         8.61604555e-01],\n",
       "       [ 1.78203230e+00,  1.79917013e+00,  1.80092779e+00,\n",
       "         1.78194171e+00],\n",
       "       [-1.46306433e+00, -1.44130977e+00, -1.40265499e+00,\n",
       "        -1.45416534e+00],\n",
       "       [ 9.42059915e-01,  9.07218151e-01,  9.63563895e-01,\n",
       "         9.42625826e-01],\n",
       "       [-1.21727246e+00, -1.16574242e+00, -1.15447894e+00,\n",
       "        -1.21501887e+00],\n",
       "       [ 9.42616068e-01,  9.20284983e-01,  1.02636044e+00,\n",
       "         9.43181545e-01],\n",
       "       [ 1.96721816e+00,  1.95889276e+00,  1.99510848e+00,\n",
       "         1.96698283e+00],\n",
       "       [-7.26240893e-01, -8.01639579e-01, -7.63713389e-01,\n",
       "        -8.43864761e-01],\n",
       "       [ 1.01169629e+00,  9.31985884e-01,  1.02503896e+00,\n",
       "         1.01220777e+00],\n",
       "       [-4.53512437e-01, -5.08053794e-01, -4.86059687e-01,\n",
       "        -4.51855783e-01],\n",
       "       [ 1.81158327e+00,  1.92971520e+00,  1.85524112e+00,\n",
       "         1.81146959e+00],\n",
       "       [ 9.50893795e-01,  9.30542335e-01,  9.58443573e-01,\n",
       "         9.51452802e-01],\n",
       "       [ 7.46060761e-01,  8.20435135e-01,  8.18619015e-01,\n",
       "         7.46779860e-01],\n",
       "       [-6.49354332e-01, -6.07903642e-01, -5.81329601e-01,\n",
       "        -6.47544613e-01],\n",
       "       [-9.62646303e-01, -1.00251135e+00, -1.07972391e+00,\n",
       "        -9.63400396e-01],\n",
       "       [-2.29272537e-02, -1.28937666e-02, -4.30542424e-03,\n",
       "        -2.16071341e-02],\n",
       "       [ 1.36548813e-01,  1.17302990e-01,  1.19682211e-01,\n",
       "         1.37744291e-01],\n",
       "       [ 2.12162626e+00,  2.06927416e+00,  1.98730880e+00,\n",
       "         2.12127026e+00],\n",
       "       [ 4.27079056e-02,  2.24051284e-02,  3.85709764e-02,\n",
       "         4.39767265e-02],\n",
       "       [-4.74465222e-01, -4.41744137e-01, -4.98378538e-01,\n",
       "        -4.72792192e-01],\n",
       "       [-6.52999035e-01, -6.63369322e-01, -6.60042659e-01,\n",
       "        -6.51186468e-01],\n",
       "       [-9.59989920e-01, -1.01510779e+00, -1.10160267e+00,\n",
       "        -9.86121120e-01],\n",
       "       [ 5.63289649e-01,  5.26147273e-01,  6.19516387e-01,\n",
       "         5.64151597e-01],\n",
       "       [ 7.92287608e-01,  8.97273224e-01,  8.54016114e-01,\n",
       "         7.92970577e-01],\n",
       "       [-8.19208752e-01, -8.57530796e-01, -7.85632144e-01,\n",
       "        -8.17109142e-01],\n",
       "       [-2.84129400e-01, -3.90024820e-01, -3.78870486e-01,\n",
       "        -2.84704116e-01],\n",
       "       [-1.06805313e+00, -1.07556407e+00, -1.04140949e+00,\n",
       "        -1.06591617e+00],\n",
       "       [ 8.83829038e-01,  8.71139560e-01,  9.14609262e-01,\n",
       "         8.84440460e-01],\n",
       "       [-1.12156978e+00, -1.14058503e+00, -1.10040358e+00,\n",
       "        -1.11943018e+00],\n",
       "       [-3.75712818e-01, -3.69586955e-01, -3.46152738e-01,\n",
       "        -3.74116971e-01],\n",
       "       [-3.97738694e-01, -3.78481887e-01, -3.51273060e-01,\n",
       "        -3.96125631e-01],\n",
       "       [-4.18138099e-01, -2.34905874e-01, -3.47593003e-01,\n",
       "        -4.17578177e-01],\n",
       "       [-1.20332823e+00, -1.22046740e+00, -1.19803248e+00,\n",
       "        -1.19566174e+00],\n",
       "       [ 1.93018170e+00,  1.89843374e+00,  1.90191637e+00,\n",
       "         1.92997532e+00],\n",
       "       [-2.18605016e-02,  2.39672508e-02,  2.18917322e-02,\n",
       "        -2.05412157e-02],\n",
       "       [ 1.95545616e+00,  1.90650998e+00,  1.92631609e+00,\n",
       "         1.95523003e+00],\n",
       "       [ 8.89773615e-01,  8.12516482e-01,  9.65004161e-01,\n",
       "         8.90380392e-01],\n",
       "       [-5.36579664e-01, -5.57588870e-01, -4.93059834e-01,\n",
       "        -5.34858087e-01],\n",
       "       [ 1.86803121e+00,  1.89032163e+00,  1.93351462e+00,\n",
       "         1.86787341e+00],\n",
       "       [-1.20657681e+00, -1.19179846e+00, -1.18779463e+00,\n",
       "        -1.20441035e+00],\n",
       "       [-9.73816104e-01, -9.74815568e-01, -9.68695868e-01,\n",
       "        -9.71752794e-01],\n",
       "       [-1.20515038e+00, -1.22475554e+00, -1.20471225e+00,\n",
       "        -1.20243209e+00],\n",
       "       [ 6.64934127e-01,  6.75921849e-01,  6.51435010e-01,\n",
       "         6.65716633e-01],\n",
       "       [ 2.06308126e+00,  2.05472516e+00,  2.12041719e+00,\n",
       "         2.06277101e+00],\n",
       "       [-1.38807875e+00, -1.38693621e+00, -1.36557645e+00,\n",
       "        -1.38561290e+00],\n",
       "       [ 6.80739725e-01,  6.51663123e-01,  6.43794123e-01,\n",
       "         6.81509877e-01],\n",
       "       [ 9.86981150e-01,  9.36782634e-01,  8.57015834e-01,\n",
       "         9.87511952e-01],\n",
       "       [-1.10152372e+00, -1.09764129e+00, -1.06840577e+00,\n",
       "        -1.09948132e+00],\n",
       "       [-7.09404590e-01, -7.92509842e-01, -8.29829621e-01,\n",
       "        -7.07547938e-01],\n",
       "       [ 1.63974627e+00,  1.59993498e+00,  1.59846587e+00,\n",
       "         1.63976689e+00],\n",
       "       [-4.38832079e-02, -1.16254782e-01, -7.08976127e-02,\n",
       "        -4.25467096e-02],\n",
       "       [-7.91561929e-01, -8.64746983e-01, -8.12829607e-01,\n",
       "        -7.89641065e-01],\n",
       "       [ 1.90043465e+00,  1.89461288e+00,  1.94575388e+00,\n",
       "         1.90025152e+00],\n",
       "       [-1.21053603e+00, -1.17650877e+00, -1.18935409e+00,\n",
       "        -1.21109915e+00],\n",
       "       [ 1.42045524e+00,  1.39598030e+00,  1.39788338e+00,\n",
       "         1.42064725e+00],\n",
       "       [-4.56640203e-01, -4.49546558e-01, -4.68663310e-01,\n",
       "        -4.54981105e-01],\n",
       "       [ 5.84045959e-01,  5.01691964e-01,  6.22635296e-01,\n",
       "         5.84891684e-01],\n",
       "       [ 8.90565460e-01,  8.84009810e-01,  9.46124722e-01,\n",
       "         8.91171618e-01],\n",
       "       [-6.19169170e-01, -6.61729581e-01, -6.32646414e-01,\n",
       "        -6.17383043e-01],\n",
       "       [ 2.77804534e-01,  2.52647924e-01,  2.66470119e-01,\n",
       "         2.78889609e-01],\n",
       "       [-3.65930230e-01, -3.57886444e-01, -4.44504764e-01,\n",
       "        -3.64381214e-01],\n",
       "       [ 8.41999126e-01,  8.01788738e-01,  8.60854676e-01,\n",
       "         8.42643242e-01],\n",
       "       [-7.28063443e-01, -6.78697623e-01, -6.87041740e-01,\n",
       "        -7.29082021e-01],\n",
       "       [ 7.44317039e-01,  7.14342259e-01,  6.93231111e-01,\n",
       "         7.45037501e-01],\n",
       "       [-6.06016390e-01, -5.77949116e-01, -5.59054079e-01,\n",
       "        -6.04240543e-01],\n",
       "       [ 8.87512957e-01,  9.09753431e-01,  9.18609689e-01,\n",
       "         8.88121500e-01],\n",
       "       [-6.63573467e-01, -6.48469288e-01, -7.44516379e-01,\n",
       "        -6.61713450e-01],\n",
       "       [-3.77574584e-01, -4.52939152e-01, -3.76670291e-01,\n",
       "        -3.75977281e-01],\n",
       "       [ 5.79609411e-01,  6.48229184e-01,  6.49832759e-01,\n",
       "         5.80458603e-01],\n",
       "       [ 7.49506216e-01,  6.97883223e-01,  6.55993785e-01,\n",
       "         7.50222621e-01],\n",
       "       [-1.17627360e+00, -1.03094510e+00, -1.12720148e+00,\n",
       "        -1.17444787e+00],\n",
       "       [ 1.68284535e+00,  1.69822543e+00,  1.68237805e+00,\n",
       "         1.68283228e+00],\n",
       "       [ 9.23443448e-01,  9.59366125e-01,  9.23248056e-01,\n",
       "         9.24023909e-01],\n",
       "       [-1.35444814e+00, -1.36193367e+00, -1.41785437e+00,\n",
       "        -1.35208733e+00],\n",
       "       [ 6.20964770e-01,  5.81532604e-01,  6.35234521e-01,\n",
       "         6.21781641e-01],\n",
       "       [-6.20752463e-01, -6.25338566e-01, -5.78650651e-01,\n",
       "        -6.18965099e-01],\n",
       "       [-1.08445133e+00, -1.13996018e+00, -1.11460226e+00,\n",
       "        -1.07976796e+00],\n",
       "       [ 8.73846805e-01,  7.74134686e-01,  8.25216400e-01,\n",
       "         8.74466029e-01],\n",
       "       [ 1.86906152e+00,  1.91918403e+00,  1.88863961e+00,\n",
       "         1.86890291e+00],\n",
       "       [ 6.61410241e-01,  7.51239160e-01,  7.42426923e-01,\n",
       "         6.62195500e-01],\n",
       "       [ 9.39246273e-01,  8.96413179e-01,  9.22967282e-01,\n",
       "         9.39814383e-01],\n",
       "       [-1.16953718e+00, -1.07911425e+00, -1.10628063e+00,\n",
       "        -1.17001479e+00],\n",
       "       [ 1.92165693e-01,  1.61261620e-01,  2.28033704e-01,\n",
       "         1.93317702e-01],\n",
       "       [ 1.01977754e+00,  1.30763789e+00,  1.05559651e+00,\n",
       "         1.02028271e+00],\n",
       "       [ 9.19203376e-01,  8.84322625e-01,  9.78961659e-01,\n",
       "         9.19787151e-01],\n",
       "       [ 1.87115898e+00,  2.00011953e+00,  1.93191557e+00,\n",
       "         1.87099873e+00],\n",
       "       [-1.21659826e+00, -1.24055384e+00, -1.20667407e+00,\n",
       "        -1.21438438e+00],\n",
       "       [ 9.53308149e-01,  9.26135239e-01,  9.70405257e-01,\n",
       "         9.53865268e-01],\n",
       "       [-1.19500812e+00, -1.25077297e+00, -1.22707017e+00,\n",
       "        -1.19312816e+00],\n",
       "       [ 8.42198771e-01,  7.98006491e-01,  8.37455658e-01,\n",
       "         8.42842730e-01],\n",
       "       [ 1.96832730e+00,  1.86890788e+00,  1.85360247e+00,\n",
       "         1.96809110e+00],\n",
       "       [-1.12358841e+00, -7.24721142e-01, -1.06400578e+00,\n",
       "        -1.12409876e+00],\n",
       "       [-4.62463964e-01, -4.53837812e-01, -4.22427223e-01,\n",
       "        -4.60800314e-01],\n",
       "       [-1.11693359e+00, -1.15630337e+00, -1.08464265e+00,\n",
       "        -1.11408515e+00],\n",
       "       [ 7.69731070e-02,  5.74329435e-02,  1.22483549e-01,\n",
       "         7.82151471e-02],\n",
       "       [ 1.81310015e-01,  2.00381377e-01,  2.33072034e-01,\n",
       "         1.82470509e-01],\n",
       "       [-1.45015081e+00, -1.45281409e+00, -1.43677061e+00,\n",
       "        -1.44775439e+00],\n",
       "       [-1.10493273e+00, -1.18282669e+00, -1.17459706e+00,\n",
       "        -1.10454532e+00],\n",
       "       [-5.75199812e-01, -5.93080836e-01, -6.12247117e-01,\n",
       "        -5.73448051e-01],\n",
       "       [ 4.46909494e-01,  5.63317594e-01,  5.11247286e-01,\n",
       "         4.47862401e-01],\n",
       "       [-5.31348103e-01, -4.98495399e-01, -5.56374729e-01,\n",
       "        -5.29630615e-01],\n",
       "       [ 6.09706376e-02,  5.48173149e-02,  9.48857235e-02,\n",
       "         6.22251849e-02],\n",
       "       [ 1.00104342e+00,  9.79768107e-01,  9.88403178e-01,\n",
       "         1.00156323e+00],\n",
       "       [-1.20677329e+00, -1.23938449e+00, -1.17219569e+00,\n",
       "        -1.20452790e+00],\n",
       "       [ 2.83945587e-01,  2.57602641e-01,  3.40062454e-01,\n",
       "         2.85025863e-01],\n",
       "       [-7.99283503e-01, -8.86785584e-01, -9.13220243e-01,\n",
       "        -7.97356603e-01],\n",
       "       [-4.11511659e-02, -5.48099862e-03, -5.30613090e-03,\n",
       "        -3.98168030e-02],\n",
       "       [ 6.32569511e-01,  5.12729402e-01,  5.25006403e-01,\n",
       "         6.33377312e-01],\n",
       "       [-6.29625558e-01, -4.81685324e-01, -5.61852218e-01,\n",
       "        -6.25892578e-01],\n",
       "       [ 9.53665053e-01,  9.12289101e-01,  8.85211204e-01,\n",
       "         9.54221894e-01],\n",
       "       [ 3.82183827e-01,  4.99427374e-01,  4.48252762e-01,\n",
       "         3.83187322e-01],\n",
       "       [ 2.71071280e-01,  2.35876463e-01,  2.55671126e-01,\n",
       "         2.72161618e-01],\n",
       "       [-5.71277033e-01, -5.69289381e-01, -6.89962268e-01,\n",
       "        -5.69528337e-01],\n",
       "       [-3.77178860e-01, -3.67248257e-01, -3.34673008e-01,\n",
       "        -3.75581866e-01],\n",
       "       [-7.43512532e-01, -6.96287394e-01, -7.19237937e-01,\n",
       "        -7.41668803e-01],\n",
       "       [-3.99678891e-01, -4.64759017e-01, -4.48663976e-01,\n",
       "        -3.98064312e-01],\n",
       "       [-1.25395241e+00, -1.17974652e+00, -1.20959140e+00,\n",
       "        -1.25487701e+00],\n",
       "       [ 8.76699664e-01,  8.57605847e-01,  9.18127734e-01,\n",
       "         8.77316658e-01],\n",
       "       [-5.86846939e-01, -6.87511816e-01, -7.69553644e-01,\n",
       "        -5.85086074e-01],\n",
       "       [ 1.35639321e-01,  1.69569927e-01,  1.77876782e-01,\n",
       "         1.36835509e-01],\n",
       "       [ 8.52181003e-01,  7.68168198e-01,  8.72334005e-01,\n",
       "         8.52817161e-01],\n",
       "       [ 1.30368544e-01,  1.03263391e-01,  3.16928179e-02,\n",
       "         1.31568852e-01],\n",
       "       [-5.25445910e-01, -5.83332490e-01, -5.25457213e-01,\n",
       "        -5.23733035e-01],\n",
       "       [ 2.18686887e+00,  2.17095682e+00,  2.10269724e+00,\n",
       "         2.18646187e+00],\n",
       "       [-1.12105284e+00, -1.16004974e+00, -1.10020240e+00,\n",
       "        -1.12045968e+00],\n",
       "       [-9.59119643e-01, -9.95607592e-01, -9.78613343e-01,\n",
       "        -9.57107005e-01],\n",
       "       [-1.16510063e+00, -1.22631766e+00, -1.23363076e+00,\n",
       "        -1.16293017e+00],\n",
       "       [ 1.58619040e+00,  1.53620234e+00,  1.52387243e+00,\n",
       "         1.58625288e+00],\n",
       "       [-6.17546265e-01, -6.31578864e-01, -6.10450085e-01,\n",
       "        -6.15761407e-01],\n",
       "       [-8.68091982e-01, -7.27021616e-01, -8.30949517e-01,\n",
       "        -8.66111304e-01],\n",
       "       [-1.19904854e+00, -1.21169183e+00, -1.19719335e+00,\n",
       "        -1.19684878e+00],\n",
       "       [-5.66683225e-01, -4.97989513e-01, -5.10459412e-01,\n",
       "        -5.64343217e-01],\n",
       "       [-1.13024323e+00, -1.13114599e+00, -1.11580135e+00,\n",
       "        -1.12805766e+00],\n",
       "       [-1.21136987e+00, -1.21761931e+00, -1.22638983e+00,\n",
       "        -1.20868629e+00],\n",
       "       [-6.07642464e-01, -6.97379515e-01, -7.71634650e-01,\n",
       "        -6.97812181e-01],\n",
       "       [ 8.32691090e-01,  7.78309707e-01,  6.86832108e-01,\n",
       "         8.33342481e-01],\n",
       "       [-1.24761488e+00, -1.25997681e+00, -1.19839244e+00,\n",
       "        -1.24715830e+00],\n",
       "       [ 9.39920073e-01,  8.79251675e-01,  7.23467891e-01,\n",
       "         9.40487657e-01],\n",
       "       [-1.31519340e+00, -1.32577746e+00, -1.26590655e+00,\n",
       "        -1.22463667e+00],\n",
       "       [ 8.63207547e-02,  3.39511824e-02,  1.03085359e-01,\n",
       "         8.75554890e-02],\n",
       "       [ 8.46792182e-01,  8.49490611e-01,  9.06410027e-01,\n",
       "         8.47432552e-01],\n",
       "       [-8.11585278e-02, -9.38265269e-02, -5.40991796e-02,\n",
       "        -7.97928961e-02],\n",
       "       [ 2.09358055e+00,  2.09782375e+00,  2.05590280e+00,\n",
       "         2.09324646e+00],\n",
       "       [-6.80370554e-01, -7.70747780e-01, -7.55034998e-01,\n",
       "        -6.78536594e-01],\n",
       "       [ 8.22590814e-01,  7.88255025e-01,  7.88421832e-01,\n",
       "         8.23250099e-01],\n",
       "       [-2.70227557e-01, -2.81241817e-01, -3.20715510e-01,\n",
       "        -2.68714154e-01],\n",
       "       [ 7.92840592e-01,  8.19575090e-01,  8.39414676e-01,\n",
       "         7.93523129e-01],\n",
       "       [-4.73794194e-01, -4.67213948e-01, -4.29665348e-01,\n",
       "        -4.72121689e-01],\n",
       "       [ 1.49674683e+00,  1.54396341e+00,  1.37716692e+00,\n",
       "         1.49687921e+00],\n",
       "       [ 9.58143590e-01,  9.29450214e-01,  1.00260145e+00,\n",
       "         9.58696930e-01],\n",
       "       [-1.30742944e+00, -1.27787940e+00, -1.25258979e+00,\n",
       "        -1.30561876e+00],\n",
       "       [ 9.83493707e-01,  9.24575847e-01,  1.03335739e+00,\n",
       "         9.84027234e-01],\n",
       "       [-1.15690174e+00, -1.12978006e+00, -1.14267884e+00,\n",
       "        -1.15465615e+00],\n",
       "       [-3.70167530e-01, -2.69035030e-01, -3.29275112e-01,\n",
       "        -3.68576016e-01],\n",
       "       [-1.30778595e+00, -1.30705696e+00, -1.29518541e+00,\n",
       "        -1.30546162e+00],\n",
       "       [-1.01960801e+00, -9.51687966e-01, -9.54897156e-01,\n",
       "        -1.02039873e+00],\n",
       "       [-8.29112156e-01, -7.23941446e-01, -7.77234127e-01,\n",
       "        -8.27122758e-01],\n",
       "       [-1.08195498e+00, -1.07455230e+00, -1.05668806e+00,\n",
       "        -1.07957164e+00],\n",
       "       [-1.12196551e+00, -1.10423302e+00, -1.08176532e+00,\n",
       "        -1.11978641e+00],\n",
       "       [-1.27419455e+00, -1.33545209e+00, -1.30858416e+00,\n",
       "        -1.27181494e+00],\n",
       "       [ 1.36153089e-01,  9.78027880e-02, -3.05021807e-02,\n",
       "         1.37348876e-01],\n",
       "       [ 9.96037954e-04, -4.31164959e-03,  5.80883558e-02,\n",
       "         2.29745977e-03],\n",
       "       [-2.22535064e-01, -1.84317292e-01, -3.89547490e-01,\n",
       "        -2.21058937e-01],\n",
       "       [-5.44422054e-01, -4.87809390e-01, -5.25057650e-01,\n",
       "        -5.42694348e-01],\n",
       "       [ 7.83293696e-01,  8.80421024e-01,  8.56655468e-01,\n",
       "         7.83983694e-01],\n",
       "       [ 1.95858392e+00,  1.94668324e+00,  1.93931208e+00,\n",
       "         1.95835535e+00],\n",
       "       [ 9.13736123e-01,  8.61584286e-01,  9.68003881e-01,\n",
       "         9.14324171e-01],\n",
       "       [-7.67635468e-01, -8.65800489e-01, -8.78222707e-01,\n",
       "        -7.65733304e-01],\n",
       "       [-1.27585667e+00, -1.22666870e+00, -1.25758812e+00,\n",
       "        -1.27367841e+00],\n",
       "       [ 8.32466031e-03, -1.36734626e-02,  7.14871060e-02,\n",
       "         9.62035427e-03],\n",
       "       [ 1.67921940e-01,  1.97262593e-01,  2.36874079e-01,\n",
       "         1.69092897e-01],\n",
       "       [ 2.01709817e-01,  1.79202430e-01,  2.70067783e-01,\n",
       "         2.02854366e-01],\n",
       "       [ 1.60231369e+00,  1.67833207e+00,  1.64846121e+00,\n",
       "         1.60236356e+00],\n",
       "       [ 1.35518504e-01,  8.22006764e-02,  5.24092856e-02,\n",
       "         1.36714787e-01],\n",
       "       [ 8.20965136e-01,  8.09707392e-01,  7.95821542e-01,\n",
       "         8.21625691e-01],\n",
       "       [ 4.86100986e-02,  7.12408571e-02,  5.86894998e-02,\n",
       "         4.98743065e-02],\n",
       "       [-7.16812041e-01, -6.97028476e-01, -6.91240549e-01,\n",
       "        -7.14949599e-01],\n",
       "       [-8.25905958e-01, -8.86434546e-01, -8.12628426e-01,\n",
       "        -8.23958252e-01],\n",
       "       [ 9.51489164e-01,  9.08973735e-01,  9.67204356e-01,\n",
       "         9.52047705e-01],\n",
       "       [-6.52720959e-01, -5.85084954e-01, -6.08649453e-01,\n",
       "        -6.51542697e-01],\n",
       "       [ 3.96694048e-03,  6.02393032e-02,  7.60886768e-02,\n",
       "         5.26604032e-03],\n",
       "       [ 1.65282022e+00,  1.84195629e+00,  1.65914141e+00,\n",
       "         1.65283062e+00],\n",
       "       [-9.11665615e-01, -9.62531552e-01, -9.29820295e-01,\n",
       "        -9.09650881e-01],\n",
       "       [ 9.67173945e-01,  9.34443545e-01,  9.88802741e-01,\n",
       "         9.67720227e-01],\n",
       "       [-2.05501890e-01, -9.36330656e-02, -1.44892711e-01,\n",
       "        -2.04039075e-01],\n",
       "       [ 8.54500822e-02,  2.74756879e-02,  6.92077186e-02,\n",
       "         8.66854970e-02],\n",
       "       [ 6.50436519e-01,  7.96057445e-01,  6.87430052e-01,\n",
       "         6.51230355e-01],\n",
       "       [-9.59040815e-01, -7.69575311e-01, -9.55815470e-01,\n",
       "        -9.51921885e-01],\n",
       "       [-1.28665894e-02, -7.82244153e-02, -1.31849960e-02,\n",
       "        -1.15543329e-02],\n",
       "       [ 9.07280946e-01,  9.17945895e-01,  9.46845055e-01,\n",
       "         9.07874039e-01],\n",
       "       [ 2.08070624e+00,  2.07180944e+00,  2.08530086e+00,\n",
       "         2.08038222e+00],\n",
       "       [-9.61298305e-01, -9.57966879e-01, -9.37299197e-01,\n",
       "        -9.62213360e-01],\n",
       "       [ 1.59189652e+00,  1.59798593e+00,  1.59298518e+00,\n",
       "         1.59195453e+00],\n",
       "       [-1.15112036e+00, -1.21414676e+00, -1.19819406e+00,\n",
       "        -1.14891847e+00]])"
      ]
     },
     "execution_count": 123,
     "metadata": {},
     "output_type": "execute_result"
    }
   ],
   "source": [
    "x_train"
   ]
  },
  {
   "cell_type": "markdown",
   "metadata": {},
   "source": [
    "### 6.4. Simple Linear Regression Model Training"
   ]
  },
  {
   "cell_type": "code",
   "execution_count": 124,
   "metadata": {},
   "outputs": [],
   "source": [
    "from sklearn.linear_model import LinearRegression"
   ]
  },
  {
   "cell_type": "code",
   "execution_count": 125,
   "metadata": {},
   "outputs": [],
   "source": [
    "simple_reg_model = LinearRegression()"
   ]
  },
  {
   "cell_type": "code",
   "execution_count": 128,
   "metadata": {},
   "outputs": [
    {
     "data": {
      "text/plain": [
       "LinearRegression()"
      ]
     },
     "execution_count": 128,
     "metadata": {},
     "output_type": "execute_result"
    }
   ],
   "source": [
    "simple_reg_model.fit(x_train, y_train)"
   ]
  },
  {
   "cell_type": "markdown",
   "metadata": {},
   "source": [
    "### 6.5. Ridge Regression Model Training"
   ]
  },
  {
   "cell_type": "code",
   "execution_count": 129,
   "metadata": {},
   "outputs": [],
   "source": [
    "from sklearn.linear_model import Ridge"
   ]
  },
  {
   "cell_type": "code",
   "execution_count": 131,
   "metadata": {},
   "outputs": [],
   "source": [
    "ridge_reg_model = Ridge()"
   ]
  },
  {
   "cell_type": "code",
   "execution_count": 132,
   "metadata": {},
   "outputs": [
    {
     "data": {
      "text/plain": [
       "Ridge()"
      ]
     },
     "execution_count": 132,
     "metadata": {},
     "output_type": "execute_result"
    }
   ],
   "source": [
    "ridge_reg_model.fit(x_train, y_train)"
   ]
  },
  {
   "cell_type": "markdown",
   "metadata": {},
   "source": [
    "### 6.6. Value of coefficients(slopes) and intercept of the models"
   ]
  },
  {
   "cell_type": "markdown",
   "metadata": {},
   "source": [
    "#### 6.6.1. Linear Model"
   ]
  },
  {
   "cell_type": "code",
   "execution_count": 135,
   "metadata": {},
   "outputs": [
    {
     "data": {
      "text/plain": [
       "array([-1.42083258e-16, -2.85066883e-15,  6.28386348e-15,  2.52645999e+00])"
      ]
     },
     "execution_count": 135,
     "metadata": {},
     "output_type": "execute_result"
    }
   ],
   "source": [
    "simple_reg_model.coef_"
   ]
  },
  {
   "cell_type": "code",
   "execution_count": 136,
   "metadata": {},
   "outputs": [
    {
     "data": {
      "text/plain": [
       "77.47299355980864"
      ]
     },
     "execution_count": 136,
     "metadata": {},
     "output_type": "execute_result"
    }
   ],
   "source": [
    "simple_reg_model.intercept_"
   ]
  },
  {
   "cell_type": "markdown",
   "metadata": {},
   "source": [
    "#### 6.6.2. Ridge Model"
   ]
  },
  {
   "cell_type": "code",
   "execution_count": 137,
   "metadata": {},
   "outputs": [
    {
     "data": {
      "text/plain": [
       "array([0.84682036, 0.36217582, 0.42829901, 0.88658326])"
      ]
     },
     "execution_count": 137,
     "metadata": {},
     "output_type": "execute_result"
    }
   ],
   "source": [
    "ridge_reg_model.coef_"
   ]
  },
  {
   "cell_type": "code",
   "execution_count": 138,
   "metadata": {},
   "outputs": [
    {
     "data": {
      "text/plain": [
       "77.47299355980863"
      ]
     },
     "execution_count": 138,
     "metadata": {},
     "output_type": "execute_result"
    }
   ],
   "source": [
    "ridge_reg_model.intercept_"
   ]
  },
  {
   "cell_type": "markdown",
   "metadata": {},
   "source": [
    "### 6.7. Performance metrics "
   ]
  },
  {
   "cell_type": "markdown",
   "metadata": {},
   "source": [
    "#### 6.7.1. Linear Model"
   ]
  },
  {
   "cell_type": "code",
   "execution_count": 140,
   "metadata": {},
   "outputs": [],
   "source": [
    "from sklearn.metrics import r2_score"
   ]
  },
  {
   "cell_type": "code",
   "execution_count": 141,
   "metadata": {},
   "outputs": [],
   "source": [
    "simple_y_pred = simple_reg_model.predict(x_test)"
   ]
  },
  {
   "cell_type": "code",
   "execution_count": 142,
   "metadata": {},
   "outputs": [],
   "source": [
    "r_squared = r2_score(y_test, simple_y_pred)"
   ]
  },
  {
   "cell_type": "code",
   "execution_count": 152,
   "metadata": {},
   "outputs": [],
   "source": [
    "adj_r_squared = 1 - ((1-r_squared)*(len(y_test)-1)/((len(y_test-1) - x_test.shape[1]-1)))"
   ]
  },
  {
   "cell_type": "code",
   "execution_count": 154,
   "metadata": {},
   "outputs": [
    {
     "data": {
      "text/plain": [
       "(1.0, 1.0)"
      ]
     },
     "execution_count": 154,
     "metadata": {},
     "output_type": "execute_result"
    }
   ],
   "source": [
    "r_squared, adj_r_squared"
   ]
  },
  {
   "cell_type": "markdown",
   "metadata": {},
   "source": [
    "#### 6.7.2. Ridge Model"
   ]
  },
  {
   "cell_type": "code",
   "execution_count": 155,
   "metadata": {},
   "outputs": [],
   "source": [
    "ridge_y_pred = ridge_reg_model.predict(x_test)"
   ]
  },
  {
   "cell_type": "code",
   "execution_count": 156,
   "metadata": {},
   "outputs": [],
   "source": [
    "r_squared = r2_score(y_test, ridge_y_pred)"
   ]
  },
  {
   "cell_type": "code",
   "execution_count": 159,
   "metadata": {},
   "outputs": [],
   "source": [
    "adj_r_squared = 1 - ((1-r_squared)*(len(y_test)-1)/((len(y_test-1) - x_test.shape[1]-1)))"
   ]
  },
  {
   "cell_type": "code",
   "execution_count": 160,
   "metadata": {},
   "outputs": [
    {
     "data": {
      "text/plain": [
       "(0.9995404444702144, 0.9995021481760656)"
      ]
     },
     "execution_count": 160,
     "metadata": {},
     "output_type": "execute_result"
    }
   ],
   "source": [
    "r_squared, adj_r_squared"
   ]
  },
  {
   "cell_type": "markdown",
   "metadata": {},
   "source": [
    "## 7. Pickling"
   ]
  },
  {
   "cell_type": "markdown",
   "metadata": {},
   "source": [
    "## 7.1 Dumping the models"
   ]
  },
  {
   "cell_type": "code",
   "execution_count": 161,
   "metadata": {},
   "outputs": [],
   "source": [
    "import pickle"
   ]
  },
  {
   "cell_type": "code",
   "execution_count": 163,
   "metadata": {},
   "outputs": [],
   "source": [
    "model_simp = pickle.dump(simple_reg_model, open('simple_reg_model.sav', 'wb'))"
   ]
  },
  {
   "cell_type": "code",
   "execution_count": 164,
   "metadata": {},
   "outputs": [],
   "source": [
    "model_ridge = pickle.dump(ridge_reg_model, open('ridge_reg_model.sav', 'wb'))"
   ]
  },
  {
   "cell_type": "markdown",
   "metadata": {},
   "source": [
    "## 7.2 Loading the models"
   ]
  },
  {
   "cell_type": "code",
   "execution_count": null,
   "metadata": {},
   "outputs": [],
   "source": [
    "# simp_reg_model = pickle.load(open('simple_reg_model.sav'))\n",
    "# ridge_reg_model = pickle.load(open('ridge_reg_model.sav'))"
   ]
  }
 ],
 "metadata": {
  "kernelspec": {
   "display_name": "Python 3.9.12 ('base')",
   "language": "python",
   "name": "python3"
  },
  "language_info": {
   "codemirror_mode": {
    "name": "ipython",
    "version": 3
   },
   "file_extension": ".py",
   "mimetype": "text/x-python",
   "name": "python",
   "nbconvert_exporter": "python",
   "pygments_lexer": "ipython3",
   "version": "3.9.7"
  },
  "orig_nbformat": 4,
  "vscode": {
   "interpreter": {
    "hash": "198dc38c81252feb4faa0d475279f5f6c993dd4570bd3709069413259282040c"
   }
  }
 },
 "nbformat": 4,
 "nbformat_minor": 2
}
