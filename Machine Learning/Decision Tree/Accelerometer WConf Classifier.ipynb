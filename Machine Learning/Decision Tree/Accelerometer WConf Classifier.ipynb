{
 "cells": [
  {
   "cell_type": "markdown",
   "metadata": {},
   "source": [
    "# Accelerometer Weight Configuration Classifier"
   ]
  },
  {
   "cell_type": "markdown",
   "metadata": {},
   "source": [
    "By `Abhijeet Srivastav`\n",
    "\n",
    "**Aim**\n",
    "\n",
    "Predicting the type of weight configuration of blade based on Motor fault detection dataset.\n",
    "\n",
    "**Dataset Information**\n",
    "- Dataset has 153000 rows and 5 columns\n",
    "- Dataset [Source](https://archive.ics.uci.edu/ml/datasets/Accelerometer#)\n",
    "\n",
    "\n",
    "**Devices used**\n",
    "\n",
    "Akasa AK-FN059 12cm Viper cooling fan (Generate the vibrations)\n",
    "MMA8452Q accelerometer (Measure vibration)\n",
    "\n",
    "**Data Collection Method**\n",
    "\n",
    "17 rotation speeds were set up, ranging from 20% to 100% of the cooler maximum speed at 5% intervals; for the three weight distribution configurations in the cooler blades. Note that the Akasa AK-FN059 cooler has 1900 rpm of max rotation speed.\n",
    "\n",
    "The vibration measurements were collected at a frequency of 20 ms for 1 min for each percentage, generating 3000 records per speed. Thus, in total, 153,000 vibration records were collected from the simulation model.\n",
    "\n",
    "**Attribute Information**\n",
    "\n",
    "1. wconfid: Weight configuration ID \n",
    "    - 'Red' encoded as 1 is normal configuration\n",
    "    - 'Blue' encoded as 2 is perpendicular configuration\n",
    "    - 'Green' encoded as 3 is opposite configuration\n",
    "2. pctid: Cooler fan RPM speed percentage ID (in percentage)\n",
    "3. x: Accelerometer x value\n",
    "4. y: Accelerometer y value\n",
    "5. z: Accelerometer z value\n",
    "\n",
    "**Target Feature**\n",
    "- Our target is to predict the Weight configuration ID (wconfid)"
   ]
  },
  {
   "cell_type": "markdown",
   "metadata": {},
   "source": [
    "# 0. Required Imports"
   ]
  },
  {
   "cell_type": "code",
   "execution_count": 1,
   "metadata": {},
   "outputs": [],
   "source": [
    "import pandas as pd\n",
    "import numpy as np\n",
    "import matplotlib.pyplot as plt\n",
    "import seaborn as sns\n",
    "from scipy import stats\n",
    "import warnings"
   ]
  },
  {
   "cell_type": "code",
   "execution_count": 2,
   "metadata": {},
   "outputs": [],
   "source": [
    "warnings.filterwarnings('ignore')\n",
    "%matplotlib inline"
   ]
  },
  {
   "cell_type": "markdown",
   "metadata": {},
   "source": [
    "# 1. Data Collection"
   ]
  },
  {
   "cell_type": "code",
   "execution_count": 3,
   "metadata": {},
   "outputs": [],
   "source": [
    "df = pd.read_csv('../../Dataset/accelerometer.csv')"
   ]
  },
  {
   "cell_type": "code",
   "execution_count": 4,
   "metadata": {},
   "outputs": [
    {
     "data": {
      "text/html": [
       "<div>\n",
       "<style scoped>\n",
       "    .dataframe tbody tr th:only-of-type {\n",
       "        vertical-align: middle;\n",
       "    }\n",
       "\n",
       "    .dataframe tbody tr th {\n",
       "        vertical-align: top;\n",
       "    }\n",
       "\n",
       "    .dataframe thead th {\n",
       "        text-align: right;\n",
       "    }\n",
       "</style>\n",
       "<table border=\"1\" class=\"dataframe\">\n",
       "  <thead>\n",
       "    <tr style=\"text-align: right;\">\n",
       "      <th></th>\n",
       "      <th>wconfid</th>\n",
       "      <th>pctid</th>\n",
       "      <th>x</th>\n",
       "      <th>y</th>\n",
       "      <th>z</th>\n",
       "    </tr>\n",
       "  </thead>\n",
       "  <tbody>\n",
       "    <tr>\n",
       "      <th>0</th>\n",
       "      <td>1</td>\n",
       "      <td>20</td>\n",
       "      <td>1.004</td>\n",
       "      <td>0.090</td>\n",
       "      <td>-0.125</td>\n",
       "    </tr>\n",
       "    <tr>\n",
       "      <th>1</th>\n",
       "      <td>1</td>\n",
       "      <td>20</td>\n",
       "      <td>1.004</td>\n",
       "      <td>-0.043</td>\n",
       "      <td>-0.125</td>\n",
       "    </tr>\n",
       "    <tr>\n",
       "      <th>2</th>\n",
       "      <td>1</td>\n",
       "      <td>20</td>\n",
       "      <td>0.969</td>\n",
       "      <td>0.090</td>\n",
       "      <td>-0.121</td>\n",
       "    </tr>\n",
       "    <tr>\n",
       "      <th>3</th>\n",
       "      <td>1</td>\n",
       "      <td>20</td>\n",
       "      <td>0.973</td>\n",
       "      <td>-0.012</td>\n",
       "      <td>-0.137</td>\n",
       "    </tr>\n",
       "    <tr>\n",
       "      <th>4</th>\n",
       "      <td>1</td>\n",
       "      <td>20</td>\n",
       "      <td>1.000</td>\n",
       "      <td>-0.016</td>\n",
       "      <td>-0.121</td>\n",
       "    </tr>\n",
       "  </tbody>\n",
       "</table>\n",
       "</div>"
      ],
      "text/plain": [
       "   wconfid  pctid      x      y      z\n",
       "0        1     20  1.004  0.090 -0.125\n",
       "1        1     20  1.004 -0.043 -0.125\n",
       "2        1     20  0.969  0.090 -0.121\n",
       "3        1     20  0.973 -0.012 -0.137\n",
       "4        1     20  1.000 -0.016 -0.121"
      ]
     },
     "execution_count": 4,
     "metadata": {},
     "output_type": "execute_result"
    }
   ],
   "source": [
    "df.head()"
   ]
  },
  {
   "cell_type": "markdown",
   "metadata": {},
   "source": [
    "# 2. Data Preprocessing - First Pass"
   ]
  },
  {
   "cell_type": "code",
   "execution_count": 5,
   "metadata": {},
   "outputs": [
    {
     "data": {
      "text/html": [
       "<div>\n",
       "<style scoped>\n",
       "    .dataframe tbody tr th:only-of-type {\n",
       "        vertical-align: middle;\n",
       "    }\n",
       "\n",
       "    .dataframe tbody tr th {\n",
       "        vertical-align: top;\n",
       "    }\n",
       "\n",
       "    .dataframe thead th {\n",
       "        text-align: right;\n",
       "    }\n",
       "</style>\n",
       "<table border=\"1\" class=\"dataframe\">\n",
       "  <thead>\n",
       "    <tr style=\"text-align: right;\">\n",
       "      <th></th>\n",
       "      <th>wconfid</th>\n",
       "      <th>pctid</th>\n",
       "      <th>x</th>\n",
       "      <th>y</th>\n",
       "      <th>z</th>\n",
       "    </tr>\n",
       "  </thead>\n",
       "  <tbody>\n",
       "    <tr>\n",
       "      <th>count</th>\n",
       "      <td>153000.000000</td>\n",
       "      <td>153000.000000</td>\n",
       "      <td>153000.000000</td>\n",
       "      <td>153000.000000</td>\n",
       "      <td>153000.000000</td>\n",
       "    </tr>\n",
       "    <tr>\n",
       "      <th>mean</th>\n",
       "      <td>2.000000</td>\n",
       "      <td>60.000000</td>\n",
       "      <td>0.995622</td>\n",
       "      <td>0.005351</td>\n",
       "      <td>-0.117769</td>\n",
       "    </tr>\n",
       "    <tr>\n",
       "      <th>std</th>\n",
       "      <td>0.816499</td>\n",
       "      <td>24.494977</td>\n",
       "      <td>0.773958</td>\n",
       "      <td>0.742602</td>\n",
       "      <td>0.517008</td>\n",
       "    </tr>\n",
       "    <tr>\n",
       "      <th>min</th>\n",
       "      <td>1.000000</td>\n",
       "      <td>20.000000</td>\n",
       "      <td>-8.000000</td>\n",
       "      <td>-8.000000</td>\n",
       "      <td>-5.867000</td>\n",
       "    </tr>\n",
       "    <tr>\n",
       "      <th>25%</th>\n",
       "      <td>1.000000</td>\n",
       "      <td>40.000000</td>\n",
       "      <td>0.945000</td>\n",
       "      <td>-0.078000</td>\n",
       "      <td>-0.172000</td>\n",
       "    </tr>\n",
       "    <tr>\n",
       "      <th>50%</th>\n",
       "      <td>2.000000</td>\n",
       "      <td>60.000000</td>\n",
       "      <td>0.992000</td>\n",
       "      <td>0.008000</td>\n",
       "      <td>-0.125000</td>\n",
       "    </tr>\n",
       "    <tr>\n",
       "      <th>75%</th>\n",
       "      <td>3.000000</td>\n",
       "      <td>80.000000</td>\n",
       "      <td>1.039000</td>\n",
       "      <td>0.105000</td>\n",
       "      <td>-0.066000</td>\n",
       "    </tr>\n",
       "    <tr>\n",
       "      <th>max</th>\n",
       "      <td>3.000000</td>\n",
       "      <td>100.000000</td>\n",
       "      <td>7.996000</td>\n",
       "      <td>7.996000</td>\n",
       "      <td>6.086000</td>\n",
       "    </tr>\n",
       "  </tbody>\n",
       "</table>\n",
       "</div>"
      ],
      "text/plain": [
       "             wconfid          pctid              x              y  \\\n",
       "count  153000.000000  153000.000000  153000.000000  153000.000000   \n",
       "mean        2.000000      60.000000       0.995622       0.005351   \n",
       "std         0.816499      24.494977       0.773958       0.742602   \n",
       "min         1.000000      20.000000      -8.000000      -8.000000   \n",
       "25%         1.000000      40.000000       0.945000      -0.078000   \n",
       "50%         2.000000      60.000000       0.992000       0.008000   \n",
       "75%         3.000000      80.000000       1.039000       0.105000   \n",
       "max         3.000000     100.000000       7.996000       7.996000   \n",
       "\n",
       "                   z  \n",
       "count  153000.000000  \n",
       "mean       -0.117769  \n",
       "std         0.517008  \n",
       "min        -5.867000  \n",
       "25%        -0.172000  \n",
       "50%        -0.125000  \n",
       "75%        -0.066000  \n",
       "max         6.086000  "
      ]
     },
     "execution_count": 5,
     "metadata": {},
     "output_type": "execute_result"
    }
   ],
   "source": [
    "df.describe()"
   ]
  },
  {
   "cell_type": "markdown",
   "metadata": {},
   "source": [
    "## 2.1. Checking for Null values"
   ]
  },
  {
   "cell_type": "code",
   "execution_count": 6,
   "metadata": {},
   "outputs": [
    {
     "data": {
      "text/plain": [
       "<AxesSubplot:>"
      ]
     },
     "execution_count": 6,
     "metadata": {},
     "output_type": "execute_result"
    },
    {
     "data": {
      "image/png": "[encoded data removed]",
      "text/plain": [
       "<Figure size 432x288 with 1 Axes>"
      ]
     },
     "metadata": {
      "needs_background": "light"
     },
     "output_type": "display_data"
    }
   ],
   "source": [
    "sns.heatmap(df.isnull(), cmap='viridis', cbar=False)"
   ]
  },
  {
   "cell_type": "code",
   "execution_count": 7,
   "metadata": {},
   "outputs": [
    {
     "data": {
      "text/plain": [
       "wconfid    False\n",
       "pctid      False\n",
       "x          False\n",
       "y          False\n",
       "z          False\n",
       "dtype: bool"
      ]
     },
     "execution_count": 7,
     "metadata": {},
     "output_type": "execute_result"
    }
   ],
   "source": [
    "df.isnull().any()"
   ]
  },
  {
   "cell_type": "markdown",
   "metadata": {},
   "source": [
    "**Observation:** Their are no Null values in any of the columns."
   ]
  },
  {
   "cell_type": "markdown",
   "metadata": {},
   "source": [
    "## 2.2. Checking for NA values"
   ]
  },
  {
   "cell_type": "code",
   "execution_count": 8,
   "metadata": {},
   "outputs": [
    {
     "data": {
      "text/plain": [
       "<AxesSubplot:>"
      ]
     },
     "execution_count": 8,
     "metadata": {},
     "output_type": "execute_result"
    },
    {
     "data": {
      "image/png": "[encoded data removed]",
      "text/plain": [
       "<Figure size 432x288 with 2 Axes>"
      ]
     },
     "metadata": {
      "needs_background": "light"
     },
     "output_type": "display_data"
    }
   ],
   "source": [
    "sns.heatmap(df.isna(), cmap='viridis', cbar=True)"
   ]
  },
  {
   "cell_type": "code",
   "execution_count": 9,
   "metadata": {},
   "outputs": [
    {
     "data": {
      "text/plain": [
       "wconfid    False\n",
       "pctid      False\n",
       "x          False\n",
       "y          False\n",
       "z          False\n",
       "dtype: bool"
      ]
     },
     "execution_count": 9,
     "metadata": {},
     "output_type": "execute_result"
    }
   ],
   "source": [
    "df.isna().any()"
   ]
  },
  {
   "cell_type": "markdown",
   "metadata": {},
   "source": [
    "**Observation:** Their are no NA values in any of the columns."
   ]
  },
  {
   "cell_type": "markdown",
   "metadata": {},
   "source": [
    "### 2.3. Checking the data type of features"
   ]
  },
  {
   "cell_type": "code",
   "execution_count": 10,
   "metadata": {},
   "outputs": [
    {
     "data": {
      "text/plain": [
       "wconfid      int64\n",
       "pctid        int64\n",
       "x          float64\n",
       "y          float64\n",
       "z          float64\n",
       "dtype: object"
      ]
     },
     "execution_count": 10,
     "metadata": {},
     "output_type": "execute_result"
    }
   ],
   "source": [
    "df.dtypes"
   ]
  },
  {
   "cell_type": "markdown",
   "metadata": {},
   "source": [
    "**Observation:** All features are in appropriate data type."
   ]
  },
  {
   "cell_type": "markdown",
   "metadata": {},
   "source": [
    "# 3. Exploratory Data Analysis"
   ]
  },
  {
   "cell_type": "code",
   "execution_count": 11,
   "metadata": {},
   "outputs": [
    {
     "data": {
      "text/html": [
       "<div>\n",
       "<style scoped>\n",
       "    .dataframe tbody tr th:only-of-type {\n",
       "        vertical-align: middle;\n",
       "    }\n",
       "\n",
       "    .dataframe tbody tr th {\n",
       "        vertical-align: top;\n",
       "    }\n",
       "\n",
       "    .dataframe thead th {\n",
       "        text-align: right;\n",
       "    }\n",
       "</style>\n",
       "<table border=\"1\" class=\"dataframe\">\n",
       "  <thead>\n",
       "    <tr style=\"text-align: right;\">\n",
       "      <th></th>\n",
       "      <th>wconfid</th>\n",
       "      <th>pctid</th>\n",
       "      <th>x</th>\n",
       "      <th>y</th>\n",
       "      <th>z</th>\n",
       "    </tr>\n",
       "  </thead>\n",
       "  <tbody>\n",
       "    <tr>\n",
       "      <th>0</th>\n",
       "      <td>1</td>\n",
       "      <td>20</td>\n",
       "      <td>1.004</td>\n",
       "      <td>0.090</td>\n",
       "      <td>-0.125</td>\n",
       "    </tr>\n",
       "    <tr>\n",
       "      <th>1</th>\n",
       "      <td>1</td>\n",
       "      <td>20</td>\n",
       "      <td>1.004</td>\n",
       "      <td>-0.043</td>\n",
       "      <td>-0.125</td>\n",
       "    </tr>\n",
       "    <tr>\n",
       "      <th>2</th>\n",
       "      <td>1</td>\n",
       "      <td>20</td>\n",
       "      <td>0.969</td>\n",
       "      <td>0.090</td>\n",
       "      <td>-0.121</td>\n",
       "    </tr>\n",
       "    <tr>\n",
       "      <th>3</th>\n",
       "      <td>1</td>\n",
       "      <td>20</td>\n",
       "      <td>0.973</td>\n",
       "      <td>-0.012</td>\n",
       "      <td>-0.137</td>\n",
       "    </tr>\n",
       "    <tr>\n",
       "      <th>4</th>\n",
       "      <td>1</td>\n",
       "      <td>20</td>\n",
       "      <td>1.000</td>\n",
       "      <td>-0.016</td>\n",
       "      <td>-0.121</td>\n",
       "    </tr>\n",
       "    <tr>\n",
       "      <th>...</th>\n",
       "      <td>...</td>\n",
       "      <td>...</td>\n",
       "      <td>...</td>\n",
       "      <td>...</td>\n",
       "      <td>...</td>\n",
       "    </tr>\n",
       "    <tr>\n",
       "      <th>152995</th>\n",
       "      <td>3</td>\n",
       "      <td>100</td>\n",
       "      <td>1.051</td>\n",
       "      <td>0.090</td>\n",
       "      <td>-0.262</td>\n",
       "    </tr>\n",
       "    <tr>\n",
       "      <th>152996</th>\n",
       "      <td>3</td>\n",
       "      <td>100</td>\n",
       "      <td>0.918</td>\n",
       "      <td>0.039</td>\n",
       "      <td>-0.129</td>\n",
       "    </tr>\n",
       "    <tr>\n",
       "      <th>152997</th>\n",
       "      <td>3</td>\n",
       "      <td>100</td>\n",
       "      <td>1.156</td>\n",
       "      <td>-0.094</td>\n",
       "      <td>-0.227</td>\n",
       "    </tr>\n",
       "    <tr>\n",
       "      <th>152998</th>\n",
       "      <td>3</td>\n",
       "      <td>100</td>\n",
       "      <td>0.934</td>\n",
       "      <td>0.203</td>\n",
       "      <td>-0.172</td>\n",
       "    </tr>\n",
       "    <tr>\n",
       "      <th>152999</th>\n",
       "      <td>3</td>\n",
       "      <td>100</td>\n",
       "      <td>1.199</td>\n",
       "      <td>-0.176</td>\n",
       "      <td>0.109</td>\n",
       "    </tr>\n",
       "  </tbody>\n",
       "</table>\n",
       "<p>153000 rows × 5 columns</p>\n",
       "</div>"
      ],
      "text/plain": [
       "        wconfid  pctid      x      y      z\n",
       "0             1     20  1.004  0.090 -0.125\n",
       "1             1     20  1.004 -0.043 -0.125\n",
       "2             1     20  0.969  0.090 -0.121\n",
       "3             1     20  0.973 -0.012 -0.137\n",
       "4             1     20  1.000 -0.016 -0.121\n",
       "...         ...    ...    ...    ...    ...\n",
       "152995        3    100  1.051  0.090 -0.262\n",
       "152996        3    100  0.918  0.039 -0.129\n",
       "152997        3    100  1.156 -0.094 -0.227\n",
       "152998        3    100  0.934  0.203 -0.172\n",
       "152999        3    100  1.199 -0.176  0.109\n",
       "\n",
       "[153000 rows x 5 columns]"
      ]
     },
     "execution_count": 11,
     "metadata": {},
     "output_type": "execute_result"
    }
   ],
   "source": [
    "df"
   ]
  },
  {
   "cell_type": "markdown",
   "metadata": {},
   "source": [
    "## 3.1. Detecting Outliers using Box Plot"
   ]
  },
  {
   "cell_type": "code",
   "execution_count": 12,
   "metadata": {},
   "outputs": [
    {
     "data": {
      "image/png": "[encoded data removed]",
      "text/plain": [
       "<Figure size 720x720 with 5 Axes>"
      ]
     },
     "metadata": {
      "needs_background": "light"
     },
     "output_type": "display_data"
    }
   ],
   "source": [
    "n = 1\n",
    "plt.figure(figsize=(10, 10))\n",
    "for feature in df.columns:\n",
    "    plt.subplot(5, 2, n)\n",
    "    n += 1\n",
    "    sns.boxplot(df[feature])\n",
    "    plt.tight_layout()"
   ]
  },
  {
   "cell_type": "markdown",
   "metadata": {},
   "source": [
    "**Observation:** \n",
    "- Outliers detected in x, y, z feature in visual inspection.\n",
    "- We don't need to remove these outliers as they are simply the readings of accelerometer through the 3D space (as suggested in research paper)"
   ]
  },
  {
   "cell_type": "markdown",
   "metadata": {},
   "source": [
    "## 3.2. Correlation of features"
   ]
  },
  {
   "cell_type": "code",
   "execution_count": 13,
   "metadata": {},
   "outputs": [
    {
     "data": {
      "text/html": [
       "<div>\n",
       "<style scoped>\n",
       "    .dataframe tbody tr th:only-of-type {\n",
       "        vertical-align: middle;\n",
       "    }\n",
       "\n",
       "    .dataframe tbody tr th {\n",
       "        vertical-align: top;\n",
       "    }\n",
       "\n",
       "    .dataframe thead th {\n",
       "        text-align: right;\n",
       "    }\n",
       "</style>\n",
       "<table border=\"1\" class=\"dataframe\">\n",
       "  <thead>\n",
       "    <tr style=\"text-align: right;\">\n",
       "      <th></th>\n",
       "      <th>wconfid</th>\n",
       "      <th>pctid</th>\n",
       "      <th>x</th>\n",
       "      <th>y</th>\n",
       "      <th>z</th>\n",
       "    </tr>\n",
       "  </thead>\n",
       "  <tbody>\n",
       "    <tr>\n",
       "      <th>wconfid</th>\n",
       "      <td>1.000000e+00</td>\n",
       "      <td>1.035463e-15</td>\n",
       "      <td>-0.006065</td>\n",
       "      <td>0.005371</td>\n",
       "      <td>0.002228</td>\n",
       "    </tr>\n",
       "    <tr>\n",
       "      <th>pctid</th>\n",
       "      <td>1.035463e-15</td>\n",
       "      <td>1.000000e+00</td>\n",
       "      <td>0.002128</td>\n",
       "      <td>0.002882</td>\n",
       "      <td>0.008964</td>\n",
       "    </tr>\n",
       "    <tr>\n",
       "      <th>x</th>\n",
       "      <td>-6.065048e-03</td>\n",
       "      <td>2.128479e-03</td>\n",
       "      <td>1.000000</td>\n",
       "      <td>0.021137</td>\n",
       "      <td>-0.091164</td>\n",
       "    </tr>\n",
       "    <tr>\n",
       "      <th>y</th>\n",
       "      <td>5.371007e-03</td>\n",
       "      <td>2.881727e-03</td>\n",
       "      <td>0.021137</td>\n",
       "      <td>1.000000</td>\n",
       "      <td>-0.027716</td>\n",
       "    </tr>\n",
       "    <tr>\n",
       "      <th>z</th>\n",
       "      <td>2.228362e-03</td>\n",
       "      <td>8.964497e-03</td>\n",
       "      <td>-0.091164</td>\n",
       "      <td>-0.027716</td>\n",
       "      <td>1.000000</td>\n",
       "    </tr>\n",
       "  </tbody>\n",
       "</table>\n",
       "</div>"
      ],
      "text/plain": [
       "              wconfid         pctid         x         y         z\n",
       "wconfid  1.000000e+00  1.035463e-15 -0.006065  0.005371  0.002228\n",
       "pctid    1.035463e-15  1.000000e+00  0.002128  0.002882  0.008964\n",
       "x       -6.065048e-03  2.128479e-03  1.000000  0.021137 -0.091164\n",
       "y        5.371007e-03  2.881727e-03  0.021137  1.000000 -0.027716\n",
       "z        2.228362e-03  8.964497e-03 -0.091164 -0.027716  1.000000"
      ]
     },
     "execution_count": 13,
     "metadata": {},
     "output_type": "execute_result"
    }
   ],
   "source": [
    "df.corr()"
   ]
  },
  {
   "cell_type": "code",
   "execution_count": 14,
   "metadata": {},
   "outputs": [
    {
     "data": {
      "text/plain": [
       "<AxesSubplot:>"
      ]
     },
     "execution_count": 14,
     "metadata": {},
     "output_type": "execute_result"
    },
    {
     "data": {
      "image/png": "[encoded data removed]",
      "text/plain": [
       "<Figure size 432x288 with 2 Axes>"
      ]
     },
     "metadata": {
      "needs_background": "light"
     },
     "output_type": "display_data"
    }
   ],
   "source": [
    "sns.heatmap(df.corr(), annot=True)"
   ]
  },
  {
   "cell_type": "markdown",
   "metadata": {},
   "source": [
    "**Observation:** None of the features are highly correlated."
   ]
  },
  {
   "cell_type": "markdown",
   "metadata": {},
   "source": [
    "# 4. Analytical Observation"
   ]
  },
  {
   "cell_type": "markdown",
   "metadata": {},
   "source": [
    "## 4.1. How many readings of each of the wconfid ?"
   ]
  },
  {
   "cell_type": "code",
   "execution_count": 15,
   "metadata": {},
   "outputs": [
    {
     "data": {
      "text/plain": [
       "<AxesSubplot:xlabel='wconfid', ylabel='Count'>"
      ]
     },
     "execution_count": 15,
     "metadata": {},
     "output_type": "execute_result"
    },
    {
     "data": {
      "image/png": "[encoded data removed]",
      "text/plain": [
       "<Figure size 432x288 with 1 Axes>"
      ]
     },
     "metadata": {
      "needs_background": "light"
     },
     "output_type": "display_data"
    }
   ],
   "source": [
    "sns.histplot(df, x='wconfid', hue='wconfid', bins=5)"
   ]
  },
  {
   "cell_type": "code",
   "execution_count": 16,
   "metadata": {},
   "outputs": [
    {
     "data": {
      "text/plain": [
       "1    51000\n",
       "2    51000\n",
       "3    51000\n",
       "Name: wconfid, dtype: int64"
      ]
     },
     "execution_count": 16,
     "metadata": {},
     "output_type": "execute_result"
    }
   ],
   "source": [
    "df['wconfid'].value_counts()"
   ]
  },
  {
   "cell_type": "markdown",
   "metadata": {},
   "source": [
    "**Observation:** 51000 readings for each, Red(1), Blue(2), Green(3) weight configuration is present."
   ]
  },
  {
   "cell_type": "markdown",
   "metadata": {},
   "source": [
    "## 4.2.Distribution of Target with input features"
   ]
  },
  {
   "cell_type": "code",
   "execution_count": 17,
   "metadata": {},
   "outputs": [
    {
     "data": {
      "image/png": "[encoded data removed]",
      "text/plain": [
       "<Figure size 576x720 with 5 Axes>"
      ]
     },
     "metadata": {
      "needs_background": "light"
     },
     "output_type": "display_data"
    }
   ],
   "source": [
    "n = 1\n",
    "plt.figure(figsize=(8, 10))\n",
    "for feature in df.columns:\n",
    "    plt.subplot(5, 2, n)\n",
    "    n += 1\n",
    "    sns.histplot(df, x=feature, hue='wconfid')\n",
    "    plt.tight_layout()"
   ]
  },
  {
   "cell_type": "markdown",
   "metadata": {},
   "source": [
    "**Observation:** \n",
    "- x, y, z features are normally distributed\n",
    "- wconfid and pctid are evenly distributed"
   ]
  },
  {
   "cell_type": "markdown",
   "metadata": {},
   "source": [
    "# 5. Model Building"
   ]
  },
  {
   "cell_type": "markdown",
   "metadata": {},
   "source": [
    "## 5.1. Feature Segregation"
   ]
  },
  {
   "cell_type": "code",
   "execution_count": 18,
   "metadata": {},
   "outputs": [],
   "source": [
    "x = df.drop('wconfid', axis=1)\n",
    "y = df['wconfid']"
   ]
  },
  {
   "cell_type": "markdown",
   "metadata": {},
   "source": [
    "## 5.2. Train Test Split"
   ]
  },
  {
   "cell_type": "code",
   "execution_count": 19,
   "metadata": {},
   "outputs": [],
   "source": [
    "from sklearn.model_selection import train_test_split"
   ]
  },
  {
   "cell_type": "code",
   "execution_count": 20,
   "metadata": {},
   "outputs": [],
   "source": [
    "x_train, x_test, y_train, y_test = train_test_split(x, y, test_size=0.3, random_state=1)"
   ]
  },
  {
   "cell_type": "markdown",
   "metadata": {},
   "source": [
    "## 5.3. Feature Scaling"
   ]
  },
  {
   "cell_type": "code",
   "execution_count": 21,
   "metadata": {},
   "outputs": [],
   "source": [
    "from sklearn.preprocessing import StandardScaler"
   ]
  },
  {
   "cell_type": "code",
   "execution_count": 22,
   "metadata": {},
   "outputs": [],
   "source": [
    "scaler = StandardScaler()"
   ]
  },
  {
   "cell_type": "code",
   "execution_count": 23,
   "metadata": {},
   "outputs": [],
   "source": [
    "x_train = scaler.fit_transform(x_train)"
   ]
  },
  {
   "cell_type": "markdown",
   "metadata": {},
   "source": [
    "## 5.4. Decision Tree Model"
   ]
  },
  {
   "cell_type": "code",
   "execution_count": 24,
   "metadata": {},
   "outputs": [],
   "source": [
    "from sklearn.tree import DecisionTreeClassifier\n",
    "from sklearn import tree"
   ]
  },
  {
   "cell_type": "code",
   "execution_count": 25,
   "metadata": {},
   "outputs": [],
   "source": [
    "raw_DTC = DecisionTreeClassifier()"
   ]
  },
  {
   "cell_type": "code",
   "execution_count": 26,
   "metadata": {},
   "outputs": [
    {
     "data": {
      "text/plain": [
       "DecisionTreeClassifier()"
      ]
     },
     "execution_count": 26,
     "metadata": {},
     "output_type": "execute_result"
    }
   ],
   "source": [
    "raw_DTC.fit(x_train, y_train)"
   ]
  },
  {
   "cell_type": "code",
   "execution_count": 27,
   "metadata": {},
   "outputs": [
    {
     "data": {
      "text/plain": [
       "[Text(0.6346194695199632, 0.9878048780487805, 'X[2] <= 0.265\\ngini = 0.667\\nsamples = 107100\\nvalue = [35675, 35773, 35652]'),\n",
       " Text(0.3245079354993709, 0.9634146341463414, 'X[2] <= -0.2\\ngini = 0.662\\nsamples = 90196\\nvalue = [27340, 27690, 35166]'),\n",
       " Text(0.03497316137237008, 0.9390243902439024, 'X[2] <= -3.36\\ngini = 0.556\\nsamples = 17303\\nvalue = [8038, 8205, 1060]'),\n",
       " Text(0.003702334244309456, 0.9146341463414634, 'X[2] <= -4.063\\ngini = 0.328\\nsamples = 1219\\nvalue = [967, 252, 0]'),\n",
       " Text(0.0022634060502376373, 0.8902439024390244, 'X[0] <= 1.53\\ngini = 0.245\\nsamples = 833\\nvalue = [714, 119, 0]'),\n",
       " Text(0.0008050939072427327, 0.8658536585365854, 'X[2] <= -6.039\\ngini = 0.178\\nsamples = 628\\nvalue = [566, 62, 0]'),\n",
       " Text(0.0001645203980282008, 0.8414634146341463, 'X[1] <= -6.469\\ngini = 0.065\\nsamples = 239\\nvalue = [231, 8, 0]'),\n",
       " Text(0.00012894842007615738, 0.8170731707317073, 'gini = 0.0\\nsamples = 1\\nvalue = [0, 1, 0]'),\n",
       " Text(0.00020009237598024422, 0.8170731707317073, 'X[1] <= -4.271\\ngini = 0.057\\nsamples = 238\\nvalue = [231, 7, 0]'),\n",
       " Text(7.114395590408684e-05, 0.7926829268292683, 'X[3] <= 2.703\\ngini = 0.32\\nsamples = 10\\nvalue = [8, 2, 0]'),\n",
       " Text(3.557197795204342e-05, 0.7682926829268293, 'gini = 0.0\\nsamples = 8\\nvalue = [8, 0, 0]'),\n",
       " Text(0.00010671593385613025, 0.7682926829268293, 'gini = 0.0\\nsamples = 2\\nvalue = [0, 2, 0]'),\n",
       " Text(0.0003290407960564016, 0.7926829268292683, 'X[2] <= -6.801\\ngini = 0.043\\nsamples = 228\\nvalue = [223, 5, 0]'),\n",
       " Text(0.00017785988976021708, 0.7682926829268293, 'X[1] <= 4.083\\ngini = 0.023\\nsamples = 174\\nvalue = [172, 2, 0]'),\n",
       " Text(0.00010671593385613025, 0.7439024390243902, 'X[3] <= -2.153\\ngini = 0.012\\nsamples = 165\\nvalue = [164, 1, 0]'),\n",
       " Text(7.114395590408684e-05, 0.7195121951219512, 'X[3] <= -2.194\\ngini = 0.046\\nsamples = 42\\nvalue = [41, 1, 0]'),\n",
       " Text(3.557197795204342e-05, 0.6951219512195121, 'gini = 0.0\\nsamples = 41\\nvalue = [41, 0, 0]'),\n",
       " Text(0.00010671593385613025, 0.6951219512195121, 'gini = 0.0\\nsamples = 1\\nvalue = [0, 1, 0]'),\n",
       " Text(0.00014228791180817367, 0.7195121951219512, 'gini = 0.0\\nsamples = 123\\nvalue = [123, 0, 0]'),\n",
       " Text(0.0002490038456643039, 0.7439024390243902, 'X[1] <= 4.166\\ngini = 0.198\\nsamples = 9\\nvalue = [8, 1, 0]'),\n",
       " Text(0.0002134318677122605, 0.7195121951219512, 'gini = 0.0\\nsamples = 1\\nvalue = [0, 1, 0]'),\n",
       " Text(0.00028457582361634734, 0.7195121951219512, 'gini = 0.0\\nsamples = 8\\nvalue = [8, 0, 0]'),\n",
       " Text(0.0004802217023525861, 0.7682926829268293, 'X[2] <= -6.767\\ngini = 0.105\\nsamples = 54\\nvalue = [51, 3, 0]'),\n",
       " Text(0.0003912917574724776, 0.7439024390243902, 'X[0] <= 0.918\\ngini = 0.5\\nsamples = 2\\nvalue = [1, 1, 0]'),\n",
       " Text(0.00035571977952043415, 0.7195121951219512, 'gini = 0.0\\nsamples = 1\\nvalue = [1, 0, 0]'),\n",
       " Text(0.000426863735424521, 0.7195121951219512, 'gini = 0.0\\nsamples = 1\\nvalue = [0, 1, 0]'),\n",
       " Text(0.0005691516472326947, 0.7439024390243902, 'X[1] <= -2.458\\ngini = 0.074\\nsamples = 52\\nvalue = [50, 2, 0]'),\n",
       " Text(0.0004980076913286078, 0.7195121951219512, 'X[1] <= -2.576\\ngini = 0.444\\nsamples = 3\\nvalue = [2, 1, 0]'),\n",
       " Text(0.0004624357133765644, 0.6951219512195121, 'gini = 0.0\\nsamples = 2\\nvalue = [2, 0, 0]'),\n",
       " Text(0.0005335796692806513, 0.6951219512195121, 'gini = 0.0\\nsamples = 1\\nvalue = [0, 1, 0]'),\n",
       " Text(0.0006402956031367814, 0.7195121951219512, 'X[3] <= 2.939\\ngini = 0.04\\nsamples = 49\\nvalue = [48, 1, 0]'),\n",
       " Text(0.0006047236251847381, 0.6951219512195121, 'gini = 0.0\\nsamples = 42\\nvalue = [42, 0, 0]'),\n",
       " Text(0.0006758675810888249, 0.6951219512195121, 'X[3] <= 3.206\\ngini = 0.245\\nsamples = 7\\nvalue = [6, 1, 0]'),\n",
       " Text(0.0006402956031367814, 0.6707317073170732, 'gini = 0.0\\nsamples = 1\\nvalue = [0, 1, 0]'),\n",
       " Text(0.0007114395590408683, 0.6707317073170732, 'gini = 0.0\\nsamples = 6\\nvalue = [6, 0, 0]'),\n",
       " Text(0.0014456674164572644, 0.8414634146341463, 'X[3] <= 0.446\\ngini = 0.239\\nsamples = 389\\nvalue = [335, 54, 0]'),\n",
       " Text(0.0008715134598250636, 0.8170731707317073, 'X[2] <= -5.786\\ngini = 0.137\\nsamples = 229\\nvalue = [212, 17, 0]'),\n",
       " Text(0.0006758675810888249, 0.7926829268292683, 'X[1] <= -4.184\\ngini = 0.48\\nsamples = 15\\nvalue = [9, 6, 0]'),\n",
       " Text(0.0006402956031367814, 0.7682926829268293, 'gini = 0.0\\nsamples = 1\\nvalue = [0, 1, 0]'),\n",
       " Text(0.0007114395590408683, 0.7682926829268293, 'X[2] <= -5.952\\ngini = 0.459\\nsamples = 14\\nvalue = [9, 5, 0]'),\n",
       " Text(0.0006758675810888249, 0.7439024390243902, 'gini = 0.0\\nsamples = 3\\nvalue = [3, 0, 0]'),\n",
       " Text(0.0007470115369929117, 0.7439024390243902, 'X[1] <= -2.858\\ngini = 0.496\\nsamples = 11\\nvalue = [6, 5, 0]'),\n",
       " Text(0.0007114395590408683, 0.7195121951219512, 'gini = 0.0\\nsamples = 2\\nvalue = [2, 0, 0]'),\n",
       " Text(0.0007825835149449552, 0.7195121951219512, 'X[1] <= -0.743\\ngini = 0.494\\nsamples = 9\\nvalue = [4, 5, 0]'),\n",
       " Text(0.0007470115369929117, 0.6951219512195121, 'gini = 0.0\\nsamples = 2\\nvalue = [0, 2, 0]'),\n",
       " Text(0.0008181554928969986, 0.6951219512195121, 'X[1] <= 3.488\\ngini = 0.49\\nsamples = 7\\nvalue = [4, 3, 0]'),\n",
       " Text(0.0007825835149449552, 0.6707317073170732, 'X[2] <= -5.799\\ngini = 0.444\\nsamples = 6\\nvalue = [4, 2, 0]'),\n",
       " Text(0.0007470115369929117, 0.6463414634146342, 'X[3] <= -3.191\\ngini = 0.32\\nsamples = 5\\nvalue = [4, 1, 0]'),\n",
       " Text(0.0007114395590408683, 0.6219512195121951, 'gini = 0.0\\nsamples = 1\\nvalue = [0, 1, 0]'),\n",
       " Text(0.0007825835149449552, 0.6219512195121951, 'gini = 0.0\\nsamples = 4\\nvalue = [4, 0, 0]'),\n",
       " Text(0.0008181554928969986, 0.6463414634146342, 'gini = 0.0\\nsamples = 1\\nvalue = [0, 1, 0]'),\n",
       " Text(0.000853727470849042, 0.6707317073170732, 'gini = 0.0\\nsamples = 1\\nvalue = [0, 1, 0]'),\n",
       " Text(0.0010671593385613025, 0.7926829268292683, 'X[0] <= 1.122\\ngini = 0.098\\nsamples = 214\\nvalue = [203, 11, 0]'),\n",
       " Text(0.000853727470849042, 0.7682926829268293, 'X[0] <= 0.918\\ngini = 0.026\\nsamples = 150\\nvalue = [148, 2, 0]'),\n",
       " Text(0.0008181554928969986, 0.7439024390243902, 'gini = 0.0\\nsamples = 91\\nvalue = [91, 0, 0]'),\n",
       " Text(0.0008892994488010854, 0.7439024390243902, 'X[2] <= -5.179\\ngini = 0.065\\nsamples = 59\\nvalue = [57, 2, 0]'),\n",
       " Text(0.000853727470849042, 0.7195121951219512, 'gini = 0.0\\nsamples = 24\\nvalue = [24, 0, 0]'),\n",
       " Text(0.0009248714267531288, 0.7195121951219512, 'X[2] <= -5.163\\ngini = 0.108\\nsamples = 35\\nvalue = [33, 2, 0]'),\n",
       " Text(0.0008892994488010854, 0.6951219512195121, 'gini = 0.0\\nsamples = 1\\nvalue = [0, 1, 0]'),\n",
       " Text(0.0009604434047051722, 0.6951219512195121, 'X[3] <= -2.22\\ngini = 0.057\\nsamples = 34\\nvalue = [33, 1, 0]'),\n",
       " Text(0.0009248714267531288, 0.6707317073170732, 'X[2] <= -4.593\\ngini = 0.198\\nsamples = 9\\nvalue = [8, 1, 0]'),\n",
       " Text(0.0008892994488010854, 0.6463414634146342, 'gini = 0.0\\nsamples = 8\\nvalue = [8, 0, 0]'),\n",
       " Text(0.0009604434047051722, 0.6463414634146342, 'gini = 0.0\\nsamples = 1\\nvalue = [0, 1, 0]'),\n",
       " Text(0.0009960153826572156, 0.6707317073170732, 'gini = 0.0\\nsamples = 25\\nvalue = [25, 0, 0]'),\n",
       " Text(0.0012805912062735629, 0.7682926829268293, 'X[1] <= 0.507\\ngini = 0.242\\nsamples = 64\\nvalue = [55, 9, 0]'),\n",
       " Text(0.0012094472503694762, 0.7439024390243902, 'X[1] <= 0.165\\ngini = 0.463\\nsamples = 22\\nvalue = [14, 8, 0]'),\n",
       " Text(0.0011738752724174328, 0.7195121951219512, 'X[3] <= 0.24\\ngini = 0.42\\nsamples = 20\\nvalue = [14, 6, 0]'),\n",
       " Text(0.0011383032944653894, 0.6951219512195121, 'X[1] <= -4.317\\ngini = 0.388\\nsamples = 19\\nvalue = [14, 5, 0]'),\n",
       " Text(0.0010671593385613025, 0.6707317073170732, 'X[2] <= -4.48\\ngini = 0.444\\nsamples = 3\\nvalue = [1, 2, 0]'),\n",
       " Text(0.001031587360609259, 0.6463414634146342, 'gini = 0.0\\nsamples = 2\\nvalue = [0, 2, 0]'),\n",
       " Text(0.001102731316513346, 0.6463414634146342, 'gini = 0.0\\nsamples = 1\\nvalue = [1, 0, 0]'),\n",
       " Text(0.0012094472503694762, 0.6707317073170732, 'X[3] <= -3.999\\ngini = 0.305\\nsamples = 16\\nvalue = [13, 3, 0]'),\n",
       " Text(0.0011738752724174328, 0.6463414634146342, 'gini = 0.0\\nsamples = 5\\nvalue = [5, 0, 0]'),\n",
       " Text(0.0012450192283215194, 0.6463414634146342, 'X[3] <= -3.273\\ngini = 0.397\\nsamples = 11\\nvalue = [8, 3, 0]'),\n",
       " Text(0.0012094472503694762, 0.6219512195121951, 'gini = 0.0\\nsamples = 1\\nvalue = [0, 1, 0]'),\n",
       " Text(0.0012805912062735629, 0.6219512195121951, 'X[2] <= -4.236\\ngini = 0.32\\nsamples = 10\\nvalue = [8, 2, 0]'),\n",
       " Text(0.0012450192283215194, 0.5975609756097561, 'X[2] <= -5.406\\ngini = 0.198\\nsamples = 9\\nvalue = [8, 1, 0]'),\n",
       " Text(0.0012094472503694762, 0.573170731707317, 'X[0] <= 1.326\\ngini = 0.5\\nsamples = 2\\nvalue = [1, 1, 0]'),\n",
       " Text(0.0011738752724174328, 0.5487804878048781, 'gini = 0.0\\nsamples = 1\\nvalue = [1, 0, 0]'),\n",
       " Text(0.0012450192283215194, 0.5487804878048781, 'gini = 0.0\\nsamples = 1\\nvalue = [0, 1, 0]'),\n",
       " Text(0.0012805912062735629, 0.573170731707317, 'gini = 0.0\\nsamples = 7\\nvalue = [7, 0, 0]'),\n",
       " Text(0.0013161631842256063, 0.5975609756097561, 'gini = 0.0\\nsamples = 1\\nvalue = [0, 1, 0]'),\n",
       " Text(0.0012094472503694762, 0.6951219512195121, 'gini = 0.0\\nsamples = 1\\nvalue = [0, 1, 0]'),\n",
       " Text(0.0012450192283215194, 0.7195121951219512, 'gini = 0.0\\nsamples = 2\\nvalue = [0, 2, 0]'),\n",
       " Text(0.0013517351621776497, 0.7439024390243902, 'X[1] <= 4.596\\ngini = 0.046\\nsamples = 42\\nvalue = [41, 1, 0]'),\n",
       " Text(0.0013161631842256063, 0.7195121951219512, 'gini = 0.0\\nsamples = 37\\nvalue = [37, 0, 0]'),\n",
       " Text(0.0013873071401296932, 0.7195121951219512, 'X[3] <= -1.076\\ngini = 0.32\\nsamples = 5\\nvalue = [4, 1, 0]'),\n",
       " Text(0.0013517351621776497, 0.6951219512195121, 'gini = 0.0\\nsamples = 4\\nvalue = [4, 0, 0]'),\n",
       " Text(0.0014228791180817366, 0.6951219512195121, 'gini = 0.0\\nsamples = 1\\nvalue = [0, 1, 0]'),\n",
       " Text(0.0020198213730894653, 0.8170731707317073, 'X[1] <= 0.655\\ngini = 0.356\\nsamples = 160\\nvalue = [123, 37, 0]'),\n",
       " Text(0.001582953018865932, 0.7926829268292683, 'X[2] <= -5.992\\ngini = 0.26\\nsamples = 91\\nvalue = [77, 14, 0]'),\n",
       " Text(0.0015473810409138886, 0.7682926829268293, 'gini = 0.0\\nsamples = 2\\nvalue = [0, 2, 0]'),\n",
       " Text(0.0016185249968179755, 0.7682926829268293, 'X[3] <= 0.461\\ngini = 0.233\\nsamples = 89\\nvalue = [77, 12, 0]'),\n",
       " Text(0.001582953018865932, 0.7439024390243902, 'gini = 0.0\\nsamples = 1\\nvalue = [0, 1, 0]'),\n",
       " Text(0.001654096974770019, 0.7439024390243902, 'X[1] <= -1.928\\ngini = 0.219\\nsamples = 88\\nvalue = [77, 11, 0]'),\n",
       " Text(0.001529595051937867, 0.7195121951219512, 'X[1] <= -2.219\\ngini = 0.383\\nsamples = 31\\nvalue = [23, 8, 0]'),\n",
       " Text(0.0014940230739858235, 0.6951219512195121, 'X[0] <= 1.122\\ngini = 0.293\\nsamples = 28\\nvalue = [23, 5, 0]'),\n",
       " Text(0.0013873071401296932, 0.6707317073170732, 'X[1] <= -5.569\\ngini = 0.5\\nsamples = 6\\nvalue = [3, 3, 0]'),\n",
       " Text(0.0013517351621776497, 0.6463414634146342, 'gini = 0.0\\nsamples = 2\\nvalue = [0, 2, 0]'),\n",
       " Text(0.0014228791180817366, 0.6463414634146342, 'X[2] <= -4.432\\ngini = 0.375\\nsamples = 4\\nvalue = [3, 1, 0]'),\n",
       " Text(0.0013873071401296932, 0.6219512195121951, 'gini = 0.0\\nsamples = 3\\nvalue = [3, 0, 0]'),\n",
       " Text(0.00145845109603378, 0.6219512195121951, 'gini = 0.0\\nsamples = 1\\nvalue = [0, 1, 0]'),\n",
       " Text(0.0016007390078419538, 0.6707317073170732, 'X[3] <= 8.574\\ngini = 0.165\\nsamples = 22\\nvalue = [20, 2, 0]'),\n",
       " Text(0.0015651670298899103, 0.6463414634146342, 'X[2] <= -5.823\\ngini = 0.091\\nsamples = 21\\nvalue = [20, 1, 0]'),\n",
       " Text(0.001529595051937867, 0.6219512195121951, 'X[3] <= 2.127\\ngini = 0.5\\nsamples = 2\\nvalue = [1, 1, 0]'),\n",
       " Text(0.0014940230739858235, 0.5975609756097561, 'gini = 0.0\\nsamples = 1\\nvalue = [1, 0, 0]'),\n",
       " Text(0.0015651670298899103, 0.5975609756097561, 'gini = 0.0\\nsamples = 1\\nvalue = [0, 1, 0]'),\n",
       " Text(0.0016007390078419538, 0.6219512195121951, 'gini = 0.0\\nsamples = 19\\nvalue = [19, 0, 0]'),\n",
       " Text(0.0016363109857939972, 0.6463414634146342, 'gini = 0.0\\nsamples = 1\\nvalue = [0, 1, 0]'),\n",
       " Text(0.0015651670298899103, 0.6951219512195121, 'gini = 0.0\\nsamples = 3\\nvalue = [0, 3, 0]'),\n",
       " Text(0.0017785988976021707, 0.7195121951219512, 'X[3] <= 0.615\\ngini = 0.1\\nsamples = 57\\nvalue = [54, 3, 0]'),\n",
       " Text(0.001707454941698084, 0.6951219512195121, 'X[0] <= 0.918\\ngini = 0.408\\nsamples = 7\\nvalue = [5, 2, 0]'),\n",
       " Text(0.0016718829637460406, 0.6707317073170732, 'gini = 0.0\\nsamples = 5\\nvalue = [5, 0, 0]'),\n",
       " Text(0.0017430269196501273, 0.6707317073170732, 'gini = 0.0\\nsamples = 2\\nvalue = [0, 2, 0]'),\n",
       " Text(0.0018497428535062576, 0.6951219512195121, 'X[3] <= 2.083\\ngini = 0.039\\nsamples = 50\\nvalue = [49, 1, 0]'),\n",
       " Text(0.0018141708755542141, 0.6707317073170732, 'X[3] <= 1.936\\ngini = 0.1\\nsamples = 19\\nvalue = [18, 1, 0]'),\n",
       " Text(0.0017785988976021707, 0.6463414634146342, 'gini = 0.0\\nsamples = 18\\nvalue = [18, 0, 0]'),\n",
       " Text(0.0018497428535062576, 0.6463414634146342, 'gini = 0.0\\nsamples = 1\\nvalue = [0, 1, 0]'),\n",
       " Text(0.001885314831458301, 0.6707317073170732, 'gini = 0.0\\nsamples = 31\\nvalue = [31, 0, 0]'),\n",
       " Text(0.002456689727312998, 0.7926829268292683, 'X[2] <= -4.492\\ngini = 0.444\\nsamples = 69\\nvalue = [46, 23, 0]'),\n",
       " Text(0.0023166250641268277, 0.7682926829268293, 'X[1] <= 3.213\\ngini = 0.348\\nsamples = 49\\nvalue = [38, 11, 0]'),\n",
       " Text(0.0021787836495626594, 0.7439024390243902, 'X[1] <= 2.678\\ngini = 0.452\\nsamples = 29\\nvalue = [19, 10, 0]'),\n",
       " Text(0.0020809607101945396, 0.7195121951219512, 'X[3] <= 0.954\\ngini = 0.375\\nsamples = 24\\nvalue = [18, 6, 0]'),\n",
       " Text(0.0019920307653144313, 0.6951219512195121, 'X[1] <= 1.91\\ngini = 0.48\\nsamples = 5\\nvalue = [2, 3, 0]'),\n",
       " Text(0.001956458787362388, 0.6707317073170732, 'X[1] <= 1.541\\ngini = 0.444\\nsamples = 3\\nvalue = [2, 1, 0]'),\n",
       " Text(0.0019208868094103444, 0.6463414634146342, 'gini = 0.0\\nsamples = 1\\nvalue = [0, 1, 0]'),\n",
       " Text(0.0019920307653144313, 0.6463414634146342, 'gini = 0.0\\nsamples = 2\\nvalue = [2, 0, 0]'),\n",
       " Text(0.0020276027432664747, 0.6707317073170732, 'gini = 0.0\\nsamples = 2\\nvalue = [0, 2, 0]'),\n",
       " Text(0.0021698906550746484, 0.6951219512195121, 'X[1] <= 1.158\\ngini = 0.266\\nsamples = 19\\nvalue = [16, 3, 0]'),\n",
       " Text(0.0020987466991705616, 0.6707317073170732, 'X[3] <= 1.917\\ngini = 0.444\\nsamples = 3\\nvalue = [1, 2, 0]'),\n",
       " Text(0.002063174721218518, 0.6463414634146342, 'gini = 0.0\\nsamples = 1\\nvalue = [1, 0, 0]'),\n",
       " Text(0.002134318677122605, 0.6463414634146342, 'gini = 0.0\\nsamples = 2\\nvalue = [0, 2, 0]'),\n",
       " Text(0.0022410346109787353, 0.6707317073170732, 'X[3] <= 3.636\\ngini = 0.117\\nsamples = 16\\nvalue = [15, 1, 0]'),\n",
       " Text(0.002205462633026692, 0.6463414634146342, 'gini = 0.0\\nsamples = 13\\nvalue = [13, 0, 0]'),\n",
       " Text(0.0022766065889307787, 0.6463414634146342, 'X[2] <= -5.166\\ngini = 0.444\\nsamples = 3\\nvalue = [2, 1, 0]'),\n",
       " Text(0.0022410346109787353, 0.6219512195121951, 'gini = 0.0\\nsamples = 1\\nvalue = [0, 1, 0]'),\n",
       " Text(0.002312178566882822, 0.6219512195121951, 'gini = 0.0\\nsamples = 2\\nvalue = [2, 0, 0]'),\n",
       " Text(0.0022766065889307787, 0.7195121951219512, 'X[2] <= -4.59\\ngini = 0.32\\nsamples = 5\\nvalue = [1, 4, 0]'),\n",
       " Text(0.0022410346109787353, 0.6951219512195121, 'gini = 0.0\\nsamples = 4\\nvalue = [0, 4, 0]'),\n",
       " Text(0.002312178566882822, 0.6951219512195121, 'gini = 0.0\\nsamples = 1\\nvalue = [1, 0, 0]'),\n",
       " Text(0.0024544664786909955, 0.7439024390243902, 'X[3] <= 0.822\\ngini = 0.095\\nsamples = 20\\nvalue = [19, 1, 0]'),\n",
       " Text(0.0024188945007389525, 0.7195121951219512, 'X[3] <= 0.769\\ngini = 0.444\\nsamples = 3\\nvalue = [2, 1, 0]'),\n",
       " Text(0.002383322522786909, 0.6951219512195121, 'gini = 0.0\\nsamples = 2\\nvalue = [2, 0, 0]'),\n",
       " Text(0.0024544664786909955, 0.6951219512195121, 'gini = 0.0\\nsamples = 1\\nvalue = [0, 1, 0]'),\n",
       " Text(0.002490038456643039, 0.7195121951219512, 'gini = 0.0\\nsamples = 17\\nvalue = [17, 0, 0]'),\n",
       " Text(0.002596754390499169, 0.7682926829268293, 'X[2] <= -4.337\\ngini = 0.48\\nsamples = 20\\nvalue = [8, 12, 0]'),\n",
       " Text(0.0025611824125471258, 0.7439024390243902, 'gini = 0.0\\nsamples = 5\\nvalue = [0, 5, 0]'),\n",
       " Text(0.0026323263684512126, 0.7439024390243902, 'X[2] <= -4.248\\ngini = 0.498\\nsamples = 15\\nvalue = [8, 7, 0]'),\n",
       " Text(0.0025611824125471258, 0.7195121951219512, 'X[1] <= 1.666\\ngini = 0.245\\nsamples = 7\\nvalue = [6, 1, 0]'),\n",
       " Text(0.0025256104345950823, 0.6951219512195121, 'X[2] <= -4.303\\ngini = 0.5\\nsamples = 2\\nvalue = [1, 1, 0]'),\n",
       " Text(0.002490038456643039, 0.6707317073170732, 'gini = 0.0\\nsamples = 1\\nvalue = [0, 1, 0]'),\n",
       " Text(0.0025611824125471258, 0.6707317073170732, 'gini = 0.0\\nsamples = 1\\nvalue = [1, 0, 0]'),\n",
       " Text(0.002596754390499169, 0.6951219512195121, 'gini = 0.0\\nsamples = 5\\nvalue = [5, 0, 0]'),\n",
       " Text(0.0027034703243552995, 0.7195121951219512, 'X[3] <= 5.339\\ngini = 0.375\\nsamples = 8\\nvalue = [2, 6, 0]'),\n",
       " Text(0.002667898346403256, 0.6951219512195121, 'X[3] <= 1.751\\ngini = 0.245\\nsamples = 7\\nvalue = [1, 6, 0]'),\n",
       " Text(0.0026323263684512126, 0.6707317073170732, 'X[3] <= 0.725\\ngini = 0.5\\nsamples = 2\\nvalue = [1, 1, 0]'),\n",
       " Text(0.002596754390499169, 0.6463414634146342, 'gini = 0.0\\nsamples = 1\\nvalue = [0, 1, 0]'),\n",
       " Text(0.002667898346403256, 0.6463414634146342, 'gini = 0.0\\nsamples = 1\\nvalue = [1, 0, 0]'),\n",
       " Text(0.0027034703243552995, 0.6707317073170732, 'gini = 0.0\\nsamples = 5\\nvalue = [0, 5, 0]'),\n",
       " Text(0.002739042302307343, 0.6951219512195121, 'gini = 0.0\\nsamples = 1\\nvalue = [1, 0, 0]'),\n",
       " Text(0.0037217181932325425, 0.8658536585365854, 'X[2] <= -5.413\\ngini = 0.401\\nsamples = 205\\nvalue = [148, 57, 0]'),\n",
       " Text(0.0033837844026881297, 0.8414634146341463, 'X[1] <= 4.013\\ngini = 0.269\\nsamples = 131\\nvalue = [110, 21, 0]'),\n",
       " Text(0.00322815699914794, 0.8170731707317073, 'X[2] <= -6.25\\ngini = 0.214\\nsamples = 123\\nvalue = [108, 15, 0]'),\n",
       " Text(0.0030769760928517553, 0.7926829268292683, 'X[1] <= 2.509\\ngini = 0.142\\nsamples = 91\\nvalue = [84, 7, 0]'),\n",
       " Text(0.0030058321369476684, 0.7682926829268293, 'X[3] <= 1.098\\ngini = 0.116\\nsamples = 81\\nvalue = [76, 5, 0]'),\n",
       " Text(0.002970260158995625, 0.7439024390243902, 'X[3] <= 1.015\\ngini = 0.168\\nsamples = 54\\nvalue = [49, 5, 0]'),\n",
       " Text(0.002934688181043582, 0.7195121951219512, 'X[3] <= 0.372\\ngini = 0.14\\nsamples = 53\\nvalue = [49, 4, 0]'),\n",
       " Text(0.002845758236163473, 0.6951219512195121, 'X[2] <= -10.631\\ngini = 0.113\\nsamples = 50\\nvalue = [47, 3, 0]'),\n",
       " Text(0.0027746142802593863, 0.6707317073170732, 'X[1] <= 0.798\\ngini = 0.444\\nsamples = 3\\nvalue = [2, 1, 0]'),\n",
       " Text(0.002739042302307343, 0.6463414634146342, 'gini = 0.0\\nsamples = 2\\nvalue = [2, 0, 0]'),\n",
       " Text(0.0028101862582114298, 0.6463414634146342, 'gini = 0.0\\nsamples = 1\\nvalue = [0, 1, 0]'),\n",
       " Text(0.00291690219206756, 0.6707317073170732, 'X[3] <= -1.874\\ngini = 0.081\\nsamples = 47\\nvalue = [45, 2, 0]'),\n",
       " Text(0.0028813302141155166, 0.6463414634146342, 'gini = 0.0\\nsamples = 22\\nvalue = [22, 0, 0]'),\n",
       " Text(0.0029524741700196035, 0.6463414634146342, 'X[3] <= -1.757\\ngini = 0.147\\nsamples = 25\\nvalue = [23, 2, 0]'),\n",
       " Text(0.00291690219206756, 0.6219512195121951, 'gini = 0.0\\nsamples = 1\\nvalue = [0, 1, 0]'),\n",
       " Text(0.002988046147971647, 0.6219512195121951, 'X[1] <= -3.331\\ngini = 0.08\\nsamples = 24\\nvalue = [23, 1, 0]'),\n",
       " Text(0.0029524741700196035, 0.5975609756097561, 'X[1] <= -3.667\\ngini = 0.375\\nsamples = 4\\nvalue = [3, 1, 0]'),\n",
       " Text(0.00291690219206756, 0.573170731707317, 'gini = 0.0\\nsamples = 3\\nvalue = [3, 0, 0]'),\n",
       " Text(0.002988046147971647, 0.573170731707317, 'gini = 0.0\\nsamples = 1\\nvalue = [0, 1, 0]'),\n",
       " Text(0.0030236181259236904, 0.5975609756097561, 'gini = 0.0\\nsamples = 20\\nvalue = [20, 0, 0]'),\n",
       " Text(0.0030236181259236904, 0.6951219512195121, 'X[3] <= 0.575\\ngini = 0.444\\nsamples = 3\\nvalue = [2, 1, 0]'),\n",
       " Text(0.002988046147971647, 0.6707317073170732, 'gini = 0.0\\nsamples = 1\\nvalue = [0, 1, 0]'),\n",
       " Text(0.003059190103875734, 0.6707317073170732, 'gini = 0.0\\nsamples = 2\\nvalue = [2, 0, 0]'),\n",
       " Text(0.0030058321369476684, 0.7195121951219512, 'gini = 0.0\\nsamples = 1\\nvalue = [0, 1, 0]'),\n",
       " Text(0.003041404114899712, 0.7439024390243902, 'gini = 0.0\\nsamples = 27\\nvalue = [27, 0, 0]'),\n",
       " Text(0.003148120048755842, 0.7682926829268293, 'X[3] <= 2.143\\ngini = 0.32\\nsamples = 10\\nvalue = [8, 2, 0]'),\n",
       " Text(0.0031125480708037987, 0.7439024390243902, 'gini = 0.0\\nsamples = 7\\nvalue = [7, 0, 0]'),\n",
       " Text(0.0031836920267078856, 0.7439024390243902, 'X[1] <= 3.059\\ngini = 0.444\\nsamples = 3\\nvalue = [1, 2, 0]'),\n",
       " Text(0.003148120048755842, 0.7195121951219512, 'gini = 0.0\\nsamples = 2\\nvalue = [0, 2, 0]'),\n",
       " Text(0.003219264004659929, 0.7195121951219512, 'gini = 0.0\\nsamples = 1\\nvalue = [1, 0, 0]'),\n",
       " Text(0.0033793379054441247, 0.7926829268292683, 'X[2] <= -6.134\\ngini = 0.375\\nsamples = 32\\nvalue = [24, 8, 0]'),\n",
       " Text(0.003290407960564016, 0.7682926829268293, 'X[1] <= -2.284\\ngini = 0.375\\nsamples = 4\\nvalue = [1, 3, 0]'),\n",
       " Text(0.0032548359826119725, 0.7439024390243902, 'gini = 0.0\\nsamples = 1\\nvalue = [1, 0, 0]'),\n",
       " Text(0.0033259799385160593, 0.7439024390243902, 'gini = 0.0\\nsamples = 3\\nvalue = [0, 3, 0]'),\n",
       " Text(0.003468267850324233, 0.7682926829268293, 'X[3] <= -0.415\\ngini = 0.293\\nsamples = 28\\nvalue = [23, 5, 0]'),\n",
       " Text(0.003397123894420146, 0.7439024390243902, 'X[3] <= -0.662\\ngini = 0.391\\nsamples = 15\\nvalue = [11, 4, 0]'),\n",
       " Text(0.0033615519164681027, 0.7195121951219512, 'X[1] <= -1.316\\ngini = 0.26\\nsamples = 13\\nvalue = [11, 2, 0]'),\n",
       " Text(0.0033259799385160593, 0.6951219512195121, 'gini = 0.0\\nsamples = 1\\nvalue = [0, 1, 0]'),\n",
       " Text(0.003397123894420146, 0.6951219512195121, 'X[3] <= -2.062\\ngini = 0.153\\nsamples = 12\\nvalue = [11, 1, 0]'),\n",
       " Text(0.0033615519164681027, 0.6707317073170732, 'gini = 0.0\\nsamples = 8\\nvalue = [8, 0, 0]'),\n",
       " Text(0.0034326958723721896, 0.6707317073170732, 'X[2] <= -5.656\\ngini = 0.375\\nsamples = 4\\nvalue = [3, 1, 0]'),\n",
       " Text(0.003397123894420146, 0.6463414634146342, 'gini = 0.0\\nsamples = 3\\nvalue = [3, 0, 0]'),\n",
       " Text(0.003468267850324233, 0.6463414634146342, 'gini = 0.0\\nsamples = 1\\nvalue = [0, 1, 0]'),\n",
       " Text(0.0034326958723721896, 0.7195121951219512, 'gini = 0.0\\nsamples = 2\\nvalue = [0, 2, 0]'),\n",
       " Text(0.00353941180622832, 0.7439024390243902, 'X[2] <= -6.031\\ngini = 0.142\\nsamples = 13\\nvalue = [12, 1, 0]'),\n",
       " Text(0.0035038398282762765, 0.7195121951219512, 'X[2] <= -6.076\\ngini = 0.5\\nsamples = 2\\nvalue = [1, 1, 0]'),\n",
       " Text(0.003468267850324233, 0.6951219512195121, 'gini = 0.0\\nsamples = 1\\nvalue = [1, 0, 0]'),\n",
       " Text(0.00353941180622832, 0.6951219512195121, 'gini = 0.0\\nsamples = 1\\nvalue = [0, 1, 0]'),\n",
       " Text(0.0035749837841803633, 0.7195121951219512, 'gini = 0.0\\nsamples = 11\\nvalue = [11, 0, 0]'),\n",
       " Text(0.00353941180622832, 0.8170731707317073, 'X[1] <= 6.248\\ngini = 0.375\\nsamples = 8\\nvalue = [2, 6, 0]'),\n",
       " Text(0.0035038398282762765, 0.7926829268292683, 'gini = 0.0\\nsamples = 5\\nvalue = [0, 5, 0]'),\n",
       " Text(0.0035749837841803633, 0.7926829268292683, 'X[2] <= -7.049\\ngini = 0.444\\nsamples = 3\\nvalue = [2, 1, 0]'),\n",
       " Text(0.00353941180622832, 0.7682926829268293, 'gini = 0.0\\nsamples = 2\\nvalue = [2, 0, 0]'),\n",
       " Text(0.0036105557621324068, 0.7682926829268293, 'gini = 0.0\\nsamples = 1\\nvalue = [0, 1, 0]'),\n",
       " Text(0.004059651983776955, 0.8414634146341463, 'X[3] <= -2.472\\ngini = 0.5\\nsamples = 74\\nvalue = [38, 36, 0]'),\n",
       " Text(0.003788415651892624, 0.8170731707317073, 'X[1] <= -1.545\\ngini = 0.363\\nsamples = 21\\nvalue = [16, 5, 0]'),\n",
       " Text(0.003717271695988537, 0.7926829268292683, 'X[3] <= -4.608\\ngini = 0.444\\nsamples = 6\\nvalue = [2, 4, 0]'),\n",
       " Text(0.0036816997180364936, 0.7682926829268293, 'X[1] <= -3.665\\ngini = 0.444\\nsamples = 3\\nvalue = [2, 1, 0]'),\n",
       " Text(0.00364612774008445, 0.7439024390243902, 'gini = 0.0\\nsamples = 1\\nvalue = [1, 0, 0]'),\n",
       " Text(0.003717271695988537, 0.7439024390243902, 'X[2] <= -4.58\\ngini = 0.5\\nsamples = 2\\nvalue = [1, 1, 0]'),\n",
       " Text(0.0036816997180364936, 0.7195121951219512, 'gini = 0.0\\nsamples = 1\\nvalue = [0, 1, 0]'),\n",
       " Text(0.0037528436739405805, 0.7195121951219512, 'gini = 0.0\\nsamples = 1\\nvalue = [1, 0, 0]'),\n",
       " Text(0.0037528436739405805, 0.7682926829268293, 'gini = 0.0\\nsamples = 3\\nvalue = [0, 3, 0]'),\n",
       " Text(0.003859559607796711, 0.7926829268292683, 'X[3] <= -5.458\\ngini = 0.124\\nsamples = 15\\nvalue = [14, 1, 0]'),\n",
       " Text(0.0038239876298446674, 0.7682926829268293, 'X[1] <= -0.346\\ngini = 0.444\\nsamples = 3\\nvalue = [2, 1, 0]'),\n",
       " Text(0.003788415651892624, 0.7439024390243902, 'gini = 0.0\\nsamples = 2\\nvalue = [2, 0, 0]'),\n",
       " Text(0.003859559607796711, 0.7439024390243902, 'gini = 0.0\\nsamples = 1\\nvalue = [0, 1, 0]'),\n",
       " Text(0.003895131585748754, 0.7682926829268293, 'gini = 0.0\\nsamples = 12\\nvalue = [12, 0, 0]'),\n",
       " Text(0.004330888315661286, 0.8170731707317073, 'X[1] <= 2.826\\ngini = 0.486\\nsamples = 53\\nvalue = [22, 31, 0]'),\n",
       " Text(0.004161921420389079, 0.7926829268292683, 'X[1] <= 0.195\\ngini = 0.5\\nsamples = 40\\nvalue = [20, 20, 0]'),\n",
       " Text(0.0040018475196048845, 0.7682926829268293, 'X[1] <= -1.784\\ngini = 0.471\\nsamples = 29\\nvalue = [11, 18, 0]'),\n",
       " Text(0.003930703563700798, 0.7439024390243902, 'X[1] <= -4.725\\ngini = 0.5\\nsamples = 18\\nvalue = [9, 9, 0]'),\n",
       " Text(0.003895131585748754, 0.7195121951219512, 'gini = 0.0\\nsamples = 4\\nvalue = [0, 4, 0]'),\n",
       " Text(0.003966275541652841, 0.7195121951219512, 'X[2] <= -5.34\\ngini = 0.459\\nsamples = 14\\nvalue = [9, 5, 0]'),\n",
       " Text(0.003930703563700798, 0.6951219512195121, 'gini = 0.0\\nsamples = 1\\nvalue = [0, 1, 0]'),\n",
       " Text(0.0040018475196048845, 0.6951219512195121, 'X[2] <= -4.601\\ngini = 0.426\\nsamples = 13\\nvalue = [9, 4, 0]'),\n",
       " Text(0.003966275541652841, 0.6707317073170732, 'gini = 0.0\\nsamples = 5\\nvalue = [5, 0, 0]'),\n",
       " Text(0.0040374194975569275, 0.6707317073170732, 'X[3] <= 1.868\\ngini = 0.5\\nsamples = 8\\nvalue = [4, 4, 0]'),\n",
       " Text(0.0040018475196048845, 0.6463414634146342, 'X[1] <= -3.894\\ngini = 0.444\\nsamples = 6\\nvalue = [2, 4, 0]'),\n",
       " Text(0.003966275541652841, 0.6219512195121951, 'gini = 0.0\\nsamples = 1\\nvalue = [1, 0, 0]'),\n",
       " Text(0.0040374194975569275, 0.6219512195121951, 'X[2] <= -4.506\\ngini = 0.32\\nsamples = 5\\nvalue = [1, 4, 0]'),\n",
       " Text(0.0040018475196048845, 0.5975609756097561, 'X[1] <= -3.273\\ngini = 0.5\\nsamples = 2\\nvalue = [1, 1, 0]'),\n",
       " Text(0.003966275541652841, 0.573170731707317, 'gini = 0.0\\nsamples = 1\\nvalue = [0, 1, 0]'),\n",
       " Text(0.0040374194975569275, 0.573170731707317, 'gini = 0.0\\nsamples = 1\\nvalue = [1, 0, 0]'),\n",
       " Text(0.004072991475508971, 0.5975609756097561, 'gini = 0.0\\nsamples = 3\\nvalue = [0, 3, 0]'),\n",
       " Text(0.004072991475508971, 0.6463414634146342, 'gini = 0.0\\nsamples = 2\\nvalue = [2, 0, 0]'),\n",
       " Text(0.004072991475508971, 0.7439024390243902, 'X[2] <= -5.06\\ngini = 0.298\\nsamples = 11\\nvalue = [2, 9, 0]'),\n",
       " Text(0.0040374194975569275, 0.7195121951219512, 'gini = 0.0\\nsamples = 1\\nvalue = [1, 0, 0]'),\n",
       " Text(0.004108563453461014, 0.7195121951219512, 'X[3] <= 3.158\\ngini = 0.18\\nsamples = 10\\nvalue = [1, 9, 0]'),\n",
       " Text(0.004072991475508971, 0.6951219512195121, 'gini = 0.0\\nsamples = 8\\nvalue = [0, 8, 0]'),\n",
       " Text(0.004144135431413058, 0.6951219512195121, 'X[2] <= -4.82\\ngini = 0.5\\nsamples = 2\\nvalue = [1, 1, 0]'),\n",
       " Text(0.004108563453461014, 0.6707317073170732, 'gini = 0.0\\nsamples = 1\\nvalue = [0, 1, 0]'),\n",
       " Text(0.004179707409365101, 0.6707317073170732, 'gini = 0.0\\nsamples = 1\\nvalue = [1, 0, 0]'),\n",
       " Text(0.004321995321173275, 0.7682926829268293, 'X[3] <= 4.463\\ngini = 0.298\\nsamples = 11\\nvalue = [9, 2, 0]'),\n",
       " Text(0.004286423343221232, 0.7439024390243902, 'X[3] <= -1.156\\ngini = 0.18\\nsamples = 10\\nvalue = [9, 1, 0]'),\n",
       " Text(0.004250851365269188, 0.7195121951219512, 'X[3] <= -1.502\\ngini = 0.444\\nsamples = 3\\nvalue = [2, 1, 0]'),\n",
       " Text(0.004215279387317145, 0.6951219512195121, 'gini = 0.0\\nsamples = 2\\nvalue = [2, 0, 0]'),\n",
       " Text(0.004286423343221232, 0.6951219512195121, 'gini = 0.0\\nsamples = 1\\nvalue = [0, 1, 0]'),\n",
       " Text(0.004321995321173275, 0.7195121951219512, 'gini = 0.0\\nsamples = 7\\nvalue = [7, 0, 0]'),\n",
       " Text(0.004357567299125319, 0.7439024390243902, 'gini = 0.0\\nsamples = 1\\nvalue = [0, 1, 0]'),\n",
       " Text(0.004499855210933492, 0.7926829268292683, 'X[2] <= -4.176\\ngini = 0.26\\nsamples = 13\\nvalue = [2, 11, 0]'),\n",
       " Text(0.004464283232981449, 0.7682926829268293, 'X[3] <= 2.635\\ngini = 0.153\\nsamples = 12\\nvalue = [1, 11, 0]'),\n",
       " Text(0.004428711255029405, 0.7439024390243902, 'gini = 0.0\\nsamples = 9\\nvalue = [0, 9, 0]'),\n",
       " Text(0.004499855210933492, 0.7439024390243902, 'X[3] <= 3.113\\ngini = 0.444\\nsamples = 3\\nvalue = [1, 2, 0]'),\n",
       " Text(0.004464283232981449, 0.7195121951219512, 'gini = 0.0\\nsamples = 1\\nvalue = [1, 0, 0]'),\n",
       " Text(0.0045354271888855355, 0.7195121951219512, 'gini = 0.0\\nsamples = 2\\nvalue = [0, 2, 0]'),\n",
       " Text(0.0045354271888855355, 0.7682926829268293, 'gini = 0.0\\nsamples = 1\\nvalue = [1, 0, 0]'),\n",
       " Text(0.005141262438381275, 0.8902439024390244, 'X[0] <= 0.713\\ngini = 0.452\\nsamples = 386\\nvalue = [253, 133, 0]'),\n",
       " Text(0.004642143122741665, 0.8658536585365854, 'X[3] <= 1.586\\ngini = 0.051\\nsamples = 76\\nvalue = [74, 2, 0]'),\n",
       " Text(0.0045709991668375785, 0.8414634146341463, 'X[0] <= 0.509\\ngini = 0.027\\nsamples = 72\\nvalue = [71, 1, 0]'),\n",
       " Text(0.0045354271888855355, 0.8170731707317073, 'gini = 0.0\\nsamples = 54\\nvalue = [54, 0, 0]'),\n",
       " Text(0.004606571144789622, 0.8170731707317073, 'X[1] <= 0.114\\ngini = 0.105\\nsamples = 18\\nvalue = [17, 1, 0]'),\n",
       " Text(0.0045709991668375785, 0.7926829268292683, 'gini = 0.0\\nsamples = 12\\nvalue = [12, 0, 0]'),\n",
       " Text(0.004642143122741665, 0.7926829268292683, 'X[3] <= -0.321\\ngini = 0.278\\nsamples = 6\\nvalue = [5, 1, 0]'),\n",
       " Text(0.004606571144789622, 0.7682926829268293, 'gini = 0.0\\nsamples = 4\\nvalue = [4, 0, 0]'),\n",
       " Text(0.004677715100693709, 0.7682926829268293, 'X[2] <= -3.529\\ngini = 0.5\\nsamples = 2\\nvalue = [1, 1, 0]'),\n",
       " Text(0.004642143122741665, 0.7439024390243902, 'gini = 0.0\\nsamples = 1\\nvalue = [0, 1, 0]'),\n",
       " Text(0.004713287078645752, 0.7439024390243902, 'gini = 0.0\\nsamples = 1\\nvalue = [1, 0, 0]'),\n",
       " Text(0.004713287078645752, 0.8414634146341463, 'X[3] <= 1.785\\ngini = 0.375\\nsamples = 4\\nvalue = [3, 1, 0]'),\n",
       " Text(0.004677715100693709, 0.8170731707317073, 'gini = 0.0\\nsamples = 1\\nvalue = [0, 1, 0]'),\n",
       " Text(0.004748859056597796, 0.8170731707317073, 'gini = 0.0\\nsamples = 3\\nvalue = [3, 0, 0]'),\n",
       " Text(0.005640381754020884, 0.8658536585365854, 'X[3] <= -2.295\\ngini = 0.488\\nsamples = 310\\nvalue = [179, 131, 0]'),\n",
       " Text(0.004980076913286078, 0.8414634146341463, 'X[1] <= -0.705\\ngini = 0.369\\nsamples = 45\\nvalue = [34, 11, 0]'),\n",
       " Text(0.00489114696840597, 0.8170731707317073, 'X[3] <= -3.043\\ngini = 0.486\\nsamples = 12\\nvalue = [5, 7, 0]'),\n",
       " Text(0.004855574990453926, 0.7926829268292683, 'X[3] <= -4.235\\ngini = 0.494\\nsamples = 9\\nvalue = [5, 4, 0]'),\n",
       " Text(0.004820003012501883, 0.7682926829268293, 'X[3] <= -4.759\\ngini = 0.444\\nsamples = 6\\nvalue = [2, 4, 0]'),\n",
       " Text(0.004784431034549839, 0.7439024390243902, 'X[0] <= 1.53\\ngini = 0.444\\nsamples = 3\\nvalue = [2, 1, 0]'),\n",
       " Text(0.004748859056597796, 0.7195121951219512, 'gini = 0.0\\nsamples = 1\\nvalue = [1, 0, 0]'),\n",
       " Text(0.004820003012501883, 0.7195121951219512, 'X[3] <= -5.823\\ngini = 0.5\\nsamples = 2\\nvalue = [1, 1, 0]'),\n",
       " Text(0.004784431034549839, 0.6951219512195121, 'gini = 0.0\\nsamples = 1\\nvalue = [0, 1, 0]'),\n",
       " Text(0.004855574990453926, 0.6951219512195121, 'gini = 0.0\\nsamples = 1\\nvalue = [1, 0, 0]'),\n",
       " Text(0.004855574990453926, 0.7439024390243902, 'gini = 0.0\\nsamples = 3\\nvalue = [0, 3, 0]'),\n",
       " Text(0.00489114696840597, 0.7682926829268293, 'gini = 0.0\\nsamples = 3\\nvalue = [3, 0, 0]'),\n",
       " Text(0.004926718946358013, 0.7926829268292683, 'gini = 0.0\\nsamples = 3\\nvalue = [0, 3, 0]'),\n",
       " Text(0.005069006858166187, 0.8170731707317073, 'X[3] <= -4.39\\ngini = 0.213\\nsamples = 33\\nvalue = [29, 4, 0]'),\n",
       " Text(0.0049978629022621, 0.7926829268292683, 'X[2] <= -3.722\\ngini = 0.49\\nsamples = 7\\nvalue = [4, 3, 0]'),\n",
       " Text(0.004962290924310057, 0.7682926829268293, 'gini = 0.0\\nsamples = 3\\nvalue = [3, 0, 0]'),\n",
       " Text(0.005033434880214144, 0.7682926829268293, 'X[1] <= -0.021\\ngini = 0.375\\nsamples = 4\\nvalue = [1, 3, 0]'),\n",
       " Text(0.0049978629022621, 0.7439024390243902, 'gini = 0.0\\nsamples = 1\\nvalue = [1, 0, 0]'),\n",
       " Text(0.005069006858166187, 0.7439024390243902, 'gini = 0.0\\nsamples = 3\\nvalue = [0, 3, 0]'),\n",
       " Text(0.0051401508140702734, 0.7926829268292683, 'X[1] <= 2.167\\ngini = 0.074\\nsamples = 26\\nvalue = [25, 1, 0]'),\n",
       " Text(0.0051045788361182304, 0.7682926829268293, 'gini = 0.0\\nsamples = 18\\nvalue = [18, 0, 0]'),\n",
       " Text(0.005175722792022317, 0.7682926829268293, 'X[1] <= 2.308\\ngini = 0.219\\nsamples = 8\\nvalue = [7, 1, 0]'),\n",
       " Text(0.0051401508140702734, 0.7439024390243902, 'gini = 0.0\\nsamples = 1\\nvalue = [0, 1, 0]'),\n",
       " Text(0.00521129476997436, 0.7439024390243902, 'gini = 0.0\\nsamples = 7\\nvalue = [7, 0, 0]'),\n",
       " Text(0.00630068659475569, 0.8414634146341463, 'X[1] <= 0.391\\ngini = 0.496\\nsamples = 265\\nvalue = [145, 120, 0]'),\n",
       " Text(0.0056203725164228596, 0.8170731707317073, 'X[2] <= -3.593\\ngini = 0.461\\nsamples = 150\\nvalue = [96, 54, 0]'),\n",
       " Text(0.005389154659734577, 0.7926829268292683, 'X[0] <= 0.918\\ngini = 0.49\\nsamples = 98\\nvalue = [56, 42, 0]'),\n",
       " Text(0.005318010703830491, 0.7682926829268293, 'X[1] <= -0.086\\ngini = 0.231\\nsamples = 15\\nvalue = [13, 2, 0]'),\n",
       " Text(0.005282438725878447, 0.7439024390243902, 'gini = 0.0\\nsamples = 13\\nvalue = [13, 0, 0]'),\n",
       " Text(0.005353582681782534, 0.7439024390243902, 'gini = 0.0\\nsamples = 2\\nvalue = [0, 2, 0]'),\n",
       " Text(0.005460298615638664, 0.7682926829268293, 'X[1] <= 0.145\\ngini = 0.499\\nsamples = 83\\nvalue = [43, 40, 0]'),\n",
       " Text(0.005424726637686621, 0.7439024390243902, 'X[1] <= -1.05\\ngini = 0.5\\nsamples = 79\\nvalue = [39, 40, 0]'),\n",
       " Text(0.005300224714854469, 0.7195121951219512, 'X[2] <= -3.603\\ngini = 0.496\\nsamples = 64\\nvalue = [35, 29, 0]'),\n",
       " Text(0.005264652736902425, 0.6951219512195121, 'X[2] <= -3.63\\ngini = 0.489\\nsamples = 61\\nvalue = [35, 26, 0]'),\n",
       " Text(0.005229080758950382, 0.6707317073170732, 'X[2] <= -3.645\\ngini = 0.496\\nsamples = 57\\nvalue = [31, 26, 0]'),\n",
       " Text(0.005193508780998338, 0.6463414634146342, 'X[0] <= 1.53\\ngini = 0.482\\nsamples = 52\\nvalue = [31, 21, 0]'),\n",
       " Text(0.0050867928471422085, 0.6219512195121951, 'X[3] <= 4.925\\ngini = 0.438\\nsamples = 37\\nvalue = [25, 12, 0]'),\n",
       " Text(0.005051220869190165, 0.5975609756097561, 'X[2] <= -3.923\\ngini = 0.408\\nsamples = 35\\nvalue = [25, 10, 0]'),\n",
       " Text(0.004980076913286078, 0.573170731707317, 'X[1] <= -1.737\\ngini = 0.375\\nsamples = 4\\nvalue = [1, 3, 0]'),\n",
       " Text(0.004944504935334035, 0.5487804878048781, 'gini = 0.0\\nsamples = 3\\nvalue = [0, 3, 0]'),\n",
       " Text(0.005015648891238122, 0.5487804878048781, 'gini = 0.0\\nsamples = 1\\nvalue = [1, 0, 0]'),\n",
       " Text(0.0051223648250942515, 0.573170731707317, 'X[2] <= -3.833\\ngini = 0.35\\nsamples = 31\\nvalue = [24, 7, 0]'),\n",
       " Text(0.0050867928471422085, 0.5487804878048781, 'gini = 0.0\\nsamples = 7\\nvalue = [7, 0, 0]'),\n",
       " Text(0.005157936803046295, 0.5487804878048781, 'X[1] <= -4.969\\ngini = 0.413\\nsamples = 24\\nvalue = [17, 7, 0]'),\n",
       " Text(0.0050867928471422085, 0.524390243902439, 'X[2] <= -3.759\\ngini = 0.375\\nsamples = 4\\nvalue = [1, 3, 0]'),\n",
       " Text(0.005051220869190165, 0.5, 'gini = 0.0\\nsamples = 1\\nvalue = [1, 0, 0]'),\n",
       " Text(0.0051223648250942515, 0.5, 'gini = 0.0\\nsamples = 3\\nvalue = [0, 3, 0]'),\n",
       " Text(0.005229080758950382, 0.524390243902439, 'X[3] <= 1.331\\ngini = 0.32\\nsamples = 20\\nvalue = [16, 4, 0]'),\n",
       " Text(0.005193508780998338, 0.5, 'gini = 0.0\\nsamples = 9\\nvalue = [9, 0, 0]'),\n",
       " Text(0.005264652736902425, 0.5, 'X[3] <= 1.8\\ngini = 0.463\\nsamples = 11\\nvalue = [7, 4, 0]'),\n",
       " Text(0.005229080758950382, 0.47560975609756095, 'gini = 0.0\\nsamples = 2\\nvalue = [0, 2, 0]'),\n",
       " Text(0.005300224714854469, 0.47560975609756095, 'X[1] <= -3.955\\ngini = 0.346\\nsamples = 9\\nvalue = [7, 2, 0]'),\n",
       " Text(0.005264652736902425, 0.45121951219512196, 'gini = 0.0\\nsamples = 1\\nvalue = [0, 1, 0]'),\n",
       " Text(0.005335796692806512, 0.45121951219512196, 'X[1] <= -1.297\\ngini = 0.219\\nsamples = 8\\nvalue = [7, 1, 0]'),\n",
       " Text(0.005300224714854469, 0.4268292682926829, 'gini = 0.0\\nsamples = 6\\nvalue = [6, 0, 0]'),\n",
       " Text(0.005371368670758556, 0.4268292682926829, 'X[2] <= -3.706\\ngini = 0.5\\nsamples = 2\\nvalue = [1, 1, 0]'),\n",
       " Text(0.005335796692806512, 0.4024390243902439, 'gini = 0.0\\nsamples = 1\\nvalue = [0, 1, 0]'),\n",
       " Text(0.005406940648710599, 0.4024390243902439, 'gini = 0.0\\nsamples = 1\\nvalue = [1, 0, 0]'),\n",
       " Text(0.0051223648250942515, 0.5975609756097561, 'gini = 0.0\\nsamples = 2\\nvalue = [0, 2, 0]'),\n",
       " Text(0.005300224714854469, 0.6219512195121951, 'X[2] <= -3.786\\ngini = 0.48\\nsamples = 15\\nvalue = [6, 9, 0]'),\n",
       " Text(0.005229080758950382, 0.5975609756097561, 'X[1] <= -2.376\\ngini = 0.346\\nsamples = 9\\nvalue = [2, 7, 0]'),\n",
       " Text(0.005193508780998338, 0.573170731707317, 'gini = 0.0\\nsamples = 7\\nvalue = [0, 7, 0]'),\n",
       " Text(0.005264652736902425, 0.573170731707317, 'gini = 0.0\\nsamples = 2\\nvalue = [2, 0, 0]'),\n",
       " Text(0.005371368670758556, 0.5975609756097561, 'X[3] <= -0.592\\ngini = 0.444\\nsamples = 6\\nvalue = [4, 2, 0]'),\n",
       " Text(0.005335796692806512, 0.573170731707317, 'gini = 0.0\\nsamples = 1\\nvalue = [0, 1, 0]'),\n",
       " Text(0.005406940648710599, 0.573170731707317, 'X[1] <= -6.716\\ngini = 0.32\\nsamples = 5\\nvalue = [4, 1, 0]'),\n",
       " Text(0.005371368670758556, 0.5487804878048781, 'gini = 0.0\\nsamples = 1\\nvalue = [0, 1, 0]'),\n",
       " Text(0.005442512626662643, 0.5487804878048781, 'gini = 0.0\\nsamples = 4\\nvalue = [4, 0, 0]'),\n",
       " Text(0.005264652736902425, 0.6463414634146342, 'gini = 0.0\\nsamples = 5\\nvalue = [0, 5, 0]'),\n",
       " Text(0.005300224714854469, 0.6707317073170732, 'gini = 0.0\\nsamples = 4\\nvalue = [4, 0, 0]'),\n",
       " Text(0.005335796692806512, 0.6951219512195121, 'gini = 0.0\\nsamples = 3\\nvalue = [0, 3, 0]'),\n",
       " Text(0.005549228560518773, 0.7195121951219512, 'X[3] <= 1.326\\ngini = 0.391\\nsamples = 15\\nvalue = [4, 11, 0]'),\n",
       " Text(0.005478084604614686, 0.6951219512195121, 'X[2] <= -3.609\\ngini = 0.278\\nsamples = 12\\nvalue = [2, 10, 0]'),\n",
       " Text(0.005442512626662643, 0.6707317073170732, 'X[3] <= -1.198\\ngini = 0.165\\nsamples = 11\\nvalue = [1, 10, 0]'),\n",
       " Text(0.005406940648710599, 0.6463414634146342, 'X[1] <= -0.218\\ngini = 0.444\\nsamples = 3\\nvalue = [1, 2, 0]'),\n",
       " Text(0.005371368670758556, 0.6219512195121951, 'gini = 0.0\\nsamples = 2\\nvalue = [0, 2, 0]'),\n",
       " Text(0.005442512626662643, 0.6219512195121951, 'gini = 0.0\\nsamples = 1\\nvalue = [1, 0, 0]'),\n",
       " Text(0.005478084604614686, 0.6463414634146342, 'gini = 0.0\\nsamples = 8\\nvalue = [0, 8, 0]'),\n",
       " Text(0.00551365658256673, 0.6707317073170732, 'gini = 0.0\\nsamples = 1\\nvalue = [1, 0, 0]'),\n",
       " Text(0.0056203725164228596, 0.6951219512195121, 'X[1] <= -0.142\\ngini = 0.444\\nsamples = 3\\nvalue = [2, 1, 0]'),\n",
       " Text(0.0055848005384708166, 0.6707317073170732, 'gini = 0.0\\nsamples = 2\\nvalue = [2, 0, 0]'),\n",
       " Text(0.005655944494374903, 0.6707317073170732, 'gini = 0.0\\nsamples = 1\\nvalue = [0, 1, 0]'),\n",
       " Text(0.005495870593590708, 0.7439024390243902, 'gini = 0.0\\nsamples = 4\\nvalue = [4, 0, 0]'),\n",
       " Text(0.005851590373111142, 0.7926829268292683, 'X[3] <= 6.227\\ngini = 0.355\\nsamples = 52\\nvalue = [40, 12, 0]'),\n",
       " Text(0.005816018395159098, 0.7682926829268293, 'X[1] <= -8.819\\ngini = 0.338\\nsamples = 51\\nvalue = [40, 11, 0]'),\n",
       " Text(0.005780446417207055, 0.7439024390243902, 'gini = 0.0\\nsamples = 1\\nvalue = [0, 1, 0]'),\n",
       " Text(0.005851590373111142, 0.7439024390243902, 'X[0] <= 0.918\\ngini = 0.32\\nsamples = 50\\nvalue = [40, 10, 0]'),\n",
       " Text(0.00572708845027899, 0.7195121951219512, 'X[3] <= 0.27\\ngini = 0.49\\nsamples = 7\\nvalue = [4, 3, 0]'),\n",
       " Text(0.005691516472326946, 0.6951219512195121, 'gini = 0.0\\nsamples = 3\\nvalue = [3, 0, 0]'),\n",
       " Text(0.005762660428231033, 0.6951219512195121, 'X[2] <= -3.426\\ngini = 0.375\\nsamples = 4\\nvalue = [1, 3, 0]'),\n",
       " Text(0.00572708845027899, 0.6707317073170732, 'gini = 0.0\\nsamples = 3\\nvalue = [0, 3, 0]'),\n",
       " Text(0.005798232406183077, 0.6707317073170732, 'gini = 0.0\\nsamples = 1\\nvalue = [1, 0, 0]'),\n",
       " Text(0.005976092295943294, 0.7195121951219512, 'X[3] <= 1.473\\ngini = 0.273\\nsamples = 43\\nvalue = [36, 7, 0]'),\n",
       " Text(0.00594052031799125, 0.6951219512195121, 'X[3] <= 1.011\\ngini = 0.375\\nsamples = 28\\nvalue = [21, 7, 0]'),\n",
       " Text(0.005869376362087164, 0.6707317073170732, 'X[3] <= -0.991\\ngini = 0.287\\nsamples = 23\\nvalue = [19, 4, 0]'),\n",
       " Text(0.00583380438413512, 0.6463414634146342, 'gini = 0.0\\nsamples = 5\\nvalue = [5, 0, 0]'),\n",
       " Text(0.005904948340039207, 0.6463414634146342, 'X[3] <= -0.844\\ngini = 0.346\\nsamples = 18\\nvalue = [14, 4, 0]'),\n",
       " Text(0.005869376362087164, 0.6219512195121951, 'gini = 0.0\\nsamples = 1\\nvalue = [0, 1, 0]'),\n",
       " Text(0.00594052031799125, 0.6219512195121951, 'X[1] <= -0.441\\ngini = 0.291\\nsamples = 17\\nvalue = [14, 3, 0]'),\n",
       " Text(0.005869376362087164, 0.5975609756097561, 'X[3] <= -0.411\\ngini = 0.153\\nsamples = 12\\nvalue = [11, 1, 0]'),\n",
       " Text(0.00583380438413512, 0.573170731707317, 'X[1] <= -3.308\\ngini = 0.5\\nsamples = 2\\nvalue = [1, 1, 0]'),\n",
       " Text(0.005798232406183077, 0.5487804878048781, 'gini = 0.0\\nsamples = 1\\nvalue = [1, 0, 0]'),\n",
       " Text(0.005869376362087164, 0.5487804878048781, 'gini = 0.0\\nsamples = 1\\nvalue = [0, 1, 0]'),\n",
       " Text(0.005904948340039207, 0.573170731707317, 'gini = 0.0\\nsamples = 10\\nvalue = [10, 0, 0]'),\n",
       " Text(0.006011664273895337, 0.5975609756097561, 'X[0] <= 1.53\\ngini = 0.48\\nsamples = 5\\nvalue = [3, 2, 0]'),\n",
       " Text(0.005976092295943294, 0.573170731707317, 'X[0] <= 1.326\\ngini = 0.444\\nsamples = 3\\nvalue = [1, 2, 0]'),\n",
       " Text(0.00594052031799125, 0.5487804878048781, 'gini = 0.0\\nsamples = 1\\nvalue = [0, 1, 0]'),\n",
       " Text(0.006011664273895337, 0.5487804878048781, 'X[1] <= -0.202\\ngini = 0.5\\nsamples = 2\\nvalue = [1, 1, 0]'),\n",
       " Text(0.005976092295943294, 0.524390243902439, 'gini = 0.0\\nsamples = 1\\nvalue = [0, 1, 0]'),\n",
       " Text(0.006047236251847381, 0.524390243902439, 'gini = 0.0\\nsamples = 1\\nvalue = [1, 0, 0]'),\n",
       " Text(0.006047236251847381, 0.573170731707317, 'gini = 0.0\\nsamples = 2\\nvalue = [2, 0, 0]'),\n",
       " Text(0.006011664273895337, 0.6707317073170732, 'X[0] <= 1.326\\ngini = 0.48\\nsamples = 5\\nvalue = [2, 3, 0]'),\n",
       " Text(0.005976092295943294, 0.6463414634146342, 'gini = 0.0\\nsamples = 2\\nvalue = [0, 2, 0]'),\n",
       " Text(0.006047236251847381, 0.6463414634146342, 'X[2] <= -3.432\\ngini = 0.444\\nsamples = 3\\nvalue = [2, 1, 0]'),\n",
       " Text(0.006011664273895337, 0.6219512195121951, 'gini = 0.0\\nsamples = 1\\nvalue = [0, 1, 0]'),\n",
       " Text(0.006082808229799424, 0.6219512195121951, 'gini = 0.0\\nsamples = 2\\nvalue = [2, 0, 0]'),\n",
       " Text(0.006011664273895337, 0.6951219512195121, 'gini = 0.0\\nsamples = 15\\nvalue = [15, 0, 0]'),\n",
       " Text(0.005887162351063185, 0.7682926829268293, 'gini = 0.0\\nsamples = 1\\nvalue = [0, 1, 0]'),\n",
       " Text(0.00698100067308852, 0.8170731707317073, 'X[1] <= 0.904\\ngini = 0.489\\nsamples = 115\\nvalue = [49, 66, 0]'),\n",
       " Text(0.006794247788840292, 0.7926829268292683, 'X[1] <= 0.565\\ngini = 0.142\\nsamples = 13\\nvalue = [1, 12, 0]'),\n",
       " Text(0.006758675810888249, 0.7682926829268293, 'X[1] <= 0.489\\ngini = 0.444\\nsamples = 3\\nvalue = [1, 2, 0]'),\n",
       " Text(0.0067231038329362055, 0.7439024390243902, 'gini = 0.0\\nsamples = 2\\nvalue = [0, 2, 0]'),\n",
       " Text(0.006794247788840292, 0.7439024390243902, 'gini = 0.0\\nsamples = 1\\nvalue = [1, 0, 0]'),\n",
       " Text(0.006829819766792336, 0.7682926829268293, 'gini = 0.0\\nsamples = 10\\nvalue = [0, 10, 0]'),\n",
       " Text(0.007167753557336749, 0.7926829268292683, 'X[2] <= -3.398\\ngini = 0.498\\nsamples = 102\\nvalue = [48, 54, 0]'),\n",
       " Text(0.007132181579384705, 0.7682926829268293, 'X[1] <= 4.72\\ngini = 0.5\\nsamples = 96\\nvalue = [48, 48, 0]'),\n",
       " Text(0.006865391744744379, 0.7439024390243902, 'X[0] <= 1.326\\ngini = 0.497\\nsamples = 84\\nvalue = [39, 45, 0]'),\n",
       " Text(0.006598601910104054, 0.7195121951219512, 'X[3] <= 1.173\\ngini = 0.465\\nsamples = 49\\nvalue = [18, 31, 0]'),\n",
       " Text(0.006402956031367815, 0.6951219512195121, 'X[2] <= -3.693\\ngini = 0.499\\nsamples = 29\\nvalue = [15, 14, 0]'),\n",
       " Text(0.006260668119559641, 0.6707317073170732, 'X[3] <= -0.219\\ngini = 0.391\\nsamples = 15\\nvalue = [11, 4, 0]'),\n",
       " Text(0.0061895241636555545, 0.6463414634146342, 'X[3] <= -1.062\\ngini = 0.48\\nsamples = 5\\nvalue = [2, 3, 0]'),\n",
       " Text(0.006153952185703511, 0.6219512195121951, 'gini = 0.0\\nsamples = 2\\nvalue = [2, 0, 0]'),\n",
       " Text(0.0062250961416075975, 0.6219512195121951, 'gini = 0.0\\nsamples = 3\\nvalue = [0, 3, 0]'),\n",
       " Text(0.006331812075463728, 0.6463414634146342, 'X[1] <= 3.082\\ngini = 0.18\\nsamples = 10\\nvalue = [9, 1, 0]'),\n",
       " Text(0.006296240097511684, 0.6219512195121951, 'gini = 0.0\\nsamples = 9\\nvalue = [9, 0, 0]'),\n",
       " Text(0.006367384053415771, 0.6219512195121951, 'gini = 0.0\\nsamples = 1\\nvalue = [0, 1, 0]'),\n",
       " Text(0.006545243943175989, 0.6707317073170732, 'X[3] <= -1.633\\ngini = 0.408\\nsamples = 14\\nvalue = [4, 10, 0]'),\n",
       " Text(0.006474099987271902, 0.6463414634146342, 'X[3] <= -2.029\\ngini = 0.444\\nsamples = 3\\nvalue = [2, 1, 0]'),\n",
       " Text(0.006438528009319858, 0.6219512195121951, 'gini = 0.0\\nsamples = 1\\nvalue = [0, 1, 0]'),\n",
       " Text(0.006509671965223945, 0.6219512195121951, 'gini = 0.0\\nsamples = 2\\nvalue = [2, 0, 0]'),\n",
       " Text(0.006616387899080076, 0.6463414634146342, 'X[3] <= 1.067\\ngini = 0.298\\nsamples = 11\\nvalue = [2, 9, 0]'),\n",
       " Text(0.006580815921128032, 0.6219512195121951, 'X[2] <= -3.649\\ngini = 0.18\\nsamples = 10\\nvalue = [1, 9, 0]'),\n",
       " Text(0.006545243943175989, 0.5975609756097561, 'X[3] <= 0.096\\ngini = 0.444\\nsamples = 3\\nvalue = [1, 2, 0]'),\n",
       " Text(0.006509671965223945, 0.573170731707317, 'gini = 0.0\\nsamples = 1\\nvalue = [1, 0, 0]'),\n",
       " Text(0.006580815921128032, 0.573170731707317, 'gini = 0.0\\nsamples = 2\\nvalue = [0, 2, 0]'),\n",
       " Text(0.006616387899080076, 0.5975609756097561, 'gini = 0.0\\nsamples = 7\\nvalue = [0, 7, 0]'),\n",
       " Text(0.006651959877032119, 0.6219512195121951, 'gini = 0.0\\nsamples = 1\\nvalue = [1, 0, 0]'),\n",
       " Text(0.006794247788840292, 0.6951219512195121, 'X[2] <= -4.015\\ngini = 0.255\\nsamples = 20\\nvalue = [3, 17, 0]'),\n",
       " Text(0.0067231038329362055, 0.6707317073170732, 'X[3] <= 3.482\\ngini = 0.444\\nsamples = 3\\nvalue = [2, 1, 0]'),\n",
       " Text(0.0066875318549841625, 0.6463414634146342, 'gini = 0.0\\nsamples = 2\\nvalue = [2, 0, 0]'),\n",
       " Text(0.006758675810888249, 0.6463414634146342, 'gini = 0.0\\nsamples = 1\\nvalue = [0, 1, 0]'),\n",
       " Text(0.006865391744744379, 0.6707317073170732, 'X[2] <= -3.514\\ngini = 0.111\\nsamples = 17\\nvalue = [1, 16, 0]'),\n",
       " Text(0.006829819766792336, 0.6463414634146342, 'gini = 0.0\\nsamples = 13\\nvalue = [0, 13, 0]'),\n",
       " Text(0.006900963722696422, 0.6463414634146342, 'X[2] <= -3.495\\ngini = 0.375\\nsamples = 4\\nvalue = [1, 3, 0]'),\n",
       " Text(0.006865391744744379, 0.6219512195121951, 'gini = 0.0\\nsamples = 1\\nvalue = [1, 0, 0]'),\n",
       " Text(0.006936535700648466, 0.6219512195121951, 'gini = 0.0\\nsamples = 3\\nvalue = [0, 3, 0]'),\n",
       " Text(0.007132181579384705, 0.7195121951219512, 'X[3] <= 1.763\\ngini = 0.48\\nsamples = 35\\nvalue = [21, 14, 0]'),\n",
       " Text(0.007007679656552553, 0.6951219512195121, 'X[1] <= 1.188\\ngini = 0.499\\nsamples = 21\\nvalue = [10, 11, 0]'),\n",
       " Text(0.006972107678600509, 0.6707317073170732, 'gini = 0.0\\nsamples = 3\\nvalue = [3, 0, 0]'),\n",
       " Text(0.007043251634504596, 0.6707317073170732, 'X[3] <= -0.81\\ngini = 0.475\\nsamples = 18\\nvalue = [7, 11, 0]'),\n",
       " Text(0.007007679656552553, 0.6463414634146342, 'gini = 0.0\\nsamples = 3\\nvalue = [0, 3, 0]'),\n",
       " Text(0.00707882361245664, 0.6463414634146342, 'X[3] <= -0.17\\ngini = 0.498\\nsamples = 15\\nvalue = [7, 8, 0]'),\n",
       " Text(0.007007679656552553, 0.6219512195121951, 'X[3] <= -0.456\\ngini = 0.32\\nsamples = 5\\nvalue = [4, 1, 0]'),\n",
       " Text(0.006972107678600509, 0.5975609756097561, 'X[2] <= -3.638\\ngini = 0.5\\nsamples = 2\\nvalue = [1, 1, 0]'),\n",
       " Text(0.006936535700648466, 0.573170731707317, 'gini = 0.0\\nsamples = 1\\nvalue = [0, 1, 0]'),\n",
       " Text(0.007007679656552553, 0.573170731707317, 'gini = 0.0\\nsamples = 1\\nvalue = [1, 0, 0]'),\n",
       " Text(0.007043251634504596, 0.5975609756097561, 'gini = 0.0\\nsamples = 3\\nvalue = [3, 0, 0]'),\n",
       " Text(0.007149967568360727, 0.6219512195121951, 'X[1] <= 4.191\\ngini = 0.42\\nsamples = 10\\nvalue = [3, 7, 0]'),\n",
       " Text(0.007114395590408683, 0.5975609756097561, 'X[2] <= -3.585\\ngini = 0.346\\nsamples = 9\\nvalue = [2, 7, 0]'),\n",
       " Text(0.00707882361245664, 0.573170731707317, 'X[2] <= -3.709\\ngini = 0.5\\nsamples = 4\\nvalue = [2, 2, 0]'),\n",
       " Text(0.007043251634504596, 0.5487804878048781, 'gini = 0.0\\nsamples = 2\\nvalue = [0, 2, 0]'),\n",
       " Text(0.007114395590408683, 0.5487804878048781, 'gini = 0.0\\nsamples = 2\\nvalue = [2, 0, 0]'),\n",
       " Text(0.007149967568360727, 0.573170731707317, 'gini = 0.0\\nsamples = 5\\nvalue = [0, 5, 0]'),\n",
       " Text(0.00718553954631277, 0.5975609756097561, 'gini = 0.0\\nsamples = 1\\nvalue = [1, 0, 0]'),\n",
       " Text(0.0072566835022168565, 0.6951219512195121, 'X[2] <= -3.92\\ngini = 0.337\\nsamples = 14\\nvalue = [11, 3, 0]'),\n",
       " Text(0.0072211115242648135, 0.6707317073170732, 'gini = 0.0\\nsamples = 2\\nvalue = [0, 2, 0]'),\n",
       " Text(0.0072922554801689, 0.6707317073170732, 'X[1] <= 1.289\\ngini = 0.153\\nsamples = 12\\nvalue = [11, 1, 0]'),\n",
       " Text(0.0072566835022168565, 0.6463414634146342, 'X[2] <= -3.764\\ngini = 0.5\\nsamples = 2\\nvalue = [1, 1, 0]'),\n",
       " Text(0.0072211115242648135, 0.6219512195121951, 'gini = 0.0\\nsamples = 1\\nvalue = [1, 0, 0]'),\n",
       " Text(0.0072922554801689, 0.6219512195121951, 'gini = 0.0\\nsamples = 1\\nvalue = [0, 1, 0]'),\n",
       " Text(0.007327827458120943, 0.6463414634146342, 'gini = 0.0\\nsamples = 10\\nvalue = [10, 0, 0]'),\n",
       " Text(0.00739897141402503, 0.7439024390243902, 'X[3] <= 4.865\\ngini = 0.375\\nsamples = 12\\nvalue = [9, 3, 0]'),\n",
       " Text(0.007363399436072987, 0.7195121951219512, 'X[3] <= -1.415\\ngini = 0.18\\nsamples = 10\\nvalue = [9, 1, 0]'),\n",
       " Text(0.007327827458120943, 0.6951219512195121, 'gini = 0.0\\nsamples = 1\\nvalue = [0, 1, 0]'),\n",
       " Text(0.00739897141402503, 0.6951219512195121, 'gini = 0.0\\nsamples = 9\\nvalue = [9, 0, 0]'),\n",
       " Text(0.007434543391977074, 0.7195121951219512, 'gini = 0.0\\nsamples = 2\\nvalue = [0, 2, 0]'),\n",
       " Text(0.007203325535288792, 0.7682926829268293, 'gini = 0.0\\nsamples = 6\\nvalue = [0, 6, 0]'),\n",
       " Text(0.0662439885004307, 0.9146341463414634, 'X[2] <= -0.358\\ngini = 0.558\\nsamples = 16084\\nvalue = [7071, 7953, 1060]'),\n",
       " Text(0.024471140776531935, 0.8902439024390244, 'X[0] <= -0.307\\ngini = 0.501\\nsamples = 10730\\nvalue = [5173, 5539, 18]'),\n",
       " Text(0.007523473336857182, 0.8658536585365854, 'X[2] <= -0.416\\ngini = 0.165\\nsamples = 397\\nvalue = [361, 36, 0]'),\n",
       " Text(0.007327827458120943, 0.8414634146341463, 'X[2] <= -0.431\\ngini = 0.013\\nsamples = 299\\nvalue = [297, 2, 0]'),\n",
       " Text(0.0072922554801689, 0.8170731707317073, 'gini = 0.0\\nsamples = 280\\nvalue = [280, 0, 0]'),\n",
       " Text(0.007363399436072987, 0.8170731707317073, 'X[1] <= -0.076\\ngini = 0.188\\nsamples = 19\\nvalue = [17, 2, 0]'),\n",
       " Text(0.007327827458120943, 0.7926829268292683, 'X[0] <= -0.512\\ngini = 0.5\\nsamples = 4\\nvalue = [2, 2, 0]'),\n",
       " Text(0.0072922554801689, 0.7682926829268293, 'gini = 0.0\\nsamples = 2\\nvalue = [2, 0, 0]'),\n",
       " Text(0.007363399436072987, 0.7682926829268293, 'gini = 0.0\\nsamples = 2\\nvalue = [0, 2, 0]'),\n",
       " Text(0.00739897141402503, 0.7926829268292683, 'gini = 0.0\\nsamples = 15\\nvalue = [15, 0, 0]'),\n",
       " Text(0.007719119215593422, 0.8414634146341463, 'X[0] <= -0.512\\ngini = 0.453\\nsamples = 98\\nvalue = [64, 34, 0]'),\n",
       " Text(0.007576831303785248, 0.8170731707317073, 'X[0] <= -0.716\\ngini = 0.241\\nsamples = 57\\nvalue = [49, 8, 0]'),\n",
       " Text(0.007470115369929117, 0.7926829268292683, 'X[2] <= -0.374\\ngini = 0.484\\nsamples = 17\\nvalue = [10, 7, 0]'),\n",
       " Text(0.007434543391977074, 0.7682926829268293, 'gini = 0.0\\nsamples = 6\\nvalue = [6, 0, 0]'),\n",
       " Text(0.007505687347881161, 0.7682926829268293, 'X[3] <= 0.097\\ngini = 0.463\\nsamples = 11\\nvalue = [4, 7, 0]'),\n",
       " Text(0.007470115369929117, 0.7439024390243902, 'gini = 0.0\\nsamples = 3\\nvalue = [0, 3, 0]'),\n",
       " Text(0.007541259325833204, 0.7439024390243902, 'X[1] <= -0.046\\ngini = 0.5\\nsamples = 8\\nvalue = [4, 4, 0]'),\n",
       " Text(0.007505687347881161, 0.7195121951219512, 'gini = 0.0\\nsamples = 3\\nvalue = [0, 3, 0]'),\n",
       " Text(0.007576831303785248, 0.7195121951219512, 'X[2] <= -0.364\\ngini = 0.32\\nsamples = 5\\nvalue = [4, 1, 0]'),\n",
       " Text(0.007541259325833204, 0.6951219512195121, 'gini = 0.0\\nsamples = 3\\nvalue = [3, 0, 0]'),\n",
       " Text(0.007612403281737291, 0.6951219512195121, 'X[3] <= 0.138\\ngini = 0.5\\nsamples = 2\\nvalue = [1, 1, 0]'),\n",
       " Text(0.007576831303785248, 0.6707317073170732, 'gini = 0.0\\nsamples = 1\\nvalue = [0, 1, 0]'),\n",
       " Text(0.007647975259689335, 0.6707317073170732, 'gini = 0.0\\nsamples = 1\\nvalue = [1, 0, 0]'),\n",
       " Text(0.007683547237641378, 0.7926829268292683, 'X[1] <= 0.089\\ngini = 0.049\\nsamples = 40\\nvalue = [39, 1, 0]'),\n",
       " Text(0.007647975259689335, 0.7682926829268293, 'gini = 0.0\\nsamples = 33\\nvalue = [33, 0, 0]'),\n",
       " Text(0.007719119215593422, 0.7682926829268293, 'X[1] <= 0.096\\ngini = 0.245\\nsamples = 7\\nvalue = [6, 1, 0]'),\n",
       " Text(0.007683547237641378, 0.7439024390243902, 'X[3] <= 0.183\\ngini = 0.5\\nsamples = 2\\nvalue = [1, 1, 0]'),\n",
       " Text(0.007647975259689335, 0.7195121951219512, 'gini = 0.0\\nsamples = 1\\nvalue = [0, 1, 0]'),\n",
       " Text(0.007719119215593422, 0.7195121951219512, 'gini = 0.0\\nsamples = 1\\nvalue = [1, 0, 0]'),\n",
       " Text(0.0077546911935454646, 0.7439024390243902, 'gini = 0.0\\nsamples = 5\\nvalue = [5, 0, 0]'),\n",
       " Text(0.007861407127401595, 0.8170731707317073, 'X[3] <= 0.27\\ngini = 0.464\\nsamples = 41\\nvalue = [15, 26, 0]'),\n",
       " Text(0.007825835149449551, 0.7926829268292683, 'X[3] <= 0.104\\ngini = 0.36\\nsamples = 34\\nvalue = [8, 26, 0]'),\n",
       " Text(0.007790263171497508, 0.7682926829268293, 'gini = 0.0\\nsamples = 15\\nvalue = [0, 15, 0]'),\n",
       " Text(0.007861407127401595, 0.7682926829268293, 'X[1] <= 0.095\\ngini = 0.488\\nsamples = 19\\nvalue = [8, 11, 0]'),\n",
       " Text(0.007825835149449551, 0.7439024390243902, 'X[3] <= 0.126\\ngini = 0.49\\nsamples = 14\\nvalue = [8, 6, 0]'),\n",
       " Text(0.007790263171497508, 0.7195121951219512, 'gini = 0.0\\nsamples = 3\\nvalue = [3, 0, 0]'),\n",
       " Text(0.007861407127401595, 0.7195121951219512, 'X[2] <= -0.369\\ngini = 0.496\\nsamples = 11\\nvalue = [5, 6, 0]'),\n",
       " Text(0.007825835149449551, 0.6951219512195121, 'X[2] <= -0.378\\ngini = 0.494\\nsamples = 9\\nvalue = [5, 4, 0]'),\n",
       " Text(0.007790263171497508, 0.6707317073170732, 'X[3] <= 0.157\\ngini = 0.49\\nsamples = 7\\nvalue = [3, 4, 0]'),\n",
       " Text(0.0077546911935454646, 0.6463414634146342, 'gini = 0.0\\nsamples = 2\\nvalue = [0, 2, 0]'),\n",
       " Text(0.007825835149449551, 0.6463414634146342, 'X[2] <= -0.4\\ngini = 0.48\\nsamples = 5\\nvalue = [3, 2, 0]'),\n",
       " Text(0.007790263171497508, 0.6219512195121951, 'gini = 0.0\\nsamples = 2\\nvalue = [2, 0, 0]'),\n",
       " Text(0.007861407127401595, 0.6219512195121951, 'X[3] <= 0.198\\ngini = 0.444\\nsamples = 3\\nvalue = [1, 2, 0]'),\n",
       " Text(0.007825835149449551, 0.5975609756097561, 'gini = 0.0\\nsamples = 1\\nvalue = [1, 0, 0]'),\n",
       " Text(0.007896979105353637, 0.5975609756097561, 'gini = 0.0\\nsamples = 2\\nvalue = [0, 2, 0]'),\n",
       " Text(0.007861407127401595, 0.6707317073170732, 'gini = 0.0\\nsamples = 2\\nvalue = [2, 0, 0]'),\n",
       " Text(0.007896979105353637, 0.6951219512195121, 'gini = 0.0\\nsamples = 2\\nvalue = [0, 2, 0]'),\n",
       " Text(0.007896979105353637, 0.7439024390243902, 'gini = 0.0\\nsamples = 5\\nvalue = [0, 5, 0]'),\n",
       " Text(0.007896979105353637, 0.7926829268292683, 'gini = 0.0\\nsamples = 7\\nvalue = [7, 0, 0]'),\n",
       " Text(0.041418808216206686, 0.8658536585365854, 'X[2] <= -1.049\\ngini = 0.5\\nsamples = 10333\\nvalue = [4812, 5503, 18]'),\n",
       " Text(0.012118442139309172, 0.8414634146341463, 'X[0] <= 0.305\\ngini = 0.499\\nsamples = 4734\\nvalue = [2450, 2284, 0]'),\n",
       " Text(0.008003695039209769, 0.8170731707317073, 'X[0] <= 0.101\\ngini = 0.017\\nsamples = 346\\nvalue = [343, 3, 0]'),\n",
       " Text(0.007968123061257725, 0.7926829268292683, 'gini = 0.0\\nsamples = 294\\nvalue = [294, 0, 0]'),\n",
       " Text(0.008039267017161811, 0.7926829268292683, 'X[2] <= -1.245\\ngini = 0.109\\nsamples = 52\\nvalue = [49, 3, 0]'),\n",
       " Text(0.008003695039209769, 0.7682926829268293, 'gini = 0.0\\nsamples = 48\\nvalue = [48, 0, 0]'),\n",
       " Text(0.008074838995113855, 0.7682926829268293, 'X[3] <= 0.868\\ngini = 0.375\\nsamples = 4\\nvalue = [1, 3, 0]'),\n",
       " Text(0.008039267017161811, 0.7439024390243902, 'gini = 0.0\\nsamples = 3\\nvalue = [0, 3, 0]'),\n",
       " Text(0.008110410973065899, 0.7439024390243902, 'gini = 0.0\\nsamples = 1\\nvalue = [1, 0, 0]'),\n",
       " Text(0.01623318923940858, 0.8170731707317073, 'X[0] <= 0.713\\ngini = 0.499\\nsamples = 4388\\nvalue = [2107, 2281, 0]'),\n",
       " Text(0.009382664997006952, 0.7926829268292683, 'X[2] <= -2.443\\ngini = 0.44\\nsamples = 698\\nvalue = [228, 470, 0]'),\n",
       " Text(0.008323842840778159, 0.7682926829268293, 'X[1] <= 0.384\\ngini = 0.44\\nsamples = 141\\nvalue = [95, 46, 0]'),\n",
       " Text(0.008181554928969985, 0.7439024390243902, 'X[1] <= -2.572\\ngini = 0.117\\nsamples = 80\\nvalue = [75, 5, 0]'),\n",
       " Text(0.008145982951017943, 0.7195121951219512, 'gini = 0.0\\nsamples = 1\\nvalue = [0, 1, 0]'),\n",
       " Text(0.008217126906922029, 0.7195121951219512, 'X[3] <= -1.288\\ngini = 0.096\\nsamples = 79\\nvalue = [75, 4, 0]'),\n",
       " Text(0.008181554928969985, 0.6951219512195121, 'gini = 0.0\\nsamples = 1\\nvalue = [0, 1, 0]'),\n",
       " Text(0.008252698884874073, 0.6951219512195121, 'X[2] <= -2.675\\ngini = 0.074\\nsamples = 78\\nvalue = [75, 3, 0]'),\n",
       " Text(0.008217126906922029, 0.6707317073170732, 'gini = 0.0\\nsamples = 53\\nvalue = [53, 0, 0]'),\n",
       " Text(0.008288270862826116, 0.6707317073170732, 'X[2] <= -2.667\\ngini = 0.211\\nsamples = 25\\nvalue = [22, 3, 0]'),\n",
       " Text(0.008252698884874073, 0.6463414634146342, 'gini = 0.0\\nsamples = 1\\nvalue = [0, 1, 0]'),\n",
       " Text(0.008323842840778159, 0.6463414634146342, 'X[3] <= -0.652\\ngini = 0.153\\nsamples = 24\\nvalue = [22, 2, 0]'),\n",
       " Text(0.008288270862826116, 0.6219512195121951, 'gini = 0.0\\nsamples = 1\\nvalue = [0, 1, 0]'),\n",
       " Text(0.008359414818730202, 0.6219512195121951, 'X[3] <= -0.137\\ngini = 0.083\\nsamples = 23\\nvalue = [22, 1, 0]'),\n",
       " Text(0.008323842840778159, 0.5975609756097561, 'X[1] <= -0.723\\ngini = 0.32\\nsamples = 5\\nvalue = [4, 1, 0]'),\n",
       " Text(0.008288270862826116, 0.573170731707317, 'gini = 0.0\\nsamples = 1\\nvalue = [0, 1, 0]'),\n",
       " Text(0.008359414818730202, 0.573170731707317, 'gini = 0.0\\nsamples = 4\\nvalue = [4, 0, 0]'),\n",
       " Text(0.008394986796682246, 0.5975609756097561, 'gini = 0.0\\nsamples = 18\\nvalue = [18, 0, 0]'),\n",
       " Text(0.008466130752586332, 0.7439024390243902, 'X[3] <= 0.319\\ngini = 0.441\\nsamples = 61\\nvalue = [20, 41, 0]'),\n",
       " Text(0.008394986796682246, 0.7195121951219512, 'X[0] <= 0.509\\ngini = 0.225\\nsamples = 31\\nvalue = [4, 27, 0]'),\n",
       " Text(0.008359414818730202, 0.6951219512195121, 'gini = 0.0\\nsamples = 3\\nvalue = [3, 0, 0]'),\n",
       " Text(0.00843055877463429, 0.6951219512195121, 'X[1] <= 1.777\\ngini = 0.069\\nsamples = 28\\nvalue = [1, 27, 0]'),\n",
       " Text(0.008394986796682246, 0.6707317073170732, 'gini = 0.0\\nsamples = 27\\nvalue = [0, 27, 0]'),\n",
       " Text(0.008466130752586332, 0.6707317073170732, 'gini = 0.0\\nsamples = 1\\nvalue = [1, 0, 0]'),\n",
       " Text(0.00853727470849042, 0.7195121951219512, 'X[2] <= -3.058\\ngini = 0.498\\nsamples = 30\\nvalue = [16, 14, 0]'),\n",
       " Text(0.008501702730538376, 0.6951219512195121, 'gini = 0.0\\nsamples = 6\\nvalue = [6, 0, 0]'),\n",
       " Text(0.008572846686442464, 0.6951219512195121, 'X[3] <= 1.702\\ngini = 0.486\\nsamples = 24\\nvalue = [10, 14, 0]'),\n",
       " Text(0.00853727470849042, 0.6707317073170732, 'X[1] <= 0.449\\ngini = 0.388\\nsamples = 19\\nvalue = [5, 14, 0]'),\n",
       " Text(0.008501702730538376, 0.6463414634146342, 'gini = 0.0\\nsamples = 1\\nvalue = [1, 0, 0]'),\n",
       " Text(0.008572846686442464, 0.6463414634146342, 'X[1] <= 0.995\\ngini = 0.346\\nsamples = 18\\nvalue = [4, 14, 0]'),\n",
       " Text(0.008501702730538376, 0.6219512195121951, 'X[3] <= 1.305\\ngini = 0.153\\nsamples = 12\\nvalue = [1, 11, 0]'),\n",
       " Text(0.008466130752586332, 0.5975609756097561, 'gini = 0.0\\nsamples = 10\\nvalue = [0, 10, 0]'),\n",
       " Text(0.00853727470849042, 0.5975609756097561, 'X[3] <= 1.489\\ngini = 0.5\\nsamples = 2\\nvalue = [1, 1, 0]'),\n",
       " Text(0.008501702730538376, 0.573170731707317, 'gini = 0.0\\nsamples = 1\\nvalue = [1, 0, 0]'),\n",
       " Text(0.008572846686442464, 0.573170731707317, 'gini = 0.0\\nsamples = 1\\nvalue = [0, 1, 0]'),\n",
       " Text(0.00864399064234655, 0.6219512195121951, 'X[3] <= 1.296\\ngini = 0.5\\nsamples = 6\\nvalue = [3, 3, 0]'),\n",
       " Text(0.008608418664394506, 0.5975609756097561, 'gini = 0.0\\nsamples = 3\\nvalue = [3, 0, 0]'),\n",
       " Text(0.008679562620298594, 0.5975609756097561, 'gini = 0.0\\nsamples = 3\\nvalue = [0, 3, 0]'),\n",
       " Text(0.008608418664394506, 0.6707317073170732, 'gini = 0.0\\nsamples = 5\\nvalue = [5, 0, 0]'),\n",
       " Text(0.010441487153235745, 0.7682926829268293, 'X[1] <= -0.134\\ngini = 0.364\\nsamples = 557\\nvalue = [133, 424, 0]'),\n",
       " Text(0.009748945207481898, 0.7439024390243902, 'X[2] <= -1.616\\ngini = 0.48\\nsamples = 237\\nvalue = [95, 142, 0]'),\n",
       " Text(0.009297625737215348, 0.7195121951219512, 'X[1] <= -1.822\\ngini = 0.451\\nsamples = 102\\nvalue = [67, 35, 0]'),\n",
       " Text(0.009079747372259082, 0.6951219512195121, 'X[2] <= -1.857\\ngini = 0.459\\nsamples = 28\\nvalue = [10, 18, 0]'),\n",
       " Text(0.00894635245493892, 0.6707317073170732, 'X[3] <= 1.153\\ngini = 0.498\\nsamples = 17\\nvalue = [9, 8, 0]'),\n",
       " Text(0.00885742251005881, 0.6463414634146342, 'X[3] <= -0.358\\ngini = 0.397\\nsamples = 11\\nvalue = [8, 3, 0]'),\n",
       " Text(0.008786278554154724, 0.6219512195121951, 'X[2] <= -2.118\\ngini = 0.444\\nsamples = 3\\nvalue = [1, 2, 0]'),\n",
       " Text(0.00875070657620268, 0.5975609756097561, 'gini = 0.0\\nsamples = 2\\nvalue = [0, 2, 0]'),\n",
       " Text(0.008821850532106768, 0.5975609756097561, 'gini = 0.0\\nsamples = 1\\nvalue = [1, 0, 0]'),\n",
       " Text(0.008928566465962897, 0.6219512195121951, 'X[1] <= -4.526\\ngini = 0.219\\nsamples = 8\\nvalue = [7, 1, 0]'),\n",
       " Text(0.008892994488010854, 0.5975609756097561, 'gini = 0.0\\nsamples = 1\\nvalue = [0, 1, 0]'),\n",
       " Text(0.008964138443914941, 0.5975609756097561, 'gini = 0.0\\nsamples = 7\\nvalue = [7, 0, 0]'),\n",
       " Text(0.009035282399819027, 0.6463414634146342, 'X[3] <= 1.988\\ngini = 0.278\\nsamples = 6\\nvalue = [1, 5, 0]'),\n",
       " Text(0.008999710421866983, 0.6219512195121951, 'gini = 0.0\\nsamples = 5\\nvalue = [0, 5, 0]'),\n",
       " Text(0.009070854377771071, 0.6219512195121951, 'gini = 0.0\\nsamples = 1\\nvalue = [1, 0, 0]'),\n",
       " Text(0.009213142289579245, 0.6707317073170732, 'X[3] <= 0.006\\ngini = 0.165\\nsamples = 11\\nvalue = [1, 10, 0]'),\n",
       " Text(0.009177570311627201, 0.6463414634146342, 'X[3] <= -0.821\\ngini = 0.5\\nsamples = 2\\nvalue = [1, 1, 0]'),\n",
       " Text(0.009141998333675157, 0.6219512195121951, 'gini = 0.0\\nsamples = 1\\nvalue = [0, 1, 0]'),\n",
       " Text(0.009213142289579245, 0.6219512195121951, 'gini = 0.0\\nsamples = 1\\nvalue = [1, 0, 0]'),\n",
       " Text(0.009248714267531289, 0.6463414634146342, 'gini = 0.0\\nsamples = 9\\nvalue = [0, 9, 0]'),\n",
       " Text(0.009515504102171614, 0.6951219512195121, 'X[2] <= -2.044\\ngini = 0.354\\nsamples = 74\\nvalue = [57, 17, 0]'),\n",
       " Text(0.009355430201387419, 0.6707317073170732, 'X[2] <= -2.403\\ngini = 0.117\\nsamples = 32\\nvalue = [30, 2, 0]'),\n",
       " Text(0.009319858223435375, 0.6463414634146342, 'gini = 0.0\\nsamples = 1\\nvalue = [0, 1, 0]'),\n",
       " Text(0.009391002179339462, 0.6463414634146342, 'X[1] <= -0.175\\ngini = 0.062\\nsamples = 31\\nvalue = [30, 1, 0]'),\n",
       " Text(0.009355430201387419, 0.6219512195121951, 'gini = 0.0\\nsamples = 29\\nvalue = [29, 0, 0]'),\n",
       " Text(0.009426574157291505, 0.6219512195121951, 'X[0] <= 0.509\\ngini = 0.5\\nsamples = 2\\nvalue = [1, 1, 0]'),\n",
       " Text(0.009391002179339462, 0.5975609756097561, 'gini = 0.0\\nsamples = 1\\nvalue = [1, 0, 0]'),\n",
       " Text(0.009462146135243548, 0.5975609756097561, 'gini = 0.0\\nsamples = 1\\nvalue = [0, 1, 0]'),\n",
       " Text(0.00967557800295581, 0.6707317073170732, 'X[2] <= -1.715\\ngini = 0.459\\nsamples = 42\\nvalue = [27, 15, 0]'),\n",
       " Text(0.009640006025003766, 0.6463414634146342, 'X[0] <= 0.509\\ngini = 0.493\\nsamples = 34\\nvalue = [19, 15, 0]'),\n",
       " Text(0.009568862069099678, 0.6219512195121951, 'X[1] <= -0.187\\ngini = 0.245\\nsamples = 14\\nvalue = [12, 2, 0]'),\n",
       " Text(0.009533290091147636, 0.5975609756097561, 'X[2] <= -1.759\\ngini = 0.142\\nsamples = 13\\nvalue = [12, 1, 0]'),\n",
       " Text(0.009497718113195592, 0.573170731707317, 'gini = 0.0\\nsamples = 12\\nvalue = [12, 0, 0]'),\n",
       " Text(0.009568862069099678, 0.573170731707317, 'gini = 0.0\\nsamples = 1\\nvalue = [0, 1, 0]'),\n",
       " Text(0.009604434047051722, 0.5975609756097561, 'gini = 0.0\\nsamples = 1\\nvalue = [0, 1, 0]'),\n",
       " Text(0.009711149980907852, 0.6219512195121951, 'X[3] <= -0.264\\ngini = 0.455\\nsamples = 20\\nvalue = [7, 13, 0]'),\n",
       " Text(0.00967557800295581, 0.5975609756097561, 'gini = 0.0\\nsamples = 2\\nvalue = [2, 0, 0]'),\n",
       " Text(0.009746721958859896, 0.5975609756097561, 'X[1] <= -1.216\\ngini = 0.401\\nsamples = 18\\nvalue = [5, 13, 0]'),\n",
       " Text(0.009711149980907852, 0.573170731707317, 'X[2] <= -1.851\\ngini = 0.494\\nsamples = 9\\nvalue = [5, 4, 0]'),\n",
       " Text(0.009640006025003766, 0.5487804878048781, 'X[3] <= 1.548\\ngini = 0.375\\nsamples = 4\\nvalue = [1, 3, 0]'),\n",
       " Text(0.009604434047051722, 0.524390243902439, 'gini = 0.0\\nsamples = 3\\nvalue = [0, 3, 0]'),\n",
       " Text(0.00967557800295581, 0.524390243902439, 'gini = 0.0\\nsamples = 1\\nvalue = [1, 0, 0]'),\n",
       " Text(0.00978229393681194, 0.5487804878048781, 'X[2] <= -1.725\\ngini = 0.32\\nsamples = 5\\nvalue = [4, 1, 0]'),\n",
       " Text(0.009746721958859896, 0.524390243902439, 'gini = 0.0\\nsamples = 4\\nvalue = [4, 0, 0]'),\n",
       " Text(0.009817865914763982, 0.524390243902439, 'gini = 0.0\\nsamples = 1\\nvalue = [0, 1, 0]'),\n",
       " Text(0.00978229393681194, 0.573170731707317, 'gini = 0.0\\nsamples = 9\\nvalue = [0, 9, 0]'),\n",
       " Text(0.009711149980907852, 0.6463414634146342, 'gini = 0.0\\nsamples = 8\\nvalue = [8, 0, 0]'),\n",
       " Text(0.01020026467774845, 0.7195121951219512, 'X[2] <= -1.092\\ngini = 0.329\\nsamples = 135\\nvalue = [28, 107, 0]'),\n",
       " Text(0.010164692699796406, 0.6951219512195121, 'X[1] <= -2.476\\ngini = 0.36\\nsamples = 119\\nvalue = [28, 91, 0]'),\n",
       " Text(0.010129120721844362, 0.6707317073170732, 'gini = 0.0\\nsamples = 11\\nvalue = [0, 11, 0]'),\n",
       " Text(0.01020026467774845, 0.6707317073170732, 'X[3] <= 1.285\\ngini = 0.384\\nsamples = 108\\nvalue = [28, 80, 0]'),\n",
       " Text(0.010129120721844362, 0.6463414634146342, 'X[1] <= -2.4\\ngini = 0.346\\nsamples = 99\\nvalue = [22, 77, 0]'),\n",
       " Text(0.010093548743892318, 0.6219512195121951, 'gini = 0.0\\nsamples = 2\\nvalue = [2, 0, 0]'),\n",
       " Text(0.010164692699796406, 0.6219512195121951, 'X[1] <= -0.73\\ngini = 0.327\\nsamples = 97\\nvalue = [20, 77, 0]'),\n",
       " Text(0.010049083771452265, 0.5975609756097561, 'X[1] <= -0.759\\ngini = 0.411\\nsamples = 52\\nvalue = [15, 37, 0]'),\n",
       " Text(0.010013511793500221, 0.573170731707317, 'X[2] <= -1.16\\ngini = 0.385\\nsamples = 50\\nvalue = [13, 37, 0]'),\n",
       " Text(0.009977939815548178, 0.5487804878048781, 'X[3] <= 0.352\\ngini = 0.444\\nsamples = 39\\nvalue = [13, 26, 0]'),\n",
       " Text(0.00988900987066807, 0.524390243902439, 'X[3] <= -0.415\\ngini = 0.32\\nsamples = 5\\nvalue = [4, 1, 0]'),\n",
       " Text(0.009853437892716026, 0.5, 'gini = 0.0\\nsamples = 1\\nvalue = [0, 1, 0]'),\n",
       " Text(0.009924581848620113, 0.5, 'gini = 0.0\\nsamples = 4\\nvalue = [4, 0, 0]'),\n",
       " Text(0.010066869760428287, 0.524390243902439, 'X[1] <= -0.979\\ngini = 0.389\\nsamples = 34\\nvalue = [9, 25, 0]'),\n",
       " Text(0.0099957258045242, 0.5, 'X[2] <= -1.35\\ngini = 0.219\\nsamples = 24\\nvalue = [3, 21, 0]'),\n",
       " Text(0.009960153826572156, 0.47560975609756095, 'X[2] <= -1.358\\ngini = 0.32\\nsamples = 15\\nvalue = [3, 12, 0]'),\n",
       " Text(0.009924581848620113, 0.45121951219512196, 'X[3] <= 0.842\\ngini = 0.245\\nsamples = 14\\nvalue = [2, 12, 0]'),\n",
       " Text(0.00988900987066807, 0.4268292682926829, 'X[3] <= 0.763\\ngini = 0.375\\nsamples = 8\\nvalue = [2, 6, 0]'),\n",
       " Text(0.009853437892716026, 0.4024390243902439, 'X[2] <= -1.479\\ngini = 0.245\\nsamples = 7\\nvalue = [1, 6, 0]'),\n",
       " Text(0.009817865914763982, 0.3780487804878049, 'X[1] <= -1.885\\ngini = 0.5\\nsamples = 2\\nvalue = [1, 1, 0]'),\n",
       " Text(0.00978229393681194, 0.35365853658536583, 'gini = 0.0\\nsamples = 1\\nvalue = [0, 1, 0]'),\n",
       " Text(0.009853437892716026, 0.35365853658536583, 'gini = 0.0\\nsamples = 1\\nvalue = [1, 0, 0]'),\n",
       " Text(0.00988900987066807, 0.3780487804878049, 'gini = 0.0\\nsamples = 5\\nvalue = [0, 5, 0]'),\n",
       " Text(0.009924581848620113, 0.4024390243902439, 'gini = 0.0\\nsamples = 1\\nvalue = [1, 0, 0]'),\n",
       " Text(0.009960153826572156, 0.4268292682926829, 'gini = 0.0\\nsamples = 6\\nvalue = [0, 6, 0]'),\n",
       " Text(0.0099957258045242, 0.45121951219512196, 'gini = 0.0\\nsamples = 1\\nvalue = [1, 0, 0]'),\n",
       " Text(0.010031297782476243, 0.47560975609756095, 'gini = 0.0\\nsamples = 9\\nvalue = [0, 9, 0]'),\n",
       " Text(0.010138013716332373, 0.5, 'X[3] <= 0.574\\ngini = 0.48\\nsamples = 10\\nvalue = [6, 4, 0]'),\n",
       " Text(0.01010244173838033, 0.47560975609756095, 'gini = 0.0\\nsamples = 3\\nvalue = [0, 3, 0]'),\n",
       " Text(0.010173585694284417, 0.47560975609756095, 'X[2] <= -1.503\\ngini = 0.245\\nsamples = 7\\nvalue = [6, 1, 0]'),\n",
       " Text(0.010138013716332373, 0.45121951219512196, 'X[1] <= -0.849\\ngini = 0.5\\nsamples = 2\\nvalue = [1, 1, 0]'),\n",
       " Text(0.01010244173838033, 0.4268292682926829, 'gini = 0.0\\nsamples = 1\\nvalue = [0, 1, 0]'),\n",
       " Text(0.010173585694284417, 0.4268292682926829, 'gini = 0.0\\nsamples = 1\\nvalue = [1, 0, 0]'),\n",
       " Text(0.010209157672236461, 0.45121951219512196, 'gini = 0.0\\nsamples = 5\\nvalue = [5, 0, 0]'),\n",
       " Text(0.010049083771452265, 0.5487804878048781, 'gini = 0.0\\nsamples = 11\\nvalue = [0, 11, 0]'),\n",
       " Text(0.010084655749404309, 0.573170731707317, 'gini = 0.0\\nsamples = 2\\nvalue = [2, 0, 0]'),\n",
       " Text(0.010280301628140547, 0.5975609756097561, 'X[1] <= -0.142\\ngini = 0.198\\nsamples = 45\\nvalue = [5, 40, 0]'),\n",
       " Text(0.010244729650188503, 0.573170731707317, 'X[3] <= 0.082\\ngini = 0.165\\nsamples = 44\\nvalue = [4, 40, 0]'),\n",
       " Text(0.010209157672236461, 0.5487804878048781, 'X[1] <= -0.434\\ngini = 0.408\\nsamples = 14\\nvalue = [4, 10, 0]'),\n",
       " Text(0.010173585694284417, 0.524390243902439, 'gini = 0.0\\nsamples = 6\\nvalue = [0, 6, 0]'),\n",
       " Text(0.010244729650188503, 0.524390243902439, 'X[2] <= -1.316\\ngini = 0.5\\nsamples = 8\\nvalue = [4, 4, 0]'),\n",
       " Text(0.010209157672236461, 0.5, 'gini = 0.0\\nsamples = 3\\nvalue = [0, 3, 0]'),\n",
       " Text(0.010280301628140547, 0.5, 'X[2] <= -1.107\\ngini = 0.32\\nsamples = 5\\nvalue = [4, 1, 0]'),\n",
       " Text(0.010244729650188503, 0.47560975609756095, 'gini = 0.0\\nsamples = 4\\nvalue = [4, 0, 0]'),\n",
       " Text(0.01031587360609259, 0.47560975609756095, 'gini = 0.0\\nsamples = 1\\nvalue = [0, 1, 0]'),\n",
       " Text(0.010280301628140547, 0.5487804878048781, 'gini = 0.0\\nsamples = 30\\nvalue = [0, 30, 0]'),\n",
       " Text(0.01031587360609259, 0.573170731707317, 'gini = 0.0\\nsamples = 1\\nvalue = [1, 0, 0]'),\n",
       " Text(0.010271408633652536, 0.6463414634146342, 'X[1] <= -1.704\\ngini = 0.444\\nsamples = 9\\nvalue = [6, 3, 0]'),\n",
       " Text(0.010235836655700492, 0.6219512195121951, 'gini = 0.0\\nsamples = 3\\nvalue = [0, 3, 0]'),\n",
       " Text(0.01030698061160458, 0.6219512195121951, 'gini = 0.0\\nsamples = 6\\nvalue = [6, 0, 0]'),\n",
       " Text(0.010235836655700492, 0.6951219512195121, 'gini = 0.0\\nsamples = 16\\nvalue = [0, 16, 0]'),\n",
       " Text(0.01113402909898959, 0.7439024390243902, 'X[1] <= 1.613\\ngini = 0.209\\nsamples = 320\\nvalue = [38, 282, 0]'),\n",
       " Text(0.010991741187181416, 0.7195121951219512, 'X[3] <= 2.131\\ngini = 0.166\\nsamples = 307\\nvalue = [28, 279, 0]'),\n",
       " Text(0.010813881297421198, 0.6951219512195121, 'X[1] <= 0.165\\ngini = 0.151\\nsamples = 303\\nvalue = [25, 278, 0]'),\n",
       " Text(0.010564877451756894, 0.6707317073170732, 'X[2] <= -1.917\\ngini = 0.278\\nsamples = 78\\nvalue = [13, 65, 0]'),\n",
       " Text(0.01042258953994872, 0.6463414634146342, 'X[3] <= 0.439\\ngini = 0.486\\nsamples = 12\\nvalue = [7, 5, 0]'),\n",
       " Text(0.010387017561996677, 0.6219512195121951, 'gini = 0.0\\nsamples = 3\\nvalue = [0, 3, 0]'),\n",
       " Text(0.010458161517900764, 0.6219512195121951, 'X[2] <= -2.31\\ngini = 0.346\\nsamples = 9\\nvalue = [7, 2, 0]'),\n",
       " Text(0.01042258953994872, 0.5975609756097561, 'X[1] <= 0.075\\ngini = 0.5\\nsamples = 4\\nvalue = [2, 2, 0]'),\n",
       " Text(0.010387017561996677, 0.573170731707317, 'gini = 0.0\\nsamples = 2\\nvalue = [0, 2, 0]'),\n",
       " Text(0.010458161517900764, 0.573170731707317, 'gini = 0.0\\nsamples = 2\\nvalue = [2, 0, 0]'),\n",
       " Text(0.010493733495852808, 0.5975609756097561, 'gini = 0.0\\nsamples = 5\\nvalue = [5, 0, 0]'),\n",
       " Text(0.010707165363565068, 0.6463414634146342, 'X[3] <= 0.248\\ngini = 0.165\\nsamples = 66\\nvalue = [6, 60, 0]'),\n",
       " Text(0.010600449429708938, 0.6219512195121951, 'X[3] <= -0.415\\ngini = 0.463\\nsamples = 11\\nvalue = [4, 7, 0]'),\n",
       " Text(0.010564877451756894, 0.5975609756097561, 'gini = 0.0\\nsamples = 4\\nvalue = [0, 4, 0]'),\n",
       " Text(0.010636021407660982, 0.5975609756097561, 'X[1] <= 0.059\\ngini = 0.49\\nsamples = 7\\nvalue = [4, 3, 0]'),\n",
       " Text(0.010600449429708938, 0.573170731707317, 'X[3] <= 0.198\\ngini = 0.375\\nsamples = 4\\nvalue = [1, 3, 0]'),\n",
       " Text(0.010564877451756894, 0.5487804878048781, 'gini = 0.0\\nsamples = 3\\nvalue = [0, 3, 0]'),\n",
       " Text(0.010636021407660982, 0.5487804878048781, 'gini = 0.0\\nsamples = 1\\nvalue = [1, 0, 0]'),\n",
       " Text(0.010671593385613024, 0.573170731707317, 'gini = 0.0\\nsamples = 3\\nvalue = [3, 0, 0]'),\n",
       " Text(0.010813881297421198, 0.6219512195121951, 'X[3] <= 1.755\\ngini = 0.07\\nsamples = 55\\nvalue = [2, 53, 0]'),\n",
       " Text(0.010778309319469154, 0.5975609756097561, 'X[2] <= -1.057\\ngini = 0.036\\nsamples = 54\\nvalue = [1, 53, 0]'),\n",
       " Text(0.010742737341517112, 0.573170731707317, 'gini = 0.0\\nsamples = 52\\nvalue = [0, 52, 0]'),\n",
       " Text(0.010813881297421198, 0.573170731707317, 'X[1] <= 0.072\\ngini = 0.5\\nsamples = 2\\nvalue = [1, 1, 0]'),\n",
       " Text(0.010778309319469154, 0.5487804878048781, 'gini = 0.0\\nsamples = 1\\nvalue = [1, 0, 0]'),\n",
       " Text(0.010849453275373242, 0.5487804878048781, 'gini = 0.0\\nsamples = 1\\nvalue = [0, 1, 0]'),\n",
       " Text(0.010849453275373242, 0.5975609756097561, 'gini = 0.0\\nsamples = 1\\nvalue = [1, 0, 0]'),\n",
       " Text(0.011062885143085502, 0.6707317073170732, 'X[1] <= 1.365\\ngini = 0.101\\nsamples = 225\\nvalue = [12, 213, 0]'),\n",
       " Text(0.010956169209229372, 0.6463414634146342, 'X[0] <= 0.509\\ngini = 0.087\\nsamples = 219\\nvalue = [10, 209, 0]'),\n",
       " Text(0.010920597231277328, 0.6219512195121951, 'gini = 0.0\\nsamples = 83\\nvalue = [0, 83, 0]'),\n",
       " Text(0.010991741187181416, 0.6219512195121951, 'X[2] <= -1.946\\ngini = 0.136\\nsamples = 136\\nvalue = [10, 126, 0]'),\n",
       " Text(0.010956169209229372, 0.5975609756097561, 'gini = 0.0\\nsamples = 49\\nvalue = [0, 49, 0]'),\n",
       " Text(0.01102731316513346, 0.5975609756097561, 'X[2] <= -1.939\\ngini = 0.203\\nsamples = 87\\nvalue = [10, 77, 0]'),\n",
       " Text(0.010991741187181416, 0.573170731707317, 'gini = 0.0\\nsamples = 1\\nvalue = [1, 0, 0]'),\n",
       " Text(0.011062885143085502, 0.573170731707317, 'X[2] <= -1.904\\ngini = 0.187\\nsamples = 86\\nvalue = [9, 77, 0]'),\n",
       " Text(0.010920597231277328, 0.5487804878048781, 'X[1] <= 0.922\\ngini = 0.444\\nsamples = 6\\nvalue = [2, 4, 0]'),\n",
       " Text(0.010885025253325286, 0.524390243902439, 'gini = 0.0\\nsamples = 3\\nvalue = [0, 3, 0]'),\n",
       " Text(0.010956169209229372, 0.524390243902439, 'X[3] <= -0.328\\ngini = 0.444\\nsamples = 3\\nvalue = [2, 1, 0]'),\n",
       " Text(0.010920597231277328, 0.5, 'gini = 0.0\\nsamples = 1\\nvalue = [0, 1, 0]'),\n",
       " Text(0.010991741187181416, 0.5, 'gini = 0.0\\nsamples = 2\\nvalue = [2, 0, 0]'),\n",
       " Text(0.011205173054893675, 0.5487804878048781, 'X[2] <= -1.136\\ngini = 0.16\\nsamples = 80\\nvalue = [7, 73, 0]'),\n",
       " Text(0.011098457121037545, 0.524390243902439, 'X[1] <= 0.61\\ngini = 0.128\\nsamples = 73\\nvalue = [5, 68, 0]'),\n",
       " Text(0.011062885143085502, 0.5, 'gini = 0.0\\nsamples = 30\\nvalue = [0, 30, 0]'),\n",
       " Text(0.01113402909898959, 0.5, 'X[1] <= 0.67\\ngini = 0.206\\nsamples = 43\\nvalue = [5, 38, 0]'),\n",
       " Text(0.011098457121037545, 0.47560975609756095, 'gini = 0.0\\nsamples = 1\\nvalue = [1, 0, 0]'),\n",
       " Text(0.011169601076941633, 0.47560975609756095, 'X[1] <= 0.859\\ngini = 0.172\\nsamples = 42\\nvalue = [4, 38, 0]'),\n",
       " Text(0.011062885143085502, 0.45121951219512196, 'X[3] <= 0.39\\ngini = 0.355\\nsamples = 13\\nvalue = [3, 10, 0]'),\n",
       " Text(0.01102731316513346, 0.4268292682926829, 'gini = 0.0\\nsamples = 7\\nvalue = [0, 7, 0]'),\n",
       " Text(0.011098457121037545, 0.4268292682926829, 'X[3] <= 1.334\\ngini = 0.5\\nsamples = 6\\nvalue = [3, 3, 0]'),\n",
       " Text(0.011062885143085502, 0.4024390243902439, 'X[1] <= 0.725\\ngini = 0.375\\nsamples = 4\\nvalue = [3, 1, 0]'),\n",
       " Text(0.01102731316513346, 0.3780487804878049, 'gini = 0.0\\nsamples = 1\\nvalue = [0, 1, 0]'),\n",
       " Text(0.011098457121037545, 0.3780487804878049, 'gini = 0.0\\nsamples = 3\\nvalue = [3, 0, 0]'),\n",
       " Text(0.01113402909898959, 0.4024390243902439, 'gini = 0.0\\nsamples = 2\\nvalue = [0, 2, 0]'),\n",
       " Text(0.011276317010797763, 0.45121951219512196, 'X[3] <= -0.423\\ngini = 0.067\\nsamples = 29\\nvalue = [1, 28, 0]'),\n",
       " Text(0.011240745032845719, 0.4268292682926829, 'X[3] <= -0.535\\ngini = 0.198\\nsamples = 9\\nvalue = [1, 8, 0]'),\n",
       " Text(0.011205173054893675, 0.4024390243902439, 'gini = 0.0\\nsamples = 8\\nvalue = [0, 8, 0]'),\n",
       " Text(0.011276317010797763, 0.4024390243902439, 'gini = 0.0\\nsamples = 1\\nvalue = [1, 0, 0]'),\n",
       " Text(0.011311888988749807, 0.4268292682926829, 'gini = 0.0\\nsamples = 20\\nvalue = [0, 20, 0]'),\n",
       " Text(0.011311888988749807, 0.524390243902439, 'X[2] <= -1.107\\ngini = 0.408\\nsamples = 7\\nvalue = [2, 5, 0]'),\n",
       " Text(0.011276317010797763, 0.5, 'X[1] <= 0.579\\ngini = 0.444\\nsamples = 3\\nvalue = [2, 1, 0]'),\n",
       " Text(0.011240745032845719, 0.47560975609756095, 'gini = 0.0\\nsamples = 2\\nvalue = [2, 0, 0]'),\n",
       " Text(0.011311888988749807, 0.47560975609756095, 'gini = 0.0\\nsamples = 1\\nvalue = [0, 1, 0]'),\n",
       " Text(0.011347460966701849, 0.5, 'gini = 0.0\\nsamples = 4\\nvalue = [0, 4, 0]'),\n",
       " Text(0.011169601076941633, 0.6463414634146342, 'X[3] <= -0.111\\ngini = 0.444\\nsamples = 6\\nvalue = [2, 4, 0]'),\n",
       " Text(0.01113402909898959, 0.6219512195121951, 'X[2] <= -1.432\\ngini = 0.444\\nsamples = 3\\nvalue = [2, 1, 0]'),\n",
       " Text(0.011098457121037545, 0.5975609756097561, 'gini = 0.0\\nsamples = 2\\nvalue = [2, 0, 0]'),\n",
       " Text(0.011169601076941633, 0.5975609756097561, 'gini = 0.0\\nsamples = 1\\nvalue = [0, 1, 0]'),\n",
       " Text(0.011205173054893675, 0.6219512195121951, 'gini = 0.0\\nsamples = 3\\nvalue = [0, 3, 0]'),\n",
       " Text(0.011169601076941633, 0.6951219512195121, 'X[2] <= -2.147\\ngini = 0.375\\nsamples = 4\\nvalue = [3, 1, 0]'),\n",
       " Text(0.01113402909898959, 0.6707317073170732, 'gini = 0.0\\nsamples = 1\\nvalue = [0, 1, 0]'),\n",
       " Text(0.011205173054893675, 0.6707317073170732, 'gini = 0.0\\nsamples = 3\\nvalue = [3, 0, 0]'),\n",
       " Text(0.011276317010797763, 0.7195121951219512, 'X[3] <= 0.428\\ngini = 0.355\\nsamples = 13\\nvalue = [10, 3, 0]'),\n",
       " Text(0.011240745032845719, 0.6951219512195121, 'gini = 0.0\\nsamples = 5\\nvalue = [5, 0, 0]'),\n",
       " Text(0.011311888988749807, 0.6951219512195121, 'X[3] <= 1.804\\ngini = 0.469\\nsamples = 8\\nvalue = [5, 3, 0]'),\n",
       " Text(0.011276317010797763, 0.6707317073170732, 'X[2] <= -1.886\\ngini = 0.375\\nsamples = 4\\nvalue = [1, 3, 0]'),\n",
       " Text(0.011240745032845719, 0.6463414634146342, 'gini = 0.0\\nsamples = 1\\nvalue = [1, 0, 0]'),\n",
       " Text(0.011311888988749807, 0.6463414634146342, 'gini = 0.0\\nsamples = 3\\nvalue = [0, 3, 0]'),\n",
       " Text(0.011347460966701849, 0.6707317073170732, 'gini = 0.0\\nsamples = 4\\nvalue = [4, 0, 0]'),\n",
       " Text(0.0230837134818102, 0.7926829268292683, 'X[3] <= -2.791\\ngini = 0.5\\nsamples = 3690\\nvalue = [1879, 1811, 0]'),\n",
       " Text(0.013072979803453705, 0.7682926829268293, 'X[2] <= -1.424\\ngini = 0.459\\nsamples = 347\\nvalue = [223, 124, 0]'),\n",
       " Text(0.012046116846166202, 0.7439024390243902, 'X[1] <= -4.564\\ngini = 0.49\\nsamples = 243\\nvalue = [139, 104, 0]'),\n",
       " Text(0.011418604922605937, 0.7195121951219512, 'X[3] <= -6.044\\ngini = 0.444\\nsamples = 21\\nvalue = [7, 14, 0]'),\n",
       " Text(0.011383032944653893, 0.6951219512195121, 'gini = 0.0\\nsamples = 3\\nvalue = [3, 0, 0]'),\n",
       " Text(0.01145417690055798, 0.6951219512195121, 'X[2] <= -1.913\\ngini = 0.346\\nsamples = 18\\nvalue = [4, 14, 0]'),\n",
       " Text(0.011418604922605937, 0.6707317073170732, 'X[1] <= -5.415\\ngini = 0.463\\nsamples = 11\\nvalue = [4, 7, 0]'),\n",
       " Text(0.011383032944653893, 0.6463414634146342, 'X[2] <= -2.699\\ngini = 0.444\\nsamples = 6\\nvalue = [4, 2, 0]'),\n",
       " Text(0.011347460966701849, 0.6219512195121951, 'gini = 0.0\\nsamples = 2\\nvalue = [0, 2, 0]'),\n",
       " Text(0.011418604922605937, 0.6219512195121951, 'gini = 0.0\\nsamples = 4\\nvalue = [4, 0, 0]'),\n",
       " Text(0.01145417690055798, 0.6463414634146342, 'gini = 0.0\\nsamples = 5\\nvalue = [0, 5, 0]'),\n",
       " Text(0.011489748878510023, 0.6707317073170732, 'gini = 0.0\\nsamples = 7\\nvalue = [0, 7, 0]'),\n",
       " Text(0.012673628769726468, 0.7195121951219512, 'X[1] <= 1.613\\ngini = 0.482\\nsamples = 222\\nvalue = [132, 90, 0]'),\n",
       " Text(0.012110035244048781, 0.6951219512195121, 'X[2] <= -2.063\\ngini = 0.452\\nsamples = 145\\nvalue = [95, 50, 0]'),\n",
       " Text(0.0117165202379543, 0.6707317073170732, 'X[0] <= 1.122\\ngini = 0.371\\nsamples = 65\\nvalue = [49, 16, 0]'),\n",
       " Text(0.011525320856462067, 0.6463414634146342, 'X[2] <= -2.862\\ngini = 0.5\\nsamples = 12\\nvalue = [6, 6, 0]'),\n",
       " Text(0.011489748878510023, 0.6219512195121951, 'gini = 0.0\\nsamples = 3\\nvalue = [0, 3, 0]'),\n",
       " Text(0.01156089283441411, 0.6219512195121951, 'X[2] <= -2.479\\ngini = 0.444\\nsamples = 9\\nvalue = [6, 3, 0]'),\n",
       " Text(0.011525320856462067, 0.5975609756097561, 'gini = 0.0\\nsamples = 3\\nvalue = [3, 0, 0]'),\n",
       " Text(0.011596464812366154, 0.5975609756097561, 'X[2] <= -2.342\\ngini = 0.5\\nsamples = 6\\nvalue = [3, 3, 0]'),\n",
       " Text(0.01156089283441411, 0.573170731707317, 'gini = 0.0\\nsamples = 3\\nvalue = [0, 3, 0]'),\n",
       " Text(0.011632036790318196, 0.573170731707317, 'gini = 0.0\\nsamples = 3\\nvalue = [3, 0, 0]'),\n",
       " Text(0.011907719619446533, 0.6463414634146342, 'X[3] <= -4.481\\ngini = 0.306\\nsamples = 53\\nvalue = [43, 10, 0]'),\n",
       " Text(0.01187214764149449, 0.6219512195121951, 'gini = 0.0\\nsamples = 12\\nvalue = [12, 0, 0]'),\n",
       " Text(0.011943291597398577, 0.6219512195121951, 'X[3] <= -3.834\\ngini = 0.369\\nsamples = 41\\nvalue = [31, 10, 0]'),\n",
       " Text(0.01177432470212637, 0.5975609756097561, 'X[1] <= -0.471\\ngini = 0.48\\nsamples = 10\\nvalue = [4, 6, 0]'),\n",
       " Text(0.011703180746222284, 0.573170731707317, 'X[1] <= -2.635\\ngini = 0.375\\nsamples = 4\\nvalue = [3, 1, 0]'),\n",
       " Text(0.01166760876827024, 0.5487804878048781, 'gini = 0.0\\nsamples = 1\\nvalue = [0, 1, 0]'),\n",
       " Text(0.011738752724174328, 0.5487804878048781, 'gini = 0.0\\nsamples = 3\\nvalue = [3, 0, 0]'),\n",
       " Text(0.011845468658030458, 0.573170731707317, 'X[1] <= 0.751\\ngini = 0.278\\nsamples = 6\\nvalue = [1, 5, 0]'),\n",
       " Text(0.011809896680078414, 0.5487804878048781, 'gini = 0.0\\nsamples = 5\\nvalue = [0, 5, 0]'),\n",
       " Text(0.0118810406359825, 0.5487804878048781, 'gini = 0.0\\nsamples = 1\\nvalue = [1, 0, 0]'),\n",
       " Text(0.012112258492670783, 0.5975609756097561, 'X[1] <= 0.882\\ngini = 0.225\\nsamples = 31\\nvalue = [27, 4, 0]'),\n",
       " Text(0.012023328547790674, 0.573170731707317, 'X[3] <= -3.563\\ngini = 0.147\\nsamples = 25\\nvalue = [23, 2, 0]'),\n",
       " Text(0.011952184591886588, 0.5487804878048781, 'X[2] <= -2.229\\ngini = 0.444\\nsamples = 3\\nvalue = [2, 1, 0]'),\n",
       " Text(0.011916612613934544, 0.524390243902439, 'gini = 0.0\\nsamples = 2\\nvalue = [2, 0, 0]'),\n",
       " Text(0.011987756569838632, 0.524390243902439, 'gini = 0.0\\nsamples = 1\\nvalue = [0, 1, 0]'),\n",
       " Text(0.012094472503694761, 0.5487804878048781, 'X[3] <= -3.055\\ngini = 0.087\\nsamples = 22\\nvalue = [21, 1, 0]'),\n",
       " Text(0.012058900525742718, 0.524390243902439, 'gini = 0.0\\nsamples = 18\\nvalue = [18, 0, 0]'),\n",
       " Text(0.012130044481646805, 0.524390243902439, 'X[2] <= -2.519\\ngini = 0.375\\nsamples = 4\\nvalue = [3, 1, 0]'),\n",
       " Text(0.012094472503694761, 0.5, 'gini = 0.0\\nsamples = 3\\nvalue = [3, 0, 0]'),\n",
       " Text(0.012165616459598847, 0.5, 'gini = 0.0\\nsamples = 1\\nvalue = [0, 1, 0]'),\n",
       " Text(0.012201188437550891, 0.573170731707317, 'X[0] <= 1.326\\ngini = 0.444\\nsamples = 6\\nvalue = [4, 2, 0]'),\n",
       " Text(0.012165616459598847, 0.5487804878048781, 'gini = 0.0\\nsamples = 1\\nvalue = [0, 1, 0]'),\n",
       " Text(0.012236760415502935, 0.5487804878048781, 'X[2] <= -2.825\\ngini = 0.32\\nsamples = 5\\nvalue = [4, 1, 0]'),\n",
       " Text(0.012201188437550891, 0.524390243902439, 'gini = 0.0\\nsamples = 1\\nvalue = [0, 1, 0]'),\n",
       " Text(0.012272332393454979, 0.524390243902439, 'gini = 0.0\\nsamples = 4\\nvalue = [4, 0, 0]'),\n",
       " Text(0.01250355025014326, 0.6707317073170732, 'X[2] <= -1.907\\ngini = 0.489\\nsamples = 80\\nvalue = [46, 34, 0]'),\n",
       " Text(0.012343476349359065, 0.6463414634146342, 'X[1] <= -2.124\\ngini = 0.432\\nsamples = 19\\nvalue = [6, 13, 0]'),\n",
       " Text(0.012272332393454979, 0.6219512195121951, 'X[2] <= -2.018\\ngini = 0.494\\nsamples = 9\\nvalue = [5, 4, 0]'),\n",
       " Text(0.012236760415502935, 0.5975609756097561, 'gini = 0.0\\nsamples = 2\\nvalue = [0, 2, 0]'),\n",
       " Text(0.012307904371407021, 0.5975609756097561, 'X[0] <= 1.326\\ngini = 0.408\\nsamples = 7\\nvalue = [5, 2, 0]'),\n",
       " Text(0.012272332393454979, 0.573170731707317, 'gini = 0.0\\nsamples = 1\\nvalue = [0, 1, 0]'),\n",
       " Text(0.012343476349359065, 0.573170731707317, 'X[2] <= -1.931\\ngini = 0.278\\nsamples = 6\\nvalue = [5, 1, 0]'),\n",
       " Text(0.012307904371407021, 0.5487804878048781, 'gini = 0.0\\nsamples = 5\\nvalue = [5, 0, 0]'),\n",
       " Text(0.012379048327311109, 0.5487804878048781, 'gini = 0.0\\nsamples = 1\\nvalue = [0, 1, 0]'),\n",
       " Text(0.012414620305263153, 0.6219512195121951, 'X[2] <= -2.05\\ngini = 0.18\\nsamples = 10\\nvalue = [1, 9, 0]'),\n",
       " Text(0.012379048327311109, 0.5975609756097561, 'gini = 0.0\\nsamples = 1\\nvalue = [1, 0, 0]'),\n",
       " Text(0.012450192283215195, 0.5975609756097561, 'gini = 0.0\\nsamples = 9\\nvalue = [0, 9, 0]'),\n",
       " Text(0.012663624150927456, 0.6463414634146342, 'X[2] <= -1.815\\ngini = 0.451\\nsamples = 61\\nvalue = [40, 21, 0]'),\n",
       " Text(0.012628052172975412, 0.6219512195121951, 'gini = 0.0\\nsamples = 9\\nvalue = [9, 0, 0]'),\n",
       " Text(0.0126991961288795, 0.6219512195121951, 'X[1] <= -1.341\\ngini = 0.482\\nsamples = 52\\nvalue = [31, 21, 0]'),\n",
       " Text(0.012556908217071326, 0.5975609756097561, 'X[0] <= 1.53\\ngini = 0.473\\nsamples = 13\\nvalue = [5, 8, 0]'),\n",
       " Text(0.012521336239119283, 0.573170731707317, 'X[3] <= -3.785\\ngini = 0.5\\nsamples = 10\\nvalue = [5, 5, 0]'),\n",
       " Text(0.012450192283215195, 0.5487804878048781, 'X[2] <= -1.498\\ngini = 0.375\\nsamples = 4\\nvalue = [1, 3, 0]'),\n",
       " Text(0.012414620305263153, 0.524390243902439, 'gini = 0.0\\nsamples = 2\\nvalue = [0, 2, 0]'),\n",
       " Text(0.012485764261167239, 0.524390243902439, 'X[3] <= -4.379\\ngini = 0.5\\nsamples = 2\\nvalue = [1, 1, 0]'),\n",
       " Text(0.012450192283215195, 0.5, 'gini = 0.0\\nsamples = 1\\nvalue = [1, 0, 0]'),\n",
       " Text(0.012521336239119283, 0.5, 'gini = 0.0\\nsamples = 1\\nvalue = [0, 1, 0]'),\n",
       " Text(0.012592480195023369, 0.5487804878048781, 'X[3] <= -3.626\\ngini = 0.444\\nsamples = 6\\nvalue = [4, 2, 0]'),\n",
       " Text(0.012556908217071326, 0.524390243902439, 'gini = 0.0\\nsamples = 2\\nvalue = [2, 0, 0]'),\n",
       " Text(0.012628052172975412, 0.524390243902439, 'X[2] <= -1.688\\ngini = 0.5\\nsamples = 4\\nvalue = [2, 2, 0]'),\n",
       " Text(0.012592480195023369, 0.5, 'gini = 0.0\\nsamples = 2\\nvalue = [2, 0, 0]'),\n",
       " Text(0.012663624150927456, 0.5, 'gini = 0.0\\nsamples = 2\\nvalue = [0, 2, 0]'),\n",
       " Text(0.012592480195023369, 0.573170731707317, 'gini = 0.0\\nsamples = 3\\nvalue = [0, 3, 0]'),\n",
       " Text(0.012841484040687672, 0.5975609756097561, 'X[1] <= -0.567\\ngini = 0.444\\nsamples = 39\\nvalue = [26, 13, 0]'),\n",
       " Text(0.012770340084783586, 0.573170731707317, 'X[3] <= -4.472\\ngini = 0.124\\nsamples = 15\\nvalue = [14, 1, 0]'),\n",
       " Text(0.012734768106831542, 0.5487804878048781, 'X[3] <= -4.766\\ngini = 0.375\\nsamples = 4\\nvalue = [3, 1, 0]'),\n",
       " Text(0.0126991961288795, 0.524390243902439, 'gini = 0.0\\nsamples = 3\\nvalue = [3, 0, 0]'),\n",
       " Text(0.012770340084783586, 0.524390243902439, 'gini = 0.0\\nsamples = 1\\nvalue = [0, 1, 0]'),\n",
       " Text(0.01280591206273563, 0.5487804878048781, 'gini = 0.0\\nsamples = 11\\nvalue = [11, 0, 0]'),\n",
       " Text(0.01291262799659176, 0.573170731707317, 'X[1] <= 1.274\\ngini = 0.5\\nsamples = 24\\nvalue = [12, 12, 0]'),\n",
       " Text(0.012877056018639716, 0.5487804878048781, 'X[3] <= -4.909\\ngini = 0.48\\nsamples = 20\\nvalue = [8, 12, 0]'),\n",
       " Text(0.012841484040687672, 0.524390243902439, 'gini = 0.0\\nsamples = 2\\nvalue = [2, 0, 0]'),\n",
       " Text(0.01291262799659176, 0.524390243902439, 'X[3] <= -2.998\\ngini = 0.444\\nsamples = 18\\nvalue = [6, 12, 0]'),\n",
       " Text(0.012877056018639716, 0.5, 'X[2] <= -1.693\\ngini = 0.375\\nsamples = 16\\nvalue = [4, 12, 0]'),\n",
       " Text(0.012841484040687672, 0.47560975609756095, 'gini = 0.0\\nsamples = 7\\nvalue = [0, 7, 0]'),\n",
       " Text(0.01291262799659176, 0.47560975609756095, 'X[3] <= -4.231\\ngini = 0.494\\nsamples = 9\\nvalue = [4, 5, 0]'),\n",
       " Text(0.012877056018639716, 0.45121951219512196, 'gini = 0.0\\nsamples = 3\\nvalue = [0, 3, 0]'),\n",
       " Text(0.012948199974543804, 0.45121951219512196, 'X[1] <= 0.791\\ngini = 0.444\\nsamples = 6\\nvalue = [4, 2, 0]'),\n",
       " Text(0.01291262799659176, 0.4268292682926829, 'gini = 0.0\\nsamples = 3\\nvalue = [3, 0, 0]'),\n",
       " Text(0.012983771952495846, 0.4268292682926829, 'X[0] <= 1.53\\ngini = 0.444\\nsamples = 3\\nvalue = [1, 2, 0]'),\n",
       " Text(0.012948199974543804, 0.4024390243902439, 'gini = 0.0\\nsamples = 2\\nvalue = [0, 2, 0]'),\n",
       " Text(0.01301934393044789, 0.4024390243902439, 'gini = 0.0\\nsamples = 1\\nvalue = [1, 0, 0]'),\n",
       " Text(0.012948199974543804, 0.5, 'gini = 0.0\\nsamples = 2\\nvalue = [2, 0, 0]'),\n",
       " Text(0.012948199974543804, 0.5487804878048781, 'gini = 0.0\\nsamples = 4\\nvalue = [4, 0, 0]'),\n",
       " Text(0.013237222295404156, 0.6951219512195121, 'X[1] <= 2.318\\ngini = 0.499\\nsamples = 77\\nvalue = [37, 40, 0]'),\n",
       " Text(0.013054915908399934, 0.6707317073170732, 'X[0] <= 1.122\\ngini = 0.36\\nsamples = 17\\nvalue = [4, 13, 0]'),\n",
       " Text(0.01301934393044789, 0.6463414634146342, 'gini = 0.0\\nsamples = 5\\nvalue = [0, 5, 0]'),\n",
       " Text(0.013090487886351978, 0.6463414634146342, 'X[3] <= -3.108\\ngini = 0.444\\nsamples = 12\\nvalue = [4, 8, 0]'),\n",
       " Text(0.013054915908399934, 0.6219512195121951, 'X[1] <= 2.059\\ngini = 0.397\\nsamples = 11\\nvalue = [3, 8, 0]'),\n",
       " Text(0.01301934393044789, 0.5975609756097561, 'X[1] <= 1.832\\ngini = 0.5\\nsamples = 6\\nvalue = [3, 3, 0]'),\n",
       " Text(0.012983771952495846, 0.573170731707317, 'gini = 0.0\\nsamples = 3\\nvalue = [0, 3, 0]'),\n",
       " Text(0.013054915908399934, 0.573170731707317, 'gini = 0.0\\nsamples = 3\\nvalue = [3, 0, 0]'),\n",
       " Text(0.013090487886351978, 0.5975609756097561, 'gini = 0.0\\nsamples = 5\\nvalue = [0, 5, 0]'),\n",
       " Text(0.01312605986430402, 0.6219512195121951, 'gini = 0.0\\nsamples = 1\\nvalue = [1, 0, 0]'),\n",
       " Text(0.013419528682408378, 0.6707317073170732, 'X[1] <= 2.434\\ngini = 0.495\\nsamples = 60\\nvalue = [33, 27, 0]'),\n",
       " Text(0.013383956704456336, 0.6463414634146342, 'gini = 0.0\\nsamples = 5\\nvalue = [5, 0, 0]'),\n",
       " Text(0.013455100660360422, 0.6463414634146342, 'X[1] <= 4.463\\ngini = 0.5\\nsamples = 55\\nvalue = [28, 27, 0]'),\n",
       " Text(0.013286133765088215, 0.6219512195121951, 'X[3] <= -4.033\\ngini = 0.484\\nsamples = 34\\nvalue = [14, 20, 0]'),\n",
       " Text(0.013197203820208107, 0.5975609756097561, 'X[1] <= 3.673\\ngini = 0.459\\nsamples = 14\\nvalue = [9, 5, 0]'),\n",
       " Text(0.01312605986430402, 0.573170731707317, 'X[3] <= -5.651\\ngini = 0.219\\nsamples = 8\\nvalue = [7, 1, 0]'),\n",
       " Text(0.013090487886351978, 0.5487804878048781, 'X[1] <= 2.821\\ngini = 0.5\\nsamples = 2\\nvalue = [1, 1, 0]'),\n",
       " Text(0.013054915908399934, 0.524390243902439, 'gini = 0.0\\nsamples = 1\\nvalue = [0, 1, 0]'),\n",
       " Text(0.01312605986430402, 0.524390243902439, 'gini = 0.0\\nsamples = 1\\nvalue = [1, 0, 0]'),\n",
       " Text(0.013161631842256064, 0.5487804878048781, 'gini = 0.0\\nsamples = 6\\nvalue = [6, 0, 0]'),\n",
       " Text(0.013268347776112193, 0.573170731707317, 'X[0] <= 1.53\\ngini = 0.444\\nsamples = 6\\nvalue = [2, 4, 0]'),\n",
       " Text(0.013232775798160151, 0.5487804878048781, 'X[2] <= -3.118\\ngini = 0.32\\nsamples = 5\\nvalue = [1, 4, 0]'),\n",
       " Text(0.013197203820208107, 0.524390243902439, 'X[2] <= -3.266\\ngini = 0.5\\nsamples = 2\\nvalue = [1, 1, 0]'),\n",
       " Text(0.013161631842256064, 0.5, 'gini = 0.0\\nsamples = 1\\nvalue = [0, 1, 0]'),\n",
       " Text(0.013232775798160151, 0.5, 'gini = 0.0\\nsamples = 1\\nvalue = [1, 0, 0]'),\n",
       " Text(0.013268347776112193, 0.524390243902439, 'gini = 0.0\\nsamples = 3\\nvalue = [0, 3, 0]'),\n",
       " Text(0.013303919754064237, 0.5487804878048781, 'gini = 0.0\\nsamples = 1\\nvalue = [1, 0, 0]'),\n",
       " Text(0.013375063709968325, 0.5975609756097561, 'X[3] <= -3.694\\ngini = 0.375\\nsamples = 20\\nvalue = [5, 15, 0]'),\n",
       " Text(0.013339491732016281, 0.573170731707317, 'gini = 0.0\\nsamples = 8\\nvalue = [0, 8, 0]'),\n",
       " Text(0.013410635687920367, 0.573170731707317, 'X[3] <= -3.439\\ngini = 0.486\\nsamples = 12\\nvalue = [5, 7, 0]'),\n",
       " Text(0.013375063709968325, 0.5487804878048781, 'gini = 0.0\\nsamples = 2\\nvalue = [2, 0, 0]'),\n",
       " Text(0.013446207665872411, 0.5487804878048781, 'X[0] <= 0.918\\ngini = 0.42\\nsamples = 10\\nvalue = [3, 7, 0]'),\n",
       " Text(0.013410635687920367, 0.524390243902439, 'gini = 0.0\\nsamples = 1\\nvalue = [1, 0, 0]'),\n",
       " Text(0.013481779643824455, 0.524390243902439, 'X[2] <= -2.353\\ngini = 0.346\\nsamples = 9\\nvalue = [2, 7, 0]'),\n",
       " Text(0.013446207665872411, 0.5, 'X[3] <= -3.277\\ngini = 0.5\\nsamples = 4\\nvalue = [2, 2, 0]'),\n",
       " Text(0.013410635687920367, 0.47560975609756095, 'gini = 0.0\\nsamples = 1\\nvalue = [1, 0, 0]'),\n",
       " Text(0.013481779643824455, 0.47560975609756095, 'X[1] <= 2.946\\ngini = 0.444\\nsamples = 3\\nvalue = [1, 2, 0]'),\n",
       " Text(0.013446207665872411, 0.45121951219512196, 'gini = 0.0\\nsamples = 1\\nvalue = [1, 0, 0]'),\n",
       " Text(0.013517351621776499, 0.45121951219512196, 'gini = 0.0\\nsamples = 2\\nvalue = [0, 2, 0]'),\n",
       " Text(0.013517351621776499, 0.5, 'gini = 0.0\\nsamples = 5\\nvalue = [0, 5, 0]'),\n",
       " Text(0.013624067555632629, 0.6219512195121951, 'X[3] <= -6.041\\ngini = 0.444\\nsamples = 21\\nvalue = [14, 7, 0]'),\n",
       " Text(0.013588495577680585, 0.5975609756097561, 'gini = 0.0\\nsamples = 2\\nvalue = [0, 2, 0]'),\n",
       " Text(0.013659639533584672, 0.5975609756097561, 'X[2] <= -1.442\\ngini = 0.388\\nsamples = 19\\nvalue = [14, 5, 0]'),\n",
       " Text(0.013624067555632629, 0.573170731707317, 'X[1] <= 7.541\\ngini = 0.346\\nsamples = 18\\nvalue = [14, 4, 0]'),\n",
       " Text(0.013588495577680585, 0.5487804878048781, 'X[3] <= -3.571\\ngini = 0.291\\nsamples = 17\\nvalue = [14, 3, 0]'),\n",
       " Text(0.01355292359972854, 0.524390243902439, 'gini = 0.0\\nsamples = 10\\nvalue = [10, 0, 0]'),\n",
       " Text(0.013624067555632629, 0.524390243902439, 'X[3] <= -3.168\\ngini = 0.49\\nsamples = 7\\nvalue = [4, 3, 0]'),\n",
       " Text(0.013588495577680585, 0.5, 'gini = 0.0\\nsamples = 3\\nvalue = [0, 3, 0]'),\n",
       " Text(0.013659639533584672, 0.5, 'gini = 0.0\\nsamples = 4\\nvalue = [4, 0, 0]'),\n",
       " Text(0.013659639533584672, 0.5487804878048781, 'gini = 0.0\\nsamples = 1\\nvalue = [0, 1, 0]'),\n",
       " Text(0.013695211511536715, 0.573170731707317, 'gini = 0.0\\nsamples = 1\\nvalue = [0, 1, 0]'),\n",
       " Text(0.01409984276074121, 0.7439024390243902, 'X[0] <= 1.53\\ngini = 0.311\\nsamples = 104\\nvalue = [84, 20, 0]'),\n",
       " Text(0.013935322362713009, 0.7195121951219512, 'X[1] <= -4.103\\ngini = 0.252\\nsamples = 81\\nvalue = [69, 12, 0]'),\n",
       " Text(0.013899750384760965, 0.6951219512195121, 'gini = 0.0\\nsamples = 1\\nvalue = [0, 1, 0]'),\n",
       " Text(0.013970894340665051, 0.6951219512195121, 'X[3] <= -6.643\\ngini = 0.237\\nsamples = 80\\nvalue = [69, 11, 0]'),\n",
       " Text(0.013935322362713009, 0.6707317073170732, 'gini = 0.0\\nsamples = 1\\nvalue = [0, 1, 0]'),\n",
       " Text(0.014006466318617095, 0.6707317073170732, 'X[3] <= -3.435\\ngini = 0.221\\nsamples = 79\\nvalue = [69, 10, 0]'),\n",
       " Text(0.013926429368224998, 0.6463414634146342, 'X[3] <= -3.465\\ngini = 0.308\\nsamples = 42\\nvalue = [34, 8, 0]'),\n",
       " Text(0.013890857390272954, 0.6219512195121951, 'X[2] <= -1.065\\ngini = 0.283\\nsamples = 41\\nvalue = [34, 7, 0]'),\n",
       " Text(0.01385528541232091, 0.5975609756097561, 'X[1] <= -0.28\\ngini = 0.255\\nsamples = 40\\nvalue = [34, 6, 0]'),\n",
       " Text(0.013766355467440802, 0.573170731707317, 'X[1] <= -2.841\\ngini = 0.091\\nsamples = 21\\nvalue = [20, 1, 0]'),\n",
       " Text(0.013730783489488758, 0.5487804878048781, 'X[1] <= -2.939\\ngini = 0.278\\nsamples = 6\\nvalue = [5, 1, 0]'),\n",
       " Text(0.013695211511536715, 0.524390243902439, 'gini = 0.0\\nsamples = 5\\nvalue = [5, 0, 0]'),\n",
       " Text(0.013766355467440802, 0.524390243902439, 'gini = 0.0\\nsamples = 1\\nvalue = [0, 1, 0]'),\n",
       " Text(0.013801927445392844, 0.5487804878048781, 'gini = 0.0\\nsamples = 15\\nvalue = [15, 0, 0]'),\n",
       " Text(0.013944215357201018, 0.573170731707317, 'X[1] <= 0.597\\ngini = 0.388\\nsamples = 19\\nvalue = [14, 5, 0]'),\n",
       " Text(0.013873071401296932, 0.5487804878048781, 'X[3] <= -3.724\\ngini = 0.444\\nsamples = 3\\nvalue = [1, 2, 0]'),\n",
       " Text(0.013837499423344888, 0.524390243902439, 'gini = 0.0\\nsamples = 2\\nvalue = [0, 2, 0]'),\n",
       " Text(0.013908643379248976, 0.524390243902439, 'gini = 0.0\\nsamples = 1\\nvalue = [1, 0, 0]'),\n",
       " Text(0.014015359313105106, 0.5487804878048781, 'X[3] <= -5.515\\ngini = 0.305\\nsamples = 16\\nvalue = [13, 3, 0]'),\n",
       " Text(0.013979787335153062, 0.524390243902439, 'gini = 0.0\\nsamples = 1\\nvalue = [0, 1, 0]'),\n",
       " Text(0.01405093129105715, 0.524390243902439, 'X[3] <= -3.653\\ngini = 0.231\\nsamples = 15\\nvalue = [13, 2, 0]'),\n",
       " Text(0.014015359313105106, 0.5, 'X[3] <= -4.574\\ngini = 0.133\\nsamples = 14\\nvalue = [13, 1, 0]'),\n",
       " Text(0.013979787335153062, 0.47560975609756095, 'X[3] <= -4.773\\ngini = 0.444\\nsamples = 3\\nvalue = [2, 1, 0]'),\n",
       " Text(0.013944215357201018, 0.45121951219512196, 'gini = 0.0\\nsamples = 2\\nvalue = [2, 0, 0]'),\n",
       " Text(0.014015359313105106, 0.45121951219512196, 'gini = 0.0\\nsamples = 1\\nvalue = [0, 1, 0]'),\n",
       " Text(0.01405093129105715, 0.47560975609756095, 'gini = 0.0\\nsamples = 11\\nvalue = [11, 0, 0]'),\n",
       " Text(0.014086503269009192, 0.5, 'gini = 0.0\\nsamples = 1\\nvalue = [0, 1, 0]'),\n",
       " Text(0.013926429368224998, 0.5975609756097561, 'gini = 0.0\\nsamples = 1\\nvalue = [0, 1, 0]'),\n",
       " Text(0.01396200134617704, 0.6219512195121951, 'gini = 0.0\\nsamples = 1\\nvalue = [0, 1, 0]'),\n",
       " Text(0.014086503269009192, 0.6463414634146342, 'X[3] <= -2.986\\ngini = 0.102\\nsamples = 37\\nvalue = [35, 2, 0]'),\n",
       " Text(0.01405093129105715, 0.6219512195121951, 'gini = 0.0\\nsamples = 28\\nvalue = [28, 0, 0]'),\n",
       " Text(0.014122075246961236, 0.6219512195121951, 'X[1] <= 3.701\\ngini = 0.346\\nsamples = 9\\nvalue = [7, 2, 0]'),\n",
       " Text(0.014086503269009192, 0.5975609756097561, 'X[0] <= 1.326\\ngini = 0.219\\nsamples = 8\\nvalue = [7, 1, 0]'),\n",
       " Text(0.01405093129105715, 0.573170731707317, 'gini = 0.0\\nsamples = 6\\nvalue = [6, 0, 0]'),\n",
       " Text(0.014122075246961236, 0.573170731707317, 'X[3] <= -2.818\\ngini = 0.5\\nsamples = 2\\nvalue = [1, 1, 0]'),\n",
       " Text(0.014086503269009192, 0.5487804878048781, 'gini = 0.0\\nsamples = 1\\nvalue = [1, 0, 0]'),\n",
       " Text(0.01415764722491328, 0.5487804878048781, 'gini = 0.0\\nsamples = 1\\nvalue = [0, 1, 0]'),\n",
       " Text(0.01415764722491328, 0.5975609756097561, 'gini = 0.0\\nsamples = 1\\nvalue = [0, 1, 0]'),\n",
       " Text(0.01426436315876941, 0.7195121951219512, 'X[3] <= -3.506\\ngini = 0.454\\nsamples = 23\\nvalue = [15, 8, 0]'),\n",
       " Text(0.01415764722491328, 0.6951219512195121, 'X[2] <= -1.105\\ngini = 0.153\\nsamples = 12\\nvalue = [11, 1, 0]'),\n",
       " Text(0.014122075246961236, 0.6707317073170732, 'gini = 0.0\\nsamples = 8\\nvalue = [8, 0, 0]'),\n",
       " Text(0.014193219202865323, 0.6707317073170732, 'X[2] <= -1.084\\ngini = 0.375\\nsamples = 4\\nvalue = [3, 1, 0]'),\n",
       " Text(0.01415764722491328, 0.6463414634146342, 'gini = 0.0\\nsamples = 1\\nvalue = [0, 1, 0]'),\n",
       " Text(0.014228791180817366, 0.6463414634146342, 'gini = 0.0\\nsamples = 3\\nvalue = [3, 0, 0]'),\n",
       " Text(0.01437107909262554, 0.6951219512195121, 'X[3] <= -2.957\\ngini = 0.463\\nsamples = 11\\nvalue = [4, 7, 0]'),\n",
       " Text(0.014335507114673497, 0.6707317073170732, 'X[2] <= -1.369\\ngini = 0.219\\nsamples = 8\\nvalue = [1, 7, 0]'),\n",
       " Text(0.014299935136721453, 0.6463414634146342, 'gini = 0.0\\nsamples = 1\\nvalue = [1, 0, 0]'),\n",
       " Text(0.01437107909262554, 0.6463414634146342, 'gini = 0.0\\nsamples = 7\\nvalue = [0, 7, 0]'),\n",
       " Text(0.014406651070577583, 0.6707317073170732, 'gini = 0.0\\nsamples = 3\\nvalue = [3, 0, 0]'),\n",
       " Text(0.0330944471601667, 0.7682926829268293, 'X[3] <= 1.721\\ngini = 0.5\\nsamples = 3343\\nvalue = [1656, 1687, 0]'),\n",
       " Text(0.027243483966998053, 0.7439024390243902, 'X[2] <= -1.43\\ngini = 0.498\\nsamples = 2528\\nvalue = [1187, 1341, 0]'),\n",
       " Text(0.02326340374964211, 0.7195121951219512, 'X[2] <= -1.44\\ngini = 0.5\\nsamples = 1617\\nvalue = [807, 810, 0]'),\n",
       " Text(0.019913965681756237, 0.6951219512195121, 'X[3] <= -2.025\\ngini = 0.5\\nsamples = 1598\\nvalue = [792, 806, 0]'),\n",
       " Text(0.014775710341830034, 0.6707317073170732, 'X[3] <= -2.543\\ngini = 0.484\\nsamples = 149\\nvalue = [88, 61, 0]'),\n",
       " Text(0.014611189943801834, 0.6463414634146342, 'X[3] <= -2.679\\ngini = 0.493\\nsamples = 43\\nvalue = [19, 24, 0]'),\n",
       " Text(0.014460009037505649, 0.6219512195121951, 'X[0] <= 1.53\\ngini = 0.472\\nsamples = 21\\nvalue = [13, 8, 0]'),\n",
       " Text(0.014335507114673497, 0.5975609756097561, 'X[3] <= -2.766\\ngini = 0.355\\nsamples = 13\\nvalue = [10, 3, 0]'),\n",
       " Text(0.01426436315876941, 0.573170731707317, 'X[2] <= -2.269\\ngini = 0.444\\nsamples = 3\\nvalue = [1, 2, 0]'),\n",
       " Text(0.014228791180817366, 0.5487804878048781, 'gini = 0.0\\nsamples = 1\\nvalue = [1, 0, 0]'),\n",
       " Text(0.014299935136721453, 0.5487804878048781, 'gini = 0.0\\nsamples = 2\\nvalue = [0, 2, 0]'),\n",
       " Text(0.014406651070577583, 0.573170731707317, 'X[1] <= -2.743\\ngini = 0.18\\nsamples = 10\\nvalue = [9, 1, 0]'),\n",
       " Text(0.01437107909262554, 0.5487804878048781, 'gini = 0.0\\nsamples = 1\\nvalue = [0, 1, 0]'),\n",
       " Text(0.014442223048529627, 0.5487804878048781, 'gini = 0.0\\nsamples = 9\\nvalue = [9, 0, 0]'),\n",
       " Text(0.0145845109603378, 0.5975609756097561, 'X[1] <= -1.691\\ngini = 0.469\\nsamples = 8\\nvalue = [3, 5, 0]'),\n",
       " Text(0.014548938982385757, 0.573170731707317, 'X[2] <= -1.894\\ngini = 0.48\\nsamples = 5\\nvalue = [3, 2, 0]'),\n",
       " Text(0.014513367004433713, 0.5487804878048781, 'gini = 0.0\\nsamples = 2\\nvalue = [2, 0, 0]'),\n",
       " Text(0.0145845109603378, 0.5487804878048781, 'X[1] <= -2.217\\ngini = 0.444\\nsamples = 3\\nvalue = [1, 2, 0]'),\n",
       " Text(0.014548938982385757, 0.524390243902439, 'gini = 0.0\\nsamples = 2\\nvalue = [0, 2, 0]'),\n",
       " Text(0.014620082938289845, 0.524390243902439, 'gini = 0.0\\nsamples = 1\\nvalue = [1, 0, 0]'),\n",
       " Text(0.014620082938289845, 0.573170731707317, 'gini = 0.0\\nsamples = 3\\nvalue = [0, 3, 0]'),\n",
       " Text(0.014762370850098017, 0.6219512195121951, 'X[2] <= -3.218\\ngini = 0.397\\nsamples = 22\\nvalue = [6, 16, 0]'),\n",
       " Text(0.014726798872145975, 0.5975609756097561, 'gini = 0.0\\nsamples = 1\\nvalue = [1, 0, 0]'),\n",
       " Text(0.01479794282805006, 0.5975609756097561, 'X[1] <= 0.977\\ngini = 0.363\\nsamples = 21\\nvalue = [5, 16, 0]'),\n",
       " Text(0.014762370850098017, 0.573170731707317, 'X[1] <= 0.187\\ngini = 0.473\\nsamples = 13\\nvalue = [5, 8, 0]'),\n",
       " Text(0.014726798872145975, 0.5487804878048781, 'X[0] <= 0.918\\ngini = 0.397\\nsamples = 11\\nvalue = [3, 8, 0]'),\n",
       " Text(0.01469122689419393, 0.524390243902439, 'gini = 0.0\\nsamples = 1\\nvalue = [1, 0, 0]'),\n",
       " Text(0.014762370850098017, 0.524390243902439, 'X[3] <= -2.604\\ngini = 0.32\\nsamples = 10\\nvalue = [2, 8, 0]'),\n",
       " Text(0.014726798872145975, 0.5, 'gini = 0.0\\nsamples = 5\\nvalue = [0, 5, 0]'),\n",
       " Text(0.01479794282805006, 0.5, 'X[0] <= 1.53\\ngini = 0.48\\nsamples = 5\\nvalue = [2, 3, 0]'),\n",
       " Text(0.014762370850098017, 0.47560975609756095, 'X[1] <= -3.094\\ngini = 0.444\\nsamples = 3\\nvalue = [2, 1, 0]'),\n",
       " Text(0.014726798872145975, 0.45121951219512196, 'gini = 0.0\\nsamples = 1\\nvalue = [0, 1, 0]'),\n",
       " Text(0.01479794282805006, 0.45121951219512196, 'gini = 0.0\\nsamples = 2\\nvalue = [2, 0, 0]'),\n",
       " Text(0.014833514806002104, 0.47560975609756095, 'gini = 0.0\\nsamples = 2\\nvalue = [0, 2, 0]'),\n",
       " Text(0.01479794282805006, 0.5487804878048781, 'gini = 0.0\\nsamples = 2\\nvalue = [2, 0, 0]'),\n",
       " Text(0.014833514806002104, 0.573170731707317, 'gini = 0.0\\nsamples = 8\\nvalue = [0, 8, 0]'),\n",
       " Text(0.014940230739858234, 0.6463414634146342, 'X[1] <= -4.966\\ngini = 0.454\\nsamples = 106\\nvalue = [69, 37, 0]'),\n",
       " Text(0.01490465876190619, 0.6219512195121951, 'gini = 0.0\\nsamples = 3\\nvalue = [0, 3, 0]'),\n",
       " Text(0.014975802717810278, 0.6219512195121951, 'X[3] <= -2.498\\ngini = 0.442\\nsamples = 103\\nvalue = [69, 34, 0]'),\n",
       " Text(0.014940230739858234, 0.5975609756097561, 'gini = 0.0\\nsamples = 8\\nvalue = [8, 0, 0]'),\n",
       " Text(0.015011374695762322, 0.5975609756097561, 'X[3] <= -2.491\\ngini = 0.46\\nsamples = 95\\nvalue = [61, 34, 0]'),\n",
       " Text(0.014975802717810278, 0.573170731707317, 'gini = 0.0\\nsamples = 2\\nvalue = [0, 2, 0]'),\n",
       " Text(0.015046946673714364, 0.573170731707317, 'X[3] <= -2.461\\ngini = 0.451\\nsamples = 93\\nvalue = [61, 32, 0]'),\n",
       " Text(0.015011374695762322, 0.5487804878048781, 'gini = 0.0\\nsamples = 6\\nvalue = [6, 0, 0]'),\n",
       " Text(0.015082518651666408, 0.5487804878048781, 'X[2] <= -1.477\\ngini = 0.465\\nsamples = 87\\nvalue = [55, 32, 0]'),\n",
       " Text(0.015011374695762322, 0.524390243902439, 'X[1] <= 3.404\\ngini = 0.45\\nsamples = 82\\nvalue = [54, 28, 0]'),\n",
       " Text(0.014975802717810278, 0.5, 'X[1] <= 2.901\\ngini = 0.46\\nsamples = 78\\nvalue = [50, 28, 0]'),\n",
       " Text(0.014940230739858234, 0.47560975609756095, 'X[3] <= -2.069\\ngini = 0.455\\nsamples = 77\\nvalue = [50, 27, 0]'),\n",
       " Text(0.014869086783954148, 0.45121951219512196, 'X[1] <= -4.269\\ngini = 0.473\\nsamples = 65\\nvalue = [40, 25, 0]'),\n",
       " Text(0.014833514806002104, 0.4268292682926829, 'gini = 0.0\\nsamples = 2\\nvalue = [0, 2, 0]'),\n",
       " Text(0.01490465876190619, 0.4268292682926829, 'X[1] <= -3.271\\ngini = 0.464\\nsamples = 63\\nvalue = [40, 23, 0]'),\n",
       " Text(0.014869086783954148, 0.4024390243902439, 'gini = 0.0\\nsamples = 5\\nvalue = [5, 0, 0]'),\n",
       " Text(0.014940230739858234, 0.4024390243902439, 'X[1] <= -1.945\\ngini = 0.479\\nsamples = 58\\nvalue = [35, 23, 0]'),\n",
       " Text(0.014837961303246109, 0.3780487804878049, 'X[1] <= -2.635\\ngini = 0.375\\nsamples = 8\\nvalue = [2, 6, 0]'),\n",
       " Text(0.014802389325294067, 0.35365853658536583, 'X[2] <= -2.2\\ngini = 0.444\\nsamples = 3\\nvalue = [2, 1, 0]'),\n",
       " Text(0.014766817347342023, 0.32926829268292684, 'gini = 0.0\\nsamples = 1\\nvalue = [0, 1, 0]'),\n",
       " Text(0.014837961303246109, 0.32926829268292684, 'gini = 0.0\\nsamples = 2\\nvalue = [2, 0, 0]'),\n",
       " Text(0.014873533281198153, 0.35365853658536583, 'gini = 0.0\\nsamples = 5\\nvalue = [0, 5, 0]'),\n",
       " Text(0.01504250017647036, 0.3780487804878049, 'X[3] <= -2.446\\ngini = 0.449\\nsamples = 50\\nvalue = [33, 17, 0]'),\n",
       " Text(0.015006928198518316, 0.35365853658536583, 'gini = 0.0\\nsamples = 2\\nvalue = [0, 2, 0]'),\n",
       " Text(0.015078072154422403, 0.35365853658536583, 'X[0] <= 1.326\\ngini = 0.43\\nsamples = 48\\nvalue = [33, 15, 0]'),\n",
       " Text(0.014909105259150197, 0.32926829268292684, 'X[2] <= -2.171\\ngini = 0.498\\nsamples = 17\\nvalue = [9, 8, 0]'),\n",
       " Text(0.014837961303246109, 0.3048780487804878, 'X[3] <= -2.288\\ngini = 0.408\\nsamples = 7\\nvalue = [2, 5, 0]'),\n",
       " Text(0.014802389325294067, 0.2804878048780488, 'gini = 0.0\\nsamples = 3\\nvalue = [0, 3, 0]'),\n",
       " ...]"
      ]
     },
     "execution_count": 27,
     "metadata": {},
     "output_type": "execute_result"
    },
    {
     "data": {
      "image/png": "[encoded data removed]",
      "text/plain": [
       "<Figure size 432x288 with 1 Axes>"
      ]
     },
     "metadata": {
      "needs_background": "light"
     },
     "output_type": "display_data"
    }
   ],
   "source": [
    "tree.plot_tree(raw_DTC, filled=True)"
   ]
  },
  {
   "cell_type": "markdown",
   "metadata": {},
   "source": [
    "## 5.5. Post Pruning Decision Tree Classifier"
   ]
  },
  {
   "cell_type": "markdown",
   "metadata": {},
   "source": [
    "### 5.5.1. Total impurity of leaves vs effective alphas of pruned tree"
   ]
  },
  {
   "cell_type": "markdown",
   "metadata": {},
   "source": [
    "The weakest link is characterized by an effective alpha, where the nodes with the smallest effective alpha are pruned first. To get an idea of what values of ccp_alpha could be appropriate, scikit-learn provides DecisionTreeClassifier.cost_complexity_pruning_path that returns the effective alphas and the corresponding total leaf impurities at each step of the pruning process. As alpha increases, more of the tree is pruned, which increases the total impurity of its leaves."
   ]
  },
  {
   "cell_type": "code",
   "execution_count": 28,
   "metadata": {},
   "outputs": [],
   "source": [
    "path = raw_DTC.cost_complexity_pruning_path(x_train, y_train)\n",
    "ccp_alphas, impurities = path.ccp_alphas, path.impurities"
   ]
  },
  {
   "cell_type": "code",
   "execution_count": 29,
   "metadata": {},
   "outputs": [
    {
     "data": {
      "text/plain": [
       "Text(0.5, 1.0, 'Total Impurity vs effective alpha for training set')"
      ]
     },
     "execution_count": 29,
     "metadata": {},
     "output_type": "execute_result"
    },
    {
     "data": {
      "image/png": "[encoded data removed]",
      "text/plain": [
       "<Figure size 432x288 with 1 Axes>"
      ]
     },
     "metadata": {
      "needs_background": "light"
     },
     "output_type": "display_data"
    }
   ],
   "source": [
    "fig, ax = plt.subplots()\n",
    "ax.plot(ccp_alphas[:-1], impurities[:-1], marker=\"o\", drawstyle=\"steps-post\")\n",
    "ax.set_xlabel(\"effective alpha\")\n",
    "ax.set_ylabel(\"total impurity of leaves\")\n",
    "ax.set_title(\"Total Impurity vs effective alpha for training set\")"
   ]
  },
  {
   "cell_type": "markdown",
   "metadata": {},
   "source": [
    "We train a decision tree using the effective alphas. The last value in `ccp_alphas` is the alpha value that prunes the whole tree, leaving the tree, `classifiers[-1]`, with one node.\n",
    "\n",
    "```\n",
    "classifiers = []\n",
    "for ccp_alpha in ccp_alphas:\n",
    "    classifier = DecisionTreeClassifier(random_state=0, ccp_alpha=ccp_alpha)\n",
    "    classifier.fit(x_train, y_train)\n",
    "    classifiers.append(classifier)\n",
    "```"
   ]
  },
  {
   "cell_type": "markdown",
   "metadata": {},
   "source": [
    " We remove the last element in `classifiers` and `ccp_alphas`, because it is the trivial tree with only one node. Here we show that the number of nodes and tree depth decreases as alpha increases.\n",
    "\n",
    "```\n",
    "classifiers = classifiers[:-1]\n",
    "ccp_alphas = ccp_alphas[:-1]\n",
    "\n",
    "node_counts = [classifier.tree_.node_count for clf in classifiers]\n",
    "depth = [classifier.tree_.max_depth for clf in classifiers]\n",
    "fig, ax = plt.subplots(2, 1)\n",
    "ax[0].plot(ccp_alphas, node_counts, marker=\"o\", drawstyle=\"steps-post\")\n",
    "ax[0].set_xlabel(\"alpha\")\n",
    "ax[0].set_ylabel(\"number of nodes\")\n",
    "ax[0].set_title(\"Number of nodes vs alpha\")\n",
    "ax[1].plot(ccp_alphas, depth, marker=\"o\", drawstyle=\"steps-post\")\n",
    "ax[1].set_xlabel(\"alpha\")\n",
    "ax[1].set_ylabel(\"depth of tree\")\n",
    "ax[1].set_title(\"Depth vs alpha\")\n",
    "fig.tight_layout()\n",
    "```\n"
   ]
  },
  {
   "cell_type": "markdown",
   "metadata": {},
   "source": [
    "When `ccp_alpha` is set to zero and keeping the other default parameters of DecisionTreeClassifier, the tree overfits, leading to a 100% training accuracy and 88% testing accuracy. As alpha increases, more of the tree is pruned, thus creating a decision tree that generalizes better. In this example, setting ccp_alpha=0.015 maximizes the testing accuracy.\n",
    "\n",
    "\n",
    "```\n",
    "train_scores = [classifier.score(x_train, y_train) for clf in classifiers]\n",
    "test_scores = [classifier.score(x_test, y_test) for clf in classifiers]\n",
    "\n",
    "fig, ax = plt.subplots()\n",
    "ax.set_xlabel(\"alpha\")\n",
    "ax.set_ylabel(\"accuracy\")\n",
    "ax.set_title(\"Accuracy vs alpha for training and testing sets\")\n",
    "ax.plot(ccp_alphas, train_scores, marker=\"o\", label=\"train\", drawstyle=\"steps-post\")\n",
    "ax.plot(ccp_alphas, test_scores, marker=\"o\", label=\"test\", drawstyle=\"steps-post\")\n",
    "ax.legend()\n",
    "plt.show()\n",
    "\n",
    "```"
   ]
  },
  {
   "cell_type": "markdown",
   "metadata": {},
   "source": [
    "### 5.5.2. Tunning the Hyper parameters"
   ]
  },
  {
   "cell_type": "code",
   "execution_count": 35,
   "metadata": {},
   "outputs": [],
   "source": [
    "from sklearn.model_selection import GridSearchCV"
   ]
  },
  {
   "cell_type": "code",
   "execution_count": 34,
   "metadata": {},
   "outputs": [],
   "source": [
    "grid_param = {\n",
    "    'criterion': ['gini', 'entropy'],\n",
    "    'max_depth' : range(2,32,1),\n",
    "    'min_samples_leaf' : range(1,10,1),\n",
    "    'min_samples_split': range(2,10,1),\n",
    "    'splitter' : ['best', 'random']\n",
    "    \n",
    "}"
   ]
  },
  {
   "cell_type": "code",
   "execution_count": 38,
   "metadata": {},
   "outputs": [],
   "source": [
    "grid_DTC = GridSearchCV(estimator=raw_DTC,param_grid=grid_param,cv=5)"
   ]
  },
  {
   "cell_type": "code",
   "execution_count": 39,
   "metadata": {},
   "outputs": [
    {
     "data": {
      "text/plain": [
       "GridSearchCV(cv=5, estimator=DecisionTreeClassifier(),\n",
       "             param_grid={'criterion': ['gini', 'entropy'],\n",
       "                         'max_depth': range(2, 32),\n",
       "                         'min_samples_leaf': range(1, 10),\n",
       "                         'min_samples_split': range(2, 10),\n",
       "                         'splitter': ['best', 'random']})"
      ]
     },
     "execution_count": 39,
     "metadata": {},
     "output_type": "execute_result"
    }
   ],
   "source": [
    "grid_DTC.fit(x_train, y_train)"
   ]
  },
  {
   "cell_type": "code",
   "execution_count": 41,
   "metadata": {},
   "outputs": [
    {
     "data": {
      "text/plain": [
       "DecisionTreeClassifier(max_depth=19, min_samples_leaf=9, min_samples_split=5)"
      ]
     },
     "execution_count": 41,
     "metadata": {},
     "output_type": "execute_result"
    }
   ],
   "source": [
    "grid_DTC.best_estimator_"
   ]
  },
  {
   "cell_type": "markdown",
   "metadata": {},
   "source": [
    "### 5.5.3. Tunned Model"
   ]
  },
  {
   "cell_type": "markdown",
   "metadata": {},
   "source": [
    "Building the tunned model with best found parameters for `raw_DTC`"
   ]
  },
  {
   "cell_type": "code",
   "execution_count": 42,
   "metadata": {},
   "outputs": [],
   "source": [
    "tunned_DTC = DecisionTreeClassifier(max_depth=19, min_samples_leaf=9, min_samples_split=5)"
   ]
  },
  {
   "cell_type": "code",
   "execution_count": 43,
   "metadata": {},
   "outputs": [
    {
     "data": {
      "text/plain": [
       "DecisionTreeClassifier(max_depth=19, min_samples_leaf=9, min_samples_split=5)"
      ]
     },
     "execution_count": 43,
     "metadata": {},
     "output_type": "execute_result"
    }
   ],
   "source": [
    "tunned_DTC.fit(x_train, y_train)"
   ]
  },
  {
   "cell_type": "markdown",
   "metadata": {},
   "source": [
    "## 5.6. Performance Metrics"
   ]
  },
  {
   "cell_type": "markdown",
   "metadata": {},
   "source": [
    "### 5.6.1. Raw DTC"
   ]
  },
  {
   "cell_type": "code",
   "execution_count": 57,
   "metadata": {},
   "outputs": [],
   "source": [
    "from sklearn.metrics import classification_report, accuracy_score, confusion_matrix"
   ]
  },
  {
   "cell_type": "code",
   "execution_count": 44,
   "metadata": {},
   "outputs": [],
   "source": [
    "y_predict_raw_DTC = raw_DTC.predict(scaler.transform(x_test))"
   ]
  },
  {
   "cell_type": "code",
   "execution_count": 54,
   "metadata": {},
   "outputs": [
    {
     "data": {
      "text/plain": [
       "0.6652505446623094"
      ]
     },
     "execution_count": 54,
     "metadata": {},
     "output_type": "execute_result"
    }
   ],
   "source": [
    "accuracy_score(y_predict_raw_DTC, y_test)"
   ]
  },
  {
   "cell_type": "code",
   "execution_count": 55,
   "metadata": {},
   "outputs": [
    {
     "name": "stdout",
     "output_type": "stream",
     "text": [
      "              precision    recall  f1-score   support\n",
      "\n",
      "           1       0.60      0.58      0.59     15654\n",
      "           2       0.59      0.59      0.59     15269\n",
      "           3       0.81      0.83      0.82     14977\n",
      "\n",
      "    accuracy                           0.67     45900\n",
      "   macro avg       0.67      0.67      0.67     45900\n",
      "weighted avg       0.66      0.67      0.66     45900\n",
      "\n"
     ]
    }
   ],
   "source": [
    "print(classification_report(y_predict_raw_DTC, y_test))"
   ]
  },
  {
   "cell_type": "markdown",
   "metadata": {},
   "source": [
    "### 5.6.2. Tunned DTC"
   ]
  },
  {
   "cell_type": "code",
   "execution_count": 58,
   "metadata": {},
   "outputs": [],
   "source": [
    "y_predict_tunned_DTC = tunned_DTC.predict(scaler.transform(x_test))"
   ]
  },
  {
   "cell_type": "code",
   "execution_count": 59,
   "metadata": {},
   "outputs": [
    {
     "data": {
      "text/plain": [
       "0.702723311546841"
      ]
     },
     "execution_count": 59,
     "metadata": {},
     "output_type": "execute_result"
    }
   ],
   "source": [
    "accuracy_score(y_predict_tunned_DTC, y_test)"
   ]
  },
  {
   "cell_type": "code",
   "execution_count": 60,
   "metadata": {},
   "outputs": [
    {
     "name": "stdout",
     "output_type": "stream",
     "text": [
      "              precision    recall  f1-score   support\n",
      "\n",
      "           1       0.61      0.65      0.63     14401\n",
      "           2       0.64      0.62      0.63     15713\n",
      "           3       0.86      0.84      0.85     15786\n",
      "\n",
      "    accuracy                           0.70     45900\n",
      "   macro avg       0.70      0.70      0.70     45900\n",
      "weighted avg       0.71      0.70      0.70     45900\n",
      "\n"
     ]
    }
   ],
   "source": [
    "print(classification_report(y_predict_tunned_DTC, y_test))"
   ]
  },
  {
   "cell_type": "markdown",
   "metadata": {},
   "source": [
    "# 6. Pickling"
   ]
  },
  {
   "cell_type": "code",
   "execution_count": 61,
   "metadata": {},
   "outputs": [],
   "source": [
    "import pickle"
   ]
  },
  {
   "cell_type": "code",
   "execution_count": 62,
   "metadata": {},
   "outputs": [],
   "source": [
    "DTC = pickle.dump(raw_DTC, open('raw_DTC_model.sav', 'wb'))"
   ]
  },
  {
   "cell_type": "code",
   "execution_count": 63,
   "metadata": {},
   "outputs": [],
   "source": [
    "TDTC = pickle.dump(tunned_DTC, open('tunned_DTC_model.sav', 'wb'))"
   ]
  }
 ],
 "metadata": {
  "kernelspec": {
   "display_name": "Python 3.9.12 ('base')",
   "language": "python",
   "name": "python3"
  },
  "language_info": {
   "codemirror_mode": {
    "name": "ipython",
    "version": 3
   },
   "file_extension": ".py",
   "mimetype": "text/x-python",
   "name": "python",
   "nbconvert_exporter": "python",
   "pygments_lexer": "ipython3",
   "version": "3.9.12"
  },
  "orig_nbformat": 4,
  "vscode": {
   "interpreter": {
    "hash": "198dc38c81252feb4faa0d475279f5f6c993dd4570bd3709069413259282040c"
   }
  }
 },
 "nbformat": 4,
 "nbformat_minor": 2
}
